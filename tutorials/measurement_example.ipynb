{
 "cells": [
  {
   "cell_type": "markdown",
   "metadata": {},
   "source": [
    "# Describing measurements"
   ]
  },
  {
   "cell_type": "code",
   "execution_count": 1,
   "metadata": {},
   "outputs": [],
   "source": [
    "import numpy as np\n",
    "import pandas as pd\n",
    "import sympy\n",
    "\n",
    "import weldx\n",
    "import weldx.measurement as msm\n",
    "import weldx.transformations as tf\n",
    "from weldx import Q_\n",
    "from weldx import util"
   ]
  },
  {
   "cell_type": "markdown",
   "metadata": {},
   "source": [
    "## Overview\n",
    "In this short example we use welding voltage and current measurements to show how to describe and store measurements with associated measurement chains. This includes describing the measurement equipment and its metadata, describing all the relevant transformation steps from raw-data to the final output and the data itself. The final result is a `MeasurementChain` that should be easy to follow and represent the complete data processing pipeline."
   ]
  },
  {
   "cell_type": "markdown",
   "metadata": {},
   "source": [
    "## Generating the measurement data\n",
    "We start by creating some \"dummy\" datasets that represent the current and voltage measurements.\n",
    "In a real application, these would be the datasets that we would copy from our measurement equipment (e.g. downloaded form a HKS-WeldQAS, oscilloscope or similar systems).\n",
    "The values in these dataset represent the actual physical current and voltage data in A and V."
   ]
  },
  {
   "cell_type": "code",
   "execution_count": 2,
   "metadata": {},
   "outputs": [],
   "source": [
    "time = pd.timedelta_range(start=\"0s\", end=\"10s\", freq=\"1ms\")"
   ]
  },
  {
   "cell_type": "code",
   "execution_count": 3,
   "metadata": {},
   "outputs": [
    {
     "data": {
      "text/plain": [
       "<TimeSeries>\n",
       "Time:\n",
       "\tTimedeltaIndex([       '0 days 00:00:00', '0 days 00:00:00.001000',\n",
       "                '0 days 00:00:00.002000', '0 days 00:00:00.003000',\n",
       "                '0 days 00:00:00.004000', '0 days 00:00:00.005000',\n",
       "                '0 days 00:00:00.006000', '0 days 00:00:00.007000',\n",
       "                '0 days 00:00:00.008000', '0 days 00:00:00.009000',\n",
       "                ...\n",
       "                '0 days 00:00:09.991000', '0 days 00:00:09.992000',\n",
       "                '0 days 00:00:09.993000', '0 days 00:00:09.994000',\n",
       "                '0 days 00:00:09.995000', '0 days 00:00:09.996000',\n",
       "                '0 days 00:00:09.997000', '0 days 00:00:09.998000',\n",
       "                '0 days 00:00:09.999000',        '0 days 00:00:10'],\n",
       "               dtype='timedelta64[ns]', length=10001, freq=None)\n",
       "Values:\n",
       "\t[300.         301.25581039 302.50666467 ... 297.49333533 298.74418961\n",
       " 300.        ]\n",
       "Interpolation:\n",
       "\tlinear\n",
       "Units:\n",
       "\tampere"
      ]
     },
     "execution_count": 3,
     "metadata": {},
     "output_type": "execute_result"
    }
   ],
   "source": [
    "I_ts = util.sine(f=Q_(10, \"1/s\"), amp=Q_(20, \"A\"), bias=Q_(300, \"A\"))\n",
    "I = I_ts.interp_time(time)\n",
    "\n",
    "current_data = weldx.TimeSeries(data=I.data, time=time)\n",
    "current_data"
   ]
  },
  {
   "cell_type": "code",
   "execution_count": 4,
   "metadata": {},
   "outputs": [
    {
     "data": {
      "text/plain": [
       "<TimeSeries>\n",
       "Time:\n",
       "\tTimedeltaIndex([       '0 days 00:00:00', '0 days 00:00:00.001000',\n",
       "                '0 days 00:00:00.002000', '0 days 00:00:00.003000',\n",
       "                '0 days 00:00:00.004000', '0 days 00:00:00.005000',\n",
       "                '0 days 00:00:00.006000', '0 days 00:00:00.007000',\n",
       "                '0 days 00:00:00.008000', '0 days 00:00:00.009000',\n",
       "                ...\n",
       "                '0 days 00:00:09.991000', '0 days 00:00:09.992000',\n",
       "                '0 days 00:00:09.993000', '0 days 00:00:09.994000',\n",
       "                '0 days 00:00:09.995000', '0 days 00:00:09.996000',\n",
       "                '0 days 00:00:09.997000', '0 days 00:00:09.998000',\n",
       "                '0 days 00:00:09.999000',        '0 days 00:00:10'],\n",
       "               dtype='timedelta64[ns]', length=10001, freq=None)\n",
       "Values:\n",
       "\t[40.29950025 40.48633974 40.67125987 ... 39.92301733 40.11147877\n",
       " 40.29950025]\n",
       "Interpolation:\n",
       "\tlinear\n",
       "Units:\n",
       "\tvolt"
      ]
     },
     "execution_count": 4,
     "metadata": {},
     "output_type": "execute_result"
    }
   ],
   "source": [
    "U_ts = util.sine(f=Q_(10, \"1/s\"), amp=Q_(3, \"V\"), bias=Q_(40, \"V\"), phase=Q_(0.1, \"rad\"))\n",
    "U = U_ts.interp_time(time)\n",
    "\n",
    "voltage_data = weldx.TimeSeries(data=U.data, time=time)\n",
    "voltage_data"
   ]
  },
  {
   "cell_type": "markdown",
   "metadata": {},
   "source": [
    "> todo: rewrite after discussing this with the group\n",
    "\n",
    "It is important to note the type and structure of the `current_data` and `voltage_data` datasets:\n",
    "\n",
    "- they are created as `xarray.DataArrays`\n",
    "- the data itself is a `pint.Quantity` i.e. a numpy array with associated unit. For the current measurement this is `ampere`, the voltage is given in `volt`. Using quantities is an important core concept of measurements !\n",
    "- each `DataArray` has a `time` dimension and coordinate using numpy datetime formats."
   ]
  },
  {
   "cell_type": "markdown",
   "metadata": {},
   "source": [
    "## Equipment and Software\n",
    "Next, let's define some of the equipment and software that is used throughout the measurement chain. We will use and add more information to these objects later.\n",
    "\n",
    "In out example, two types of hardware equipment are used:\n",
    "\n",
    "- The [`HKS P1000-S3`](https://hks-prozesstechnik.de/en/sensors-2/) is a standard welding process sensor that detects the welding voltage and current using a hall sensor. The result is output as two analog signals scaled to +/- 10 V.\n",
    "- The [`Beckhoff ELM3002-0000`](https://www.beckhoff.com/ELM3002/) is a fieldbus AD-converter terminal that picks up the analog signals of the HKS Sensor and transmits them digitally to the control software.\n",
    "\n",
    "The final piece involved in the measurement chain is the Software used to record, scale and save both the welding current and voltage measurements. We define the software version and name used during the example using built-in ASDF types."
   ]
  },
  {
   "cell_type": "code",
   "execution_count": 5,
   "metadata": {},
   "outputs": [],
   "source": [
    "HKS_sensor = msm.MeasurementEquipment(name=\"HKS P1000-S3\")\n",
    "\n",
    "BH_ELM = msm.MeasurementEquipment(name=\"Beckhoff ELM3002-0000\")"
   ]
  },
  {
   "cell_type": "code",
   "execution_count": 6,
   "metadata": {},
   "outputs": [],
   "source": [
    "from asdf.tags.core import Software\n",
    "\n",
    "twincat_scope = Software(name=\"Beckhoff TwinCAT ScopeView\", version=\"3.4.3143\")"
   ]
  },
  {
   "cell_type": "markdown",
   "metadata": {},
   "source": [
    "## Defining a measurement chain: current measurement\n",
    "Now we define the missing elements of our measurement chain and bundle everything together. A core concept of the chain are `signals` that go in and out of `transformations` which define mathematical operations of the signals, forming the chain.\n",
    "\n",
    "Each measurement chain starts with a source signal. This is the point where our physical process or quantity is initially detected by a sensor. Since every `MeasurementChain` needs at least a source, we need to provide the corresponding information when creating an instance of this class. The parameters are the `source_name`, the `output_signal_type` and `output_signal_unit` as well as the `source_error` representing the uncertainty attached to the signal source. \n",
    "\n",
    "For our current measurement, the source outputs an **analog Signal** of unit **V**. Since there is no recording of this measurement we do not provide the data. According to the spec sheet of the sensor the measurement error in this initial step is **0.1 %** which can be documented using the `Error` property (again using quantities)."
   ]
  },
  {
   "cell_type": "code",
   "execution_count": 7,
   "metadata": {},
   "outputs": [],
   "source": [
    "welding_current_chain = msm.MeasurementChain.from_parameters(\n",
    "    name=\"welding current measurement chain\",\n",
    "    source_name=\"Current Sensor\",\n",
    "    output_signal_type=\"analog\", \n",
    "    output_signal_unit=\"V\",\n",
    "    source_error=msm.Error(Q_(0.1, \"percent\")),\n",
    ")"
   ]
  },
  {
   "cell_type": "markdown",
   "metadata": {},
   "source": [
    "We associate the current measurement source with the HKS sensor by adding it to its list of sources. We now have the start of our measurement chain defined."
   ]
  },
  {
   "cell_type": "code",
   "execution_count": 8,
   "metadata": {},
   "outputs": [],
   "source": [
    "#HKS_sensor.sources = []\n",
    "#HKS_sensor.sources.append(src_current)"
   ]
  },
  {
   "cell_type": "markdown",
   "metadata": {},
   "source": [
    "The next step in the chain is picking up the analog voltage signal from our source with the Beckhoff AD converter terminal which transform the signal into an internal signed integer value. The formula describing this linear transformation with input `x` is\n",
    "```\n",
    "a * x + b\n",
    "32768 / (10 V) * x  + 0\n",
    "```\n",
    "We express this signal transformation as an analytical formula created with the `sympy` package. Based on the above formula we also define the static parameters `a` and `b` in the `MathematicalExpression`. Note that we use quantities here as well !\n",
    "Since our result is a dimensionless integer `a` has the unit **1/V** and `b` is dimensionless which we indicate with `\"\"`."
   ]
  },
  {
   "cell_type": "code",
   "execution_count": 9,
   "metadata": {},
   "outputs": [],
   "source": [
    "from weldx.asdf.tags.weldx.core.mathematical_expression import MathematicalExpression\n",
    "\n",
    "[a, x, b] = sympy.symbols(\"a x b\")\n",
    "current_AD_func = MathematicalExpression(a * x + b)\n",
    "current_AD_func.set_parameter(\"a\", Q_(32768.0 / 10.0, \"1/V\"))\n",
    "current_AD_func.set_parameter(\"b\", Q_(0.0, \"\"))"
   ]
  },
  {
   "cell_type": "markdown",
   "metadata": {},
   "source": [
    "Now that we have the transform function we can define our `DataTransformation`. The `input_signal` of our transformation is the `src_current.output_signal` object from our source signal defined earlier.\n",
    "Our new Transformation outputs a new **dimensionless** signal of type **digital**. Once again, since we have no data record of this we do not assign any data object to the signal. The Beckhoff AD converter lists the measurement Error at **0.01 %**."
   ]
  },
  {
   "cell_type": "code",
   "execution_count": 10,
   "metadata": {},
   "outputs": [],
   "source": [
    "#current_AD_transform = msm.DataTransformation(\n",
    "#    name=\"AD conversion current measurement\",\n",
    "#    input_signal=src_current.output_signal,\n",
    "#    output_signal=msm.Signal(\"digital\", \"\", data=None),\n",
    "#    error=msm.Error(Q_(0.01, \"percent\")),\n",
    "#    func=current_AD_func,\n",
    "#)\n",
    "welding_current_chain.create_transformation(\n",
    "    name=\"AD conversion current measurement\",\n",
    "    output_signal_type=\"digital\",\n",
    "    output_signal_unit=\"\",\n",
    "    error=msm.Error(Q_(0.01, \"percent\")),\n",
    "    func=current_AD_func                \n",
    ")\n"
   ]
  },
  {
   "cell_type": "markdown",
   "metadata": {},
   "source": [
    "We also associate the transformation to the Beckhoff equipment:"
   ]
  },
  {
   "cell_type": "code",
   "execution_count": 11,
   "metadata": {},
   "outputs": [],
   "source": [
    "# BH_ELM.data_transformations = []\n",
    "# BH_ELM.data_transformations.append(current_AD_transform)"
   ]
  },
  {
   "cell_type": "markdown",
   "metadata": {},
   "source": [
    "Similar to the AD conversion, we add the final step of our signal processing chain: digitally converting the signal to the final physical representation of the welding current. The current calibration formula from our integer values to the real current values is as follows:\n",
    "```\n",
    "1000 A / 32768 * x  + 0 A\n",
    "```\n",
    "Put into a new `sympy` expression:"
   ]
  },
  {
   "cell_type": "code",
   "execution_count": 12,
   "metadata": {},
   "outputs": [],
   "source": [
    "# define current output calibration expression and transformation\n",
    "current_calib_func = MathematicalExpression(a * x + b)\n",
    "current_calib_func.set_parameter(\"a\", Q_(1000.0 / 32768.0, \"A\"))\n",
    "current_calib_func.set_parameter(\"b\", Q_(0.0, \"A\"))"
   ]
  },
  {
   "cell_type": "markdown",
   "metadata": {},
   "source": [
    "We create the final transformation step:\n",
    "\n",
    "- the input signal now is the output signal of the previous AD conversion\n",
    "- the output signal is our final current measurement representation\n",
    "- we add the our measurement data to this signal !\n",
    "- we add the software as a meta field to the signal transformation"
   ]
  },
  {
   "cell_type": "code",
   "execution_count": 13,
   "metadata": {},
   "outputs": [],
   "source": [
    "#current_calib_transform = msm.DataTransformation(\n",
    "#    name=\"Calibration current measurement\",\n",
    "#    input_signal=current_AD_transform.output_signal,\n",
    "#    output_signal=msm.Signal(\"digital\", \"A\", data=current_data),\n",
    "#    error=msm.Error(0.0),\n",
    "#    func=current_calib_func,\n",
    "#    meta=twincat_scope,\n",
    "#)\n",
    "\n",
    "# todo:\n",
    "# - add signal data parameter?\n",
    "# - add meta data\n",
    "welding_current_chain.create_transformation(\n",
    "    name=\"Calibration current measurement\",\n",
    "    output_signal_type=\"digital\",\n",
    "    output_signal_unit=\"A\",\n",
    "    error=msm.Error(0.0),\n",
    "    func=current_calib_func\n",
    ")\n",
    "welding_current_chain.add_signal_data(current_data)"
   ]
  },
  {
   "cell_type": "markdown",
   "metadata": {},
   "source": [
    "Now that our `MeasurementChain` is complete, we can visualize it using its `plot` function."
   ]
  },
  {
   "cell_type": "code",
   "execution_count": 14,
   "metadata": {},
   "outputs": [
    {
     "data": {
      "text/plain": [
       "<AxesSubplot:title={'center':'welding current measurement chain'}>"
      ]
     },
     "execution_count": 14,
     "metadata": {},
     "output_type": "execute_result"
    },
    {
     "data": {
      "image/png": "[encoded data removed]",
      "text/plain": [
       "<Figure size 864x432 with 1 Axes>"
      ]
     },
     "metadata": {},
     "output_type": "display_data"
    }
   ],
   "source": [
    "welding_current_chain.plot()"
   ]
  },
  {
   "cell_type": "markdown",
   "metadata": {},
   "source": [
    "Finally the `Measurement` is our measurement chain with another link to the data."
   ]
  },
  {
   "cell_type": "code",
   "execution_count": 15,
   "metadata": {},
   "outputs": [],
   "source": [
    "welding_current = msm.Measurement(\n",
    "    name=\"welding current measurement\",\n",
    "    data=[current_data],\n",
    "    measurement_chain=welding_current_chain,\n",
    ")"
   ]
  },
  {
   "cell_type": "markdown",
   "metadata": {},
   "source": [
    "## voltage measurement\n",
    "We follow the same procedure described in the current measurement here :-)"
   ]
  },
  {
   "cell_type": "code",
   "execution_count": 16,
   "metadata": {},
   "outputs": [
    {
     "data": {
      "text/plain": [
       "<AxesSubplot:title={'center':'welding voltage measurement'}>"
      ]
     },
     "execution_count": 16,
     "metadata": {},
     "output_type": "execute_result"
    },
    {
     "data": {
      "image/png": "[encoded data removed]",
      "text/plain": [
       "<Figure size 864x432 with 1 Axes>"
      ]
     },
     "metadata": {},
     "output_type": "display_data"
    }
   ],
   "source": [
    "welding_voltage_chain = msm.MeasurementChain.from_parameters(\n",
    "    name=\"welding voltage measurement\",\n",
    "    source_name=\"Voltage Sensor\",\n",
    "    output_signal_type=\"analog\",\n",
    "    output_signal_unit=\"V\",\n",
    "    source_error=msm.Error(Q_(0.1, \"percent\"))\n",
    ") \n",
    "\n",
    "#HKS_sensor.sources.append(src_voltage)\n",
    "\n",
    "# define AD conversion expression and transformation step\n",
    "[a, x, b] = sympy.symbols(\"a x b\")\n",
    "voltage_ad_func = MathematicalExpression(a * x + b)\n",
    "voltage_ad_func.set_parameter(\"a\", Q_(32768.0 / 10.0, \"1/V\"))\n",
    "voltage_ad_func.set_parameter(\"b\", Q_(0.0, \"\"))\n",
    "\n",
    "#voltage_AD_transform = msm.DataTransformation(\n",
    "#    name=\"AD conversion voltage measurement\",\n",
    "#    input_signal=src_voltage.output_signal,\n",
    "#    output_signal=msm.Signal(\"digital\", \"\", data=None),\n",
    "#    error=msm.Error(Q_(0.01, \"percent\")),\n",
    "#    func=voltage_ad_func,\n",
    "#)\n",
    "\n",
    "welding_voltage_chain.create_transformation(\n",
    "    name=\"AD conversion voltage measurement\",\n",
    "    output_signal_type=\"digital\",\n",
    "    output_signal_unit=\"\",\n",
    "    error=msm.Error(Q_(0.01, \"percent\")),\n",
    "    func=voltage_ad_func\n",
    ")\n",
    "\n",
    "#HKS_sensor.data_transformations.append(voltage_AD_transform)\n",
    "\n",
    "# define voltage output calibration expression and transformation\n",
    "voltage_calib_func = MathematicalExpression(a * x + b)\n",
    "voltage_calib_func.set_parameter(\"a\", Q_(100.0 / 32768.0, \"V\"))\n",
    "voltage_calib_func.set_parameter(\"b\", Q_(0.0, \"V\"))\n",
    "\n",
    "#voltage_calib_transform = msm.DataTransformation(\n",
    "#    name=\"Calibration voltage measurement\",\n",
    "#    input_signal=voltage_AD_transform.output_signal,\n",
    "#    output_signal=msm.Signal(\"digital\", \"V\", data=voltage_data),\n",
    "#    error=msm.Error(0.0),\n",
    "#    func=voltage_calib_func,\n",
    "#    meta=twincat_scope,\n",
    "#)\n",
    "\n",
    "# todo: add meta\n",
    "welding_voltage_chain.create_transformation(\n",
    "    name=\"Calibration voltage measurement\",\n",
    "    output_signal_type=\"digital\",\n",
    "    output_signal_unit=\"V\",\n",
    "    error=msm.Error(0.0),\n",
    "    func=voltage_calib_func\n",
    ")\n",
    "welding_voltage_chain.add_signal_data(voltage_data)\n",
    "\n",
    "#welding_voltage_chain = msm.MeasurementChain(\n",
    "#    name=\"welding voltage measurement chain\",\n",
    "#    data_source=src_voltage,\n",
    "#    data_processors=[voltage_AD_transform, voltage_calib_transform],\n",
    "#)\n",
    "\n",
    "welding_voltage = msm.Measurement(\n",
    "    name=\"welding voltage measurement\",\n",
    "    data=[voltage_data],\n",
    "    measurement_chain=welding_voltage_chain,\n",
    ")\n",
    "welding_voltage_chain.plot()"
   ]
  },
  {
   "cell_type": "markdown",
   "metadata": {},
   "source": [
    "## Coordinate Systems\n",
    "\n",
    "Most data does not make much sense without being able to determine where it was recorded in relation to a specimen or other measurement spots. Therefore, we define coordinate systems and their orientations towards each other. The basic principles are already explained in the transformation tutorials, so we will just define some coordinate systems without further explanation. To keep things simple, no time dependent coordinates are considered."
   ]
  },
  {
   "cell_type": "code",
   "execution_count": 17,
   "metadata": {},
   "outputs": [],
   "source": [
    "lcs_specimen_in_root = tf.LocalCoordinateSystem(\n",
    "    coordinates=Q_(np.asarray([100, 75, 0]), \"mm\")\n",
    ")\n",
    "lcs_flange_in_root = tf.LocalCoordinateSystem(\n",
    "    orientation=tf.WXRotation.from_euler(\"x\",np.pi / 2).as_matrix(),\n",
    "    coordinates=Q_(np.asarray([115, -10, 140]), \"mm\"),\n",
    ")\n",
    "lcs_torch_in_flange = tf.LocalCoordinateSystem(\n",
    "    coordinates=Q_(np.asarray([100, 75, 0]), \"mm\")\n",
    ")\n",
    "\n",
    "coordinate_systems = tf.CoordinateSystemManager(\"root\")\n",
    "coordinate_systems.add_cs(\"specimen\", \"root\", lcs_specimen_in_root)\n",
    "coordinate_systems.add_cs(\"flange\", \"root\", lcs_flange_in_root)\n",
    "coordinate_systems.add_cs(\"torch\", \"flange\", lcs_torch_in_flange)"
   ]
  },
  {
   "cell_type": "markdown",
   "metadata": {},
   "source": [
    "> **TODO:** Connect data to coordinate systems"
   ]
  },
  {
   "cell_type": "markdown",
   "metadata": {},
   "source": [
    "## Writing to ASDF\n",
    "Once we have define all object we can write them to a ASDF file. To make the file easier to read we place some elements earlier in the tree."
   ]
  },
  {
   "cell_type": "code",
   "execution_count": 18,
   "metadata": {},
   "outputs": [],
   "source": [
    "equipment = [HKS_sensor, BH_ELM]\n",
    "measurement_data = [current_data, voltage_data]\n",
    "measurements = [welding_current, welding_voltage]\n",
    "\n",
    "tree = {\n",
    "    #\"coordinate_systems\": coordinate_systems,\n",
    "    \"equipment\": equipment,\n",
    "    \"data\": measurement_data,\n",
    "    \"measurements\": measurements,\n",
    "    # \"expression\": expr_01,\n",
    "    # \"measurement_chains\": measurement_chains,\n",
    "    # \"data_sources\": sources,\n",
    "    # \"data_processors\": processors,\n",
    "}\n",
    "buffer = weldx.asdf.util._write_buffer(tree)"
   ]
  },
  {
   "cell_type": "code",
   "execution_count": 19,
   "metadata": {},
   "outputs": [
    {
     "data": {
      "text/html": [
       "<style type=\"text/css\">pre { line-height: 125%; }\n",
       "td.linenos .normal { color: inherit; background-color: transparent; padding-left: 5px; padding-right: 5px; }\n",
       "span.linenos { color: inherit; background-color: transparent; padding-left: 5px; padding-right: 5px; }\n",
       "td.linenos .special { color: #000000; background-color: #ffffc0; padding-left: 5px; padding-right: 5px; }\n",
       "span.linenos.special { color: #000000; background-color: #ffffc0; padding-left: 5px; padding-right: 5px; }\n",
       ".highlight .hll { background-color: #ffffcc }\n",
       ".highlight { background: #f8f8f8; }\n",
       ".highlight .c { color: #408080; font-style: italic } /* Comment */\n",
       ".highlight .err { border: 1px solid #FF0000 } /* Error */\n",
       ".highlight .k { color: #008000; font-weight: bold } /* Keyword */\n",
       ".highlight .o { color: #666666 } /* Operator */\n",
       ".highlight .ch { color: #408080; font-style: italic } /* Comment.Hashbang */\n",
       ".highlight .cm { color: #408080; font-style: italic } /* Comment.Multiline */\n",
       ".highlight .cp { color: #BC7A00 } /* Comment.Preproc */\n",
       ".highlight .cpf { color: #408080; font-style: italic } /* Comment.PreprocFile */\n",
       ".highlight .c1 { color: #408080; font-style: italic } /* Comment.Single */\n",
       ".highlight .cs { color: #408080; font-style: italic } /* Comment.Special */\n",
       ".highlight .gd { color: #A00000 } /* Generic.Deleted */\n",
       ".highlight .ge { font-style: italic } /* Generic.Emph */\n",
       ".highlight .gr { color: #FF0000 } /* Generic.Error */\n",
       ".highlight .gh { color: #000080; font-weight: bold } /* Generic.Heading */\n",
       ".highlight .gi { color: #00A000 } /* Generic.Inserted */\n",
       ".highlight .go { color: #888888 } /* Generic.Output */\n",
       ".highlight .gp { color: #000080; font-weight: bold } /* Generic.Prompt */\n",
       ".highlight .gs { font-weight: bold } /* Generic.Strong */\n",
       ".highlight .gu { color: #800080; font-weight: bold } /* Generic.Subheading */\n",
       ".highlight .gt { color: #0044DD } /* Generic.Traceback */\n",
       ".highlight .kc { color: #008000; font-weight: bold } /* Keyword.Constant */\n",
       ".highlight .kd { color: #008000; font-weight: bold } /* Keyword.Declaration */\n",
       ".highlight .kn { color: #008000; font-weight: bold } /* Keyword.Namespace */\n",
       ".highlight .kp { color: #008000 } /* Keyword.Pseudo */\n",
       ".highlight .kr { color: #008000; font-weight: bold } /* Keyword.Reserved */\n",
       ".highlight .kt { color: #B00040 } /* Keyword.Type */\n",
       ".highlight .m { color: #666666 } /* Literal.Number */\n",
       ".highlight .s { color: #BA2121 } /* Literal.String */\n",
       ".highlight .na { color: #7D9029 } /* Name.Attribute */\n",
       ".highlight .nb { color: #008000 } /* Name.Builtin */\n",
       ".highlight .nc { color: #0000FF; font-weight: bold } /* Name.Class */\n",
       ".highlight .no { color: #880000 } /* Name.Constant */\n",
       ".highlight .nd { color: #AA22FF } /* Name.Decorator */\n",
       ".highlight .ni { color: #999999; font-weight: bold } /* Name.Entity */\n",
       ".highlight .ne { color: #D2413A; font-weight: bold } /* Name.Exception */\n",
       ".highlight .nf { color: #0000FF } /* Name.Function */\n",
       ".highlight .nl { color: #A0A000 } /* Name.Label */\n",
       ".highlight .nn { color: #0000FF; font-weight: bold } /* Name.Namespace */\n",
       ".highlight .nt { color: #008000; font-weight: bold } /* Name.Tag */\n",
       ".highlight .nv { color: #19177C } /* Name.Variable */\n",
       ".highlight .ow { color: #AA22FF; font-weight: bold } /* Operator.Word */\n",
       ".highlight .w { color: #bbbbbb } /* Text.Whitespace */\n",
       ".highlight .mb { color: #666666 } /* Literal.Number.Bin */\n",
       ".highlight .mf { color: #666666 } /* Literal.Number.Float */\n",
       ".highlight .mh { color: #666666 } /* Literal.Number.Hex */\n",
       ".highlight .mi { color: #666666 } /* Literal.Number.Integer */\n",
       ".highlight .mo { color: #666666 } /* Literal.Number.Oct */\n",
       ".highlight .sa { color: #BA2121 } /* Literal.String.Affix */\n",
       ".highlight .sb { color: #BA2121 } /* Literal.String.Backtick */\n",
       ".highlight .sc { color: #BA2121 } /* Literal.String.Char */\n",
       ".highlight .dl { color: #BA2121 } /* Literal.String.Delimiter */\n",
       ".highlight .sd { color: #BA2121; font-style: italic } /* Literal.String.Doc */\n",
       ".highlight .s2 { color: #BA2121 } /* Literal.String.Double */\n",
       ".highlight .se { color: #BB6622; font-weight: bold } /* Literal.String.Escape */\n",
       ".highlight .sh { color: #BA2121 } /* Literal.String.Heredoc */\n",
       ".highlight .si { color: #BB6688; font-weight: bold } /* Literal.String.Interpol */\n",
       ".highlight .sx { color: #008000 } /* Literal.String.Other */\n",
       ".highlight .sr { color: #BB6688 } /* Literal.String.Regex */\n",
       ".highlight .s1 { color: #BA2121 } /* Literal.String.Single */\n",
       ".highlight .ss { color: #19177C } /* Literal.String.Symbol */\n",
       ".highlight .bp { color: #008000 } /* Name.Builtin.Pseudo */\n",
       ".highlight .fm { color: #0000FF } /* Name.Function.Magic */\n",
       ".highlight .vc { color: #19177C } /* Name.Variable.Class */\n",
       ".highlight .vg { color: #19177C } /* Name.Variable.Global */\n",
       ".highlight .vi { color: #19177C } /* Name.Variable.Instance */\n",
       ".highlight .vm { color: #19177C } /* Name.Variable.Magic */\n",
       ".highlight .il { color: #666666 } /* Literal.Number.Integer.Long */</style><div class=\"highlight\"><pre><span></span><span class=\"c1\">#ASDF 1.0.0</span>\n",
       "<span class=\"c1\">#ASDF_STANDARD 1.5.0</span>\n",
       "<span class=\"nt\">%YAML</span> <span class=\"m\">1.1</span>\n",
       "<span class=\"nt\">%TAG</span> <span class=\"kt\">!</span> <span class=\"kt\">tag:stsci.edu:asdf/</span>\n",
       "<span class=\"nn\">---</span> <span class=\"kt\">!core/asdf-1.1.0</span>\n",
       "<span class=\"nt\">asdf_library</span><span class=\"p\">:</span> <span class=\"kt\">!core/software-1.0.0</span> <span class=\"p p-Indicator\">{</span><span class=\"nt\">author</span><span class=\"p\">:</span> <span class=\"nv\">Space Telescope Science Institute</span><span class=\"p p-Indicator\">,</span><span class=\"nt\"> homepage</span><span class=\"p\">:</span> <span class=\"s\">&#39;http://github.com/spacetelescope/asdf&#39;</span><span class=\"p p-Indicator\">,</span>\n",
       "<span class=\"nt\">  name</span><span class=\"p\">:</span> <span class=\"nv\">asdf</span><span class=\"p p-Indicator\">,</span><span class=\"nt\"> version</span><span class=\"p\">:</span> <span class=\"nv\">2.7.3</span><span class=\"p p-Indicator\">}</span>\n",
       "<span class=\"nt\">history</span><span class=\"p\">:</span>\n",
       "  <span class=\"nt\">extensions</span><span class=\"p\">:</span>\n",
       "  <span class=\"p p-Indicator\">-</span> <span class=\"kt\">!core/extension_metadata-1.0.0</span>\n",
       "    <span class=\"nt\">extension_class</span><span class=\"p\">:</span> <span class=\"l l-Scalar l-Scalar-Plain\">weldx.asdf.extension.WeldxExtension</span>\n",
       "    <span class=\"nt\">software</span><span class=\"p\">:</span> <span class=\"kt\">!core/software-1.0.0</span> <span class=\"p p-Indicator\">{</span><span class=\"nt\">name</span><span class=\"p\">:</span> <span class=\"nv\">weldx</span><span class=\"p p-Indicator\">,</span><span class=\"nt\"> version</span><span class=\"p\">:</span> <span class=\"nv\">0.3.2.dev4+gb4cf8fd.d20210323</span><span class=\"p p-Indicator\">}</span>\n",
       "  <span class=\"p p-Indicator\">-</span> <span class=\"kt\">!core/extension_metadata-1.0.0</span>\n",
       "    <span class=\"nt\">extension_class</span><span class=\"p\">:</span> <span class=\"l l-Scalar l-Scalar-Plain\">asdf.extension.BuiltinExtension</span>\n",
       "    <span class=\"nt\">software</span><span class=\"p\">:</span> <span class=\"kt\">!core/software-1.0.0</span> <span class=\"p p-Indicator\">{</span><span class=\"nt\">name</span><span class=\"p\">:</span> <span class=\"nv\">asdf</span><span class=\"p p-Indicator\">,</span><span class=\"nt\"> version</span><span class=\"p\">:</span> <span class=\"nv\">2.7.3</span><span class=\"p p-Indicator\">}</span>\n",
       "  <span class=\"p p-Indicator\">-</span> <span class=\"kt\">!core/extension_metadata-1.0.0</span>\n",
       "    <span class=\"nt\">extension_class</span><span class=\"p\">:</span> <span class=\"l l-Scalar l-Scalar-Plain\">weldx.asdf.extension.WeldxAsdfExtension</span>\n",
       "    <span class=\"nt\">software</span><span class=\"p\">:</span> <span class=\"kt\">!core/software-1.0.0</span> <span class=\"p p-Indicator\">{</span><span class=\"nt\">name</span><span class=\"p\">:</span> <span class=\"nv\">weldx</span><span class=\"p p-Indicator\">,</span><span class=\"nt\"> version</span><span class=\"p\">:</span> <span class=\"nv\">0.3.2.dev4+gb4cf8fd.d20210323</span><span class=\"p p-Indicator\">}</span>\n",
       "<span class=\"nt\">data</span><span class=\"p\">:</span>\n",
       "<span class=\"p p-Indicator\">-</span> <span class=\"nl\">&amp;id005</span> <span class=\"kt\">!&lt;tag:weldx.bam.de:weldx/core/time_series-1.0.0&gt;</span>\n",
       "  <span class=\"nt\">&amp;id001 values</span><span class=\"p\">:</span> <span class=\"nl\">&amp;id002</span> <span class=\"kt\">!core/ndarray-1.0.0</span>\n",
       "    <span class=\"nt\">source</span><span class=\"p\">:</span> <span class=\"l l-Scalar l-Scalar-Plain\">0</span>\n",
       "    <span class=\"nt\">datatype</span><span class=\"p\">:</span> <span class=\"l l-Scalar l-Scalar-Plain\">float64</span>\n",
       "    <span class=\"nt\">byteorder</span><span class=\"p\">:</span> <span class=\"l l-Scalar l-Scalar-Plain\">little</span>\n",
       "    <span class=\"nt\">shape</span><span class=\"p\">:</span> <span class=\"p p-Indicator\">[</span><span class=\"nv\">10001</span><span class=\"p p-Indicator\">]</span>\n",
       "  <span class=\"nt\">time</span><span class=\"p\">:</span> <span class=\"kt\">!&lt;tag:weldx.bam.de:weldx/time/timedeltaindex-1.0.0&gt;</span>\n",
       "    <span class=\"nt\">start</span><span class=\"p\">:</span> <span class=\"kt\">!&lt;tag:weldx.bam.de:weldx/time/timedelta-1.0.0&gt;</span> <span class=\"p p-Indicator\">{</span><span class=\"nt\">value</span><span class=\"p\">:</span> <span class=\"nv\">P0DT0H0M0S</span><span class=\"p p-Indicator\">}</span>\n",
       "    <span class=\"nt\">end</span><span class=\"p\">:</span> <span class=\"kt\">!&lt;tag:weldx.bam.de:weldx/time/timedelta-1.0.0&gt;</span> <span class=\"p p-Indicator\">{</span><span class=\"nt\">value</span><span class=\"p\">:</span> <span class=\"nv\">P0DT0H0M10S</span><span class=\"p p-Indicator\">}</span>\n",
       "    <span class=\"nt\">freq</span><span class=\"p\">:</span> <span class=\"l l-Scalar l-Scalar-Plain\">L</span>\n",
       "    <span class=\"nt\">min</span><span class=\"p\">:</span> <span class=\"kt\">!&lt;tag:weldx.bam.de:weldx/time/timedelta-1.0.0&gt;</span> <span class=\"p p-Indicator\">{</span><span class=\"nt\">value</span><span class=\"p\">:</span> <span class=\"nv\">P0DT0H0M0S</span><span class=\"p p-Indicator\">}</span>\n",
       "    <span class=\"nt\">max</span><span class=\"p\">:</span> <span class=\"kt\">!&lt;tag:weldx.bam.de:weldx/time/timedelta-1.0.0&gt;</span> <span class=\"p p-Indicator\">{</span><span class=\"nt\">value</span><span class=\"p\">:</span> <span class=\"nv\">P0DT0H0M10S</span><span class=\"p p-Indicator\">}</span>\n",
       "  <span class=\"nt\">unit</span><span class=\"p\">:</span> <span class=\"l l-Scalar l-Scalar-Plain\">ampere</span>\n",
       "  <span class=\"nt\">shape</span><span class=\"p\">:</span> <span class=\"p p-Indicator\">[</span><span class=\"nv\">10001</span><span class=\"p p-Indicator\">]</span>\n",
       "  <span class=\"nt\">interpolation</span><span class=\"p\">:</span> <span class=\"l l-Scalar l-Scalar-Plain\">linear</span>\n",
       "  <span class=\"nt\">*id001 </span><span class=\"p\">:</span> <span class=\"nv\">*id002</span>\n",
       "<span class=\"p p-Indicator\">-</span> <span class=\"nl\">&amp;id007</span> <span class=\"kt\">!&lt;tag:weldx.bam.de:weldx/core/time_series-1.0.0&gt;</span>\n",
       "  <span class=\"nt\">&amp;id003 values</span><span class=\"p\">:</span> <span class=\"nl\">&amp;id004</span> <span class=\"kt\">!core/ndarray-1.0.0</span>\n",
       "    <span class=\"nt\">source</span><span class=\"p\">:</span> <span class=\"l l-Scalar l-Scalar-Plain\">1</span>\n",
       "    <span class=\"nt\">datatype</span><span class=\"p\">:</span> <span class=\"l l-Scalar l-Scalar-Plain\">float64</span>\n",
       "    <span class=\"nt\">byteorder</span><span class=\"p\">:</span> <span class=\"l l-Scalar l-Scalar-Plain\">little</span>\n",
       "    <span class=\"nt\">shape</span><span class=\"p\">:</span> <span class=\"p p-Indicator\">[</span><span class=\"nv\">10001</span><span class=\"p p-Indicator\">]</span>\n",
       "  <span class=\"nt\">time</span><span class=\"p\">:</span> <span class=\"kt\">!&lt;tag:weldx.bam.de:weldx/time/timedeltaindex-1.0.0&gt;</span>\n",
       "    <span class=\"nt\">start</span><span class=\"p\">:</span> <span class=\"kt\">!&lt;tag:weldx.bam.de:weldx/time/timedelta-1.0.0&gt;</span> <span class=\"p p-Indicator\">{</span><span class=\"nt\">value</span><span class=\"p\">:</span> <span class=\"nv\">P0DT0H0M0S</span><span class=\"p p-Indicator\">}</span>\n",
       "    <span class=\"nt\">end</span><span class=\"p\">:</span> <span class=\"kt\">!&lt;tag:weldx.bam.de:weldx/time/timedelta-1.0.0&gt;</span> <span class=\"p p-Indicator\">{</span><span class=\"nt\">value</span><span class=\"p\">:</span> <span class=\"nv\">P0DT0H0M10S</span><span class=\"p p-Indicator\">}</span>\n",
       "    <span class=\"nt\">freq</span><span class=\"p\">:</span> <span class=\"l l-Scalar l-Scalar-Plain\">L</span>\n",
       "    <span class=\"nt\">min</span><span class=\"p\">:</span> <span class=\"kt\">!&lt;tag:weldx.bam.de:weldx/time/timedelta-1.0.0&gt;</span> <span class=\"p p-Indicator\">{</span><span class=\"nt\">value</span><span class=\"p\">:</span> <span class=\"nv\">P0DT0H0M0S</span><span class=\"p p-Indicator\">}</span>\n",
       "    <span class=\"nt\">max</span><span class=\"p\">:</span> <span class=\"kt\">!&lt;tag:weldx.bam.de:weldx/time/timedelta-1.0.0&gt;</span> <span class=\"p p-Indicator\">{</span><span class=\"nt\">value</span><span class=\"p\">:</span> <span class=\"nv\">P0DT0H0M10S</span><span class=\"p p-Indicator\">}</span>\n",
       "  <span class=\"nt\">unit</span><span class=\"p\">:</span> <span class=\"l l-Scalar l-Scalar-Plain\">volt</span>\n",
       "  <span class=\"nt\">shape</span><span class=\"p\">:</span> <span class=\"p p-Indicator\">[</span><span class=\"nv\">10001</span><span class=\"p p-Indicator\">]</span>\n",
       "  <span class=\"nt\">interpolation</span><span class=\"p\">:</span> <span class=\"l l-Scalar l-Scalar-Plain\">linear</span>\n",
       "  <span class=\"nt\">*id003 </span><span class=\"p\">:</span> <span class=\"nv\">*id004</span>\n",
       "<span class=\"nt\">equipment</span><span class=\"p\">:</span>\n",
       "<span class=\"p p-Indicator\">-</span> <span class=\"kt\">!&lt;tag:weldx.bam.de:weldx/equipment/measurement_equipment-1.0.0&gt;</span>\n",
       "  <span class=\"nt\">name</span><span class=\"p\">:</span> <span class=\"l l-Scalar l-Scalar-Plain\">HKS P1000-S3</span>\n",
       "  <span class=\"nt\">sources</span><span class=\"p\">:</span> <span class=\"p p-Indicator\">[]</span>\n",
       "  <span class=\"nt\">transformations</span><span class=\"p\">:</span> <span class=\"p p-Indicator\">[]</span>\n",
       "<span class=\"p p-Indicator\">-</span> <span class=\"kt\">!&lt;tag:weldx.bam.de:weldx/equipment/measurement_equipment-1.0.0&gt;</span>\n",
       "  <span class=\"nt\">name</span><span class=\"p\">:</span> <span class=\"l l-Scalar l-Scalar-Plain\">Beckhoff ELM3002-0000</span>\n",
       "  <span class=\"nt\">sources</span><span class=\"p\">:</span> <span class=\"p p-Indicator\">[]</span>\n",
       "  <span class=\"nt\">transformations</span><span class=\"p\">:</span> <span class=\"p p-Indicator\">[]</span>\n",
       "<span class=\"nt\">measurements</span><span class=\"p\">:</span>\n",
       "<span class=\"p p-Indicator\">-</span> <span class=\"kt\">!&lt;tag:weldx.bam.de:weldx/measurement/measurement-1.0.0&gt;</span>\n",
       "  <span class=\"nt\">name</span><span class=\"p\">:</span> <span class=\"l l-Scalar l-Scalar-Plain\">welding current measurement</span>\n",
       "  <span class=\"nt\">data</span><span class=\"p\">:</span>\n",
       "  <span class=\"p p-Indicator\">-</span> <span class=\"nv\">*id005</span>\n",
       "  <span class=\"nt\">measurement_chain</span><span class=\"p\">:</span> <span class=\"kt\">!&lt;tag:weldx.bam.de:weldx/measurement/measurement_chain-1.0.0&gt;</span>\n",
       "    <span class=\"nt\">name</span><span class=\"p\">:</span> <span class=\"l l-Scalar l-Scalar-Plain\">welding current measurement chain</span>\n",
       "    <span class=\"nt\">data_source</span><span class=\"p\">:</span> <span class=\"kt\">!&lt;tag:weldx.bam.de:weldx/measurement/source-1.0.0&gt;</span>\n",
       "      <span class=\"nt\">name</span><span class=\"p\">:</span> <span class=\"l l-Scalar l-Scalar-Plain\">Current Sensor</span>\n",
       "      <span class=\"nt\">output_signal</span><span class=\"p\">:</span> <span class=\"nl\">&amp;id006</span> <span class=\"kt\">!&lt;tag:weldx.bam.de:weldx/measurement/signal-1.0.0&gt;</span>\n",
       "        <span class=\"nt\">signal_type</span><span class=\"p\">:</span> <span class=\"l l-Scalar l-Scalar-Plain\">analog</span>\n",
       "        <span class=\"nt\">unit</span><span class=\"p\">:</span> <span class=\"l l-Scalar l-Scalar-Plain\">V</span>\n",
       "      <span class=\"nt\">error</span><span class=\"p\">:</span> <span class=\"kt\">!&lt;tag:weldx.bam.de:weldx/measurement/error-1.0.0&gt;</span>\n",
       "        <span class=\"nt\">deviation</span><span class=\"p\">:</span> <span class=\"kt\">!unit/quantity-1.1.0</span> <span class=\"p p-Indicator\">{</span><span class=\"nt\">unit</span><span class=\"p\">:</span> <span class=\"nv\">percent</span><span class=\"p p-Indicator\">,</span><span class=\"nt\"> value</span><span class=\"p\">:</span> <span class=\"nv\">0.1</span><span class=\"p p-Indicator\">}</span>\n",
       "    <span class=\"nt\">source_node</span><span class=\"p\">:</span> <span class=\"kt\">!&lt;tag:weldx.bam.de:weldx/core/graph/di_node-1.0.0&gt;</span>\n",
       "      <span class=\"nt\">name</span><span class=\"p\">:</span> <span class=\"l l-Scalar l-Scalar-Plain\">Current Sensor</span>\n",
       "      <span class=\"nt\">attributes</span><span class=\"p\">:</span>\n",
       "        <span class=\"nt\">signal</span><span class=\"p\">:</span> <span class=\"nv\">*id006</span>\n",
       "      <span class=\"nt\">edges</span><span class=\"p\">:</span>\n",
       "      <span class=\"p p-Indicator\">-</span> <span class=\"kt\">!&lt;tag:weldx.bam.de:weldx/core/graph/di_edge-1.0.0&gt;</span>\n",
       "        <span class=\"nt\">direction</span><span class=\"p\">:</span> <span class=\"l l-Scalar l-Scalar-Plain\">fwd</span>\n",
       "        <span class=\"nt\">attributes</span><span class=\"p\">:</span>\n",
       "          <span class=\"nt\">transformation</span><span class=\"p\">:</span> <span class=\"kt\">!&lt;tag:weldx.bam.de:weldx/measurement/signal_transformation-1.0.0&gt;</span>\n",
       "            <span class=\"nt\">name</span><span class=\"p\">:</span> <span class=\"l l-Scalar l-Scalar-Plain\">AD conversion current measurement</span>\n",
       "            <span class=\"nt\">error</span><span class=\"p\">:</span> <span class=\"kt\">!&lt;tag:weldx.bam.de:weldx/measurement/error-1.0.0&gt;</span>\n",
       "              <span class=\"nt\">deviation</span><span class=\"p\">:</span> <span class=\"kt\">!unit/quantity-1.1.0</span> <span class=\"p p-Indicator\">{</span><span class=\"nt\">unit</span><span class=\"p\">:</span> <span class=\"nv\">percent</span><span class=\"p p-Indicator\">,</span><span class=\"nt\"> value</span><span class=\"p\">:</span> <span class=\"nv\">0.01</span><span class=\"p p-Indicator\">}</span>\n",
       "            <span class=\"nt\">func</span><span class=\"p\">:</span> <span class=\"kt\">!&lt;tag:weldx.bam.de:weldx/core/mathematical_expression-1.0.0&gt;</span>\n",
       "              <span class=\"nt\">expression</span><span class=\"p\">:</span> <span class=\"l l-Scalar l-Scalar-Plain\">a*x + b</span>\n",
       "              <span class=\"nt\">parameters</span><span class=\"p\">:</span>\n",
       "                <span class=\"nt\">a</span><span class=\"p\">:</span> <span class=\"kt\">!unit/quantity-1.1.0</span> <span class=\"p p-Indicator\">{</span><span class=\"nt\">unit</span><span class=\"p\">:</span> <span class=\"nv\">1 / volt</span><span class=\"p p-Indicator\">,</span><span class=\"nt\"> value</span><span class=\"p\">:</span> <span class=\"nv\">3276.8</span><span class=\"p p-Indicator\">}</span>\n",
       "                <span class=\"nt\">b</span><span class=\"p\">:</span> <span class=\"kt\">!unit/quantity-1.1.0</span> <span class=\"p p-Indicator\">{</span><span class=\"nt\">unit</span><span class=\"p\">:</span> <span class=\"nv\">dimensionless</span><span class=\"p p-Indicator\">,</span><span class=\"nt\"> value</span><span class=\"p\">:</span> <span class=\"nv\">0.0</span><span class=\"p p-Indicator\">}</span>\n",
       "            <span class=\"nt\">type_transformation</span><span class=\"p\">:</span> <span class=\"l l-Scalar l-Scalar-Plain\">AD</span>\n",
       "        <span class=\"nt\">target_node</span><span class=\"p\">:</span> <span class=\"kt\">!&lt;tag:weldx.bam.de:weldx/core/graph/di_node-1.0.0&gt;</span>\n",
       "          <span class=\"nt\">name</span><span class=\"p\">:</span> <span class=\"l l-Scalar l-Scalar-Plain\">AD conversion current measurement</span>\n",
       "          <span class=\"nt\">attributes</span><span class=\"p\">:</span>\n",
       "            <span class=\"nt\">signal</span><span class=\"p\">:</span> <span class=\"kt\">!&lt;tag:weldx.bam.de:weldx/measurement/signal-1.0.0&gt;</span>\n",
       "              <span class=\"nt\">signal_type</span><span class=\"p\">:</span> <span class=\"l l-Scalar l-Scalar-Plain\">digital</span>\n",
       "              <span class=\"nt\">unit</span><span class=\"p\">:</span> <span class=\"l l-Scalar l-Scalar-Plain\">dimensionless</span>\n",
       "          <span class=\"nt\">edges</span><span class=\"p\">:</span>\n",
       "          <span class=\"p p-Indicator\">-</span> <span class=\"kt\">!&lt;tag:weldx.bam.de:weldx/core/graph/di_edge-1.0.0&gt;</span>\n",
       "            <span class=\"nt\">direction</span><span class=\"p\">:</span> <span class=\"l l-Scalar l-Scalar-Plain\">fwd</span>\n",
       "            <span class=\"nt\">attributes</span><span class=\"p\">:</span>\n",
       "              <span class=\"nt\">transformation</span><span class=\"p\">:</span> <span class=\"kt\">!&lt;tag:weldx.bam.de:weldx/measurement/signal_transformation-1.0.0&gt;</span>\n",
       "                <span class=\"nt\">name</span><span class=\"p\">:</span> <span class=\"l l-Scalar l-Scalar-Plain\">Calibration current measurement</span>\n",
       "                <span class=\"nt\">error</span><span class=\"p\">:</span> <span class=\"kt\">!&lt;tag:weldx.bam.de:weldx/measurement/error-1.0.0&gt;</span>\n",
       "                  <span class=\"nt\">deviation</span><span class=\"p\">:</span> <span class=\"l l-Scalar l-Scalar-Plain\">0.0</span>\n",
       "                <span class=\"nt\">func</span><span class=\"p\">:</span> <span class=\"kt\">!&lt;tag:weldx.bam.de:weldx/core/mathematical_expression-1.0.0&gt;</span>\n",
       "                  <span class=\"nt\">expression</span><span class=\"p\">:</span> <span class=\"l l-Scalar l-Scalar-Plain\">a*x + b</span>\n",
       "                  <span class=\"nt\">parameters</span><span class=\"p\">:</span>\n",
       "                    <span class=\"nt\">a</span><span class=\"p\">:</span> <span class=\"kt\">!unit/quantity-1.1.0</span> <span class=\"p p-Indicator\">{</span><span class=\"nt\">unit</span><span class=\"p\">:</span> <span class=\"nv\">ampere</span><span class=\"p p-Indicator\">,</span><span class=\"nt\"> value</span><span class=\"p\">:</span> <span class=\"nv\">0.030517578125</span><span class=\"p p-Indicator\">}</span>\n",
       "                    <span class=\"nt\">b</span><span class=\"p\">:</span> <span class=\"kt\">!unit/quantity-1.1.0</span> <span class=\"p p-Indicator\">{</span><span class=\"nt\">unit</span><span class=\"p\">:</span> <span class=\"nv\">ampere</span><span class=\"p p-Indicator\">,</span><span class=\"nt\"> value</span><span class=\"p\">:</span> <span class=\"nv\">0.0</span><span class=\"p p-Indicator\">}</span>\n",
       "                <span class=\"nt\">type_transformation</span><span class=\"p\">:</span> <span class=\"l l-Scalar l-Scalar-Plain\">DD</span>\n",
       "            <span class=\"nt\">target_node</span><span class=\"p\">:</span> <span class=\"kt\">!&lt;tag:weldx.bam.de:weldx/core/graph/di_node-1.0.0&gt;</span>\n",
       "              <span class=\"nt\">name</span><span class=\"p\">:</span> <span class=\"l l-Scalar l-Scalar-Plain\">Calibration current measurement</span>\n",
       "              <span class=\"nt\">attributes</span><span class=\"p\">:</span>\n",
       "                <span class=\"nt\">signal</span><span class=\"p\">:</span> <span class=\"kt\">!&lt;tag:weldx.bam.de:weldx/measurement/signal-1.0.0&gt;</span>\n",
       "                  <span class=\"nt\">signal_type</span><span class=\"p\">:</span> <span class=\"l l-Scalar l-Scalar-Plain\">digital</span>\n",
       "                  <span class=\"nt\">unit</span><span class=\"p\">:</span> <span class=\"l l-Scalar l-Scalar-Plain\">ampere</span>\n",
       "                  <span class=\"nt\">data</span><span class=\"p\">:</span> <span class=\"nv\">*id005</span>\n",
       "<span class=\"p p-Indicator\">-</span> <span class=\"kt\">!&lt;tag:weldx.bam.de:weldx/measurement/measurement-1.0.0&gt;</span>\n",
       "  <span class=\"nt\">name</span><span class=\"p\">:</span> <span class=\"l l-Scalar l-Scalar-Plain\">welding voltage measurement</span>\n",
       "  <span class=\"nt\">data</span><span class=\"p\">:</span>\n",
       "  <span class=\"p p-Indicator\">-</span> <span class=\"nv\">*id007</span>\n",
       "  <span class=\"nt\">measurement_chain</span><span class=\"p\">:</span> <span class=\"kt\">!&lt;tag:weldx.bam.de:weldx/measurement/measurement_chain-1.0.0&gt;</span>\n",
       "    <span class=\"nt\">name</span><span class=\"p\">:</span> <span class=\"l l-Scalar l-Scalar-Plain\">welding voltage measurement</span>\n",
       "    <span class=\"nt\">data_source</span><span class=\"p\">:</span> <span class=\"kt\">!&lt;tag:weldx.bam.de:weldx/measurement/source-1.0.0&gt;</span>\n",
       "      <span class=\"nt\">name</span><span class=\"p\">:</span> <span class=\"l l-Scalar l-Scalar-Plain\">Voltage Sensor</span>\n",
       "      <span class=\"nt\">output_signal</span><span class=\"p\">:</span> <span class=\"nl\">&amp;id008</span> <span class=\"kt\">!&lt;tag:weldx.bam.de:weldx/measurement/signal-1.0.0&gt;</span>\n",
       "        <span class=\"nt\">signal_type</span><span class=\"p\">:</span> <span class=\"l l-Scalar l-Scalar-Plain\">analog</span>\n",
       "        <span class=\"nt\">unit</span><span class=\"p\">:</span> <span class=\"l l-Scalar l-Scalar-Plain\">V</span>\n",
       "      <span class=\"nt\">error</span><span class=\"p\">:</span> <span class=\"kt\">!&lt;tag:weldx.bam.de:weldx/measurement/error-1.0.0&gt;</span>\n",
       "        <span class=\"nt\">deviation</span><span class=\"p\">:</span> <span class=\"kt\">!unit/quantity-1.1.0</span> <span class=\"p p-Indicator\">{</span><span class=\"nt\">unit</span><span class=\"p\">:</span> <span class=\"nv\">percent</span><span class=\"p p-Indicator\">,</span><span class=\"nt\"> value</span><span class=\"p\">:</span> <span class=\"nv\">0.1</span><span class=\"p p-Indicator\">}</span>\n",
       "    <span class=\"nt\">source_node</span><span class=\"p\">:</span> <span class=\"kt\">!&lt;tag:weldx.bam.de:weldx/core/graph/di_node-1.0.0&gt;</span>\n",
       "      <span class=\"nt\">name</span><span class=\"p\">:</span> <span class=\"l l-Scalar l-Scalar-Plain\">Voltage Sensor</span>\n",
       "      <span class=\"nt\">attributes</span><span class=\"p\">:</span>\n",
       "        <span class=\"nt\">signal</span><span class=\"p\">:</span> <span class=\"nv\">*id008</span>\n",
       "      <span class=\"nt\">edges</span><span class=\"p\">:</span>\n",
       "      <span class=\"p p-Indicator\">-</span> <span class=\"kt\">!&lt;tag:weldx.bam.de:weldx/core/graph/di_edge-1.0.0&gt;</span>\n",
       "        <span class=\"nt\">direction</span><span class=\"p\">:</span> <span class=\"l l-Scalar l-Scalar-Plain\">fwd</span>\n",
       "        <span class=\"nt\">attributes</span><span class=\"p\">:</span>\n",
       "          <span class=\"nt\">transformation</span><span class=\"p\">:</span> <span class=\"kt\">!&lt;tag:weldx.bam.de:weldx/measurement/signal_transformation-1.0.0&gt;</span>\n",
       "            <span class=\"nt\">name</span><span class=\"p\">:</span> <span class=\"l l-Scalar l-Scalar-Plain\">AD conversion voltage measurement</span>\n",
       "            <span class=\"nt\">error</span><span class=\"p\">:</span> <span class=\"kt\">!&lt;tag:weldx.bam.de:weldx/measurement/error-1.0.0&gt;</span>\n",
       "              <span class=\"nt\">deviation</span><span class=\"p\">:</span> <span class=\"kt\">!unit/quantity-1.1.0</span> <span class=\"p p-Indicator\">{</span><span class=\"nt\">unit</span><span class=\"p\">:</span> <span class=\"nv\">percent</span><span class=\"p p-Indicator\">,</span><span class=\"nt\"> value</span><span class=\"p\">:</span> <span class=\"nv\">0.01</span><span class=\"p p-Indicator\">}</span>\n",
       "            <span class=\"nt\">func</span><span class=\"p\">:</span> <span class=\"kt\">!&lt;tag:weldx.bam.de:weldx/core/mathematical_expression-1.0.0&gt;</span>\n",
       "              <span class=\"nt\">expression</span><span class=\"p\">:</span> <span class=\"l l-Scalar l-Scalar-Plain\">a*x + b</span>\n",
       "              <span class=\"nt\">parameters</span><span class=\"p\">:</span>\n",
       "                <span class=\"nt\">a</span><span class=\"p\">:</span> <span class=\"kt\">!unit/quantity-1.1.0</span> <span class=\"p p-Indicator\">{</span><span class=\"nt\">unit</span><span class=\"p\">:</span> <span class=\"nv\">1 / volt</span><span class=\"p p-Indicator\">,</span><span class=\"nt\"> value</span><span class=\"p\">:</span> <span class=\"nv\">3276.8</span><span class=\"p p-Indicator\">}</span>\n",
       "                <span class=\"nt\">b</span><span class=\"p\">:</span> <span class=\"kt\">!unit/quantity-1.1.0</span> <span class=\"p p-Indicator\">{</span><span class=\"nt\">unit</span><span class=\"p\">:</span> <span class=\"nv\">dimensionless</span><span class=\"p p-Indicator\">,</span><span class=\"nt\"> value</span><span class=\"p\">:</span> <span class=\"nv\">0.0</span><span class=\"p p-Indicator\">}</span>\n",
       "            <span class=\"nt\">type_transformation</span><span class=\"p\">:</span> <span class=\"l l-Scalar l-Scalar-Plain\">AD</span>\n",
       "        <span class=\"nt\">target_node</span><span class=\"p\">:</span> <span class=\"kt\">!&lt;tag:weldx.bam.de:weldx/core/graph/di_node-1.0.0&gt;</span>\n",
       "          <span class=\"nt\">name</span><span class=\"p\">:</span> <span class=\"l l-Scalar l-Scalar-Plain\">AD conversion voltage measurement</span>\n",
       "          <span class=\"nt\">attributes</span><span class=\"p\">:</span>\n",
       "            <span class=\"nt\">signal</span><span class=\"p\">:</span> <span class=\"kt\">!&lt;tag:weldx.bam.de:weldx/measurement/signal-1.0.0&gt;</span>\n",
       "              <span class=\"nt\">signal_type</span><span class=\"p\">:</span> <span class=\"l l-Scalar l-Scalar-Plain\">digital</span>\n",
       "              <span class=\"nt\">unit</span><span class=\"p\">:</span> <span class=\"l l-Scalar l-Scalar-Plain\">dimensionless</span>\n",
       "          <span class=\"nt\">edges</span><span class=\"p\">:</span>\n",
       "          <span class=\"p p-Indicator\">-</span> <span class=\"kt\">!&lt;tag:weldx.bam.de:weldx/core/graph/di_edge-1.0.0&gt;</span>\n",
       "            <span class=\"nt\">direction</span><span class=\"p\">:</span> <span class=\"l l-Scalar l-Scalar-Plain\">fwd</span>\n",
       "            <span class=\"nt\">attributes</span><span class=\"p\">:</span>\n",
       "              <span class=\"nt\">transformation</span><span class=\"p\">:</span> <span class=\"kt\">!&lt;tag:weldx.bam.de:weldx/measurement/signal_transformation-1.0.0&gt;</span>\n",
       "                <span class=\"nt\">name</span><span class=\"p\">:</span> <span class=\"l l-Scalar l-Scalar-Plain\">Calibration voltage measurement</span>\n",
       "                <span class=\"nt\">error</span><span class=\"p\">:</span> <span class=\"kt\">!&lt;tag:weldx.bam.de:weldx/measurement/error-1.0.0&gt;</span>\n",
       "                  <span class=\"nt\">deviation</span><span class=\"p\">:</span> <span class=\"l l-Scalar l-Scalar-Plain\">0.0</span>\n",
       "                <span class=\"nt\">func</span><span class=\"p\">:</span> <span class=\"kt\">!&lt;tag:weldx.bam.de:weldx/core/mathematical_expression-1.0.0&gt;</span>\n",
       "                  <span class=\"nt\">expression</span><span class=\"p\">:</span> <span class=\"l l-Scalar l-Scalar-Plain\">a*x + b</span>\n",
       "                  <span class=\"nt\">parameters</span><span class=\"p\">:</span>\n",
       "                    <span class=\"nt\">a</span><span class=\"p\">:</span> <span class=\"kt\">!unit/quantity-1.1.0</span> <span class=\"p p-Indicator\">{</span><span class=\"nt\">unit</span><span class=\"p\">:</span> <span class=\"nv\">volt</span><span class=\"p p-Indicator\">,</span><span class=\"nt\"> value</span><span class=\"p\">:</span> <span class=\"nv\">0.0030517578125</span><span class=\"p p-Indicator\">}</span>\n",
       "                    <span class=\"nt\">b</span><span class=\"p\">:</span> <span class=\"kt\">!unit/quantity-1.1.0</span> <span class=\"p p-Indicator\">{</span><span class=\"nt\">unit</span><span class=\"p\">:</span> <span class=\"nv\">volt</span><span class=\"p p-Indicator\">,</span><span class=\"nt\"> value</span><span class=\"p\">:</span> <span class=\"nv\">0.0</span><span class=\"p p-Indicator\">}</span>\n",
       "                <span class=\"nt\">type_transformation</span><span class=\"p\">:</span> <span class=\"l l-Scalar l-Scalar-Plain\">DD</span>\n",
       "            <span class=\"nt\">target_node</span><span class=\"p\">:</span> <span class=\"kt\">!&lt;tag:weldx.bam.de:weldx/core/graph/di_node-1.0.0&gt;</span>\n",
       "              <span class=\"nt\">name</span><span class=\"p\">:</span> <span class=\"l l-Scalar l-Scalar-Plain\">Calibration voltage measurement</span>\n",
       "              <span class=\"nt\">attributes</span><span class=\"p\">:</span>\n",
       "                <span class=\"nt\">signal</span><span class=\"p\">:</span> <span class=\"kt\">!&lt;tag:weldx.bam.de:weldx/measurement/signal-1.0.0&gt;</span>\n",
       "                  <span class=\"nt\">signal_type</span><span class=\"p\">:</span> <span class=\"l l-Scalar l-Scalar-Plain\">digital</span>\n",
       "                  <span class=\"nt\">unit</span><span class=\"p\">:</span> <span class=\"l l-Scalar l-Scalar-Plain\">volt</span>\n",
       "                  <span class=\"nt\">data</span><span class=\"p\">:</span> <span class=\"nv\">*id007</span>\n",
       "</pre></div>\n"
      ],
      "text/plain": [
       "<IPython.core.display.HTML object>"
      ]
     },
     "execution_count": 19,
     "metadata": {},
     "output_type": "execute_result"
    }
   ],
   "source": [
    "weldx.asdf.util.notebook_fileprinter(buffer)"
   ]
  },
  {
   "cell_type": "code",
   "execution_count": 20,
   "metadata": {},
   "outputs": [],
   "source": [
    "data = weldx.asdf.util._read_buffer(buffer)"
   ]
  },
  {
   "cell_type": "code",
   "execution_count": null,
   "metadata": {},
   "outputs": [],
   "source": []
  }
 ],
 "metadata": {
  "kernelspec": {
   "display_name": "weldx",
   "language": "python",
   "name": "weldx"
  },
  "language_info": {
   "codemirror_mode": {
    "name": "ipython",
    "version": 3
   },
   "file_extension": ".py",
   "mimetype": "text/x-python",
   "name": "python",
   "nbconvert_exporter": "python",
   "pygments_lexer": "ipython3",
   "version": "3.8.8"
  }
 },
 "nbformat": 4,
 "nbformat_minor": 4
}
