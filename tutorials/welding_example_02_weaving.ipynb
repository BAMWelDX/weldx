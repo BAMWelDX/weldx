{
 "cells": [
  {
   "cell_type": "markdown",
   "metadata": {},
   "source": [
    "# Welding Example #02: TCP movements and Weaving\n",
    "In this example we will focus on more complex tcp movements along the workpiece and how to combine different motion shapes like weaving."
   ]
  },
  {
   "cell_type": "markdown",
   "metadata": {},
   "source": [
    "## Imports"
   ]
  },
  {
   "cell_type": "code",
   "execution_count": null,
   "metadata": {
    "nbsphinx": "hidden"
   },
   "outputs": [],
   "source": [
    "# if the package is not installed in your python environment, run this to execute the notebook directly from inside the GitHub repository\n",
    "%cd -q .."
   ]
  },
  {
   "cell_type": "code",
   "execution_count": null,
   "metadata": {
    "nbsphinx": "hidden"
   },
   "outputs": [],
   "source": [
    "# enable interactive plots on Jupyterlab with ipympl and jupyterlab-matplotlib installed\n",
    "# %matplotlib widget"
   ]
  },
  {
   "cell_type": "code",
   "execution_count": null,
   "metadata": {},
   "outputs": [],
   "source": [
    "# some python imports that will be used throughout the tutorial\n",
    "import numpy as np\n",
    "\n",
    "import matplotlib.pyplot as plt\n",
    "import networkx as nx\n",
    "import pandas as pd\n",
    "import pint\n",
    "import xarray as xr\n",
    "from mpl_toolkits.mplot3d import Axes3D"
   ]
  },
  {
   "cell_type": "code",
   "execution_count": null,
   "metadata": {},
   "outputs": [],
   "source": [
    "# importing the weldx package with prevalent default abbreviations\n",
    "import weldx\n",
    "import weldx.geometry as geo\n",
    "import weldx.transformations as tf\n",
    "import weldx.utility as ut\n",
    "import weldx.visualization as vis\n",
    "from weldx import Q_\n",
    "from weldx.core import MathematicalExpression, TimeSeries\n",
    "from weldx.transformations import LocalCoordinateSystem as lcs\n",
    "from weldx.transformations import WXRotation"
   ]
  },
  {
   "cell_type": "markdown",
   "metadata": {},
   "source": [
    "## General setup\n",
    "We will use the same workpiece geometry as defined in the previous example."
   ]
  },
  {
   "cell_type": "markdown",
   "metadata": {},
   "source": [
    "### groove shape"
   ]
  },
  {
   "cell_type": "code",
   "execution_count": null,
   "metadata": {},
   "outputs": [],
   "source": [
    "from weldx.welding.groove.iso_9692_1 import get_groove\n",
    "\n",
    "groove = get_groove(\n",
    "    groove_type=\"VGroove\",\n",
    "    workpiece_thickness=Q_(0.5, \"cm\"),\n",
    "    groove_angle=Q_(50, \"deg\"),\n",
    "    root_face=Q_(1, \"mm\"),\n",
    "    root_gap=Q_(1, \"mm\"),\n",
    ")"
   ]
  },
  {
   "cell_type": "markdown",
   "metadata": {},
   "source": [
    "### workpiece geometry"
   ]
  },
  {
   "cell_type": "code",
   "execution_count": null,
   "metadata": {},
   "outputs": [],
   "source": [
    "# define the weld seam length in mm\n",
    "seam_length = 150\n",
    "\n",
    "# create a linear trace segment a the complete weld seam trace\n",
    "trace_segment = geo.LinearHorizontalTraceSegment(seam_length)\n",
    "trace = geo.Trace(trace_segment)\n",
    "\n",
    "# create 3d workpiece geometry from the groove profile and trace objects\n",
    "geometry = geo.Geometry(groove.to_profile(width_default=Q_(4, \"mm\")), trace)\n",
    "\n",
    "# rasterize geometry\n",
    "profile_raster_width = 0.5  # resolution of each profile in mm\n",
    "trace_raster_width = 15  # space between profiles in mm\n",
    "geometry_data_sp = geometry.rasterize(\n",
    "    profile_raster_width=profile_raster_width, trace_raster_width=trace_raster_width\n",
    ")"
   ]
  },
  {
   "cell_type": "markdown",
   "metadata": {},
   "source": [
    "### Coordinate system manager"
   ]
  },
  {
   "cell_type": "code",
   "execution_count": null,
   "metadata": {},
   "outputs": [],
   "source": [
    "# crete a new coordinate system manager with default base coordinate system\n",
    "csm = weldx.transformations.CoordinateSystemManager(\"base\")\n",
    "\n",
    "# add the workpiece coordinate system\n",
    "csm.add_cs(coordinate_system_name=\"workpiece\", reference_system_name=\"base\", lcs=trace.coordinate_system)"
   ]
  },
  {
   "cell_type": "markdown",
   "metadata": {},
   "source": [
    "## Movement definitions\n",
    "Like in the previous example we start by defining the general linear movement along the weld seam with a constant welding speed."
   ]
  },
  {
   "cell_type": "code",
   "execution_count": null,
   "metadata": {},
   "outputs": [],
   "source": [
    "tcp_start_point = Q_([5.0, 0.0, 2.0], \"mm\")\n",
    "tcp_end_point = Q_([seam_length - 5.0, 0.0, 2.0], \"mm\")\n",
    "\n",
    "v_weld = Q_(10, \"mm/s\")\n",
    "s_weld = (tcp_end_point - tcp_start_point)[0]  # length of the weld\n",
    "t_weld = s_weld / v_weld\n",
    "\n",
    "t_start = pd.Timedelta(\"0s\")\n",
    "t_end = pd.Timedelta(str(t_weld))\n",
    "\n",
    "rot = WXRotation.from_euler(\"x\", 180, degrees=True)\n",
    "\n",
    "coords = [tcp_start_point.magnitude, tcp_end_point.magnitude]\n",
    "\n",
    "tcp_wire = lcs(\n",
    "    coordinates=coords, orientation=rot, time=[t_start, t_end]\n",
    ")"
   ]
  },
  {
   "cell_type": "markdown",
   "metadata": {},
   "source": [
    "Let's add the linear movement to the coordinate system manager and see a simple plot:"
   ]
  },
  {
   "cell_type": "code",
   "execution_count": null,
   "metadata": {},
   "outputs": [],
   "source": [
    "csm.add_cs(coordinate_system_name=\"tcp_wire\", reference_system_name=\"workpiece\", lcs=tcp_wire)\n",
    "csm"
   ]
  },
  {
   "cell_type": "code",
   "execution_count": null,
   "metadata": {},
   "outputs": [],
   "source": [
    "def ax_setup(ax):\n",
    "    ax.legend()\n",
    "    ax.set_xlabel(\"x / mm\")\n",
    "    ax.set_ylabel(\"y / mm\")\n",
    "    ax.set_zlabel(\"z / mm\")"
   ]
  },
  {
   "cell_type": "code",
   "execution_count": null,
   "metadata": {},
   "outputs": [],
   "source": [
    "fig = plt.figure()\n",
    "ax = fig.add_subplot(111, projection=\"3d\", proj_type=\"ortho\")\n",
    "ax.scatter(\n",
    "    geometry_data_sp[0, :],\n",
    "    geometry_data_sp[1, :],\n",
    "    geometry_data_sp[2, :],\n",
    "    marker=\".\",\n",
    "    c=\"b\",\n",
    "    label=\"groove\",\n",
    ")\n",
    "\n",
    "cs = cs = csm.get_cs(\"tcp_wire\", \"workpiece\")\n",
    "data = cs.coordinates.data\n",
    "ax.plot(data[:, 0], data[:, 1], data[:, 2], label=\"tcp_wire\", c=\"g\", marker=\"o\")\n",
    "\n",
    "ax_setup(ax)"
   ]
  },
  {
   "cell_type": "markdown",
   "metadata": {},
   "source": [
    "## add a sine wave to the TCP movement\n",
    "We now want to add a weaving motion along the y-axis (horizontal plane) of our TCP motion. We can define a general weaving motion using the `weldx.utility.sine` function that creates `TimeSeries` class."
   ]
  },
  {
   "cell_type": "code",
   "execution_count": null,
   "metadata": {},
   "outputs": [],
   "source": [
    "ts_sine = ut.sine(f = Q_(1.5 * 2 * np.pi, \"Hz\"), amp = Q_([[0, 0.75, 0]], \"mm\"))"
   ]
  },
  {
   "cell_type": "markdown",
   "metadata": {},
   "source": [
    "Use the `weldx.utility.lcs_coords_from_ts` function to create the translation coordinate vectors at our specified timestamps."
   ]
  },
  {
   "cell_type": "code",
   "execution_count": null,
   "metadata": {},
   "outputs": [],
   "source": [
    "t = pd.timedelta_range(start=t_start, end=t_end, freq=\"10ms\")\n",
    "ts_sine_data = ut.lcs_coords_from_ts(ts_sine,t)"
   ]
  },
  {
   "cell_type": "markdown",
   "metadata": {},
   "source": [
    "We now define a simple coordinate system that contains only the weaving motion."
   ]
  },
  {
   "cell_type": "code",
   "execution_count": null,
   "metadata": {},
   "outputs": [],
   "source": [
    "tcp_sine = lcs(coordinates=ts_sine_data)"
   ]
  },
  {
   "cell_type": "markdown",
   "metadata": {},
   "source": [
    "One approach to combine the weaving motion with the existing linear _tcp_wire_ movement is to use the coordinate system manager. We can add the _tcp_sine_ coordinate system relative to the _tcp_wire_ system:"
   ]
  },
  {
   "cell_type": "code",
   "execution_count": null,
   "metadata": {},
   "outputs": [],
   "source": [
    "csm.add_cs(coordinate_system_name=\"tcp_sine\", reference_system_name=\"tcp_wire\", lcs=tcp_sine)\n",
    "csm"
   ]
  },
  {
   "cell_type": "markdown",
   "metadata": {},
   "source": [
    "Lets see the result:"
   ]
  },
  {
   "cell_type": "code",
   "execution_count": null,
   "metadata": {},
   "outputs": [],
   "source": [
    "fig = plt.figure()\n",
    "ax = fig.add_subplot(111, projection=\"3d\", proj_type=\"ortho\")\n",
    "ax.scatter(\n",
    "    geometry_data_sp[0, :],\n",
    "    geometry_data_sp[1, :],\n",
    "    geometry_data_sp[2, :],\n",
    "    marker=\".\",\n",
    "    c=\"b\",\n",
    "    label=\"groove\",\n",
    ")\n",
    "\n",
    "cs = csm.get_cs(\"tcp_wire\", \"workpiece\")\n",
    "data = cs.coordinates.data\n",
    "ax.plot(data[:, 0], data[:, 1], data[:, 2], label=\"tcp_wire\", c=\"g\", marker=\"o\")\n",
    "\n",
    "cs = csm.get_cs(\"tcp_sine\", \"workpiece\")\n",
    "data = cs.coordinates.data\n",
    "ax.plot(data[:, 0], data[:, 1], data[:, 2], label=\"tcp_contact\", c=\"r\")\n",
    "\n",
    "ax_setup(ax)"
   ]
  },
  {
   "cell_type": "markdown",
   "metadata": {},
   "source": [
    "Another approach would be to combine both systems before adding them to the coordinate system manager. We can combine both coordinate systems using the __+__ operator to generate the superimposed weaving coordinate system."
   ]
  },
  {
   "cell_type": "code",
   "execution_count": null,
   "metadata": {},
   "outputs": [],
   "source": [
    "tcp_wire_sine = tcp_sine + tcp_wire"
   ]
  },
  {
   "cell_type": "markdown",
   "metadata": {},
   "source": [
    "Note the difference in reference coordinate system compared to the first example."
   ]
  },
  {
   "cell_type": "code",
   "execution_count": null,
   "metadata": {},
   "outputs": [],
   "source": [
    "csm.add_cs(\"tcp_wire_sine\", \"workpiece\", tcp_wire_sine)\n",
    "csm"
   ]
  },
  {
   "cell_type": "markdown",
   "metadata": {},
   "source": [
    "We get the same result:"
   ]
  },
  {
   "cell_type": "code",
   "execution_count": null,
   "metadata": {},
   "outputs": [],
   "source": [
    "fig = plt.figure()\n",
    "ax = fig.add_subplot(111, projection=\"3d\", proj_type=\"ortho\")\n",
    "ax.scatter(\n",
    "    geometry_data_sp[0, :],\n",
    "    geometry_data_sp[1, :],\n",
    "    geometry_data_sp[2, :],\n",
    "    marker=\".\",\n",
    "    c=\"b\",\n",
    "    label=\"groove\",\n",
    ")\n",
    "\n",
    "cs = csm.get_cs(\"tcp_wire\", \"workpiece\")\n",
    "data = cs.coordinates.data\n",
    "ax.plot(data[:, 0], data[:, 1], data[:, 2], label=\"tcp_wire\", c=\"g\", marker=\"o\")\n",
    "\n",
    "cs = csm.get_cs(\"tcp_wire_sine\", \"workpiece\")\n",
    "data = cs.coordinates.data\n",
    "ax.plot(data[:, 0], data[:, 1], data[:, 2], label=\"tcp_contact\", c=\"r\")\n",
    "\n",
    "ax_setup(ax)"
   ]
  },
  {
   "cell_type": "markdown",
   "metadata": {},
   "source": [
    "Adding every single superposition step in the coordinate system manager can be more flexible and explicit, but will clutter the CSM instance for complex movements."
   ]
  },
  {
   "cell_type": "markdown",
   "metadata": {},
   "source": [
    "## plot with time interpolation\n",
    "Sometimes we might only be interested in a specific time range of the experiment or we want to change the time resolution. For this we can use the time interpolation methods of the coordinate systems (or the CSM).\n",
    "\n",
    "Let's say we want to weave only 8 seconds of our experiment (starting from 2020-04-20 10:03:00) but interpolate steps of 1 ms."
   ]
  },
  {
   "cell_type": "code",
   "execution_count": null,
   "metadata": {},
   "outputs": [],
   "source": [
    "t_interp = pd.timedelta_range(start=\"0s\", end=\"11s\", freq=\"1ms\")"
   ]
  },
  {
   "cell_type": "code",
   "execution_count": null,
   "metadata": {},
   "outputs": [],
   "source": [
    "fig = plt.figure()\n",
    "ax = fig.add_subplot(111, projection=\"3d\", proj_type=\"ortho\")\n",
    "ax.scatter(\n",
    "    geometry_data_sp[0, :],\n",
    "    geometry_data_sp[1, :],\n",
    "    geometry_data_sp[2, :],\n",
    "    marker=\".\",\n",
    "    c=\"b\",\n",
    "    label=\"groove\",\n",
    ")\n",
    "\n",
    "cs = csm.get_cs(\"tcp_wire\", \"workpiece\").interp_time(t_interp)\n",
    "data = cs.coordinates.data\n",
    "ax.plot(data[:, 0], data[:, 1], data[:, 2], label=\"tcp_wire\", c=\"g\")\n",
    "\n",
    "cs = csm.get_cs(\"tcp_wire_sine\", \"workpiece\").interp_time(t_interp)\n",
    "data = cs.coordinates.data\n",
    "ax.plot(data[:, 0], data[:, 1], data[:, 2], label=\"tcp_wire_sine\", c=\"r\")\n",
    "\n",
    "ax_setup(ax)"
   ]
  },
  {
   "cell_type": "markdown",
   "metadata": {},
   "source": [
    "## Adding a second weaving motion\n",
    "We now want to add a second weaving motion along the z-axis that only exists for a limited time. Lets generate the motion first:"
   ]
  },
  {
   "cell_type": "code",
   "execution_count": null,
   "metadata": {},
   "outputs": [],
   "source": [
    "ts_sine = ut.sine(f=Q_(1 / 8 * 2 * np.pi, \"Hz\"), amp=Q_([[0, 0, 1]], \"mm\"))\n",
    "\n",
    "t = pd.timedelta_range(start=\"0s\", end=\"8s\", freq=\"25ms\")\n",
    "ts_sine_data = ut.lcs_coords_from_ts(ts_sine,t)\n",
    "tcp_sine2 = lcs(coordinates=ts_sine_data)"
   ]
  },
  {
   "cell_type": "code",
   "execution_count": null,
   "metadata": {},
   "outputs": [],
   "source": [
    "tcp_sine2"
   ]
  },
  {
   "cell_type": "markdown",
   "metadata": {},
   "source": [
    "adding all the movements together. We have to be careful with the time-axis in this case !"
   ]
  },
  {
   "cell_type": "code",
   "execution_count": null,
   "metadata": {},
   "outputs": [],
   "source": [
    "t_interp = pd.timedelta_range(start=tcp_wire.time[0].values, end=tcp_wire.time[-1].values, freq=\"20ms\")"
   ]
  },
  {
   "cell_type": "code",
   "execution_count": null,
   "metadata": {},
   "outputs": [],
   "source": [
    "tcp_wire_sine2 = (\n",
    "    tcp_sine2.interp_time(t_interp) + tcp_sine.interp_time(t_interp)\n",
    ") + tcp_wire"
   ]
  },
  {
   "cell_type": "code",
   "execution_count": null,
   "metadata": {},
   "outputs": [],
   "source": [
    "csm.add_cs(\"tcp_wire_sine2\", \"workpiece\", tcp_wire_sine2)\n",
    "csm"
   ]
  },
  {
   "cell_type": "code",
   "execution_count": null,
   "metadata": {},
   "outputs": [],
   "source": [
    "fig = plt.figure()\n",
    "ax = fig.add_subplot(111, projection=\"3d\", proj_type=\"ortho\")\n",
    "ax.scatter(\n",
    "    geometry_data_sp[0, :],\n",
    "    geometry_data_sp[1, :],\n",
    "    geometry_data_sp[2, :],\n",
    "    marker=\".\",\n",
    "    c=\"b\",\n",
    "    label=\"groove\",\n",
    ")\n",
    "\n",
    "cs = csm.get_cs(\"tcp_wire_sine2\", \"workpiece\")\n",
    "# cs = tcp_wire_sine2\n",
    "data = cs.coordinates.data\n",
    "ax.plot(data[:, 0], data[:, 1], data[:, 2], label=\"tcp_wire_sine2\", c=\"r\")\n",
    "\n",
    "ax_setup(ax)"
   ]
  }
 ],
 "metadata": {
  "kernelspec": {
   "display_name": "weldx",
   "language": "python",
   "name": "weldx"
  },
  "language_info": {
   "codemirror_mode": {
    "name": "ipython",
    "version": 3
   },
   "file_extension": ".py",
   "mimetype": "text/x-python",
   "name": "python",
   "nbconvert_exporter": "python",
   "pygments_lexer": "ipython3",
   "version": "3.7.9"
  }
 },
 "nbformat": 4,
 "nbformat_minor": 4
}
