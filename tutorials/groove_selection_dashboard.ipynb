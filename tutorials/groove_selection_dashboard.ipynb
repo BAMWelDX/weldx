{
 "cells": [
  {
   "cell_type": "code",
   "execution_count": 1,
   "metadata": {},
   "outputs": [],
   "source": [
    "# if the package is not installed in your python environment, run this to execute the notebook directly from inside the GitHub repository\n",
    "%cd -q .."
   ]
  },
  {
   "cell_type": "code",
   "execution_count": 2,
   "metadata": {},
   "outputs": [],
   "source": [
    "import ipywidgets as widgets\n",
    "from ipywidgets import Checkbox, VBox, HBox, Label"
   ]
  },
  {
   "cell_type": "code",
   "execution_count": 3,
   "metadata": {},
   "outputs": [],
   "source": [
    "def hbox_FloatText_creator(text, unit, value=7.5):\n",
    "    hbox = HBox([\n",
    "        Label(text + \" :\"),\n",
    "        widgets.FloatText(value=value),\n",
    "        Label(unit)\n",
    "    ])\n",
    "    return hbox"
   ]
  },
  {
   "cell_type": "code",
   "execution_count": 4,
   "metadata": {},
   "outputs": [
    {
     "data": {
      "application/vnd.jupyter.widget-view+json": {
       "model_id": "c0813fb1f5f149ff930bc67790010990",
       "version_major": 2,
       "version_minor": 0
      },
      "text/plain": [
       "Dropdown(description='Groove:', options=('None', 'VGroove', 'UGroove', 'IGroove', 'UVGroove', 'VVGroove', 'HVG…"
      ]
     },
     "metadata": {},
     "output_type": "display_data"
    },
    {
     "data": {
      "application/vnd.jupyter.widget-view+json": {
       "model_id": "ffb450d0e976415eb78eba5d6ccd3cc0",
       "version_major": 2,
       "version_minor": 0
      },
      "text/plain": [
       "VBox()"
      ]
     },
     "metadata": {},
     "output_type": "display_data"
    }
   ],
   "source": [
    "attr_list = ['workpiece_thickness',\n",
    "             'workpiece_thickness2',\n",
    "             'root_gap',\n",
    "             'root_face',\n",
    "             'root_face2',\n",
    "             'root_face3',\n",
    "             'bevel_radius',\n",
    "             'bevel_radius2',\n",
    "             'bevel_angle',\n",
    "             'bevel_angle2',\n",
    "             'groove_angle',\n",
    "             'groove_angle2',\n",
    "             'special_depth',\n",
    "             'code_number']\n",
    "\n",
    "hbox_dict = dict()\n",
    "for item in attr_list:\n",
    "    if item == \"code_number\":\n",
    "        d = widgets.Dropdown(options=[\"1.12\", \"1.13\", \"2.12\", \"3.1.1\", \"3.1.2\", \"3.1.3\", \"4.1.1\", \"4.1.2\", \"4.1.3\"])\n",
    "        hbox_dict[item] = HBox([Label(\"code_number :\"), d])\n",
    "    elif \"angle\" in item:\n",
    "        hbox_dict[item] = hbox_FloatText_creator(item, \"deg\", 45)\n",
    "    else:\n",
    "        hbox_dict[item] = hbox_FloatText_creator(item, \"mm\", 5)\n",
    "\n",
    "groovetype_dropdown = widgets.Dropdown(\n",
    "    options=[\"None\",\n",
    "             \"VGroove\",\n",
    "             \"UGroove\",\n",
    "             \"IGroove\",\n",
    "             \"UVGroove\",\n",
    "             \"VVGroove\",\n",
    "             \"HVGroove\",\n",
    "             \"HUGroove\",\n",
    "             \"DoubleVGroove\",\n",
    "             \"DoubleUGroove\",\n",
    "             \"DoubleHVGroove\",\n",
    "             \"DoubleHUGroove\",\n",
    "             \"FrontalFaceGroove\"],\n",
    "    value='None',\n",
    "    description='Groove:',\n",
    ")\n",
    "\n",
    "selected_values_vbox = VBox([])\n",
    "\n",
    "groove_dict = dict()\n",
    "groove_dict[\"None\"] = []\n",
    "groove_dict[\"VGroove\"] = [\"workpiece_thickness\", \"groove_angle\", \"root_gap\", \"root_face\"]\n",
    "groove_dict[\"UGroove\"] = [\"workpiece_thickness\", \"bevel_angle\", \"bevel_radius\", \"root_gap\", \"root_face\"]\n",
    "groove_dict[\"IGroove\"] = [\"workpiece_thickness\",\"root_gap\"]\n",
    "groove_dict[\"UVGroove\"] = [\"workpiece_thickness\", \"groove_angle\", \"bevel_angle\", \"bevel_radius\", \"root_gap\", \"root_face\"]\n",
    "groove_dict[\"VGroove\"] = [\"workpiece_thickness\", \"groove_angle\", \"bevel_angle\", \"root_gap\", \"root_face\", \"root_face2\"]\n",
    "groove_dict[\"HVGroove\"] = [\"workpiece_thickness\", \"bevel_angle\", \"root_gap\", \"root_face\"]\n",
    "groove_dict[\"HUGroove\"] = [\"workpiece_thickness\", \"bevel_angle\", \"bevel_radius\", \"root_gap\", \"root_face\"]\n",
    "groove_dict[\"DoubleVGroove\"] = [\"workpiece_thickness\", \"groove_angle\", \"groove_angle2\", \"root_gap\", \"root_face\", \"root_face2\", \"root_face3\"]\n",
    "groove_dict[\"DoubleUGroove\"] = [\"workpiece_thickness\", \"bevel_angle\", \"bevel_angle2\", \"bevel_radius\", \"bevel_radius2\", \"root_gap\", \"root_face\", \"root_face2\", \"root_face3\"]\n",
    "groove_dict[\"DoubleHVGroove\"] = [\"workpiece_thickness\", \"bevel_angle\", \"bevel_angle2\", \"root_gap\", \"root_face\", \"root_face2\", \"root_face3\"]\n",
    "groove_dict[\"DoubleHUGroove\"] = [\"workpiece_thickness\", \"bevel_angle\", \"bevel_angle2\", \"bevel_radius\", \"bevel_radius2\", \"root_gap\", \"root_face\", \"root_face2\", \"root_face3\"]\n",
    "groove_dict[\"FrontalFaceGroove\"] = [\"workpiece_thickness\", \"workpiece_thickness2\", \"groove_angle\", \"root_gap\", \"root_face\", \"special_depth\", \"code_number\"]\n",
    "\n",
    "def remove_not_selected(change):\n",
    "    if groovetype_dropdown.value == \"None\":\n",
    "        selected_values_vbox.children = []\n",
    "    elif groovetype_dropdown.value == \"VGroove\":\n",
    "        selected_values_vbox.children = [slider for key, slider in hbox_dict.items() if key in groove_dict[\"VGroove\"]]\n",
    "    else:\n",
    "        selected_values_vbox.children = [slider for key, slider in hbox_dict.items() if key in groove_dict[groovetype_dropdown.value]] #[x[1] for x in hbox_dict.items()]\n",
    "\n",
    "        \n",
    "groovetype_dropdown.observe(remove_not_selected, names='value')\n",
    "    \n",
    "display(groovetype_dropdown)\n",
    "display(selected_values_vbox)"
   ]
  },
  {
   "cell_type": "code",
   "execution_count": 5,
   "metadata": {},
   "outputs": [],
   "source": [
    "from weldx.asdf.tags.weldx.core.iso_groove import get_groove\n",
    "from weldx.constants import WELDX_QUANTITY as Q_\n",
    "v_groove = get_groove(\n",
    "        groove_type=\"VGroove\",\n",
    "        workpiece_thickness=Q_(9, \"mm\"),\n",
    "        groove_angle=Q_(50, \"deg\"),\n",
    "        root_face=Q_(4, \"mm\"),\n",
    "        root_gap=Q_(2, \"mm\"),\n",
    "    )"
   ]
  },
  {
   "cell_type": "code",
   "execution_count": null,
   "metadata": {},
   "outputs": [],
   "source": []
  }
 ],
 "metadata": {
  "kernelspec": {
   "display_name": "weldx",
   "language": "python",
   "name": "weldx"
  },
  "language_info": {
   "codemirror_mode": {
    "name": "ipython",
    "version": 3
   },
   "file_extension": ".py",
   "mimetype": "text/x-python",
   "name": "python",
   "nbconvert_exporter": "python",
   "pygments_lexer": "ipython3",
   "version": "3.7.9"
  }
 },
 "nbformat": 4,
 "nbformat_minor": 4
}
