{
 "cells": [
  {
   "cell_type": "markdown",
   "metadata": {},
   "source": [
    "# Transformations Tutorial #1: Coordinate Systems\n",
    "## Introduction\n",
    "\n",
    "This tutorial is about the transformation packages `LocalCoordinateSystem` class which describes the orientation and position of a Cartesian coordinate system towards another reference coordinate system. The reference coordinate systems origin is always at $(0, 0, 0)$ and its orientation is described by the basis: $e_x = (1, 0, 0)$, $e_y = (0, 1, 0)$, $e_z = (0, 0, 1)$.\n",
    "\n",
    "## Imports\n",
    "The packages required in this tutorial are:"
   ]
  },
  {
   "cell_type": "code",
   "execution_count": null,
   "metadata": {
    "nbsphinx": "hidden"
   },
   "outputs": [],
   "source": [
    "# if the package is not installed in your python environment, run this to execute the notebook directly from inside the GitHub repository\n",
    "%cd -q .."
   ]
  },
  {
   "cell_type": "code",
   "execution_count": null,
   "metadata": {
    "nbsphinx": "hidden"
   },
   "outputs": [],
   "source": [
    "# enable interactive plots on Jupyterlab with ipympl and jupyterlab-matplotlib installed\n",
    "# %matplotlib widget"
   ]
  },
  {
   "cell_type": "code",
   "execution_count": null,
   "metadata": {},
   "outputs": [],
   "source": [
    "# plotting\n",
    "from mpl_toolkits.mplot3d import Axes3D  # noqa: F401 unused import\n",
    "import matplotlib.pyplot as plt\n",
    "\n",
    "# interactive plots\n",
    "import ipywidgets as widgets\n",
    "from ipywidgets import VBox, HBox, IntSlider, Checkbox, interactive_output, FloatSlider\n",
    "from IPython.display import display\n",
    "\n",
    "import numpy as np\n",
    "import pandas as pd\n",
    "import xarray as xr\n",
    "\n",
    "import weldx.visualization as vs\n",
    "import weldx.transformations as tf"
   ]
  },
  {
   "cell_type": "markdown",
   "metadata": {},
   "source": [
    "## Construction\n",
    "\n",
    "The constructor of the `LocalCoordinateSystem` class takes 2 parameters, the `orientation` and the `coordinates`. `orientation` is a 3x3 matrix. It can either be viewed as a rotation/reflection matrix or a set of normalized column vectors that represent the 3 basis vectors of the coordinate system. The matrix needs to be orthogonal, otherwise, an exception is raised. `coordinates` is the position of the local coordinate systems origin inside the reference coordinate system. The default parameters are the identity matrix and the zero vector. Hence, we get a system that is identical to the reference system if no parameter is passed to the constructor."
   ]
  },
  {
   "cell_type": "code",
   "execution_count": null,
   "metadata": {},
   "outputs": [],
   "source": [
    "lcs_ref = tf.LocalCoordinateSystem()"
   ]
  },
  {
   "cell_type": "markdown",
   "metadata": {},
   "source": [
    "We create some coordinate systems and visualize them using the `visualization` package. The coordinate axes are colored as follows:\n",
    "\n",
    "- x = red\n",
    "- y = green\n",
    "- z = blue"
   ]
  },
  {
   "cell_type": "code",
   "execution_count": null,
   "metadata": {},
   "outputs": [],
   "source": [
    "# create a translated coordinate system\n",
    "lcs_01 = tf.LocalCoordinateSystem(coordinates=[2, 4, -1])\n",
    "\n",
    "# create a rotated coordinate system using a rotation matrix as basis\n",
    "rotation_matrix = tf.rotation_matrix_z(np.pi / 3)\n",
    "lcs_02 = tf.LocalCoordinateSystem(orientation=rotation_matrix, coordinates=[0, 0, 3])"
   ]
  },
  {
   "cell_type": "markdown",
   "metadata": {},
   "source": [
    "**Plot:**"
   ]
  },
  {
   "cell_type": "code",
   "execution_count": null,
   "metadata": {},
   "outputs": [],
   "source": [
    "# create 3d plot\n",
    "fig_01 = plt.figure()\n",
    "ax_01 = fig_01.gca(projection=\"3d\")\n",
    "try:\n",
    "    fig_01.canvas.layout.height = \"500px\"\n",
    "    fig_01.canvas.layout.width = \"500px\"\n",
    "except:\n",
    "    fig_01.set_size_inches(10, 10)\n",
    "\n",
    "vs.plot_coordinate_system(lcs_ref, ax_01, color=\"r\", label=\"reference system\")\n",
    "vs.plot_coordinate_system(lcs_01, ax_01, color=\"g\", label=\"system 1\")\n",
    "vs.plot_coordinate_system(lcs_02, ax_01, color=\"b\", label=\"system 2\")\n",
    "vs.set_axes_equal(ax_01)\n",
    "plt.legend(loc=\"lower left\");"
   ]
  },
  {
   "cell_type": "markdown",
   "metadata": {},
   "source": [
    "> **HINT:** In the jupyter notebook version of this tutorial, you can rotate the plot by pressing the left mouse button and moving the mouse. This helps to understand how the different coordinate systems are positioned in the 3d space.\n",
    "\n",
    "Apart from the class constructor, there are some factory functions implemented to create a coordinate system. The `from_orientation` provides the same functionality as the class constructor. The `from_xyz` takes 3 basis vectors instead of a matrix. `from_xy_and_orientation`, `from_xz_and_orientation` and `from_yz_and_orientation` create a coordinate system with 2 basis vectors and a `bool` which specifies if the coordinate system should have a positive or negative orientation. Here are some examples:"
   ]
  },
  {
   "cell_type": "code",
   "execution_count": null,
   "metadata": {},
   "outputs": [],
   "source": [
    "# coordinate system using 3 basis vectors\n",
    "e_x = [1, 2, 0]\n",
    "e_y = [-2, 1, 0]\n",
    "e_z = [0, 0, 5]\n",
    "lcs_03 = tf.LocalCoordinateSystem.from_xyz(e_x, e_y, e_z, coordinates=[1, 1, 0])\n",
    "\n",
    "# create a negatively oriented coordinate system with 2 vectors\n",
    "lcs_04 = tf.LocalCoordinateSystem.from_yz_and_orientation(\n",
    "    e_y, e_z, positive_orientation=False, coordinates=[1, 1, 2]\n",
    ")"
   ]
  },
  {
   "cell_type": "markdown",
   "metadata": {},
   "source": [
    "**Plot:**"
   ]
  },
  {
   "cell_type": "code",
   "execution_count": null,
   "metadata": {},
   "outputs": [],
   "source": [
    "# create 3d plot\n",
    "fig_02 = plt.figure()\n",
    "ax_02 = fig_02.gca(projection=\"3d\")\n",
    "try:\n",
    "    fig_02.canvas.layout.height = \"500px\"\n",
    "    fig_02.canvas.layout.width = \"500px\"\n",
    "except:\n",
    "    fig_02.set_size_inches(10, 10)\n",
    "\n",
    "vs.plot_coordinate_system(lcs_ref, ax_02, color=\"r\", label=\"reference system\")\n",
    "vs.plot_coordinate_system(lcs_03, ax_02, color=\"g\", label=\"system 3\")\n",
    "vs.plot_coordinate_system(lcs_04, ax_02, color=\"b\", label=\"system 4\")\n",
    "vs.set_axes_equal(ax_02)\n",
    "plt.legend(loc=\"lower left\");"
   ]
  },
  {
   "cell_type": "markdown",
   "metadata": {},
   "source": [
    "As you can see, the y- and z-axis of system 3 and 4 are pointing into the same direction, since we used the same basis vectors. The automatically determined x axis of system 4 points into the opposite direction, since we wanted a system with negative orientation.\n",
    "\n",
    "Another method to create a `LocalCoordinateSystem` is `from_euler`. It utilizes the `scipy.spatial.transform.Rotation.from_euler` function to calculate a rotation matrix from Euler sequences and uses it to describe the orientation of the coordinate system. The parameters `sequence`, `angles`, and `degrees` of the `from_euler` method are directly passed to the SciPy function. `sequence` expects a string that determines the rotation sequence around the coordinate axes. For example `\"xyz\"`. `angles` is  a scalar or list of the corresponding number of angles and `degrees` a `bool` that specifies if the angles are provided in degrees (`degrees=True`) or radians (`degrees=False`). For further details, have a look at the [SciPy documentation](https://docs.scipy.org/doc/scipy/reference/generated/scipy.spatial.transform.Rotation.from_euler.html) of the `from_euler` function. Here is a short example:"
   ]
  },
  {
   "cell_type": "code",
   "execution_count": null,
   "metadata": {},
   "outputs": [],
   "source": [
    "# create a coordinate system by a 90° rotation around the x axis and subsequent 45° rotation around the y axis\n",
    "lcs_05 = tf.LocalCoordinateSystem.from_euler(sequence=\"x\", angles=90, degrees=True, coordinates=[1, -1, 0])\n",
    "lcs_06 = tf.LocalCoordinateSystem.from_euler(\n",
    "    sequence=\"xy\", angles=[90, 45], degrees=True, coordinates=[2, -2, 0]\n",
    ")"
   ]
  },
  {
   "cell_type": "markdown",
   "metadata": {},
   "source": [
    "**Plot:**"
   ]
  },
  {
   "cell_type": "code",
   "execution_count": null,
   "metadata": {},
   "outputs": [],
   "source": [
    "# create 3d plot\n",
    "fig_03 = plt.figure()\n",
    "ax_03 = fig_03.gca(projection=\"3d\")\n",
    "try:\n",
    "    fig_03.canvas.layout.height = \"500px\"\n",
    "    fig_03.canvas.layout.width = \"500px\"\n",
    "except:\n",
    "    fig_03.set_size_inches(10, 10)\n",
    "\n",
    "vs.plot_coordinate_system(lcs_ref, ax_03, color=\"r\", label=\"reference system\")\n",
    "vs.plot_coordinate_system(lcs_05, ax_03, color=\"g\", label=\"system 5\")\n",
    "vs.plot_coordinate_system(lcs_06, ax_03, color=\"b\", label=\"system 6\")\n",
    "vs.set_axes_equal(ax_03)\n",
    "plt.legend(loc=\"lower left\");"
   ]
  },
  {
   "cell_type": "markdown",
   "metadata": {},
   "source": [
    "## Coordinate transformations\n",
    "\n",
    "It is quite common that there exists a chain or tree-like dependency between coordinate systems. We might have a moving object with a local coordinate system that describes its position and orientation towards a fixed reference coordinate system. This object can have another object attached to it, with its position and orientation given in relation to its parent objects coordinate system. If we want to know the attached object coordinate system in relation to the reference coordinate system, we have to perform a coordinate transformation.\n",
    "\n",
    "To avoid confusion about the reference systems of each coordinate system, we will use the following naming convention for the coordinate systems: `lcs_NAME_in_REFERENCE`. This is a coordinate system with the name \"NAME\" and its reference system has the name \"REFERENCE\". The only exception to this convention will be the reference coordinate system \"lcs_ref\", which has no reference system.\n",
    "\n",
    "The `LocalCoordinateSystem` class provides the `+` and `-` operators to change the reference system easily. The `+` operator will transform a coordinate system to the reference coordinate system of its current reference system:\n",
    "\n",
    "~~~ python\n",
    "lcs_child_in_ref = lcs_child_in_parent + lcs_parent_in_ref\n",
    "~~~\n",
    "As the naming of the variables already implies, the `+` operator should only be used if there exists a **child-parent relation** between the left-hand side and right-hand side system.\n",
    "If two coordinate systems share a **common reference system**, the `-` operator transforms one of those systems into the other:\n",
    "\n",
    "~~~ python\n",
    "lcs_child_in_parent = lcs_child_in_ref - lcs_parent_in_ref\n",
    "~~~\n",
    "\n",
    "It is important to remember that this operation is in general not commutative since it involves matrix multiplication which is also not commutative. During those operations, the local system that should be transformed into another coordinate system is always located to the left of the `+` or `-` operator. You can also chain multiple transformations, like this:\n",
    "\n",
    "~~~ python\n",
    "lcs_A_in_C = lcs_A_in_B + lcs_B_in_ref - lcs_C_in_ref\n",
    "~~~\n",
    "\n",
    "Pythons operator associativity ([link](https://www.faceprep.in/python/python-operator-precedence-associativity/)) for the `+` and `-` operator ensures, that all operations are performed from left to right. So in the previously shown example, we first calculate an intermediate coordinate system `lcs_A_in_ref` (`lcs_A_in_B + lcs_B_in_ref`) without actually storing it to a variable and subsequently transform it to the reference coordinate system C (`lcs_A_in_ref - lcs_C_in_ref`). Keep in mind, that the intermediate results and the coordinate system on the right-hand side of the next operator must either have a child-parent relation (`+` operator) or share a common coordinate system (`-` operator), otherwise the transformation chain produces invalid results.\n",
    "\n",
    "You can think about both operators in the context of a tree-like graph structure where all dependency chains lead to a common root coordinate system. The `+` operator moves a coordinate system 1 level higher and closer to the root. Since its way to the root leads over its parent coordinate system, the parent is the only valid system than can be used on the right-hand side of the `+` operator. The `-` operator pushes a coordinate system one level lower and further away from the root. It can only be pushed one level deeper if there is another coordinate system connected to its parent system.\n",
    "\n",
    "> TODO: Add pictures\n",
    "\n",
    "### Interactive examples for the + and - operator\n",
    "\n",
    "The following small interactive examples should give you a better understanding of how the `+` and `-` operators work. The examples provide several sliders to modify the orientations and positions of 2 coordinate systems. From those, a third coordinate system is calculated using the `+` and `-` operator. Subsequently, the coordinate systems are plotted in relation to each other. The relevant lines of code, which generate the coordinate systems are:\n",
    "\n",
    "> **Hint:** The interactive plots need the `%matplotlib widget` magic command. Make sure you have the corresponding extensions installed and executed the command at the beginning of the tutorial"
   ]
  },
  {
   "cell_type": "code",
   "execution_count": null,
   "metadata": {},
   "outputs": [],
   "source": [
    "def coordinate_system_addition(parent_orientation, parent_coordinates, child_orientation, child_coordinates):\n",
    "    lcs_parent_in_ref = tf.LocalCoordinateSystem(orientation=parent_orientation, coordinates=parent_coordinates)\n",
    "    lcs_child_in_parent = tf.LocalCoordinateSystem(orientation=child_orientation, coordinates=child_coordinates)\n",
    "\n",
    "    lcs_child_in_ref = lcs_child_in_parent + lcs_parent_in_ref\n",
    "\n",
    "    return [lcs_parent_in_ref, lcs_child_in_parent, lcs_child_in_ref]\n",
    "\n",
    "\n",
    "def coordinate_system_subtraction(\n",
    "    sys1_in_ref_orientation, sys1_in_ref_coordinates, sys2_in_ref_orientation, sys2_in_ref_coordinates\n",
    "):\n",
    "    lcs_sys1_in_ref = tf.LocalCoordinateSystem(orientation=sys1_in_ref_orientation, coordinates=sys1_in_ref_coordinates)\n",
    "    lcs_sys2_in_ref = tf.LocalCoordinateSystem(orientation=sys2_in_ref_orientation, coordinates=sys2_in_ref_coordinates)\n",
    "\n",
    "    lcs_sys2_in_sys1 = lcs_sys2_in_ref - lcs_sys1_in_ref\n",
    "    lcs_sys1_in_sys2 = lcs_sys1_in_ref - lcs_sys2_in_ref\n",
    "\n",
    "    return [lcs_sys1_in_ref, lcs_sys2_in_ref, lcs_sys1_in_sys2, lcs_sys2_in_sys1]"
   ]
  },
  {
   "cell_type": "markdown",
   "metadata": {},
   "source": [
    "Now just execute the following code cells. You don't need to understand them since they just create the sliders and plots:"
   ]
  },
  {
   "cell_type": "code",
   "execution_count": null,
   "metadata": {
    "jupyter": {
     "source_hidden": true
    }
   },
   "outputs": [],
   "source": [
    "def create_output_widget(window_size=900):\n",
    "    # create output widget that will hold the figure\n",
    "    out = widgets.Output(layout={\"border\": \"2px solid black\"})\n",
    "\n",
    "    # create figure inside output widget\n",
    "    with out:\n",
    "        fig = plt.figure()\n",
    "        try:\n",
    "            fig.canvas.layout.height = str(window_size) + \"px\"\n",
    "            fig.canvas.layout.width = str(window_size) + \"px\"\n",
    "        except:\n",
    "            pass\n",
    "        gs = fig.add_gridspec(3, 2)\n",
    "        ax_0 = fig.add_subplot(gs[0, 0], projection=\"3d\")\n",
    "        ax_1 = fig.add_subplot(gs[0, 1], projection=\"3d\")\n",
    "        ax_2 = fig.add_subplot(gs[1:, 0:], projection=\"3d\")\n",
    "    return [out, fig, ax_0, ax_1, ax_2]\n",
    "\n",
    "\n",
    "def setup_axes(axes, limit, title=\"\"):\n",
    "    axes.set_xlim([-limit, limit])\n",
    "    axes.set_ylim([-limit, limit])\n",
    "    axes.set_zlim([-limit, limit])\n",
    "    axes.set_xlabel(\"x\")\n",
    "    axes.set_ylabel(\"y\")\n",
    "    axes.set_zlabel(\"z\")\n",
    "    axes.set_title(title)\n",
    "    axes.legend(loc=\"lower left\")\n",
    "\n",
    "\n",
    "def get_orientation_and_location(t_x, t_y, t_z, r_x, r_y, r_z):\n",
    "    rot_angles = np.array([r_x, r_y, r_z], float) / 180 * np.pi\n",
    "\n",
    "    rot_x = tf.rotation_matrix_x(rot_angles[0])\n",
    "    rot_y = tf.rotation_matrix_y(rot_angles[1])\n",
    "    rot_z = tf.rotation_matrix_z(rot_angles[2])\n",
    "\n",
    "    orientation = np.matmul(rot_z, np.matmul(rot_y, rot_x))\n",
    "    location = [t_x, t_y, t_z]\n",
    "    return [orientation, location]\n",
    "\n",
    "\n",
    "def create_slider(limit, step, label):\n",
    "    layout = widgets.Layout(width=\"200px\", height=\"40px\")\n",
    "    style = {\"description_width\": \"initial\"}\n",
    "    return FloatSlider(\n",
    "        min=-limit, max=limit, step=step, description=label, continuous_update=True, layout=layout, style=style\n",
    "    )\n",
    "\n",
    "\n",
    "def create_interactive_plot(function, limit_loc=3, name_sys1=\"system 1\", name_sys2=\"system 2\"):\n",
    "    step_loc = 0.25\n",
    "\n",
    "    w_s1_l = dict(\n",
    "        s1_x=create_slider(limit_loc, step_loc, \"x\"),\n",
    "        s1_y=create_slider(limit_loc, step_loc, \"y\"),\n",
    "        s1_z=create_slider(limit_loc, step_loc, \"z\"),\n",
    "    )\n",
    "\n",
    "    w_s1_r = dict(\n",
    "        s1_rx=create_slider(180, 10, \"x\"), s1_ry=create_slider(180, 10, \"y\"), s1_rz=create_slider(180, 10, \"z\")\n",
    "    )\n",
    "\n",
    "    w_s2_l = dict(\n",
    "        s2_x=create_slider(limit_loc, step_loc, \"x\"),\n",
    "        s2_y=create_slider(limit_loc, step_loc, \"y\"),\n",
    "        s2_z=create_slider(limit_loc, step_loc, \"z\"),\n",
    "    )\n",
    "\n",
    "    w_s2_r = dict(\n",
    "        s2_rx=create_slider(180, 10, \"x\"), s2_ry=create_slider(180, 10, \"y\"), s2_rz=create_slider(180, 10, \"z\")\n",
    "    )\n",
    "\n",
    "    w = {**w_s1_l, **w_s1_r, **w_s2_l, **w_s2_r}\n",
    "\n",
    "    output = interactive_output(function, w)\n",
    "    box_0 = VBox([widgets.Label(name_sys1 + \" coordinates\"), *w_s1_l.values()])\n",
    "    box_1 = VBox([widgets.Label(name_sys1 + \" rotation (deg)\"), *w_s1_r.values()])\n",
    "    box_2 = VBox([widgets.Label(name_sys2 + \" coordinates\"), *w_s2_l.values()])\n",
    "    box_3 = VBox([widgets.Label(name_sys2 + \" rotation (deg)\"), *w_s2_r.values()])\n",
    "    box = HBox([box_0, box_1, box_2, box_3])\n",
    "    display(box)"
   ]
  },
  {
   "cell_type": "code",
   "execution_count": null,
   "metadata": {
    "jupyter": {
     "source_hidden": true
    }
   },
   "outputs": [],
   "source": [
    "axes_lim = 3\n",
    "window_size = 1000\n",
    "\n",
    "[out, fig_iadd, ax_iadd_0, ax_iadd_1, ax_iadd_2] = create_output_widget(window_size)\n",
    "\n",
    "\n",
    "def update_output(s1_x, s1_y, s1_z, s1_rx, s1_ry, s1_rz, s2_x, s2_y, s2_z, s2_rx, s2_ry, s2_rz):\n",
    "\n",
    "    [parent_orientation, parent_coordinates] = get_orientation_and_location(s1_x, s1_y, s1_z, s1_rx, s1_ry, s1_rz)\n",
    "    [child_orientation, child_coordinates] = get_orientation_and_location(s2_x, s2_y, s2_z, s2_rx, s2_ry, s2_rz)\n",
    "\n",
    "    [lcs_parent, lcs_child, lcs_child_ref] = coordinate_system_addition(\n",
    "        parent_orientation, parent_coordinates, child_orientation, child_coordinates\n",
    "    )\n",
    "\n",
    "    coordinates_cr = lcs_child_ref.coordinates\n",
    "    cr_x = coordinates_cr[0]\n",
    "    cr_y = coordinates_cr[1]\n",
    "    cr_z = coordinates_cr[2]\n",
    "\n",
    "    ax_iadd_0.clear()\n",
    "    vs.plot_coordinate_system(lcs_ref, ax_iadd_0, color=\"r\", label=\"reference\")\n",
    "    vs.plot_coordinate_system(lcs_parent, ax_iadd_0, color=\"g\", label=\"parent\")\n",
    "    ax_iadd_0.plot([0, s1_x], [0, s1_y], [0, s1_z], \"c--\", label=\"ref -> parent\")\n",
    "    setup_axes(ax_iadd_0, axes_lim, \"'parent' in reference coordinate system\")\n",
    "\n",
    "    ax_iadd_1.clear()\n",
    "    vs.plot_coordinate_system(lcs_ref, ax_iadd_1, color=\"g\", label=\"parent\")\n",
    "    vs.plot_coordinate_system(lcs_child, ax_iadd_1, color=\"y\", label=\"child\")\n",
    "    ax_iadd_1.plot([0, s2_x], [0, s2_y], [0, s2_z], \"m--\", label=\"parent -> child\")\n",
    "    setup_axes(ax_iadd_1, axes_lim, \"'child' in 'parent' coordinate system\")\n",
    "\n",
    "    ax_iadd_2.clear()\n",
    "    vs.plot_coordinate_system(lcs_ref, ax_iadd_2, color=\"r\", label=\"reference\")\n",
    "    vs.plot_coordinate_system(lcs_parent, ax_iadd_2, color=\"g\", label=\"parent\")\n",
    "    vs.plot_coordinate_system(lcs_child_ref, ax_iadd_2, color=\"y\", label=\"parent + child\")\n",
    "    ax_iadd_2.plot([0, s1_x], [0, s1_y], [0, s1_z], \"c--\", label=\"ref -> parent\")\n",
    "    ax_iadd_2.plot([s1_x, cr_x], [s1_y, cr_y], [s1_z, cr_z], \"m--\", label=\"parent -> child\")\n",
    "    setup_axes(ax_iadd_2, axes_lim * 2, \"'parent' and 'child' in reference coordinate system\")\n",
    "\n",
    "create_interactive_plot(update_output, limit_loc=axes_lim, name_sys1=\"parent\", name_sys2=\"child\")\n",
    "out"
   ]
  },
  {
   "cell_type": "code",
   "execution_count": null,
   "metadata": {
    "jupyter": {
     "source_hidden": true
    }
   },
   "outputs": [],
   "source": [
    "axes_lim = 1.5\n",
    "window_size = 1000\n",
    "\n",
    "[out_2, fig2, ax_isub_0, ax_isub_1, ax_isub_2] = create_output_widget(window_size)\n",
    "\n",
    "\n",
    "def update_output2(s1_x, s1_y, s1_z, s1_rx, s1_ry, s1_rz, s2_x, s2_y, s2_z, s2_rx, s2_ry, s2_rz):\n",
    "\n",
    "    [sys1_orientation, sys1_coordinates] = get_orientation_and_location(s1_x, s1_y, s1_z, s1_rx, s1_ry, s1_rz)\n",
    "    [sys2_orientation, sys2_coordinates] = get_orientation_and_location(s2_x, s2_y, s2_z, s2_rx, s2_ry, s2_rz)\n",
    "\n",
    "    [lcs_sys1_in_ref, lcs_sys2_in_ref, lcs_sys1_in_sys2, lcs_sys2_in_sys1] = coordinate_system_subtraction(\n",
    "        sys1_orientation, sys1_coordinates, sys2_orientation, sys2_coordinates\n",
    "    )\n",
    "    sys12_o = lcs_sys1_in_sys2.coordinates\n",
    "    sys12_x = sys12_o[0]\n",
    "    sys12_y = sys12_o[1]\n",
    "    sys12_z = sys12_o[2]\n",
    "\n",
    "    sys21_o = lcs_sys2_in_sys1.coordinates\n",
    "    sys21_x = sys21_o[0]\n",
    "    sys21_y = sys21_o[1]\n",
    "    sys21_z = sys21_o[2]\n",
    "\n",
    "    ax_isub_1.clear()\n",
    "    vs.plot_coordinate_system(lcs_ref, ax_isub_1, color=\"g\", label=\"system 1 (reference)\")\n",
    "    vs.plot_coordinate_system(lcs_sys2_in_sys1, ax_isub_1, color=\"b\", label=\"system 2 - system 1\")\n",
    "    ax_isub_1.plot([0, sys21_x], [0, sys21_y], [0, sys21_z], \"y--\", label=\"system 1 -> system 2\")\n",
    "    setup_axes(ax_isub_1, axes_lim * 2, \"'system 2' in 'system 1'\")\n",
    "\n",
    "    ax_isub_0.clear()\n",
    "    vs.plot_coordinate_system(lcs_ref, ax_isub_0, color=\"b\", label=\"system 2 (reference)\")\n",
    "    vs.plot_coordinate_system(lcs_sys1_in_sys2, ax_isub_0, color=\"g\", label=\"system_1 - system 2\")\n",
    "    ax_isub_0.plot([0, sys12_x], [0, sys12_y], [0, sys12_z], \"y--\", label=\"system 1 -> system 2\")\n",
    "    setup_axes(ax_isub_0, axes_lim * 2, \"'system 1' in 'system 2'\")\n",
    "\n",
    "    ax_isub_2.clear()\n",
    "    vs.plot_coordinate_system(lcs_ref, ax_isub_2, color=\"r\", label=\"reference\")\n",
    "    vs.plot_coordinate_system(lcs_sys1_in_ref, ax_isub_2, color=\"g\", label=\"system 1\")\n",
    "    vs.plot_coordinate_system(lcs_sys2_in_ref, ax_isub_2, color=\"b\", label=\"system 2\")\n",
    "    ax_isub_2.plot([0, s1_x], [0, s1_y], [0, s1_z], \"g--\", label=\"ref -> system 1\")\n",
    "    ax_isub_2.plot([0, s2_x], [0, s2_y], [0, s2_z], \"b--\", label=\"ref -> system 2\")\n",
    "    ax_isub_2.plot([s1_x, s2_x], [s1_y, s2_y], [s1_z, s2_z], \"y--\", label=\"system 1 <-> system 2\")\n",
    "    setup_axes(ax_isub_2, axes_lim, \"'system 1' and 'system 2' in reference coordinate system\")\n",
    "\n",
    "\n",
    "create_interactive_plot(update_output2, limit_loc=axes_lim)\n",
    "out_2"
   ]
  },
  {
   "cell_type": "markdown",
   "metadata": {},
   "source": [
    "## Invert method\n",
    "\n",
    "The `invert` method calculates how a parent coordinate system is positioned and oriented in its child coordinate system:\n",
    "\n",
    "~~~ python\n",
    "lcs_child_in_parent = lcs_parent_in_child.invert()\n",
    "~~~\n",
    "\n",
    "Here is a short example with visualization:"
   ]
  },
  {
   "cell_type": "code",
   "execution_count": null,
   "metadata": {},
   "outputs": [],
   "source": [
    "lcs_child_in_parent = tf.LocalCoordinateSystem.from_euler(\n",
    "    sequence=\"xy\", angles=[90, 45], degrees=True, coordinates=[2, 3, 0]\n",
    ")\n",
    "lcs_parent_in_child = lcs_child_in_parent.invert()"
   ]
  },
  {
   "cell_type": "markdown",
   "metadata": {},
   "source": [
    "**Plot:**"
   ]
  },
  {
   "cell_type": "code",
   "execution_count": null,
   "metadata": {
    "jupyter": {
     "source_hidden": true
    }
   },
   "outputs": [],
   "source": [
    "# create subplots\n",
    "fig_invert = plt.figure()\n",
    "try:\n",
    "    fig_invert.canvas.layout.height = \"500px\"\n",
    "    fig_invert.canvas.layout.width = \"1000px\"\n",
    "except:\n",
    "    fig_invert.set_size_inches(20, 10)\n",
    "gs_invert = fig_invert.add_gridspec(1, 2)\n",
    "ax_invert_0 = fig_invert.add_subplot(gs_invert[0, 0], projection=\"3d\")\n",
    "ax_invert_1 = fig_invert.add_subplot(gs_invert[0, 1], projection=\"3d\")\n",
    "\n",
    "# first plot\n",
    "vs.plot_coordinate_system(lcs_ref, ax_invert_0, color=\"r\", label=\"parent\")\n",
    "vs.plot_coordinate_system(lcs_child_in_parent, ax_invert_0, color=\"g\", label=\"child\")\n",
    "ax_invert_0.set_xlim([-3, 3])\n",
    "ax_invert_0.set_ylim([-3, 3])\n",
    "ax_invert_0.set_zlim([-3, 3])\n",
    "ax_invert_0.set_title(\"child in parent\")\n",
    "ax_invert_0.legend(loc=\"lower left\")\n",
    "\n",
    "\n",
    "# second plot\n",
    "vs.plot_coordinate_system(lcs_parent_in_child, ax_invert_1, color=\"r\", label=\"parent\")\n",
    "vs.plot_coordinate_system(lcs_ref, ax_invert_1, color=\"g\", label=\"child\")\n",
    "ax_invert_1.set_xlim([-3, 3])\n",
    "ax_invert_1.set_ylim([-3, 3])\n",
    "ax_invert_1.set_zlim([-3, 3])\n",
    "ax_invert_1.set_title(\"parent in child\")\n",
    "ax_invert_1.legend(loc=\"lower left\");"
   ]
  },
  {
   "cell_type": "markdown",
   "metadata": {},
   "source": [
    "## Time dependency\n",
    "\n",
    "The orientation and position of a local coordinate system towards their reference system might vary in time. For example, in a welding process, the position of the torch towards the specimen is changing constantly. The `LocalCoordinateSystem` provides an interface for such cases. All previously shown construction methods also provide the option to pass a `time` parameter.\n",
    "\n",
    "> **IMPORTANT HINT:** In the current package version, only the constructors `time` parameter is actually working\n",
    "\n",
    "> **TODO:** Rewrite examples if factory methods also support time dependency\n",
    "\n",
    "To create a time-dependent system, you have to provide a list of timestamps that can be converted to a `pandas.DateTimeIndex`. If you do, you also need to provide the extra data for the `orientation` and/or `coordinates` to the constructor or construction method. You do this by adding an extra outer dimension to the corresponding time-dependent function parameter. For example: If you want to create a moving coordinate system with 2 timestamps, you can do it by like this:\n",
    "\n",
    "~~~ python\n",
    "time = [\"2010-02-01\", \"2010-02-02\"]\n",
    "\n",
    " # fixed orientation (no extra dimension)\n",
    "orientation_mov = [[0, -1, 0], [1, 0, 0], [0, 0, 1]]\n",
    "\n",
    "# time dependent coordinates (extra dimension)\n",
    "coordinates_mov = [[-3, 0, 0], [0, 0, 2]]\n",
    "\n",
    "lcs_mov_in_ref = tf.LocalCoordinateSystem(orientation=orientation_mov, coordinates=coordinates_mov, time=time)\n",
    "~~~\n",
    "\n",
    "A coordinate system with varying orientation between 2 timestamps is defined by:\n",
    "\n",
    "~~~ python\n",
    "time = [\"2010-02-01\", \"2010-02-02\"]\n",
    "\n",
    "# time dependent orientation (extra coordinate)\n",
    "orientation_rot = [[[1, 0, 0], [0, 1, 0], [0, 0, 1]], [[0, -1, 0], [1, 0, 0], [0, 0, 1]]]\n",
    "\n",
    "# fixed coordinates (no extra dimension)\n",
    "coordinates_rot = [1, 0, 2]\n",
    "\n",
    "lcs_rot_in_ref = tf.LocalCoordinateSystem(orientation=orientation_rot, coordinates=coordinates_rot, time=time)\n",
    "~~~\n",
    "\n",
    "You can also create a rotating and moving coordinate system:\n",
    "\n",
    "~~~ python\n",
    "time = [\"2010-02-01\", \"2010-02-02\"]\n",
    "\n",
    "coordinates_movrot = [[0, 3, 0], [-2, 3, 2]]\n",
    "orientation_movrot = [[[1, 0, 0], [0, 1, 0], [0, 0, 1]], [[0, -1, 0], [1, 0, 0], [0, 0, 1]]]\n",
    "\n",
    "lcs_movrot_in_ref = tf.LocalCoordinateSystem(orientation=orientation_movrot, coordinates=coordinates_movrot, time=time)\n",
    "~~~\n",
    "\n",
    "You have to ensure, that the extra outer dimension has always the same number of entries as a number of timestamps you provided. Otherwise, an exception is raised. In case your coordinate system data is not always providing orientation and coordinates at the same time, you need to interpolate the missing values first.\n",
    "\n",
    "Here is a visualization of the discussed coordinate systems at the two different times:"
   ]
  },
  {
   "cell_type": "code",
   "execution_count": null,
   "metadata": {},
   "outputs": [],
   "source": [
    "# define coordinate systems\n",
    "time = [\"2010-02-01\", \"2010-02-02\"]\n",
    "\n",
    "orientation_mov = [[0, -1, 0], [1, 0, 0], [0, 0, 1]]\n",
    "coordinates_mov = [[-3, 0, 0], [0, 0, 2]]\n",
    "lcs_mov_in_ref = tf.LocalCoordinateSystem(orientation=orientation_mov, coordinates=coordinates_mov, time=time)\n",
    "\n",
    "orientation_rot = [[[1, 0, 0], [0, 1, 0], [0, 0, 1]], [[0, -1, 0], [1, 0, 0], [0, 0, 1]]]\n",
    "coordinates_rot = [1, 0, 2]\n",
    "lcs_rot_in_ref = tf.LocalCoordinateSystem(orientation=orientation_rot, coordinates=coordinates_rot, time=time)\n",
    "\n",
    "coordinates_movrot = [[0, 3, 0], [-2, 3, 2]]\n",
    "orientation_movrot = [[[1, 0, 0], [0, 1, 0], [0, 0, 1]], [[0, -1, 0], [1, 0, 0], [0, 0, 1]]]\n",
    "lcs_movrot_in_ref = tf.LocalCoordinateSystem(orientation=orientation_movrot, coordinates=coordinates_movrot, time=time)"
   ]
  },
  {
   "cell_type": "markdown",
   "metadata": {},
   "source": [
    "**Plot:**"
   ]
  },
  {
   "cell_type": "code",
   "execution_count": null,
   "metadata": {
    "jupyter": {
     "source_hidden": true
    }
   },
   "outputs": [],
   "source": [
    "# plot coordinate systems\n",
    "fig_time_dep = plt.figure()\n",
    "try:\n",
    "    fig_time_dep.canvas.layout.height = \"500px\"\n",
    "    fig_time_dep.canvas.layout.width = \"1000px\"\n",
    "except:\n",
    "    fig_time_dep.set_size_inches(20, 10)\n",
    "gs_time_dep = fig_time_dep.add_gridspec(1, 2)\n",
    "ax_0_time_dep = fig_time_dep.add_subplot(gs_time_dep[0, 0], projection=\"3d\")\n",
    "ax_1_time_dep = fig_time_dep.add_subplot(gs_time_dep[0, 1], projection=\"3d\")\n",
    "\n",
    "# first timestep\n",
    "vs.plot_coordinate_system(lcs_ref, ax_0_time_dep, color=\"r\", label=\"reference\")\n",
    "vs.plot_coordinate_system(lcs_mov_in_ref, ax_0_time_dep, color=\"g\", label=\"lcs_mov_in_ref\", time_idx=0)\n",
    "vs.plot_coordinate_system(lcs_rot_in_ref, ax_0_time_dep, color=\"b\", label=\"lcs_rot_in_ref\", time_idx=0)\n",
    "vs.plot_coordinate_system(lcs_movrot_in_ref, ax_0_time_dep, color=\"c\", label=\"lcs_movrot_in_ref\", time_idx=0)\n",
    "ax_0_time_dep.set_xlim([-3, 3])\n",
    "ax_0_time_dep.set_ylim([-3, 3])\n",
    "ax_0_time_dep.set_zlim([-3, 3])\n",
    "ax_0_time_dep.set_title(\"first timestep\")\n",
    "ax_0_time_dep.legend(loc=\"lower left\")\n",
    "\n",
    "\n",
    "# second timestep\n",
    "vs.plot_coordinate_system(lcs_ref, ax_1_time_dep, color=\"r\", label=\"reference\")\n",
    "vs.plot_coordinate_system(lcs_mov_in_ref, ax_1_time_dep, color=\"g\", label=\"lcs_mov_in_ref\", time_idx=1)\n",
    "vs.plot_coordinate_system(lcs_rot_in_ref, ax_1_time_dep, color=\"b\", label=\"lcs_rot_in_ref\", time_idx=1)\n",
    "vs.plot_coordinate_system(lcs_movrot_in_ref, ax_1_time_dep, color=\"c\", label=\"lcs_movrot_in_ref\", time_idx=1)\n",
    "ax_1_time_dep.set_xlim([-3, 3])\n",
    "ax_1_time_dep.set_ylim([-3, 3])\n",
    "ax_1_time_dep.set_zlim([-3, 3])\n",
    "ax_1_time_dep.set_title(\"second timestep\")\n",
    "ax_1_time_dep.legend(loc=\"lower left\");"
   ]
  },
  {
   "cell_type": "markdown",
   "metadata": {},
   "source": [
    "## Time interpolation\n",
    "\n",
    "It is also possible, to interpolate a coordinate system's orientations and coordinates in time by using the `interp_time` function. You have to pass it a single or multiple target times for the interpolation. As for the constructor, you can pass any type that is convertible to a `pandas.DatetimeIndex`. Alternatively, you can pass another `LocalCoordinateSystem` which provides the target timestamps. The return value of this function is a new `LocalCoordinateSystem` with interpolated orientations and coordinates.\n",
    "\n",
    "In case that a target time for the interpolation lies outside of the `LocalCoordinateSystem`s' time range, the boundary value is broadcasted.\n",
    "\n",
    "Here is an example:"
   ]
  },
  {
   "cell_type": "code",
   "execution_count": null,
   "metadata": {},
   "outputs": [],
   "source": [
    "# original coordinate system\n",
    "time = [\"2010-02-02\", \"2010-02-07\"]\n",
    "\n",
    "coordinates_tdp = [[0, 3, 0], [-2, 3, 2]]\n",
    "orientation_tdp = [[[1, 0, 0], [0, 1, 0], [0, 0, 1]], [[0, -1, 0], [1, 0, 0], [0, 0, 1]]]\n",
    "lcs_tdp_in_ref = tf.LocalCoordinateSystem(orientation=orientation_movrot, coordinates=coordinates_movrot, time=time)\n",
    "\n",
    "time_interp = pd.DatetimeIndex([\"2010-02-01\", \"2010-02-03\", \"2010-02-04\", \"2010-02-05\", \"2010-02-06\", \"2010-02-11\"])\n",
    "lcs_interp_in_ref = lcs_tdp_in_ref.interp_time(time_interp)"
   ]
  },
  {
   "cell_type": "markdown",
   "metadata": {},
   "source": [
    "**Plot:**"
   ]
  },
  {
   "cell_type": "code",
   "execution_count": null,
   "metadata": {
    "jupyter": {
     "source_hidden": true
    }
   },
   "outputs": [],
   "source": [
    "# plot coordinate systems\n",
    "fig_interp = plt.figure()\n",
    "try:\n",
    "    fig_interp.canvas.layout.height = \"500px\"\n",
    "    fig_interp.canvas.layout.width = \"1000px\"\n",
    "except:\n",
    "    fig_interp.set_size_inches(20, 10)\n",
    "gs_interp = fig_interp.add_gridspec(1, 2)\n",
    "ax_0_interp = fig_interp.add_subplot(gs_interp[0, 0], projection=\"3d\")\n",
    "ax_1_interp = fig_interp.add_subplot(gs_interp[0, 1], projection=\"3d\")\n",
    "\n",
    "# original systems\n",
    "vs.plot_coordinate_system(lcs_ref, ax_0_interp, color=\"r\", label=\"reference\")\n",
    "vs.plot_coordinate_system(lcs_tdp_in_ref, ax_0_interp, color=\"g\", label=\"2010-02-01\", time_idx=0)\n",
    "vs.plot_coordinate_system(lcs_tdp_in_ref, ax_0_interp, color=\"b\", label=\"2010-02-07\", time_idx=1)\n",
    "ax_0_interp.set_xlim([-3, 3])\n",
    "ax_0_interp.set_ylim([-3, 3])\n",
    "ax_0_interp.set_zlim([-3, 3])\n",
    "ax_0_interp.set_title(\"original system\")\n",
    "ax_0_interp.legend(loc=\"lower left\")\n",
    "\n",
    "\n",
    "# interpolated systems\n",
    "vs.plot_coordinate_system(lcs_ref, ax_1_interp, color=\"r\", label=\"reference\")\n",
    "num_time = len(time_interp)\n",
    "colors = [[0, 1, 0], [0, 1, 0.5], [0, 1, 1], [0, 0.5, 1], [0, 0, 1], [0.5, 0, 1]]\n",
    "for i in range(num_time):\n",
    "    vs.plot_coordinate_system(lcs_interp_in_ref, ax_1_interp, color=colors[i], label=time_interp[i], time_idx=i)\n",
    "ax_1_interp.set_xlim([-3, 3])\n",
    "ax_1_interp.set_ylim([-3, 3])\n",
    "ax_1_interp.set_zlim([-3, 3])\n",
    "ax_1_interp.set_title(\"interpolated system\")\n",
    "ax_1_interp.legend(loc=\"lower left\");"
   ]
  },
  {
   "cell_type": "markdown",
   "metadata": {},
   "source": [
    "As you can see, the time values `\"2010-02-01\"` and `\"2010-02-11\"`, which lie outside the original range from `\"2010-02-02\"` and `\"2010-02-07\"`  still get valid values due to the broadcasting across time range boundaries. The intermediate coordinates and orientations are interpolated as expected.\n",
    "\n",
    "> **TODO:** Mention interpolation behavior of `+` and `*`\n",
    "\n",
    "## Transformation of spatial data\n",
    "\n",
    "The `LocalCoordinateSystem` only defines how the different coordinate systems are oriented towards each other. If you want to transform spatial data which is defined in one coordinate system (for example specimen geometry/point cloud) you have to use the `CoordinateSystemManager`, which is discussed in the next tutorial or do the transformation manually.\n",
    "For the manual transformation, you can get all you need from the `LocalCoordinateSystem` using its accessor properties:\n",
    "\n",
    "~~~\n",
    "orientation = lcs_a_in_b.orientation\n",
    "coordinates = lcs_a_in_b.coordinates\n",
    "~~~\n",
    "\n",
    "The returned data is an `xarray.DataFrame`. In case you are not used to work with this data type, you can get a `numpy.ndarray` by simply using their `data` property:\n",
    "\n",
    "~~~\n",
    "orientation_numpy = lcs_a_in_b.orientation.data\n",
    "coordinates_numpy = lcs_a_in_b.coordinates.data\n",
    "~~~\n",
    "\n",
    "Keep in mind, that you actually get an array of matrices (`orientation`) and vectors (`coordinates`) if the corresponding component is time dependent. The transformation itself is done by the equation:\n",
    "\n",
    "$$v_b = O_{ab} \\cdot v_a + c_{ab}$$\n",
    "\n",
    "where $v_a$ is a data point defined in coordinate system `a`, $O_{ab}$ is the orientation matrix of `a` in `b`, $c_{ab}$ the coordinates of `a` in `b` and $v_b$ the transformed data point.\n",
    "\n",
    "\n",
    "Here is a short example that transforms the points of a square from one coordinate system to another:"
   ]
  },
  {
   "cell_type": "code",
   "execution_count": null,
   "metadata": {},
   "outputs": [],
   "source": [
    "lcs_target_in_ref = tf.LocalCoordinateSystem.from_euler(\n",
    "    sequence=\"zy\", angles=[90, 45], degrees=True, coordinates=[2, -2, 0]\n",
    ")\n",
    "lcs_ref_in_target = lcs_target_in_ref.invert()\n",
    "\n",
    "points_in_ref = np.array([[-1, 1, 0], [1, 1, 0], [1, -1, 0], [-1, -1, 0], [-1, 1, 0]], dtype=float).transpose()\n",
    "\n",
    "# Transform points to target system\n",
    "points_in_target = (\n",
    "    np.matmul(lcs_ref_in_target.orientation.data, points_in_ref) + lcs_ref_in_target.coordinates.data[:, np.newaxis]\n",
    ")"
   ]
  },
  {
   "cell_type": "markdown",
   "metadata": {},
   "source": [
    "**Plot:**"
   ]
  },
  {
   "cell_type": "code",
   "execution_count": null,
   "metadata": {
    "jupyter": {
     "source_hidden": true
    }
   },
   "outputs": [],
   "source": [
    "# plot coordinate systems\n",
    "fig_trans = plt.figure()\n",
    "try:\n",
    "    fig_trans.canvas.layout.height = \"500px\"\n",
    "    fig_trans.canvas.layout.width = \"1000px\"\n",
    "except:\n",
    "    fig_trans.set_size_inches(20, 10)\n",
    "gs_trans = fig_trans.add_gridspec(1, 2)\n",
    "ax_0_trans = fig_trans.add_subplot(gs_trans[0, 0], projection=\"3d\")\n",
    "ax_1_trans = fig_trans.add_subplot(gs_trans[0, 1], projection=\"3d\")\n",
    "\n",
    "# first plot\n",
    "vs.plot_coordinate_system(lcs_ref, ax_0_trans, color=\"r\", label=\"original system\")\n",
    "vs.plot_coordinate_system(lcs_target_in_ref, ax_0_trans, color=\"g\", label=\"target system\", time_idx=0)\n",
    "ax_0_trans.plot(points_in_ref[0], points_in_ref[1], points_in_ref[2])\n",
    "ax_0_trans.set_xlim([-3, 3])\n",
    "ax_0_trans.set_ylim([-3, 3])\n",
    "ax_0_trans.set_zlim([-3, 3])\n",
    "ax_0_trans.set_title(\"Data in original system\")\n",
    "ax_0_trans.legend(loc=\"lower left\")\n",
    "\n",
    "\n",
    "# second plot\n",
    "vs.plot_coordinate_system(lcs_ref_in_target, ax_1_trans, color=\"r\", label=\"original system\")\n",
    "vs.plot_coordinate_system(lcs_ref, ax_1_trans, color=\"g\", label=\"target system\", time_idx=0)\n",
    "ax_1_trans.plot(points_in_target[0], points_in_target[1], points_in_target[2])\n",
    "ax_1_trans.set_xlim([-3, 3])\n",
    "ax_1_trans.set_ylim([-3, 3])\n",
    "ax_1_trans.set_zlim([-3, 3])\n",
    "ax_1_trans.set_title(\"Data in target system\")\n",
    "ax_1_trans.legend(loc=\"lower left\");"
   ]
  },
  {
   "cell_type": "markdown",
   "metadata": {},
   "source": [
    "## Internal xarray structure\n",
    "\n",
    "The local coordinate system and many other components of the WeldX package use xarray data frames internally. So it is also possible to pass xarray data frames to a lot of functions and the constructor. However, they need a certain structure which will be described here. If you are not familiar with the xarray package, you should first read the [documentation](http://xarray.pydata.org/en/stable/).\n",
    "\n",
    "To pass a xarray data frame as coordinate to a `LocalCoordinateSystem`, it must at least have a dimension `c`. It represents the location in 3d space of the coordinate system and must always be of length 3. Those components must be named coordinates of the data frame (`coords={\"c\": [\"x\", \"y\", \"z\"]}`). An optional dimension is `time`. It can be of arbitrary length, but the timestamps must be added as coordinates.\n",
    "\n",
    "The same conventions that are used for the coordinates also apply to the orientations. Additionally, they must have another dimension `v` of length 3, which are enumerated (`\"v\": [0, 1, 2]`). `c` and `v` are the rows and columns of the orientation matrix.\n",
    "\n",
    "**Example:**"
   ]
  },
  {
   "cell_type": "code",
   "execution_count": null,
   "metadata": {},
   "outputs": [],
   "source": [
    "time = pd.TimedeltaIndex([0,5],\"D\")\n",
    "coordinates_tdp = [[0, 3, 0], [-2, 3, 2]]\n",
    "orientation_tdp = [[[1, 0, 0], [0, 1, 0], [0, 0, 1]], [[0, -1, 0], [1, 0, 0], [0, 0, 1]]]\n",
    "\n",
    "dsx_coordinates = xr.DataArray(data=coordinates_tdp, dims=[\"time\", \"c\"], coords={\"time\": time, \"c\": [\"x\", \"y\", \"z\"]})\n",
    "dsx_orientation = xr.DataArray(\n",
    "    data=orientation_tdp, dims=[\"time\", \"c\", \"v\"], coords={\"time\": time, \"c\": [\"x\", \"y\", \"z\"], \"v\": [0, 1, 2]},\n",
    ")\n",
    "\n",
    "lcs_xr = tf.LocalCoordinateSystem(orientation=dsx_orientation, coordinates=dsx_coordinates)"
   ]
  },
  {
   "cell_type": "markdown",
   "metadata": {},
   "source": [
    "**Plot:**"
   ]
  },
  {
   "cell_type": "code",
   "execution_count": null,
   "metadata": {
    "jupyter": {
     "source_hidden": true
    }
   },
   "outputs": [],
   "source": [
    "# plot coordinate systems\n",
    "fig_dsx = plt.figure()\n",
    "try:\n",
    "    fig_dsx.canvas.layout.height = \"500px\"\n",
    "    fig_dsx.canvas.layout.width = \"500px\"\n",
    "except:\n",
    "    fig_dsx.set_size_inches(10, 10)\n",
    "gs_dsx = fig_dsx.add_gridspec(1, 1)\n",
    "ax_dsx = fig_dsx.add_subplot(gs_dsx[0, 0], projection=\"3d\")\n",
    "\n",
    "# first timestep\n",
    "vs.plot_coordinate_system(lcs_ref, ax_dsx, color=\"r\", label=\"reference\")\n",
    "vs.plot_coordinate_system(lcs_xr, ax_dsx, color=\"g\", label=str(lcs_xr.time[0]), time_idx=0)\n",
    "vs.plot_coordinate_system(lcs_xr, ax_dsx, color=\"b\", label=str(lcs_xr.time[1]), time_idx=1)\n",
    "ax_dsx.set_xlim([-3, 3])\n",
    "ax_dsx.set_ylim([-3, 3])\n",
    "ax_dsx.set_zlim([-3, 3])\n",
    "ax_dsx.legend(loc=\"lower left\");"
   ]
  },
  {
   "cell_type": "markdown",
   "metadata": {},
   "source": [
    "The `weldx.utility` package contains two utility functions to create xarray data frames that can be passed as `orientation` and `coordinates` to an `LocalCoordinateSystem`. They are named `xr_3d_vector` and `xr_3d_matrix`. Please read the API documentation for further information."
   ]
  }
 ],
 "metadata": {
  "kernelspec": {
   "display_name": "weldx",
   "language": "python",
   "name": "weldx"
  },
  "language_info": {
   "codemirror_mode": {
    "name": "ipython",
    "version": 3
   },
   "file_extension": ".py",
   "mimetype": "text/x-python",
   "name": "python",
   "nbconvert_exporter": "python",
   "pygments_lexer": "ipython3",
   "version": "3.7.9"
  }
 },
 "nbformat": 4,
 "nbformat_minor": 4
}
