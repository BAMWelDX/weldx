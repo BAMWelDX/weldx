{
 "cells": [
  {
   "cell_type": "markdown",
   "metadata": {},
   "source": [
    "# Introduction\n",
    "\n",
    "This tutorial is about the transformation packages `LocalCoordinateSystem` class which describes the orientation of a local cartesian coordinate system towards the reference coordinate system with: origin = (0, 0, 0), e_x = (1, 0, 0), e_y = (0, 1, 0), e_z = (0, 0, 1)). \n",
    "\n",
    "The packages required in this tutorial are:"
   ]
  },
  {
   "cell_type": "code",
   "execution_count": 1,
   "metadata": {},
   "outputs": [],
   "source": [
    "%matplotlib widget"
   ]
  },
  {
   "cell_type": "code",
   "execution_count": 2,
   "metadata": {},
   "outputs": [],
   "source": [
    "# plotting\n",
    "from mpl_toolkits.mplot3d import Axes3D  # noqa: F401 unused import\n",
    "import matplotlib.pyplot as plt\n",
    "\n",
    "#interactive plots\n",
    "import ipywidgets as widgets\n",
    "from ipywidgets import VBox, HBox, IntSlider, Checkbox, interactive_output, FloatSlider\n",
    "from IPython.display import display\n",
    "\n",
    "import numpy as np\n",
    "\n",
    "import weldx.visualization as vs\n",
    "import weldx.transformations as tf"
   ]
  },
  {
   "cell_type": "markdown",
   "metadata": {},
   "source": [
    "# Construction\n",
    "\n",
    "The constructor of the `LocalCoordinateSystem` class takes 2 parameters, the `basis` and the `origin`. `basis` is a 3x3 matrix, were each column is one basis vector of the local coordinate system we want to define. The basis vectors need to be orthogonal, otherwise an exception is raised. Note that every pure rotation and reflection matrix is a valid orthogonal base. `origin` is the position of the local coordinate systems origin inside the base coordinate system. Both parameters have a default value, which is equal to the reference coordinate systems value. So if no parameter is specified, we get the reference coordinate system:"
   ]
  },
  {
   "cell_type": "code",
   "execution_count": 3,
   "metadata": {},
   "outputs": [],
   "source": [
    "cs_ref = tf.LocalCoordinateSystem()"
   ]
  },
  {
   "cell_type": "markdown",
   "metadata": {},
   "source": [
    "We create some coordinate systems and visualize them using the `visualization` package. The coordinate axes are colored as follows: \n",
    "- x = red\n",
    "- y = green\n",
    "- z = blue"
   ]
  },
  {
   "cell_type": "code",
   "execution_count": 4,
   "metadata": {},
   "outputs": [
    {
     "data": {
      "application/vnd.jupyter.widget-view+json": {
       "model_id": "e08725d6ae294ca8acceca11178fe500",
       "version_major": 2,
       "version_minor": 0
      },
      "text/plain": [
       "Canvas(toolbar=Toolbar(toolitems=[('Home', 'Reset original view', 'home', 'home'), ('Back', 'Back to previous …"
      ]
     },
     "metadata": {},
     "output_type": "display_data"
    },
    {
     "data": {
      "text/plain": [
       "<matplotlib.legend.Legend at 0x7f4a1b519650>"
      ]
     },
     "execution_count": 4,
     "metadata": {},
     "output_type": "execute_result"
    }
   ],
   "source": [
    "# create a translated coordinate system \n",
    "cs_01 = tf.LocalCoordinateSystem(origin = [2, 4, -1])\n",
    "\n",
    "# create a rotated coordinate system using a rotation matrix as basis\n",
    "rotation_matrix = tf.rotation_matrix_z(np.pi/3)\n",
    "cs_02 = tf.LocalCoordinateSystem(basis= rotation_matrix, origin = [0, 0, 3])\n",
    "\n",
    "# create 3d plot\n",
    "fig = plt.figure()\n",
    "ax = fig.gca(projection='3d')\n",
    "fig.canvas.layout.height=\"500px\"\n",
    "fig.canvas.layout.width=\"500px\"\n",
    "\n",
    "vs.plot_coordinate_system(cs_ref, ax, color='r', label=\"reference system\")\n",
    "vs.plot_coordinate_system(cs_01, ax, color='g', label=\"system 1\")\n",
    "vs.plot_coordinate_system(cs_02, ax, color='b', label=\"system 2\")\n",
    "vs.set_axes_equal(ax)\n",
    "plt.legend()"
   ]
  },
  {
   "cell_type": "markdown",
   "metadata": {},
   "source": [
    "Apart from the class constructor, there are some factory functions implemented to create a coordinate system. The `construct_from_orientation` provides the same functionality as the class constructor. The `construct_construct_from_xyz` takes 3 basis vectors instead of a matrix. `construct_from_xy_and_orientation`, `construct_from_xz_and_orientation` and `construct_from_yz_and_orientation` create a coordinate system with 2 basis vectors and a bool which speciefies if the coordinate system should have a positive or negative orientation. Here are some examples:"
   ]
  },
  {
   "cell_type": "code",
   "execution_count": 5,
   "metadata": {},
   "outputs": [
    {
     "data": {
      "application/vnd.jupyter.widget-view+json": {
       "model_id": "969286f5d0d248349327e6d384493377",
       "version_major": 2,
       "version_minor": 0
      },
      "text/plain": [
       "Canvas(toolbar=Toolbar(toolitems=[('Home', 'Reset original view', 'home', 'home'), ('Back', 'Back to previous …"
      ]
     },
     "metadata": {},
     "output_type": "display_data"
    },
    {
     "data": {
      "text/plain": [
       "<matplotlib.legend.Legend at 0x7f4a19b6c2d0>"
      ]
     },
     "execution_count": 5,
     "metadata": {},
     "output_type": "execute_result"
    }
   ],
   "source": [
    "# coordinate system using 3 basis vectors\n",
    "e_x = [1, 2, 0]\n",
    "e_y = [-2, 1, 0]\n",
    "e_z = [0, 0, 5]\n",
    "cs_03 = tf.LocalCoordinateSystem.construct_from_xyz(e_x, e_y, e_z, origin = [1, 1, 0])\n",
    "\n",
    "# create a negatively oriented coordinate system with 2 vectors\n",
    "cs_04 = tf.LocalCoordinateSystem.construct_from_yz_and_orientation(e_y,e_z,positive_orientation=False, origin=[1,1,2])\n",
    "\n",
    "# create 3d plot\n",
    "fig = plt.figure()\n",
    "ax = fig.gca(projection='3d')\n",
    "fig.canvas.layout.height=\"500px\"\n",
    "fig.canvas.layout.width=\"500px\"\n",
    "\n",
    "vs.plot_coordinate_system(cs_ref, ax, color='r', label=\"reference system\")\n",
    "vs.plot_coordinate_system(cs_03, ax, color='g', label=\"system 3\")\n",
    "vs.plot_coordinate_system(cs_04, ax, color='b', label=\"system 4\")\n",
    "vs.set_axes_equal(ax)\n",
    "plt.legend()"
   ]
  },
  {
   "cell_type": "markdown",
   "metadata": {},
   "source": [
    "As you can see, the y and z axis of system 3 and 4 point into the same direction, since we used the same basis vectors. The automatically determined x axis of system 4 points into the opposite direction, since we wanted a system with negative orientation.\n",
    "\n",
    "# Coordinate transformations\n",
    "\n",
    "It is quite common that there exist a chain or tree like dependency between coordinate systems. We might have a moving object with a local coordinate system which describes its position and orientation towards a fixed reference coordinate system. This object can have another object attached to it, with its position and orientation given in relation to its parent objects coordinate system. If we now want the attached object coordintae system in relation to the reference coordinate system, we have to perform a coordinate transformation. \n",
    "\n",
    "The reference coordinate system can easily be changed using the `+` and `-` operators of the `LocalCoordinateSystem` class. Let's say we have 3 coordinate systems `cs_ref`, `cs_parent` and `cs_child`, with `cs_ref` being the reference coordinate system of `cs_parent` and `cs_parent` being the reference coordinate system of `cs_child`. Now we want to get a coordinate system `cs_child_ref` which is equivalent to `cs_child` but in relation to `cs_ref`. This is achieved with:\n",
    "\n",
    "~~~ python\n",
    "cs_child_ref = cs_child + cs_parent\n",
    "~~~\n",
    "\n",
    "It is important to remember that this operation is in general not commutative, since it involves matrix multiplication which is also not commutative. During coordinate system addition, the local system that should be transformed into another coordinate system is always located to the left of the `+` or `-` operator. However, coordinate system addition is associative so that\n",
    "\n",
    "~~~ python\n",
    "cs_child_child + (cs_child + cs_parent) == (cs_child_child + cs_child) + cs_parent\n",
    "~~~\n",
    "\n",
    "So far we have seen how to transform a child's coordinate system to the reference coordinate system of its parent using the `+` operator. The `-` operator performs the opposite operation if the transformed and the target coordinate system have a **common reference coordinate system**. The following instruction cancels the previously applied addition:\n",
    "\n",
    "~~~ python\n",
    "cs_child = cs_child_ref - cs_parent\n",
    "~~~\n",
    "\n",
    "`cs_child_ref` and `cs_parent` have both `cs_ref` as reference coordinate system.\n",
    "\n",
    "As for addition, coordinate system subtraction is not commutative, but in contrast to addition, it is also not associative. The reason for this is that transformed and target system must have the same reference system. To understand why this excludes associativity, look at the following example:\n",
    "\n",
    "~~~ python\n",
    "cs_01 - cs_parent - cs_child\n",
    "~~~\n",
    "\n",
    "`cs_child` has `cs_parent` as reference system and `cs_01` and `cs_parent` share a common reference system. This operation should give us `cs_01` in  relation to `cs_child`. In python it is equivalent to:\n",
    "\n",
    "~~~ python\n",
    "(cs_01 - cs_parent) - cs_child      # added parenthesis\n",
    "~~~\n",
    "\n",
    "Since `cs_01` and `cs_parent` share a common reference system, `cs_01 - cs_parent` gives us `cs_01` in relation to `cs_parent`. `cs_child` also has `cs_parent` as reference system. So we can subtract `cs_child` subsequently from `cs_01 - cs_parent` to get `cs_parent` in relation to `cs_child`.\n",
    "\n",
    "Now look at the following case:\n",
    "\n",
    "~~~ python\n",
    "cs_01 - (cs_parent - cs_child)\n",
    "~~~\n",
    "\n",
    "`cs_parent - cs_child` gives us `cs_parent` in relation to `cs_child`. Therefore the difference `cs_parent - cs_child` and `cs_01` don't share a common reference coordinate system and can't be subtracted from each other. \n",
    "\n",
    "# Interactive examples\n",
    "\n",
    "We implemented 2 small interactive examples to give you a better understanding of how the `+` and `-` operators work. The examples provide several sliders to modify the orientations and positions of 2 coordinate systems. From those a third coordinate system is calculated using the `+` and `-` operator. Subsequently, the coordinatesystems are plotted in relation to each other. The relevant lines of code, which generate the coordinate systems are:"
   ]
  },
  {
   "cell_type": "code",
   "execution_count": 6,
   "metadata": {},
   "outputs": [],
   "source": [
    "def coordinate_system_addition(parent_orientation, parent_origin, child_orientation, child_origin):   \n",
    "    cs_parent = tf.LocalCoordinateSystem(basis=parent_orientation, origin=parent_origin)\n",
    "    cs_child = tf.LocalCoordinateSystem(basis=child_orientation, origin=child_origin)\n",
    "    \n",
    "    cs_child_ref = cs_child + cs_parent\n",
    "    \n",
    "    return [cs_parent, cs_child, cs_child_ref]\n",
    "\n",
    "\n",
    "def coordinate_system_subtraction(sys1_in_ref_orientation, sys1_in_ref_origin, sys2_in_ref_orientation, sys2_in_ref_origin):\n",
    "    cs_sys1_in_ref = tf.LocalCoordinateSystem(basis=sys1_in_ref_orientation, origin=sys1_in_ref_origin)\n",
    "    cs_sys2_in_ref = tf.LocalCoordinateSystem(basis=sys2_in_ref_orientation, origin=sys2_in_ref_origin)\n",
    "    \n",
    "    cs_sys2_in_sys1 = cs_sys2_in_ref - cs_sys1_in_ref\n",
    "    cs_sys1_in_sys2 = cs_sys1_in_ref - cs_sys2_in_ref\n",
    "    \n",
    "    return[cs_sys1_in_ref, cs_sys2_in_ref, cs_sys1_in_sys2, cs_sys2_in_sys1]"
   ]
  },
  {
   "cell_type": "markdown",
   "metadata": {},
   "source": [
    "Now just execute the following code cells. You don't need to understand them, since they just create the sliders and plots:"
   ]
  },
  {
   "cell_type": "code",
   "execution_count": 7,
   "metadata": {},
   "outputs": [],
   "source": [
    "cs_ref = tf.LocalCoordinateSystem()\n",
    "\n",
    "def create_output_widget(window_size=900):\n",
    "    # create output widget that will hold the figure\n",
    "    out = widgets.Output(layout={'border': '2px solid black'})\n",
    "\n",
    "    # create figure inside output widget\n",
    "    with out:\n",
    "        fig = plt.figure()\n",
    "        fig.canvas.layout.height=str(window_size) + \"px\"\n",
    "        fig.canvas.layout.width= str(window_size) + \"px\"\n",
    "        gs = fig.add_gridspec(3, 2)\n",
    "        ax_0 = fig.add_subplot(gs[0, 0], projection='3d')\n",
    "        ax_1 = fig.add_subplot(gs[0, 1], projection='3d')\n",
    "        ax_2 = fig.add_subplot(gs[1:, 0:], projection='3d')\n",
    "    return [out, fig, ax_0, ax_1, ax_2]        \n",
    "\n",
    "\n",
    "def setup_axes(axes, limit, title = \"\"):\n",
    "    axes.set_xlim([-limit, limit])\n",
    "    axes.set_ylim([-limit, limit])\n",
    "    axes.set_zlim([-limit, limit])\n",
    "    axes.set_xlabel(\"x\")\n",
    "    axes.set_ylabel(\"y\")\n",
    "    axes.set_zlabel(\"z\")\n",
    "    axes.set_title(title)\n",
    "    axes.legend(loc=\"lower left\")\n",
    "    \n",
    "def get_orientation_and_location(t_x, t_y, t_z, r_x, r_y, r_z):\n",
    "    print(\"yay\")\n",
    "    rot_angles = np.array([r_x, r_y, r_z], float) / 180 * np.pi\n",
    "    \n",
    "    rot_x = tf.rotation_matrix_x(rot_angles[0])\n",
    "    rot_y = tf.rotation_matrix_y(rot_angles[1])\n",
    "    rot_z = tf.rotation_matrix_z(rot_angles[2])\n",
    "    \n",
    "    orientation = np.matmul(rot_z, np.matmul(rot_y, rot_x))\n",
    "    location = [t_x, t_y, t_z]\n",
    "    return [orientation, location]\n",
    "\n",
    "def create_slider(limit, step, label):\n",
    "    layout = widgets.Layout(width='200px', height='40px')    \n",
    "    style = {'description_width': 'initial'}\n",
    "    return FloatSlider(min=-limit, \n",
    "                       max=limit, \n",
    "                       step=step, \n",
    "                       description=label, \n",
    "                       continuous_update=True, \n",
    "                       layout=layout, \n",
    "                       style=style)\n",
    "\n",
    "def create_interactive_plot(function, limit_loc = 3, name_sys1=\"system 1\", name_sys2=\"system 2\"):    \n",
    "    step_loc = 0.25\n",
    "    \n",
    "    w_s1_l = dict(s1_x = create_slider(limit_loc, step_loc, \"x\"),\n",
    "                  s1_y = create_slider(limit_loc, step_loc, \"y\"),\n",
    "                  s1_z = create_slider(limit_loc, step_loc, \"z\"))\n",
    "    \n",
    "    w_s1_r = dict(s1_rx = create_slider(180, 10, \"x\"),\n",
    "                  s1_ry = create_slider(180, 10, \"y\"),\n",
    "                  s1_rz = create_slider(180, 10, \"z\"))\n",
    "    \n",
    "    w_s2_l = dict(s2_x = create_slider(limit_loc, step_loc, \"x\"),\n",
    "                  s2_y = create_slider(limit_loc, step_loc, \"y\"),\n",
    "                  s2_z = create_slider(limit_loc, step_loc, \"z\"))\n",
    "    \n",
    "    w_s2_r = dict(s2_rx = create_slider(180, 10, \"x\"),\n",
    "                  s2_ry = create_slider(180, 10, \"y\"),\n",
    "                  s2_rz = create_slider(180, 10, \"z\"))\n",
    "    \n",
    "    w = {**w_s1_l, **w_s1_r, **w_s2_l, **w_s2_r}\n",
    "\n",
    "    output = interactive_output(function, w)\n",
    "    box_0 = VBox([widgets.Label(name_sys1 + \" origin\"), *w_s1_l.values()])\n",
    "    box_1 = VBox([widgets.Label(name_sys1 + \" rotation (deg)\"), *w_s1_r.values()])\n",
    "    box_2 = VBox([widgets.Label(name_sys2 + \" origin\"), *w_s2_l.values()])\n",
    "    box_3 = VBox([widgets.Label(name_sys2 + \" rotation (deg)\"), *w_s2_r.values()])\n",
    "    box = HBox([box_0, box_1,box_2, box_3])\n",
    "    display(box)"
   ]
  },
  {
   "cell_type": "code",
   "execution_count": 8,
   "metadata": {},
   "outputs": [
    {
     "data": {
      "application/vnd.jupyter.widget-view+json": {
       "model_id": "d4c17395ec5f4fa6bb1ff2894951822f",
       "version_major": 2,
       "version_minor": 0
      },
      "text/plain": [
       "HBox(children=(VBox(children=(Label(value='parent origin'), FloatSlider(value=0.0, description='x', layout=Lay…"
      ]
     },
     "metadata": {},
     "output_type": "display_data"
    },
    {
     "data": {
      "application/vnd.jupyter.widget-view+json": {
       "model_id": "2d2d2638f7cc40ca89a3a8f28564d0f9",
       "version_major": 2,
       "version_minor": 0
      },
      "text/plain": [
       "Output(layout=Layout(border='2px solid black'))"
      ]
     },
     "metadata": {},
     "output_type": "display_data"
    }
   ],
   "source": [
    "axes_lim = 3\n",
    "window_size = 1000\n",
    "\n",
    "[out, fig, ax_0, ax_1, ax_2] = create_output_widget(window_size)\n",
    "    \n",
    "def update_output(s1_x, s1_y, s1_z, s1_rx, s1_ry, s1_rz, s2_x, s2_y, s2_z, s2_rx, s2_ry, s2_rz):\n",
    "    \n",
    "    [parent_orientation, parent_origin] = get_orientation_and_location(s1_x, s1_y, s1_z, s1_rx, s1_ry, s1_rz)\n",
    "    [child_orientation, child_origin] = get_orientation_and_location(s2_x, s2_y, s2_z, s2_rx, s2_ry, s2_rz)\n",
    "    \n",
    "    [cs_parent, cs_child, cs_child_ref] = coordinate_system_addition(parent_orientation, parent_origin, child_orientation, child_origin)\n",
    "            \n",
    "    origin_cr = cs_child_ref.origin\n",
    "    cr_x = origin_cr[0]\n",
    "    cr_y = origin_cr[1]\n",
    "    cr_z = origin_cr[2]\n",
    "    \n",
    "    ax_0.clear()\n",
    "    vs.plot_coordinate_system(cs_ref, ax_0, color='r', label=\"reference\")\n",
    "    vs.plot_coordinate_system(cs_parent, ax_0, color='g', label=\"parent\")\n",
    "    ax_0.plot([0, s1_x], [0, s1_y], [0, s1_z], 'c--', label=\"ref -> parent\")\n",
    "    setup_axes(ax_0, axes_lim, \"'parent' in reference coordinate system\")\n",
    "    \n",
    "    \n",
    "    ax_1.clear()\n",
    "    vs.plot_coordinate_system(cs_ref, ax_1, color='g', label=\"parent\")\n",
    "    vs.plot_coordinate_system(cs_child, ax_1, color='y', label=\"child\")\n",
    "    ax_1.plot([0, s2_x], [0, s2_y], [0, s2_z], 'm--', label=\"parent -> child\")\n",
    "    setup_axes(ax_1, axes_lim, \"'child' in 'parent' coordinate system\")\n",
    "    \n",
    "    ax_2.clear()\n",
    "    vs.plot_coordinate_system(cs_ref, ax_2, color='r', label=\"reference\")\n",
    "    vs.plot_coordinate_system(cs_parent, ax_2, color='g', label=\"parent\")\n",
    "    vs.plot_coordinate_system(cs_child_ref, ax_2, color='y', label=\"parent + child\")\n",
    "    ax_2.plot([0, s1_x], [0, s1_y], [0, s1_z], 'c--', label=\"ref -> parent\")\n",
    "    ax_2.plot([s1_x, cr_x], [s1_y, cr_y], [s1_z, cr_z], 'm--', label=\"parent -> child\")\n",
    "    setup_axes(ax_2, axes_lim * 2, \"'parent' and 'child' in reference coordinate system\")\n",
    "\n",
    "    \n",
    "create_interactive_plot(update_output, limit_loc=axes_lim, name_sys1=\"parent\", name_sys2=\"child\")\n",
    "out"
   ]
  },
  {
   "cell_type": "code",
   "execution_count": 9,
   "metadata": {},
   "outputs": [
    {
     "data": {
      "application/vnd.jupyter.widget-view+json": {
       "model_id": "b58e404162104894b2941f042efb3cb1",
       "version_major": 2,
       "version_minor": 0
      },
      "text/plain": [
       "HBox(children=(VBox(children=(Label(value='system 1 origin'), FloatSlider(value=0.0, description='x', layout=L…"
      ]
     },
     "metadata": {},
     "output_type": "display_data"
    },
    {
     "data": {
      "application/vnd.jupyter.widget-view+json": {
       "model_id": "0706e92703e3477cbe385bc1a2c93dfd",
       "version_major": 2,
       "version_minor": 0
      },
      "text/plain": [
       "Output(layout=Layout(border='2px solid black'))"
      ]
     },
     "metadata": {},
     "output_type": "display_data"
    }
   ],
   "source": [
    "axes_lim = 1.5\n",
    "window_size = 1000\n",
    "\n",
    "[out_2, fig2, ax2_0, ax2_1, ax2_2] = create_output_widget(window_size)\n",
    "    \n",
    "\n",
    "def update_output2(s1_x, s1_y, s1_z, s1_rx, s1_ry, s1_rz, s2_x, s2_y, s2_z, s2_rx, s2_ry, s2_rz):\n",
    "    \n",
    "    [sys1_orientation, sys1_origin] = get_orientation_and_location(s1_x, s1_y, s1_z, s1_rx, s1_ry, s1_rz)\n",
    "    [sys2_orientation, sys2_origin] = get_orientation_and_location(s2_x, s2_y, s2_z, s2_rx, s2_ry, s2_rz)\n",
    "       \n",
    "    [cs_sys1_in_ref, cs_sys2_in_ref, cs_sys1_in_sys2, cs_sys2_in_sys1] = coordinate_system_subtraction(sys1_orientation, \n",
    "                                                                                                       sys1_origin, \n",
    "                                                                                                       sys2_orientation, \n",
    "                                                                                                       sys2_origin)\n",
    "    sys12_o = cs_sys1_in_sys2.origin\n",
    "    sys12_x = sys12_o[0]\n",
    "    sys12_y = sys12_o[1]\n",
    "    sys12_z = sys12_o[2]\n",
    "    \n",
    "    sys21_o = cs_sys2_in_sys1.origin\n",
    "    sys21_x = sys21_o[0]\n",
    "    sys21_y = sys21_o[1]\n",
    "    sys21_z = sys21_o[2]\n",
    "    \n",
    "    ax2_1.clear()\n",
    "    vs.plot_coordinate_system(cs_ref, ax2_1, color='g', label=\"system 1\")\n",
    "    vs.plot_coordinate_system(cs_sys2_in_sys1, ax2_1, color='b', label=\"system 2\")\n",
    "    ax2_1.plot([0, sys21_x], [0, sys21_y], [0, sys21_z], 'y--', label=\"system 1 -> system 2\")\n",
    "    setup_axes(ax2_1, axes_lim * 2, \"'system 2' in 'system 1'\")\n",
    "    \n",
    "    \n",
    "    ax2_0.clear()\n",
    "    vs.plot_coordinate_system(cs_ref, ax2_0, color='b', label=\"system 2\")\n",
    "    vs.plot_coordinate_system(cs_sys1_in_sys2, ax2_0, color='g', label=\"system 1\")\n",
    "    ax2_0.plot([0, sys12_x], [0, sys12_y], [0, sys12_z], 'y--', label=\"system 1 -> system 2\")\n",
    "    setup_axes(ax2_0, axes_lim * 2, \"'system 1' in 'system 2'\")\n",
    "    \n",
    "    ax2_2.clear()\n",
    "    vs.plot_coordinate_system(cs_ref, ax2_2, color='r', label=\"reference\")\n",
    "    vs.plot_coordinate_system(cs_sys1_in_ref, ax2_2, color='g', label=\"system 1\")\n",
    "    vs.plot_coordinate_system(cs_sys2_in_ref, ax2_2, color='b', label=\"system 2\")\n",
    "    ax2_2.plot([0, s1_x], [0, s1_y], [0, s1_z], 'g--', label=\"ref -> system 1\")\n",
    "    ax2_2.plot([0, s2_x], [0, s2_y], [0, s2_z], 'b--', label=\"ref -> system 2\")\n",
    "    ax2_2.plot([s1_x, s2_x], [s1_y, s2_y], [s1_z, s2_z], 'y--', label=\"system 1 <-> system 2\")\n",
    "    setup_axes(ax2_2, axes_lim, \"'parent' and 'child' in reference coordinate system\")\n",
    "\n",
    "    \n",
    "create_interactive_plot(update_output2, limit_loc=axes_lim)\n",
    "out_2"
   ]
  },
  {
   "cell_type": "code",
   "execution_count": null,
   "metadata": {},
   "outputs": [],
   "source": []
  }
 ],
 "metadata": {
  "kernelspec": {
   "display_name": "Python (test-environment)",
   "language": "python",
   "name": "test-environment"
  },
  "language_info": {
   "codemirror_mode": {
    "name": "ipython",
    "version": 3
   },
   "file_extension": ".py",
   "mimetype": "text/x-python",
   "name": "python",
   "nbconvert_exporter": "python",
   "pygments_lexer": "ipython3",
   "version": "3.7.6"
  }
 },
 "nbformat": 4,
 "nbformat_minor": 4
}
