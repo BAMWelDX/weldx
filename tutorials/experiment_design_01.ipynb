{
 "cells": [
  {
   "cell_type": "markdown",
   "metadata": {},
   "source": [
    "# Welding Experiment Design"
   ]
  },
  {
   "cell_type": "code",
   "execution_count": null,
   "metadata": {
    "nbsphinx": "hidden"
   },
   "outputs": [],
   "source": [
    "# if the package is not installed in your python environment, run this to execute the notebook directly from inside the GitHub repository\n",
    "%cd -q .."
   ]
  },
  {
   "cell_type": "code",
   "execution_count": null,
   "metadata": {
    "nbsphinx": "hidden"
   },
   "outputs": [],
   "source": [
    "# enable interactive plots on Jupyterlab with ipympl and jupyterlab-matplotlib installed\n",
    "# %matplotlib widget"
   ]
  },
  {
   "cell_type": "code",
   "execution_count": null,
   "metadata": {},
   "outputs": [],
   "source": [
    "# some python imports that will be used throughout the tutorial\n",
    "import numpy as np\n",
    "\n",
    "import matplotlib.pyplot as plt\n",
    "import networkx as nx\n",
    "import pandas as pd\n",
    "import pint\n",
    "import xarray as xr\n",
    "import matplotlib.pyplot as plt\n",
    "from mpl_toolkits.mplot3d import Axes3D"
   ]
  },
  {
   "cell_type": "code",
   "execution_count": null,
   "metadata": {},
   "outputs": [],
   "source": [
    "# importing the weldx package with prevalent default abbreviations\n",
    "import weldx\n",
    "import weldx.geometry as geo\n",
    "import weldx.transformations as tf\n",
    "import weldx.utility as ut\n",
    "import weldx.visualization as vis\n",
    "from weldx import Q_\n",
    "from weldx.transformations import LocalCoordinateSystem as lcs\n",
    "from weldx.transformations import WXRotation\n",
    "from weldx.welding.groove.iso_9692_1 import get_groove"
   ]
  },
  {
   "cell_type": "markdown",
   "metadata": {},
   "source": [
    "## helper functions"
   ]
  },
  {
   "cell_type": "code",
   "execution_count": null,
   "metadata": {},
   "outputs": [],
   "source": [
    "time = pd.timedelta_range(\"0s\",\"10s\",freq=\"100ms\")"
   ]
  },
  {
   "cell_type": "code",
   "execution_count": null,
   "metadata": {},
   "outputs": [],
   "source": [
    "def sine_lcs(time, f=Q_(1,\"Hz\"), amp=Q_([[0,1,0]],\"mm\"), bias=None):\n",
    "    \"\"\"Create an interpolated sine LCS\"\"\"\n",
    "    ts_sine = ut._sine(f=f,amp=amp, bias=bias)\n",
    "    ts_sine_data = ts_sine.interp_time(time = time)\n",
    "    # assign vector coordinates and convert to m\n",
    "    ts_sine_data = ts_sine_data.rename({\"dim_1\": \"c\"}).assign_coords({\"c\": [\"x\", \"y\", \"z\"]})\n",
    "    ts_sine_data.data = ts_sine_data.data.magnitude\n",
    "    ts_sine_data[\"time\"] = pd.TimedeltaIndex(ts_sine_data[\"time\"].data)\n",
    "    return lcs(coordinates=ts_sine_data)"
   ]
  },
  {
   "cell_type": "code",
   "execution_count": null,
   "metadata": {},
   "outputs": [],
   "source": [
    "def distance(ptc,lcs_name,time=time):\n",
    "    \"\"\"Calcualate minimal distance between pointcloud and 3D trace\"\"\"\n",
    "    \n",
    "    lcs_interp = csm.get_cs(coordinate_system_name=lcs_name,reference_system_name=\"workpiece\",time=time)\n",
    "    \n",
    "    trace = lcs_interp.coordinates.data\n",
    "    \n",
    "    ptc = ptc.T\n",
    "    \n",
    "    ptc = np.expand_dims(ptc,1)\n",
    "    trace = np.expand_dims(trace,0)\n",
    "    \n",
    "    return np.min(np.sqrt(np.sum((ptc-trace)**2,axis=-1)),axis=0)"
   ]
  },
  {
   "cell_type": "markdown",
   "metadata": {},
   "source": [
    "## Trace and CSM setup"
   ]
  },
  {
   "cell_type": "code",
   "execution_count": null,
   "metadata": {},
   "outputs": [],
   "source": [
    "# define the weld seam length in mm\n",
    "seam_length = Q_(100, \"mm\")\n",
    "\n",
    "trace_segment = geo.LinearHorizontalTraceSegment(seam_length)\n",
    "trace = geo.Trace(trace_segment)"
   ]
  },
  {
   "cell_type": "code",
   "execution_count": null,
   "metadata": {},
   "outputs": [],
   "source": [
    "# crete a new coordinate system manager with default base coordinate system\n",
    "csm = weldx.transformations.CoordinateSystemManager(\"base\")"
   ]
  },
  {
   "cell_type": "code",
   "execution_count": null,
   "metadata": {},
   "outputs": [],
   "source": [
    "# add the workpiece coordinate system\n",
    "csm.add_cs(\n",
    "    coordinate_system_name=\"workpiece\",\n",
    "    reference_system_name=\"base\",\n",
    "    lcs=trace.coordinate_system,\n",
    ")"
   ]
  },
  {
   "cell_type": "code",
   "execution_count": null,
   "metadata": {},
   "outputs": [],
   "source": [
    "tcp_start_point = Q_([0.0, 0.0, 0.0], \"mm\")\n",
    "tcp_end_point = np.append(seam_length, Q_([0, 0], \"mm\"))\n",
    "\n",
    "v_weld = Q_(10, \"mm/s\")\n",
    "s_weld = (tcp_end_point - tcp_start_point)[0]  # length of the weld\n",
    "t_weld = s_weld / v_weld\n",
    "\n",
    "t_start = pd.Timedelta(\"0s\")\n",
    "t_end = pd.Timedelta(str(t_weld.to_base_units()))\n",
    "\n",
    "coords = [tcp_start_point.magnitude, tcp_end_point.magnitude]\n",
    "\n",
    "tcp_wire = lcs(coordinates=coords, time=[t_start, t_end])\n",
    "\n",
    "# add the workpiece coordinate system\n",
    "csm.add_cs(\n",
    "    coordinate_system_name=\"tcp_wire\",\n",
    "    reference_system_name=\"workpiece\",\n",
    "    lcs=tcp_wire,\n",
    ")"
   ]
  },
  {
   "cell_type": "markdown",
   "metadata": {},
   "source": [
    "### add y weaving"
   ]
  },
  {
   "cell_type": "code",
   "execution_count": null,
   "metadata": {},
   "outputs": [],
   "source": [
    "csm.add_cs(coordinate_system_name=\"tcp_sine_y\", reference_system_name=\"tcp_wire\", lcs=sine_lcs(time,f=Q_(1,\"Hz\"), amp=Q_([[0,1,0]],\"mm\"), bias=None))"
   ]
  },
  {
   "cell_type": "markdown",
   "metadata": {},
   "source": [
    "## add z weaving"
   ]
  },
  {
   "cell_type": "code",
   "execution_count": null,
   "metadata": {},
   "outputs": [],
   "source": [
    "csm.add_cs(coordinate_system_name=\"tcp_sine_z\", reference_system_name=\"tcp_wire\", lcs=sine_lcs(time,f=Q_(1,\"Hz\"), amp=Q_([[0,0,2]],\"mm\"),bias=Q_([0,0,2],\"mm\")))"
   ]
  },
  {
   "cell_type": "code",
   "execution_count": null,
   "metadata": {},
   "outputs": [],
   "source": [
    "csm"
   ]
  },
  {
   "cell_type": "markdown",
   "metadata": {},
   "source": [
    "## generate I-Groove pointcloud"
   ]
  },
  {
   "cell_type": "code",
   "execution_count": null,
   "metadata": {},
   "outputs": [],
   "source": [
    "groove_1 = get_groove(\n",
    "    groove_type=\"IGroove\",\n",
    "    workpiece_thickness=Q_(5, \"mm\"),\n",
    "    root_gap=Q_(2, \"mm\"),\n",
    ")\n",
    "\n",
    "groove_2 = get_groove(\n",
    "    groove_type=\"IGroove\",\n",
    "    workpiece_thickness=Q_(5, \"mm\"),\n",
    "    root_gap=Q_(12, \"mm\"),\n",
    ")\n",
    "\n",
    "v_profile = geo.VariableProfile([groove_1.to_profile(), groove_2.to_profile()],\n",
    "                            [0, 100],\n",
    "                            [geo.linear_profile_interpolation_sbs]\n",
    "                            )\n",
    "\n",
    "# create 3d workpiece geometry from the groove profile and trace objects\n",
    "geometry = geo.Geometry(profile=v_profile, trace=trace)\n",
    "pointcloud_I = geometry.rasterize(profile_raster_width=Q_(1, \"mm\"),\n",
    "                 trace_raster_width=Q_(1, \"mm\"))"
   ]
  },
  {
   "cell_type": "markdown",
   "metadata": {},
   "source": [
    "## Calculate distance (simple trace)"
   ]
  },
  {
   "cell_type": "code",
   "execution_count": null,
   "metadata": {},
   "outputs": [],
   "source": [
    "d = distance(pointcloud_I,\"tcp_sine_y\")\n",
    "plt.plot(d)"
   ]
  },
  {
   "cell_type": "markdown",
   "metadata": {},
   "source": [
    "## Generate V-Groove geometry"
   ]
  },
  {
   "cell_type": "code",
   "execution_count": null,
   "metadata": {},
   "outputs": [],
   "source": [
    "groove_1 = get_groove(\n",
    "    groove_type=\"VGroove\",\n",
    "    workpiece_thickness=Q_(5, \"mm\"),\n",
    "    groove_angle=Q_(60, \"deg\"),\n",
    "    root_face=Q_(1, \"mm\"),\n",
    "    root_gap=Q_(1, \"mm\"),\n",
    ")\n",
    "\n",
    "groove_2 = get_groove(\n",
    "    groove_type=\"VGroove\",\n",
    "    workpiece_thickness=Q_(5, \"mm\"),\n",
    "    groove_angle=Q_(20, \"deg\"),\n",
    "    root_face=Q_(1.5, \"mm\"),\n",
    "    root_gap=Q_(1, \"mm\"),\n",
    ")\n",
    "\n",
    "v_profile = geo.VariableProfile([groove_1.to_profile(), groove_2.to_profile()],\n",
    "                            [0, 100],\n",
    "                            [geo.linear_profile_interpolation_sbs]\n",
    "                            )\n",
    "\n",
    "# create 3d workpiece geometry from the groove profile and trace objects\n",
    "geometry = geo.Geometry(profile=v_profile, trace=trace)\n",
    "pointcloud_V = geometry.rasterize(profile_raster_width=Q_(0.1, \"mm\"),\n",
    "                 trace_raster_width=Q_(0.5, \"mm\"))"
   ]
  },
  {
   "cell_type": "code",
   "execution_count": null,
   "metadata": {},
   "outputs": [],
   "source": [
    "d = distance(pointcloud_V,\"tcp_sine_z\")\n",
    "plt.plot(d)"
   ]
  }
 ],
 "metadata": {
  "kernelspec": {
   "display_name": "weldx",
   "language": "python",
   "name": "weldx"
  },
  "language_info": {
   "codemirror_mode": {
    "name": "ipython",
    "version": 3
   },
   "file_extension": ".py",
   "mimetype": "text/x-python",
   "name": "python",
   "nbconvert_exporter": "python",
   "pygments_lexer": "ipython3",
   "version": "3.7.9"
  }
 },
 "nbformat": 4,
 "nbformat_minor": 4
}
