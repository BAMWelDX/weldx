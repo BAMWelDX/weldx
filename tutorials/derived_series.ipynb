{
 "cells": [
  {
   "cell_type": "code",
   "execution_count": 1,
   "id": "9345406c-0cab-4c37-b1a5-620e76f8ed8a",
   "metadata": {},
   "outputs": [],
   "source": [
    "from weldx import GenericSeries, Q_, U_\n",
    "from xarray import DataArray"
   ]
  },
  {
   "cell_type": "markdown",
   "id": "b50554d5-5d78-4d2c-9614-4fb22a4b413f",
   "metadata": {},
   "source": [
    "## Allowed variables (expressions only)"
   ]
  },
  {
   "cell_type": "code",
   "execution_count": 2,
   "id": "867c9b4b-8057-4fb4-975c-15e29ace3259",
   "metadata": {},
   "outputs": [],
   "source": [
    "class AllowedVarsSeries(GenericSeries):\n",
    "    _allowed_variables = [\"a\"]"
   ]
  },
  {
   "cell_type": "code",
   "execution_count": 29,
   "id": "14e140ca-5a83-4152-aa23-3fce72f8c1ea",
   "metadata": {},
   "outputs": [
    {
     "name": "stdout",
     "output_type": "stream",
     "text": [
      "'b' is not allowed as an expression variable of class AllowedVarsSeries\n"
     ]
    }
   ],
   "source": [
    "try:\n",
    "    AllowedVarsSeries(\"a*b\")\n",
    "except ValueError as e:\n",
    "    print(e)"
   ]
  },
  {
   "cell_type": "code",
   "execution_count": 30,
   "id": "ac690be9-3065-4fe2-9727-59e61156c2ed",
   "metadata": {},
   "outputs": [],
   "source": [
    "AllowedVarsSeries(\"4*a\");"
   ]
  },
  {
   "cell_type": "markdown",
   "id": "c0fcd4dd-3a80-4fc6-99fe-e6fd4c0f0c5c",
   "metadata": {},
   "source": [
    "## Required variables (expressions only)"
   ]
  },
  {
   "cell_type": "code",
   "execution_count": 5,
   "id": "92baa899-630e-4265-8d63-e3ab5ab07aa5",
   "metadata": {},
   "outputs": [],
   "source": [
    "class RequiredVarsSeries(GenericSeries):\n",
    "    _required_variables = [\"c\"]"
   ]
  },
  {
   "cell_type": "code",
   "execution_count": 6,
   "id": "573c9c90-2c21-4470-8a6e-ea4733b6fbc8",
   "metadata": {},
   "outputs": [
    {
     "name": "stdout",
     "output_type": "stream",
     "text": [
      "RequiredVarsSeries requires expression variable 'c'.\n"
     ]
    }
   ],
   "source": [
    "try:\n",
    "    RequiredVarsSeries(\"a*b\")\n",
    "except ValueError as e:\n",
    "    print(e)"
   ]
  },
  {
   "cell_type": "code",
   "execution_count": 7,
   "id": "44d863af-5702-4bda-b51a-7d70a4c927e4",
   "metadata": {},
   "outputs": [],
   "source": [
    "RequiredVarsSeries(\"a*c\");"
   ]
  },
  {
   "cell_type": "markdown",
   "id": "70334c5a-206d-4df1-a27e-516986bfa0ae",
   "metadata": {},
   "source": [
    "## Preprocess coordinates"
   ]
  },
  {
   "cell_type": "code",
   "execution_count": 8,
   "id": "99a24321-adba-4893-9f68-ffa7e6ebe6b5",
   "metadata": {},
   "outputs": [],
   "source": [
    "def handle_time(instance, time, time_ref):\n",
    "    from weldx import Time\n",
    "    time = Time(time, time_ref)\n",
    "    \n",
    "    return dict(t=time.as_quantity())"
   ]
  },
  {
   "cell_type": "code",
   "execution_count": 9,
   "id": "9cc8022c-3004-4e30-aa3e-bd3509f466a3",
   "metadata": {},
   "outputs": [],
   "source": [
    "class PreprocessCoordsSeries(GenericSeries):\n",
    "    _evaluation_preprocessor = handle_time"
   ]
  },
  {
   "cell_type": "markdown",
   "id": "beaaae98-147e-44bd-ac54-dca5c89bef61",
   "metadata": {},
   "source": [
    "### Discrete"
   ]
  },
  {
   "cell_type": "code",
   "execution_count": 10,
   "id": "f6fd8bff-87c0-4edc-99af-165ac7aa0dbf",
   "metadata": {},
   "outputs": [],
   "source": [
    "pcs_discrete = PreprocessCoordsSeries(DataArray(Q_([1,2,4],\"m\"), dims=[\"t\"], coords={\"t\":[2,4,7]}))"
   ]
  },
  {
   "cell_type": "code",
   "execution_count": 11,
   "id": "d386af56-ec1d-42ff-bea9-61f74ae9698d",
   "metadata": {},
   "outputs": [
    {
     "name": "stdout",
     "output_type": "stream",
     "text": [
      "time: [5.]\n",
      "data: [2.6666666666666665] m\n"
     ]
    }
   ],
   "source": [
    "pcs_result_discrete = pcs_discrete(time=\"2000-01-01 15:00:05\", time_ref=\"2000-01-01 15:00:00\")\n",
    "print(f\"time: {pcs_result_discrete.data_array.t.data}\")\n",
    "print(f\"data: {pcs_result_discrete.data}\")"
   ]
  },
  {
   "cell_type": "code",
   "execution_count": 12,
   "id": "4dd949ed-135e-459b-9dfc-8d8431aa6c7a",
   "metadata": {},
   "outputs": [
    {
     "name": "stdout",
     "output_type": "stream",
     "text": [
      "invalid input\n"
     ]
    }
   ],
   "source": [
    "try:\n",
    "    pcs_discrete(x=3)\n",
    "except TypeError:\n",
    "    print(\"invalid input\")"
   ]
  },
  {
   "cell_type": "markdown",
   "id": "cd5f4cb7-1d9a-44eb-b2c0-5e2bad8ca735",
   "metadata": {},
   "source": [
    "### Expression"
   ]
  },
  {
   "cell_type": "code",
   "execution_count": 13,
   "id": "0b09f129-cb70-4b2b-8ae5-b8126db279f7",
   "metadata": {},
   "outputs": [],
   "source": [
    "pcs_expr = PreprocessCoordsSeries(\"a * t\", parameters=dict(a=\"3m/s\"))"
   ]
  },
  {
   "cell_type": "code",
   "execution_count": 14,
   "id": "a2ba5ab9-cf39-41e9-946b-cd5fd7321071",
   "metadata": {},
   "outputs": [
    {
     "name": "stdout",
     "output_type": "stream",
     "text": [
      "time: [5.]\n",
      "data: [15.0] m\n"
     ]
    }
   ],
   "source": [
    "pcs_result_expr = pcs_expr(time=\"2000-01-01 15:00:05\", time_ref=\"2000-01-01 15:00:00\")\n",
    "print(f\"time: {pcs_result_expr.data_array.t.data}\")\n",
    "print(f\"data: {pcs_result_expr.data}\")"
   ]
  },
  {
   "cell_type": "code",
   "execution_count": 15,
   "id": "f4c19f0c-f98e-4f48-807a-4dea5f14748d",
   "metadata": {},
   "outputs": [
    {
     "name": "stdout",
     "output_type": "stream",
     "text": [
      "invalid input\n"
     ]
    }
   ],
   "source": [
    "try:\n",
    "    pcs_expr(x=3)\n",
    "except TypeError:\n",
    "    print(\"invalid input\")"
   ]
  },
  {
   "cell_type": "markdown",
   "id": "0ec8bb42-222a-46a5-a1f3-345de66d5363",
   "metadata": {},
   "source": [
    "## Required dimensions"
   ]
  },
  {
   "cell_type": "code",
   "execution_count": 16,
   "id": "2f43c75c-56d2-4f03-9fbe-00cff4ce4247",
   "metadata": {},
   "outputs": [],
   "source": [
    "class RequiredDimsSeries(GenericSeries):\n",
    "    _required_dimensions = [\"c\"]"
   ]
  },
  {
   "cell_type": "markdown",
   "id": "1c0f251b-5cb9-4eba-b9c6-47343a68c446",
   "metadata": {},
   "source": [
    "###  Discrete"
   ]
  },
  {
   "cell_type": "code",
   "execution_count": 17,
   "id": "9237c429-0a29-4248-bd65-ab4ac72c6406",
   "metadata": {},
   "outputs": [
    {
     "name": "stdout",
     "output_type": "stream",
     "text": [
      "RequiredDimsSeries requires dimension 'c'.\n"
     ]
    }
   ],
   "source": [
    "try:\n",
    "    RequiredDimsSeries(Q_([[1,2], [3,4]], \"m\"), [\"a\", \"b\"])\n",
    "except ValueError as e:\n",
    "    print(e)"
   ]
  },
  {
   "cell_type": "code",
   "execution_count": 18,
   "id": "e080d09a-4af0-48da-8a58-3b830aab30ca",
   "metadata": {},
   "outputs": [],
   "source": [
    "RequiredDimsSeries(Q_([[1,2], [3,4]], \"m\"), [\"a\", \"c\"]);"
   ]
  },
  {
   "cell_type": "markdown",
   "id": "57e0d65e-c5f2-43e4-95b5-ecff9c4c14af",
   "metadata": {},
   "source": [
    "### Expression"
   ]
  },
  {
   "cell_type": "code",
   "execution_count": 19,
   "id": "28dcd2c8-cb34-4f80-b89e-dea57913ed97",
   "metadata": {},
   "outputs": [
    {
     "name": "stdout",
     "output_type": "stream",
     "text": [
      "RequiredDimsSeries requires dimension 'c'.\n"
     ]
    }
   ],
   "source": [
    "try:\n",
    "    RequiredDimsSeries(\"a*b\")\n",
    "except ValueError as e:\n",
    "    print(e)"
   ]
  },
  {
   "cell_type": "code",
   "execution_count": 20,
   "id": "ac44068b-feb5-43bd-b703-7ffcd4de2852",
   "metadata": {},
   "outputs": [],
   "source": [
    "RequiredDimsSeries(\"a*b\", dims=dict(b=\"c\"));"
   ]
  },
  {
   "cell_type": "code",
   "execution_count": 21,
   "id": "ddacfed9-bb4a-4750-bdd5-5e5fc552bd34",
   "metadata": {},
   "outputs": [],
   "source": [
    "RequiredDimsSeries(\"a*c\"); "
   ]
  },
  {
   "cell_type": "code",
   "execution_count": 22,
   "id": "54890445-3691-454a-be0a-4b7fd238b5cb",
   "metadata": {},
   "outputs": [],
   "source": [
    "RequiredDimsSeries(\"a*b\", parameters=dict(a=(Q_([1,3], \"m\"), \"c\")));"
   ]
  },
  {
   "cell_type": "markdown",
   "id": "a33afbc9-822f-4274-abb7-ecb3f1ae6b56",
   "metadata": {},
   "source": [
    "## Required unit dimensionality"
   ]
  },
  {
   "cell_type": "code",
   "execution_count": 23,
   "id": "17bdfd58-4175-41e9-b2c6-c255715ca7a6",
   "metadata": {},
   "outputs": [],
   "source": [
    "class RequiredUnitDimSeries(GenericSeries):\n",
    "    _required_unit_dimensionality = U_(\"m\").dimensionality"
   ]
  },
  {
   "cell_type": "markdown",
   "id": "ed16a24d-8653-4547-8cde-eff9753c58b4",
   "metadata": {},
   "source": [
    "### Discrete"
   ]
  },
  {
   "cell_type": "code",
   "execution_count": 24,
   "id": "41d491a0-0545-4e76-a055-e4b48bcf848c",
   "metadata": {},
   "outputs": [
    {
     "name": "stdout",
     "output_type": "stream",
     "text": [
      "RequiredUnitDimSeries requires its output unit to be of dimensionality '[length]' but it actually is '[temperature]'.\n"
     ]
    }
   ],
   "source": [
    "try:\n",
    "    RequiredUnitDimSeries(Q_(\"2K\"))\n",
    "except ValueError as e:\n",
    "    print(e)"
   ]
  },
  {
   "cell_type": "code",
   "execution_count": 25,
   "id": "3b62b17c-3482-4694-aec7-387ef2c539bd",
   "metadata": {},
   "outputs": [],
   "source": [
    "RequiredUnitDimSeries(Q_(\"2m\"));"
   ]
  },
  {
   "cell_type": "markdown",
   "id": "647c4484-222d-4dc2-a3ab-fafb761fa385",
   "metadata": {},
   "source": [
    "### Expression"
   ]
  },
  {
   "cell_type": "code",
   "execution_count": 26,
   "id": "8b7336a6-dbfa-42da-a561-4909af17ed45",
   "metadata": {},
   "outputs": [
    {
     "name": "stdout",
     "output_type": "stream",
     "text": [
      "RequiredUnitDimSeries requires its output unit to be of dimensionality '[length]' but it actually is '[temperature]'.\n"
     ]
    }
   ],
   "source": [
    "try:\n",
    "    RequiredUnitDimSeries(\"a*b\", units=dict(a=\"K\"))\n",
    "except ValueError as e:\n",
    "    print(e)"
   ]
  },
  {
   "cell_type": "code",
   "execution_count": 27,
   "id": "bd8033ae-c0d9-4f5e-96e3-052ad538cda8",
   "metadata": {},
   "outputs": [],
   "source": [
    "RequiredUnitDimSeries(\"a*b\", units=dict(a=\"m\"));"
   ]
  }
 ],
 "metadata": {
  "kernelspec": {
   "display_name": "weldx",
   "language": "python",
   "name": "weldx"
  },
  "language_info": {
   "codemirror_mode": {
    "name": "ipython",
    "version": 3
   },
   "file_extension": ".py",
   "mimetype": "text/x-python",
   "name": "python",
   "nbconvert_exporter": "python",
   "pygments_lexer": "ipython3",
   "version": "3.8.11"
  }
 },
 "nbformat": 4,
 "nbformat_minor": 5
}
