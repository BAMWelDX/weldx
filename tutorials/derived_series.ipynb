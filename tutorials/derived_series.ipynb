{
 "cells": [
  {
   "cell_type": "code",
   "execution_count": 1,
   "id": "26798c84",
   "metadata": {},
   "outputs": [],
   "source": [
    "from xarray import DataArray\n",
    "\n",
    "from weldx import Q_, U_, GenericSeries\n",
    "from pint import DimensionalityError"
   ]
  },
  {
   "cell_type": "markdown",
   "id": "9a727610",
   "metadata": {},
   "source": [
    "## Allowed variables (expressions only)"
   ]
  },
  {
   "cell_type": "code",
   "execution_count": 2,
   "id": "a64750de",
   "metadata": {},
   "outputs": [],
   "source": [
    "class AllowedVarsSeries(GenericSeries):\n",
    "    _allowed_variables = [\"a\"]"
   ]
  },
  {
   "cell_type": "code",
   "execution_count": 3,
   "id": "9571ad5c",
   "metadata": {},
   "outputs": [
    {
     "name": "stdout",
     "output_type": "stream",
     "text": [
      "'['a', 'b']' is not a subset of the allowed expression variables ['a'] of class AllowedVarsSeries\n"
     ]
    }
   ],
   "source": [
    "try:\n",
    "    AllowedVarsSeries(\"a*b\")\n",
    "except ValueError as e:\n",
    "    print(e)"
   ]
  },
  {
   "cell_type": "code",
   "execution_count": 4,
   "id": "aaaab7ec",
   "metadata": {},
   "outputs": [],
   "source": [
    "AllowedVarsSeries(\"4*a\");"
   ]
  },
  {
   "cell_type": "markdown",
   "id": "aaba907d",
   "metadata": {},
   "source": [
    "## Required variables (expressions only)"
   ]
  },
  {
   "cell_type": "code",
   "execution_count": 5,
   "id": "514fdaa8",
   "metadata": {},
   "outputs": [],
   "source": [
    "class RequiredVarsSeries(GenericSeries):\n",
    "    _required_variables = [\"c\"]"
   ]
  },
  {
   "cell_type": "code",
   "execution_count": 6,
   "id": "54bdd48b",
   "metadata": {},
   "outputs": [
    {
     "name": "stdout",
     "output_type": "stream",
     "text": [
      "RequiredVarsSeries requires expression variables '['c']'.\n"
     ]
    }
   ],
   "source": [
    "try:\n",
    "    RequiredVarsSeries(\"a*b\")\n",
    "except ValueError as e:\n",
    "    print(e)"
   ]
  },
  {
   "cell_type": "code",
   "execution_count": 7,
   "id": "d81ed5b9",
   "metadata": {},
   "outputs": [],
   "source": [
    "RequiredVarsSeries(\"a*c\");"
   ]
  },
  {
   "cell_type": "markdown",
   "id": "3c89db31",
   "metadata": {},
   "source": [
    "## Preprocess coordinates"
   ]
  },
  {
   "cell_type": "code",
   "execution_count": 8,
   "id": "94db3dc2",
   "metadata": {},
   "outputs": [],
   "source": [
    "def handle_time(instance, time, time_ref):\n",
    "    from weldx import Time\n",
    "\n",
    "    time = Time(time, time_ref)\n",
    "\n",
    "    return dict(t=time.as_quantity())"
   ]
  },
  {
   "cell_type": "code",
   "execution_count": 9,
   "id": "b6f9b80e",
   "metadata": {},
   "outputs": [],
   "source": [
    "class PreprocessCoordsSeries(GenericSeries):\n",
    "    _evaluation_preprocessor = handle_time"
   ]
  },
  {
   "cell_type": "markdown",
   "id": "eb5c690e",
   "metadata": {},
   "source": [
    "### Discrete"
   ]
  },
  {
   "cell_type": "code",
   "execution_count": 10,
   "id": "14dd87b8",
   "metadata": {},
   "outputs": [],
   "source": [
    "pcs_discrete = PreprocessCoordsSeries(\n",
    "    Q_([1, 2, 4], \"m\"), dims=[\"t\"], coords={\"t\": Q_([2, 4, 7], \"s\")}\n",
    ")"
   ]
  },
  {
   "cell_type": "code",
   "execution_count": 11,
   "id": "f4c236a8",
   "metadata": {},
   "outputs": [
    {
     "name": "stdout",
     "output_type": "stream",
     "text": [
      "time: [5.]\n",
      "data: [2.6666666666666665] m\n"
     ]
    }
   ],
   "source": [
    "pcs_result_discrete = pcs_discrete(\n",
    "    time=\"2000-01-01 15:00:05\", time_ref=\"2000-01-01 15:00:00\"\n",
    ")\n",
    "print(f\"time: {pcs_result_discrete.data_array.t.data}\")\n",
    "print(f\"data: {pcs_result_discrete.data}\")"
   ]
  },
  {
   "cell_type": "code",
   "execution_count": 12,
   "id": "79173189",
   "metadata": {},
   "outputs": [
    {
     "name": "stdout",
     "output_type": "stream",
     "text": [
      "invalid input\n"
     ]
    }
   ],
   "source": [
    "try:\n",
    "    pcs_discrete(x=3)\n",
    "except TypeError:\n",
    "    print(\"invalid input\")"
   ]
  },
  {
   "cell_type": "markdown",
   "id": "b45ed4f2",
   "metadata": {},
   "source": [
    "### Expression"
   ]
  },
  {
   "cell_type": "code",
   "execution_count": 13,
   "id": "74dd1a95",
   "metadata": {},
   "outputs": [],
   "source": [
    "pcs_expr = PreprocessCoordsSeries(\"a * t\", parameters=dict(a=\"3m/s\"))"
   ]
  },
  {
   "cell_type": "code",
   "execution_count": 14,
   "id": "22fb22d5",
   "metadata": {},
   "outputs": [
    {
     "name": "stdout",
     "output_type": "stream",
     "text": [
      "time: [5.]\n",
      "data: [15.0] m\n"
     ]
    }
   ],
   "source": [
    "pcs_result_expr = pcs_expr(time=\"2000-01-01 15:00:05\", time_ref=\"2000-01-01 15:00:00\")\n",
    "print(f\"time: {pcs_result_expr.data_array.t.data}\")\n",
    "print(f\"data: {pcs_result_expr.data}\")"
   ]
  },
  {
   "cell_type": "code",
   "execution_count": 15,
   "id": "628fce19",
   "metadata": {},
   "outputs": [
    {
     "name": "stdout",
     "output_type": "stream",
     "text": [
      "invalid input\n"
     ]
    }
   ],
   "source": [
    "try:\n",
    "    pcs_expr(x=3)\n",
    "except TypeError:\n",
    "    print(\"invalid input\")"
   ]
  },
  {
   "cell_type": "markdown",
   "id": "488bdd60",
   "metadata": {},
   "source": [
    "## Required dimensions"
   ]
  },
  {
   "cell_type": "code",
   "execution_count": 16,
   "id": "df073654",
   "metadata": {},
   "outputs": [],
   "source": [
    "class RequiredDimsSeries(GenericSeries):\n",
    "    _required_dimensions = [\"c\"]"
   ]
  },
  {
   "cell_type": "markdown",
   "id": "bd19a315",
   "metadata": {},
   "source": [
    "###  Discrete"
   ]
  },
  {
   "cell_type": "code",
   "execution_count": 17,
   "id": "e8bf520d",
   "metadata": {},
   "outputs": [
    {
     "name": "stdout",
     "output_type": "stream",
     "text": [
      "RequiredDimsSeries requires dimensions '['c']'.\n"
     ]
    }
   ],
   "source": [
    "try:\n",
    "    RequiredDimsSeries(Q_([[1, 2], [3, 4]], \"m\"), [\"a\", \"b\"])\n",
    "except ValueError as e:\n",
    "    print(e)"
   ]
  },
  {
   "cell_type": "code",
   "execution_count": 18,
   "id": "b82963b7",
   "metadata": {},
   "outputs": [],
   "source": [
    "RequiredDimsSeries(Q_([[1, 2], [3, 4]], \"m\"), [\"a\", \"c\"]);"
   ]
  },
  {
   "cell_type": "markdown",
   "id": "f17ce3f8",
   "metadata": {},
   "source": [
    "### Expression"
   ]
  },
  {
   "cell_type": "code",
   "execution_count": 19,
   "id": "3a8bc5a4",
   "metadata": {},
   "outputs": [
    {
     "name": "stdout",
     "output_type": "stream",
     "text": [
      "RequiredDimsSeries requires dimensions '['c']'.\n"
     ]
    }
   ],
   "source": [
    "try:\n",
    "    RequiredDimsSeries(\"a*b\")\n",
    "except ValueError as e:\n",
    "    print(e)"
   ]
  },
  {
   "cell_type": "code",
   "execution_count": 20,
   "id": "f23f05bc",
   "metadata": {},
   "outputs": [],
   "source": [
    "RequiredDimsSeries(\"a*b\", dims=dict(b=\"c\"));"
   ]
  },
  {
   "cell_type": "code",
   "execution_count": 21,
   "id": "54ee6d82",
   "metadata": {},
   "outputs": [],
   "source": [
    "RequiredDimsSeries(\"a*c\");"
   ]
  },
  {
   "cell_type": "code",
   "execution_count": 22,
   "id": "65ad719c",
   "metadata": {},
   "outputs": [],
   "source": [
    "RequiredDimsSeries(\"a*b\", parameters=dict(a=(Q_([1, 3], \"m\"), \"c\")));"
   ]
  },
  {
   "cell_type": "markdown",
   "id": "d9a044f5-2a1d-4c8b-bfae-9139a76194ff",
   "metadata": {},
   "source": [
    "## Required dimension units"
   ]
  },
  {
   "cell_type": "code",
   "execution_count": 23,
   "id": "865e9efe-fa48-45b8-840c-88f2c095d601",
   "metadata": {},
   "outputs": [],
   "source": [
    "class RequiredDimUnitsSeries(GenericSeries):\n",
    "    _required_dimension_units = dict(t=\"s\", c=\"m\")"
   ]
  },
  {
   "cell_type": "markdown",
   "id": "c93b3dc5-c5ab-468c-85f1-d2e60e59f031",
   "metadata": {},
   "source": [
    "### Discrete"
   ]
  },
  {
   "cell_type": "code",
   "execution_count": 24,
   "id": "1bbd6d1c-7f92-474d-802c-5b0bde8c6e75",
   "metadata": {},
   "outputs": [
    {
     "name": "stdout",
     "output_type": "stream",
     "text": [
      "\"Could not find required coordinate 't'.\"\n"
     ]
    }
   ],
   "source": [
    "try:\n",
    "    RequiredDimUnitsSeries(\n",
    "        Q_([[1, 2], [3, 4]]),\n",
    "        dims=[\"t\", \"c\"],\n",
    "    )\n",
    "except KeyError as e:\n",
    "    print(e)"
   ]
  },
  {
   "cell_type": "code",
   "execution_count": 25,
   "id": "51f58746-2d6a-4626-b94d-74c13939971b",
   "metadata": {},
   "outputs": [
    {
     "name": "stdout",
     "output_type": "stream",
     "text": [
      "Cannot convert from 'K' to 'm'\n",
      "Dimensionality mismatch in coordinate 'c'\n",
      "Coordinate has unit 'K', expected 'm'\n"
     ]
    }
   ],
   "source": [
    "try:\n",
    "    RequiredDimUnitsSeries(\n",
    "        Q_([[1, 2], [3, 4]]),\n",
    "        dims=[\"t\", \"c\"],\n",
    "        coords=dict(t=Q_([1, 2], \"s\"), c=Q_([1, 2], \"K\")),\n",
    "    )\n",
    "except DimensionalityError as e:\n",
    "    print(e)"
   ]
  },
  {
   "cell_type": "code",
   "execution_count": 26,
   "id": "9266da3b-dbd4-479d-9e9e-ce1caf1574df",
   "metadata": {},
   "outputs": [],
   "source": [
    "RequiredDimUnitsSeries(\n",
    "    Q_([[1, 2], [3, 4]]),\n",
    "    dims=[\"t\", \"c\"],\n",
    "    coords=dict(t=Q_([1, 2], \"s\"), c=Q_([1, 2], \"m\")),\n",
    ");"
   ]
  },
  {
   "cell_type": "markdown",
   "id": "106d9869-5753-4531-a47a-00c9719945eb",
   "metadata": {},
   "source": [
    "### Expression"
   ]
  },
  {
   "cell_type": "code",
   "execution_count": 27,
   "id": "f0c05f29-a53b-4417-a000-296e966c6a7d",
   "metadata": {},
   "outputs": [
    {
     "name": "stdout",
     "output_type": "stream",
     "text": [
      "Cannot convert from 'second' to 'meter'\n",
      "Expression can not be evaluated due to a unit dimensionality error. Ensure that the expressions parameters and the expected variable units are compatible. The original exception was:\n",
      "Cannot convert from 'second' ([time]) to 'meter' ([length])\n"
     ]
    }
   ],
   "source": [
    "try:\n",
    "    RequiredDimUnitsSeries(\"a*t + c\")\n",
    "except DimensionalityError as e:\n",
    "    print(e)"
   ]
  },
  {
   "cell_type": "code",
   "execution_count": 28,
   "id": "2d6bd91f-042c-4710-b42a-db7d74b6b948",
   "metadata": {},
   "outputs": [
    {
     "name": "stdout",
     "output_type": "stream",
     "text": [
      "Cannot convert from 's' to 'K'\n",
      "RequiredDimUnitsSeries requires dimension t to have the unit dimensionality '[time]'\n"
     ]
    }
   ],
   "source": [
    "try:\n",
    "    RequiredDimUnitsSeries(\n",
    "        \"a*t + c\", units=dict(t=\"K\", c=\"m\"), parameters=dict(a=\"m/K\")\n",
    "    )\n",
    "except DimensionalityError as e:\n",
    "    print(e)"
   ]
  },
  {
   "cell_type": "code",
   "execution_count": 29,
   "id": "ff883f8a-ef1b-4a41-986d-328a01e19216",
   "metadata": {},
   "outputs": [
    {
     "name": "stdout",
     "output_type": "stream",
     "text": [
      "Cannot convert from 'm' to 'K'\n",
      "RequiredDimUnitsSeries requires dimension c to have the unit dimensionality '[length]'\n"
     ]
    }
   ],
   "source": [
    "try:\n",
    "    RequiredDimUnitsSeries(\n",
    "        \"a*t + c\", units=dict(t=\"s\"), parameters=dict(a=\"K/s\", c=\"5K\")\n",
    "    )\n",
    "except DimensionalityError as e:\n",
    "    print(e)"
   ]
  },
  {
   "cell_type": "code",
   "execution_count": 30,
   "id": "eb807824-abe2-4b46-9546-fb1bc096d7c9",
   "metadata": {},
   "outputs": [],
   "source": [
    "RequiredDimUnitsSeries(\"a*t + c\", units=dict(t=\"s\", c=\"m\"), parameters=dict(a=\"m/s\"));"
   ]
  },
  {
   "cell_type": "code",
   "execution_count": 31,
   "id": "f89a9cb2-f7c1-4c31-915e-d50d283f276a",
   "metadata": {},
   "outputs": [],
   "source": [
    "RequiredDimUnitsSeries(\"a*t + c\", units=dict(t=\"s\"), parameters=dict(a=\"m/s\", c=\"m\"));"
   ]
  },
  {
   "cell_type": "code",
   "execution_count": 32,
   "id": "6cdfe044-9287-4051-8a14-d1f4c4eb89da",
   "metadata": {},
   "outputs": [],
   "source": [
    "RequiredDimUnitsSeries(\"a*t + c\", units=dict(a=\"m/s\"), parameters=dict(t=\"s\", c=\"5m\"));"
   ]
  },
  {
   "cell_type": "markdown",
   "id": "d3b8e910-2f49-4aae-9f15-61b70ee09ca4",
   "metadata": {},
   "source": [
    "## Required dimension coordinates"
   ]
  },
  {
   "cell_type": "code",
   "execution_count": 33,
   "id": "49c95afd-b2b3-4cc6-8454-fdf576e048eb",
   "metadata": {},
   "outputs": [],
   "source": [
    "class RequiredDimCoordsSeries(GenericSeries):\n",
    "    _required_dimension_coordinates = dict(c=[\"x\", \"y\"])"
   ]
  },
  {
   "cell_type": "markdown",
   "id": "49b4774d-6e34-4d60-9ba6-fce6cc150e30",
   "metadata": {},
   "source": [
    "### Discrete"
   ]
  },
  {
   "cell_type": "code",
   "execution_count": 34,
   "id": "d4ec851e-a8eb-4460-9f43-a4750994a7b0",
   "metadata": {},
   "outputs": [
    {
     "name": "stdout",
     "output_type": "stream",
     "text": [
      "\"Could not find required coordinate 'c'.\"\n"
     ]
    }
   ],
   "source": [
    "try:\n",
    "    RequiredDimCoordsSeries(\n",
    "        Q_([[1, 2], [3, 4]]),\n",
    "        dims=[\"t\", \"c\"],\n",
    "    )\n",
    "except KeyError as e:\n",
    "    print(e)"
   ]
  },
  {
   "cell_type": "code",
   "execution_count": 35,
   "id": "609fe66b-7679-49fd-8d00-a2bf87d33a4d",
   "metadata": {},
   "outputs": [
    {
     "name": "stdout",
     "output_type": "stream",
     "text": [
      "Value mismatch in DataArray and ref['c']\n"
     ]
    }
   ],
   "source": [
    "try:\n",
    "    RequiredDimCoordsSeries(\n",
    "        Q_([[1, 2], [3, 4]]), dims=[\"t\", \"c\"], coords=dict(c=[\"a\", \"b\"])\n",
    "    )\n",
    "except ValueError as e:\n",
    "    print(e)"
   ]
  },
  {
   "cell_type": "code",
   "execution_count": 36,
   "id": "6085379d-50b1-4963-8e85-4dd089068ba5",
   "metadata": {},
   "outputs": [],
   "source": [
    "RequiredDimCoordsSeries(\n",
    "    Q_([[1, 2], [3, 4]]), dims=[\"t\", \"c\"], coords=dict(c=[\"x\", \"y\"])\n",
    ");"
   ]
  },
  {
   "cell_type": "markdown",
   "id": "0e44a69a-cae5-4e58-8d7f-9c492e2ce046",
   "metadata": {},
   "source": [
    "### Expression"
   ]
  },
  {
   "cell_type": "code",
   "execution_count": 37,
   "id": "49a521ae-a45b-44c3-bf5b-efad58c596c1",
   "metadata": {},
   "outputs": [
    {
     "name": "stdout",
     "output_type": "stream",
     "text": [
      "RequiredDimCoordsSeries requires dimension c to have the coordinates ['x', 'y']. Therefore it can't be a variable dimension.\n"
     ]
    }
   ],
   "source": [
    "try:\n",
    "    RequiredDimCoordsSeries(\"a*t + c\")\n",
    "except ValueError as e:\n",
    "    print(e)"
   ]
  },
  {
   "cell_type": "code",
   "execution_count": 38,
   "id": "14a959b7-e674-4ffc-9140-911d4a331270",
   "metadata": {},
   "outputs": [],
   "source": [
    "b = DataArray(Q_([1, 2], \"\"), dims=[\"c\"])\n",
    "\n",
    "try:\n",
    "    RequiredDimCoordsSeries(\"a*t + b\", parameters=dict(b=b))\n",
    "except ValueError as e:\n",
    "    print(e)"
   ]
  },
  {
   "cell_type": "code",
   "execution_count": 39,
   "id": "d58d7569-3f02-457c-8698-312beb61dce8",
   "metadata": {},
   "outputs": [
    {
     "name": "stdout",
     "output_type": "stream",
     "text": [
      "Value mismatch in DataArray and ref['c']\n"
     ]
    }
   ],
   "source": [
    "b = DataArray(Q_([1, 2], \"\"), dims=[\"c\"], coords=dict(c=[\"a\", \"b\"]))\n",
    "try:\n",
    "    RequiredDimCoordsSeries(\"a*t + b\", parameters=dict(b=b))\n",
    "except ValueError as e:\n",
    "    print(e)"
   ]
  },
  {
   "cell_type": "code",
   "execution_count": 40,
   "id": "1e4b992d-9659-41b9-9ea0-75c93d2b4460",
   "metadata": {},
   "outputs": [],
   "source": [
    "b = DataArray(Q_([1, 2], \"\"), dims=[\"c\"], coords=dict(c=[\"x\", \"y\"]))\n",
    "RequiredDimCoordsSeries(\"a*t + b\", parameters=dict(b=b));"
   ]
  },
  {
   "cell_type": "markdown",
   "id": "385950ad",
   "metadata": {},
   "source": [
    "## Required unit dimensionality"
   ]
  },
  {
   "cell_type": "code",
   "execution_count": 41,
   "id": "9fc42eac",
   "metadata": {},
   "outputs": [],
   "source": [
    "class RequiredUnitDimSeries(GenericSeries):\n",
    "    _required_unit_dimensionality = U_(\"m\")"
   ]
  },
  {
   "cell_type": "markdown",
   "id": "22b0600a",
   "metadata": {},
   "source": [
    "### Discrete"
   ]
  },
  {
   "cell_type": "code",
   "execution_count": 42,
   "id": "da5095e7",
   "metadata": {},
   "outputs": [
    {
     "name": "stdout",
     "output_type": "stream",
     "text": [
      "Cannot convert from 'K' to 'm'\n",
      "DataArray units are 'K'.  This is incompatible with the expected dimensionality '[length]'\n"
     ]
    }
   ],
   "source": [
    "try:\n",
    "    RequiredUnitDimSeries(Q_(\"2K\"))\n",
    "except DimensionalityError as e:\n",
    "    print(e)"
   ]
  },
  {
   "cell_type": "code",
   "execution_count": 43,
   "id": "480d2e90",
   "metadata": {},
   "outputs": [],
   "source": [
    "RequiredUnitDimSeries(Q_(\"2m\"));"
   ]
  },
  {
   "cell_type": "markdown",
   "id": "9520d228",
   "metadata": {},
   "source": [
    "### Expression"
   ]
  },
  {
   "cell_type": "code",
   "execution_count": 44,
   "id": "8b45e8f7",
   "metadata": {},
   "outputs": [
    {
     "name": "stdout",
     "output_type": "stream",
     "text": [
      "Cannot convert from 'K' to 'm'\n",
      "RequiredUnitDimSeries requires its output unit to be of dimensionality '[length]' but it actually is '[temperature]'.\n"
     ]
    }
   ],
   "source": [
    "try:\n",
    "    RequiredUnitDimSeries(\"a*b\", units=dict(a=\"K\"))\n",
    "except DimensionalityError as e:\n",
    "    print(e)"
   ]
  },
  {
   "cell_type": "code",
   "execution_count": 45,
   "id": "9ab95f91",
   "metadata": {},
   "outputs": [],
   "source": [
    "RequiredUnitDimSeries(\"a*b\", units=dict(a=\"m\"));"
   ]
  }
 ],
 "metadata": {
  "kernelspec": {
   "display_name": "weldx",
   "language": "python",
   "name": "weldx"
  },
  "language_info": {
   "codemirror_mode": {
    "name": "ipython",
    "version": 3
   },
   "file_extension": ".py",
   "mimetype": "text/x-python",
   "name": "python",
   "nbconvert_exporter": "python",
   "pygments_lexer": "ipython3",
   "version": "3.8.11"
  }
 },
 "nbformat": 4,
 "nbformat_minor": 5
}
