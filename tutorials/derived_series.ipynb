{
 "cells": [
  {
   "cell_type": "code",
   "execution_count": null,
   "id": "26798c84",
   "metadata": {},
   "outputs": [],
   "source": [
    "from xarray import DataArray\n",
    "\n",
    "from weldx import Q_, U_, GenericSeries"
   ]
  },
  {
   "cell_type": "markdown",
   "id": "9a727610",
   "metadata": {},
   "source": [
    "## Allowed variables (expressions only)"
   ]
  },
  {
   "cell_type": "code",
   "execution_count": null,
   "id": "a64750de",
   "metadata": {},
   "outputs": [],
   "source": [
    "class AllowedVarsSeries(GenericSeries):\n",
    "    _allowed_variables = [\"a\"]"
   ]
  },
  {
   "cell_type": "code",
   "execution_count": null,
   "id": "9571ad5c",
   "metadata": {},
   "outputs": [],
   "source": [
    "try:\n",
    "    AllowedVarsSeries(\"a*b\")\n",
    "except ValueError as e:\n",
    "    print(e)"
   ]
  },
  {
   "cell_type": "code",
   "execution_count": null,
   "id": "aaaab7ec",
   "metadata": {},
   "outputs": [],
   "source": [
    "AllowedVarsSeries(\"4*a\");"
   ]
  },
  {
   "cell_type": "markdown",
   "id": "aaba907d",
   "metadata": {},
   "source": [
    "## Required variables (expressions only)"
   ]
  },
  {
   "cell_type": "code",
   "execution_count": null,
   "id": "514fdaa8",
   "metadata": {},
   "outputs": [],
   "source": [
    "class RequiredVarsSeries(GenericSeries):\n",
    "    _required_variables = [\"c\"]"
   ]
  },
  {
   "cell_type": "code",
   "execution_count": null,
   "id": "54bdd48b",
   "metadata": {},
   "outputs": [],
   "source": [
    "try:\n",
    "    RequiredVarsSeries(\"a*b\")\n",
    "except ValueError as e:\n",
    "    print(e)"
   ]
  },
  {
   "cell_type": "code",
   "execution_count": null,
   "id": "d81ed5b9",
   "metadata": {},
   "outputs": [],
   "source": [
    "RequiredVarsSeries(\"a*c\");"
   ]
  },
  {
   "cell_type": "markdown",
   "id": "3c89db31",
   "metadata": {},
   "source": [
    "## Preprocess coordinates"
   ]
  },
  {
   "cell_type": "code",
   "execution_count": null,
   "id": "94db3dc2",
   "metadata": {},
   "outputs": [],
   "source": [
    "def handle_time(instance, time, time_ref):\n",
    "    from weldx import Time\n",
    "\n",
    "    time = Time(time, time_ref)\n",
    "\n",
    "    return dict(t=time.as_quantity())"
   ]
  },
  {
   "cell_type": "code",
   "execution_count": null,
   "id": "b6f9b80e",
   "metadata": {},
   "outputs": [],
   "source": [
    "class PreprocessCoordsSeries(GenericSeries):\n",
    "    _evaluation_preprocessor = handle_time"
   ]
  },
  {
   "cell_type": "markdown",
   "id": "eb5c690e",
   "metadata": {},
   "source": [
    "### Discrete"
   ]
  },
  {
   "cell_type": "code",
   "execution_count": null,
   "id": "14dd87b8",
   "metadata": {},
   "outputs": [],
   "source": [
    "pcs_discrete = PreprocessCoordsSeries(\n",
    "    Q_([1, 2, 4], \"m\"), dims=[\"t\"], coords={\"t\": Q_([2, 4, 7], \"s\")}\n",
    ")"
   ]
  },
  {
   "cell_type": "code",
   "execution_count": null,
   "id": "f4c236a8",
   "metadata": {},
   "outputs": [],
   "source": [
    "pcs_result_discrete = pcs_discrete(\n",
    "    time=\"2000-01-01 15:00:05\", time_ref=\"2000-01-01 15:00:00\"\n",
    ")\n",
    "print(f\"time: {pcs_result_discrete.data_array.t.data}\")\n",
    "print(f\"data: {pcs_result_discrete.data}\")"
   ]
  },
  {
   "cell_type": "code",
   "execution_count": null,
   "id": "79173189",
   "metadata": {},
   "outputs": [],
   "source": [
    "try:\n",
    "    pcs_discrete(x=3)\n",
    "except TypeError:\n",
    "    print(\"invalid input\")"
   ]
  },
  {
   "cell_type": "markdown",
   "id": "b45ed4f2",
   "metadata": {},
   "source": [
    "### Expression"
   ]
  },
  {
   "cell_type": "code",
   "execution_count": null,
   "id": "74dd1a95",
   "metadata": {},
   "outputs": [],
   "source": [
    "pcs_expr = PreprocessCoordsSeries(\"a * t\", parameters=dict(a=\"3m/s\"))"
   ]
  },
  {
   "cell_type": "code",
   "execution_count": null,
   "id": "22fb22d5",
   "metadata": {},
   "outputs": [],
   "source": [
    "pcs_result_expr = pcs_expr(time=\"2000-01-01 15:00:05\", time_ref=\"2000-01-01 15:00:00\")\n",
    "print(f\"time: {pcs_result_expr.data_array.t.data}\")\n",
    "print(f\"data: {pcs_result_expr.data}\")"
   ]
  },
  {
   "cell_type": "code",
   "execution_count": null,
   "id": "628fce19",
   "metadata": {},
   "outputs": [],
   "source": [
    "try:\n",
    "    pcs_expr(x=3)\n",
    "except TypeError:\n",
    "    print(\"invalid input\")"
   ]
  },
  {
   "cell_type": "markdown",
   "id": "488bdd60",
   "metadata": {},
   "source": [
    "## Required dimensions"
   ]
  },
  {
   "cell_type": "code",
   "execution_count": null,
   "id": "df073654",
   "metadata": {},
   "outputs": [],
   "source": [
    "class RequiredDimsSeries(GenericSeries):\n",
    "    _required_dimensions = [\"c\"]"
   ]
  },
  {
   "cell_type": "markdown",
   "id": "bd19a315",
   "metadata": {},
   "source": [
    "###  Discrete"
   ]
  },
  {
   "cell_type": "code",
   "execution_count": null,
   "id": "e8bf520d",
   "metadata": {},
   "outputs": [],
   "source": [
    "try:\n",
    "    RequiredDimsSeries(Q_([[1, 2], [3, 4]], \"m\"), [\"a\", \"b\"])\n",
    "except ValueError as e:\n",
    "    print(e)"
   ]
  },
  {
   "cell_type": "code",
   "execution_count": null,
   "id": "b82963b7",
   "metadata": {},
   "outputs": [],
   "source": [
    "RequiredDimsSeries(Q_([[1, 2], [3, 4]], \"m\"), [\"a\", \"c\"]);"
   ]
  },
  {
   "cell_type": "markdown",
   "id": "f17ce3f8",
   "metadata": {},
   "source": [
    "### Expression"
   ]
  },
  {
   "cell_type": "code",
   "execution_count": null,
   "id": "3a8bc5a4",
   "metadata": {},
   "outputs": [],
   "source": [
    "try:\n",
    "    RequiredDimsSeries(\"a*b\")\n",
    "except ValueError as e:\n",
    "    print(e)"
   ]
  },
  {
   "cell_type": "code",
   "execution_count": null,
   "id": "f23f05bc",
   "metadata": {},
   "outputs": [],
   "source": [
    "RequiredDimsSeries(\"a*b\", dims=dict(b=\"c\"));"
   ]
  },
  {
   "cell_type": "code",
   "execution_count": null,
   "id": "54ee6d82",
   "metadata": {},
   "outputs": [],
   "source": [
    "RequiredDimsSeries(\"a*c\");"
   ]
  },
  {
   "cell_type": "code",
   "execution_count": null,
   "id": "65ad719c",
   "metadata": {},
   "outputs": [],
   "source": [
    "RequiredDimsSeries(\"a*b\", parameters=dict(a=(Q_([1, 3], \"m\"), \"c\")));"
   ]
  },
  {
   "cell_type": "markdown",
   "id": "d9a044f5-2a1d-4c8b-bfae-9139a76194ff",
   "metadata": {},
   "source": [
    "## Required dimension units"
   ]
  },
  {
   "cell_type": "code",
   "execution_count": null,
   "id": "865e9efe-fa48-45b8-840c-88f2c095d601",
   "metadata": {},
   "outputs": [],
   "source": [
    "class RequiredDimUnitsSeries(GenericSeries):\n",
    "    _required_dimension_units = dict(t=\"s\", c=\"m\")"
   ]
  },
  {
   "cell_type": "markdown",
   "id": "c93b3dc5-c5ab-468c-85f1-d2e60e59f031",
   "metadata": {},
   "source": [
    "### Discrete"
   ]
  },
  {
   "cell_type": "code",
   "execution_count": null,
   "id": "1bbd6d1c-7f92-474d-802c-5b0bde8c6e75",
   "metadata": {},
   "outputs": [],
   "source": [
    "try:\n",
    "    RequiredDimUnitsSeries(\n",
    "        Q_([[1, 2], [3, 4]]),\n",
    "        dims=[\"t\", \"c\"],\n",
    "    )\n",
    "except ValueError as e:\n",
    "    print(e)"
   ]
  },
  {
   "cell_type": "code",
   "execution_count": null,
   "id": "51f58746-2d6a-4626-b94d-74c13939971b",
   "metadata": {},
   "outputs": [],
   "source": [
    "try:\n",
    "    RequiredDimUnitsSeries(\n",
    "        Q_([[1, 2], [3, 4]]),\n",
    "        dims=[\"t\", \"c\"],\n",
    "        coords=dict(t=Q_([1, 2], \"s\"), c=Q_([1, 2], \"K\")),\n",
    "    )\n",
    "except ValueError as e:\n",
    "    print(e)"
   ]
  },
  {
   "cell_type": "code",
   "execution_count": null,
   "id": "9266da3b-dbd4-479d-9e9e-ce1caf1574df",
   "metadata": {},
   "outputs": [],
   "source": [
    "RequiredDimUnitsSeries(\n",
    "    Q_([[1, 2], [3, 4]]),\n",
    "    dims=[\"t\", \"c\"],\n",
    "    coords=dict(t=Q_([1, 2], \"s\"), c=Q_([1, 2], \"m\")),\n",
    ");"
   ]
  },
  {
   "cell_type": "markdown",
   "id": "106d9869-5753-4531-a47a-00c9719945eb",
   "metadata": {},
   "source": [
    "### Expression"
   ]
  },
  {
   "cell_type": "code",
   "execution_count": null,
   "id": "f0c05f29-a53b-4417-a000-296e966c6a7d",
   "metadata": {},
   "outputs": [],
   "source": [
    "try:\n",
    "    RequiredDimUnitsSeries(\"a*t + c\")\n",
    "except ValueError as e:\n",
    "    print(e)"
   ]
  },
  {
   "cell_type": "code",
   "execution_count": null,
   "id": "2d6bd91f-042c-4710-b42a-db7d74b6b948",
   "metadata": {},
   "outputs": [],
   "source": [
    "try:\n",
    "    RequiredDimUnitsSeries(\n",
    "        \"a*t + c\", units=dict(t=\"K\", c=\"m\"), parameters=dict(a=\"m/K\")\n",
    "    )\n",
    "except ValueError as e:\n",
    "    print(e)"
   ]
  },
  {
   "cell_type": "code",
   "execution_count": null,
   "id": "ff883f8a-ef1b-4a41-986d-328a01e19216",
   "metadata": {},
   "outputs": [],
   "source": [
    "try:\n",
    "    RequiredDimUnitsSeries(\n",
    "        \"a*t + c\", units=dict(t=\"s\"), parameters=dict(a=\"K/s\", c=\"5K\")\n",
    "    )\n",
    "except ValueError as e:\n",
    "    print(e)"
   ]
  },
  {
   "cell_type": "code",
   "execution_count": null,
   "id": "eb807824-abe2-4b46-9546-fb1bc096d7c9",
   "metadata": {},
   "outputs": [],
   "source": [
    "RequiredDimUnitsSeries(\"a*t + c\", units=dict(t=\"s\", c=\"m\"), parameters=dict(a=\"m/s\"));"
   ]
  },
  {
   "cell_type": "code",
   "execution_count": null,
   "id": "f89a9cb2-f7c1-4c31-915e-d50d283f276a",
   "metadata": {},
   "outputs": [],
   "source": [
    "RequiredDimUnitsSeries(\"a*t + c\", units=dict(t=\"s\"), parameters=dict(a=\"m/s\", c=\"m\"));"
   ]
  },
  {
   "cell_type": "code",
   "execution_count": null,
   "id": "6cdfe044-9287-4051-8a14-d1f4c4eb89da",
   "metadata": {},
   "outputs": [],
   "source": [
    "RequiredDimUnitsSeries(\"a*t + c\", units=dict(a=\"m/s\"), parameters=dict(t=\"s\", c=\"5m\"));"
   ]
  },
  {
   "cell_type": "markdown",
   "id": "385950ad",
   "metadata": {},
   "source": [
    "## Required unit dimensionality"
   ]
  },
  {
   "cell_type": "code",
   "execution_count": null,
   "id": "9fc42eac",
   "metadata": {},
   "outputs": [],
   "source": [
    "class RequiredUnitDimSeries(GenericSeries):\n",
    "    _required_unit_dimensionality = U_(\"m\").dimensionality"
   ]
  },
  {
   "cell_type": "markdown",
   "id": "22b0600a",
   "metadata": {},
   "source": [
    "### Discrete"
   ]
  },
  {
   "cell_type": "code",
   "execution_count": null,
   "id": "da5095e7",
   "metadata": {},
   "outputs": [],
   "source": [
    "try:\n",
    "    RequiredUnitDimSeries(Q_(\"2K\"))\n",
    "except ValueError as e:\n",
    "    print(e)"
   ]
  },
  {
   "cell_type": "code",
   "execution_count": null,
   "id": "480d2e90",
   "metadata": {},
   "outputs": [],
   "source": [
    "RequiredUnitDimSeries(Q_(\"2m\"));"
   ]
  },
  {
   "cell_type": "markdown",
   "id": "9520d228",
   "metadata": {},
   "source": [
    "### Expression"
   ]
  },
  {
   "cell_type": "code",
   "execution_count": null,
   "id": "8b45e8f7",
   "metadata": {},
   "outputs": [],
   "source": [
    "try:\n",
    "    RequiredUnitDimSeries(\"a*b\", units=dict(a=\"K\"))\n",
    "except ValueError as e:\n",
    "    print(e)"
   ]
  },
  {
   "cell_type": "code",
   "execution_count": null,
   "id": "9ab95f91",
   "metadata": {},
   "outputs": [],
   "source": [
    "RequiredUnitDimSeries(\"a*b\", units=dict(a=\"m\"));"
   ]
  },
  {
   "cell_type": "code",
   "execution_count": null,
   "id": "97b7c050",
   "metadata": {},
   "outputs": [],
   "source": []
  },
  {
   "cell_type": "code",
   "execution_count": null,
   "id": "5e7030ba",
   "metadata": {},
   "outputs": [],
   "source": [
    "coords = DataArray(Q_([1, 2, 3], \"s\"), dims=[\"t\"]).pint.dequantify().pint.dequantify()\n",
    "data = DataArray(Q_([1, 2, 3], \"m\"), dims=[\"t\"], coords={\"t\": coords})\n",
    "print(data.coords[\"t\"])\n",
    "print(coords)"
   ]
  }
 ],
 "metadata": {
  "kernelspec": {
   "display_name": "",
   "language": "python",
   "name": ""
  },
  "language_info": {
   "codemirror_mode": {
    "name": "ipython",
    "version": 3
   },
   "file_extension": ".py",
   "mimetype": "text/x-python",
   "name": "python",
   "nbconvert_exporter": "python",
   "pygments_lexer": "ipython3",
   "version": "3.8.11"
  }
 },
 "nbformat": 4,
 "nbformat_minor": 5
}
