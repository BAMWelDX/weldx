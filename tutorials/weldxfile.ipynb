{
 "cells": [
  {
   "cell_type": "markdown",
   "id": "8752a312-e514-49bf-b6cf-ade3b21cf052",
   "metadata": {},
   "source": [
    "# How to handle WeldX files\n",
    "In this notebook we will demonstrate how to create, read, and update ASDF files created by WeldX. All the needed funcationality is contained in a single class named `WeldxFile`. We are going to show different modes of operation, like working with physical files on your harddrive, and in-memory files, both read-only and read-write mode.\n",
    "\n",
    "## Imports\n",
    "The WeldxFile class is being imported from the top-level of the weldx package."
   ]
  },
  {
   "cell_type": "code",
   "execution_count": null,
   "id": "39ec4959-bb49-410c-a2f3-2219c2b320ad",
   "metadata": {},
   "outputs": [],
   "source": [
    "from weldx import WeldxFile\n",
    "import numpy as np\n",
    "from datetime import datetime"
   ]
  },
  {
   "cell_type": "markdown",
   "id": "48bf8b07-24c6-4ac9-9c78-858c8fb40ee2",
   "metadata": {},
   "source": [
    "## Basic operations\n",
    "Now we create our first file, by invoking the `WeldxFile` constructor without any additional arguments. By doing so, we create an in-memory file. This means, that your changes will be temporary until you write it to an actual file on your harddrive. The `file_handle` attribute will point to the actual underlying file. In this case it is the in-memory file or buffer as shown below."
   ]
  },
  {
   "cell_type": "code",
   "execution_count": null,
   "id": "50af1814-78af-4e8c-9c1b-3466f4d7663a",
   "metadata": {},
   "outputs": [],
   "source": [
    "file = WeldxFile()\n",
    "file.file_handle"
   ]
  },
  {
   "cell_type": "markdown",
   "id": "26934028-c9fb-4716-aa67-bed0c4a481ff",
   "metadata": {},
   "source": [
    "Next we assign some dictionary like data to the file, by storing it some attribute name enclosed by square brackets.\n",
    "Then we look at the representation of the file header or contents. This will depend on the execution environment.\n",
    "In JupyterLab you will see an interactive tree like structure, which can be expanded and searched.\n",
    "The root of the tree is denoted as \"root\" followed by children created by the ASDF library \"asdf_library\" and \"history\". We attached the additional child \"some_data\" with our assignment.\n",
    "\n",
    "Note, that here we are using some very common types, namely an NumPy array and a timestamp. For weldx specialized types like the coordinates system manager, (welding) measurements etc., the weldx package provides ASDF extensions to handle those types automatically during loading and saving ASDF data. You do not need to worry about them. If you try to save types, which cannot be handled by ASDF, you will trigger an error."
   ]
  },
  {
   "cell_type": "code",
   "execution_count": null,
   "id": "34754c9e-56eb-40e8-a001-5935882ce5e9",
   "metadata": {},
   "outputs": [],
   "source": [
    "file[\"some_data\"] = {\"data_set\": {\"data\": np.random.random(100),\n",
    "                                  \"time\": datetime.now()}}\n",
    "file"
   ]
  },
  {
   "cell_type": "markdown",
   "id": "78742208-4e6e-4cd5-b7b3-a62b9c59a100",
   "metadata": {},
   "source": [
    "We could also have created the same structure in one step:"
   ]
  },
  {
   "cell_type": "code",
   "execution_count": null,
   "id": "f34d1612-520f-4e17-93eb-042d3ce43c6c",
   "metadata": {},
   "outputs": [],
   "source": [
    "file = WeldxFile(tree={\"data_sets\": {\"first\": np.random.random(100),\n",
    "                                     \"time\": \"now\"}},\n",
    "                 mode=\"rw\")\n",
    "file"
   ]
  },
  {
   "cell_type": "markdown",
   "id": "fffa1e9b-84a1-460a-84a6-ad7f9017f354",
   "metadata": {},
   "source": [
    "You might have noticed, that we got a warning about the in-memory operation during showing the file in Jupyter.\n",
    "Now we have passed the additional argument mode=\"rw\", which indiciates, that we want to perform write operations just in memory,\n",
    "or alternatively to the passed physical file. So this warning went away."
   ]
  },
  {
   "cell_type": "markdown",
   "id": "ed8160dd-bd96-4172-ab94-1e695d6c6054",
   "metadata": {},
   "source": [
    "We can use all dictionary operations on the data we like, e.g. update, assign, and delete items."
   ]
  },
  {
   "cell_type": "code",
   "execution_count": null,
   "id": "3fb9cbdf-2299-451a-98d9-7c500c760811",
   "metadata": {},
   "outputs": [],
   "source": [
    "file[\"data_sets\"][\"second\"] =  {\"data\": np.random.random(100),\n",
    "                                \"time\": datetime.now()}\n",
    "\n",
    "# delete the first data set again:\n",
    "\n",
    "del file[\"data_sets\"][\"first\"]\n",
    "file"
   ]
  },
  {
   "cell_type": "markdown",
   "id": "b3fe63de-12e0-4f8d-959a-abacc1b5eac4",
   "metadata": {},
   "source": [
    "We can also iterate over all keys as usual. You can also have a look at the documentation of the builtin type `dict` for a complete overview of its features. "
   ]
  },
  {
   "cell_type": "code",
   "execution_count": null,
   "id": "f1e55048-51ec-43cd-b98f-936ce6bed498",
   "metadata": {},
   "outputs": [],
   "source": [
    "for key, value in file.items():\n",
    "    print(key, value)"
   ]
  },
  {
   "cell_type": "markdown",
   "id": "6867d13c-bc9d-46ce-9ce3-ac6dee357e64",
   "metadata": {},
   "source": [
    "In order to make your changes persistent, we are going to save the memory-backed file to disk by invoking `WeldxFile.write_to`."
   ]
  },
  {
   "cell_type": "code",
   "execution_count": null,
   "id": "1274b1cf-d1c7-4815-9db2-828f350fa9ba",
   "metadata": {},
   "outputs": [],
   "source": [
    "file.write_to(\"example.asdf\")"
   ]
  },
  {
   "cell_type": "markdown",
   "id": "b49175a9-1432-439c-9fc2-630e74497a1f",
   "metadata": {},
   "source": [
    "This newly created file can be opened up again, in read-write mode like by passing the appropriate arguments."
   ]
  },
  {
   "cell_type": "code",
   "execution_count": null,
   "id": "6d8ac34e-dcba-4fdf-a052-66e0f3446af3",
   "metadata": {},
   "outputs": [],
   "source": [
    "example = WeldxFile(\"example.asdf\", mode=\"rw\")\n",
    "example[\"updated\"] = True\n",
    "example.close()"
   ]
  },
  {
   "cell_type": "markdown",
   "id": "0c2c6e57-f5ab-4f45-8112-8e4b52a0ab54",
   "metadata": {},
   "source": [
    "Note, that we closed the file here explictly. Before closing, we wanted to write a simple item to tree. But lets see what happens, if we open the file once again."
   ]
  },
  {
   "cell_type": "code",
   "execution_count": null,
   "id": "c53b0a91-9eb6-46aa-8af2-5843e8ed2789",
   "metadata": {},
   "outputs": [],
   "source": [
    "example = WeldxFile(\"example.asdf\", mode='rw')\n",
    "example"
   ]
  },
  {
   "cell_type": "markdown",
   "id": "d07a771b-08b3-4575-add9-10f39e78c3bf",
   "metadata": {},
   "source": [
    "As you see the `updated` state has been written, because we closed the file properly. If we omit closing the file, \n",
    "our changes would be lost when the object runs out of scope or Python terminates."
   ]
  },
  {
   "cell_type": "markdown",
   "id": "85c47f46-2276-42a7-96a3-d308615be73c",
   "metadata": {},
   "source": [
    "## Handling updates within a context manager\n",
    "To ensure you will not forget to update your file after making changes, \n",
    "we are able to enclose our file-chaning operations within a context manager.\n",
    "This ensures that all operations done in this context (the `with` block) are being written to the file, once the context is left.\n",
    "Note that the underlying file is also closed after the context ends. This is useful, when you have to update lots of files, as there is a limited amount of files an operating system can deal with."
   ]
  },
  {
   "cell_type": "code",
   "execution_count": null,
   "id": "8e880897-9e1c-40c3-aa81-acc9a4988450",
   "metadata": {},
   "outputs": [],
   "source": [
    "# FIXME: this logic is broken!\n",
    "with WeldxFile(\"example.asdf\", mode='rw') as example:\n",
    "    example[\"updated\"] = True\n",
    "    # now the context ends, and the file is being saved to disk again.\n",
    "\n",
    "# If you access the file now to obtain a key, you will trigger an error.\n",
    "try:\n",
    "    print(example[\"updated\"])\n",
    "except Exception as e:\n",
    "    print(e)"
   ]
  },
  {
   "cell_type": "markdown",
   "id": "52cf37d8-7edf-4b70-8fd4-ab2a532d9bf9",
   "metadata": {},
   "source": [
    "Let us inspect the file once again, to see whether our `updated` item has been correctly written. "
   ]
  },
  {
   "cell_type": "code",
   "execution_count": null,
   "id": "b8bf17a1-2b41-4c6a-91ac-38e7a1fcef1a",
   "metadata": {},
   "outputs": [],
   "source": [
    "WeldxFile(\"example.asdf\")"
   ]
  },
  {
   "cell_type": "markdown",
   "id": "1a8745f8-0659-4bcd-950d-4480e5793545",
   "metadata": {},
   "source": [
    "In case an error got triggered (e.g. an exception has been raised), the underlying file is.  "
   ]
  },
  {
   "cell_type": "code",
   "execution_count": null,
   "id": "a557ba77-8675-4ae7-a039-239adc288406",
   "metadata": {},
   "outputs": [],
   "source": [
    "with WeldxFile(\"example.asdf\", mode=\"rw\") as file:\n",
    "    file[\"updated\"] = False\n",
    "    raise Exception(\"oh no\")"
   ]
  },
  {
   "cell_type": "code",
   "execution_count": null,
   "id": "c09ccae6-a72c-47b9-9b60-b03802213e0e",
   "metadata": {},
   "outputs": [],
   "source": [
    "WeldxFile(\"example.asdf\")"
   ]
  },
  {
   "cell_type": "markdown",
   "id": "a381e584-6f2e-4f6c-932f-4a870c30893b",
   "metadata": {},
   "source": [
    "## Handeling of custom schemas\n",
    "An important aspect of WeldX or ASDF files is, that you can validate them to comply with a defined schema. A schema defines required and optional attributes a tree structure has to provide to pass the schema validation. Further the types of these attributes can be defined, e.g. the data attribute should be a NumPy array, or a timestamp should be of type `pandas.Timestamp`.\n",
    "There are several schemas provided by WeldX, which can be used by passing them to the `schema` argument. It is expected to be a path-like type, so a string (`str`) or `pathlib.Path` is accepted. The provided utility function `get_schema_path` returns the path to named schema. So its output can directly be used in WeldxFile(schema=...)"
   ]
  },
  {
   "cell_type": "code",
   "execution_count": null,
   "id": "f3dddff9-3bae-449f-b4a3-b99e27a96749",
   "metadata": {},
   "outputs": [],
   "source": [
    "from weldx.asdf.util import get_schema_path"
   ]
  },
  {
   "cell_type": "code",
   "execution_count": null,
   "id": "3a12cc62-44a3-4ef0-a24a-ffa16cd8f526",
   "metadata": {},
   "outputs": [],
   "source": [
    "schema = get_schema_path(\"single_pass_weld*\")\n",
    "schema"
   ]
  },
  {
   "cell_type": "markdown",
   "id": "122fec1b-2cdc-4c28-b13d-0afce54acf2b",
   "metadata": {},
   "source": [
    "This schema defines a complete experimental setup with measurement data, e.g requires the following attributes to be defined in our tree:\n",
    "  - workpiece\n",
    "  - TCP\n",
    "  - welding_current\n",
    "  - welding_voltage\n",
    "  - measurements\n",
    "  - equipment\n",
    "\n",
    "We use a testing function to provide this data now, and validate it against the schema."
   ]
  },
  {
   "cell_type": "code",
   "execution_count": null,
   "id": "20ceffcb-b905-4f9a-89d9-59e78b9ff687",
   "metadata": {
    "tags": []
   },
   "outputs": [],
   "source": [
    "from weldx.asdf.cli.welding_schema import single_pass_weld_example\n",
    "_, single_pass_weld_data = single_pass_weld_example(out_file=None)\n",
    "display(single_pass_weld_data)"
   ]
  },
  {
   "cell_type": "markdown",
   "id": "698eb017-8faa-4d76-b85e-d5892d77ec70",
   "metadata": {
    "tags": [
     "output_scroll"
    ]
   },
   "source": [
    "That is a lot of data, containing complex data structures and objects describing the whole experiment including measurement data.\n",
    "We can now create new `WeldxFile` and validate the data against the schema."
   ]
  },
  {
   "cell_type": "code",
   "execution_count": null,
   "id": "fcb1764e-4a0b-4555-a841-8a59cef7a965",
   "metadata": {},
   "outputs": [],
   "source": [
    "WeldxFile(tree=single_pass_weld_data, custom_schema=schema, mode='rw')"
   ]
  },
  {
   "cell_type": "markdown",
   "id": "15732b61-38df-4e81-819b-44a149ebe644",
   "metadata": {},
   "source": [
    "But what would happen, if we forget an import attribute? Lets have a closer look..."
   ]
  },
  {
   "cell_type": "code",
   "execution_count": null,
   "id": "e2bab15c-caea-4984-a49a-a40476eccb68",
   "metadata": {},
   "outputs": [],
   "source": [
    "# simulate we forgot something important, so we delete the workpiece:\n",
    "del single_pass_weld_data[\"workpiece\"]\n",
    "\n",
    "# now create the file again, and see what happens:\n",
    "try:\n",
    "    WeldxFile(tree=single_pass_weld_data, custom_schema=schema, mode='rw')\n",
    "except Exception as e:\n",
    "    display(e)"
   ]
  },
  {
   "cell_type": "markdown",
   "id": "c22c8b07-d7e4-4323-94d9-8b4967ffea2d",
   "metadata": {},
   "source": [
    "We receive a ValidationError from the ASDF library, which tells us exactly what the missing information is. The same will happen, if we accidentially pass the wrong type."
   ]
  },
  {
   "cell_type": "code",
   "execution_count": null,
   "id": "7ba531b5-78a2-472e-a718-9a53141d29d7",
   "metadata": {},
   "outputs": [],
   "source": [
    "# simulate a wrong type by changing it to a NumPy array.\n",
    "single_pass_weld_data[\"welding_current\"] = np.zeros(10)\n",
    "\n",
    "# now create the file again, and see what happens:\n",
    "try:\n",
    "    WeldxFile(tree=single_pass_weld_data, custom_schema=schema, mode='rw')\n",
    "except Exception as e:\n",
    "    display(e)"
   ]
  },
  {
   "cell_type": "markdown",
   "id": "f56612af-1158-4e3c-aeea-6fc2ab149acb",
   "metadata": {},
   "source": [
    "Here we see, that a \"signal\" tag is expected, but a \"asdf/core/ndarray-1.0.0\" was received. \n",
    "The ASDF library assignes tags to certain types to handle their storage in the file format. \n",
    "As shown, the \"signal\" tag is contained in \"weldx/measurement\" container, provided by \"weldx.bam.de\". The tags and schemas"
   ]
  },
  {
   "cell_type": "code",
   "execution_count": null,
   "id": "1baa4271-5c19-49b3-8f88-b42b13792acf",
   "metadata": {},
   "outputs": [],
   "source": []
  }
 ],
 "metadata": {
  "kernelspec": {
   "display_name": "weldx",
   "language": "python",
   "name": "weldx"
  },
  "language_info": {
   "codemirror_mode": {
    "name": "ipython",
    "version": 3
   },
   "file_extension": ".py",
   "mimetype": "text/x-python",
   "name": "python",
   "nbconvert_exporter": "python",
   "pygments_lexer": "ipython3",
   "version": "3.9.2"
  }
 },
 "nbformat": 4,
 "nbformat_minor": 5
}
