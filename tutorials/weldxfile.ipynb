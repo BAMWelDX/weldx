{
 "cells": [
  {
   "cell_type": "markdown",
   "metadata": {},
   "source": [
    "# How to handle WelDX files\n",
    "In this notebook we will demonstrate how to create, read, and update ASDF files created by WelDX. All the needed funcationality is contained in a single class named `WeldxFile`. We are going to show different modes of operation, like working with physical files on your harddrive, and in-memory files, both read-only and read-write mode.\n",
    "\n",
    "## Imports\n",
    "The WeldxFile class is being imported from the top-level of the weldx package."
   ]
  },
  {
   "cell_type": "code",
   "execution_count": null,
   "metadata": {},
   "outputs": [],
   "source": [
    "from weldx import WeldxFile\n",
    "import numpy as np\n",
    "from datetime import datetime"
   ]
  },
  {
   "cell_type": "markdown",
   "metadata": {},
   "source": [
    "## Basic operations\n",
    "Now we create our first file, by invoking the `WeldxFile` constructor without any additional arguments. By doing so, we create an in-memory file. This means, that your changes will be temporary until you write it to an actual file on your harddrive. The `file_handle` attribute will point to the actual underlying file. In this case it is the in-memory file or buffer as shown below."
   ]
  },
  {
   "cell_type": "code",
   "execution_count": null,
   "metadata": {},
   "outputs": [],
   "source": [
    "file = WeldxFile()\n",
    "file.file_handle"
   ]
  },
  {
   "cell_type": "markdown",
   "metadata": {},
   "source": [
    "Next we assign some dictionary like data to the file, by storing it some attribute name enclosed by square brackets.\n",
    "Then we look at the representation of the file header or contents. This will depend on the execution environment.\n",
    "In JupyterLab you will see an interactive tree like structure, which can be expanded and searched.\n",
    "The root of the tree is denoted as \"root\" followed by children created by the ASDF library \"asdf_library\" and \"history\". We attached the additional child \"some_data\" with our assignment."
   ]
  },
  {
   "cell_type": "code",
   "execution_count": null,
   "metadata": {},
   "outputs": [],
   "source": [
    "data = {\"data_sets\": {\"first\": np.random.random(100),\n",
    "                      \"time\": datetime.now()}}"
   ]
  },
  {
   "cell_type": "code",
   "execution_count": null,
   "metadata": {},
   "outputs": [],
   "source": [
    "file[\"some_data\"] = data\n",
    "file"
   ]
  },
  {
   "cell_type": "markdown",
   "metadata": {},
   "source": [
    "Note, that here we are using some very common types, namely an NumPy array and a timestamp. For weldx specialized types like the coordinates system manager, (welding) measurements etc., the weldx package provides ASDF extensions to handle those types automatically during loading and saving ASDF data. You do not need to worry about them. If you try to save types, which cannot be handled by ASDF, you will trigger an error."
   ]
  },
  {
   "cell_type": "markdown",
   "metadata": {},
   "source": [
    "We could also have created the same structure in one step:"
   ]
  },
  {
   "cell_type": "code",
   "execution_count": null,
   "metadata": {},
   "outputs": [],
   "source": [
    "file = WeldxFile(tree=data,\n",
    "                 mode=\"rw\")\n",
    "file"
   ]
  },
  {
   "cell_type": "markdown",
   "metadata": {},
   "source": [
    "You might have noticed, that we got a warning about the in-memory operation during showing the file in Jupyter.\n",
    "Now we have passed the additional argument mode=\"rw\", which indiciates, that we want to perform write operations just in memory,\n",
    "or alternatively to the passed physical file. So this warning went away."
   ]
  },
  {
   "cell_type": "markdown",
   "metadata": {},
   "source": [
    "We can use all dictionary operations on the data we like, e.g. update, assign, and delete items."
   ]
  },
  {
   "cell_type": "code",
   "execution_count": null,
   "metadata": {},
   "outputs": [],
   "source": [
    "file[\"data_sets\"][\"second\"] =  {\"data\": np.random.random(100),\n",
    "                                \"time\": datetime.now()}\n",
    "\n",
    "# delete the first data set again:\n",
    "del file[\"data_sets\"][\"first\"]\n",
    "file"
   ]
  },
  {
   "cell_type": "markdown",
   "metadata": {},
   "source": [
    "We can also iterate over all keys as usual. You can also have a look at the documentation of the builtin type `dict` for a complete overview of its features. "
   ]
  },
  {
   "cell_type": "code",
   "execution_count": null,
   "metadata": {},
   "outputs": [],
   "source": [
    "for key, value in file.items():\n",
    "    print(key, value)"
   ]
  },
  {
   "cell_type": "markdown",
   "metadata": {},
   "source": [
    "### Access to data by attributes\n",
    "The access by key names can be tedious, when deeply nested dictionaries are involved. We provide a handling via attributes like this"
   ]
  },
  {
   "cell_type": "code",
   "execution_count": null,
   "metadata": {},
   "outputs": [],
   "source": [
    "accessible_by_attribute = file.as_attr()\n",
    "accessible_by_attribute.data_sets.second"
   ]
  },
  {
   "cell_type": "markdown",
   "metadata": {},
   "source": [
    "## Writing files to disk\n",
    "In order to make your changes persistent, we are going to save the memory-backed file to disk by invoking `WeldxFile.write_to`."
   ]
  },
  {
   "cell_type": "code",
   "execution_count": null,
   "metadata": {},
   "outputs": [],
   "source": [
    "file.write_to(\"example.asdf\")"
   ]
  },
  {
   "cell_type": "markdown",
   "metadata": {},
   "source": [
    "This newly created file can be opened up again, in read-write mode like by passing the appropriate arguments."
   ]
  },
  {
   "cell_type": "code",
   "execution_count": null,
   "metadata": {},
   "outputs": [],
   "source": [
    "example = WeldxFile(\"example.asdf\", mode=\"rw\")\n",
    "example[\"updated\"] = True\n",
    "example.close()"
   ]
  },
  {
   "cell_type": "markdown",
   "metadata": {},
   "source": [
    "Note, that we closed the file here explictly. Before closing, we wanted to write a simple item to tree. But lets see what happens, if we open the file once again."
   ]
  },
  {
   "cell_type": "code",
   "execution_count": null,
   "metadata": {},
   "outputs": [],
   "source": [
    "example = WeldxFile(\"example.asdf\", mode='rw')\n",
    "display(example)\n",
    "example.close()"
   ]
  },
  {
   "cell_type": "markdown",
   "metadata": {},
   "source": [
    "As you see the `updated` state has been written, because we closed the file properly. If we omit closing the file, \n",
    "our changes would be lost when the object runs out of scope or Python terminates."
   ]
  },
  {
   "cell_type": "markdown",
   "metadata": {},
   "source": [
    "## Handling updates within a context manager\n",
    "To ensure you will not forget to update your file after making changes, \n",
    "we are able to enclose our file-changing operations within a context manager.\n",
    "This ensures that all operations done in this context (the `with` block) are being written to the file, once the context is left.\n",
    "Note that the underlying file is also closed after the context ends. This is useful, when you have to update lots of files, as there is a limited amount of file handles an operating system can deal with."
   ]
  },
  {
   "cell_type": "code",
   "execution_count": null,
   "metadata": {},
   "outputs": [],
   "source": [
    "with WeldxFile(\"example.asdf\", mode='rw') as example:\n",
    "    example[\"updated\"] = True\n",
    "    fh = example.file_handle\n",
    "    # now the context ends, and the file is being saved to disk again.\n",
    "\n",
    "# lets check the file handle has been closed, after the context ended.\n",
    "assert fh.closed"
   ]
  },
  {
   "cell_type": "markdown",
   "metadata": {},
   "source": [
    "Let us inspect the file once again, to see whether our `updated` item has been correctly written. "
   ]
  },
  {
   "cell_type": "code",
   "execution_count": null,
   "metadata": {},
   "outputs": [],
   "source": [
    "WeldxFile(\"example.asdf\")"
   ]
  },
  {
   "cell_type": "markdown",
   "metadata": {},
   "source": [
    "In case an error got triggered (e.g. an exception has been raised) inside the context, the underlying file is still updated. You could prevent this behavior, by passing `sync=False` during file construction.  "
   ]
  },
  {
   "cell_type": "code",
   "execution_count": null,
   "metadata": {},
   "outputs": [],
   "source": [
    "try:\n",
    "    with WeldxFile(\"example.asdf\", mode=\"rw\") as file:\n",
    "        file[\"updated\"] = False\n",
    "        raise Exception(\"oh no\")\n",
    "except Exception as e:\n",
    "    print(\"expected error:\", e)"
   ]
  },
  {
   "cell_type": "code",
   "execution_count": null,
   "metadata": {},
   "outputs": [],
   "source": [
    "WeldxFile(\"example.asdf\")"
   ]
  },
  {
   "cell_type": "markdown",
   "metadata": {},
   "source": [
    "## Keeping a log of changes when manipulating a file\n",
    "It can become quite handy to know what has been done to file in the past. Weldx files provide a history log, in which arbitrary strings can be stored with time stamps and used software. We quickly run you through the process of adding history entries to your file."
   ]
  },
  {
   "cell_type": "code",
   "execution_count": null,
   "metadata": {},
   "outputs": [],
   "source": [
    "filename_hist = \"example_history.asdf\"\n",
    "with WeldxFile(filename_hist, mode=\"rw\") as file:\n",
    "    file[\"some\"] = \"changes\"\n",
    "    file.add_history_entry(\"added some changes\")"
   ]
  },
  {
   "cell_type": "code",
   "execution_count": null,
   "metadata": {},
   "outputs": [],
   "source": [
    "WeldxFile(filename_hist)[\"history\"]"
   ]
  },
  {
   "cell_type": "markdown",
   "metadata": {},
   "source": [
    "When you want to describe a custom software,\n",
    "which is lets say a library or tool used to generate/modify the data in the file and we passed it into the creation of our WeldxFile."
   ]
  },
  {
   "cell_type": "code",
   "execution_count": null,
   "metadata": {},
   "outputs": [],
   "source": [
    "software = dict(name=\"my_tool\", version=\"1.0\", homepage=\"https://my_tool.org\", author=\"the crowd\")\n",
    "with WeldxFile(filename_hist, mode=\"rw\", software_history_entry=software) as file:\n",
    "    file[\"some\"] = \"changes\"\n",
    "    file.add_history_entry(\"added more changes\")"
   ]
  },
  {
   "cell_type": "markdown",
   "metadata": {},
   "source": [
    "Lets now inspect how we wrote history."
   ]
  },
  {
   "cell_type": "code",
   "execution_count": null,
   "metadata": {},
   "outputs": [],
   "source": [
    "WeldxFile(filename_hist)[\"history\"][\"entries\"][-1]"
   ]
  },
  {
   "cell_type": "markdown",
   "metadata": {},
   "source": [
    "The entries key is a list of all log entries, where new entries are appended to. We have proper time stamps indicating when the change happened, the actual log entry, and optionally a custom software used to make the change."
   ]
  },
  {
   "cell_type": "markdown",
   "metadata": {},
   "source": [
    "## Handeling of custom schemas\n",
    "An important aspect of WelDX or ASDF files is, that you can validate them to comply with a defined schema. A schema defines required and optional attributes a tree structure has to provide to pass the schema validation. Further the types of these attributes can be defined, e.g. the data attribute should be a NumPy array, or a timestamp should be of type `pandas.Timestamp`.\n",
    "There are several schemas provided by WelDX, which can be used by passing them to the `custom_schema` argument. It is expected to be a path-like type, so a string (`str`) or `pathlib.Path` is accepted. The provided utility function `get_schema_path` returns the path to named schema. So its output can directly be used in WeldxFile(schema=...)"
   ]
  },
  {
   "cell_type": "code",
   "execution_count": null,
   "metadata": {},
   "outputs": [],
   "source": [
    "from weldx.asdf.util import get_schema_path"
   ]
  },
  {
   "cell_type": "code",
   "execution_count": null,
   "metadata": {},
   "outputs": [],
   "source": [
    "schema = get_schema_path(\"single_pass_weld-1.0.0\")\n",
    "schema"
   ]
  },
  {
   "cell_type": "markdown",
   "metadata": {},
   "source": [
    "This schema defines a complete experimental setup with measurement data, e.g requires the following attributes to be defined in our tree:\n",
    "\n",
    "  - workpiece\n",
    "  - TCP\n",
    "  - welding_current\n",
    "  - welding_voltage\n",
    "  - measurements\n",
    "  - equipment\n",
    "\n",
    "We use a testing function to provide this data now, and validate it against the schema by passing the `custom_schema` during WeldxFile creation.\n",
    "Here we just have a look at the process parameters sub-dictionary."
   ]
  },
  {
   "cell_type": "code",
   "execution_count": null,
   "metadata": {
    "tags": []
   },
   "outputs": [],
   "source": [
    "from weldx.asdf.cli.welding_schema import single_pass_weld_example\n",
    "_, single_pass_weld_data = single_pass_weld_example(out_file=None)\n",
    "display(single_pass_weld_data[\"process\"])"
   ]
  },
  {
   "cell_type": "markdown",
   "metadata": {
    "tags": [
     "output_scroll"
    ]
   },
   "source": [
    "That is a lot of data, containing complex data structures and objects describing the whole experiment including measurement data.\n",
    "We can now create new `WeldxFile` and validate the data against the schema."
   ]
  },
  {
   "cell_type": "code",
   "execution_count": null,
   "metadata": {},
   "outputs": [],
   "source": [
    "WeldxFile(tree=single_pass_weld_data, custom_schema=schema, mode='rw')"
   ]
  },
  {
   "cell_type": "markdown",
   "metadata": {},
   "source": [
    "But what would happen, if we forget an import attribute? Lets have a closer look..."
   ]
  },
  {
   "cell_type": "code",
   "execution_count": null,
   "metadata": {},
   "outputs": [],
   "source": [
    "# simulate we forgot something important, so we delete the workpiece:\n",
    "del single_pass_weld_data[\"workpiece\"]\n",
    "\n",
    "# now create the file again, and see what happens:\n",
    "try:\n",
    "    WeldxFile(tree=single_pass_weld_data, custom_schema=schema, mode='rw')\n",
    "except Exception as e:\n",
    "    display(e)"
   ]
  },
  {
   "cell_type": "markdown",
   "metadata": {},
   "source": [
    "We receive a ValidationError from the ASDF library, which tells us exactly what the missing information is. The same will happen, if we accidentially pass the wrong type."
   ]
  },
  {
   "cell_type": "code",
   "execution_count": null,
   "metadata": {},
   "outputs": [],
   "source": [
    "# simulate a wrong type by changing it to a NumPy array.\n",
    "single_pass_weld_data[\"welding_current\"] = np.zeros(10)\n",
    "\n",
    "# now create the file again, and see what happens:\n",
    "try:\n",
    "    WeldxFile(tree=single_pass_weld_data, custom_schema=schema, mode='rw')\n",
    "except Exception as e:\n",
    "    display(e)"
   ]
  },
  {
   "cell_type": "markdown",
   "metadata": {},
   "source": [
    "Here we see, that a `signal` tag is expected, but a `asdf/core/ndarray-1.0.0` was received. \n",
    "The ASDF library assignes tags to certain types to handle their storage in the file format. \n",
    "As shown, the `signal` tag is contained in `weldx/measurement` container, provided by `weldx.bam.de`. The tags and schemas also provide a version number, so future updates in the software become managable.\n",
    "\n",
    "Custom schemas can be used to define own protocols or standards describing your data."
   ]
  },
  {
   "cell_type": "markdown",
   "metadata": {},
   "source": [
    "## Summary\n",
    "In this tutorial we have encountered how to easily open, inspect, manipulate, and update ASDF files created by WelDX. We've learned that these files can store a variety of different data types and structures.\n",
    "\n",
    "Discussed features:\n",
    "\n",
    " * Opening in read/write mode `WeldxFile(mode=\"rw\")`.\n",
    " * Creating files in memory (passing no file name to `WeldxFile()` constructor).\n",
    " * Writing to disk (`WeldxFile.write_to`).\n",
    " * Keeping log of changes (`WeldxFile.history`, `WeldxFile.add_history_entry`).\n",
    " * Validation against a schema `WeldxFile(custom_schema=\"/path/my_schema.yaml\")`"
   ]
  }
 ],
 "metadata": {
  "kernelspec": {
   "display_name": "weldx",
   "language": "python",
   "name": "weldx"
  },
  "language_info": {
   "codemirror_mode": {
    "name": "ipython",
    "version": 3
   },
   "file_extension": ".py",
   "mimetype": "text/x-python",
   "name": "python",
   "nbconvert_exporter": "python",
   "pygments_lexer": "ipython3",
   "version": "3.9.4"
  }
 },
 "nbformat": 4,
 "nbformat_minor": 5
}
