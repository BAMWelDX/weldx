{
 "cells": [
  {
   "cell_type": "markdown",
   "id": "8752a312-e514-49bf-b6cf-ade3b21cf052",
   "metadata": {},
   "source": [
    "# How to handle WeldX files\n",
    "In this notebook we will demonstrate how to create, read, and update ASDF files created by WeldX. All the needed funcationality is contained in a single class named `WeldxFile`. We are going to show different modes of operation, like working with physical files on your harddrive, and in-memory files, both read-only and read-write mode."
   ]
  },
  {
   "cell_type": "code",
   "execution_count": null,
   "id": "39ec4959-bb49-410c-a2f3-2219c2b320ad",
   "metadata": {},
   "outputs": [],
   "source": [
    "from weldx import WeldxFile\n",
    "import numpy as np\n",
    "import datetime"
   ]
  },
  {
   "cell_type": "markdown",
   "id": "48bf8b07-24c6-4ac9-9c78-858c8fb40ee2",
   "metadata": {},
   "source": [
    "Now we create our first file, by invoking the `WeldxFile` constructor without any additional arguments. By doing so, we create an in-memory file. This means, that your changes will be temporary until you write it to an actual file on your harddrive. The `file_handle` attribute will point to the actual underlying file. In this case it is the in-memory file or buffer as shown below."
   ]
  },
  {
   "cell_type": "code",
   "execution_count": null,
   "id": "50af1814-78af-4e8c-9c1b-3466f4d7663a",
   "metadata": {},
   "outputs": [],
   "source": [
    "file = WeldxFile()\n",
    "file.file_handle"
   ]
  },
  {
   "cell_type": "markdown",
   "id": "26934028-c9fb-4716-aa67-bed0c4a481ff",
   "metadata": {},
   "source": [
    "Next we assign some dictionary like data to the file, by storing it some attribute name enclosed by square brackets.\n",
    "Then we look at the representation of the file header or contents. This will depend on the execution environment.\n",
    "In JupyterLab you will see an interactive tree like structure, which can be expanded and searched."
   ]
  },
  {
   "cell_type": "code",
   "execution_count": null,
   "id": "34754c9e-56eb-40e8-a001-5935882ce5e9",
   "metadata": {},
   "outputs": [],
   "source": [
    "file[\"some_data\"] = {\"data_set\": {\"data\": np.random.random(100), \"time\": \"now\"}}\n",
    "file"
   ]
  },
  {
   "cell_type": "markdown",
   "id": "ed8160dd-bd96-4172-ab94-1e695d6c6054",
   "metadata": {},
   "source": [
    "We can use all dictionary operations on the data we like, e.g. update, assign, and delete items."
   ]
  },
  {
   "cell_type": "code",
   "execution_count": null,
   "id": "3fb9cbdf-2299-451a-98d9-7c500c760811",
   "metadata": {},
   "outputs": [],
   "source": [
    "file[\"some_data\"][\"another_data_set\"] =  {\"data\": np.random.random(100), \"time\": \"now\"}\n",
    "\n",
    "# delete the first data set again:\n",
    "\n",
    "del file[\"some_data\"][\"data_set\"]\n",
    "file"
   ]
  },
  {
   "cell_type": "markdown",
   "id": "6867d13c-bc9d-46ce-9ce3-ac6dee357e64",
   "metadata": {},
   "source": [
    "We can now safe the memory-backed file to disk by invoking `WeldxFile.write_to`."
   ]
  },
  {
   "cell_type": "code",
   "execution_count": null,
   "id": "1274b1cf-d1c7-4815-9db2-828f350fa9ba",
   "metadata": {},
   "outputs": [],
   "source": [
    "file.write_to(\"example.asdf\")"
   ]
  },
  {
   "cell_type": "markdown",
   "id": "b49175a9-1432-439c-9fc2-630e74497a1f",
   "metadata": {},
   "source": [
    "This newly created file can be opened up again, in read-write mode like by passing the appropriate arguments."
   ]
  },
  {
   "cell_type": "code",
   "execution_count": null,
   "id": "6d8ac34e-dcba-4fdf-a052-66e0f3446af3",
   "metadata": {},
   "outputs": [],
   "source": [
    "example = WeldxFile(\"example.asdf\", mode=\"rw\")"
   ]
  },
  {
   "cell_type": "markdown",
   "id": "a3670320-5a6b-480f-b885-4d1e82c97abb",
   "metadata": {},
   "source": [
    "TODO: context manager, special keywords to write, open etc."
   ]
  },
  {
   "cell_type": "code",
   "execution_count": null,
   "id": "8d4462c5-c224-4213-b2b2-18dfc40e47b7",
   "metadata": {},
   "outputs": [],
   "source": []
  }
 ],
 "metadata": {
  "kernelspec": {
   "display_name": "PyCharm (weldx)",
   "language": "python",
   "name": "pycharm-f2b82b3"
  },
  "language_info": {
   "codemirror_mode": {
    "name": "ipython",
    "version": 3
   },
   "file_extension": ".py",
   "mimetype": "text/x-python",
   "name": "python",
   "nbconvert_exporter": "python",
   "pygments_lexer": "ipython3",
   "version": "3.9.2"
  }
 },
 "nbformat": 4,
 "nbformat_minor": 5
}
