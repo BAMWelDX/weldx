{
 "cells": [
  {
   "cell_type": "markdown",
   "id": "2f32eb2a",
   "metadata": {},
   "source": [
    "# Introduction / Opening WelDX Files\n",
    "\n",
    "## Intruduction\n",
    "\n",
    "This tutorial is the first one of a whole series that has the purpose to teach you how to work with WelDX files using the `weldx` Python package.\n",
    "In each tutorial, we will focus on a small feature set and learn step by step how you can find, extract and process data stored in a WelDX file.\n",
    "In this tutorial series, we will only focus on reading from already existing files.\n",
    "How to write and modify a WelDX file will be covered in a follow up-series.\n",
    "\n",
    "Note that we will only cover the most common features and not all possible tools the `weldx` package provides.\n",
    "For more in-depth information, read the dedicated API tutorials or have a look at the [API documentation](https://weldx.readthedocs.io/en/latest/api.html) page.\n",
    "\n",
    "All tutorials are written as jupyter notebooks so that you can always run and test the code on your local machine.\n",
    "You can find them in the `tutorials` subdirectory of [our GitHub repository](https://github.com/BAMWelDX/weldx).\n",
    "To learn how to install the `weldx` package and all required dependencies to run the tutorials, visit the [installation guide] (https://weldx.readthedocs.io/en/latest/install.html) page of our [online documentation](https://weldx.readthedocs.io/en/latest/index.html).\n",
    "\n",
    "All tutorials are also contained on the [\"Getting Started\"](https://weldx.readthedocs.io/en/latest/tutorials.html) page of the [online documentation](https://weldx.readthedocs.io/en/latest/index.html) so that you can read a nicely rendered version online.\n",
    "In case you don't have the `weldx` package intstalled yet but wan't to test the tutorial code, you can click on the binder link button that can be found at the top of each tutorial in the online version of the documentation.\n",
    "This will start a virtual machine whith everything set up correctly that you can control through your browser.\n",
    "\n",
    "## Opening and navigating through WelDX Files\n",
    "\n",
    "### Opening a WelDX File\n",
    "\n",
    "The first lesson we will learn is how to open a WelDX file and to get an overview of its content.\n",
    "Opening a file using the `weldx` package is rather simple.\n",
    "First we import the `WeldxFile` class from weldx:"
   ]
  },
  {
   "cell_type": "code",
   "execution_count": 32,
   "id": "8981ab00",
   "metadata": {},
   "outputs": [],
   "source": [
    "from weldx import WeldxFile"
   ]
  },
  {
   "cell_type": "markdown",
   "id": "02aa7cf6",
   "metadata": {},
   "source": [
    "WelDX files usually have the extension `.weldx` or `.wx`, but any other is also possible as long as the content is valid.\n",
    "For the purpose of this tutorial series, we will deal with a single file called `single_pass_weld.wx`.\n",
    "To open it, simply create a new instance of the `WeldxFile` class and pass the file path to it:"
   ]
  },
  {
   "cell_type": "code",
   "execution_count": 2,
   "id": "a13bc877",
   "metadata": {},
   "outputs": [
    {
     "name": "stderr",
     "output_type": "stream",
     "text": [
      "c:\\users\\vhirtham\\pycharmprojects\\bam\\libo\\libo\\__init__.py:29: UserWarning: Using local libo package files without version information.\n",
      "Consider running 'python setup.py --version' or 'pip install -e .' in the libo root repository\n",
      "  warnings.warn(\n",
      "c:\\users\\vhirtham\\pycharmprojects\\bam\\libo\\libo\\__init__.py:29: UserWarning: Using local libo package files without version information.\n",
      "Consider running 'python setup.py --version' or 'pip install -e .' in the libo root repository\n",
      "  warnings.warn(\n"
     ]
    }
   ],
   "source": [
    "wxfile = WeldxFile(\"single_pass_weld.weldx\")"
   ]
  },
  {
   "cell_type": "markdown",
   "id": "cb8ab612-47da-4aa1-93af-a19be5250e60",
   "metadata": {},
   "source": [
    "### Inspecting the File content with pure Python\n",
    "\n",
    "A simple way to get visualize the file content is to use Pythons `print` method on the created `WeldxFile` instance.\n",
    "This will print the human readable part of the file that is stored in [YAML format](https://yaml.org/).\n",
    "However, this gets confusing quickly with increasing file sizes, especially if you are not familiar with the ASDF file format on which WelDX Files are based. \n",
    "The file we just opened here is no exception.\n",
    "Therefore we won't print its content this way, but you can try it out yourself if you are intrerested.\n",
    "Just type `print(wxfile)`.\n",
    "\n",
    "We can get a quick overview of the top level items of the file structue by itrating over its data and printing its keys like this:"
   ]
  },
  {
   "cell_type": "code",
   "execution_count": 19,
   "id": "7523eab6",
   "metadata": {},
   "outputs": [
    {
     "name": "stdout",
     "output_type": "stream",
     "text": [
      "asdf_library\n",
      "history\n",
      "TCP\n",
      "coordinate_systems\n",
      "equipment\n",
      "measurements\n",
      "process\n",
      "reference_timestamp\n",
      "welding_current\n",
      "welding_voltage\n",
      "workpiece\n",
      "wx_user\n"
     ]
    }
   ],
   "source": [
    "for key, value in wxfile.items():\n",
    "    print(key)"
   ]
  },
  {
   "cell_type": "markdown",
   "id": "6af43f66-6a3c-43c9-b90a-d15f33ca5ba2",
   "metadata": {},
   "source": [
    "Now we can pick each individual item by using the direct access operator of the file with the corresponding item name.\n",
    "For example, if we like to get the coordinate systems, we can simply run:"
   ]
  },
  {
   "cell_type": "code",
   "execution_count": 27,
   "id": "a4add42d-e057-4a62-9c04-8d61f891e247",
   "metadata": {},
   "outputs": [
    {
     "name": "stdout",
     "output_type": "stream",
     "text": [
      "<CoordinateSystemManager>\n",
      "name:\n",
      "\tRobot Trace\n",
      "reference time:\n",
      "\t 2021-03-17 11:06:42.334400\n",
      "coordinate systems:\n",
      "\t ['user_frame', 'TCP', 'flange', 'LLT_1', 'XIRIS_1', 'workpiece', 'TCP design', 'T1', 'T2']\n",
      "data:\n",
      "\t ['scan_0', 'scan_1']\n",
      "sub systems:\n",
      "\t ['TOOL config', 'TCP trace design']\n",
      ")\n"
     ]
    }
   ],
   "source": [
    "csm = wxfile[\"coordinate_systems\"]\n",
    "print(csm)"
   ]
  },
  {
   "cell_type": "markdown",
   "id": "ce41b149-d9a8-4eba-b4fb-681f6a537d64",
   "metadata": {},
   "source": [
    "As you can see, the object we got is of type `CoordinateSystemManager`.\n",
    "We will discuss in more detail in the upcoming tutorials, what you can do with the individual objects that you may find in a `WeldxFile`.\n",
    "For now, we will only focus on inspecting the file.\n",
    "\n",
    "### Inspecting the file content in a Jupyter session\n",
    "\n",
    "If you are running a jupyter notebook, you can use the `show_asdf_header` method of `WeldxFile` to get a nicely rendered overview of the file content. \n",
    "The output might vary if you are running the classic notebook environment or a Jupyter-Lab environment.\n",
    "In the latter case, you will get an interactive, clickable tree view to navigate through the file content:\n",
    "\n",
    "> HINT: Remember that you can start a jupyter-lab version of this notebook in our online documentation by clicking at the binder link at the start of this tutorial"
   ]
  },
  {
   "cell_type": "code",
   "execution_count": 33,
   "id": "d80c6bdc-f3d1-43eb-89f3-beefcd55ad7d",
   "metadata": {},
   "outputs": [
    {
     "data": {
      "application/json": {
       "TCP": {
        "coordinates": {
         "data": {
          "data": [],
          "datatype": "float64",
          "shape": [
           2,
           3
          ]
         },
         "dimensions": [
          "time",
          "c"
         ],
         "dtype": "<f8",
         "name": "coordinates"
        },
        "reference_time": "2021-03-17T11:06:42.334400",
        "time": {
         "end": "P0DT0H0M41.333333333S",
         "max": "P0DT0H0M41.333333333S",
         "min": "P0DT0H0M0S",
         "start": "P0DT0H0M0S",
         "values": {
          "data": [],
          "datatype": "int64",
          "shape": [
           2
          ]
         }
        }
       },
       "asdf_library": {
        "author": "The ASDF Developers",
        "homepage": "http://github.com/asdf-format/asdf",
        "name": "asdf",
        "version": "2.8.1"
       },
       "coordinate_systems": {
        "graph": {
         "root_node": {
          "attributes": {
           "data": {}
          },
          "edges": [
           {
            "attributes": {
             "defined": true,
             "transformation": {
              "coordinates": {
               "data": {
                "data": [],
                "datatype": "float64",
                "shape": [
                 3
                ]
               },
               "dimensions": [
                "c"
               ],
               "dtype": "<f8",
               "name": "coordinates"
              }
             }
            },
            "direction": "fwd",
            "target_node": {
             "attributes": {
              "data": {
               "scan_0": {
                "coordinates": {
                 "data": [],
                 "datatype": "float32",
                 "shape": [
                  277977,
                  3
                 ]
                },
                "triangles": {
                 "data": [],
                 "datatype": "uint32",
                 "shape": [
                  553800,
                  3
                 ]
                }
               },
               "scan_1": {
                "coordinates": {
                 "data": [],
                 "datatype": "float32",
                 "shape": [
                  249368,
                  3
                 ]
                },
                "triangles": {
                 "data": [],
                 "datatype": "uint32",
                 "shape": [
                  496716,
                  3
                 ]
                }
               }
              }
             },
             "edges": [
              {
               "attributes": {
                "defined": true,
                "transformation": {
                 "coordinates": {
                  "data": {
                   "data": [],
                   "datatype": "float64",
                   "shape": [
                    2,
                    3
                   ]
                  },
                  "dimensions": [
                   "time",
                   "c"
                  ],
                  "dtype": "<f8",
                  "name": "coordinates"
                 },
                 "time": {
                  "end": "P0DT0H0M41.333333333S",
                  "max": "P0DT0H0M41.333333333S",
                  "min": "P0DT0H0M0S",
                  "start": "P0DT0H0M0S",
                  "values": {
                   "data": [],
                   "datatype": "int64",
                   "shape": [
                    2
                   ]
                  }
                 }
                }
               },
               "direction": "bwd",
               "target_node": {
                "attributes": {
                 "data": {}
                },
                "name": "TCP design"
               }
              },
              {
               "attributes": {
                "defined": true,
                "transformation": {
                 "coordinates": {
                  "data": {
                   "data": [],
                   "datatype": "float64",
                   "shape": [
                    3
                   ]
                  },
                  "dimensions": [
                   "c"
                  ],
                  "dtype": "<f8",
                  "name": "coordinates"
                 }
                }
               },
               "direction": "bwd",
               "target_node": {
                "attributes": {
                 "data": {}
                },
                "edges": [
                 {
                  "attributes": {
                   "defined": true,
                   "transformation": {
                    "coordinates": {
                     "data": {
                      "data": [],
                      "datatype": "float64",
                      "shape": [
                       3
                      ]
                     },
                     "dimensions": [
                      "c"
                     ],
                     "dtype": "<f8",
                     "name": "coordinates"
                    }
                   }
                  },
                  "direction": "bwd",
                  "target_node": {
                   "attributes": {
                    "data": {}
                   },
                   "name": "T2"
                  }
                 }
                ],
                "name": "T1"
               }
              }
             ],
             "name": "workpiece"
            }
           },
           {
            "attributes": {
             "defined": true,
             "transformation": {
              "coordinates": {
               "data": {
                "data": [],
                "datatype": "float64",
                "shape": [
                 5176,
                 3
                ]
               },
               "dimensions": [
                "time",
                "c"
               ],
               "dtype": "<f8",
               "name": "coordinates"
              },
              "reference_time": "2021-03-17T11:06:41.849400",
              "time": {
               "end": "P0DT0H0M41.4S",
               "freq": "8L",
               "max": "P0DT0H0M41.4S",
               "min": "P0DT0H0M0S",
               "start": "P0DT0H0M0S"
              }
             }
            },
            "direction": "bwd",
            "target_node": {
             "attributes": {
              "data": {}
             },
             "edges": [
              {
               "attributes": {
                "defined": true,
                "transformation": {
                 "coordinates": {
                  "data": {
                   "data": [],
                   "datatype": "float64",
                   "shape": [
                    3
                   ]
                  },
                  "dimensions": [
                   "c"
                  ],
                  "dtype": "<f8",
                  "name": "coordinates"
                 },
                 "orientations": {
                  "data": {
                   "data": [],
                   "datatype": "float64",
                   "shape": [
                    3,
                    3
                   ]
                  },
                  "dimensions": [
                   "c",
                   "v"
                  ],
                  "dtype": "<f8",
                  "name": "orientations"
                 }
                }
               },
               "direction": "fwd",
               "target_node": {
                "attributes": {
                 "data": {}
                },
                "edges": [
                 {
                  "attributes": {
                   "defined": true,
                   "transformation": {
                    "coordinates": {
                     "data": {
                      "data": [],
                      "datatype": "float64",
                      "shape": [
                       3
                      ]
                     },
                     "dimensions": [
                      "c"
                     ],
                     "dtype": "<f8",
                     "name": "coordinates"
                    },
                    "orientations": {
                     "data": {
                      "data": [],
                      "datatype": "float64",
                      "shape": [
                       3,
                       3
                      ]
                     },
                     "dimensions": [
                      "c",
                      "v"
                     ],
                     "dtype": "<f8",
                     "name": "orientations"
                    }
                   }
                  },
                  "direction": "bwd",
                  "target_node": {
                   "attributes": {
                    "data": {}
                   },
                   "name": "LLT_1"
                  }
                 },
                 {
                  "attributes": {
                   "defined": true,
                   "transformation": {
                    "coordinates": {
                     "data": {
                      "data": [],
                      "datatype": "float64",
                      "shape": [
                       3
                      ]
                     },
                     "dimensions": [
                      "c"
                     ],
                     "dtype": "<f8",
                     "name": "coordinates"
                    },
                    "orientations": {
                     "data": {
                      "data": [],
                      "datatype": "float64",
                      "shape": [
                       3,
                       3
                      ]
                     },
                     "dimensions": [
                      "c",
                      "v"
                     ],
                     "dtype": "<f8",
                     "name": "orientations"
                    }
                   }
                  },
                  "direction": "bwd",
                  "target_node": {
                   "attributes": {
                    "data": {}
                   },
                   "name": "XIRIS_1"
                  }
                 }
                ],
                "name": "flange"
               }
              }
             ],
             "name": "TCP"
            }
           }
          ],
          "name": "user_frame"
         }
        },
        "name": "Robot Trace",
        "reference_time": "2021-03-17T11:06:42.334400",
        "subsystems": [
         {
          "common_node": "TCP",
          "data": [],
          "members": [
           "LLT_1",
           "flange",
           "TCP",
           "XIRIS_1"
          ],
          "name": "TOOL config",
          "root_node": "flange",
          "subsystems": []
         },
         {
          "common_node": "user_frame",
          "data": [],
          "members": [
           "T2",
           "T1",
           "user_frame",
           "TCP design",
           "workpiece"
          ],
          "name": "TCP trace design",
          "root_node": "workpiece",
          "subsystems": []
         }
        ]
       },
       "equipment": [
        {
         "name": "HKS P1000-S3",
         "sources": [
          {
           "error": {
            "deviation": {
             "units": "%",
             "value": 0.1
            }
           },
           "name": "Current Sensor",
           "output_signal": {
            "signal_type": "analog",
            "units": "V"
           }
          },
          {
           "error": {
            "deviation": {
             "units": "%",
             "value": 0.1
            }
           },
           "name": "Voltage Sensor",
           "output_signal": {
            "signal_type": "analog",
            "units": "V"
           }
          }
         ],
         "transformations": []
        },
        {
         "name": "Beckhoff ELM3002-0000",
         "sources": [],
         "transformations": [
          {
           "error": {
            "deviation": {
             "units": "%",
             "value": 0.01
            }
           },
           "func": {
            "expression": "a*x + b",
            "parameters": {
             "a": {
              "units": "1 / V",
              "value": 3276.8
             },
             "b": {
              "units": "",
              "value": 0
             }
            }
           },
           "name": "AD current conversion",
           "type_transformation": "AD"
          },
          {
           "error": {
            "deviation": {
             "units": "%",
             "value": 0.01
            }
           },
           "func": {
            "expression": "a*x + b",
            "parameters": {
             "a": {
              "units": "1 / V",
              "value": 3276.8
             },
             "b": {
              "units": "",
              "value": 0
             }
            }
           },
           "name": "AD voltage conversion",
           "type_transformation": "AD"
          }
         ]
        },
        {
         "name": "Beckhoff EL3314-0010",
         "sources": [],
         "transformations": [
          {
           "error": {
            "deviation": {
             "units": "µV",
             "value": 0.25
            }
           },
           "func": {
            "expression": "a*x",
            "parameters": {
             "a": {
              "units": "1 / V",
              "value": 1
             }
            }
           },
           "name": "AD temperature conversion T1",
           "type_transformation": "AD"
          },
          {
           "error": {
            "deviation": {
             "units": "µV",
             "value": 0.25
            }
           },
           "func": {
            "expression": "a*x",
            "parameters": {
             "a": {
              "units": "1 / V",
              "value": 1
             }
            }
           },
           "name": "AD temperature conversion T2",
           "type_transformation": "AD"
          }
         ]
        }
       ],
       "history": {
        "extensions": [
         {
          "extension_class": "asdf.extension.BuiltinExtension",
          "software": {
           "name": "asdf",
           "version": "2.8.1"
          }
         },
         {
          "extension_class": "weldx.asdf.extension.WeldxExtension",
          "extension_uri": "asdf://weldx.bam.de/weldx/extensions/weldx-0.1.0",
          "software": {
           "name": "weldx",
           "version": "0.4.2.dev34+gf6e3c49.d20210820"
          }
         },
         {
          "extension_class": "weldx.asdf.extension.WeldxAsdfExtension",
          "software": {
           "name": "weldx",
           "version": "0.4.0"
          }
         }
        ]
       },
       "measurements": [
        {
         "data": [
          {
           "interpolation": "step",
           "shape": [
            414091
           ],
           "time": {
            "end": "P0DT0H0M40.921S",
            "max": "P0DT0H0M40.921S",
            "min": "P-1DT23H59M59.512S",
            "start": "P-1DT23H59M59.512S",
            "values": {
             "data": [],
             "datatype": "int64",
             "shape": [
              414091
             ]
            }
           },
           "units": "A",
           "values": {
            "data": [],
            "datatype": "float64",
            "shape": [
             414091
            ]
           }
          }
         ],
         "measurement_chain": {
          "data_source": {
           "error": {
            "deviation": {
             "units": "%",
             "value": 0.1
            }
           },
           "name": "Current Sensor",
           "output_signal": {
            "signal_type": "analog",
            "units": "V"
           }
          },
          "graph": {
           "root_node": {
            "attributes": {
             "signal": {
              "signal_type": "analog",
              "units": "V"
             }
            },
            "edges": [
             {
              "attributes": {
               "equipment": {
                "name": "Beckhoff ELM3002-0000",
                "sources": [],
                "transformations": [
                 {
                  "error": {
                   "deviation": {
                    "units": "%",
                    "value": 0.01
                   }
                  },
                  "func": {
                   "expression": "a*x + b",
                   "parameters": {
                    "a": {
                     "units": "1 / V",
                     "value": 3276.8
                    },
                    "b": {
                     "units": "",
                     "value": 0
                    }
                   }
                  },
                  "name": "AD current conversion",
                  "type_transformation": "AD"
                 },
                 {
                  "error": {
                   "deviation": {
                    "units": "%",
                    "value": 0.01
                   }
                  },
                  "func": {
                   "expression": "a*x + b",
                   "parameters": {
                    "a": {
                     "units": "1 / V",
                     "value": 3276.8
                    },
                    "b": {
                     "units": "",
                     "value": 0
                    }
                   }
                  },
                  "name": "AD voltage conversion",
                  "type_transformation": "AD"
                 }
                ]
               },
               "transformation": {
                "error": {
                 "deviation": {
                  "units": "%",
                  "value": 0.01
                 }
                },
                "func": {
                 "expression": "a*x + b",
                 "parameters": {
                  "a": {
                   "units": "1 / V",
                   "value": 3276.8
                  },
                  "b": {
                   "units": "",
                   "value": 0
                  }
                 }
                },
                "name": "AD current conversion",
                "type_transformation": "AD"
               }
              },
              "direction": "fwd",
              "target_node": {
               "attributes": {
                "signal": {
                 "signal_type": "digital",
                 "units": ""
                }
               },
               "edges": [
                {
                 "attributes": {
                  "transformation": {
                   "error": {
                    "deviation": 0
                   },
                   "func": {
                    "expression": "a*x + b",
                    "parameters": {
                     "a": {
                      "units": "A",
                      "value": 0.030517578125
                     },
                     "b": {
                      "units": "A",
                      "value": 0
                     }
                    }
                   },
                   "meta": {
                    "name": "Beckhoff TwinCAT ScopeView",
                    "version": "3.4.3143"
                   },
                   "name": "current calibration"
                  }
                 },
                 "direction": "fwd",
                 "target_node": {
                  "attributes": {
                   "signal": {
                    "data": {
                     "interpolation": "step",
                     "shape": [
                      414091
                     ],
                     "time": {
                      "end": "P0DT0H0M40.921S",
                      "max": "P0DT0H0M40.921S",
                      "min": "P-1DT23H59M59.512S",
                      "start": "P-1DT23H59M59.512S",
                      "values": {
                       "data": [],
                       "datatype": "int64",
                       "shape": [
                        414091
                       ]
                      }
                     },
                     "units": "A",
                     "values": {
                      "data": [],
                      "datatype": "float64",
                      "shape": [
                       414091
                      ]
                     }
                    },
                    "signal_type": "digital",
                    "units": "A"
                   }
                  },
                  "name": "current calibration"
                 }
                }
               ],
               "name": "AD current conversion"
              }
             }
            ],
            "name": "Current Sensor"
           }
          },
          "name": "welding current measurement chain",
          "source_equipment": {
           "name": "HKS P1000-S3",
           "sources": [
            {
             "error": {
              "deviation": {
               "units": "%",
               "value": 0.1
              }
             },
             "name": "Current Sensor",
             "output_signal": {
              "signal_type": "analog",
              "units": "V"
             }
            },
            {
             "error": {
              "deviation": {
               "units": "%",
               "value": 0.1
              }
             },
             "name": "Voltage Sensor",
             "output_signal": {
              "signal_type": "analog",
              "units": "V"
             }
            }
           ],
           "transformations": []
          }
         },
         "name": "welding current"
        },
        {
         "data": [
          {
           "interpolation": "step",
           "shape": [
            414091
           ],
           "time": {
            "end": "P0DT0H0M40.921S",
            "max": "P0DT0H0M40.921S",
            "min": "P-1DT23H59M59.512S",
            "start": "P-1DT23H59M59.512S",
            "values": {
             "data": [],
             "datatype": "int64",
             "shape": [
              414091
             ]
            }
           },
           "units": "V",
           "values": {
            "data": [],
            "datatype": "float64",
            "shape": [
             414091
            ]
           }
          }
         ],
         "measurement_chain": {
          "data_source": {
           "error": {
            "deviation": {
             "units": "%",
             "value": 0.1
            }
           },
           "name": "Voltage Sensor",
           "output_signal": {
            "signal_type": "analog",
            "units": "V"
           }
          },
          "graph": {
           "root_node": {
            "attributes": {
             "signal": {
              "signal_type": "analog",
              "units": "V"
             }
            },
            "edges": [
             {
              "attributes": {
               "equipment": {
                "name": "Beckhoff ELM3002-0000",
                "sources": [],
                "transformations": [
                 {
                  "error": {
                   "deviation": {
                    "units": "%",
                    "value": 0.01
                   }
                  },
                  "func": {
                   "expression": "a*x + b",
                   "parameters": {
                    "a": {
                     "units": "1 / V",
                     "value": 3276.8
                    },
                    "b": {
                     "units": "",
                     "value": 0
                    }
                   }
                  },
                  "name": "AD current conversion",
                  "type_transformation": "AD"
                 },
                 {
                  "error": {
                   "deviation": {
                    "units": "%",
                    "value": 0.01
                   }
                  },
                  "func": {
                   "expression": "a*x + b",
                   "parameters": {
                    "a": {
                     "units": "1 / V",
                     "value": 3276.8
                    },
                    "b": {
                     "units": "",
                     "value": 0
                    }
                   }
                  },
                  "name": "AD voltage conversion",
                  "type_transformation": "AD"
                 }
                ]
               },
               "transformation": {
                "error": {
                 "deviation": {
                  "units": "%",
                  "value": 0.01
                 }
                },
                "func": {
                 "expression": "a*x + b",
                 "parameters": {
                  "a": {
                   "units": "1 / V",
                   "value": 3276.8
                  },
                  "b": {
                   "units": "",
                   "value": 0
                  }
                 }
                },
                "name": "AD voltage conversion",
                "type_transformation": "AD"
               }
              },
              "direction": "fwd",
              "target_node": {
               "attributes": {
                "signal": {
                 "signal_type": "digital",
                 "units": ""
                }
               },
               "edges": [
                {
                 "attributes": {
                  "transformation": {
                   "error": {
                    "deviation": 0
                   },
                   "func": {
                    "expression": "a*x + b",
                    "parameters": {
                     "a": {
                      "units": "V",
                      "value": 0.0030517578125
                     },
                     "b": {
                      "units": "V",
                      "value": 0
                     }
                    }
                   },
                   "meta": {
                    "name": "Beckhoff TwinCAT ScopeView",
                    "version": "3.4.3143"
                   },
                   "name": "voltage calibration"
                  }
                 },
                 "direction": "fwd",
                 "target_node": {
                  "attributes": {
                   "signal": {
                    "data": {
                     "interpolation": "step",
                     "shape": [
                      414091
                     ],
                     "time": {
                      "end": "P0DT0H0M40.921S",
                      "max": "P0DT0H0M40.921S",
                      "min": "P-1DT23H59M59.512S",
                      "start": "P-1DT23H59M59.512S",
                      "values": {
                       "data": [],
                       "datatype": "int64",
                       "shape": [
                        414091
                       ]
                      }
                     },
                     "units": "V",
                     "values": {
                      "data": [],
                      "datatype": "float64",
                      "shape": [
                       414091
                      ]
                     }
                    },
                    "signal_type": "digital",
                    "units": "V"
                   }
                  },
                  "name": "voltage calibration"
                 }
                }
               ],
               "name": "AD voltage conversion"
              }
             }
            ],
            "name": "Voltage Sensor"
           }
          },
          "name": "welding voltage measurement chain",
          "source_equipment": {
           "name": "HKS P1000-S3",
           "sources": [
            {
             "error": {
              "deviation": {
               "units": "%",
               "value": 0.1
              }
             },
             "name": "Current Sensor",
             "output_signal": {
              "signal_type": "analog",
              "units": "V"
             }
            },
            {
             "error": {
              "deviation": {
               "units": "%",
               "value": 0.1
              }
             },
             "name": "Voltage Sensor",
             "output_signal": {
              "signal_type": "analog",
              "units": "V"
             }
            }
           ],
           "transformations": []
          }
         },
         "name": "welding voltage"
        },
        {
         "data": [
          {
           "interpolation": "step",
           "shape": [
            459092
           ],
           "time": {
            "end": "P0DT0H6M36.888S",
            "freq": "L",
            "max": "P0DT0H6M36.888S",
            "min": "P-1DT23H58M57.797S",
            "start": "P-1DT23H58M57.797S"
           },
           "units": "°C",
           "values": {
            "data": [],
            "datatype": "float64",
            "shape": [
             459092
            ]
           }
          }
         ],
         "measurement_chain": {
          "data_source": {
           "error": {
            "deviation": {
             "units": "µV",
             "value": 0.25
            }
           },
           "name": "Thermocouple T1",
           "output_signal": {
            "signal_type": "analog",
            "units": "V"
           }
          },
          "graph": {
           "root_node": {
            "attributes": {
             "signal": {
              "signal_type": "analog",
              "units": "V"
             }
            },
            "edges": [
             {
              "attributes": {
               "equipment": {
                "name": "Beckhoff EL3314-0010",
                "sources": [],
                "transformations": [
                 {
                  "error": {
                   "deviation": {
                    "units": "µV",
                    "value": 0.25
                   }
                  },
                  "func": {
                   "expression": "a*x",
                   "parameters": {
                    "a": {
                     "units": "1 / V",
                     "value": 1
                    }
                   }
                  },
                  "name": "AD temperature conversion T1",
                  "type_transformation": "AD"
                 },
                 {
                  "error": {
                   "deviation": {
                    "units": "µV",
                    "value": 0.25
                   }
                  },
                  "func": {
                   "expression": "a*x",
                   "parameters": {
                    "a": {
                     "units": "1 / V",
                     "value": 1
                    }
                   }
                  },
                  "name": "AD temperature conversion T2",
                  "type_transformation": "AD"
                 }
                ]
               },
               "transformation": {
                "error": {
                 "deviation": {
                  "units": "µV",
                  "value": 0.25
                 }
                },
                "func": {
                 "expression": "a*x",
                 "parameters": {
                  "a": {
                   "units": "1 / V",
                   "value": 1
                  }
                 }
                },
                "name": "AD temperature conversion T1",
                "type_transformation": "AD"
               }
              },
              "direction": "fwd",
              "target_node": {
               "attributes": {
                "signal": {
                 "signal_type": "digital",
                 "units": ""
                }
               },
               "edges": [
                {
                 "attributes": {
                  "transformation": {
                   "error": {
                    "deviation": 0
                   },
                   "func": {
                    "expression": "a*x + b",
                    "parameters": {
                     "a": {
                      "units": "Δ°C",
                      "value": 0.1
                     },
                     "b": {
                      "units": "°C",
                      "value": 0
                     }
                    }
                   },
                   "meta": {
                    "name": "Beckhoff TwinCAT ScopeView",
                    "version": "3.4.3143"
                   },
                   "name": "temperature conversion"
                  }
                 },
                 "direction": "fwd",
                 "target_node": {
                  "attributes": {
                   "signal": {
                    "data": {
                     "interpolation": "step",
                     "shape": [
                      459092
                     ],
                     "time": {
                      "end": "P0DT0H6M36.888S",
                      "freq": "L",
                      "max": "P0DT0H6M36.888S",
                      "min": "P-1DT23H58M57.797S",
                      "start": "P-1DT23H58M57.797S"
                     },
                     "units": "°C",
                     "values": {
                      "data": [],
                      "datatype": "float64",
                      "shape": [
                       459092
                      ]
                     }
                    },
                    "signal_type": "digital",
                    "units": "°C"
                   }
                  },
                  "name": "temperature conversion"
                 }
                }
               ],
               "name": "AD temperature conversion T1"
              }
             }
            ],
            "name": "Thermocouple T1"
           }
          },
          "name": "temperature measurement chain T1",
          "source_equipment": {
           "name": "Thermocouple T1",
           "sources": [
            {
             "error": {
              "deviation": {
               "units": "µV",
               "value": 0.25
              }
             },
             "name": "Thermocouple T1",
             "output_signal": {
              "signal_type": "analog",
              "units": "V"
             }
            }
           ],
           "transformations": []
          }
         },
         "name": "temperature T1"
        },
        {
         "data": [
          {
           "interpolation": "step",
           "shape": [
            459092
           ],
           "time": {
            "end": "P0DT0H6M36.888S",
            "freq": "L",
            "max": "P0DT0H6M36.888S",
            "min": "P-1DT23H58M57.797S",
            "start": "P-1DT23H58M57.797S"
           },
           "units": "°C",
           "values": {
            "data": [],
            "datatype": "float64",
            "shape": [
             459092
            ]
           }
          }
         ],
         "measurement_chain": {
          "data_source": {
           "error": {
            "deviation": {
             "units": "µV",
             "value": 0.25
            }
           },
           "name": "Thermocouple T1",
           "output_signal": {
            "signal_type": "analog",
            "units": "V"
           }
          },
          "graph": {
           "root_node": {
            "attributes": {
             "signal": {
              "signal_type": "analog",
              "units": "V"
             }
            },
            "edges": [
             {
              "attributes": {
               "equipment": {
                "name": "Beckhoff EL3314-0010",
                "sources": [],
                "transformations": [
                 {
                  "error": {
                   "deviation": {
                    "units": "µV",
                    "value": 0.25
                   }
                  },
                  "func": {
                   "expression": "a*x",
                   "parameters": {
                    "a": {
                     "units": "1 / V",
                     "value": 1
                    }
                   }
                  },
                  "name": "AD temperature conversion T1",
                  "type_transformation": "AD"
                 },
                 {
                  "error": {
                   "deviation": {
                    "units": "µV",
                    "value": 0.25
                   }
                  },
                  "func": {
                   "expression": "a*x",
                   "parameters": {
                    "a": {
                     "units": "1 / V",
                     "value": 1
                    }
                   }
                  },
                  "name": "AD temperature conversion T2",
                  "type_transformation": "AD"
                 }
                ]
               },
               "transformation": {
                "error": {
                 "deviation": {
                  "units": "µV",
                  "value": 0.25
                 }
                },
                "func": {
                 "expression": "a*x",
                 "parameters": {
                  "a": {
                   "units": "1 / V",
                   "value": 1
                  }
                 }
                },
                "name": "AD temperature conversion T2",
                "type_transformation": "AD"
               }
              },
              "direction": "fwd",
              "target_node": {
               "attributes": {
                "signal": {
                 "signal_type": "digital",
                 "units": ""
                }
               },
               "edges": [
                {
                 "attributes": {
                  "transformation": {
                   "error": {
                    "deviation": 0
                   },
                   "func": {
                    "expression": "a*x + b",
                    "parameters": {
                     "a": {
                      "units": "Δ°C",
                      "value": 0.1
                     },
                     "b": {
                      "units": "°C",
                      "value": 0
                     }
                    }
                   },
                   "meta": {
                    "name": "Beckhoff TwinCAT ScopeView",
                    "version": "3.4.3143"
                   },
                   "name": "temperature conversion"
                  }
                 },
                 "direction": "fwd",
                 "target_node": {
                  "attributes": {
                   "signal": {
                    "data": {
                     "interpolation": "step",
                     "shape": [
                      459092
                     ],
                     "time": {
                      "end": "P0DT0H6M36.888S",
                      "freq": "L",
                      "max": "P0DT0H6M36.888S",
                      "min": "P-1DT23H58M57.797S",
                      "start": "P-1DT23H58M57.797S"
                     },
                     "units": "°C",
                     "values": {
                      "data": [],
                      "datatype": "float64",
                      "shape": [
                       459092
                      ]
                     }
                    },
                    "signal_type": "digital",
                    "units": "°C"
                   }
                  },
                  "name": "temperature conversion"
                 }
                }
               ],
               "name": "AD temperature conversion T2"
              }
             }
            ],
            "name": "Thermocouple T1"
           }
          },
          "name": "temperature measurement chain T2",
          "source_equipment": {
           "name": "Thermocouple T1",
           "sources": [
            {
             "error": {
              "deviation": {
               "units": "µV",
               "value": 0.25
              }
             },
             "name": "Thermocouple T1",
             "output_signal": {
              "signal_type": "analog",
              "units": "V"
             }
            }
           ],
           "transformations": []
          }
         },
         "name": "temperature T2"
        }
       ],
       "process": {
        "shielding_gas": {
         "torch_shielding_gas": {
          "common_name": "corgon 18",
          "gas_component": [
           {
            "gas_chemical_name": "argon",
            "gas_percentage": {
             "units": "%",
             "value": 82
            }
           },
           {
            "gas_chemical_name": "carbon dioxide",
            "gas_percentage": {
             "units": "%",
             "value": 18
            }
           }
          ]
         },
         "torch_shielding_gas_flowrate": {
          "units": "l / min",
          "value": 20
         },
         "use_torch_shielding_gas": true
        },
        "weld_speed": {
         "units": "cm / min",
         "value": 45
        },
        "welding_process": {
         "base_process": "pulse",
         "manufacturer": "Fronius",
         "parameters": {
          "base_voltage": {
           "units": "V",
           "value": 25
          },
          "pulse_current": {
           "units": "A",
           "value": 480
          },
          "pulse_duration": {
           "units": "ms",
           "value": 4
          },
          "pulse_frequency": {
           "units": "Hz",
           "value": 200
          },
          "wire_feedrate": {
           "units": "m / min",
           "value": 12
          }
         },
         "power_source": "TPS 500i",
         "tag": "GMAW"
        },
        "welding_wire": {
         "class": "G 42 2 C/M G4Si1",
         "diameter": {
          "units": "mm",
          "value": 1.2
         },
         "wx_user": {
          "charge id": "00349764",
          "manufacturer": "WDI"
         }
        }
       },
       "reference_timestamp": "2021-03-17T11:06:42.334400",
       "welding_current": {
        "data": {
         "interpolation": "step",
         "shape": [
          414091
         ],
         "time": {
          "end": "P0DT0H0M40.921S",
          "max": "P0DT0H0M40.921S",
          "min": "P-1DT23H59M59.512S",
          "start": "P-1DT23H59M59.512S",
          "values": {
           "data": [],
           "datatype": "int64",
           "shape": [
            414091
           ]
          }
         },
         "units": "A",
         "values": {
          "data": [],
          "datatype": "float64",
          "shape": [
           414091
          ]
         }
        },
        "signal_type": "digital",
        "units": "A"
       },
       "welding_voltage": {
        "data": {
         "interpolation": "step",
         "shape": [
          414091
         ],
         "time": {
          "end": "P0DT0H0M40.921S",
          "max": "P0DT0H0M40.921S",
          "min": "P-1DT23H59M59.512S",
          "start": "P-1DT23H59M59.512S",
          "values": {
           "data": [],
           "datatype": "int64",
           "shape": [
            414091
           ]
          }
         },
         "units": "V",
         "values": {
          "data": [],
          "datatype": "float64",
          "shape": [
           414091
          ]
         }
        },
        "signal_type": "digital",
        "units": "V"
       },
       "workpiece": {
        "base_metal": {
         "common_name": "S355J2+N",
         "standard": "DIN EN 10225-2:2011"
        },
        "geometry": {
         "groove_shape": {
          "alpha": {
           "units": "deg",
           "value": 45
          },
          "b": {
           "units": "mm",
           "value": 1
          },
          "c": {
           "units": "mm",
           "value": 1
          },
          "code_number": [
           "1.3",
           "1.5"
          ],
          "t": {
           "units": "mm",
           "value": 8
          }
         },
         "seam_length": {
          "units": "mm",
          "value": 350
         }
        }
       },
       "wx_user": {
        "WID": 417,
        "operator": "C. Schippereit",
        "project": "WelDX presentation"
       }
      },
      "text/plain": [
       "<IPython.core.display.JSON object>"
      ]
     },
     "execution_count": 33,
     "metadata": {
      "application/json": {
       "expanded": false,
       "root": "/"
      }
     },
     "output_type": "execute_result"
    }
   ],
   "source": [
    "wxfile.show_asdf_header()"
   ]
  },
  {
   "cell_type": "markdown",
   "id": "131c03ad-1557-48be-9804-700583345a19",
   "metadata": {},
   "source": [
    "## Conclusion\n",
    "\n",
    "This concludes the first tutorial about opening and navigating through WelDX Files.\n",
    "You should now be able to read any given WelDX file and to inspect its structure.\n",
    "In the next tutorials, we will learn how to access the actual data and what we can do with it."
   ]
  }
 ],
 "metadata": {
  "kernelspec": {
   "display_name": "weldx",
   "language": "python",
   "name": "weldx"
  },
  "language_info": {
   "codemirror_mode": {
    "name": "ipython",
    "version": 3
   },
   "file_extension": ".py",
   "mimetype": "text/x-python",
   "name": "python",
   "nbconvert_exporter": "python",
   "pygments_lexer": "ipython3",
   "version": "3.8.11"
  }
 },
 "nbformat": 4,
 "nbformat_minor": 5
}
