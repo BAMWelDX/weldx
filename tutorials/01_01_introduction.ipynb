{
 "cells": [
  {
   "cell_type": "markdown",
   "metadata": {},
   "source": [
    "# Introduction / Opening WelDX Files\n",
    "\n",
    "## Intruduction\n",
    "\n",
    "This tutorial is the first one of a whole series that has the purpose to teach you how to work with WelDX files using the `weldx` Python package.\n",
    "In each tutorial, we will focus on a small feature set and learn step by step how you can find, extract and process data stored in a WelDX file.\n",
    "In this tutorial series, we will only focus on reading from already existing files.\n",
    "How to write and modify a WelDX file will be covered in a follow up-series.\n",
    "\n",
    "All tutorials are written as jupyter notebooks so that you can always run and test the code on your local machine.\n",
    "You can find them in the `tutorials` subdirectory of [our GitHub repository](https://github.com/BAMWelDX/weldx).\n",
    "To learn how to install the `weldx` package and all required dependencies to run the tutorials, visit the [installation guide] (https://weldx.readthedocs.io/en/latest/install.html) page of our [online documentation](https://weldx.readthedocs.io/en/latest/index.html).\n",
    "\n",
    "All tutorials are also contained on the [\"Getting Started\"](https://weldx.readthedocs.io/en/latest/tutorials.html) page of the [online documentation](https://weldx.readthedocs.io/en/latest/index.html) so that you can read a nicely rendered version online.\n",
    "In case you don't have the `weldx` package intstalled yet but wan't to test the tutorial code, you can click on the binder link button that can be found at the top of each tutorial in the online version of the documentation.\n",
    "This will start a virtual machine whith everything set up correctly that you can control through your browser.\n",
    "\n",
    "## Opening WelDX Files\n",
    "\n",
    "The first lesson we will learn is how to open a WelDX file and to get an overview of its content.\n",
    "Opening a file using the `weldx` package is rather simple.\n",
    "First we import the `WeldxFile` class from weldx:"
   ]
  },
  {
   "cell_type": "code",
   "execution_count": null,
   "metadata": {},
   "outputs": [],
   "source": [
    "from weldx import WeldxFile"
   ]
  },
  {
   "cell_type": "markdown",
   "metadata": {},
   "source": [
    "WelDX files usually have the extension `.weldx` or `.wx`, but any other is also possible as long as the content is valid.\n",
    "For the purpose of this tutorial series, we will deal with a single file called `single_pass_weld.wx`.\n",
    "To open it, simply create a new instance of the `WeldxFile` class and pass the file path to it:"
   ]
  },
  {
   "cell_type": "code",
   "execution_count": null,
   "metadata": {},
   "outputs": [],
   "source": [
    "wxfile = WeldxFile(\"single_pass_weld.weldx\")"
   ]
  },
  {
   "cell_type": "code",
   "execution_count": null,
   "metadata": {},
   "outputs": [],
   "source": [
    "wxfile"
   ]
  }
 ],
 "metadata": {
  "kernelspec": {
   "display_name": "weldx",
   "language": "python",
   "name": "weldx"
  },
  "language_info": {
   "codemirror_mode": {
    "name": "ipython",
    "version": 3
   },
   "file_extension": ".py",
   "mimetype": "text/x-python",
   "name": "python",
   "nbconvert_exporter": "python",
   "pygments_lexer": "ipython3",
   "version": "3.8.11"
  }
 },
 "nbformat": 4,
 "nbformat_minor": 5
}
