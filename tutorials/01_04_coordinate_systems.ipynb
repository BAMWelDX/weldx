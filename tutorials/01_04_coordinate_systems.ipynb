{
 "cells": [
  {
   "cell_type": "markdown",
   "metadata": {},
   "source": [
    "# Coordinate Systems\n",
    "\n",
    "## Overview \n",
    "**This tutorial covers:**\n",
    "\n",
    "- The relationsship of different coordinate systems towards each other and how they are handled by WelDX\n",
    "\n",
    "**Requirements:**\n",
    "\n",
    "Opening and navigating through WelDX files\n",
    " TODO: link tutorial, once it is merged"
   ]
  },
  {
   "cell_type": "markdown",
   "metadata": {},
   "source": [
    "## Dependency graph\n",
    "\n",
    "All spatial data like specimen geometries or the trajectory of a welding torch is defined in a coordinate system that serves as anchor point.\n",
    "But this isn't necessarily always the same coordinate system.\n",
    "In fact, it is often more convinient to use different coordinate systems for individual data sets.\n",
    "This raises the problem that we need to know how the different systems are oriented towards each other.\n",
    "WelDX ensures this by a special tree like structure called the `CoordinateSystemManager` (we will use the abbrevation CSM from here on) that need to be part of almost every WelDX file.\n",
    "Let's find it in our example file and extract it to see what we can do with it:"
   ]
  },
  {
   "cell_type": "code",
   "execution_count": null,
   "metadata": {},
   "outputs": [],
   "source": [
    "from weldx import WeldxFile\n",
    "wxfile = WeldxFile(\"single_pass_weld.wx\")"
   ]
  },
  {
   "cell_type": "code",
   "execution_count": null,
   "metadata": {},
   "outputs": [],
   "source": [
    "wxfile.info()"
   ]
  },
  {
   "cell_type": "markdown",
   "metadata": {},
   "source": [
    "Examining the `info` output, we find that the object we are looking for is stored under the key `\"coordinate_systems\"`."
   ]
  },
  {
   "cell_type": "code",
   "execution_count": null,
   "metadata": {},
   "outputs": [],
   "source": [
    "csm = wxfile[\"coordinate_systems\"]"
   ]
  },
  {
   "cell_type": "markdown",
   "metadata": {},
   "source": [
    "As previously mentioned, the CSM is based on a tree structure.\n",
    "Every element added to it needs to define the transformation between itself and its parent node.\n",
    "This ensures in combination with the tree structure that there is always a transformation path between all contained coordinate systems.\n",
    "We can get a nice overview of all coordinate systems and their relationship towards each other by calling the `plot_graph` method:"
   ]
  },
  {
   "cell_type": "code",
   "execution_count": null,
   "metadata": {},
   "outputs": [],
   "source": [
    "csm.plot_graph()"
   ]
  },
  {
   "cell_type": "markdown",
   "metadata": {},
   "source": [
    "> HINT: In a jupyter session it is sufficient to just type the variable name at the end of a cell (here `csm`). \n",
    "  This will also plot the graph\n",
    "\n",
    "The plot shows us multiple things.\n",
    "The most important information are the coordinate system names.\n",
    "Arrows indicate that there is a transformation defined between two coordinate systems.\n",
    "The direction of the arrows has no practical relevance for using the CSM.\n",
    "It just specifies the transformation direction that was originally provided by the creator of the file.\n",
    "Becuase we can always calculate the inverse transformation, it can be considered as pure information.\n",
    "More important is the color of the arrows.\n",
    "Black arrows indicate that the transformation remains constant during the experiment. \n",
    "For example, the coordinate system of a thermal sensor (`T1`) that is attached to a fixed position on the specimen will not change its relative position towards the specimen coordinate system (`workpiece`).\n",
    "Therefore, the transformation remains constant.\n",
    "Yellow arrows represent time dependent transformations.\n",
    "A good for example for this is the torch in a welding application (`TCP`).\n",
    "During an experiment, it moves in relation to the workpiece."
   ]
  },
  {
   "cell_type": "markdown",
   "metadata": {},
   "source": [
    "## 3d plot and time interpolation\n",
    "\n",
    "The graph plot is nice to get a quick overview of the defined coordinate systems and how they depend on each other, but it does't provide us any information on how they are arranged in 3d space.\n",
    "For this purpose, the CSM also has a `plot` method.\n",
    "But before we use this method we have to take a small detour and talk about how time dependencies are treated by the CSM.\n",
    "\n",
    "The number of data points for the torch trajectory (TCP) is relatively high because we are dealing with real measurement data here that was recorded with a high frequency.\n",
    "When using the default rendering backend (matplotlib) each time dependent data point is rendered individually.\n",
    "With huge amount of data, this takes a rather long time to compute and will possibly clutter the image with data points so that is hard to recognize anything.\n",
    "The solution to both problems is to resample the time dependent data of the CSM.\n",
    "\n",
    "We do this in three steps.\n",
    "First we get the `time_union` of the CSM:"
   ]
  },
  {
   "cell_type": "code",
   "execution_count": null,
   "metadata": {},
   "outputs": [],
   "source": [
    "time_union = csm.time_union()"
   ]
  },
  {
   "cell_type": "markdown",
   "metadata": {},
   "source": [
    "The `time_union` method collects every time value of all the time dependent coordinate systems of the CSM and merges them into a `Time` object.\n",
    "`Time` is a simple class that handles all time related operations.\n",
    "One of it's methods is called `resample`.\n",
    "With this method we can create a new `Time` object with a specified number of data points that still has the same time boundaries as the original one.\n",
    "So let's say we want to plot our time dependen data with 10 time steps.\n",
    "We create a corresponding `Time` object with:"
   ]
  },
  {
   "cell_type": "code",
   "execution_count": null,
   "metadata": {},
   "outputs": [],
   "source": [
    "time_resampled = time_union.resample(10)"
   ]
  },
  {
   "cell_type": "code",
   "execution_count": null,
   "metadata": {},
   "outputs": [],
   "source": [
    "csm.interp_time([csm.time_union().min(), csm.time_union().max()]).plot(data_sets=[])"
   ]
  },
  {
   "cell_type": "code",
   "execution_count": null,
   "metadata": {},
   "outputs": [],
   "source": [
    "csm.plot(show_origins=False, data_sets=[])"
   ]
  },
  {
   "cell_type": "code",
   "execution_count": null,
   "metadata": {},
   "outputs": [],
   "source": []
  }
 ],
 "metadata": {
  "kernelspec": {
   "display_name": "weldx",
   "language": "python",
   "name": "weldx"
  },
  "language_info": {
   "codemirror_mode": {
    "name": "ipython",
    "version": 3
   },
   "file_extension": ".py",
   "mimetype": "text/x-python",
   "name": "python",
   "nbconvert_exporter": "python",
   "pygments_lexer": "ipython3",
   "version": "3.8.11"
  }
 },
 "nbformat": 4,
 "nbformat_minor": 5
}
