{
 "cells": [
  {
   "cell_type": "code",
   "execution_count": 1,
   "id": "759924f6-2e78-4aba-9750-fe1870344af3",
   "metadata": {},
   "outputs": [],
   "source": [
    "from weldx.core import SpatialSeries, GenericSeries\n",
    "from weldx import LocalCoordinateSystem, Q_\n",
    "import numpy as np\n",
    "from xarray import DataArray"
   ]
  },
  {
   "cell_type": "markdown",
   "id": "3f0a0e78-40b6-4521-8e1d-a1fc0f322e9f",
   "metadata": {},
   "source": [
    "## Discrete"
   ]
  },
  {
   "cell_type": "code",
   "execution_count": 2,
   "id": "06c52d39-24fe-40ff-9a5b-594ad8435869",
   "metadata": {},
   "outputs": [],
   "source": [
    "s = DataArray(Q_([0,5], \"\"), dims=[\"s\"]).pint.dequantify()\n",
    "data = DataArray(Q_([[1,2,3], [4,5,6]], \"m\"), dims=[\"s\",\"c\"], coords=dict(c=[\"x\", \"y\", \"z\"], s=s))"
   ]
  },
  {
   "cell_type": "code",
   "execution_count": 3,
   "id": "ccd72f65-3173-4481-bb81-07692fa2fa06",
   "metadata": {},
   "outputs": [
    {
     "data": {
      "text/plain": [
       "<SpatialSeries>\n",
       "Values:\n",
       "\t[[1 2 3]\n",
       "         [4 5 6]]\n",
       "Dimensions:\n",
       "\t('s', 'c')\n",
       "Coordinates:\n",
       "\tc      = ['x' 'y' 'z'] None\n",
       "\ts      = [0 5] \n",
       "Units:\n",
       "\tm"
      ]
     },
     "execution_count": 3,
     "metadata": {},
     "output_type": "execute_result"
    }
   ],
   "source": [
    "spsd = SpatialSeries(data, dims=[\"s\", \"c\"])\n",
    "spsd"
   ]
  },
  {
   "cell_type": "markdown",
   "id": "b88b7d17-c2fe-4095-b160-76b69ed3714d",
   "metadata": {},
   "source": [
    "## Expression"
   ]
  },
  {
   "cell_type": "code",
   "execution_count": 4,
   "id": "3fbd63fa-c3ba-4c9b-9a87-779e130db08b",
   "metadata": {},
   "outputs": [],
   "source": [
    "exp = \"a*s + b\"\n",
    "params = dict(\n",
    "    a=DataArray(Q_([0, 0, 1], \"mm\"), dims=[\"c\"], coords=dict(c=[\"x\", \"y\", \"z\"])),\n",
    "    b=DataArray(Q_([1, 0, 0], \"mm\"), dims=[\"c\"], coords=dict(c=[\"x\", \"y\", \"z\"])), \n",
    ")"
   ]
  },
  {
   "cell_type": "code",
   "execution_count": 5,
   "id": "5a60c890-aac4-499b-bdbc-d54a3529b8c5",
   "metadata": {},
   "outputs": [
    {
     "data": {
      "text/plain": [
       "<SpatialSeries>\n",
       "Expression:\n",
       "\ta*s + b\n",
       "Parameters:\n",
       "\ta = [0 0 1] mm\n",
       "\tb = [1 0 0] mm\n",
       "Free Dimensions:\n",
       "\ts in \n",
       "Other Dimensions:\n",
       "\t['c']\n",
       "Units:\n",
       "\tmm"
      ]
     },
     "execution_count": 5,
     "metadata": {},
     "output_type": "execute_result"
    }
   ],
   "source": [
    "spse = SpatialSeries(exp, parameters=params)\n",
    "spse"
   ]
  },
  {
   "cell_type": "code",
   "execution_count": null,
   "id": "90ac71ed-38a6-453d-ba36-6be5ea48a4bb",
   "metadata": {},
   "outputs": [],
   "source": []
  }
 ],
 "metadata": {
  "kernelspec": {
   "display_name": "Python (weldx)",
   "language": "python",
   "name": "weldx"
  },
  "language_info": {
   "codemirror_mode": {
    "name": "ipython",
    "version": 3
   },
   "file_extension": ".py",
   "mimetype": "text/x-python",
   "name": "python",
   "nbconvert_exporter": "python",
   "pygments_lexer": "ipython3",
   "version": "3.9.9"
  }
 },
 "nbformat": 4,
 "nbformat_minor": 5
}
