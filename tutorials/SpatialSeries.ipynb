{
 "cells": [
  {
   "cell_type": "code",
   "execution_count": null,
   "metadata": {},
   "outputs": [],
   "source": [
    "import numpy as np\n",
    "from xarray import DataArray\n",
    "\n",
    "from weldx import Q_, LocalCoordinateSystem\n",
    "from weldx.core import GenericSeries, SpatialSeries"
   ]
  },
  {
   "cell_type": "markdown",
   "metadata": {},
   "source": [
    "## Discrete"
   ]
  },
  {
   "cell_type": "code",
   "execution_count": null,
   "metadata": {},
   "outputs": [],
   "source": [
    "s = DataArray(Q_([0, 5], \"\"), dims=[\"s\"]).pint.dequantify()\n",
    "data = DataArray(\n",
    "    Q_([[1, 2, 3], [4, 5, 6]], \"m\"),\n",
    "    dims=[\"s\", \"c\"],\n",
    "    coords=dict(c=[\"x\", \"y\", \"z\"], s=s),\n",
    ")"
   ]
  },
  {
   "cell_type": "code",
   "execution_count": null,
   "metadata": {},
   "outputs": [],
   "source": [
    "spsd = SpatialSeries(data, dims=[\"s\", \"c\"])\n",
    "spsd"
   ]
  },
  {
   "cell_type": "markdown",
   "metadata": {},
   "source": [
    "## Expression"
   ]
  },
  {
   "cell_type": "code",
   "execution_count": null,
   "metadata": {},
   "outputs": [],
   "source": [
    "exp = \"a*s + b\"\n",
    "params = dict(\n",
    "    a=DataArray(Q_([0, 0, 1], \"mm\"), dims=[\"c\"], coords=dict(c=[\"x\", \"y\", \"z\"])),\n",
    "    b=DataArray(Q_([1, 0, 0], \"mm\"), dims=[\"c\"], coords=dict(c=[\"x\", \"y\", \"z\"])),\n",
    ")"
   ]
  },
  {
   "cell_type": "code",
   "execution_count": null,
   "metadata": {},
   "outputs": [],
   "source": [
    "spse = SpatialSeries(exp, parameters=params)\n",
    "spse"
   ]
  },
  {
   "cell_type": "code",
   "execution_count": null,
   "metadata": {},
   "outputs": [],
   "source": []
  }
 ],
 "metadata": {
  "kernelspec": {
   "display_name": "",
   "language": "python",
   "name": ""
  },
  "language_info": {
   "codemirror_mode": {
    "name": "ipython",
    "version": 3
   },
   "file_extension": ".py",
   "mimetype": "text/x-python",
   "name": "python",
   "nbconvert_exporter": "python",
   "pygments_lexer": "ipython3",
   "version": "3.9.9"
  }
 },
 "nbformat": 4,
 "nbformat_minor": 5
}
