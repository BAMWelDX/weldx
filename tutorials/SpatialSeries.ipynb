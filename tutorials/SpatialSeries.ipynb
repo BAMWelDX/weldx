{
 "cells": [
  {
   "cell_type": "code",
   "execution_count": 1,
   "id": "759924f6-2e78-4aba-9750-fe1870344af3",
   "metadata": {},
   "outputs": [],
   "source": [
    "from weldx.core import SpatialSeries2, GenericSeries\n",
    "from weldx import LocalCoordinateSystem, Q_\n",
    "import numpy as np\n",
    "from xarray import DataArray"
   ]
  },
  {
   "cell_type": "markdown",
   "id": "3f0a0e78-40b6-4521-8e1d-a1fc0f322e9f",
   "metadata": {},
   "source": [
    "## Discrete"
   ]
  },
  {
   "cell_type": "code",
   "execution_count": 2,
   "id": "06c52d39-24fe-40ff-9a5b-594ad8435869",
   "metadata": {},
   "outputs": [],
   "source": [
    "data = DataArray(Q_([[1,2,3], [4,5,6]], \"m\"), dims=[\"s\",\"c\"], coords=dict(c=[\"x\", \"y\", \"z\"]))\n",
    "\n",
    "s = Q_([0,5], \"mm\")"
   ]
  },
  {
   "cell_type": "code",
   "execution_count": 3,
   "id": "ccd72f65-3173-4481-bb81-07692fa2fa06",
   "metadata": {},
   "outputs": [
    {
     "data": {
      "text/plain": [
       "<SpatialSeries2>\n",
       "Values:\n",
       "\t[[1 2 3]\n",
       "         [4 5 6]]\n",
       "Dimensions:\n",
       "\t('s', 'c')\n",
       "Coordinates:\n",
       "\tc      = ['x' 'y' 'z'] None\n",
       "Units:\n",
       "\tm"
      ]
     },
     "execution_count": 3,
     "metadata": {},
     "output_type": "execute_result"
    }
   ],
   "source": [
    "spsd = SpatialSeries2(data, dims=[\"s\", \"c\"], coords=dict(s=s))\n",
    "spsd"
   ]
  },
  {
   "cell_type": "markdown",
   "id": "b88b7d17-c2fe-4095-b160-76b69ed3714d",
   "metadata": {},
   "source": [
    "## Expression"
   ]
  },
  {
   "cell_type": "code",
   "execution_count": 9,
   "id": "3fbd63fa-c3ba-4c9b-9a87-779e130db08b",
   "metadata": {},
   "outputs": [],
   "source": [
    "exp = \"a*s + b\"\n",
    "params = dict(\n",
    "    a=Q_([1,1,1], \"mm\"), \n",
    "    b=Q_([1,1,1], \"mm\"), \n",
    ")"
   ]
  },
  {
   "cell_type": "code",
   "execution_count": 10,
   "id": "5a60c890-aac4-499b-bdbc-d54a3529b8c5",
   "metadata": {},
   "outputs": [
    {
     "ename": "ValueError",
     "evalue": "SpatialSeries2 requires dimensions '['s', 'c']'.",
     "output_type": "error",
     "traceback": [
      "\u001b[1;31m---------------------------------------------------------------------------\u001b[0m",
      "\u001b[1;31mValueError\u001b[0m                                Traceback (most recent call last)",
      "Input \u001b[1;32mIn [10]\u001b[0m, in \u001b[0;36m<module>\u001b[1;34m\u001b[0m\n\u001b[1;32m----> 1\u001b[0m spse \u001b[38;5;241m=\u001b[39m \u001b[43mSpatialSeries2\u001b[49m\u001b[43m(\u001b[49m\u001b[43mexp\u001b[49m\u001b[43m,\u001b[49m\u001b[43m \u001b[49m\u001b[43mparameters\u001b[49m\u001b[38;5;241;43m=\u001b[39;49m\u001b[43mparams\u001b[49m\u001b[43m)\u001b[49m\n\u001b[0;32m      2\u001b[0m spse\n",
      "File \u001b[1;32m~\\PycharmProjects\\weldx\\weldx\\weldx\\core.py:987\u001b[0m, in \u001b[0;36mGenericSeries.__init__\u001b[1;34m(self, obj, dims, coords, units, interpolation, parameters)\u001b[0m\n\u001b[0;32m    985\u001b[0m     \u001b[38;5;28;01mif\u001b[39;00m dims \u001b[38;5;129;01mis\u001b[39;00m \u001b[38;5;129;01mnot\u001b[39;00m \u001b[38;5;28;01mNone\u001b[39;00m \u001b[38;5;129;01mand\u001b[39;00m \u001b[38;5;129;01mnot\u001b[39;00m \u001b[38;5;28misinstance\u001b[39m(dims, \u001b[38;5;28mdict\u001b[39m):\n\u001b[0;32m    986\u001b[0m         \u001b[38;5;28;01mraise\u001b[39;00m \u001b[38;5;167;01mValueError\u001b[39;00m(\u001b[38;5;124mf\u001b[39m\u001b[38;5;124m\"\u001b[39m\u001b[38;5;124mArgument \u001b[39m\u001b[38;5;124m'\u001b[39m\u001b[38;5;124mdims\u001b[39m\u001b[38;5;124m'\u001b[39m\u001b[38;5;124m must be dict, not \u001b[39m\u001b[38;5;132;01m{\u001b[39;00mdims\u001b[38;5;132;01m}\u001b[39;00m\u001b[38;5;124m\"\u001b[39m)\n\u001b[1;32m--> 987\u001b[0m     \u001b[38;5;28;43mself\u001b[39;49m\u001b[38;5;241;43m.\u001b[39;49m\u001b[43m_init_expression\u001b[49m\u001b[43m(\u001b[49m\u001b[43mobj\u001b[49m\u001b[43m,\u001b[49m\u001b[43m \u001b[49m\u001b[43mdims\u001b[49m\u001b[43m,\u001b[49m\u001b[43m \u001b[49m\u001b[43mparameters\u001b[49m\u001b[43m,\u001b[49m\u001b[43m \u001b[49m\u001b[43munits\u001b[49m\u001b[43m)\u001b[49m\n\u001b[0;32m    988\u001b[0m \u001b[38;5;28;01melse\u001b[39;00m:\n\u001b[0;32m    989\u001b[0m     \u001b[38;5;28;01mraise\u001b[39;00m \u001b[38;5;167;01mTypeError\u001b[39;00m(\u001b[38;5;124mf\u001b[39m\u001b[38;5;124m'\u001b[39m\u001b[38;5;124mThe data type \u001b[39m\u001b[38;5;124m\"\u001b[39m\u001b[38;5;132;01m{\u001b[39;00m\u001b[38;5;28mtype\u001b[39m(obj)\u001b[38;5;132;01m}\u001b[39;00m\u001b[38;5;124m\"\u001b[39m\u001b[38;5;124m is not supported.\u001b[39m\u001b[38;5;124m'\u001b[39m)\n",
      "File \u001b[1;32m~\\PycharmProjects\\weldx\\weldx\\weldx\\core.py:1093\u001b[0m, in \u001b[0;36mGenericSeries._init_expression\u001b[1;34m(self, expr, dims, parameters, units)\u001b[0m\n\u001b[0;32m   1090\u001b[0m expr_units \u001b[38;5;241m=\u001b[39m \u001b[38;5;28mself\u001b[39m\u001b[38;5;241m.\u001b[39m_test_expr(expr, dims, units)\n\u001b[0;32m   1092\u001b[0m \u001b[38;5;66;03m# check constraints\u001b[39;00m\n\u001b[1;32m-> 1093\u001b[0m \u001b[38;5;28;43mself\u001b[39;49m\u001b[38;5;241;43m.\u001b[39;49m\u001b[43m_check_constraints_expression\u001b[49m\u001b[43m(\u001b[49m\u001b[43mexpr\u001b[49m\u001b[43m,\u001b[49m\u001b[43m \u001b[49m\u001b[43mdims\u001b[49m\u001b[43m,\u001b[49m\u001b[43m \u001b[49m\u001b[43munits\u001b[49m\u001b[43m,\u001b[49m\u001b[43m \u001b[49m\u001b[43mexpr_units\u001b[49m\u001b[43m)\u001b[49m\n\u001b[0;32m   1095\u001b[0m \u001b[38;5;66;03m# save internal data\u001b[39;00m\n\u001b[0;32m   1096\u001b[0m \u001b[38;5;28mself\u001b[39m\u001b[38;5;241m.\u001b[39m_units \u001b[38;5;241m=\u001b[39m expr_units\n",
      "File \u001b[1;32m~\\PycharmProjects\\weldx\\weldx\\weldx\\core.py:1460\u001b[0m, in \u001b[0;36mGenericSeries._check_constraints_expression\u001b[1;34m(cls, expr, var_dims, var_units, expr_units)\u001b[0m\n\u001b[0;32m   1457\u001b[0m \u001b[38;5;28mcls\u001b[39m\u001b[38;5;241m.\u001b[39m_check_req_items(\u001b[38;5;28mcls\u001b[39m\u001b[38;5;241m.\u001b[39m_required_variables, var_names, \u001b[38;5;124m\"\u001b[39m\u001b[38;5;124mexpression variables\u001b[39m\u001b[38;5;124m\"\u001b[39m)\n\u001b[0;32m   1459\u001b[0m \u001b[38;5;66;03m# check dimension constraints\u001b[39;00m\n\u001b[1;32m-> 1460\u001b[0m \u001b[38;5;28;43mcls\u001b[39;49m\u001b[38;5;241;43m.\u001b[39;49m\u001b[43m_check_req_items\u001b[49m\u001b[43m(\u001b[49m\n\u001b[0;32m   1461\u001b[0m \u001b[43m    \u001b[49m\u001b[38;5;28;43mcls\u001b[39;49m\u001b[38;5;241;43m.\u001b[39;49m\u001b[43m_required_dimensions\u001b[49m\u001b[43m,\u001b[49m\n\u001b[0;32m   1462\u001b[0m \u001b[43m    \u001b[49m\u001b[38;5;28;43mcls\u001b[39;49m\u001b[38;5;241;43m.\u001b[39;49m\u001b[43m_get_expression_dims\u001b[49m\u001b[43m(\u001b[49m\u001b[43mexpr\u001b[49m\u001b[43m,\u001b[49m\u001b[43m \u001b[49m\u001b[43mvar_dims\u001b[49m\u001b[43m)\u001b[49m\u001b[43m,\u001b[49m\n\u001b[0;32m   1463\u001b[0m \u001b[43m    \u001b[49m\u001b[38;5;124;43m\"\u001b[39;49m\u001b[38;5;124;43mdimensions\u001b[39;49m\u001b[38;5;124;43m\"\u001b[39;49m\u001b[43m,\u001b[49m\n\u001b[0;32m   1464\u001b[0m \u001b[43m\u001b[49m\u001b[43m)\u001b[49m\n\u001b[0;32m   1466\u001b[0m \u001b[38;5;66;03m# check dimensionality constraint\u001b[39;00m\n\u001b[0;32m   1467\u001b[0m req_dimty \u001b[38;5;241m=\u001b[39m \u001b[38;5;28mcls\u001b[39m\u001b[38;5;241m.\u001b[39m_required_unit_dimensionality\n",
      "File \u001b[1;32m~\\PycharmProjects\\weldx\\weldx\\weldx\\core.py:1408\u001b[0m, in \u001b[0;36mGenericSeries._check_req_items\u001b[1;34m(cls, req, data, desc)\u001b[0m\n\u001b[0;32m   1406\u001b[0m \u001b[38;5;124;03m\"\"\"Check if all required items are contained in `data`.\"\"\"\u001b[39;00m\n\u001b[0;32m   1407\u001b[0m \u001b[38;5;28;01mif\u001b[39;00m \u001b[38;5;129;01mnot\u001b[39;00m \u001b[38;5;28mset\u001b[39m(req)\u001b[38;5;241m.\u001b[39missubset(data):\n\u001b[1;32m-> 1408\u001b[0m     \u001b[38;5;28;01mraise\u001b[39;00m \u001b[38;5;167;01mValueError\u001b[39;00m(\u001b[38;5;124mf\u001b[39m\u001b[38;5;124m\"\u001b[39m\u001b[38;5;132;01m{\u001b[39;00m\u001b[38;5;28mcls\u001b[39m\u001b[38;5;241m.\u001b[39m\u001b[38;5;18m__name__\u001b[39m\u001b[38;5;132;01m}\u001b[39;00m\u001b[38;5;124m requires \u001b[39m\u001b[38;5;132;01m{\u001b[39;00mdesc\u001b[38;5;132;01m}\u001b[39;00m\u001b[38;5;124m \u001b[39m\u001b[38;5;124m'\u001b[39m\u001b[38;5;132;01m{\u001b[39;00mreq\u001b[38;5;132;01m}\u001b[39;00m\u001b[38;5;124m'\u001b[39m\u001b[38;5;124m.\u001b[39m\u001b[38;5;124m\"\u001b[39m)\n",
      "\u001b[1;31mValueError\u001b[0m: SpatialSeries2 requires dimensions '['s', 'c']'."
     ]
    }
   ],
   "source": [
    "spse = SpatialSeries2(exp, parameters=params)\n",
    "spse"
   ]
  },
  {
   "cell_type": "code",
   "execution_count": null,
   "id": "90ac71ed-38a6-453d-ba36-6be5ea48a4bb",
   "metadata": {},
   "outputs": [],
   "source": []
  }
 ],
 "metadata": {
  "kernelspec": {
   "display_name": "Python (weldx)",
   "language": "python",
   "name": "weldx"
  },
  "language_info": {
   "codemirror_mode": {
    "name": "ipython",
    "version": 3
   },
   "file_extension": ".py",
   "mimetype": "text/x-python",
   "name": "python",
   "nbconvert_exporter": "python",
   "pygments_lexer": "ipython3",
   "version": "3.9.9"
  }
 },
 "nbformat": 4,
 "nbformat_minor": 5
}
