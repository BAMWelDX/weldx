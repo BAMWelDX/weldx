{
 "cells": [
  {
   "cell_type": "code",
   "execution_count": null,
   "id": "7ee3167e-6299-4a66-a057-2f52a0d10024",
   "metadata": {},
   "outputs": [],
   "source": [
    "import numpy as np\n",
    "\n",
    "from weldx import Q_, U_, GenericSeries, MathematicalExpression, Time, TimeSeries"
   ]
  },
  {
   "cell_type": "code",
   "execution_count": null,
   "id": "69c2d540-2323-43e2-962e-6a1382f79297",
   "metadata": {},
   "outputs": [],
   "source": [
    "class newTS(GenericSeries):\n",
    "\n",
    "    # --- Constraints\n",
    "\n",
    "    def preprocess_time(self, time, time_unit):\n",
    "        time = Time(time)\n",
    "        time_interp = Time(time, self._reference_time)\n",
    "        return dict(t=time_interp.as_quantity().to(time_unit))\n",
    "\n",
    "    _allowed_variables = [\"t\"]\n",
    "    _required_dimensions = [\"t\"]\n",
    "    _required_dimension_units = dict(t=U_(\"s\"))\n",
    "    _required_variables = [\"t\"]\n",
    "    _evaluation_preprocessor = preprocess_time\n",
    "\n",
    "    # --- Custom init\n",
    "\n",
    "    def __init__(self, data, time=None, interpolation=None, reference_time=None):\n",
    "        if time is not None:\n",
    "            time = dict(t=Time(time, reference_time).as_quantity())\n",
    "\n",
    "        self._reference_time = reference_time\n",
    "        super().__init__(data=data, coords=time, interpolation=interpolation)\n",
    "\n",
    "    # --- extra properties and functions\n",
    "\n",
    "    @property\n",
    "    def reference_time(self):\n",
    "        return self._reference_time\n",
    "\n",
    "    @property\n",
    "    def time(self):\n",
    "        if self.is_expression:\n",
    "            return None\n",
    "        t = self._data.coords[\"t\"]\n",
    "        return Time(Q_(t.data, t.attrs[\"units\"]))  # There is probably a better way ;)\n",
    "\n",
    "    def interp_time(self, time, time_unit=\"s\"):\n",
    "        return self(time=time, time_unit=time_unit)"
   ]
  },
  {
   "cell_type": "markdown",
   "id": "c47ed61e-09ad-4db5-aef5-59f83afe101a",
   "metadata": {},
   "source": [
    "## Discrete"
   ]
  },
  {
   "cell_type": "markdown",
   "id": "07ef5a1c-a6a6-4260-9c5f-4eee3e99c44d",
   "metadata": {},
   "source": [
    "### `__init__`"
   ]
  },
  {
   "cell_type": "code",
   "execution_count": null,
   "id": "9a16e430-a303-48a5-b978-d81a37b16c71",
   "metadata": {},
   "outputs": [],
   "source": [
    "try:\n",
    "    TimeSeries(Q_([1, 3, 5], \"m\"), time=Q_([1, 2, 3], \"K\"))\n",
    "except Exception as e:\n",
    "    print(e)"
   ]
  },
  {
   "cell_type": "code",
   "execution_count": null,
   "id": "c2c63c97-b5eb-4c63-b8af-055c9a3f0af3",
   "metadata": {},
   "outputs": [],
   "source": [
    "try:\n",
    "    newTS(Q_([1, 3, 5], \"m\"), time=Q_([1, 2, 3], \"K\"))\n",
    "except Exception as e:\n",
    "    print(e)"
   ]
  },
  {
   "cell_type": "code",
   "execution_count": null,
   "id": "7d83002b-ecfc-46bd-9478-fd7ffa14817b",
   "metadata": {},
   "outputs": [],
   "source": [
    "ts_discrete = TimeSeries(\n",
    "    Q_([1, 3, 5], \"m\"), time=Q_([1, 2, 3], \"s\"), reference_time=\"2000-01-01\"\n",
    ")"
   ]
  },
  {
   "cell_type": "code",
   "execution_count": null,
   "id": "467c4a8e-d408-4c3a-a59f-b615113ef62a",
   "metadata": {},
   "outputs": [],
   "source": [
    "tsnew_discrete = newTS(\n",
    "    Q_([1, 3, 5], \"m\"), time=Q_([1, 2, 3], \"s\"), reference_time=\"2000-01-01\"\n",
    ")"
   ]
  },
  {
   "cell_type": "markdown",
   "id": "141b27b9-db2b-44ef-81cf-7eda998a4987",
   "metadata": {},
   "source": [
    "### attributes"
   ]
  },
  {
   "cell_type": "code",
   "execution_count": null,
   "id": "ce28c06c-3ab5-4730-a4b3-52faa1d55caf",
   "metadata": {},
   "outputs": [],
   "source": [
    "np.allclose(ts_discrete.data, tsnew_discrete.data)"
   ]
  },
  {
   "cell_type": "code",
   "execution_count": null,
   "id": "d003fc1f-ad2f-4539-a1b1-379ee09eca3c",
   "metadata": {},
   "outputs": [],
   "source": [
    "ts_discrete.data_array.equals(tsnew_discrete.data_array)"
   ]
  },
  {
   "cell_type": "markdown",
   "id": "9cd99a27-c22c-444b-a8c9-5660d54fc589",
   "metadata": {},
   "source": [
    "> Internal storage format differs (timedelta vs quantity). Also, the interpolation is yet not stored in the GS version"
   ]
  },
  {
   "cell_type": "code",
   "execution_count": null,
   "id": "38300799-e662-4ab5-aabf-d6a7232b931d",
   "metadata": {},
   "outputs": [],
   "source": [
    "ts_discrete.data_array"
   ]
  },
  {
   "cell_type": "code",
   "execution_count": null,
   "id": "4ebd768f-b74b-44eb-bfb5-41a286c72bf2",
   "metadata": {},
   "outputs": [],
   "source": [
    "tsnew_discrete.data_array"
   ]
  },
  {
   "cell_type": "code",
   "execution_count": null,
   "id": "03997abd-a5ab-4200-a6e3-1f31689bd0b8",
   "metadata": {},
   "outputs": [],
   "source": [
    "ts_discrete.is_discrete == tsnew_discrete.is_discrete == True"
   ]
  },
  {
   "cell_type": "code",
   "execution_count": null,
   "id": "cf9c98b0-d8e9-4ff3-8f40-2bb3d3fd4fbd",
   "metadata": {},
   "outputs": [],
   "source": [
    "ts_discrete.is_expression == tsnew_discrete.is_expression == False"
   ]
  },
  {
   "cell_type": "code",
   "execution_count": null,
   "id": "2acd20f4-dd81-431d-92c9-081eec1c3097",
   "metadata": {},
   "outputs": [],
   "source": [
    "ts_discrete.units == tsnew_discrete.units"
   ]
  },
  {
   "cell_type": "code",
   "execution_count": null,
   "id": "70ff7665-4f60-459b-b599-8ea9044f5222",
   "metadata": {},
   "outputs": [],
   "source": [
    "ts_discrete.interpolation == tsnew_discrete.interpolation"
   ]
  },
  {
   "cell_type": "code",
   "execution_count": null,
   "id": "8691097e-b60e-43f1-9ae2-ca97b946f0f6",
   "metadata": {},
   "outputs": [],
   "source": [
    "ts_discrete.interpolation"
   ]
  },
  {
   "cell_type": "code",
   "execution_count": null,
   "id": "c2b143b5-bf84-4317-834a-ee0059d63437",
   "metadata": {},
   "outputs": [],
   "source": [
    "tsnew_discrete.interpolation"
   ]
  },
  {
   "cell_type": "code",
   "execution_count": null,
   "id": "c7de23ae-078c-4482-b97b-9044fad0569a",
   "metadata": {},
   "outputs": [],
   "source": [
    "np.all(ts_discrete.time == tsnew_discrete.time)"
   ]
  },
  {
   "cell_type": "code",
   "execution_count": null,
   "id": "f092a172-bb83-4265-bd37-0e70ee2456c2",
   "metadata": {},
   "outputs": [],
   "source": [
    "ts_discrete.reference_time == tsnew_discrete.reference_time"
   ]
  },
  {
   "cell_type": "markdown",
   "id": "44ef5148-92fe-4167-b4dd-77e54a69a9d4",
   "metadata": {},
   "source": [
    "> GS version is correct, TS has a bug :)"
   ]
  },
  {
   "cell_type": "code",
   "execution_count": null,
   "id": "decb2612-b87a-428e-afc0-f8c62831b074",
   "metadata": {},
   "outputs": [],
   "source": [
    "ts_discrete.reference_time"
   ]
  },
  {
   "cell_type": "code",
   "execution_count": null,
   "id": "81d2dc52-e85f-45a3-8755-f1f4dbaef53d",
   "metadata": {},
   "outputs": [],
   "source": [
    "tsnew_discrete.reference_time"
   ]
  },
  {
   "cell_type": "markdown",
   "id": "9c40b3e7-6fb9-4494-b360-61918ff82b91",
   "metadata": {},
   "source": [
    "### interpolation"
   ]
  },
  {
   "cell_type": "code",
   "execution_count": null,
   "id": "813ec301-3c70-4c50-a879-c8d73e5d4fd1",
   "metadata": {},
   "outputs": [],
   "source": [
    "ts_discrete.interp_time(\"3s\")"
   ]
  },
  {
   "cell_type": "code",
   "execution_count": null,
   "id": "604af568-e4fb-45ab-938c-d4cda0a31b79",
   "metadata": {},
   "outputs": [],
   "source": [
    "tsnew_discrete.interp_time(\"3s\")"
   ]
  },
  {
   "cell_type": "code",
   "execution_count": null,
   "id": "ea9b87e8-62c9-4e3b-918b-4e7147675f76",
   "metadata": {},
   "outputs": [],
   "source": [
    "d = tsnew_discrete.interp_time(\"3s\")\n",
    "d.data_array.data"
   ]
  },
  {
   "cell_type": "code",
   "execution_count": null,
   "id": "269736c5-3628-4f54-9def-d904efc14164",
   "metadata": {},
   "outputs": [],
   "source": [
    "tsnew_discrete.data_array.sel(t=3).data"
   ]
  },
  {
   "cell_type": "code",
   "execution_count": null,
   "id": "24484781-4a92-4058-8f81-6a4a3381fbf5",
   "metadata": {},
   "outputs": [],
   "source": [
    "np.allclose(ts_discrete.interp_time(\"3s\").data, tsnew_discrete.interp_time(\"3s\").data)"
   ]
  },
  {
   "cell_type": "code",
   "execution_count": null,
   "id": "ec51ffbd-6878-4283-b932-fedc30361236",
   "metadata": {},
   "outputs": [],
   "source": [
    "np.allclose(\n",
    "    ts_discrete.interp_time(\"2007\").data, tsnew_discrete.interp_time(\"2007\").data\n",
    ")"
   ]
  },
  {
   "cell_type": "markdown",
   "id": "679aaecd-58d3-4ee4-8082-0ea0ad922d64",
   "metadata": {},
   "source": [
    "> \"Old TS\" seems to be wrong here since it never got a proper support for absolute times. See below"
   ]
  },
  {
   "cell_type": "code",
   "execution_count": null,
   "id": "959817e5-2303-4d58-89ad-a758f0a21c70",
   "metadata": {},
   "outputs": [],
   "source": [
    "ts_discrete.interp_time(\"2007\").data"
   ]
  },
  {
   "cell_type": "code",
   "execution_count": null,
   "id": "19ec1f74-76eb-40eb-9857-3716d2ebc8d9",
   "metadata": {},
   "outputs": [],
   "source": [
    "tsnew_discrete.interp_time(\"2007\").data"
   ]
  },
  {
   "cell_type": "code",
   "execution_count": null,
   "id": "a74db424-9cf5-42de-9463-b5d86042e3d9",
   "metadata": {},
   "outputs": [],
   "source": [
    "np.allclose(\n",
    "    ts_discrete.interp_time(Q_([1, 2, 3], \"s\")).data,\n",
    "    tsnew_discrete.interp_time(Q_([1, 2, 3], \"s\")).data,\n",
    ")"
   ]
  },
  {
   "cell_type": "markdown",
   "id": "d9d6e7d2-05b2-462a-8963-456b2b4b8c93",
   "metadata": {},
   "source": [
    "## Expression"
   ]
  },
  {
   "cell_type": "markdown",
   "id": "faa74c5e-e934-49e1-9d3d-0231cff7f52c",
   "metadata": {},
   "source": [
    "### `__init__`\n",
    "\n",
    "#### only time parameter allowed"
   ]
  },
  {
   "cell_type": "code",
   "execution_count": null,
   "id": "ff1a545d-b3d0-44ed-a0f1-a8c4b125c8f8",
   "metadata": {},
   "outputs": [],
   "source": [
    "try:\n",
    "    TimeSeries(MathematicalExpression(\"a*t +b\"))\n",
    "except Exception as e:\n",
    "    print(e)"
   ]
  },
  {
   "cell_type": "code",
   "execution_count": null,
   "id": "62be162a-8684-4581-88b5-a32a66e383df",
   "metadata": {},
   "outputs": [],
   "source": [
    "try:\n",
    "    newTS(MathematicalExpression(\"a*t +b\"))\n",
    "except Exception as e:\n",
    "    print(e)"
   ]
  },
  {
   "cell_type": "markdown",
   "id": "86a49ff4-97b5-4251-bc08-be89d1c8cc0f",
   "metadata": {},
   "source": [
    "#### units do not match cause t needs a time unit"
   ]
  },
  {
   "cell_type": "code",
   "execution_count": null,
   "id": "00a73221-e15e-42d4-94c2-74272aa8661a",
   "metadata": {},
   "outputs": [],
   "source": [
    "try:\n",
    "    TimeSeries(MathematicalExpression(\"a*t +b\", parameters=dict(a=5, b=3)))\n",
    "except Exception as e:\n",
    "    print(e)"
   ]
  },
  {
   "cell_type": "code",
   "execution_count": null,
   "id": "90d01d89-1cf4-48ca-be9a-1f4c2968f5be",
   "metadata": {},
   "outputs": [],
   "source": [
    "### TODO: _required_dimension_units should automatically update the required units\n",
    "try:\n",
    "    newTS(MathematicalExpression(\"a*t +b\", parameters=dict(a=5, b=3)))\n",
    "except Exception as e:\n",
    "    print(e)"
   ]
  },
  {
   "cell_type": "code",
   "execution_count": null,
   "id": "96305494-55d3-47dc-8470-ac14eb3ded8b",
   "metadata": {},
   "outputs": [],
   "source": [
    "ts_expr = TimeSeries(\n",
    "    MathematicalExpression(\"a*t +b\", parameters=dict(a=\"5/s\", b=3)),\n",
    "    reference_time=\"2000-01-01\",\n",
    ");"
   ]
  },
  {
   "cell_type": "code",
   "execution_count": null,
   "id": "7fb32470-3270-4be8-b257-bd890def0de8",
   "metadata": {},
   "outputs": [],
   "source": [
    "tsnew_expr = newTS(\n",
    "    MathematicalExpression(\"a*t +b\", parameters=dict(a=\"5/s\", b=3)),\n",
    "    reference_time=\"2000-01-01\",\n",
    ");"
   ]
  },
  {
   "cell_type": "markdown",
   "id": "7d0ee0ae-e901-405d-b328-5b77d7594a14",
   "metadata": {},
   "source": [
    "### properties"
   ]
  },
  {
   "cell_type": "code",
   "execution_count": null,
   "id": "d03c538f-a567-447e-b21a-86d262735469",
   "metadata": {},
   "outputs": [],
   "source": [
    "ts_expr.data == tsnew_expr.data"
   ]
  },
  {
   "cell_type": "code",
   "execution_count": null,
   "id": "e3989191-eacd-451d-93ed-effd206bceeb",
   "metadata": {},
   "outputs": [],
   "source": [
    "ts_expr.data_array == tsnew_expr.data_array"
   ]
  },
  {
   "cell_type": "code",
   "execution_count": null,
   "id": "3bd39d60-d55b-414e-8c3a-49b43f757d21",
   "metadata": {},
   "outputs": [],
   "source": [
    "ts_expr.is_discrete == tsnew_expr.is_discrete == False"
   ]
  },
  {
   "cell_type": "code",
   "execution_count": null,
   "id": "01191385-47fa-4bfa-8cfd-e3bf7a0b8759",
   "metadata": {},
   "outputs": [],
   "source": [
    "ts_expr.is_expression == tsnew_expr.is_expression == True"
   ]
  },
  {
   "cell_type": "code",
   "execution_count": null,
   "id": "f9c95c7b-8c41-41d4-b338-e8752e4cf8d4",
   "metadata": {},
   "outputs": [],
   "source": [
    "ts_expr.units == tsnew_expr.units"
   ]
  },
  {
   "cell_type": "code",
   "execution_count": null,
   "id": "8c38c3ce-a88f-48e4-9299-fd73b0ec99a9",
   "metadata": {},
   "outputs": [],
   "source": [
    "# ts_expr.shape == ts_expr.shape"
   ]
  },
  {
   "cell_type": "code",
   "execution_count": null,
   "id": "24cf529f-9a08-435c-8732-09ef6cdf0921",
   "metadata": {},
   "outputs": [],
   "source": [
    "# tsnew_expr.shape"
   ]
  },
  {
   "cell_type": "code",
   "execution_count": null,
   "id": "ea9f0d5d-1210-463b-adc6-29f06a7c71e4",
   "metadata": {},
   "outputs": [],
   "source": [
    "ts_expr.time == tsnew_expr.time"
   ]
  },
  {
   "cell_type": "code",
   "execution_count": null,
   "id": "8da08df0-3995-4eea-b466-cf0f558a7497",
   "metadata": {},
   "outputs": [],
   "source": [
    "ts_expr.reference_time == tsnew_expr.reference_time"
   ]
  },
  {
   "cell_type": "code",
   "execution_count": null,
   "id": "65f0659d-191d-4822-b67d-e9be5f2e93ac",
   "metadata": {},
   "outputs": [],
   "source": [
    "ts_expr.interpolation == tsnew_expr.interpolation"
   ]
  },
  {
   "cell_type": "markdown",
   "id": "8bff184d-0b23-4a5d-b913-6f0a7a8578fd",
   "metadata": {},
   "source": [
    "### interpolation"
   ]
  },
  {
   "cell_type": "code",
   "execution_count": null,
   "id": "9ea55af2-39de-40c1-893d-1543ba3264a7",
   "metadata": {},
   "outputs": [],
   "source": [
    "ts_expr.interp_time(\"3s\")"
   ]
  },
  {
   "cell_type": "code",
   "execution_count": null,
   "id": "f2fc38bf-38d4-4bf8-96d4-c41c8b7c3ae7",
   "metadata": {},
   "outputs": [],
   "source": [
    "tsnew_expr.interp_time(\"3s\")"
   ]
  },
  {
   "cell_type": "markdown",
   "id": "a4e2e005-3419-4035-95cf-a9ff34360c8c",
   "metadata": {},
   "source": [
    "> TODO: Should return a new `TimeSeries` and not a `GenericSeries`"
   ]
  },
  {
   "cell_type": "code",
   "execution_count": null,
   "id": "bec99dbd-4d6d-461c-a028-64b8f5e921c0",
   "metadata": {},
   "outputs": [],
   "source": [
    "np.allclose(ts_expr.interp_time(\"3s\").data, tsnew_expr.interp_time(\"3s\").data)"
   ]
  },
  {
   "cell_type": "code",
   "execution_count": null,
   "id": "706116bf-8ad5-4f7b-ad8c-0bb00bc766ac",
   "metadata": {},
   "outputs": [],
   "source": [
    "np.allclose(ts_expr.interp_time(\"2007\").data, tsnew_expr.interp_time(\"2007\").data)"
   ]
  },
  {
   "cell_type": "code",
   "execution_count": null,
   "id": "44c107d6-f7f5-4b8c-a8ea-795fd1c1d0a8",
   "metadata": {},
   "outputs": [],
   "source": [
    "np.allclose(\n",
    "    ts_expr.interp_time(Q_([1, 2, 3], \"s\")).data,\n",
    "    tsnew_expr.interp_time(Q_([1, 2, 3], \"s\")).data,\n",
    ")"
   ]
  }
 ],
 "metadata": {
  "kernelspec": {
   "display_name": "",
   "language": "python",
   "name": ""
  },
  "language_info": {
   "codemirror_mode": {
    "name": "ipython",
    "version": 3
   },
   "file_extension": ".py",
   "mimetype": "text/x-python",
   "name": "python",
   "nbconvert_exporter": "python",
   "pygments_lexer": "ipython3",
   "version": "3.8.11"
  }
 },
 "nbformat": 4,
 "nbformat_minor": 5
}
