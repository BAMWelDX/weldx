{
 "cells": [
  {
   "cell_type": "code",
   "execution_count": 1,
   "id": "7ee3167e-6299-4a66-a057-2f52a0d10024",
   "metadata": {},
   "outputs": [],
   "source": [
    "import numpy as np\n",
    "\n",
    "from weldx import Q_, U_, GenericSeries, MathematicalExpression, Time, TimeSeries"
   ]
  },
  {
   "cell_type": "code",
   "execution_count": 2,
   "id": "69c2d540-2323-43e2-962e-6a1382f79297",
   "metadata": {},
   "outputs": [],
   "source": [
    "class newTS(GenericSeries):\n",
    "\n",
    "    # --- Constraints\n",
    "\n",
    "    def preprocess_time(self, time, time_unit):\n",
    "        time = Time(time)\n",
    "        time_interp = Time(time, self._reference_time)\n",
    "        return dict(t=time_interp.as_quantity().to(time_unit))\n",
    "\n",
    "    _allowed_variables = [\"t\"]\n",
    "    _required_dimensions = [\"t\"]\n",
    "    _required_dimension_units = dict(t=U_(\"s\"))\n",
    "    _required_variables = [\"t\"]\n",
    "    _evaluation_preprocessor = preprocess_time\n",
    "\n",
    "    # --- Custom init\n",
    "\n",
    "    def __init__(self, data, time=None, interpolation=None, reference_time=None):\n",
    "        if time is not None:\n",
    "            time = dict(t=Time(time, reference_time).as_quantity())\n",
    "\n",
    "        self._reference_time = reference_time\n",
    "        super().__init__(obj=data, coords=time, interpolation=interpolation)\n",
    "\n",
    "    # --- extra properties and functions\n",
    "\n",
    "    @property\n",
    "    def reference_time(self):\n",
    "        return self._reference_time\n",
    "\n",
    "    @property\n",
    "    def time(self):\n",
    "        if self.is_expression:\n",
    "            return None\n",
    "        t = self._obj.coords[\"t\"]\n",
    "        return Time(Q_(t.data, t.attrs[\"units\"]))  # There is probably a better way ;)\n",
    "\n",
    "    def interp_time(self, time, time_unit=\"s\"):\n",
    "        return self(time=time, time_unit=time_unit)"
   ]
  },
  {
   "cell_type": "markdown",
   "id": "c47ed61e-09ad-4db5-aef5-59f83afe101a",
   "metadata": {},
   "source": [
    "## Discrete"
   ]
  },
  {
   "cell_type": "markdown",
   "id": "07ef5a1c-a6a6-4260-9c5f-4eee3e99c44d",
   "metadata": {},
   "source": [
    "### `__init__`"
   ]
  },
  {
   "cell_type": "code",
   "execution_count": 3,
   "id": "9a16e430-a303-48a5-b978-d81a37b16c71",
   "metadata": {},
   "outputs": [
    {
     "name": "stdout",
     "output_type": "stream",
     "text": [
      "Cannot convert from 'kelvin' ([temperature]) to 'second' ([time])\n"
     ]
    }
   ],
   "source": [
    "try:\n",
    "    TimeSeries(Q_([1, 3, 5], \"m\"), time=Q_([1, 2, 3], \"K\"))\n",
    "except Exception as e:\n",
    "    print(e)"
   ]
  },
  {
   "cell_type": "code",
   "execution_count": 4,
   "id": "c2c63c97-b5eb-4c63-b8af-055c9a3f0af3",
   "metadata": {},
   "outputs": [
    {
     "name": "stdout",
     "output_type": "stream",
     "text": [
      "Cannot convert from 'kelvin' ([temperature]) to 'second' ([time])\n"
     ]
    }
   ],
   "source": [
    "try:\n",
    "    newTS(Q_([1, 3, 5], \"m\"), time=Q_([1, 2, 3], \"K\"))\n",
    "except Exception as e:\n",
    "    print(e)"
   ]
  },
  {
   "cell_type": "code",
   "execution_count": 5,
   "id": "7d83002b-ecfc-46bd-9478-fd7ffa14817b",
   "metadata": {},
   "outputs": [],
   "source": [
    "ts_discrete = TimeSeries(\n",
    "    Q_([1, 3, 5], \"m\"), time=Q_([1, 2, 3], \"s\"), reference_time=\"2000-01-01\"\n",
    ")"
   ]
  },
  {
   "cell_type": "code",
   "execution_count": 6,
   "id": "467c4a8e-d408-4c3a-a59f-b615113ef62a",
   "metadata": {},
   "outputs": [],
   "source": [
    "tsnew_discrete = newTS(\n",
    "    Q_([1, 3, 5], \"m\"), time=Q_([1, 2, 3], \"s\"), reference_time=\"2000-01-01\"\n",
    ")"
   ]
  },
  {
   "cell_type": "markdown",
   "id": "141b27b9-db2b-44ef-81cf-7eda998a4987",
   "metadata": {},
   "source": [
    "### attributes"
   ]
  },
  {
   "cell_type": "code",
   "execution_count": 7,
   "id": "ce28c06c-3ab5-4730-a4b3-52faa1d55caf",
   "metadata": {},
   "outputs": [
    {
     "data": {
      "text/plain": [
       "True"
      ]
     },
     "execution_count": 7,
     "metadata": {},
     "output_type": "execute_result"
    }
   ],
   "source": [
    "np.allclose(ts_discrete.data, tsnew_discrete.data)"
   ]
  },
  {
   "cell_type": "code",
   "execution_count": 8,
   "id": "d003fc1f-ad2f-4539-a1b1-379ee09eca3c",
   "metadata": {},
   "outputs": [
    {
     "data": {
      "text/plain": [
       "False"
      ]
     },
     "execution_count": 8,
     "metadata": {},
     "output_type": "execute_result"
    }
   ],
   "source": [
    "ts_discrete.data_array.equals(tsnew_discrete.data_array)"
   ]
  },
  {
   "cell_type": "markdown",
   "id": "9cd99a27-c22c-444b-a8c9-5660d54fc589",
   "metadata": {},
   "source": [
    "> Internal storage format differs (timedelta vs quantity). Also, the interpolation is yet not stored in the GS version"
   ]
  },
  {
   "cell_type": "code",
   "execution_count": 9,
   "id": "38300799-e662-4ab5-aabf-d6a7232b931d",
   "metadata": {},
   "outputs": [
    {
     "data": {
      "text/html": [
       "<div><svg style=\"position: absolute; width: 0; height: 0; overflow: hidden\">\n",
       "<defs>\n",
       "<symbol id=\"icon-database\" viewBox=\"0 0 32 32\">\n",
       "<path d=\"M16 0c-8.837 0-16 2.239-16 5v4c0 2.761 7.163 5 16 5s16-2.239 16-5v-4c0-2.761-7.163-5-16-5z\"></path>\n",
       "<path d=\"M16 17c-8.837 0-16-2.239-16-5v6c0 2.761 7.163 5 16 5s16-2.239 16-5v-6c0 2.761-7.163 5-16 5z\"></path>\n",
       "<path d=\"M16 26c-8.837 0-16-2.239-16-5v6c0 2.761 7.163 5 16 5s16-2.239 16-5v-6c0 2.761-7.163 5-16 5z\"></path>\n",
       "</symbol>\n",
       "<symbol id=\"icon-file-text2\" viewBox=\"0 0 32 32\">\n",
       "<path d=\"M28.681 7.159c-0.694-0.947-1.662-2.053-2.724-3.116s-2.169-2.030-3.116-2.724c-1.612-1.182-2.393-1.319-2.841-1.319h-15.5c-1.378 0-2.5 1.121-2.5 2.5v27c0 1.378 1.122 2.5 2.5 2.5h23c1.378 0 2.5-1.122 2.5-2.5v-19.5c0-0.448-0.137-1.23-1.319-2.841zM24.543 5.457c0.959 0.959 1.712 1.825 2.268 2.543h-4.811v-4.811c0.718 0.556 1.584 1.309 2.543 2.268zM28 29.5c0 0.271-0.229 0.5-0.5 0.5h-23c-0.271 0-0.5-0.229-0.5-0.5v-27c0-0.271 0.229-0.5 0.5-0.5 0 0 15.499-0 15.5 0v7c0 0.552 0.448 1 1 1h7v19.5z\"></path>\n",
       "<path d=\"M23 26h-14c-0.552 0-1-0.448-1-1s0.448-1 1-1h14c0.552 0 1 0.448 1 1s-0.448 1-1 1z\"></path>\n",
       "<path d=\"M23 22h-14c-0.552 0-1-0.448-1-1s0.448-1 1-1h14c0.552 0 1 0.448 1 1s-0.448 1-1 1z\"></path>\n",
       "<path d=\"M23 18h-14c-0.552 0-1-0.448-1-1s0.448-1 1-1h14c0.552 0 1 0.448 1 1s-0.448 1-1 1z\"></path>\n",
       "</symbol>\n",
       "</defs>\n",
       "</svg>\n",
       "<style>/* CSS stylesheet for displaying xarray objects in jupyterlab.\n",
       " *\n",
       " */\n",
       "\n",
       ":root {\n",
       "  --xr-font-color0: var(--jp-content-font-color0, rgba(0, 0, 0, 1));\n",
       "  --xr-font-color2: var(--jp-content-font-color2, rgba(0, 0, 0, 0.54));\n",
       "  --xr-font-color3: var(--jp-content-font-color3, rgba(0, 0, 0, 0.38));\n",
       "  --xr-border-color: var(--jp-border-color2, #e0e0e0);\n",
       "  --xr-disabled-color: var(--jp-layout-color3, #bdbdbd);\n",
       "  --xr-background-color: var(--jp-layout-color0, white);\n",
       "  --xr-background-color-row-even: var(--jp-layout-color1, white);\n",
       "  --xr-background-color-row-odd: var(--jp-layout-color2, #eeeeee);\n",
       "}\n",
       "\n",
       "html[theme=dark],\n",
       "body.vscode-dark {\n",
       "  --xr-font-color0: rgba(255, 255, 255, 1);\n",
       "  --xr-font-color2: rgba(255, 255, 255, 0.54);\n",
       "  --xr-font-color3: rgba(255, 255, 255, 0.38);\n",
       "  --xr-border-color: #1F1F1F;\n",
       "  --xr-disabled-color: #515151;\n",
       "  --xr-background-color: #111111;\n",
       "  --xr-background-color-row-even: #111111;\n",
       "  --xr-background-color-row-odd: #313131;\n",
       "}\n",
       "\n",
       ".xr-wrap {\n",
       "  display: block;\n",
       "  min-width: 300px;\n",
       "  max-width: 700px;\n",
       "}\n",
       "\n",
       ".xr-text-repr-fallback {\n",
       "  /* fallback to plain text repr when CSS is not injected (untrusted notebook) */\n",
       "  display: none;\n",
       "}\n",
       "\n",
       ".xr-header {\n",
       "  padding-top: 6px;\n",
       "  padding-bottom: 6px;\n",
       "  margin-bottom: 4px;\n",
       "  border-bottom: solid 1px var(--xr-border-color);\n",
       "}\n",
       "\n",
       ".xr-header > div,\n",
       ".xr-header > ul {\n",
       "  display: inline;\n",
       "  margin-top: 0;\n",
       "  margin-bottom: 0;\n",
       "}\n",
       "\n",
       ".xr-obj-type,\n",
       ".xr-array-name {\n",
       "  margin-left: 2px;\n",
       "  margin-right: 10px;\n",
       "}\n",
       "\n",
       ".xr-obj-type {\n",
       "  color: var(--xr-font-color2);\n",
       "}\n",
       "\n",
       ".xr-sections {\n",
       "  padding-left: 0 !important;\n",
       "  display: grid;\n",
       "  grid-template-columns: 150px auto auto 1fr 20px 20px;\n",
       "}\n",
       "\n",
       ".xr-section-item {\n",
       "  display: contents;\n",
       "}\n",
       "\n",
       ".xr-section-item input {\n",
       "  display: none;\n",
       "}\n",
       "\n",
       ".xr-section-item input + label {\n",
       "  color: var(--xr-disabled-color);\n",
       "}\n",
       "\n",
       ".xr-section-item input:enabled + label {\n",
       "  cursor: pointer;\n",
       "  color: var(--xr-font-color2);\n",
       "}\n",
       "\n",
       ".xr-section-item input:enabled + label:hover {\n",
       "  color: var(--xr-font-color0);\n",
       "}\n",
       "\n",
       ".xr-section-summary {\n",
       "  grid-column: 1;\n",
       "  color: var(--xr-font-color2);\n",
       "  font-weight: 500;\n",
       "}\n",
       "\n",
       ".xr-section-summary > span {\n",
       "  display: inline-block;\n",
       "  padding-left: 0.5em;\n",
       "}\n",
       "\n",
       ".xr-section-summary-in:disabled + label {\n",
       "  color: var(--xr-font-color2);\n",
       "}\n",
       "\n",
       ".xr-section-summary-in + label:before {\n",
       "  display: inline-block;\n",
       "  content: '►';\n",
       "  font-size: 11px;\n",
       "  width: 15px;\n",
       "  text-align: center;\n",
       "}\n",
       "\n",
       ".xr-section-summary-in:disabled + label:before {\n",
       "  color: var(--xr-disabled-color);\n",
       "}\n",
       "\n",
       ".xr-section-summary-in:checked + label:before {\n",
       "  content: '▼';\n",
       "}\n",
       "\n",
       ".xr-section-summary-in:checked + label > span {\n",
       "  display: none;\n",
       "}\n",
       "\n",
       ".xr-section-summary,\n",
       ".xr-section-inline-details {\n",
       "  padding-top: 4px;\n",
       "  padding-bottom: 4px;\n",
       "}\n",
       "\n",
       ".xr-section-inline-details {\n",
       "  grid-column: 2 / -1;\n",
       "}\n",
       "\n",
       ".xr-section-details {\n",
       "  display: none;\n",
       "  grid-column: 1 / -1;\n",
       "  margin-bottom: 5px;\n",
       "}\n",
       "\n",
       ".xr-section-summary-in:checked ~ .xr-section-details {\n",
       "  display: contents;\n",
       "}\n",
       "\n",
       ".xr-array-wrap {\n",
       "  grid-column: 1 / -1;\n",
       "  display: grid;\n",
       "  grid-template-columns: 20px auto;\n",
       "}\n",
       "\n",
       ".xr-array-wrap > label {\n",
       "  grid-column: 1;\n",
       "  vertical-align: top;\n",
       "}\n",
       "\n",
       ".xr-preview {\n",
       "  color: var(--xr-font-color3);\n",
       "}\n",
       "\n",
       ".xr-array-preview,\n",
       ".xr-array-data {\n",
       "  padding: 0 5px !important;\n",
       "  grid-column: 2;\n",
       "}\n",
       "\n",
       ".xr-array-data,\n",
       ".xr-array-in:checked ~ .xr-array-preview {\n",
       "  display: none;\n",
       "}\n",
       "\n",
       ".xr-array-in:checked ~ .xr-array-data,\n",
       ".xr-array-preview {\n",
       "  display: inline-block;\n",
       "}\n",
       "\n",
       ".xr-dim-list {\n",
       "  display: inline-block !important;\n",
       "  list-style: none;\n",
       "  padding: 0 !important;\n",
       "  margin: 0;\n",
       "}\n",
       "\n",
       ".xr-dim-list li {\n",
       "  display: inline-block;\n",
       "  padding: 0;\n",
       "  margin: 0;\n",
       "}\n",
       "\n",
       ".xr-dim-list:before {\n",
       "  content: '(';\n",
       "}\n",
       "\n",
       ".xr-dim-list:after {\n",
       "  content: ')';\n",
       "}\n",
       "\n",
       ".xr-dim-list li:not(:last-child):after {\n",
       "  content: ',';\n",
       "  padding-right: 5px;\n",
       "}\n",
       "\n",
       ".xr-has-index {\n",
       "  font-weight: bold;\n",
       "}\n",
       "\n",
       ".xr-var-list,\n",
       ".xr-var-item {\n",
       "  display: contents;\n",
       "}\n",
       "\n",
       ".xr-var-item > div,\n",
       ".xr-var-item label,\n",
       ".xr-var-item > .xr-var-name span {\n",
       "  background-color: var(--xr-background-color-row-even);\n",
       "  margin-bottom: 0;\n",
       "}\n",
       "\n",
       ".xr-var-item > .xr-var-name:hover span {\n",
       "  padding-right: 5px;\n",
       "}\n",
       "\n",
       ".xr-var-list > li:nth-child(odd) > div,\n",
       ".xr-var-list > li:nth-child(odd) > label,\n",
       ".xr-var-list > li:nth-child(odd) > .xr-var-name span {\n",
       "  background-color: var(--xr-background-color-row-odd);\n",
       "}\n",
       "\n",
       ".xr-var-name {\n",
       "  grid-column: 1;\n",
       "}\n",
       "\n",
       ".xr-var-dims {\n",
       "  grid-column: 2;\n",
       "}\n",
       "\n",
       ".xr-var-dtype {\n",
       "  grid-column: 3;\n",
       "  text-align: right;\n",
       "  color: var(--xr-font-color2);\n",
       "}\n",
       "\n",
       ".xr-var-preview {\n",
       "  grid-column: 4;\n",
       "}\n",
       "\n",
       ".xr-var-name,\n",
       ".xr-var-dims,\n",
       ".xr-var-dtype,\n",
       ".xr-preview,\n",
       ".xr-attrs dt {\n",
       "  white-space: nowrap;\n",
       "  overflow: hidden;\n",
       "  text-overflow: ellipsis;\n",
       "  padding-right: 10px;\n",
       "}\n",
       "\n",
       ".xr-var-name:hover,\n",
       ".xr-var-dims:hover,\n",
       ".xr-var-dtype:hover,\n",
       ".xr-attrs dt:hover {\n",
       "  overflow: visible;\n",
       "  width: auto;\n",
       "  z-index: 1;\n",
       "}\n",
       "\n",
       ".xr-var-attrs,\n",
       ".xr-var-data {\n",
       "  display: none;\n",
       "  background-color: var(--xr-background-color) !important;\n",
       "  padding-bottom: 5px !important;\n",
       "}\n",
       "\n",
       ".xr-var-attrs-in:checked ~ .xr-var-attrs,\n",
       ".xr-var-data-in:checked ~ .xr-var-data {\n",
       "  display: block;\n",
       "}\n",
       "\n",
       ".xr-var-data > table {\n",
       "  float: right;\n",
       "}\n",
       "\n",
       ".xr-var-name span,\n",
       ".xr-var-data,\n",
       ".xr-attrs {\n",
       "  padding-left: 25px !important;\n",
       "}\n",
       "\n",
       ".xr-attrs,\n",
       ".xr-var-attrs,\n",
       ".xr-var-data {\n",
       "  grid-column: 1 / -1;\n",
       "}\n",
       "\n",
       "dl.xr-attrs {\n",
       "  padding: 0;\n",
       "  margin: 0;\n",
       "  display: grid;\n",
       "  grid-template-columns: 125px auto;\n",
       "}\n",
       "\n",
       ".xr-attrs dt,\n",
       ".xr-attrs dd {\n",
       "  padding: 0;\n",
       "  margin: 0;\n",
       "  float: left;\n",
       "  padding-right: 10px;\n",
       "  width: auto;\n",
       "}\n",
       "\n",
       ".xr-attrs dt {\n",
       "  font-weight: normal;\n",
       "  grid-column: 1;\n",
       "}\n",
       "\n",
       ".xr-attrs dt:hover span {\n",
       "  display: inline-block;\n",
       "  background: var(--xr-background-color);\n",
       "  padding-right: 10px;\n",
       "}\n",
       "\n",
       ".xr-attrs dd {\n",
       "  grid-column: 2;\n",
       "  white-space: pre-wrap;\n",
       "  word-break: break-all;\n",
       "}\n",
       "\n",
       ".xr-icon-database,\n",
       ".xr-icon-file-text2 {\n",
       "  display: inline-block;\n",
       "  vertical-align: middle;\n",
       "  width: 1em;\n",
       "  height: 1.5em !important;\n",
       "  stroke-width: 0;\n",
       "  stroke: currentColor;\n",
       "  fill: currentColor;\n",
       "}\n",
       "</style><pre class='xr-text-repr-fallback'>&lt;xarray.DataArray (time: 3)&gt;\n",
       "&lt;Quantity([1 3 5], &#x27;meter&#x27;)&gt;\n",
       "Coordinates:\n",
       "  * time     (time) timedelta64[ns] 00:00:01 00:00:02 00:00:03\n",
       "Attributes:\n",
       "    interpolation:  step</pre><div class='xr-wrap' hidden><div class='xr-header'><div class='xr-obj-type'>xarray.DataArray</div><div class='xr-array-name'></div><ul class='xr-dim-list'><li><span class='xr-has-index'>time</span>: 3</li></ul></div><ul class='xr-sections'><li class='xr-section-item'><div class='xr-array-wrap'><input id='section-f80a70d6-9a6b-4b61-bc1c-6e71d4f5700b' class='xr-array-in' type='checkbox' checked><label for='section-f80a70d6-9a6b-4b61-bc1c-6e71d4f5700b' title='Show/hide data repr'><svg class='icon xr-icon-database'><use xlink:href='#icon-database'></use></svg></label><div class='xr-array-preview xr-preview'><span>[m] 1 3 5</span></div><div class='xr-array-data'><table><tbody><tr><th>Magnitude</th><td style='text-align:left;'><pre>[1 3 5]</pre></td></tr><tr><th>Units</th><td style='text-align:left;'>m</td></tr></tbody></table></div></div></li><li class='xr-section-item'><input id='section-02af9be7-dbb5-4ec2-8b28-8435080c9084' class='xr-section-summary-in' type='checkbox'  checked><label for='section-02af9be7-dbb5-4ec2-8b28-8435080c9084' class='xr-section-summary' >Coordinates: <span>(1)</span></label><div class='xr-section-inline-details'></div><div class='xr-section-details'><ul class='xr-var-list'><li class='xr-var-item'><div class='xr-var-name'><span class='xr-has-index'>time</span></div><div class='xr-var-dims'>(time)</div><div class='xr-var-dtype'>timedelta64[ns]</div><div class='xr-var-preview xr-preview'>00:00:01 00:00:02 00:00:03</div><input id='attrs-84f76823-0816-4e94-bc0f-9bc605c7678f' class='xr-var-attrs-in' type='checkbox' disabled><label for='attrs-84f76823-0816-4e94-bc0f-9bc605c7678f' title='Show/Hide attributes'><svg class='icon xr-icon-file-text2'><use xlink:href='#icon-file-text2'></use></svg></label><input id='data-7aded165-1457-4226-9f9f-bf0b7bf863e3' class='xr-var-data-in' type='checkbox'><label for='data-7aded165-1457-4226-9f9f-bf0b7bf863e3' title='Show/Hide data repr'><svg class='icon xr-icon-database'><use xlink:href='#icon-database'></use></svg></label><div class='xr-var-attrs'><dl class='xr-attrs'></dl></div><div class='xr-var-data'><pre>array([1000000000, 2000000000, 3000000000], dtype=&#x27;timedelta64[ns]&#x27;)</pre></div></li></ul></div></li><li class='xr-section-item'><input id='section-80e599a1-7e5c-4eac-96d7-35f73cbfa282' class='xr-section-summary-in' type='checkbox'  checked><label for='section-80e599a1-7e5c-4eac-96d7-35f73cbfa282' class='xr-section-summary' >Attributes: <span>(1)</span></label><div class='xr-section-inline-details'></div><div class='xr-section-details'><dl class='xr-attrs'><dt><span>interpolation :</span></dt><dd>step</dd></dl></div></li></ul></div></div>"
      ],
      "text/plain": [
       "<xarray.DataArray (time: 3)>\n",
       "<Quantity([1 3 5], 'meter')>\n",
       "Coordinates:\n",
       "  * time     (time) timedelta64[ns] 00:00:01 00:00:02 00:00:03\n",
       "Attributes:\n",
       "    interpolation:  step"
      ]
     },
     "execution_count": 9,
     "metadata": {},
     "output_type": "execute_result"
    }
   ],
   "source": [
    "ts_discrete.data_array"
   ]
  },
  {
   "cell_type": "code",
   "execution_count": 10,
   "id": "4ebd768f-b74b-44eb-bfb5-41a286c72bf2",
   "metadata": {},
   "outputs": [
    {
     "data": {
      "text/html": [
       "<div><svg style=\"position: absolute; width: 0; height: 0; overflow: hidden\">\n",
       "<defs>\n",
       "<symbol id=\"icon-database\" viewBox=\"0 0 32 32\">\n",
       "<path d=\"M16 0c-8.837 0-16 2.239-16 5v4c0 2.761 7.163 5 16 5s16-2.239 16-5v-4c0-2.761-7.163-5-16-5z\"></path>\n",
       "<path d=\"M16 17c-8.837 0-16-2.239-16-5v6c0 2.761 7.163 5 16 5s16-2.239 16-5v-6c0 2.761-7.163 5-16 5z\"></path>\n",
       "<path d=\"M16 26c-8.837 0-16-2.239-16-5v6c0 2.761 7.163 5 16 5s16-2.239 16-5v-6c0 2.761-7.163 5-16 5z\"></path>\n",
       "</symbol>\n",
       "<symbol id=\"icon-file-text2\" viewBox=\"0 0 32 32\">\n",
       "<path d=\"M28.681 7.159c-0.694-0.947-1.662-2.053-2.724-3.116s-2.169-2.030-3.116-2.724c-1.612-1.182-2.393-1.319-2.841-1.319h-15.5c-1.378 0-2.5 1.121-2.5 2.5v27c0 1.378 1.122 2.5 2.5 2.5h23c1.378 0 2.5-1.122 2.5-2.5v-19.5c0-0.448-0.137-1.23-1.319-2.841zM24.543 5.457c0.959 0.959 1.712 1.825 2.268 2.543h-4.811v-4.811c0.718 0.556 1.584 1.309 2.543 2.268zM28 29.5c0 0.271-0.229 0.5-0.5 0.5h-23c-0.271 0-0.5-0.229-0.5-0.5v-27c0-0.271 0.229-0.5 0.5-0.5 0 0 15.499-0 15.5 0v7c0 0.552 0.448 1 1 1h7v19.5z\"></path>\n",
       "<path d=\"M23 26h-14c-0.552 0-1-0.448-1-1s0.448-1 1-1h14c0.552 0 1 0.448 1 1s-0.448 1-1 1z\"></path>\n",
       "<path d=\"M23 22h-14c-0.552 0-1-0.448-1-1s0.448-1 1-1h14c0.552 0 1 0.448 1 1s-0.448 1-1 1z\"></path>\n",
       "<path d=\"M23 18h-14c-0.552 0-1-0.448-1-1s0.448-1 1-1h14c0.552 0 1 0.448 1 1s-0.448 1-1 1z\"></path>\n",
       "</symbol>\n",
       "</defs>\n",
       "</svg>\n",
       "<style>/* CSS stylesheet for displaying xarray objects in jupyterlab.\n",
       " *\n",
       " */\n",
       "\n",
       ":root {\n",
       "  --xr-font-color0: var(--jp-content-font-color0, rgba(0, 0, 0, 1));\n",
       "  --xr-font-color2: var(--jp-content-font-color2, rgba(0, 0, 0, 0.54));\n",
       "  --xr-font-color3: var(--jp-content-font-color3, rgba(0, 0, 0, 0.38));\n",
       "  --xr-border-color: var(--jp-border-color2, #e0e0e0);\n",
       "  --xr-disabled-color: var(--jp-layout-color3, #bdbdbd);\n",
       "  --xr-background-color: var(--jp-layout-color0, white);\n",
       "  --xr-background-color-row-even: var(--jp-layout-color1, white);\n",
       "  --xr-background-color-row-odd: var(--jp-layout-color2, #eeeeee);\n",
       "}\n",
       "\n",
       "html[theme=dark],\n",
       "body.vscode-dark {\n",
       "  --xr-font-color0: rgba(255, 255, 255, 1);\n",
       "  --xr-font-color2: rgba(255, 255, 255, 0.54);\n",
       "  --xr-font-color3: rgba(255, 255, 255, 0.38);\n",
       "  --xr-border-color: #1F1F1F;\n",
       "  --xr-disabled-color: #515151;\n",
       "  --xr-background-color: #111111;\n",
       "  --xr-background-color-row-even: #111111;\n",
       "  --xr-background-color-row-odd: #313131;\n",
       "}\n",
       "\n",
       ".xr-wrap {\n",
       "  display: block;\n",
       "  min-width: 300px;\n",
       "  max-width: 700px;\n",
       "}\n",
       "\n",
       ".xr-text-repr-fallback {\n",
       "  /* fallback to plain text repr when CSS is not injected (untrusted notebook) */\n",
       "  display: none;\n",
       "}\n",
       "\n",
       ".xr-header {\n",
       "  padding-top: 6px;\n",
       "  padding-bottom: 6px;\n",
       "  margin-bottom: 4px;\n",
       "  border-bottom: solid 1px var(--xr-border-color);\n",
       "}\n",
       "\n",
       ".xr-header > div,\n",
       ".xr-header > ul {\n",
       "  display: inline;\n",
       "  margin-top: 0;\n",
       "  margin-bottom: 0;\n",
       "}\n",
       "\n",
       ".xr-obj-type,\n",
       ".xr-array-name {\n",
       "  margin-left: 2px;\n",
       "  margin-right: 10px;\n",
       "}\n",
       "\n",
       ".xr-obj-type {\n",
       "  color: var(--xr-font-color2);\n",
       "}\n",
       "\n",
       ".xr-sections {\n",
       "  padding-left: 0 !important;\n",
       "  display: grid;\n",
       "  grid-template-columns: 150px auto auto 1fr 20px 20px;\n",
       "}\n",
       "\n",
       ".xr-section-item {\n",
       "  display: contents;\n",
       "}\n",
       "\n",
       ".xr-section-item input {\n",
       "  display: none;\n",
       "}\n",
       "\n",
       ".xr-section-item input + label {\n",
       "  color: var(--xr-disabled-color);\n",
       "}\n",
       "\n",
       ".xr-section-item input:enabled + label {\n",
       "  cursor: pointer;\n",
       "  color: var(--xr-font-color2);\n",
       "}\n",
       "\n",
       ".xr-section-item input:enabled + label:hover {\n",
       "  color: var(--xr-font-color0);\n",
       "}\n",
       "\n",
       ".xr-section-summary {\n",
       "  grid-column: 1;\n",
       "  color: var(--xr-font-color2);\n",
       "  font-weight: 500;\n",
       "}\n",
       "\n",
       ".xr-section-summary > span {\n",
       "  display: inline-block;\n",
       "  padding-left: 0.5em;\n",
       "}\n",
       "\n",
       ".xr-section-summary-in:disabled + label {\n",
       "  color: var(--xr-font-color2);\n",
       "}\n",
       "\n",
       ".xr-section-summary-in + label:before {\n",
       "  display: inline-block;\n",
       "  content: '►';\n",
       "  font-size: 11px;\n",
       "  width: 15px;\n",
       "  text-align: center;\n",
       "}\n",
       "\n",
       ".xr-section-summary-in:disabled + label:before {\n",
       "  color: var(--xr-disabled-color);\n",
       "}\n",
       "\n",
       ".xr-section-summary-in:checked + label:before {\n",
       "  content: '▼';\n",
       "}\n",
       "\n",
       ".xr-section-summary-in:checked + label > span {\n",
       "  display: none;\n",
       "}\n",
       "\n",
       ".xr-section-summary,\n",
       ".xr-section-inline-details {\n",
       "  padding-top: 4px;\n",
       "  padding-bottom: 4px;\n",
       "}\n",
       "\n",
       ".xr-section-inline-details {\n",
       "  grid-column: 2 / -1;\n",
       "}\n",
       "\n",
       ".xr-section-details {\n",
       "  display: none;\n",
       "  grid-column: 1 / -1;\n",
       "  margin-bottom: 5px;\n",
       "}\n",
       "\n",
       ".xr-section-summary-in:checked ~ .xr-section-details {\n",
       "  display: contents;\n",
       "}\n",
       "\n",
       ".xr-array-wrap {\n",
       "  grid-column: 1 / -1;\n",
       "  display: grid;\n",
       "  grid-template-columns: 20px auto;\n",
       "}\n",
       "\n",
       ".xr-array-wrap > label {\n",
       "  grid-column: 1;\n",
       "  vertical-align: top;\n",
       "}\n",
       "\n",
       ".xr-preview {\n",
       "  color: var(--xr-font-color3);\n",
       "}\n",
       "\n",
       ".xr-array-preview,\n",
       ".xr-array-data {\n",
       "  padding: 0 5px !important;\n",
       "  grid-column: 2;\n",
       "}\n",
       "\n",
       ".xr-array-data,\n",
       ".xr-array-in:checked ~ .xr-array-preview {\n",
       "  display: none;\n",
       "}\n",
       "\n",
       ".xr-array-in:checked ~ .xr-array-data,\n",
       ".xr-array-preview {\n",
       "  display: inline-block;\n",
       "}\n",
       "\n",
       ".xr-dim-list {\n",
       "  display: inline-block !important;\n",
       "  list-style: none;\n",
       "  padding: 0 !important;\n",
       "  margin: 0;\n",
       "}\n",
       "\n",
       ".xr-dim-list li {\n",
       "  display: inline-block;\n",
       "  padding: 0;\n",
       "  margin: 0;\n",
       "}\n",
       "\n",
       ".xr-dim-list:before {\n",
       "  content: '(';\n",
       "}\n",
       "\n",
       ".xr-dim-list:after {\n",
       "  content: ')';\n",
       "}\n",
       "\n",
       ".xr-dim-list li:not(:last-child):after {\n",
       "  content: ',';\n",
       "  padding-right: 5px;\n",
       "}\n",
       "\n",
       ".xr-has-index {\n",
       "  font-weight: bold;\n",
       "}\n",
       "\n",
       ".xr-var-list,\n",
       ".xr-var-item {\n",
       "  display: contents;\n",
       "}\n",
       "\n",
       ".xr-var-item > div,\n",
       ".xr-var-item label,\n",
       ".xr-var-item > .xr-var-name span {\n",
       "  background-color: var(--xr-background-color-row-even);\n",
       "  margin-bottom: 0;\n",
       "}\n",
       "\n",
       ".xr-var-item > .xr-var-name:hover span {\n",
       "  padding-right: 5px;\n",
       "}\n",
       "\n",
       ".xr-var-list > li:nth-child(odd) > div,\n",
       ".xr-var-list > li:nth-child(odd) > label,\n",
       ".xr-var-list > li:nth-child(odd) > .xr-var-name span {\n",
       "  background-color: var(--xr-background-color-row-odd);\n",
       "}\n",
       "\n",
       ".xr-var-name {\n",
       "  grid-column: 1;\n",
       "}\n",
       "\n",
       ".xr-var-dims {\n",
       "  grid-column: 2;\n",
       "}\n",
       "\n",
       ".xr-var-dtype {\n",
       "  grid-column: 3;\n",
       "  text-align: right;\n",
       "  color: var(--xr-font-color2);\n",
       "}\n",
       "\n",
       ".xr-var-preview {\n",
       "  grid-column: 4;\n",
       "}\n",
       "\n",
       ".xr-var-name,\n",
       ".xr-var-dims,\n",
       ".xr-var-dtype,\n",
       ".xr-preview,\n",
       ".xr-attrs dt {\n",
       "  white-space: nowrap;\n",
       "  overflow: hidden;\n",
       "  text-overflow: ellipsis;\n",
       "  padding-right: 10px;\n",
       "}\n",
       "\n",
       ".xr-var-name:hover,\n",
       ".xr-var-dims:hover,\n",
       ".xr-var-dtype:hover,\n",
       ".xr-attrs dt:hover {\n",
       "  overflow: visible;\n",
       "  width: auto;\n",
       "  z-index: 1;\n",
       "}\n",
       "\n",
       ".xr-var-attrs,\n",
       ".xr-var-data {\n",
       "  display: none;\n",
       "  background-color: var(--xr-background-color) !important;\n",
       "  padding-bottom: 5px !important;\n",
       "}\n",
       "\n",
       ".xr-var-attrs-in:checked ~ .xr-var-attrs,\n",
       ".xr-var-data-in:checked ~ .xr-var-data {\n",
       "  display: block;\n",
       "}\n",
       "\n",
       ".xr-var-data > table {\n",
       "  float: right;\n",
       "}\n",
       "\n",
       ".xr-var-name span,\n",
       ".xr-var-data,\n",
       ".xr-attrs {\n",
       "  padding-left: 25px !important;\n",
       "}\n",
       "\n",
       ".xr-attrs,\n",
       ".xr-var-attrs,\n",
       ".xr-var-data {\n",
       "  grid-column: 1 / -1;\n",
       "}\n",
       "\n",
       "dl.xr-attrs {\n",
       "  padding: 0;\n",
       "  margin: 0;\n",
       "  display: grid;\n",
       "  grid-template-columns: 125px auto;\n",
       "}\n",
       "\n",
       ".xr-attrs dt,\n",
       ".xr-attrs dd {\n",
       "  padding: 0;\n",
       "  margin: 0;\n",
       "  float: left;\n",
       "  padding-right: 10px;\n",
       "  width: auto;\n",
       "}\n",
       "\n",
       ".xr-attrs dt {\n",
       "  font-weight: normal;\n",
       "  grid-column: 1;\n",
       "}\n",
       "\n",
       ".xr-attrs dt:hover span {\n",
       "  display: inline-block;\n",
       "  background: var(--xr-background-color);\n",
       "  padding-right: 10px;\n",
       "}\n",
       "\n",
       ".xr-attrs dd {\n",
       "  grid-column: 2;\n",
       "  white-space: pre-wrap;\n",
       "  word-break: break-all;\n",
       "}\n",
       "\n",
       ".xr-icon-database,\n",
       ".xr-icon-file-text2 {\n",
       "  display: inline-block;\n",
       "  vertical-align: middle;\n",
       "  width: 1em;\n",
       "  height: 1.5em !important;\n",
       "  stroke-width: 0;\n",
       "  stroke: currentColor;\n",
       "  fill: currentColor;\n",
       "}\n",
       "</style><pre class='xr-text-repr-fallback'>&lt;xarray.DataArray (t: 3)&gt;\n",
       "&lt;Quantity([1 3 5], &#x27;meter&#x27;)&gt;\n",
       "Coordinates:\n",
       "  * t        (t) float64 1.0 2.0 3.0</pre><div class='xr-wrap' hidden><div class='xr-header'><div class='xr-obj-type'>xarray.DataArray</div><div class='xr-array-name'></div><ul class='xr-dim-list'><li><span class='xr-has-index'>t</span>: 3</li></ul></div><ul class='xr-sections'><li class='xr-section-item'><div class='xr-array-wrap'><input id='section-9ef16afc-2b19-489d-ac8e-6301bd06744f' class='xr-array-in' type='checkbox' checked><label for='section-9ef16afc-2b19-489d-ac8e-6301bd06744f' title='Show/hide data repr'><svg class='icon xr-icon-database'><use xlink:href='#icon-database'></use></svg></label><div class='xr-array-preview xr-preview'><span>[m] 1 3 5</span></div><div class='xr-array-data'><table><tbody><tr><th>Magnitude</th><td style='text-align:left;'><pre>[1 3 5]</pre></td></tr><tr><th>Units</th><td style='text-align:left;'>m</td></tr></tbody></table></div></div></li><li class='xr-section-item'><input id='section-9d256511-8563-42fa-8ffb-dae75ddc02b6' class='xr-section-summary-in' type='checkbox'  checked><label for='section-9d256511-8563-42fa-8ffb-dae75ddc02b6' class='xr-section-summary' >Coordinates: <span>(1)</span></label><div class='xr-section-inline-details'></div><div class='xr-section-details'><ul class='xr-var-list'><li class='xr-var-item'><div class='xr-var-name'><span class='xr-has-index'>t</span></div><div class='xr-var-dims'>(t)</div><div class='xr-var-dtype'>float64</div><div class='xr-var-preview xr-preview'>1.0 2.0 3.0</div><input id='attrs-185e02c1-0440-418e-a725-c9d5b24a09ac' class='xr-var-attrs-in' type='checkbox' ><label for='attrs-185e02c1-0440-418e-a725-c9d5b24a09ac' title='Show/Hide attributes'><svg class='icon xr-icon-file-text2'><use xlink:href='#icon-file-text2'></use></svg></label><input id='data-2257c8f4-3497-4b0d-8e1f-d827fe222b6d' class='xr-var-data-in' type='checkbox'><label for='data-2257c8f4-3497-4b0d-8e1f-d827fe222b6d' title='Show/Hide data repr'><svg class='icon xr-icon-database'><use xlink:href='#icon-database'></use></svg></label><div class='xr-var-attrs'><dl class='xr-attrs'><dt><span>units :</span></dt><dd>s</dd></dl></div><div class='xr-var-data'><pre>array([1., 2., 3.])</pre></div></li></ul></div></li><li class='xr-section-item'><input id='section-e11b3de4-c608-449c-b0f9-8cd52a03b1ae' class='xr-section-summary-in' type='checkbox' disabled ><label for='section-e11b3de4-c608-449c-b0f9-8cd52a03b1ae' class='xr-section-summary'  title='Expand/collapse section'>Attributes: <span>(0)</span></label><div class='xr-section-inline-details'></div><div class='xr-section-details'><dl class='xr-attrs'></dl></div></li></ul></div></div>"
      ],
      "text/plain": [
       "<xarray.DataArray (t: 3)>\n",
       "<Quantity([1 3 5], 'meter')>\n",
       "Coordinates:\n",
       "  * t        (t) float64 1.0 2.0 3.0"
      ]
     },
     "execution_count": 10,
     "metadata": {},
     "output_type": "execute_result"
    }
   ],
   "source": [
    "tsnew_discrete.data_array"
   ]
  },
  {
   "cell_type": "code",
   "execution_count": 11,
   "id": "03997abd-a5ab-4200-a6e3-1f31689bd0b8",
   "metadata": {},
   "outputs": [
    {
     "data": {
      "text/plain": [
       "True"
      ]
     },
     "execution_count": 11,
     "metadata": {},
     "output_type": "execute_result"
    }
   ],
   "source": [
    "ts_discrete.is_discrete == tsnew_discrete.is_discrete == True"
   ]
  },
  {
   "cell_type": "code",
   "execution_count": 12,
   "id": "cf9c98b0-d8e9-4ff3-8f40-2bb3d3fd4fbd",
   "metadata": {},
   "outputs": [
    {
     "data": {
      "text/plain": [
       "True"
      ]
     },
     "execution_count": 12,
     "metadata": {},
     "output_type": "execute_result"
    }
   ],
   "source": [
    "ts_discrete.is_expression == tsnew_discrete.is_expression == False"
   ]
  },
  {
   "cell_type": "code",
   "execution_count": 13,
   "id": "2acd20f4-dd81-431d-92c9-081eec1c3097",
   "metadata": {},
   "outputs": [
    {
     "data": {
      "text/plain": [
       "True"
      ]
     },
     "execution_count": 13,
     "metadata": {},
     "output_type": "execute_result"
    }
   ],
   "source": [
    "ts_discrete.units == tsnew_discrete.units"
   ]
  },
  {
   "cell_type": "code",
   "execution_count": 14,
   "id": "70ff7665-4f60-459b-b599-8ea9044f5222",
   "metadata": {},
   "outputs": [
    {
     "data": {
      "text/plain": [
       "False"
      ]
     },
     "execution_count": 14,
     "metadata": {},
     "output_type": "execute_result"
    }
   ],
   "source": [
    "ts_discrete.interpolation == tsnew_discrete.interpolation"
   ]
  },
  {
   "cell_type": "code",
   "execution_count": 15,
   "id": "8691097e-b60e-43f1-9ae2-ca97b946f0f6",
   "metadata": {},
   "outputs": [
    {
     "data": {
      "text/plain": [
       "'step'"
      ]
     },
     "execution_count": 15,
     "metadata": {},
     "output_type": "execute_result"
    }
   ],
   "source": [
    "ts_discrete.interpolation"
   ]
  },
  {
   "cell_type": "code",
   "execution_count": 16,
   "id": "c2b143b5-bf84-4317-834a-ee0059d63437",
   "metadata": {},
   "outputs": [
    {
     "data": {
      "text/plain": [
       "'linear'"
      ]
     },
     "execution_count": 16,
     "metadata": {},
     "output_type": "execute_result"
    }
   ],
   "source": [
    "tsnew_discrete.interpolation"
   ]
  },
  {
   "cell_type": "code",
   "execution_count": 17,
   "id": "c7de23ae-078c-4482-b97b-9044fad0569a",
   "metadata": {},
   "outputs": [
    {
     "data": {
      "text/plain": [
       "True"
      ]
     },
     "execution_count": 17,
     "metadata": {},
     "output_type": "execute_result"
    }
   ],
   "source": [
    "np.all(ts_discrete.time == tsnew_discrete.time)"
   ]
  },
  {
   "cell_type": "code",
   "execution_count": 18,
   "id": "f092a172-bb83-4265-bd37-0e70ee2456c2",
   "metadata": {},
   "outputs": [
    {
     "data": {
      "text/plain": [
       "False"
      ]
     },
     "execution_count": 18,
     "metadata": {},
     "output_type": "execute_result"
    }
   ],
   "source": [
    "ts_discrete.reference_time == tsnew_discrete.reference_time"
   ]
  },
  {
   "cell_type": "markdown",
   "id": "44ef5148-92fe-4167-b4dd-77e54a69a9d4",
   "metadata": {},
   "source": [
    "> GS version is correct, TS has a bug :)"
   ]
  },
  {
   "cell_type": "code",
   "execution_count": 19,
   "id": "decb2612-b87a-428e-afc0-f8c62831b074",
   "metadata": {},
   "outputs": [],
   "source": [
    "ts_discrete.reference_time"
   ]
  },
  {
   "cell_type": "code",
   "execution_count": 20,
   "id": "81d2dc52-e85f-45a3-8755-f1f4dbaef53d",
   "metadata": {},
   "outputs": [
    {
     "data": {
      "text/plain": [
       "'2000-01-01'"
      ]
     },
     "execution_count": 20,
     "metadata": {},
     "output_type": "execute_result"
    }
   ],
   "source": [
    "tsnew_discrete.reference_time"
   ]
  },
  {
   "cell_type": "markdown",
   "id": "9c40b3e7-6fb9-4494-b360-61918ff82b91",
   "metadata": {},
   "source": [
    "### interpolation"
   ]
  },
  {
   "cell_type": "code",
   "execution_count": 21,
   "id": "813ec301-3c70-4c50-a879-c8d73e5d4fd1",
   "metadata": {},
   "outputs": [
    {
     "data": {
      "text/plain": [
       "<TimeSeries>\n",
       "Constant value:\n",
       "\t5\n",
       "Units:\n",
       "\tm"
      ]
     },
     "execution_count": 21,
     "metadata": {},
     "output_type": "execute_result"
    }
   ],
   "source": [
    "ts_discrete.interp_time(\"3s\")"
   ]
  },
  {
   "cell_type": "code",
   "execution_count": 22,
   "id": "604af568-e4fb-45ab-938c-d4cda0a31b79",
   "metadata": {},
   "outputs": [
    {
     "data": {
      "text/plain": [
       "<newTS>\n",
       "Values:\n",
       "[5.]\n",
       "Dimensions:\n",
       "\t('t',)\n",
       "Coordinates:\n",
       "\tCoordinates:\n",
       "  * t        (t) float64 3.0\n",
       "Units:\n",
       "\tm"
      ]
     },
     "execution_count": 22,
     "metadata": {},
     "output_type": "execute_result"
    }
   ],
   "source": [
    "tsnew_discrete.interp_time(\"3s\")"
   ]
  },
  {
   "cell_type": "code",
   "execution_count": 23,
   "id": "ea9b87e8-62c9-4e3b-918b-4e7147675f76",
   "metadata": {},
   "outputs": [
    {
     "data": {
      "text/html": [
       "<table><tbody><tr><th>Magnitude</th><td style='text-align:left;'><pre>[5.0]</pre></td></tr><tr><th>Units</th><td style='text-align:left;'>m</td></tr></tbody></table>"
      ],
      "text/latex": [
       "$\\begin{pmatrix}5.0\\end{pmatrix}\\ \\mathrm{m}$"
      ],
      "text/plain": [
       "array([5.]) <Unit('meter')>"
      ]
     },
     "execution_count": 23,
     "metadata": {},
     "output_type": "execute_result"
    }
   ],
   "source": [
    "d = tsnew_discrete.interp_time(\"3s\")\n",
    "d.data_array.data"
   ]
  },
  {
   "cell_type": "code",
   "execution_count": 24,
   "id": "269736c5-3628-4f54-9def-d904efc14164",
   "metadata": {},
   "outputs": [
    {
     "data": {
      "text/html": [
       "<pre>5</pre> m"
      ],
      "text/latex": [
       "$\\begin{pmatrix}5\\end{pmatrix}\\ \\mathrm{m}$"
      ],
      "text/plain": [
       "array(5) <Unit('meter')>"
      ]
     },
     "execution_count": 24,
     "metadata": {},
     "output_type": "execute_result"
    }
   ],
   "source": [
    "tsnew_discrete.data_array.sel(t=3).data"
   ]
  },
  {
   "cell_type": "code",
   "execution_count": 25,
   "id": "24484781-4a92-4058-8f81-6a4a3381fbf5",
   "metadata": {},
   "outputs": [
    {
     "data": {
      "text/plain": [
       "True"
      ]
     },
     "execution_count": 25,
     "metadata": {},
     "output_type": "execute_result"
    }
   ],
   "source": [
    "np.allclose(ts_discrete.interp_time(\"3s\").data, tsnew_discrete.interp_time(\"3s\").data)"
   ]
  },
  {
   "cell_type": "code",
   "execution_count": 26,
   "id": "ec51ffbd-6878-4283-b932-fedc30361236",
   "metadata": {},
   "outputs": [
    {
     "data": {
      "text/plain": [
       "False"
      ]
     },
     "execution_count": 26,
     "metadata": {},
     "output_type": "execute_result"
    }
   ],
   "source": [
    "np.allclose(\n",
    "    ts_discrete.interp_time(\"2007\").data, tsnew_discrete.interp_time(\"2007\").data\n",
    ")"
   ]
  },
  {
   "cell_type": "markdown",
   "id": "679aaecd-58d3-4ee4-8082-0ea0ad922d64",
   "metadata": {},
   "source": [
    "> \"Old TS\" seems to be wrong here since it never got a proper support for absolute times. See below"
   ]
  },
  {
   "cell_type": "code",
   "execution_count": 27,
   "id": "959817e5-2303-4d58-89ad-a758f0a21c70",
   "metadata": {},
   "outputs": [
    {
     "data": {
      "text/html": [
       "<table><tbody><tr><th>Magnitude</th><td style='text-align:left;'><pre>[1.0]</pre></td></tr><tr><th>Units</th><td style='text-align:left;'>m</td></tr></tbody></table>"
      ],
      "text/latex": [
       "$\\begin{pmatrix}1.0\\end{pmatrix}\\ \\mathrm{m}$"
      ],
      "text/plain": [
       "array([1.]) <Unit('meter')>"
      ]
     },
     "execution_count": 27,
     "metadata": {},
     "output_type": "execute_result"
    }
   ],
   "source": [
    "ts_discrete.interp_time(\"2007\").data"
   ]
  },
  {
   "cell_type": "code",
   "execution_count": 28,
   "id": "19ec1f74-76eb-40eb-9857-3716d2ebc8d9",
   "metadata": {},
   "outputs": [
    {
     "data": {
      "text/html": [
       "<table><tbody><tr><th>Magnitude</th><td style='text-align:left;'><pre>[5.0]</pre></td></tr><tr><th>Units</th><td style='text-align:left;'>m</td></tr></tbody></table>"
      ],
      "text/latex": [
       "$\\begin{pmatrix}5.0\\end{pmatrix}\\ \\mathrm{m}$"
      ],
      "text/plain": [
       "array([5.]) <Unit('meter')>"
      ]
     },
     "execution_count": 28,
     "metadata": {},
     "output_type": "execute_result"
    }
   ],
   "source": [
    "tsnew_discrete.interp_time(\"2007\").data"
   ]
  },
  {
   "cell_type": "code",
   "execution_count": 29,
   "id": "a74db424-9cf5-42de-9463-b5d86042e3d9",
   "metadata": {},
   "outputs": [
    {
     "data": {
      "text/plain": [
       "True"
      ]
     },
     "execution_count": 29,
     "metadata": {},
     "output_type": "execute_result"
    }
   ],
   "source": [
    "np.allclose(\n",
    "    ts_discrete.interp_time(Q_([1, 2, 3], \"s\")).data,\n",
    "    tsnew_discrete.interp_time(Q_([1, 2, 3], \"s\")).data,\n",
    ")"
   ]
  },
  {
   "cell_type": "markdown",
   "id": "d9d6e7d2-05b2-462a-8963-456b2b4b8c93",
   "metadata": {},
   "source": [
    "## Expression"
   ]
  },
  {
   "cell_type": "markdown",
   "id": "faa74c5e-e934-49e1-9d3d-0231cff7f52c",
   "metadata": {},
   "source": [
    "### `__init__`\n",
    "\n",
    "#### only time parameter allowed"
   ]
  },
  {
   "cell_type": "code",
   "execution_count": 30,
   "id": "ff1a545d-b3d0-44ed-a0f1-a8c4b125c8f8",
   "metadata": {},
   "outputs": [
    {
     "name": "stdout",
     "output_type": "stream",
     "text": [
      "The mathematical expression must have exactly 1 free variable that represents time.\n"
     ]
    }
   ],
   "source": [
    "try:\n",
    "    TimeSeries(MathematicalExpression(\"a*t +b\"))\n",
    "except Exception as e:\n",
    "    print(e)"
   ]
  },
  {
   "cell_type": "code",
   "execution_count": 31,
   "id": "62be162a-8684-4581-88b5-a32a66e383df",
   "metadata": {},
   "outputs": [
    {
     "name": "stdout",
     "output_type": "stream",
     "text": [
      "Cannot convert from 'second' to 'dimensionless'\n",
      "Expression can not be evaluated due to a unit dimensionality error. Ensure that the expressions parameters and the expected variable units are compatible. The original exception was:\n",
      "Cannot convert from 'second' ([time]) to 'dimensionless' (dimensionless)\n"
     ]
    }
   ],
   "source": [
    "try:\n",
    "    newTS(MathematicalExpression(\"a*t +b\"))\n",
    "except Exception as e:\n",
    "    print(e)"
   ]
  },
  {
   "cell_type": "markdown",
   "id": "86a49ff4-97b5-4251-bc08-be89d1c8cc0f",
   "metadata": {},
   "source": [
    "#### units do not match cause t needs a time unit"
   ]
  },
  {
   "cell_type": "code",
   "execution_count": 32,
   "id": "00a73221-e15e-42d4-94c2-74272aa8661a",
   "metadata": {},
   "outputs": [
    {
     "name": "stdout",
     "output_type": "stream",
     "text": [
      "Expression can not be evaluated with \"weldx.Quantity(1, \"seconds\")\". Ensure that every parameter posses the correct unit.\n"
     ]
    }
   ],
   "source": [
    "try:\n",
    "    TimeSeries(MathematicalExpression(\"a*t +b\", parameters=dict(a=5, b=3)))\n",
    "except Exception as e:\n",
    "    print(e)"
   ]
  },
  {
   "cell_type": "code",
   "execution_count": 33,
   "id": "90d01d89-1cf4-48ca-be9a-1f4c2968f5be",
   "metadata": {},
   "outputs": [
    {
     "name": "stdout",
     "output_type": "stream",
     "text": [
      "Cannot convert from 'second' to 'dimensionless'\n",
      "Expression can not be evaluated due to a unit dimensionality error. Ensure that the expressions parameters and the expected variable units are compatible. The original exception was:\n",
      "Cannot convert from 'second' ([time]) to 'dimensionless' (dimensionless)\n"
     ]
    }
   ],
   "source": [
    "### TODO: _required_dimension_units should automatically update the required units\n",
    "try:\n",
    "    newTS(MathematicalExpression(\"a*t +b\", parameters=dict(a=5, b=3)))\n",
    "except Exception as e:\n",
    "    print(e)"
   ]
  },
  {
   "cell_type": "code",
   "execution_count": 34,
   "id": "96305494-55d3-47dc-8470-ac14eb3ded8b",
   "metadata": {},
   "outputs": [],
   "source": [
    "ts_expr = TimeSeries(\n",
    "    MathematicalExpression(\"a*t +b\", parameters=dict(a=\"5/s\", b=3)),\n",
    "    reference_time=\"2000-01-01\",\n",
    ");"
   ]
  },
  {
   "cell_type": "code",
   "execution_count": 35,
   "id": "7fb32470-3270-4be8-b257-bd890def0de8",
   "metadata": {},
   "outputs": [],
   "source": [
    "tsnew_expr = newTS(\n",
    "    MathematicalExpression(\"a*t +b\", parameters=dict(a=\"5/s\", b=3)),\n",
    "    reference_time=\"2000-01-01\",\n",
    ");"
   ]
  },
  {
   "cell_type": "markdown",
   "id": "7d0ee0ae-e901-405d-b328-5b77d7594a14",
   "metadata": {},
   "source": [
    "### properties"
   ]
  },
  {
   "cell_type": "code",
   "execution_count": 36,
   "id": "d03c538f-a567-447e-b21a-86d262735469",
   "metadata": {},
   "outputs": [
    {
     "data": {
      "text/plain": [
       "True"
      ]
     },
     "execution_count": 36,
     "metadata": {},
     "output_type": "execute_result"
    }
   ],
   "source": [
    "ts_expr.data == tsnew_expr.data"
   ]
  },
  {
   "cell_type": "code",
   "execution_count": 37,
   "id": "e3989191-eacd-451d-93ed-effd206bceeb",
   "metadata": {},
   "outputs": [
    {
     "data": {
      "text/plain": [
       "True"
      ]
     },
     "execution_count": 37,
     "metadata": {},
     "output_type": "execute_result"
    }
   ],
   "source": [
    "ts_expr.data_array == tsnew_expr.data_array"
   ]
  },
  {
   "cell_type": "code",
   "execution_count": 38,
   "id": "3bd39d60-d55b-414e-8c3a-49b43f757d21",
   "metadata": {},
   "outputs": [
    {
     "data": {
      "text/plain": [
       "True"
      ]
     },
     "execution_count": 38,
     "metadata": {},
     "output_type": "execute_result"
    }
   ],
   "source": [
    "ts_expr.is_discrete == tsnew_expr.is_discrete == False"
   ]
  },
  {
   "cell_type": "code",
   "execution_count": 39,
   "id": "01191385-47fa-4bfa-8cfd-e3bf7a0b8759",
   "metadata": {},
   "outputs": [
    {
     "data": {
      "text/plain": [
       "True"
      ]
     },
     "execution_count": 39,
     "metadata": {},
     "output_type": "execute_result"
    }
   ],
   "source": [
    "ts_expr.is_expression == tsnew_expr.is_expression == True"
   ]
  },
  {
   "cell_type": "code",
   "execution_count": 40,
   "id": "f9c95c7b-8c41-41d4-b338-e8752e4cf8d4",
   "metadata": {},
   "outputs": [
    {
     "data": {
      "text/plain": [
       "True"
      ]
     },
     "execution_count": 40,
     "metadata": {},
     "output_type": "execute_result"
    }
   ],
   "source": [
    "ts_expr.units == tsnew_expr.units"
   ]
  },
  {
   "cell_type": "code",
   "execution_count": 41,
   "id": "8c38c3ce-a88f-48e4-9299-fd73b0ec99a9",
   "metadata": {},
   "outputs": [],
   "source": [
    "# ts_expr.shape == ts_expr.shape"
   ]
  },
  {
   "cell_type": "code",
   "execution_count": 42,
   "id": "24cf529f-9a08-435c-8732-09ef6cdf0921",
   "metadata": {},
   "outputs": [],
   "source": [
    "# tsnew_expr.shape"
   ]
  },
  {
   "cell_type": "code",
   "execution_count": 43,
   "id": "ea9f0d5d-1210-463b-adc6-29f06a7c71e4",
   "metadata": {},
   "outputs": [
    {
     "data": {
      "text/plain": [
       "True"
      ]
     },
     "execution_count": 43,
     "metadata": {},
     "output_type": "execute_result"
    }
   ],
   "source": [
    "ts_expr.time == tsnew_expr.time"
   ]
  },
  {
   "cell_type": "code",
   "execution_count": 44,
   "id": "8da08df0-3995-4eea-b466-cf0f558a7497",
   "metadata": {},
   "outputs": [
    {
     "data": {
      "text/plain": [
       "True"
      ]
     },
     "execution_count": 44,
     "metadata": {},
     "output_type": "execute_result"
    }
   ],
   "source": [
    "ts_expr.reference_time == tsnew_expr.reference_time"
   ]
  },
  {
   "cell_type": "code",
   "execution_count": 45,
   "id": "65f0659d-191d-4822-b67d-e9be5f2e93ac",
   "metadata": {},
   "outputs": [
    {
     "data": {
      "text/plain": [
       "False"
      ]
     },
     "execution_count": 45,
     "metadata": {},
     "output_type": "execute_result"
    }
   ],
   "source": [
    "ts_expr.interpolation == tsnew_expr.interpolation"
   ]
  },
  {
   "cell_type": "markdown",
   "id": "8bff184d-0b23-4a5d-b913-6f0a7a8578fd",
   "metadata": {},
   "source": [
    "### interpolation"
   ]
  },
  {
   "cell_type": "code",
   "execution_count": 46,
   "id": "9ea55af2-39de-40c1-893d-1543ba3264a7",
   "metadata": {},
   "outputs": [
    {
     "data": {
      "text/plain": [
       "<TimeSeries>\n",
       "Constant value:\n",
       "\t18.0\n",
       "Units:\n",
       "\t"
      ]
     },
     "execution_count": 46,
     "metadata": {},
     "output_type": "execute_result"
    }
   ],
   "source": [
    "ts_expr.interp_time(\"3s\")"
   ]
  },
  {
   "cell_type": "code",
   "execution_count": 47,
   "id": "f2fc38bf-38d4-4bf8-96d4-c41c8b7c3ae7",
   "metadata": {},
   "outputs": [
    {
     "data": {
      "text/plain": [
       "<newTS>\n",
       "Values:\n",
       "[18.]\n",
       "Dimensions:\n",
       "\t('t',)\n",
       "Coordinates:\n",
       "\tCoordinates:\n",
       "  * t        (t) float64 3.0\n",
       "Units:\n",
       "\t"
      ]
     },
     "execution_count": 47,
     "metadata": {},
     "output_type": "execute_result"
    }
   ],
   "source": [
    "tsnew_expr.interp_time(\"3s\")"
   ]
  },
  {
   "cell_type": "markdown",
   "id": "a4e2e005-3419-4035-95cf-a9ff34360c8c",
   "metadata": {},
   "source": [
    "> TODO: Should return a new `TimeSeries` and not a `GenericSeries`"
   ]
  },
  {
   "cell_type": "code",
   "execution_count": 48,
   "id": "bec99dbd-4d6d-461c-a028-64b8f5e921c0",
   "metadata": {},
   "outputs": [
    {
     "data": {
      "text/plain": [
       "True"
      ]
     },
     "execution_count": 48,
     "metadata": {},
     "output_type": "execute_result"
    }
   ],
   "source": [
    "np.allclose(ts_expr.interp_time(\"3s\").data, tsnew_expr.interp_time(\"3s\").data)"
   ]
  },
  {
   "cell_type": "code",
   "execution_count": 49,
   "id": "706116bf-8ad5-4f7b-ad8c-0bb00bc766ac",
   "metadata": {},
   "outputs": [
    {
     "data": {
      "text/plain": [
       "True"
      ]
     },
     "execution_count": 49,
     "metadata": {},
     "output_type": "execute_result"
    }
   ],
   "source": [
    "np.allclose(ts_expr.interp_time(\"2007\").data, tsnew_expr.interp_time(\"2007\").data)"
   ]
  },
  {
   "cell_type": "code",
   "execution_count": 50,
   "id": "44c107d6-f7f5-4b8c-a8ea-795fd1c1d0a8",
   "metadata": {},
   "outputs": [
    {
     "data": {
      "text/plain": [
       "True"
      ]
     },
     "execution_count": 50,
     "metadata": {},
     "output_type": "execute_result"
    }
   ],
   "source": [
    "np.allclose(\n",
    "    ts_expr.interp_time(Q_([1, 2, 3], \"s\")).data,\n",
    "    tsnew_expr.interp_time(Q_([1, 2, 3], \"s\")).data,\n",
    ")"
   ]
  }
 ],
 "metadata": {
  "kernelspec": {
   "display_name": "weldx",
   "language": "python",
   "name": "weldx"
  },
  "language_info": {
   "codemirror_mode": {
    "name": "ipython",
    "version": 3
   },
   "file_extension": ".py",
   "mimetype": "text/x-python",
   "name": "python",
   "nbconvert_exporter": "python",
   "pygments_lexer": "ipython3",
   "version": "3.8.11"
  }
 },
 "nbformat": 4,
 "nbformat_minor": 5
}
