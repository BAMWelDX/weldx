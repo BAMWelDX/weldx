{
 "cells": [
  {
   "cell_type": "markdown",
   "id": "0b790b11",
   "metadata": {},
   "source": [
    "# Time dependent data / Welding current and voltage\n",
    "\n",
    "[<< PREVIOUS TUTORIAL](01_01_introduction.ipynb) | [NEXT TUTORIAL >>](01_03_geometry.ipynb)\n",
    "\n",
    "## Overview\n",
    "\n",
    "**This tutorial covers:**\n",
    "\n",
    "- Accessing and visualizing time dependent data stored inside a `TimeSeries` class\n",
    "\n",
    "**Requirements:**\n",
    "\n",
    "- Opening and navigating through WelDX files ([tutorial](01_01_introduction.ipynb))"
   ]
  },
  {
   "cell_type": "code",
   "execution_count": 1,
   "id": "a8426d93",
   "metadata": {
    "collapsed": false,
    "jupyter": {
     "outputs_hidden": false
    },
    "nbsphinx": "hidden",
    "tags": []
   },
   "outputs": [],
   "source": [
    "# download the example file for this tutorial\n",
    "\n",
    "from util import download_tutorial_input_file\n",
    "\n",
    "download_tutorial_input_file(print_status=False)"
   ]
  },
  {
   "cell_type": "markdown",
   "id": "3b1861f6",
   "metadata": {
    "tags": []
   },
   "source": [
    "## Plotting data\n",
    "\n",
    "\n",
    "Two important quantities in welding applications are the welding current and welding voltage.\n",
    "Both are constantly monitored during an experiment.\n",
    "The obtained data is a one dimensional array with time being its only dimension.\n",
    "We will extract both from the file and see what we can do with it.\n",
    "First we read the file and get an overview over its content as we learned in the previous tutorial:"
   ]
  },
  {
   "cell_type": "code",
   "execution_count": 2,
   "id": "6947ccf3",
   "metadata": {},
   "outputs": [
    {
     "name": "stderr",
     "output_type": "stream",
     "text": [
      "c:\\users\\vhirtham\\pycharmprojects\\bam\\libo\\libo\\__init__.py:29: UserWarning: Using local libo package files without version information.\n",
      "Consider running 'python setup.py --version' or 'pip install -e .' in the libo root repository\n",
      "  warnings.warn(\n",
      "c:\\users\\vhirtham\\pycharmprojects\\bam\\libo\\libo\\__init__.py:29: UserWarning: Using local libo package files without version information.\n",
      "Consider running 'python setup.py --version' or 'pip install -e .' in the libo root repository\n",
      "  warnings.warn(\n",
      "C:\\Users\\vhirtham\\Miniconda3\\envs\\weldx\\lib\\site-packages\\asdf\\asdf.py:329: AsdfWarning: File 'file:///C:/Users/vhirtham/PycharmProjects/bam/weldx/tutorials/single_pass_weld.wx' was created with extension URI 'asdf://weldx.bam.de/weldx/extensions/weldx-0.1.0' (from package weldx==0.5.0), which is not currently installed\n",
      "  warnings.warn(msg, AsdfWarning)\n"
     ]
    }
   ],
   "source": [
    "from weldx import WeldxFile\n",
    "\n",
    "wxfile = WeldxFile(\"single_pass_weld.wx\")"
   ]
  },
  {
   "cell_type": "code",
   "execution_count": 3,
   "id": "ad733c62",
   "metadata": {},
   "outputs": [
    {
     "name": "stdout",
     "output_type": "stream",
     "text": [
      "\u001b[1mroot\u001b[0m (dict)\n",
      "\u001b[2m├─\u001b[0m\u001b[1mTCP\u001b[0m (LocalCoordinateSystem)\n",
      "\u001b[2m├─\u001b[0m\u001b[1mcoordinate_systems\u001b[0m (CoordinateSystemManager)\n",
      "\u001b[2m├─\u001b[0m\u001b[1mequipment\u001b[0m (list)\n",
      "\u001b[2m│ ├─\u001b[0m[\u001b[1m0\u001b[0m] (MeasurementEquipment)\n",
      "\u001b[2m│ ├─\u001b[0m[\u001b[1m1\u001b[0m] (MeasurementEquipment)\n",
      "\u001b[2m│ └─\u001b[0m[\u001b[1m2\u001b[0m] (MeasurementEquipment)\n",
      "\u001b[2m├─\u001b[0m\u001b[1mmeasurements\u001b[0m (list)\n",
      "\u001b[2m│ ├─\u001b[0m[\u001b[1m0\u001b[0m] (Measurement)\n",
      "\u001b[2m│ ├─\u001b[0m[\u001b[1m1\u001b[0m] (Measurement)\n",
      "\u001b[2m│ ├─\u001b[0m[\u001b[1m2\u001b[0m] (Measurement)\n",
      "\u001b[2m│ └─\u001b[0m[\u001b[1m3\u001b[0m] (Measurement)\n",
      "\u001b[2m├─\u001b[0m\u001b[1mprocess\u001b[0m (dict)\n",
      "\u001b[2m│ ├─\u001b[0m\u001b[1mshielding_gas\u001b[0m (ShieldingGasForProcedure)\n",
      "\u001b[2m│ ├─\u001b[0m\u001b[1mweld_speed\u001b[0m (TimeSeries)\n",
      "\u001b[2m│ ├─\u001b[0m\u001b[1mwelding_process\u001b[0m (GmawProcess)\n",
      "\u001b[2m│ └─\u001b[0m\u001b[1mwelding_wire\u001b[0m (dict)\n",
      "\u001b[2m│   ├─\u001b[0m\u001b[1mclass\u001b[0m (str)\n",
      "\u001b[2m│   ├─\u001b[0m\u001b[1mdiameter\u001b[0m (Q_)\n",
      "\u001b[2m│   └─\u001b[0m\u001b[1mwx_user\u001b[0m (dict)\n",
      "\u001b[2m│     ├─\u001b[0m\u001b[1mcharge id\u001b[0m (str)\n",
      "\u001b[2m│     └─\u001b[0m\u001b[1mmanufacturer\u001b[0m (str)\n",
      "\u001b[2m├─\u001b[0m\u001b[1mreference_timestamp\u001b[0m (Timestamp)\n",
      "\u001b[2m├─\u001b[0m\u001b[1mwelding_current\u001b[0m (TimeSeries)\n",
      "\u001b[2m├─\u001b[0m\u001b[1mwelding_voltage\u001b[0m (TimeSeries)\n",
      "\u001b[2m├─\u001b[0m\u001b[1mworkpiece\u001b[0m (dict)\n",
      "\u001b[2m│ ├─\u001b[0m\u001b[1mbase_metal\u001b[0m (dict)\n",
      "\u001b[2m│ │ ├─\u001b[0m\u001b[1mcommon_name\u001b[0m (str)\n",
      "\u001b[2m│ │ └─\u001b[0m\u001b[1mstandard\u001b[0m (str)\n",
      "\u001b[2m│ └─\u001b[0m\u001b[1mgeometry\u001b[0m (dict)\n",
      "\u001b[2m│   ├─\u001b[0m\u001b[1mgroove_shape\u001b[0m (VGroove)\n",
      "\u001b[2m│   └─\u001b[0m\u001b[1mseam_length\u001b[0m (Q_)\n",
      "\u001b[2m└─\u001b[0m\u001b[1mwx_user\u001b[0m (dict)\n",
      "\u001b[2m  ├─\u001b[0m\u001b[1mWID\u001b[0m (int)\n",
      "\u001b[2m  ├─\u001b[0m\u001b[1moperator\u001b[0m (str)\n",
      "\u001b[2m  └─\u001b[0m\u001b[1mproject\u001b[0m (str)\n"
     ]
    }
   ],
   "source": [
    "wxfile.info()"
   ]
  },
  {
   "cell_type": "markdown",
   "id": "e39afdf8",
   "metadata": {},
   "source": [
    "As we can see in the list, there are the top level items `welding_current` and `welding_voltage`.\n",
    "Let's have a look at the welding current first:"
   ]
  },
  {
   "cell_type": "code",
   "execution_count": 4,
   "id": "fc8288fe",
   "metadata": {},
   "outputs": [],
   "source": [
    "current = wxfile[\"welding_current\"]"
   ]
  },
  {
   "cell_type": "markdown",
   "id": "3ac9e6e8",
   "metadata": {},
   "source": [
    "The object we extracted is of type `TimeSeries` as can be seen in the `info` output.\n",
    "This is a special type provided by WelDX to deal with time dependent data.\n",
    "\n",
    "To see a plot of the `TimeSeries` simply call the built-in `.plot()` function.\n",
    "If you are already familiar with `matplotlib` it is also easy to generate your own plots. We show how to access the underlying data later in this tutorial.\n"
   ]
  },
  {
   "cell_type": "code",
   "execution_count": 5,
   "id": "eb930a4e",
   "metadata": {},
   "outputs": [
    {
     "data": {
      "text/plain": [
       "<AxesSubplot:xlabel='t in s', ylabel='values in A'>"
      ]
     },
     "execution_count": 5,
     "metadata": {},
     "output_type": "execute_result"
    },
    {
     "data": {
      "image/png": "[encoded data removed]",
      "text/plain": [
       "<Figure size 432x288 with 1 Axes>"
      ]
     },
     "metadata": {
      "needs_background": "light"
     },
     "output_type": "display_data"
    }
   ],
   "source": [
    "current.plot()"
   ]
  },
  {
   "cell_type": "markdown",
   "id": "a216b056",
   "metadata": {},
   "source": [
    "The `plot` method is an easy and convenient way to quickly visualize a `TimeSeries`.\n",
    "It labels the axes automatically and attaches the corresponding units to them.\n",
    "\n",
    "Depending on the Python environment you are using, there are some things to consider.\n",
    "Since the `plot` method uses `matplotlib` internally, you have to call the `matplotlib.pyplot.show` function manually after using `plot` when running a regular Python script file.\n",
    "Otherwise, the plot won't show up.\n",
    "\n",
    "This is not the case if you work with a jupyter notebook, where the plots are generated after each cell execution.\n",
    "However, while a regular script will open an interactive window for each plot, the plots inside a notebook can't be modified without additional commands.\n",
    "To enable interactive `matplotlib` plots inside a jupyter notebook, uncomment and run the following magic command:"
   ]
  },
  {
   "cell_type": "code",
   "execution_count": 6,
   "id": "25f7f534",
   "metadata": {},
   "outputs": [],
   "source": [
    "# %matplotlib widget"
   ]
  },
  {
   "cell_type": "markdown",
   "id": "fe4ac787",
   "metadata": {},
   "source": [
    "Now let's plot the welding voltage. \n",
    "Try to interact with the plot if you are running this tutorial as a jupyter notebook.\n",
    "\n",
    "> HINT: Remember that you can run the code of this tutorial by clicking on the binder link at the beginning"
   ]
  },
  {
   "cell_type": "code",
   "execution_count": 7,
   "id": "564c7448",
   "metadata": {},
   "outputs": [
    {
     "data": {
      "text/plain": [
       "<AxesSubplot:xlabel='t in s', ylabel='values in V'>"
      ]
     },
     "execution_count": 7,
     "metadata": {},
     "output_type": "execute_result"
    },
    {
     "data": {
      "image/png": "[encoded data removed]",
      "text/plain": [
       "<Figure size 432x288 with 1 Axes>"
      ]
     },
     "metadata": {
      "needs_background": "light"
     },
     "output_type": "display_data"
    }
   ],
   "source": [
    "voltage = wxfile[\"welding_voltage\"]\n",
    "voltage.plot()"
   ]
  },
  {
   "cell_type": "markdown",
   "id": "b01f2d90",
   "metadata": {},
   "source": [
    "## Accessing the data \n",
    "\n",
    "Now that we know how to get a quick overview over the data by visualizing it with the `plot` method, let's have a look on what else we can do with a `TimeSeries`.\n",
    "While any number of dimensions in addition to time are supported, we expect the welding current to have no further dimensions.\n",
    "We can easily check this using the `shape` property:"
   ]
  },
  {
   "cell_type": "code",
   "execution_count": 8,
   "id": "139d9c83",
   "metadata": {},
   "outputs": [
    {
     "data": {
      "text/plain": [
       "(414091,)"
      ]
     },
     "execution_count": 8,
     "metadata": {},
     "output_type": "execute_result"
    }
   ],
   "source": [
    "current.shape"
   ]
  },
  {
   "cell_type": "markdown",
   "id": "6a501045",
   "metadata": {},
   "source": [
    "From the returned value we see that the data indeed only consists of a single dimension.\n",
    "Furthermore, we get the exact number of data points that are stored in the time series.\n",
    "\n",
    "We already saw in the axes labeling of the plots, that the `TimeSeries` also stores the units of the data \n",
    "We can get it by calling the `units` property:"
   ]
  },
  {
   "cell_type": "code",
   "execution_count": 9,
   "id": "9c8b5e6f",
   "metadata": {},
   "outputs": [
    {
     "data": {
      "text/html": [
       "A"
      ],
      "text/latex": [
       "$\\mathrm{A}$"
      ],
      "text/plain": [
       "<Unit('ampere')>"
      ]
     },
     "execution_count": 9,
     "metadata": {},
     "output_type": "execute_result"
    }
   ],
   "source": [
    "current.units"
   ]
  },
  {
   "cell_type": "markdown",
   "id": "3df0ae53",
   "metadata": {},
   "source": [
    "As one might expect, the unit of the current is amperes, but it might also have been stored in milliamperes.\n",
    "\n",
    "Now, if we want to actually access the stored data, we can extract it from the `TimeSeries` by using its `data` property.\n",
    "The returned object is a `pint.Quantity`.\n"
   ]
  },
  {
   "cell_type": "code",
   "execution_count": 10,
   "id": "0a12c4ad",
   "metadata": {},
   "outputs": [
    {
     "data": {
      "text/plain": [
       "pint.quantity.build_quantity_class.<locals>.Quantity"
      ]
     },
     "execution_count": 10,
     "metadata": {},
     "output_type": "execute_result"
    }
   ],
   "source": [
    "type(current.data)"
   ]
  },
  {
   "cell_type": "markdown",
   "id": "111e503a",
   "metadata": {},
   "source": [
    "A `pint.Quantity` is a thin wrapper around a multi-dimensional array that attaches units to the contained data.\n",
    "They can be used like NumPy arrays and support most of NumPy's functions.\n",
    "For further information on how to work with quantities, consult [Pint's documentation](https://pint.readthedocs.io/en/stable/).\n",
    "\n",
    "An alternative to the `data` property is the `data_array` property.\n",
    "This returns the data as `xarray.DataArray`:"
   ]
  },
  {
   "cell_type": "code",
   "execution_count": 11,
   "id": "bbea89fd",
   "metadata": {},
   "outputs": [
    {
     "data": {
      "text/plain": [
       "xarray.core.dataarray.DataArray"
      ]
     },
     "execution_count": 11,
     "metadata": {},
     "output_type": "execute_result"
    }
   ],
   "source": [
    "type(current.data_array)"
   ]
  },
  {
   "cell_type": "markdown",
   "id": "3f767926",
   "metadata": {},
   "source": [
    "Xarray is a powerful tool that makes working with multi-dimensional arrays easier.\n",
    "When performing operations on an `xarray.DataArray`, it automatically figures out which dimensions of the operands are compatible with each other and how they need to be combined.\n",
    "Visit [the xarray documentation](http://xarray.pydata.org/en/stable/) to learn how to work with xarray classes.\n",
    "\n",
    "We recommend using either xarray or pint when working with the data, but if you feel more comfortable using NumPy, you can convert both types easily to a `numpy.ndarray`.\n",
    "For pint use `.magnitude` or the short version `.m`:"
   ]
  },
  {
   "cell_type": "code",
   "execution_count": 12,
   "id": "82817c02",
   "metadata": {},
   "outputs": [
    {
     "data": {
      "text/plain": [
       "numpy.ndarray"
      ]
     },
     "execution_count": 12,
     "metadata": {},
     "output_type": "execute_result"
    }
   ],
   "source": [
    "type(current.data.magnitude)"
   ]
  },
  {
   "cell_type": "markdown",
   "id": "b0f431bf",
   "metadata": {},
   "source": [
    "For xarray use `.data` to get the data as `pint.Quantity` and then `.magnitude` or `.m` to receive a `numpy.ndarray`:"
   ]
  },
  {
   "cell_type": "code",
   "execution_count": 13,
   "id": "a5ebfbc2",
   "metadata": {},
   "outputs": [
    {
     "data": {
      "text/plain": [
       "numpy.ndarray"
      ]
     },
     "execution_count": 13,
     "metadata": {},
     "output_type": "execute_result"
    }
   ],
   "source": [
    "type(current.data_array.data.magnitude)"
   ]
  },
  {
   "cell_type": "markdown",
   "id": "e0fb1e8e",
   "metadata": {},
   "source": [
    "## Data processing examples\n",
    "\n",
    "Before we conclude this lesson, we will show you some simple examples on how to process the data obtained from a weldx file.\n",
    "Pint and Xarray both offer you some basic functions to get the minimal and maximal values of a dataset or to calculate its mean value.\n",
    "Here are the examples for Pint:"
   ]
  },
  {
   "cell_type": "code",
   "execution_count": 14,
   "id": "fd6105dd",
   "metadata": {},
   "outputs": [
    {
     "data": {
      "text/html": [
       "-0.30517578125 A"
      ],
      "text/latex": [
       "$\\begin{pmatrix}-0.30517578125\\end{pmatrix}\\ \\mathrm{A}$"
      ],
      "text/plain": [
       "array(-0.30517578) <Unit('ampere')>"
      ]
     },
     "execution_count": 14,
     "metadata": {},
     "output_type": "execute_result"
    }
   ],
   "source": [
    "current.data.min()"
   ]
  },
  {
   "cell_type": "code",
   "execution_count": 15,
   "id": "bfa3fef8",
   "metadata": {},
   "outputs": [
    {
     "data": {
      "text/html": [
       "652.618408203125 A"
      ],
      "text/latex": [
       "$\\begin{pmatrix}652.618408203125\\end{pmatrix}\\ \\mathrm{A}$"
      ],
      "text/plain": [
       "array(652.6184082) <Unit('ampere')>"
      ]
     },
     "execution_count": 15,
     "metadata": {},
     "output_type": "execute_result"
    }
   ],
   "source": [
    "current.data.max()"
   ]
  },
  {
   "cell_type": "code",
   "execution_count": 16,
   "id": "1e26263c",
   "metadata": {},
   "outputs": [
    {
     "data": {
      "text/html": [
       "359.0167966923475 A"
      ],
      "text/latex": [
       "$\\begin{pmatrix}359.0167966923475\\end{pmatrix}\\ \\mathrm{A}$"
      ],
      "text/plain": [
       "array(359.01679669) <Unit('ampere')>"
      ]
     },
     "execution_count": 16,
     "metadata": {},
     "output_type": "execute_result"
    }
   ],
   "source": [
    "current.data.mean()"
   ]
  },
  {
   "cell_type": "markdown",
   "id": "90513085",
   "metadata": {},
   "source": [
    "If you exchange `.data` with `.data_array`, you will get the same results just as `xarray.DataArray`.\n",
    "\n",
    "To demonstrate you some features of Xarray and Pint, we will now do a more involved computation by calculating the electric power using the equation:\n",
    "\n",
    "$$ P = \\frac{1}{T} \\int_{t=0}^{T} u \\cdot i \\;\\mathrm{d} t$$\n",
    "\n",
    "$u$ is the time dependent current,  $i$ the time dependent voltage, $t$ the time and $T$ the duration of the measurement.\n",
    "We will do this step by step to keep it simple and to discuss all the things that need to be considered.\n",
    "First we will calculate the integral with [Xarrays `.integrate` function](http://xarray.pydata.org/en/stable/generated/xarray.DataArray.integrate.html) which uses the trapezoidal rule."
   ]
  },
  {
   "cell_type": "code",
   "execution_count": 17,
   "id": "7712022e",
   "metadata": {},
   "outputs": [
    {
     "data": {
      "text/html": [
       "<div><svg style=\"position: absolute; width: 0; height: 0; overflow: hidden\">\n",
       "<defs>\n",
       "<symbol id=\"icon-database\" viewBox=\"0 0 32 32\">\n",
       "<path d=\"M16 0c-8.837 0-16 2.239-16 5v4c0 2.761 7.163 5 16 5s16-2.239 16-5v-4c0-2.761-7.163-5-16-5z\"></path>\n",
       "<path d=\"M16 17c-8.837 0-16-2.239-16-5v6c0 2.761 7.163 5 16 5s16-2.239 16-5v-6c0 2.761-7.163 5-16 5z\"></path>\n",
       "<path d=\"M16 26c-8.837 0-16-2.239-16-5v6c0 2.761 7.163 5 16 5s16-2.239 16-5v-6c0 2.761-7.163 5-16 5z\"></path>\n",
       "</symbol>\n",
       "<symbol id=\"icon-file-text2\" viewBox=\"0 0 32 32\">\n",
       "<path d=\"M28.681 7.159c-0.694-0.947-1.662-2.053-2.724-3.116s-2.169-2.030-3.116-2.724c-1.612-1.182-2.393-1.319-2.841-1.319h-15.5c-1.378 0-2.5 1.121-2.5 2.5v27c0 1.378 1.122 2.5 2.5 2.5h23c1.378 0 2.5-1.122 2.5-2.5v-19.5c0-0.448-0.137-1.23-1.319-2.841zM24.543 5.457c0.959 0.959 1.712 1.825 2.268 2.543h-4.811v-4.811c0.718 0.556 1.584 1.309 2.543 2.268zM28 29.5c0 0.271-0.229 0.5-0.5 0.5h-23c-0.271 0-0.5-0.229-0.5-0.5v-27c0-0.271 0.229-0.5 0.5-0.5 0 0 15.499-0 15.5 0v7c0 0.552 0.448 1 1 1h7v19.5z\"></path>\n",
       "<path d=\"M23 26h-14c-0.552 0-1-0.448-1-1s0.448-1 1-1h14c0.552 0 1 0.448 1 1s-0.448 1-1 1z\"></path>\n",
       "<path d=\"M23 22h-14c-0.552 0-1-0.448-1-1s0.448-1 1-1h14c0.552 0 1 0.448 1 1s-0.448 1-1 1z\"></path>\n",
       "<path d=\"M23 18h-14c-0.552 0-1-0.448-1-1s0.448-1 1-1h14c0.552 0 1 0.448 1 1s-0.448 1-1 1z\"></path>\n",
       "</symbol>\n",
       "</defs>\n",
       "</svg>\n",
       "<style>/* CSS stylesheet for displaying xarray objects in jupyterlab.\n",
       " *\n",
       " */\n",
       "\n",
       ":root {\n",
       "  --xr-font-color0: var(--jp-content-font-color0, rgba(0, 0, 0, 1));\n",
       "  --xr-font-color2: var(--jp-content-font-color2, rgba(0, 0, 0, 0.54));\n",
       "  --xr-font-color3: var(--jp-content-font-color3, rgba(0, 0, 0, 0.38));\n",
       "  --xr-border-color: var(--jp-border-color2, #e0e0e0);\n",
       "  --xr-disabled-color: var(--jp-layout-color3, #bdbdbd);\n",
       "  --xr-background-color: var(--jp-layout-color0, white);\n",
       "  --xr-background-color-row-even: var(--jp-layout-color1, white);\n",
       "  --xr-background-color-row-odd: var(--jp-layout-color2, #eeeeee);\n",
       "}\n",
       "\n",
       "html[theme=dark],\n",
       "body.vscode-dark {\n",
       "  --xr-font-color0: rgba(255, 255, 255, 1);\n",
       "  --xr-font-color2: rgba(255, 255, 255, 0.54);\n",
       "  --xr-font-color3: rgba(255, 255, 255, 0.38);\n",
       "  --xr-border-color: #1F1F1F;\n",
       "  --xr-disabled-color: #515151;\n",
       "  --xr-background-color: #111111;\n",
       "  --xr-background-color-row-even: #111111;\n",
       "  --xr-background-color-row-odd: #313131;\n",
       "}\n",
       "\n",
       ".xr-wrap {\n",
       "  display: block;\n",
       "  min-width: 300px;\n",
       "  max-width: 700px;\n",
       "}\n",
       "\n",
       ".xr-text-repr-fallback {\n",
       "  /* fallback to plain text repr when CSS is not injected (untrusted notebook) */\n",
       "  display: none;\n",
       "}\n",
       "\n",
       ".xr-header {\n",
       "  padding-top: 6px;\n",
       "  padding-bottom: 6px;\n",
       "  margin-bottom: 4px;\n",
       "  border-bottom: solid 1px var(--xr-border-color);\n",
       "}\n",
       "\n",
       ".xr-header > div,\n",
       ".xr-header > ul {\n",
       "  display: inline;\n",
       "  margin-top: 0;\n",
       "  margin-bottom: 0;\n",
       "}\n",
       "\n",
       ".xr-obj-type,\n",
       ".xr-array-name {\n",
       "  margin-left: 2px;\n",
       "  margin-right: 10px;\n",
       "}\n",
       "\n",
       ".xr-obj-type {\n",
       "  color: var(--xr-font-color2);\n",
       "}\n",
       "\n",
       ".xr-sections {\n",
       "  padding-left: 0 !important;\n",
       "  display: grid;\n",
       "  grid-template-columns: 150px auto auto 1fr 20px 20px;\n",
       "}\n",
       "\n",
       ".xr-section-item {\n",
       "  display: contents;\n",
       "}\n",
       "\n",
       ".xr-section-item input {\n",
       "  display: none;\n",
       "}\n",
       "\n",
       ".xr-section-item input + label {\n",
       "  color: var(--xr-disabled-color);\n",
       "}\n",
       "\n",
       ".xr-section-item input:enabled + label {\n",
       "  cursor: pointer;\n",
       "  color: var(--xr-font-color2);\n",
       "}\n",
       "\n",
       ".xr-section-item input:enabled + label:hover {\n",
       "  color: var(--xr-font-color0);\n",
       "}\n",
       "\n",
       ".xr-section-summary {\n",
       "  grid-column: 1;\n",
       "  color: var(--xr-font-color2);\n",
       "  font-weight: 500;\n",
       "}\n",
       "\n",
       ".xr-section-summary > span {\n",
       "  display: inline-block;\n",
       "  padding-left: 0.5em;\n",
       "}\n",
       "\n",
       ".xr-section-summary-in:disabled + label {\n",
       "  color: var(--xr-font-color2);\n",
       "}\n",
       "\n",
       ".xr-section-summary-in + label:before {\n",
       "  display: inline-block;\n",
       "  content: '►';\n",
       "  font-size: 11px;\n",
       "  width: 15px;\n",
       "  text-align: center;\n",
       "}\n",
       "\n",
       ".xr-section-summary-in:disabled + label:before {\n",
       "  color: var(--xr-disabled-color);\n",
       "}\n",
       "\n",
       ".xr-section-summary-in:checked + label:before {\n",
       "  content: '▼';\n",
       "}\n",
       "\n",
       ".xr-section-summary-in:checked + label > span {\n",
       "  display: none;\n",
       "}\n",
       "\n",
       ".xr-section-summary,\n",
       ".xr-section-inline-details {\n",
       "  padding-top: 4px;\n",
       "  padding-bottom: 4px;\n",
       "}\n",
       "\n",
       ".xr-section-inline-details {\n",
       "  grid-column: 2 / -1;\n",
       "}\n",
       "\n",
       ".xr-section-details {\n",
       "  display: none;\n",
       "  grid-column: 1 / -1;\n",
       "  margin-bottom: 5px;\n",
       "}\n",
       "\n",
       ".xr-section-summary-in:checked ~ .xr-section-details {\n",
       "  display: contents;\n",
       "}\n",
       "\n",
       ".xr-array-wrap {\n",
       "  grid-column: 1 / -1;\n",
       "  display: grid;\n",
       "  grid-template-columns: 20px auto;\n",
       "}\n",
       "\n",
       ".xr-array-wrap > label {\n",
       "  grid-column: 1;\n",
       "  vertical-align: top;\n",
       "}\n",
       "\n",
       ".xr-preview {\n",
       "  color: var(--xr-font-color3);\n",
       "}\n",
       "\n",
       ".xr-array-preview,\n",
       ".xr-array-data {\n",
       "  padding: 0 5px !important;\n",
       "  grid-column: 2;\n",
       "}\n",
       "\n",
       ".xr-array-data,\n",
       ".xr-array-in:checked ~ .xr-array-preview {\n",
       "  display: none;\n",
       "}\n",
       "\n",
       ".xr-array-in:checked ~ .xr-array-data,\n",
       ".xr-array-preview {\n",
       "  display: inline-block;\n",
       "}\n",
       "\n",
       ".xr-dim-list {\n",
       "  display: inline-block !important;\n",
       "  list-style: none;\n",
       "  padding: 0 !important;\n",
       "  margin: 0;\n",
       "}\n",
       "\n",
       ".xr-dim-list li {\n",
       "  display: inline-block;\n",
       "  padding: 0;\n",
       "  margin: 0;\n",
       "}\n",
       "\n",
       ".xr-dim-list:before {\n",
       "  content: '(';\n",
       "}\n",
       "\n",
       ".xr-dim-list:after {\n",
       "  content: ')';\n",
       "}\n",
       "\n",
       ".xr-dim-list li:not(:last-child):after {\n",
       "  content: ',';\n",
       "  padding-right: 5px;\n",
       "}\n",
       "\n",
       ".xr-has-index {\n",
       "  font-weight: bold;\n",
       "}\n",
       "\n",
       ".xr-var-list,\n",
       ".xr-var-item {\n",
       "  display: contents;\n",
       "}\n",
       "\n",
       ".xr-var-item > div,\n",
       ".xr-var-item label,\n",
       ".xr-var-item > .xr-var-name span {\n",
       "  background-color: var(--xr-background-color-row-even);\n",
       "  margin-bottom: 0;\n",
       "}\n",
       "\n",
       ".xr-var-item > .xr-var-name:hover span {\n",
       "  padding-right: 5px;\n",
       "}\n",
       "\n",
       ".xr-var-list > li:nth-child(odd) > div,\n",
       ".xr-var-list > li:nth-child(odd) > label,\n",
       ".xr-var-list > li:nth-child(odd) > .xr-var-name span {\n",
       "  background-color: var(--xr-background-color-row-odd);\n",
       "}\n",
       "\n",
       ".xr-var-name {\n",
       "  grid-column: 1;\n",
       "}\n",
       "\n",
       ".xr-var-dims {\n",
       "  grid-column: 2;\n",
       "}\n",
       "\n",
       ".xr-var-dtype {\n",
       "  grid-column: 3;\n",
       "  text-align: right;\n",
       "  color: var(--xr-font-color2);\n",
       "}\n",
       "\n",
       ".xr-var-preview {\n",
       "  grid-column: 4;\n",
       "}\n",
       "\n",
       ".xr-var-name,\n",
       ".xr-var-dims,\n",
       ".xr-var-dtype,\n",
       ".xr-preview,\n",
       ".xr-attrs dt {\n",
       "  white-space: nowrap;\n",
       "  overflow: hidden;\n",
       "  text-overflow: ellipsis;\n",
       "  padding-right: 10px;\n",
       "}\n",
       "\n",
       ".xr-var-name:hover,\n",
       ".xr-var-dims:hover,\n",
       ".xr-var-dtype:hover,\n",
       ".xr-attrs dt:hover {\n",
       "  overflow: visible;\n",
       "  width: auto;\n",
       "  z-index: 1;\n",
       "}\n",
       "\n",
       ".xr-var-attrs,\n",
       ".xr-var-data {\n",
       "  display: none;\n",
       "  background-color: var(--xr-background-color) !important;\n",
       "  padding-bottom: 5px !important;\n",
       "}\n",
       "\n",
       ".xr-var-attrs-in:checked ~ .xr-var-attrs,\n",
       ".xr-var-data-in:checked ~ .xr-var-data {\n",
       "  display: block;\n",
       "}\n",
       "\n",
       ".xr-var-data > table {\n",
       "  float: right;\n",
       "}\n",
       "\n",
       ".xr-var-name span,\n",
       ".xr-var-data,\n",
       ".xr-attrs {\n",
       "  padding-left: 25px !important;\n",
       "}\n",
       "\n",
       ".xr-attrs,\n",
       ".xr-var-attrs,\n",
       ".xr-var-data {\n",
       "  grid-column: 1 / -1;\n",
       "}\n",
       "\n",
       "dl.xr-attrs {\n",
       "  padding: 0;\n",
       "  margin: 0;\n",
       "  display: grid;\n",
       "  grid-template-columns: 125px auto;\n",
       "}\n",
       "\n",
       ".xr-attrs dt,\n",
       ".xr-attrs dd {\n",
       "  padding: 0;\n",
       "  margin: 0;\n",
       "  float: left;\n",
       "  padding-right: 10px;\n",
       "  width: auto;\n",
       "}\n",
       "\n",
       ".xr-attrs dt {\n",
       "  font-weight: normal;\n",
       "  grid-column: 1;\n",
       "}\n",
       "\n",
       ".xr-attrs dt:hover span {\n",
       "  display: inline-block;\n",
       "  background: var(--xr-background-color);\n",
       "  padding-right: 10px;\n",
       "}\n",
       "\n",
       ".xr-attrs dd {\n",
       "  grid-column: 2;\n",
       "  white-space: pre-wrap;\n",
       "  word-break: break-all;\n",
       "}\n",
       "\n",
       ".xr-icon-database,\n",
       ".xr-icon-file-text2 {\n",
       "  display: inline-block;\n",
       "  vertical-align: middle;\n",
       "  width: 1em;\n",
       "  height: 1.5em !important;\n",
       "  stroke-width: 0;\n",
       "  stroke: currentColor;\n",
       "  fill: currentColor;\n",
       "}\n",
       "</style><pre class='xr-text-repr-fallback'>&lt;xarray.DataArray ()&gt;\n",
       "&lt;Quantity(486682.2425141883, &#x27;ampere * volt&#x27;)&gt;</pre><div class='xr-wrap' hidden><div class='xr-header'><div class='xr-obj-type'>xarray.DataArray</div><div class='xr-array-name'></div></div><ul class='xr-sections'><li class='xr-section-item'><div class='xr-array-wrap'><input id='section-f2c812cd-3c23-4650-9f60-10641e167234' class='xr-array-in' type='checkbox' checked><label for='section-f2c812cd-3c23-4650-9f60-10641e167234' title='Show/hide data repr'><svg class='icon xr-icon-database'><use xlink:href='#icon-database'></use></svg></label><div class='xr-array-preview xr-preview'><span>[A·V] 4.867e+05</span></div><div class='xr-array-data'>486682.2425141883 A V</div></div></li><li class='xr-section-item'><input id='section-fcc6d4eb-ec4f-45f2-b2cb-b161816aa70d' class='xr-section-summary-in' type='checkbox' disabled ><label for='section-fcc6d4eb-ec4f-45f2-b2cb-b161816aa70d' class='xr-section-summary'  title='Expand/collapse section'>Coordinates: <span>(0)</span></label><div class='xr-section-inline-details'></div><div class='xr-section-details'><ul class='xr-var-list'></ul></div></li><li class='xr-section-item'><input id='section-ab6bd465-fc00-4258-8a5a-5791a6b608f6' class='xr-section-summary-in' type='checkbox' disabled ><label for='section-ab6bd465-fc00-4258-8a5a-5791a6b608f6' class='xr-section-summary'  title='Expand/collapse section'>Attributes: <span>(0)</span></label><div class='xr-section-inline-details'></div><div class='xr-section-details'><dl class='xr-attrs'></dl></div></li></ul></div></div>"
      ],
      "text/plain": [
       "<xarray.DataArray ()>\n",
       "<Quantity(486682.2425141883, 'ampere * volt')>"
      ]
     },
     "execution_count": 17,
     "metadata": {},
     "output_type": "execute_result"
    }
   ],
   "source": [
    "integral = (voltage.data_array * current.data_array).integrate(\n",
    "    \"time\", datetime_unit=\"s\"\n",
    ")\n",
    "integral"
   ]
  },
  {
   "cell_type": "markdown",
   "id": "4933df67",
   "metadata": {},
   "source": [
    "The parameter `datetime_unit` specifies the unit of the time coordinates during the integration.\n",
    "Unfortunately, at the time of writing of this tutorial, the unit support of Xarray is still work in progress and not fully implemented.\n",
    "The result's unit is just $\\mathrm{A \\cdot V}$ while it should have been $\\mathrm{A \\cdot V \\cdot s}$.\n",
    "We correct this by turning the resulting `xarray.DataArray` into a `pint.Quantity` (see previous section) and simply multiplying the missing unit.\n",
    "Therefore we need to import the unit object `U_` from weldx."
   ]
  },
  {
   "cell_type": "code",
   "execution_count": 18,
   "id": "19c9ec68",
   "metadata": {},
   "outputs": [],
   "source": [
    "from weldx import U_\n",
    "\n",
    "q_integral = integral.data * U_(\"s\")"
   ]
  },
  {
   "cell_type": "markdown",
   "id": "4dc82bb3",
   "metadata": {},
   "source": [
    "What remains now is to divide the result by the process duration.\n",
    "We can get the time data either from the voltage or the current data as they were both measured simultaneously.\n",
    "It can be accessed with `.time` which returns a `weldx.Time` instance.\n",
    "We will talk a bit more about this class in another tutorial.\n",
    "For now it is sufficient to know, that it provides a `.duration` method to get the duration of the contained time data as a new `weldx.Time` instance and that we can turn it into a quantity using `.as_quantity`.\n",
    "So let's finally calculate the electrical power:"
   ]
  },
  {
   "cell_type": "code",
   "execution_count": 19,
   "id": "262b5b4d",
   "metadata": {},
   "outputs": [
    {
     "data": {
      "text/html": [
       "11753.05471067131 A V"
      ],
      "text/latex": [
       "$\\begin{pmatrix}11753.05471067131\\end{pmatrix}\\ \\mathrm{A} \\cdot \\mathrm{V}$"
      ],
      "text/plain": [
       "array(11753.05471067) <Unit('ampere * volt')>"
      ]
     },
     "execution_count": 19,
     "metadata": {},
     "output_type": "execute_result"
    }
   ],
   "source": [
    "e_power = q_integral / voltage.time.duration.as_quantity()\n",
    "e_power"
   ]
  },
  {
   "cell_type": "markdown",
   "id": "a0f33979",
   "metadata": {},
   "source": [
    "We can further simplify this by convert the units manually to Watt with `.to` or `.ito`.\n",
    "The first method creates a new quantity, while the latter one modifies the existing one."
   ]
  },
  {
   "cell_type": "code",
   "execution_count": 20,
   "id": "abc060f6",
   "metadata": {},
   "outputs": [
    {
     "data": {
      "text/html": [
       "11753.05471067131 W"
      ],
      "text/latex": [
       "$\\begin{pmatrix}11753.05471067131\\end{pmatrix}\\ \\mathrm{W}$"
      ],
      "text/plain": [
       "array(11753.05471067) <Unit('watt')>"
      ]
     },
     "execution_count": 20,
     "metadata": {},
     "output_type": "execute_result"
    }
   ],
   "source": [
    "e_power.ito(\"W\")\n",
    "e_power"
   ]
  },
  {
   "cell_type": "markdown",
   "id": "e5c57088",
   "metadata": {},
   "source": [
    "If you prefer compact numbers, you can use `.to_compact`:"
   ]
  },
  {
   "cell_type": "code",
   "execution_count": 21,
   "id": "deb51bed",
   "metadata": {},
   "outputs": [
    {
     "name": "stderr",
     "output_type": "stream",
     "text": [
      "C:\\Users\\vhirtham\\AppData\\Local\\Temp\\ipykernel_604\\1330626161.py:1: RuntimeWarning: to_compact applied to non numerical types has an undefined behavior.\n",
      "  e_power.to_compact()\n"
     ]
    },
    {
     "data": {
      "text/html": [
       "11753.05471067131 W"
      ],
      "text/latex": [
       "$\\begin{pmatrix}11753.05471067131\\end{pmatrix}\\ \\mathrm{W}$"
      ],
      "text/plain": [
       "array(11753.05471067) <Unit('watt')>"
      ]
     },
     "execution_count": 21,
     "metadata": {},
     "output_type": "execute_result"
    }
   ],
   "source": [
    "e_power.to_compact()"
   ]
  },
  {
   "cell_type": "markdown",
   "id": "31abf4f6",
   "metadata": {},
   "source": [
    "## Conclusion\n",
    "\n",
    "This concludes the tutorial about accessing and plotting time dependent data.\n",
    "We have learned about some basic functionalities of the `TimeSeries` class and know now, how to get the data for further processing and how to quickly visualize it, using the `plot` method.\n",
    "\n",
    "## Further readings\n",
    "\n",
    "- [API tutorial: <code>TimeSeries</code>](timeseries_01.ipynb)\n",
    "\n",
    "[<< PREVIOUS TUTORIAL](01_01_introduction.ipynb) | [NEXT TUTORIAL >>](01_03_geometry.ipynb)"
   ]
  }
 ],
 "metadata": {
  "kernelspec": {
   "display_name": "weldx",
   "language": "python",
   "name": "weldx"
  },
  "language_info": {
   "codemirror_mode": {
    "name": "ipython",
    "version": 3
   },
   "file_extension": ".py",
   "mimetype": "text/x-python",
   "name": "python",
   "nbconvert_exporter": "python",
   "pygments_lexer": "ipython3",
   "version": "3.8.12"
  }
 },
 "nbformat": 4,
 "nbformat_minor": 5
}
