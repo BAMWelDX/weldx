{
 "cells": [
  {
   "cell_type": "markdown",
   "metadata": {},
   "source": [
    "# Welding groove types and definitions"
   ]
  },
  {
   "cell_type": "markdown",
   "metadata": {},
   "source": [
    "## Introduction\n",
    "\n",
    "\n",
    "This tutorial is about generating different groove types and using the groove methods. The methods are seperatable in X parts:\n",
    "\n",
    "* Creating a groove with `get_groove`\n",
    "* Converting a groove to a profile\n",
    "* Using `plot` on a profile constructed by a groove\n",
    "* All possible groove types as plot\n",
    "* saving and loading grooves with ASDF\n",
    "\n",
    "First starting with the imports:"
   ]
  },
  {
   "cell_type": "code",
   "execution_count": null,
   "metadata": {
    "nbsphinx": "hidden"
   },
   "outputs": [],
   "source": [
    "# if the package is not installed in your python environment, run this to execute the notebook directly from inside the GitHub repository\n",
    "%cd -q .."
   ]
  },
  {
   "cell_type": "code",
   "execution_count": null,
   "metadata": {},
   "outputs": [],
   "source": [
    "# ASDF imports\n",
    "import asdf\n",
    "\n",
    "# Creating grooves\n",
    "import weldx\n",
    "from weldx import Q_ as Quantity  # pint quantity from the weldx package\n",
    "from weldx.asdf.extension import WeldxAsdfExtension, WeldxExtension\n",
    "from weldx.welding.groove.iso_9692_1 import get_groove"
   ]
  },
  {
   "cell_type": "markdown",
   "metadata": {},
   "source": [
    "## Creating a groove\n",
    "\n",
    "Each groove type has different input variables, which must be passed along with it. For this we need the `Groove Type` as string and the `attributes` that describe this `Groove Type`. All attributes are used with pint quantity, we recommend to use the quantity class created by us.\n",
    "\n",
    "Here an Example with a V-Groove. Note that `groove_type=\"VGroove\"` and the required attributes are `workpiece_thickness`, `groove_angle`, `root_gap` and `root_face`."
   ]
  },
  {
   "cell_type": "code",
   "execution_count": null,
   "metadata": {},
   "outputs": [],
   "source": [
    "# Workpiece thickness (note the use of 'cm')\n",
    "t = Quantity(1, \"cm\")\n",
    "# groove angle\n",
    "alpha = Quantity(55, \"deg\")\n",
    "# root gap\n",
    "b = Quantity(2, \"mm\")\n",
    "# root face\n",
    "c = Quantity(1, \"mm\")\n",
    "\n",
    "v_groove = get_groove(\n",
    "    groove_type=\"VGroove\",\n",
    "    workpiece_thickness=t,\n",
    "    groove_angle=alpha,\n",
    "    root_gap=b,\n",
    "    root_face=c,\n",
    ")\n",
    "\n",
    "display(v_groove)\n",
    "print(str(v_groove))"
   ]
  },
  {
   "cell_type": "markdown",
   "metadata": {},
   "source": [
    "As shown above you pass the `groove_type` along with the `attributes` and get your `Groove class`. Function `get_groove` has a detailled description for all Groove Types and their Attributes.\n",
    "\n",
    "Note: All classes can also be created separately with the classes, but this is not recommended.\n",
    "```Python\n",
    "from weldx.welding.groove.iso_9692_1 import VGroove\n",
    "\n",
    "v_groove = VGroove(t, alpha, c, b)\n",
    "```\n",
    "\n",
    "## Converting a groove to a profile\n",
    "\n",
    "Each `groove class` can be converted into a `Profile` by calling its `to_profile` function. To learn more about the `Profile` class and its uses look into `geometry_01_profiles.ipynb`.\n",
    "Profiles created this way consist of one shape per mating part. For the V-Groove each mating part is made up of four basic lines."
   ]
  },
  {
   "cell_type": "code",
   "execution_count": null,
   "metadata": {},
   "outputs": [],
   "source": [
    "v_profile = v_groove.to_profile()\n",
    "print(v_profile)"
   ]
  },
  {
   "cell_type": "markdown",
   "metadata": {},
   "source": [
    "## Using plot on a profile constructed by a groove\n",
    "\n",
    "We can visualize the profile by simply calling the `plot()` function of the groove object. Carefully note the labeling (yz) and orientation of the axis. The plot shows the groove as seen along the negative x-axis (against the welding direction)."
   ]
  },
  {
   "cell_type": "code",
   "execution_count": null,
   "metadata": {},
   "outputs": [],
   "source": [
    "v_groove.plot()"
   ]
  },
  {
   "cell_type": "markdown",
   "metadata": {},
   "source": [
    "As explained above you see that this V-groove has two halves and a V-Groove layout. The plot scaling is always in `millimeter`.\n",
    "\n",
    "The `plot` method has the following attributes:\n",
    "\n",
    "* `title`\n",
    "\n",
    "    Setting from matplotlib. Default: `None`\n",
    "* `raster_width`\n",
    "\n",
    "    Is the ratio of the rasterized points between each joint.\n",
    "* `axis`\n",
    "\n",
    "    Setting from matplotlib. Default: `equal`\n",
    "* `grid`\n",
    "\n",
    "    Setting from matplotlib. Default: `True`\n",
    "* `line_style`\n",
    "\n",
    "    Setting from matplotlib. Default: `'.'`\n",
    "* `ax`\n",
    "\n",
    "    Setting from matplotlib. Default: `None`\n",
    "\n",
    "\n",
    "Here is the same plot with different options:"
   ]
  },
  {
   "cell_type": "code",
   "execution_count": null,
   "metadata": {},
   "outputs": [],
   "source": [
    "v_profile.plot(title=\"V-Groove\", raster_width=0.5, grid=False, line_style=\"rx\")"
   ]
  },
  {
   "cell_type": "markdown",
   "metadata": {},
   "source": [
    "## using ASDF\n",
    "\n",
    "All groove types can be save to _ASDF_-files with the included schemas and _ASDF_-extension from the weldx-package.\n",
    "\n",
    "Writing the asdf file into a buffer:"
   ]
  },
  {
   "cell_type": "code",
   "execution_count": null,
   "metadata": {},
   "outputs": [],
   "source": [
    "tree = dict(test_v_groove=v_groove)\n",
    "buffer = weldx.asdf.utils._write_buffer(tree)"
   ]
  },
  {
   "cell_type": "markdown",
   "metadata": {},
   "source": [
    "We can show the file header with all groove metadata:"
   ]
  },
  {
   "cell_type": "code",
   "execution_count": null,
   "metadata": {},
   "outputs": [],
   "source": [
    "weldx.asdf.utils.notebook_fileprinter(buffer)"
   ]
  },
  {
   "cell_type": "markdown",
   "metadata": {},
   "source": [
    "Reading the file contents again and validating the extracted groove:"
   ]
  },
  {
   "cell_type": "code",
   "execution_count": null,
   "metadata": {},
   "outputs": [],
   "source": [
    "data = weldx.asdf.utils._read_buffer(buffer)\n",
    "data[\"test_v_groove\"]"
   ]
  },
  {
   "cell_type": "markdown",
   "metadata": {},
   "source": [
    "## Examples of all possible Groove Types\n",
    "\n",
    "An overview of all possible groove types:"
   ]
  },
  {
   "cell_type": "code",
   "execution_count": null,
   "metadata": {},
   "outputs": [],
   "source": [
    "# generate test grooves\n",
    "from weldx.welding.groove.iso_9692_1 import _create_test_grooves\n",
    "\n",
    "groove_dict = _create_test_grooves()\n",
    "for k in [\"dv_groove2\", \"dv_groove3\", \"du_groove2\", \"du_groove3\", \"du_groove4\"]:\n",
    "    groove_dict.pop(k, None)\n",
    "\n",
    "for k, v in groove_dict.items():\n",
    "    v[0].plot(line_style=\"-\")"
   ]
  },
  {
   "cell_type": "code",
   "execution_count": null,
   "metadata": {},
   "outputs": [],
   "source": []
  }
 ],
 "metadata": {
  "kernelspec": {
   "display_name": "weldx",
   "language": "python",
   "name": "weldx"
  },
  "language_info": {
   "codemirror_mode": {
    "name": "ipython",
    "version": 3
   },
   "file_extension": ".py",
   "mimetype": "text/x-python",
   "name": "python",
   "nbconvert_exporter": "python",
   "pygments_lexer": "ipython3",
   "version": "3.7.9"
  }
 },
 "nbformat": 4,
 "nbformat_minor": 4
}
