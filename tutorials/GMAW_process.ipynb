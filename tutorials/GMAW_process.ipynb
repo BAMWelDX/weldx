{
 "cells": [
  {
   "cell_type": "markdown",
   "metadata": {},
   "source": [
    "## Imports"
   ]
  },
  {
   "cell_type": "code",
   "execution_count": 1,
   "metadata": {},
   "outputs": [
    {
     "name": "stdout",
     "output_type": "stream",
     "text": [
      "C:\\Python\\weldx\n"
     ]
    }
   ],
   "source": [
    "cd .."
   ]
  },
  {
   "cell_type": "code",
   "execution_count": 2,
   "metadata": {},
   "outputs": [],
   "source": [
    "import asdf\n",
    "import weldx\n",
    "from weldx import Q_\n",
    "from weldx.asdf.extension import WeldxAsdfExtension, WeldxExtension\n",
    "from weldx.core import TimeSeries as TS\n",
    "from weldx.welding import GmawProcess"
   ]
  },
  {
   "cell_type": "code",
   "execution_count": 3,
   "metadata": {},
   "outputs": [],
   "source": [
    "# Note: For some reasons, using integers in Q_ fails upon ASDF reading !\n",
    "params_spray = dict(\n",
    "    wire_feedrate=Q_(10.0, \"m/min\"),\n",
    "    voltage=Q_(40.0, \"V\"),\n",
    "    impedance=Q_(10.0, \"percent\"),\n",
    ")\n",
    "process_spray = GmawProcess(\n",
    "    \"spray\", \"CLOOS\", \"Quinto\", params_spray, tag=\"CLOOS/spray_arc\"\n",
    ")"
   ]
  },
  {
   "cell_type": "code",
   "execution_count": 4,
   "metadata": {},
   "outputs": [],
   "source": [
    "params_pulse = dict(\n",
    "    wire_feedrate=Q_(10.0, \"m/min\"),\n",
    "    pulse_voltage=Q_(40.0, \"V\"),\n",
    "    pulse_duration=Q_(5.0, \"ms\"),\n",
    "    pulse_frequency=Q_(100.0, \"Hz\"),\n",
    "    base_current=Q_(60.0, \"A\"),\n",
    ")\n",
    "process_pulse = GmawProcess(\n",
    "    \"pulse\",\n",
    "    \"CLOOS\",\n",
    "    \"Quinto\",\n",
    "    params_pulse,\n",
    "    tag=\"CLOOS/pulse\",\n",
    "    meta={\"modulation\": \"UI\"},\n",
    ")"
   ]
  },
  {
   "cell_type": "code",
   "execution_count": 5,
   "metadata": {},
   "outputs": [],
   "source": [
    "params_pulse_II = dict(\n",
    "    wire_feedrate=Q_(10.0, \"m/min\"),\n",
    "    pulse_current=Q_(0.3, \"kA\"),\n",
    "    pulse_duration=Q_(5.0, \"ms\"),\n",
    "    pulse_frequency=Q_(100.0, \"Hz\"),\n",
    "    base_current=Q_(60.0, \"A\"),\n",
    ")\n",
    "process_pulse_II = GmawProcess(\n",
    "    \"pulse\",\n",
    "    \"CLOOS\",\n",
    "    \"Quinto\",\n",
    "    params_pulse_II,\n",
    "    tag=\"CLOOS/pulse\",\n",
    "    meta={\"modulation\": \"II\"},\n",
    ")"
   ]
  },
  {
   "cell_type": "code",
   "execution_count": 6,
   "metadata": {},
   "outputs": [],
   "source": [
    "filename = \"gmaw_process.yaml\"\n",
    "tree = {\"Q\":TS(Q_(10, \"m/min\")),\"spray\": process_spray, \"pulse_UI\": process_pulse, \"pulse_II\": process_pulse_II}\n",
    "\n",
    "# Write the data to a new file\n",
    "with asdf.AsdfFile(\n",
    "    tree,\n",
    "    extensions=[WeldxExtension(), WeldxAsdfExtension()],\n",
    "    ignore_version_mismatch=False,\n",
    ") as ff:\n",
    "    ff.write_to(filename)"
   ]
  },
  {
   "cell_type": "code",
   "execution_count": 7,
   "metadata": {},
   "outputs": [],
   "source": [
    "# read back data from ASDF file\n",
    "with asdf.open(\n",
    "    filename, copy_arrays=True, extensions=[WeldxExtension(), WeldxAsdfExtension()]\n",
    ") as af:\n",
    "    data = af.tree\n",
    "    # print(data[\"obj\"])"
   ]
  },
  {
   "cell_type": "code",
   "execution_count": 8,
   "metadata": {},
   "outputs": [
    {
     "data": {
      "text/html": [
       "<style type=\"text/css\">.highlight .hll { background-color: #ffffcc }\n",
       ".highlight  { background: #f8f8f8; }\n",
       ".highlight .c { color: #408080; font-style: italic } /* Comment */\n",
       ".highlight .err { border: 1px solid #FF0000 } /* Error */\n",
       ".highlight .k { color: #008000; font-weight: bold } /* Keyword */\n",
       ".highlight .o { color: #666666 } /* Operator */\n",
       ".highlight .ch { color: #408080; font-style: italic } /* Comment.Hashbang */\n",
       ".highlight .cm { color: #408080; font-style: italic } /* Comment.Multiline */\n",
       ".highlight .cp { color: #BC7A00 } /* Comment.Preproc */\n",
       ".highlight .cpf { color: #408080; font-style: italic } /* Comment.PreprocFile */\n",
       ".highlight .c1 { color: #408080; font-style: italic } /* Comment.Single */\n",
       ".highlight .cs { color: #408080; font-style: italic } /* Comment.Special */\n",
       ".highlight .gd { color: #A00000 } /* Generic.Deleted */\n",
       ".highlight .ge { font-style: italic } /* Generic.Emph */\n",
       ".highlight .gr { color: #FF0000 } /* Generic.Error */\n",
       ".highlight .gh { color: #000080; font-weight: bold } /* Generic.Heading */\n",
       ".highlight .gi { color: #00A000 } /* Generic.Inserted */\n",
       ".highlight .go { color: #888888 } /* Generic.Output */\n",
       ".highlight .gp { color: #000080; font-weight: bold } /* Generic.Prompt */\n",
       ".highlight .gs { font-weight: bold } /* Generic.Strong */\n",
       ".highlight .gu { color: #800080; font-weight: bold } /* Generic.Subheading */\n",
       ".highlight .gt { color: #0044DD } /* Generic.Traceback */\n",
       ".highlight .kc { color: #008000; font-weight: bold } /* Keyword.Constant */\n",
       ".highlight .kd { color: #008000; font-weight: bold } /* Keyword.Declaration */\n",
       ".highlight .kn { color: #008000; font-weight: bold } /* Keyword.Namespace */\n",
       ".highlight .kp { color: #008000 } /* Keyword.Pseudo */\n",
       ".highlight .kr { color: #008000; font-weight: bold } /* Keyword.Reserved */\n",
       ".highlight .kt { color: #B00040 } /* Keyword.Type */\n",
       ".highlight .m { color: #666666 } /* Literal.Number */\n",
       ".highlight .s { color: #BA2121 } /* Literal.String */\n",
       ".highlight .na { color: #7D9029 } /* Name.Attribute */\n",
       ".highlight .nb { color: #008000 } /* Name.Builtin */\n",
       ".highlight .nc { color: #0000FF; font-weight: bold } /* Name.Class */\n",
       ".highlight .no { color: #880000 } /* Name.Constant */\n",
       ".highlight .nd { color: #AA22FF } /* Name.Decorator */\n",
       ".highlight .ni { color: #999999; font-weight: bold } /* Name.Entity */\n",
       ".highlight .ne { color: #D2413A; font-weight: bold } /* Name.Exception */\n",
       ".highlight .nf { color: #0000FF } /* Name.Function */\n",
       ".highlight .nl { color: #A0A000 } /* Name.Label */\n",
       ".highlight .nn { color: #0000FF; font-weight: bold } /* Name.Namespace */\n",
       ".highlight .nt { color: #008000; font-weight: bold } /* Name.Tag */\n",
       ".highlight .nv { color: #19177C } /* Name.Variable */\n",
       ".highlight .ow { color: #AA22FF; font-weight: bold } /* Operator.Word */\n",
       ".highlight .w { color: #bbbbbb } /* Text.Whitespace */\n",
       ".highlight .mb { color: #666666 } /* Literal.Number.Bin */\n",
       ".highlight .mf { color: #666666 } /* Literal.Number.Float */\n",
       ".highlight .mh { color: #666666 } /* Literal.Number.Hex */\n",
       ".highlight .mi { color: #666666 } /* Literal.Number.Integer */\n",
       ".highlight .mo { color: #666666 } /* Literal.Number.Oct */\n",
       ".highlight .sa { color: #BA2121 } /* Literal.String.Affix */\n",
       ".highlight .sb { color: #BA2121 } /* Literal.String.Backtick */\n",
       ".highlight .sc { color: #BA2121 } /* Literal.String.Char */\n",
       ".highlight .dl { color: #BA2121 } /* Literal.String.Delimiter */\n",
       ".highlight .sd { color: #BA2121; font-style: italic } /* Literal.String.Doc */\n",
       ".highlight .s2 { color: #BA2121 } /* Literal.String.Double */\n",
       ".highlight .se { color: #BB6622; font-weight: bold } /* Literal.String.Escape */\n",
       ".highlight .sh { color: #BA2121 } /* Literal.String.Heredoc */\n",
       ".highlight .si { color: #BB6688; font-weight: bold } /* Literal.String.Interpol */\n",
       ".highlight .sx { color: #008000 } /* Literal.String.Other */\n",
       ".highlight .sr { color: #BB6688 } /* Literal.String.Regex */\n",
       ".highlight .s1 { color: #BA2121 } /* Literal.String.Single */\n",
       ".highlight .ss { color: #19177C } /* Literal.String.Symbol */\n",
       ".highlight .bp { color: #008000 } /* Name.Builtin.Pseudo */\n",
       ".highlight .fm { color: #0000FF } /* Name.Function.Magic */\n",
       ".highlight .vc { color: #19177C } /* Name.Variable.Class */\n",
       ".highlight .vg { color: #19177C } /* Name.Variable.Global */\n",
       ".highlight .vi { color: #19177C } /* Name.Variable.Instance */\n",
       ".highlight .vm { color: #19177C } /* Name.Variable.Magic */\n",
       ".highlight .il { color: #666666 } /* Literal.Number.Integer.Long */</style><div class=\"highlight\"><pre><span></span><span class=\"c1\">#ASDF 1.0.0</span>\n",
       "<span class=\"c1\">#ASDF_STANDARD 1.5.0</span>\n",
       "<span class=\"nt\">%YAML</span> <span class=\"m\">1.1</span>\n",
       "<span class=\"nt\">%TAG</span> <span class=\"kt\">!</span> <span class=\"kt\">tag:stsci.edu:asdf/</span>\n",
       "<span class=\"nn\">---</span> <span class=\"kt\">!core/asdf-1.1.0</span>\n",
       "<span class=\"nt\">asdf_library</span><span class=\"p\">:</span> <span class=\"kt\">!core/software-1.0.0</span> <span class=\"p p-Indicator\">{</span><span class=\"nt\">author</span><span class=\"p\">:</span> <span class=\"nv\">Space Telescope Science Institute</span><span class=\"p p-Indicator\">,</span><span class=\"nt\"> homepage</span><span class=\"p\">:</span> <span class=\"s\">&#39;http://github.com/spacetelescope/asdf&#39;</span><span class=\"p p-Indicator\">,</span>\n",
       "<span class=\"nt\">  name</span><span class=\"p\">:</span> <span class=\"nv\">asdf</span><span class=\"p p-Indicator\">,</span><span class=\"nt\"> version</span><span class=\"p\">:</span> <span class=\"nv\">2.7.0</span><span class=\"p p-Indicator\">}</span>\n",
       "<span class=\"nt\">history</span><span class=\"p\">:</span>\n",
       "  <span class=\"nt\">extensions</span><span class=\"p\">:</span>\n",
       "  <span class=\"p p-Indicator\">-</span> <span class=\"kt\">!core/extension_metadata-1.0.0</span>\n",
       "    <span class=\"nt\">extension_class</span><span class=\"p\">:</span> <span class=\"l l-Scalar l-Scalar-Plain\">asdf.extension.BuiltinExtension</span>\n",
       "    <span class=\"nt\">software</span><span class=\"p\">:</span> <span class=\"kt\">!core/software-1.0.0</span> <span class=\"p p-Indicator\">{</span><span class=\"nt\">name</span><span class=\"p\">:</span> <span class=\"nv\">asdf</span><span class=\"p p-Indicator\">,</span><span class=\"nt\"> version</span><span class=\"p\">:</span> <span class=\"nv\">2.7.0</span><span class=\"p p-Indicator\">}</span>\n",
       "  <span class=\"p p-Indicator\">-</span> <span class=\"kt\">!core/extension_metadata-1.0.0</span>\n",
       "    <span class=\"nt\">extension_class</span><span class=\"p\">:</span> <span class=\"l l-Scalar l-Scalar-Plain\">weldx.asdf.extension.WeldxExtension</span>\n",
       "    <span class=\"nt\">software</span><span class=\"p\">:</span> <span class=\"kt\">!core/software-1.0.0</span> <span class=\"p p-Indicator\">{</span><span class=\"nt\">name</span><span class=\"p\">:</span> <span class=\"s\">&#39;&#39;</span><span class=\"p p-Indicator\">,</span><span class=\"nt\"> version</span><span class=\"p\">:</span> <span class=\"s\">&#39;&#39;</span><span class=\"p p-Indicator\">}</span>\n",
       "<span class=\"nt\">Q</span><span class=\"p\">:</span> <span class=\"kt\">!&lt;tag:weldx.bam.de:weldx/core/time_series-1.0.0&gt;</span>\n",
       "  <span class=\"nt\">unit</span><span class=\"p\">:</span> <span class=\"l l-Scalar l-Scalar-Plain\">meter / minute</span>\n",
       "  <span class=\"nt\">values</span><span class=\"p\">:</span> <span class=\"l l-Scalar l-Scalar-Plain\">10</span>\n",
       "<span class=\"nt\">pulse_II</span><span class=\"p\">:</span> <span class=\"kt\">!&lt;tag:weldx.bam.de:weldx/process/CLOOS/pulse-1.0.0&gt;</span>\n",
       "  <span class=\"nt\">base_process</span><span class=\"p\">:</span> <span class=\"l l-Scalar l-Scalar-Plain\">pulse</span>\n",
       "  <span class=\"nt\">manufacturer</span><span class=\"p\">:</span> <span class=\"l l-Scalar l-Scalar-Plain\">CLOOS</span>\n",
       "  <span class=\"nt\">meta</span><span class=\"p\">:</span> <span class=\"p p-Indicator\">{</span><span class=\"nt\">modulation</span><span class=\"p\">:</span> <span class=\"nv\">II</span><span class=\"p p-Indicator\">}</span>\n",
       "  <span class=\"nt\">parameters</span><span class=\"p\">:</span>\n",
       "    <span class=\"nt\">base_current</span><span class=\"p\">:</span> <span class=\"kt\">!&lt;tag:weldx.bam.de:weldx/core/time_series-1.0.0&gt;</span>\n",
       "      <span class=\"nt\">unit</span><span class=\"p\">:</span> <span class=\"l l-Scalar l-Scalar-Plain\">ampere</span>\n",
       "      <span class=\"nt\">values</span><span class=\"p\">:</span> <span class=\"l l-Scalar l-Scalar-Plain\">60.0</span>\n",
       "    <span class=\"nt\">pulse_current</span><span class=\"p\">:</span> <span class=\"kt\">!&lt;tag:weldx.bam.de:weldx/core/time_series-1.0.0&gt;</span>\n",
       "      <span class=\"nt\">unit</span><span class=\"p\">:</span> <span class=\"l l-Scalar l-Scalar-Plain\">kiloampere</span>\n",
       "      <span class=\"nt\">values</span><span class=\"p\">:</span> <span class=\"l l-Scalar l-Scalar-Plain\">0.3</span>\n",
       "    <span class=\"nt\">pulse_duration</span><span class=\"p\">:</span> <span class=\"kt\">!&lt;tag:weldx.bam.de:weldx/core/time_series-1.0.0&gt;</span>\n",
       "      <span class=\"nt\">unit</span><span class=\"p\">:</span> <span class=\"l l-Scalar l-Scalar-Plain\">millisecond</span>\n",
       "      <span class=\"nt\">values</span><span class=\"p\">:</span> <span class=\"l l-Scalar l-Scalar-Plain\">5.0</span>\n",
       "    <span class=\"nt\">pulse_frequency</span><span class=\"p\">:</span> <span class=\"kt\">!&lt;tag:weldx.bam.de:weldx/core/time_series-1.0.0&gt;</span>\n",
       "      <span class=\"nt\">unit</span><span class=\"p\">:</span> <span class=\"l l-Scalar l-Scalar-Plain\">hertz</span>\n",
       "      <span class=\"nt\">values</span><span class=\"p\">:</span> <span class=\"l l-Scalar l-Scalar-Plain\">100.0</span>\n",
       "    <span class=\"nt\">wire_feedrate</span><span class=\"p\">:</span> <span class=\"kt\">!&lt;tag:weldx.bam.de:weldx/core/time_series-1.0.0&gt;</span>\n",
       "      <span class=\"nt\">unit</span><span class=\"p\">:</span> <span class=\"l l-Scalar l-Scalar-Plain\">meter / minute</span>\n",
       "      <span class=\"nt\">values</span><span class=\"p\">:</span> <span class=\"l l-Scalar l-Scalar-Plain\">10.0</span>\n",
       "  <span class=\"nt\">power_source</span><span class=\"p\">:</span> <span class=\"l l-Scalar l-Scalar-Plain\">Quinto</span>\n",
       "  <span class=\"nt\">tag</span><span class=\"p\">:</span> <span class=\"l l-Scalar l-Scalar-Plain\">CLOOS/pulse</span>\n",
       "<span class=\"nt\">pulse_UI</span><span class=\"p\">:</span> <span class=\"kt\">!&lt;tag:weldx.bam.de:weldx/process/CLOOS/pulse-1.0.0&gt;</span>\n",
       "  <span class=\"nt\">base_process</span><span class=\"p\">:</span> <span class=\"l l-Scalar l-Scalar-Plain\">pulse</span>\n",
       "  <span class=\"nt\">manufacturer</span><span class=\"p\">:</span> <span class=\"l l-Scalar l-Scalar-Plain\">CLOOS</span>\n",
       "  <span class=\"nt\">meta</span><span class=\"p\">:</span> <span class=\"p p-Indicator\">{</span><span class=\"nt\">modulation</span><span class=\"p\">:</span> <span class=\"nv\">UI</span><span class=\"p p-Indicator\">}</span>\n",
       "  <span class=\"nt\">parameters</span><span class=\"p\">:</span>\n",
       "    <span class=\"nt\">base_current</span><span class=\"p\">:</span> <span class=\"kt\">!&lt;tag:weldx.bam.de:weldx/core/time_series-1.0.0&gt;</span>\n",
       "      <span class=\"nt\">unit</span><span class=\"p\">:</span> <span class=\"l l-Scalar l-Scalar-Plain\">ampere</span>\n",
       "      <span class=\"nt\">values</span><span class=\"p\">:</span> <span class=\"l l-Scalar l-Scalar-Plain\">60.0</span>\n",
       "    <span class=\"nt\">pulse_duration</span><span class=\"p\">:</span> <span class=\"kt\">!&lt;tag:weldx.bam.de:weldx/core/time_series-1.0.0&gt;</span>\n",
       "      <span class=\"nt\">unit</span><span class=\"p\">:</span> <span class=\"l l-Scalar l-Scalar-Plain\">millisecond</span>\n",
       "      <span class=\"nt\">values</span><span class=\"p\">:</span> <span class=\"l l-Scalar l-Scalar-Plain\">5.0</span>\n",
       "    <span class=\"nt\">pulse_frequency</span><span class=\"p\">:</span> <span class=\"kt\">!&lt;tag:weldx.bam.de:weldx/core/time_series-1.0.0&gt;</span>\n",
       "      <span class=\"nt\">unit</span><span class=\"p\">:</span> <span class=\"l l-Scalar l-Scalar-Plain\">hertz</span>\n",
       "      <span class=\"nt\">values</span><span class=\"p\">:</span> <span class=\"l l-Scalar l-Scalar-Plain\">100.0</span>\n",
       "    <span class=\"nt\">pulse_voltage</span><span class=\"p\">:</span> <span class=\"kt\">!&lt;tag:weldx.bam.de:weldx/core/time_series-1.0.0&gt;</span>\n",
       "      <span class=\"nt\">unit</span><span class=\"p\">:</span> <span class=\"l l-Scalar l-Scalar-Plain\">volt</span>\n",
       "      <span class=\"nt\">values</span><span class=\"p\">:</span> <span class=\"l l-Scalar l-Scalar-Plain\">40.0</span>\n",
       "    <span class=\"nt\">wire_feedrate</span><span class=\"p\">:</span> <span class=\"kt\">!&lt;tag:weldx.bam.de:weldx/core/time_series-1.0.0&gt;</span>\n",
       "      <span class=\"nt\">unit</span><span class=\"p\">:</span> <span class=\"l l-Scalar l-Scalar-Plain\">meter / minute</span>\n",
       "      <span class=\"nt\">values</span><span class=\"p\">:</span> <span class=\"l l-Scalar l-Scalar-Plain\">10.0</span>\n",
       "  <span class=\"nt\">power_source</span><span class=\"p\">:</span> <span class=\"l l-Scalar l-Scalar-Plain\">Quinto</span>\n",
       "  <span class=\"nt\">tag</span><span class=\"p\">:</span> <span class=\"l l-Scalar l-Scalar-Plain\">CLOOS/pulse</span>\n",
       "<span class=\"nt\">spray</span><span class=\"p\">:</span> <span class=\"kt\">!&lt;tag:weldx.bam.de:weldx/process/CLOOS/spray_arc-1.0.0&gt;</span>\n",
       "  <span class=\"nt\">base_process</span><span class=\"p\">:</span> <span class=\"l l-Scalar l-Scalar-Plain\">spray</span>\n",
       "  <span class=\"nt\">manufacturer</span><span class=\"p\">:</span> <span class=\"l l-Scalar l-Scalar-Plain\">CLOOS</span>\n",
       "  <span class=\"nt\">parameters</span><span class=\"p\">:</span>\n",
       "    <span class=\"nt\">impedance</span><span class=\"p\">:</span> <span class=\"kt\">!&lt;tag:weldx.bam.de:weldx/core/time_series-1.0.0&gt;</span>\n",
       "      <span class=\"nt\">unit</span><span class=\"p\">:</span> <span class=\"l l-Scalar l-Scalar-Plain\">percent</span>\n",
       "      <span class=\"nt\">values</span><span class=\"p\">:</span> <span class=\"l l-Scalar l-Scalar-Plain\">10.0</span>\n",
       "    <span class=\"nt\">voltage</span><span class=\"p\">:</span> <span class=\"kt\">!&lt;tag:weldx.bam.de:weldx/core/time_series-1.0.0&gt;</span>\n",
       "      <span class=\"nt\">unit</span><span class=\"p\">:</span> <span class=\"l l-Scalar l-Scalar-Plain\">volt</span>\n",
       "      <span class=\"nt\">values</span><span class=\"p\">:</span> <span class=\"l l-Scalar l-Scalar-Plain\">40.0</span>\n",
       "    <span class=\"nt\">wire_feedrate</span><span class=\"p\">:</span> <span class=\"kt\">!&lt;tag:weldx.bam.de:weldx/core/time_series-1.0.0&gt;</span>\n",
       "      <span class=\"nt\">unit</span><span class=\"p\">:</span> <span class=\"l l-Scalar l-Scalar-Plain\">meter / minute</span>\n",
       "      <span class=\"nt\">values</span><span class=\"p\">:</span> <span class=\"l l-Scalar l-Scalar-Plain\">10.0</span>\n",
       "  <span class=\"nt\">power_source</span><span class=\"p\">:</span> <span class=\"l l-Scalar l-Scalar-Plain\">Quinto</span>\n",
       "  <span class=\"nt\">tag</span><span class=\"p\">:</span> <span class=\"l l-Scalar l-Scalar-Plain\">CLOOS/spray_arc</span>\n",
       "<span class=\"nn\">...</span>\n",
       "</pre></div>\n"
      ],
      "text/plain": [
       "<IPython.core.display.HTML object>"
      ]
     },
     "execution_count": 8,
     "metadata": {},
     "output_type": "execute_result"
    }
   ],
   "source": [
    "weldx.asdf.utils.notebook_fileprinter(filename)"
   ]
  },
  {
   "cell_type": "code",
   "execution_count": null,
   "metadata": {},
   "outputs": [],
   "source": []
  }
 ],
 "metadata": {
  "kernelspec": {
   "display_name": "weldx",
   "language": "python",
   "name": "weldx"
  },
  "language_info": {
   "codemirror_mode": {
    "name": "ipython",
    "version": 3
   },
   "file_extension": ".py",
   "mimetype": "text/x-python",
   "name": "python",
   "nbconvert_exporter": "python",
   "pygments_lexer": "ipython3",
   "version": "3.7.7"
  }
 },
 "nbformat": 4,
 "nbformat_minor": 4
}
