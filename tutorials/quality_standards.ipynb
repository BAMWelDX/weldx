{
 "cells": [
  {
   "cell_type": "markdown",
   "metadata": {
    "collapsed": true,
    "pycharm": {
     "name": "#%% md\n"
    }
   },
   "source": [
    "# Quality standards\n",
    "\n",
    "## Imports"
   ]
  },
  {
   "cell_type": "code",
   "execution_count": 1,
   "outputs": [
    {
     "name": "stderr",
     "output_type": "stream",
     "text": [
      "C:\\Users\\vhirtham\\PycharmProjects\\bam\\weldx\\weldx\\__init__.py:11: UserWarning: Using local weldx package files without version information.\n",
      "Consider running 'python setup.py --version' or 'pip install -e .' in the weldx root repository\n",
      "  \"Using local weldx package files without version information.\\n\"\n"
     ]
    }
   ],
   "source": [
    "import asdf\n",
    "import fs\n",
    "import yaml\n",
    "import weldx\n",
    "\n",
    "from weldx.config import Config, QualityStandard\n",
    "from weldx.measurement import  GenericEquipment"
   ],
   "metadata": {
    "collapsed": false,
    "pycharm": {
     "name": "#%%\n"
    }
   }
  },
  {
   "cell_type": "markdown",
   "source": [
    "## Introduction\n",
    "\n",
    "The main purposes of WelDX is to provide a file format for experimental data that is self explanatory and contains all\n",
    "relevant information about the conducted experiment.\n",
    "This allows fellow researchers to understand and analyze the data without taking part in the experiment or having access\n",
    "to the persons who did.\n",
    "We assure this by introducing quality standards for each type of experiment and every other information that\n",
    "describes certain aspects of an experiment like coordinate systems, sensors or specimens.\n",
    "Every time a WelDX file is written or read, it is validated against those standards.\n",
    "\n",
    "## Schema files\n",
    "\n",
    "Every standard used by WelDX is defined by schema files.\n",
    "A schema file is a [YAML](https://yaml.org/)-file that defines the allowed properties of an serializable object.\n",
    "How such a schema file is generated is not part of this tutorial, but you can find further information regarding this\n",
    "topic in the official\n",
    "[documentation of the ASDF standard](https://asdf-standard.readthedocs.io/en/latest/schemas.html) which is the\n",
    "foundation of a WelDX file.\n",
    "Furthermore, an overview of all pre-defined schema files can be found on the [Standards](../standard.rst) page of this\n",
    "documentation.\n",
    "\n",
    "> todo: fix link\n",
    "\n",
    "## Installing and using quality standards\n",
    "\n",
    "The WelDX API comes with a default schema for every object.\n",
    "So if you save an ASDF file using the WelDX extension you already employ the default WelDX quality standard.\n",
    "However, the standards we defined might not suit your needs.\n",
    "Therefore, the WelDX API offers a mechanism to override an arbitrary number of default schemas.\n",
    "Before we discuss, how a custom standard can be generated, let's assume that you have found and downloaded one.\n",
    "Each quality standard that was created following the guidelines (Todo: Link) can be installed using pythons package\n",
    "manager `pip`.\n",
    "So the first step would be to install the standard as a python package:\n",
    "\n",
    "~~~ shell\n",
    "pip install NAME_OF_THE_STANDARD\n",
    "~~~\n",
    "\n",
    "Installing the quality standard registers it to the WelDX API so that it knows that the standard exists and where to\n",
    "find the corresponding data.\n",
    "If you want to use the standard, you have to activate it first:\n",
    "\n",
    "~~~ python\n",
    "from weldx.config import Config\n",
    "\n",
    "Config.enable_quality_standard(NAME_OF_THE_STANDARD, VERSION_OF_THE_STANDARD)\n",
    "~~~\n",
    "\n",
    "The version number is optional.\n",
    "If you don't provide one, the latest available version will be used.\n",
    "And that's all there is to know about using standards.\n",
    "\n",
    "## Creating custom standards\n",
    "\n",
    "Creating custom standards is fairly easy if you already know how a schema file looks like.\n",
    "To keep things simple, we won't discuss here how you can provide an installable standard because this might be a bit\n",
    "confusing at the beginning.\n",
    "Instead we will just focus on the files and their content.\n",
    "\n",
    "Let's say we want to set a new quality standard for the `GenericEquipment`.\n",
    "In our short example, we will use the following file structure:"
   ],
   "metadata": {
    "collapsed": false,
    "pycharm": {
     "name": "#%% md\n"
    }
   }
  },
  {
   "cell_type": "code",
   "execution_count": 2,
   "outputs": [
    {
     "name": "stdout",
     "output_type": "stream",
     "text": [
      "`-- resources\n",
      "    `-- my_organization\n",
      "        |-- manifests\n",
      "        |   `-- my_standard-1.0.0.yaml\n",
      "        `-- schemas\n",
      "            `-- my_generic_epuipment_schema-1.0.0.yaml\n"
     ]
    }
   ],
   "source": [
    "mem_fs = fs.open_fs('mem://')\n",
    "mem_fs.makedirs(\"resources/my_organization/manifests\")\n",
    "mem_fs.makedirs(\"resources/my_organization/schemas\")\n",
    "mem_fs.listdir(\"\")\n",
    "\n",
    "mem_fs.create(\"resources/my_organization/manifests/my_standard-1.0.0.yaml\")\n",
    "mem_fs.create(\"resources/my_organization/schemas/my_generic_epuipment_schema-1.0.0.yaml\")\n",
    "mem_fs.tree()"
   ],
   "metadata": {
    "collapsed": false,
    "pycharm": {
     "name": "#%%\n"
    }
   }
  },
  {
   "cell_type": "markdown",
   "source": [
    "The directory structure is based on how an installable standard has to be organized but the only thing that really\n",
    "matters for us at the moment is the content of the `my_organization` directory.\n",
    "It is subdivided into `manifests` and `schemas`.\n",
    "All of your custom schemas go into the `schemas` directory.\n",
    "The `manifests` directory contains so called manifest files.\n",
    "Their purpose is to manage which schema belongs to which version of your standard.\n",
    "All manifests are YAML files and must be named like your standard with the corresponding version number attached to the\n",
    "end.\n",
    "Here we will only use a single manifest file called `my_standard-1.0.0.yaml`.\n",
    "\n",
    "Now before we start looking into the different files, let's create an instance of the `GenericEpuipment` class that we\n",
    "want to serialize using a new quality standard:"
   ],
   "metadata": {
    "collapsed": false,
    "pycharm": {
     "name": "#%% md\n"
    }
   }
  },
  {
   "cell_type": "code",
   "execution_count": 3,
   "outputs": [],
   "source": [
    "my_equipment = GenericEquipment(\"my_equipment\")"
   ],
   "metadata": {
    "collapsed": false,
    "pycharm": {
     "name": "#%%\n"
    }
   }
  },
  {
   "cell_type": "markdown",
   "source": [
    "Every WelDX type gives you the option to add arbitrary meta data to it that will also be stored in an ASDF file.\n",
    "To do so, we just need to assigns a python dictionary to the reserved member variable `wx_metadata` (TODO: Add tutorial link).\n",
    "The content of the meta data is not restricted in any way by the default WelDX standard and purely optional.\n",
    "We want to change this now with our custom standard so that there must be a meta data attached to the object that\n",
    "contains an integer that represents the serial number of the equipment.\n",
    "To do so, we start with the default schema used by WelDX which looks like this:\n",
    "\n",
    "~~~ yaml\n",
    "%YAML 1.1\n",
    "---\n",
    "$schema: \"http://stsci.edu/schemas/yaml-schema/draft-01\"\n",
    "id: \"http://weldx.bam.de/schemas/weldx/equipment/generic_equipment-1.0.0\"\n",
    "tag: \"tag:weldx.bam.de:weldx/equipment/generic_equipment-1.0.0\"\n",
    "\n",
    "title: |\n",
    "  A generic piece of equipment.\n",
    "description: |\n",
    "  Generic placeholder class do describe any kind of equipment with additional metadata.\n",
    "  Equipments can be associated with signal sources and data transformations.\n",
    "type: object\n",
    "properties:\n",
    "  name:\n",
    "    type: string\n",
    "  sources:\n",
    "    type: array\n",
    "    items:\n",
    "      $ref: \"tag:weldx.bam.de:weldx/measurement/source-1.0.0\"\n",
    "  data_transformations:\n",
    "    type: array\n",
    "    items:\n",
    "      $ref: \"tag:weldx.bam.de:weldx/measurement/data_transformation-1.0.0\"\n",
    "\n",
    "propertyOrder: [name, sources, data_transformations]\n",
    "required: [name]\n",
    "\n",
    "flowStyle: block\n",
    "...\n",
    "~~~\n",
    "\n",
    "We achieve our goal by simply adding `wx_matadata` to the following additional property:\n",
    "\n",
    "~~~ yaml\n",
    "wx_metadata:\n",
    "  type: object\n",
    "  properties:\n",
    "    serial_number:\n",
    "      type: number\n",
    "  required: [serial_number]\n",
    "~~~\n",
    "\n",
    "The new file content looks like this:"
   ],
   "metadata": {
    "collapsed": false,
    "pycharm": {
     "name": "#%% md\n"
    }
   }
  },
  {
   "cell_type": "code",
   "execution_count": 4,
   "outputs": [],
   "source": [
    "schema_file = \"\"\"\n",
    "%YAML 1.1\n",
    "---\n",
    "$schema: \"http://stsci.edu/schemas/yaml-schema/draft-01\"\n",
    "id: \"http://weldx.bam.de/schemas/weldx/equipment/generic_equipment-1.0.0\"\n",
    "tag: \"tag:weldx.bam.de:weldx/equipment/generic_equipment-1.0.0\"\n",
    "\n",
    "title: |\n",
    "  A generic piece of equipment.\n",
    "description: |\n",
    "  Generic placeholder class do describe any kind of equipment with additional metadata.\n",
    "  Equipments can be associated with signal sources and data transformations.\n",
    "type: object\n",
    "properties:\n",
    "  name:\n",
    "    type: string\n",
    "  sources:\n",
    "    type: array\n",
    "    items:\n",
    "      $ref: \"tag:weldx.bam.de:weldx/measurement/source-1.0.0\"\n",
    "  data_transformations:\n",
    "    type: array\n",
    "    items:\n",
    "      $ref: \"tag:weldx.bam.de:weldx/measurement/data_transformation-1.0.0\"\n",
    "  wx_metadata:\n",
    "    type: object\n",
    "    properties:\n",
    "      serial_number:\n",
    "        type: number\n",
    "    required: [serial_number]\n",
    "\n",
    "propertyOrder: [name, sources, data_transformations]\n",
    "required: [name, wx_metadata]\n",
    "\n",
    "flowStyle: block\n",
    "...\n",
    "\"\"\""
   ],
   "metadata": {
    "collapsed": false,
    "pycharm": {
     "name": "#%%\n"
    }
   }
  },
  {
   "cell_type": "code",
   "execution_count": 5,
   "outputs": [],
   "source": [
    "# write to the file\n",
    "with mem_fs.open(\"resources/my_organization/schemas/my_generic_epuipment_schema-1.0.0.yaml\", \"w\") as file:\n",
    "    file.write(schema_file)"
   ],
   "metadata": {
    "collapsed": false,
    "pycharm": {
     "name": "#%%\n"
    }
   }
  },
  {
   "cell_type": "markdown",
   "source": [
    "What remains now is to write the corresponding manifest file.\n",
    "The manifest file consists of two sections.\n",
    "A header section that contains some relevant meta data about the standard and the mapping section that assigns new\n",
    "schemas to an existing `uri`.\n",
    "Let's have a look at the manifest file that we are going to use before we discuss the details:"
   ],
   "metadata": {
    "collapsed": false,
    "pycharm": {
     "name": "#%% md\n"
    }
   }
  },
  {
   "cell_type": "code",
   "source": [
    "manifest_file = \"\"\"\n",
    "# header\n",
    "id: http://my_organization/manifests/my_standard-1.0.0\n",
    "extension_uri: http://my_organization/standards/my_standard-1.0.0\n",
    "title: My own standard\n",
    "description: |-\n",
    "  A new and stricter standard for generic equipment.\n",
    "asdf_standard_requirement: 1.0.0\n",
    "\n",
    "# mappings\n",
    "tags:\n",
    "- uri: \"http://weldx.bam.de/schemas/weldx/equipment/generic_equipment-1.0.0\"\n",
    "  file: \"my_generic_epuipment_schema-1.0.0\"\n",
    "\"\"\""
   ],
   "metadata": {
    "collapsed": false,
    "pycharm": {
     "name": "#%%\n"
    }
   },
   "execution_count": 6,
   "outputs": []
  },
  {
   "cell_type": "code",
   "execution_count": 7,
   "outputs": [],
   "source": [
    "# write to the file\n",
    "with mem_fs.open(\"resources/my_organization/manifests/my_standard-1.0.0.yaml\", \"w\") as file:\n",
    "    file.write(manifest_file)"
   ],
   "metadata": {
    "collapsed": false,
    "pycharm": {
     "name": "#%%\n"
    }
   }
  },
  {
   "cell_type": "markdown",
   "source": [
    "> TODO: Discuss which data must be provided in a manifest file and adjust this tutorial accordingly\n",
    "\n",
    "The header section should be rather self explanatory (TODO: except for the uri and id stuff) and all of its fields can\n",
    "get values to your liking.\n",
    "The mapping section is a YAML list with the name `tags`.\n",
    "Each of its items need a `uri` field that specifies the URI of the object that should get a new schema assigned to it.\n",
    "If you are not sure about the exact URI just have a look into the original schema of the object.\n",
    "You can find all schemas [here](../standard.rst).\n",
    "In our example we want to replace the schema for the URI\n",
    "`http://weldx.bam.de/schemas/weldx/equipment/generic_equipment-1.0.0`.\n",
    "Additionally, each item of the YAML list needs a `file` property which specifies the relative file path of the new\n",
    "schema inside the `schemas` directory, omitting the file extension.\n",
    "So in our case we use `file: \"my_generic_epuipment_schema-1.0.0`\n",
    "\n",
    "\n",
    "Now all that remains is to register our new standard to WelDX and acitvate it.\n",
    "Since we didn't install it, we need to do the registration manually using the 'Config.add_quality_standard' method.\n",
    "To do so, we create an instance of the `QualityStandard` class.\n",
    "This class needs to know where the root directory of your standard is located (the directory that contains the\n",
    "`manifests` and `schemas` directories).\n",
    "You can either provide the location as a string or a Python `Path` object:\n",
    "\n",
    "> Note that you can also provide a filesystem from the PyFilesystem package, which we will do here since we used a\n",
    "> virtual file system in this tutorial, but this isn't the default approach you should choose unless you know what you\n",
    "> are doing. So ignore the `mem_fs.opendir` part in the next command and treat it as if we provided a normal path.\n",
    "\n"
   ],
   "metadata": {
    "collapsed": false,
    "pycharm": {
     "name": "#%% md\n"
    }
   }
  },
  {
   "cell_type": "code",
   "execution_count": 8,
   "outputs": [],
   "source": [
    "qs = QualityStandard(mem_fs.opendir(\"resources/my_organization\"))"
   ],
   "metadata": {
    "collapsed": false,
    "pycharm": {
     "name": "#%%\n"
    }
   }
  },
  {
   "cell_type": "markdown",
   "source": [
    "Next we register our standard:\n"
   ],
   "metadata": {
    "collapsed": false,
    "pycharm": {
     "name": "#%% md\n"
    }
   }
  },
  {
   "cell_type": "code",
   "execution_count": 9,
   "outputs": [],
   "source": [
    "Config._add_quality_standard(qs)"
   ],
   "metadata": {
    "collapsed": false,
    "pycharm": {
     "name": "#%%\n"
    }
   }
  },
  {
   "cell_type": "markdown",
   "source": [
    "At this point there isn't any difference to an installed standard anymore.\n",
    "WelDX now knows about your standard and where to find the corresponding resources.\n",
    "We can activate it by using the same name we used for our manifest files.\n",
    "Since there is only one version, we can omit the version number:\n"
   ],
   "metadata": {
    "collapsed": false,
    "pycharm": {
     "name": "#%% md\n"
    }
   }
  },
  {
   "cell_type": "code",
   "execution_count": 10,
   "outputs": [],
   "source": [
    "Config.enable_quality_standard(\"my_standard\")\n"
   ],
   "metadata": {
    "collapsed": false,
    "pycharm": {
     "name": "#%%\n"
    }
   }
  },
  {
   "cell_type": "markdown",
   "source": [
    "So let's try to store our `GenericEquipment` we created earlier.\n",
    "We will use `weldx.asdf.utils._write_buffer` utility function for this, which writes an ASDF file to a buffer instead to\n",
    "the hard drive:\n"
   ],
   "metadata": {
    "collapsed": false,
    "pycharm": {
     "name": "#%% md\n"
    }
   }
  },
  {
   "cell_type": "code",
   "execution_count": 11,
   "outputs": [
    {
     "name": "stdout",
     "output_type": "stream",
     "text": [
      "Ups..., got some lengthy validation error...\n"
     ]
    }
   ],
   "source": [
    "try:\n",
    "   weldx.asdf.utils._write_buffer({\"equipment\":my_equipment})\n",
    "except asdf.ValidationError:\n",
    "    print(\"Ups..., got some lengthy validation error...\")"
   ],
   "metadata": {
    "collapsed": false,
    "pycharm": {
     "name": "#%%\n"
    }
   }
  },
  {
   "cell_type": "markdown",
   "source": [
    "As you can see, we get an `ValidationError`.\n",
    "The reason is that our new standard requires from our `GenericEquipment` that it has some meta data attached to it and\n",
    "we didn't do that.\n",
    "We will attach a serial_number as meta data and try it again:"
   ],
   "metadata": {
    "collapsed": false,
    "pycharm": {
     "name": "#%% md\n"
    }
   }
  },
  {
   "cell_type": "code",
   "execution_count": 12,
   "outputs": [
    {
     "name": "stdout",
     "output_type": "stream",
     "text": [
      "Ups..., got some lengthy validation error...\n"
     ]
    }
   ],
   "source": [
    "my_equipment.wx_metadata = {\"serial_number\": \"not a number\"}\n",
    "\n",
    "try:\n",
    "   weldx.asdf.utils._write_buffer({\"equipment\":my_equipment})\n",
    "except asdf.ValidationError:\n",
    "    print(\"Ups..., got some lengthy validation error...\")"
   ],
   "metadata": {
    "collapsed": false,
    "pycharm": {
     "name": "#%%\n"
    }
   }
  },
  {
   "cell_type": "markdown",
   "source": [
    "We still get a validation error since we required that the serial number has to be a number and not a string.\n",
    "So let's correct this mistake and try it one last time:"
   ],
   "metadata": {
    "collapsed": false,
    "pycharm": {
     "name": "#%% md\n"
    }
   }
  },
  {
   "cell_type": "code",
   "execution_count": 13,
   "outputs": [],
   "source": [
    "my_equipment.wx_metadata = {\"serial_number\": 1234}\n",
    "buffer = weldx.asdf.utils._write_buffer({\"equipment\":my_equipment})"
   ],
   "metadata": {
    "collapsed": false,
    "pycharm": {
     "name": "#%%\n"
    }
   }
  },
  {
   "cell_type": "markdown",
   "source": [
    "This time we succeeded because our equipment data satisfies the new standard.\n",
    "Taking a look into the written file proofs that it worked:\n"
   ],
   "metadata": {
    "collapsed": false,
    "pycharm": {
     "name": "#%% md\n"
    }
   }
  },
  {
   "cell_type": "code",
   "execution_count": 14,
   "outputs": [
    {
     "data": {
      "text/plain": "<IPython.core.display.HTML object>",
      "text/html": "<style type=\"text/css\">pre { line-height: 125%; margin: 0; }\ntd.linenos pre { color: #000000; background-color: #f0f0f0; padding-left: 5px; padding-right: 5px; }\nspan.linenos { color: #000000; background-color: #f0f0f0; padding-left: 5px; padding-right: 5px; }\ntd.linenos pre.special { color: #000000; background-color: #ffffc0; padding-left: 5px; padding-right: 5px; }\nspan.linenos.special { color: #000000; background-color: #ffffc0; padding-left: 5px; padding-right: 5px; }\n.highlight .hll { background-color: #ffffcc }\n.highlight { background: #f8f8f8; }\n.highlight .c { color: #408080; font-style: italic } /* Comment */\n.highlight .err { border: 1px solid #FF0000 } /* Error */\n.highlight .k { color: #008000; font-weight: bold } /* Keyword */\n.highlight .o { color: #666666 } /* Operator */\n.highlight .ch { color: #408080; font-style: italic } /* Comment.Hashbang */\n.highlight .cm { color: #408080; font-style: italic } /* Comment.Multiline */\n.highlight .cp { color: #BC7A00 } /* Comment.Preproc */\n.highlight .cpf { color: #408080; font-style: italic } /* Comment.PreprocFile */\n.highlight .c1 { color: #408080; font-style: italic } /* Comment.Single */\n.highlight .cs { color: #408080; font-style: italic } /* Comment.Special */\n.highlight .gd { color: #A00000 } /* Generic.Deleted */\n.highlight .ge { font-style: italic } /* Generic.Emph */\n.highlight .gr { color: #FF0000 } /* Generic.Error */\n.highlight .gh { color: #000080; font-weight: bold } /* Generic.Heading */\n.highlight .gi { color: #00A000 } /* Generic.Inserted */\n.highlight .go { color: #888888 } /* Generic.Output */\n.highlight .gp { color: #000080; font-weight: bold } /* Generic.Prompt */\n.highlight .gs { font-weight: bold } /* Generic.Strong */\n.highlight .gu { color: #800080; font-weight: bold } /* Generic.Subheading */\n.highlight .gt { color: #0044DD } /* Generic.Traceback */\n.highlight .kc { color: #008000; font-weight: bold } /* Keyword.Constant */\n.highlight .kd { color: #008000; font-weight: bold } /* Keyword.Declaration */\n.highlight .kn { color: #008000; font-weight: bold } /* Keyword.Namespace */\n.highlight .kp { color: #008000 } /* Keyword.Pseudo */\n.highlight .kr { color: #008000; font-weight: bold } /* Keyword.Reserved */\n.highlight .kt { color: #B00040 } /* Keyword.Type */\n.highlight .m { color: #666666 } /* Literal.Number */\n.highlight .s { color: #BA2121 } /* Literal.String */\n.highlight .na { color: #7D9029 } /* Name.Attribute */\n.highlight .nb { color: #008000 } /* Name.Builtin */\n.highlight .nc { color: #0000FF; font-weight: bold } /* Name.Class */\n.highlight .no { color: #880000 } /* Name.Constant */\n.highlight .nd { color: #AA22FF } /* Name.Decorator */\n.highlight .ni { color: #999999; font-weight: bold } /* Name.Entity */\n.highlight .ne { color: #D2413A; font-weight: bold } /* Name.Exception */\n.highlight .nf { color: #0000FF } /* Name.Function */\n.highlight .nl { color: #A0A000 } /* Name.Label */\n.highlight .nn { color: #0000FF; font-weight: bold } /* Name.Namespace */\n.highlight .nt { color: #008000; font-weight: bold } /* Name.Tag */\n.highlight .nv { color: #19177C } /* Name.Variable */\n.highlight .ow { color: #AA22FF; font-weight: bold } /* Operator.Word */\n.highlight .w { color: #bbbbbb } /* Text.Whitespace */\n.highlight .mb { color: #666666 } /* Literal.Number.Bin */\n.highlight .mf { color: #666666 } /* Literal.Number.Float */\n.highlight .mh { color: #666666 } /* Literal.Number.Hex */\n.highlight .mi { color: #666666 } /* Literal.Number.Integer */\n.highlight .mo { color: #666666 } /* Literal.Number.Oct */\n.highlight .sa { color: #BA2121 } /* Literal.String.Affix */\n.highlight .sb { color: #BA2121 } /* Literal.String.Backtick */\n.highlight .sc { color: #BA2121 } /* Literal.String.Char */\n.highlight .dl { color: #BA2121 } /* Literal.String.Delimiter */\n.highlight .sd { color: #BA2121; font-style: italic } /* Literal.String.Doc */\n.highlight .s2 { color: #BA2121 } /* Literal.String.Double */\n.highlight .se { color: #BB6622; font-weight: bold } /* Literal.String.Escape */\n.highlight .sh { color: #BA2121 } /* Literal.String.Heredoc */\n.highlight .si { color: #BB6688; font-weight: bold } /* Literal.String.Interpol */\n.highlight .sx { color: #008000 } /* Literal.String.Other */\n.highlight .sr { color: #BB6688 } /* Literal.String.Regex */\n.highlight .s1 { color: #BA2121 } /* Literal.String.Single */\n.highlight .ss { color: #19177C } /* Literal.String.Symbol */\n.highlight .bp { color: #008000 } /* Name.Builtin.Pseudo */\n.highlight .fm { color: #0000FF } /* Name.Function.Magic */\n.highlight .vc { color: #19177C } /* Name.Variable.Class */\n.highlight .vg { color: #19177C } /* Name.Variable.Global */\n.highlight .vi { color: #19177C } /* Name.Variable.Instance */\n.highlight .vm { color: #19177C } /* Name.Variable.Magic */\n.highlight .il { color: #666666 } /* Literal.Number.Integer.Long */</style><div class=\"highlight\"><pre><span></span><span class=\"c1\">#ASDF 1.0.0</span>\n<span class=\"c1\">#ASDF_STANDARD 1.5.0</span>\n<span class=\"nt\">%YAML</span> <span class=\"m\">1.1</span>\n<span class=\"nt\">%TAG</span> <span class=\"kt\">!</span> <span class=\"kt\">tag:stsci.edu:asdf/</span>\n<span class=\"nn\">---</span> <span class=\"kt\">!core/asdf-1.1.0</span>\n<span class=\"nt\">asdf_library</span><span class=\"p\">:</span> <span class=\"kt\">!core/software-1.0.0</span> <span class=\"p p-Indicator\">{</span><span class=\"nt\">author</span><span class=\"p\">:</span> <span class=\"nv\">The ASDF Developers</span><span class=\"p p-Indicator\">,</span><span class=\"nt\"> homepage</span><span class=\"p\">:</span> <span class=\"s\">&#39;http://github.com/asdf-format/asdf&#39;</span><span class=\"p p-Indicator\">,</span>\n<span class=\"nt\">  name</span><span class=\"p\">:</span> <span class=\"nv\">asdf</span><span class=\"p p-Indicator\">,</span><span class=\"nt\"> version</span><span class=\"p\">:</span> <span class=\"nv\">2.8.0.dev107+g8ccee8b</span><span class=\"p p-Indicator\">}</span>\n<span class=\"nt\">history</span><span class=\"p\">:</span>\n  <span class=\"nt\">extensions</span><span class=\"p\">:</span>\n  <span class=\"p p-Indicator\">-</span> <span class=\"kt\">!core/extension_metadata-1.0.0</span>\n    <span class=\"nt\">extension_class</span><span class=\"p\">:</span> <span class=\"l l-Scalar l-Scalar-Plain\">asdf.extension.BuiltinExtension</span>\n    <span class=\"nt\">software</span><span class=\"p\">:</span> <span class=\"kt\">!core/software-1.0.0</span> <span class=\"p p-Indicator\">{</span><span class=\"nt\">name</span><span class=\"p\">:</span> <span class=\"nv\">asdf</span><span class=\"p p-Indicator\">,</span><span class=\"nt\"> version</span><span class=\"p\">:</span> <span class=\"nv\">2.8.0.dev107+g8ccee8b</span><span class=\"p p-Indicator\">}</span>\n  <span class=\"p p-Indicator\">-</span> <span class=\"kt\">!core/extension_metadata-1.0.0</span>\n    <span class=\"nt\">extension_class</span><span class=\"p\">:</span> <span class=\"l l-Scalar l-Scalar-Plain\">weldx.asdf.extension.WeldxExtension</span>\n    <span class=\"nt\">software</span><span class=\"p\">:</span> <span class=\"kt\">!core/software-1.0.0</span> <span class=\"p p-Indicator\">{</span><span class=\"nt\">name</span><span class=\"p\">:</span> <span class=\"nv\">weldx</span><span class=\"p p-Indicator\">,</span><span class=\"nt\"> version</span><span class=\"p\">:</span> <span class=\"nv\">0.2.0+30.gabb76c1.dirty</span><span class=\"p p-Indicator\">}</span>\n<span class=\"nt\">equipment</span><span class=\"p\">:</span> <span class=\"kt\">!&lt;tag:weldx.bam.de:weldx/equipment/generic_equipment-1.0.0&gt;</span>\n  <span class=\"nt\">name</span><span class=\"p\">:</span> <span class=\"l l-Scalar l-Scalar-Plain\">my_equipment</span>\n  <span class=\"nt\">sources</span><span class=\"p\">:</span> <span class=\"p p-Indicator\">[]</span>\n  <span class=\"nt\">data_transformations</span><span class=\"p\">:</span> <span class=\"p p-Indicator\">[]</span>\n  <span class=\"nt\">wx_metadata</span><span class=\"p\">:</span> <span class=\"p p-Indicator\">{</span><span class=\"nt\">serial_number</span><span class=\"p\">:</span> <span class=\"nv\">1234</span><span class=\"p p-Indicator\">}</span>\n<span class=\"nn\">...</span>\n</pre></div>\n"
     },
     "execution_count": 14,
     "metadata": {},
     "output_type": "execute_result"
    }
   ],
   "source": [
    "weldx.asdf.utils.notebook_fileprinter(buffer)"
   ],
   "metadata": {
    "collapsed": false,
    "pycharm": {
     "name": "#%%\n"
    }
   }
  },
  {
   "cell_type": "markdown",
   "source": [
    "## Make your standard installable\n",
    "\n",
    "Coming soon ..."
   ],
   "metadata": {
    "collapsed": false,
    "pycharm": {
     "name": "#%% md\n"
    }
   }
  }
 ],
 "metadata": {
  "kernelspec": {
   "name": "weldx",
   "language": "python",
   "display_name": "weldx"
  },
  "language_info": {
   "codemirror_mode": {
    "name": "ipython",
    "version": 2
   },
   "file_extension": ".py",
   "mimetype": "text/x-python",
   "name": "python",
   "nbconvert_exporter": "python",
   "pygments_lexer": "ipython2",
   "version": "2.7.6"
  }
 },
 "nbformat": 4,
 "nbformat_minor": 0
}