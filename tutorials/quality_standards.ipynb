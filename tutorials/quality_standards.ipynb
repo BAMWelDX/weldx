{
 "cells": [
  {
   "cell_type": "markdown",
   "metadata": {
    "collapsed": true,
    "pycharm": {
     "name": "#%% md\n"
    }
   },
   "source": [
    "# Quality standards\n",
    "\n",
    "## Imports"
   ]
  },
  {
   "cell_type": "code",
   "execution_count": null,
   "outputs": [],
   "source": [
    "from weldx.config import Config\n"
   ],
   "metadata": {
    "collapsed": false,
    "pycharm": {
     "name": "#%%\n"
    }
   }
  },
  {
   "cell_type": "markdown",
   "source": [
    "## Introduction\n",
    "\n",
    "The main purposes of WelDX is to provide a file format for experimental data that is self explanatory and contains all\n",
    "relevant information about the conducted experiment.\n",
    "This allows fellow researchers to understand and analyze the data without taking part in the experiment or having access\n",
    "to the persons who did.\n",
    "We assure this by introducing quality standards for each type of experiment and every other information that\n",
    "describes certain aspects of an experiment like coordinate systems, sensors or specimens.\n",
    "Every time a WelDX file is written or read, it is validated against those standards.\n",
    "\n",
    "## Schema files\n",
    "\n",
    "Every standard used by WelDX is defined by schema files.\n",
    "A schema file is a [YAML](https://yaml.org/)-file that defines the allowed properties of an serializable object.\n",
    "How such a schema file is generated is not part of this tutorial, but you can find further information regarding this\n",
    "topic in the official\n",
    "[documentation of the ASDF standard](https://asdf-standard.readthedocs.io/en/latest/schemas.html) which is the\n",
    "foundation of a WelDX file.\n",
    "Furthermore, an overview of all pre-defined schema files can be found on the [Standards](../standard.rst) page of this\n",
    "documentation.\n",
    "\n",
    "> todo: fix link\n",
    "\n",
    "## Installing and using quality standards\n",
    "\n",
    "The WelDX API comes with a default schema for every object.\n",
    "So if you save an ASDF file using the WelDX extension you already employ the default WelDX quality standard.\n",
    "However, the standards we defined might not suit your needs.\n",
    "Therefore, the WelDX API offers a mechanism to override an arbitrary number of default schemas.\n",
    "Before we discuss, how a custom standard can be generated, let's assume that you have found and downloaded one.\n",
    "Each quality standard that was created following the guidelines (Todo: Link) can be installed using pythons package\n",
    "manager `pip`.\n",
    "So the first step would be to install the standard as a python package:\n",
    "\n",
    "~~~ shell\n",
    "pip install NAME_OF_THE_STANDARD\n",
    "~~~\n",
    "\n",
    "Installing the quality standard registers it to the WelDX API so that it knows that the standard exists and where to\n",
    "find the corresponding data.\n",
    "If you want to use the standard, you have to activate it first:\n",
    "\n",
    "~~~ python\n",
    "from weldx.config import Config\n",
    "\n",
    "Config.enable_quality_standard(NAME_OF_THE_STANDARD, VERSION_OF_THE_STANDARD)\n",
    "~~~\n",
    "\n",
    "The version number is optional.\n",
    "If you don't provide one, the latest available version will be used.\n",
    "And that's all there is to know about using standards.\n",
    "\n",
    "## Creating custom standards\n",
    "\n"
   ],
   "metadata": {
    "collapsed": false,
    "pycharm": {
     "name": "#%% md\n"
    }
   }
  }
 ],
 "metadata": {
  "kernelspec": {
   "display_name": "Python 3",
   "language": "python",
   "name": "python3"
  },
  "language_info": {
   "codemirror_mode": {
    "name": "ipython",
    "version": 2
   },
   "file_extension": ".py",
   "mimetype": "text/x-python",
   "name": "python",
   "nbconvert_exporter": "python",
   "pygments_lexer": "ipython2",
   "version": "2.7.6"
  }
 },
 "nbformat": 4,
 "nbformat_minor": 0
}