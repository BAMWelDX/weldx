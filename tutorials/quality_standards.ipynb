{
 "cells": [
  {
   "cell_type": "markdown",
   "metadata": {
    "pycharm": {
     "name": "#%% md\n"
    }
   },
   "source": [
    "# Quality standards\n",
    "\n",
    "## Imports"
   ]
  },
  {
   "cell_type": "code",
   "execution_count": null,
   "metadata": {
    "collapsed": false,
    "jupyter": {
     "outputs_hidden": false
    },
    "pycharm": {
     "name": "#%%\n"
    }
   },
   "outputs": [],
   "source": [
    "import asdf\n",
    "import fs\n",
    "import yaml\n",
    "\n",
    "from weldx import WeldxFile\n",
    "from weldx.config import QualityStandard\n",
    "from weldx.measurement import MeasurementEquipment"
   ]
  },
  {
   "cell_type": "markdown",
   "metadata": {
    "pycharm": {
     "name": "#%% md\n"
    }
   },
   "source": [
    "## Introduction\n",
    "\n",
    "The main purposes of WelDX is to provide a file format for experimental data that is self explanatory and contains all\n",
    "relevant information about the conducted experiment.\n",
    "This allows fellow researchers to understand and analyze the data without taking part in the experiment or having access\n",
    "to the persons who did.\n",
    "We assure this by introducing quality standards for each type of experiment and every other information that\n",
    "describes certain aspects of an experiment like coordinate systems, sensors or specimens.\n",
    "Every time a WelDX file is written or read, it is validated against those standards.\n",
    "\n",
    "## Schema files\n",
    "\n",
    "Every standard used by WelDX is defined by schema files.\n",
    "A schema file is a [YAML](https://yaml.org/)-file that defines the allowed properties of an serializable object.\n",
    "How such a schema file is generated is not part of this tutorial, but you can find further information regarding this\n",
    "topic in the official\n",
    "[documentation of the ASDF standard](https://asdf-standard.readthedocs.io/en/latest/schemas.html) which is the\n",
    "foundation of a WelDX file.\n",
    "Furthermore, an overview of all pre-defined schema files can be found on the [Standards](https://weldx.readthedocs.io/projects/weldx-standard/en/latest/schemas.html) page of this\n",
    "documentation.\n",
    "\n",
    "## Installing and using quality standards\n",
    "\n",
    "The WelDX API comes with a default schema for every object.\n",
    "So if you save an ASDF file using the WelDX extension you already employ the default WelDX quality standard.\n",
    "However, the standards we defined might not suit your needs.\n",
    "Therefore, the WelDX API offers a mechanism to override an arbitrary number of default schemas.\n",
    "Before we discuss, how a custom standard can be generated, let's assume that you have found and downloaded one.\n",
    "Each quality standard that was created following [the guidelines](https://github.com/BAMWelDX/quality-standard-template) can be installed using pythons package\n",
    "manager `pip`.\n",
    "So the first step would be to install the standard as a python package:\n",
    "\n",
    "~~~ shell\n",
    "pip install NAME_OF_THE_STANDARD\n",
    "~~~\n",
    "\n",
    "Installing the quality standard registers it to the WelDX API so that it knows that the standard exists and where to\n",
    "find the corresponding data.\n",
    "If you want to use the standard, you have to activate it first:\n",
    "\n",
    "~~~ python\n",
    "from weldx.config import enable_quality_standard\n",
    "\n",
    "enable_quality_standard(NAME_OF_THE_STANDARD, VERSION_OF_THE_STANDARD)\n",
    "~~~\n",
    "\n",
    "The version number is optional.\n",
    "If you don't provide one, the latest available version will be used.\n",
    "That's all there is to know about using standards.\n",
    "\n",
    "## Creating custom standards\n",
    "\n",
    "Creating custom standards is fairly easy if you already know how a schema file looks like.\n",
    "To keep things simple, we won't discuss here how you can provide an installable standard because this might be a bit\n",
    "confusing at the beginning.\n",
    "Instead we will just focus on the files and their content.\n",
    "\n",
    "Let's say we want to set a new quality standard for the `MeasurementEquipment`.\n",
    "In our short example, we will use the following file structure:"
   ]
  },
  {
   "cell_type": "code",
   "execution_count": null,
   "metadata": {
    "pycharm": {
     "name": "#%%\n"
    },
    "tags": []
   },
   "outputs": [],
   "source": [
    "mem_fs = fs.open_fs(\"mem://\")\n",
    "mem_fs.makedirs(\"resources/my_organization/manifests\")\n",
    "mem_fs.makedirs(\"resources/my_organization/schemas\")\n",
    "mem_fs.listdir(\"\")\n",
    "\n",
    "mem_fs.create(\"resources/my_organization/manifests/my_standard-1.0.0.yaml\")\n",
    "mem_fs.create(\n",
    "    \"resources/my_organization/schemas/my_measurement_equipment_schema-1.0.0.yaml\"\n",
    ")\n",
    "mem_fs.tree()"
   ]
  },
  {
   "cell_type": "markdown",
   "metadata": {
    "pycharm": {
     "name": "#%% md\n"
    }
   },
   "source": [
    "The directory structure is based on how an installable standard has to be organized but the only thing that really\n",
    "matters for us at the moment is the content of the `my_organization` directory.\n",
    "It is subdivided into `manifests` and `schemas`.\n",
    "All of your custom schemas go into the `schemas` directory.\n",
    "The `manifests` directory contains so called manifest files.\n",
    "Their purpose is to manage which schema belongs to which version of your standard.\n",
    "All manifests are YAML files and must be named like your standard with the corresponding version number attached to the\n",
    "end.\n",
    "Here we will only use a single manifest file called `my_standard-1.0.0.yaml`.\n",
    "\n",
    "Now before we start looking into the different files, let's create an instance of the `MeasurementEquipment` class that we\n",
    "want to serialize using a new quality standard:"
   ]
  },
  {
   "cell_type": "code",
   "execution_count": null,
   "metadata": {
    "collapsed": false,
    "jupyter": {
     "outputs_hidden": false
    },
    "pycharm": {
     "name": "#%%\n"
    }
   },
   "outputs": [],
   "source": [
    "my_equipment = MeasurementEquipment(\"my_equipment\")"
   ]
  },
  {
   "cell_type": "markdown",
   "metadata": {
    "pycharm": {
     "name": "#%% md\n"
    }
   },
   "source": [
    "Every WelDX type gives you the option to add arbitrary meta data ([open tutorial](custom_metadata.ipynb)) to it that will also be stored in an ASDF file.\n",
    "To do so, we just need to assigns a python dictionary to the reserved member variable `wx_metadata`.\n",
    "The content of the meta data is not restricted in any way by the default WelDX standard and purely optional.\n",
    "We want to change this now with our custom standard so that there must be a meta data attached to the object that\n",
    "contains an integer representing the serial number of the equipment.\n",
    "Our starting point is the default schema used by WelDX which looks like this:\n",
    "\n",
    "~~~ yaml\n",
    "%YAML 1.1\n",
    "---\n",
    "$schema: \"http://stsci.edu/schemas/yaml-schema/draft-01\"\n",
    "id: \"asdf://weldx.bam.de/weldx/schemas/equipment/measurement_equipment-0.1.0\"\n",
    "tag: \"asdf://weldx.bam.de/weldx/tags/equipment/measurement_equipment-0.1.0\"\n",
    "\n",
    "title: |\n",
    "  A piece of measurement equipment.\n",
    "description: |\n",
    "  This schema describes a piece of measurement equipment that is part of a measurement chain.\n",
    "  Equipments can be associated with signal sources and data transformations.\n",
    "\n",
    "type: object\n",
    "properties:\n",
    "  name:\n",
    "    type: string\n",
    "  sources:\n",
    "    type: array\n",
    "    items:\n",
    "      tag: \"asdf://weldx.bam.de/weldx/tags/measurement/source-0.1.*\"\n",
    "  transformations:\n",
    "    type: array\n",
    "    items:\n",
    "      tag: \"asdf://weldx.bam.de/weldx/tags/measurement/signal_transformation-0.1.*\"\n",
    "\n",
    "propertyOrder: [name, sources, transformations]\n",
    "required: [name]\n",
    "\n",
    "flowStyle: block\n",
    "...\n",
    "~~~\n",
    "\n",
    "We achieve our goal by simply adding the following additional property:\n",
    "\n",
    "~~~ yaml\n",
    "wx_metadata:\n",
    "  type: object\n",
    "  properties:\n",
    "    serial_number:\n",
    "      type: number\n",
    "  required: [serial_number]\n",
    "~~~\n",
    "\n",
    "Additionally, we add `wx_matadata` to the required fields. \n",
    "The new schema looks like this:"
   ]
  },
  {
   "cell_type": "code",
   "execution_count": null,
   "metadata": {
    "nbsphinx": "hidden",
    "pycharm": {
     "name": "#%%\n"
    },
    "tags": []
   },
   "outputs": [],
   "source": [
    "schema_file = \"\"\"\n",
    "%YAML 1.1\n",
    "---\n",
    "$schema: \"http://stsci.edu/schemas/yaml-schema/draft-01\"\n",
    "id: \"asdf://weldx.bam.de/weldx/schemas/equipment/measurement_equipment-0.1.0\"\n",
    "tag: \"asdf://weldx.bam.de/weldx/tags/equipment/measurement_equipment-0.1.0\"\n",
    "\n",
    "title: |\n",
    "  A piece of measurement equipment.\n",
    "description: |\n",
    "  This schema describes a piece of measurement equipment that is part of a measurement chain.\n",
    "  Equipments can be associated with signal sources and data transformations.\n",
    "\n",
    "type: object\n",
    "properties:\n",
    "  name:\n",
    "    type: string\n",
    "  sources:\n",
    "    type: array\n",
    "    items:\n",
    "      tag: \"asdf://weldx.bam.de/weldx/tags/measurement/source-0.1.*\"\n",
    "  transformations:\n",
    "    type: array\n",
    "    items:\n",
    "      tag: \"asdf://weldx.bam.de/weldx/tags/measurement/signal_transformation-0.1.*\"\n",
    "  wx_metadata:\n",
    "    type: object\n",
    "    properties:\n",
    "      serial_number:\n",
    "        type: number\n",
    "    required: [serial_number]\n",
    "\n",
    "\n",
    "propertyOrder: [name, sources, transformations]\n",
    "required: [name, wx_metadata]\n",
    "\n",
    "flowStyle: block\n",
    "...\n",
    "\"\"\""
   ]
  },
  {
   "cell_type": "markdown",
   "metadata": {},
   "source": [
    "We save the code in the file `my_measurement_equipment_schema-0.1.0.yaml`:"
   ]
  },
  {
   "cell_type": "code",
   "execution_count": null,
   "metadata": {
    "collapsed": false,
    "jupyter": {
     "outputs_hidden": false
    },
    "pycharm": {
     "name": "#%%\n"
    }
   },
   "outputs": [],
   "source": [
    "# write to the file\n",
    "with mem_fs.open(\n",
    "    \"resources/my_organization/schemas/my_measurement_equipment_schema-0.1.0.yaml\", \"w\"\n",
    ") as file:\n",
    "    file.write(schema_file)"
   ]
  },
  {
   "cell_type": "markdown",
   "metadata": {
    "pycharm": {
     "name": "#%% md\n"
    }
   },
   "source": [
    "What remains now is to write the corresponding manifest file.\n",
    "The manifest file consists of two sections.\n",
    "A header section that contains some relevant meta data about the standard and the mapping section that assigns new\n",
    "schemas to an existing `uri`.\n",
    "Let's have a look at the manifest file that we are going to use before we discuss the details:"
   ]
  },
  {
   "cell_type": "code",
   "execution_count": null,
   "metadata": {
    "nbsphinx": "hidden",
    "pycharm": {
     "name": "#%%\n"
    },
    "tags": []
   },
   "outputs": [],
   "source": [
    "manifest_file = \"\"\"\n",
    "# header\n",
    "id: asdf://my_organization/manifests/my_standard-1.0.0\n",
    "extension_uri: asdf://my_organization/standards/my_standard-1.0.0\n",
    "title: My own standard\n",
    "description: |-\n",
    "  A new and stricter standard for measurement equipment.\n",
    "asdf_standard_requirement: 1.0.0\n",
    "\n",
    "# mappings\n",
    "tags:\n",
    "- uri: \"asdf://weldx.bam.de/weldx/schemas/equipment/measurement_equipment-0.1.0\"\n",
    "  file: \"my_measurement_equipment_schema-1.0.0\"\n",
    "\"\"\""
   ]
  },
  {
   "cell_type": "code",
   "execution_count": null,
   "metadata": {
    "collapsed": false,
    "jupyter": {
     "outputs_hidden": false
    },
    "pycharm": {
     "name": "#%%\n"
    }
   },
   "outputs": [],
   "source": [
    "# write to the file\n",
    "with mem_fs.open(\n",
    "    \"resources/my_organization/manifests/my_standard-1.0.0.yaml\", \"w\"\n",
    ") as file:\n",
    "    file.write(manifest_file)"
   ]
  },
  {
   "cell_type": "markdown",
   "metadata": {
    "pycharm": {
     "name": "#%% md\n"
    }
   },
   "source": [
    "The header section should be rather self explanatory.\n",
    "Its id is the manifest file's filepath relative to the `resource` directory with a preceding `http://`.\n",
    "The composition of the extension uri is quite similar except that `manifests` gets replaced by `standards`.\n",
    "\n",
    "The mapping section is a YAML list with the name `tags`.\n",
    "Each of its items need a `uri` field that specifies the URI of the object that should get a new schema assigned to it.\n",
    "If you are not sure about the exact URI just have a look into the original schema of the object.\n",
    "You can find all schemas [here](https://weldx.readthedocs.io/projects/weldx-standard/en/latest/schemas.html).\n",
    "In our example we want to replace the schema for the URI\n",
    "`asdf://weldx.bam.de/weldx/schemas/equipment/measurement_equipment-0.1.0`.\n",
    "Additionally, each item of the YAML list needs a `file` property which specifies the relative file path of the new\n",
    "schema inside the `schemas` directory, omitting the file extension.\n",
    "So in our case we use `file: \"my_measurement_equipment_schema-1.0.0`\n",
    "\n",
    "\n",
    "All that remains is to register our new standard to WelDX and activate it.\n",
    "Since we didn't install it, we need to do the registration manually using the 'add_quality_standard' method.\n",
    "To do so, we create an instance of the `QualityStandard` class.\n",
    "This class needs to know where the root directory of your standard is located (the directory that contains the\n",
    "`manifests` and `schemas` directories).\n",
    "You can either provide the location as a string or a Python `Path` object:\n",
    "\n",
    "> Note that you can also provide a filesystem from the PyFilesystem package, which we will do here since we used a\n",
    "> virtual file system in this tutorial. \n",
    "> But this isn't the default approach you should choose unless you know what you are doing. \n",
    "> So ignore the `mem_fs.opendir` part in the next command and treat it as if we provided a normal path.\n",
    "\n"
   ]
  },
  {
   "cell_type": "code",
   "execution_count": null,
   "metadata": {
    "collapsed": false,
    "jupyter": {
     "outputs_hidden": false
    },
    "pycharm": {
     "name": "#%%\n"
    }
   },
   "outputs": [],
   "source": [
    "qs = QualityStandard(mem_fs.opendir(\"resources/my_organization\"))"
   ]
  },
  {
   "cell_type": "markdown",
   "metadata": {
    "pycharm": {
     "name": "#%% md\n"
    }
   },
   "source": [
    "Next we register our standard:\n"
   ]
  },
  {
   "cell_type": "code",
   "execution_count": null,
   "metadata": {
    "collapsed": false,
    "jupyter": {
     "outputs_hidden": false
    },
    "pycharm": {
     "name": "#%%\n"
    }
   },
   "outputs": [],
   "source": [
    "from weldx.config import add_quality_standard\n",
    "\n",
    "add_quality_standard(qs)"
   ]
  },
  {
   "cell_type": "markdown",
   "metadata": {
    "pycharm": {
     "name": "#%% md\n"
    }
   },
   "source": [
    "At this point there isn't any difference to an installed standard anymore.\n",
    "WelDX now knows about your standard and where to find its resources.\n",
    "We can activate it by using the same name we used for our manifest files.\n",
    "Since there is only one version, we can omit the version number:\n"
   ]
  },
  {
   "cell_type": "code",
   "execution_count": null,
   "metadata": {
    "collapsed": false,
    "jupyter": {
     "outputs_hidden": false
    },
    "pycharm": {
     "name": "#%%\n"
    }
   },
   "outputs": [],
   "source": [
    "from weldx.config import enable_quality_standard\n",
    "\n",
    "enable_quality_standard(\"my_standard\")"
   ]
  },
  {
   "cell_type": "markdown",
   "metadata": {
    "pycharm": {
     "name": "#%% md\n"
    }
   },
   "source": [
    "So let's try to store our `MeasurementEquipment` we created earlier.\n",
    "We will use the `WeldxFile` class ([click here to get to the tutorial](weldxfile.ipynb)) to save our ASDF file into a buffer and not to the hard drive:"
   ]
  },
  {
   "cell_type": "code",
   "execution_count": null,
   "metadata": {
    "collapsed": false,
    "jupyter": {
     "outputs_hidden": false
    },
    "pycharm": {
     "name": "#%%\n"
    }
   },
   "outputs": [],
   "source": [
    "try:\n",
    "    WeldxFile(tree={\"equipment\": my_equipment}, mode=\"rw\")\n",
    "except asdf.ValidationError:\n",
    "    print(\"Ups..., got some lengthy validation error...\")"
   ]
  },
  {
   "cell_type": "markdown",
   "metadata": {
    "pycharm": {
     "name": "#%% md\n"
    }
   },
   "source": [
    "As you can see, we get an `ValidationError`.\n",
    "The reason is that our new standard requires from our `MeasurementEquipment` that it has some meta data attached to it and\n",
    "we didn't do that.\n",
    "Let's attach a serial_number as meta data and try it again:"
   ]
  },
  {
   "cell_type": "code",
   "execution_count": null,
   "metadata": {
    "collapsed": false,
    "jupyter": {
     "outputs_hidden": false
    },
    "pycharm": {
     "name": "#%%\n"
    }
   },
   "outputs": [],
   "source": [
    "my_equipment.wx_metadata = {\"serial_number\": \"not a number\"}\n",
    "\n",
    "try:\n",
    "    WeldxFile(tree={\"equipment\": my_equipment}, mode=\"rw\")\n",
    "except asdf.ValidationError:\n",
    "    print(\"Still getting a validation error...\")"
   ]
  },
  {
   "cell_type": "markdown",
   "metadata": {
    "pycharm": {
     "name": "#%% md\n"
    }
   },
   "source": [
    "We still get a validation error since we required that the serial number has to be a number and not a string.\n",
    "So let's correct this mistake and try it one last time:"
   ]
  },
  {
   "cell_type": "code",
   "execution_count": null,
   "metadata": {
    "collapsed": false,
    "jupyter": {
     "outputs_hidden": false
    },
    "pycharm": {
     "name": "#%%\n"
    }
   },
   "outputs": [],
   "source": [
    "my_equipment.wx_metadata = {\"serial_number\": 1234}\n",
    "file = WeldxFile(tree={\"equipment\": my_equipment}, mode=\"rw\")"
   ]
  },
  {
   "cell_type": "markdown",
   "metadata": {
    "pycharm": {
     "name": "#%% md\n"
    }
   },
   "source": [
    "This time we succeeded because our equipment data satisfies the new standard.\n",
    "Taking a look into the written file proofs that it worked:\n"
   ]
  },
  {
   "cell_type": "code",
   "execution_count": null,
   "metadata": {
    "collapsed": false,
    "jupyter": {
     "outputs_hidden": false
    },
    "pycharm": {
     "name": "#%%\n"
    }
   },
   "outputs": [],
   "source": [
    "file.show_asdf_header()"
   ]
  },
  {
   "cell_type": "markdown",
   "metadata": {
    "pycharm": {
     "name": "#%% md\n"
    }
   },
   "source": [
    "## Make your standard installable\n",
    "\n",
    "If you like to create your own installable quality standard, follow the instructions of this [template repository on GitHub](https://github.com/BAMWelDX/quality-standard-template)."
   ]
  }
 ],
 "metadata": {
  "kernelspec": {
   "display_name": "weldx",
   "language": "python",
   "name": "weldx-dev"
  },
  "language_info": {
   "codemirror_mode": {
    "name": "ipython",
    "version": 3
   },
   "file_extension": ".py",
   "mimetype": "text/x-python",
   "name": "python",
   "nbconvert_exporter": "python",
   "pygments_lexer": "ipython3",
   "version": "3.9.2"
  }
 },
 "nbformat": 4,
 "nbformat_minor": 4
}
