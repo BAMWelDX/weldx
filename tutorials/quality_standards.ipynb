{
 "cells": [
  {
   "cell_type": "markdown",
   "metadata": {
    "collapsed": true,
    "pycharm": {
     "name": "#%% md\n"
    }
   },
   "source": [
    "# Quality standards\n",
    "\n",
    "## Imports"
   ]
  },
  {
   "cell_type": "code",
   "execution_count": 1,
   "outputs": [],
   "source": [
    "from weldx.config import Config, QualityStandard\n",
    "import fs\n",
    "import yaml\n",
    "from weldx.measurement import  GenericEquipment"
   ],
   "metadata": {
    "collapsed": false,
    "pycharm": {
     "name": "#%%\n"
    }
   }
  },
  {
   "cell_type": "markdown",
   "source": [
    "## Introduction\n",
    "\n",
    "The main purposes of WelDX is to provide a file format for experimental data that is self explanatory and contains all\n",
    "relevant information about the conducted experiment.\n",
    "This allows fellow researchers to understand and analyze the data without taking part in the experiment or having access\n",
    "to the persons who did.\n",
    "We assure this by introducing quality standards for each type of experiment and every other information that\n",
    "describes certain aspects of an experiment like coordinate systems, sensors or specimens.\n",
    "Every time a WelDX file is written or read, it is validated against those standards.\n",
    "\n",
    "## Schema files\n",
    "\n",
    "Every standard used by WelDX is defined by schema files.\n",
    "A schema file is a [YAML](https://yaml.org/)-file that defines the allowed properties of an serializable object.\n",
    "How such a schema file is generated is not part of this tutorial, but you can find further information regarding this\n",
    "topic in the official\n",
    "[documentation of the ASDF standard](https://asdf-standard.readthedocs.io/en/latest/schemas.html) which is the\n",
    "foundation of a WelDX file.\n",
    "Furthermore, an overview of all pre-defined schema files can be found on the [Standards](../standard.rst) page of this\n",
    "documentation.\n",
    "\n",
    "> todo: fix link\n",
    "\n",
    "## Installing and using quality standards\n",
    "\n",
    "The WelDX API comes with a default schema for every object.\n",
    "So if you save an ASDF file using the WelDX extension you already employ the default WelDX quality standard.\n",
    "However, the standards we defined might not suit your needs.\n",
    "Therefore, the WelDX API offers a mechanism to override an arbitrary number of default schemas.\n",
    "Before we discuss, how a custom standard can be generated, let's assume that you have found and downloaded one.\n",
    "Each quality standard that was created following the guidelines (Todo: Link) can be installed using pythons package\n",
    "manager `pip`.\n",
    "So the first step would be to install the standard as a python package:\n",
    "\n",
    "~~~ shell\n",
    "pip install NAME_OF_THE_STANDARD\n",
    "~~~\n",
    "\n",
    "Installing the quality standard registers it to the WelDX API so that it knows that the standard exists and where to\n",
    "find the corresponding data.\n",
    "If you want to use the standard, you have to activate it first:\n",
    "\n",
    "~~~ python\n",
    "from weldx.config import Config\n",
    "\n",
    "Config.enable_quality_standard(NAME_OF_THE_STANDARD, VERSION_OF_THE_STANDARD)\n",
    "~~~\n",
    "\n",
    "The version number is optional.\n",
    "If you don't provide one, the latest available version will be used.\n",
    "And that's all there is to know about using standards.\n",
    "\n",
    "## Creating custom standards\n",
    "\n",
    "Creating custom standards is fairly easy if you already know how a schema file looks like.\n",
    "To keep things simple, we won't discuss here how you can provide an installable standard because this might be a bit\n",
    "confusing at the beginning.\n",
    "Instead we will just focus on the files and their content.\n",
    "\n",
    "Let's say we want to set a new quality standard for the `GenericEquipment`.\n",
    "In our short example, we will use the following file structure:"
   ],
   "metadata": {
    "collapsed": false,
    "pycharm": {
     "name": "#%% md\n"
    }
   }
  },
  {
   "cell_type": "code",
   "execution_count": 2,
   "outputs": [
    {
     "name": "stdout",
     "output_type": "stream",
     "text": [
      "`-- resources\n",
      "    `-- my_organization\n",
      "        |-- manifests\n",
      "        |   `-- my_standard-1.0.0.yaml\n",
      "        `-- schemas\n",
      "            `-- my_schema-1.0.0.yaml\n"
     ]
    }
   ],
   "source": [
    "mem_fs = fs.open_fs('mem://')\n",
    "mem_fs.makedirs(\"resources/my_organization/manifests\")\n",
    "mem_fs.makedirs(\"resources/my_organization/schemas\")\n",
    "mem_fs.listdir(\"\")\n",
    "\n",
    "mem_fs.create(\"resources/my_organization/manifests/my_standard-1.0.0.yaml\")\n",
    "mem_fs.create(\"resources/my_organization/schemas/my_schema-1.0.0.yaml\")\n",
    "mem_fs.tree()"
   ],
   "metadata": {
    "collapsed": false,
    "pycharm": {
     "name": "#%%\n"
    }
   }
  },
  {
   "cell_type": "markdown",
   "source": [
    "The directory structure is based on how an installable standard has to be organized but the only thing that really\n",
    "matters for us at the moment is the content of the `my_organization` directory.\n",
    "It is subdivided into `manifests` and `schemas`.\n",
    "All of your custom schemas go into the `schemas` directory.\n",
    "The `manifests` directory contains so called manifest files.\n",
    "Their purpose is to manage which schema belongs to which version of your standard.\n",
    "All manifests are YAML files and must be named like your standard with the corresponding version number attached to the\n",
    "end.\n",
    "Here we will only use a single manifest file called `my_standard-1.0.0.yaml`.\n",
    "\n",
    "Now before we start looking into the different files, let's create an instance of the `GenericEpuipment` class that we\n",
    "want to serialize using a new quality standard:"
   ],
   "metadata": {
    "collapsed": false,
    "pycharm": {
     "name": "#%% md\n"
    }
   }
  },
  {
   "cell_type": "code",
   "execution_count": 3,
   "outputs": [],
   "source": [
    "my_equipment = GenericEquipment(\"my_equipment\")"
   ],
   "metadata": {
    "collapsed": false,
    "pycharm": {
     "name": "#%%\n"
    }
   }
  },
  {
   "cell_type": "markdown",
   "source": [],
   "metadata": {
    "collapsed": false,
    "pycharm": {
     "name": "#%% md\n"
    }
   }
  },
  {
   "cell_type": "code",
   "source": [
    "manifest = \"\"\"\n",
    "id: http://stsci.edu/asdf/extensions/transform/manifests/transform-1.0.0\n",
    "extension_uri: http://stsci.edu/asdf/extensions/transform-1.0.0\n",
    "title: Transform extension 1.0.0\n",
    "description: |-\n",
    "  A set of tags for serializing data transforms.\n",
    "asdf_standard_requirement: 1.0.0\n",
    "tags:\n",
    "- uri: \"http://weldx.bam.de/schemas/weldx/core/transformations/local_coordinate_system-1.0.0\"\n",
    "  file: \"lcs_schema_fancy\"\n",
    "\"\"\""
   ],
   "metadata": {
    "collapsed": false,
    "pycharm": {
     "name": "#%%\n"
    }
   },
   "execution_count": 4,
   "outputs": []
  },
  {
   "cell_type": "code",
   "execution_count": 5,
   "outputs": [],
   "source": [
    "with mem_fs.open(\"resources/my_organization/manifests/my_standard-1.0.0.yaml\", \"w\") as file:\n",
    "    file.write(manifest)"
   ],
   "metadata": {
    "collapsed": false,
    "pycharm": {
     "name": "#%%\n"
    }
   }
  },
  {
   "cell_type": "code",
   "execution_count": 6,
   "outputs": [
    {
     "name": "stdout",
     "output_type": "stream",
     "text": [
      "{'id': 'http://stsci.edu/asdf/extensions/transform/manifests/transform-1.0.0', 'extension_uri': 'http://stsci.edu/asdf/extensions/transform-1.0.0', 'title': 'Transform extension 1.0.0', 'description': 'A set of tags for serializing data transforms.', 'asdf_standard_requirement': '1.0.0', 'tags': [{'uri': 'http://weldx.bam.de/schemas/weldx/core/transformations/local_coordinate_system-1.0.0', 'file': 'lcs_schema_fancy'}]}\n"
     ]
    }
   ],
   "source": [
    "with mem_fs.open(\"resources/my_organization/manifests/my_standard-1.0.0.yaml\", \"r\") as file:\n",
    "    content = yaml.load(file, Loader=yaml.SafeLoader)\n",
    "    print(content)"
   ],
   "metadata": {
    "collapsed": false,
    "pycharm": {
     "name": "#%%\n"
    }
   }
  },
  {
   "cell_type": "code",
   "execution_count": 7,
   "outputs": [],
   "source": [
    "qs = QualityStandard(mem_fs.opendir(\"resources/my_organization\"))"
   ],
   "metadata": {
    "collapsed": false,
    "pycharm": {
     "name": "#%%\n"
    }
   }
  }
 ],
 "metadata": {
  "kernelspec": {
   "name": "weldx",
   "language": "python",
   "display_name": "weldx"
  },
  "language_info": {
   "codemirror_mode": {
    "name": "ipython",
    "version": 2
   },
   "file_extension": ".py",
   "mimetype": "text/x-python",
   "name": "python",
   "nbconvert_exporter": "python",
   "pygments_lexer": "ipython2",
   "version": "2.7.6"
  }
 },
 "nbformat": 4,
 "nbformat_minor": 0
}