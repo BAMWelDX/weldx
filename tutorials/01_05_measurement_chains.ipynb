{
 "cells": [
  {
   "cell_type": "markdown",
   "metadata": {},
   "source": [
    "# Measurement chains \n",
    "\n",
    "## Overview\n",
    "\n",
    "**This tutorial covers:**\n",
    "\n",
    "The `MeasurementChain` class that describes in detail how the experimental date was acquitred\n",
    "\n",
    "**Requirements:**\n",
    "\n",
    "Opening and navigating through WelDX files\n",
    " TODO: link tutorial, once it is merged"
   ]
  },
  {
   "cell_type": "markdown",
   "metadata": {},
   "source": [
    "## Plotting the measurement chain\n",
    "\n",
    "When working with experimental data we sometimes need more information than just the pure data itself.\n",
    "For example, we might want to know how large the measurement error can be or if the data has already been proprocessed before it was written to the file.\n",
    "Getting this information might be challenging because the person who conducted the experiment might be not available to you or the information is simply lost because nobody remembers and it hasn't been documented.\n",
    "\n",
    "WelDX solves this problem by enforcing that the experimental setup is actually documented and stored during the creation of a file.\n",
    "Therefore, it uses a dedicated data structure called the `Measurement`.\n",
    "Let's get it out of our example file and explore the information it provides.\n",
    "\n",
    "As always, we get us a quick overview of the file content to find out how to access the data:"
   ]
  },
  {
   "cell_type": "code",
   "execution_count": null,
   "metadata": {},
   "outputs": [],
   "source": [
    "from weldx import WeldxFile\n",
    "\n",
    "wxfile = WeldxFile(\"single_pass_weld.wx\")"
   ]
  },
  {
   "cell_type": "code",
   "execution_count": null,
   "metadata": {},
   "outputs": [],
   "source": [
    "wxfile.info()"
   ]
  },
  {
   "cell_type": "markdown",
   "metadata": {},
   "source": [
    "From the file content we see, that thera actually multiple `Measurement` objects stored under the key `measurements`.\n",
    "Let's extract the list and print the names of all measurements by using the `name` attribute:"
   ]
  },
  {
   "cell_type": "code",
   "execution_count": null,
   "metadata": {},
   "outputs": [],
   "source": [
    "measurements = wxfile[\"measurements\"]\n",
    "for measurement in measurements:\n",
    "    print(measurement.name)"
   ]
  },
  {
   "cell_type": "code",
   "execution_count": null,
   "metadata": {},
   "outputs": [],
   "source": [
    "measurements[0].measurement_chain.plot()"
   ]
  },
  {
   "cell_type": "code",
   "execution_count": null,
   "metadata": {},
   "outputs": [],
   "source": []
  }
 ],
 "metadata": {
  "kernelspec": {
   "display_name": "weldx",
   "language": "python",
   "name": "weldx"
  },
  "language_info": {
   "codemirror_mode": {
    "name": "ipython",
    "version": 3
   },
   "file_extension": ".py",
   "mimetype": "text/x-python",
   "name": "python",
   "nbconvert_exporter": "python",
   "pygments_lexer": "ipython3",
   "version": "3.8.11"
  }
 },
 "nbformat": 4,
 "nbformat_minor": 5
}
