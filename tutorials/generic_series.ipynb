{
 "cells": [
  {
   "cell_type": "markdown",
   "id": "072bc143",
   "metadata": {},
   "source": [
    "# `GenericSeries` Tutorial\n",
    "\n",
    "## Introduction\n",
    "\n",
    "The `GenericSeries` class describes a potentially multi-dimensional quantity that depends on one or more dimensions.\n",
    "Some examples are the position of the welding torch that depends on time, or the workpiece temperature field that depends on time and space.\n",
    "The data of the `GenericSeries` can either be stored in form of explicit values or as a mathematical expression.\n",
    "It's main feature is that you can evaluate the data at any given coordinate of the dimensions it depends on.\n",
    "This happens either through interpolation if the data is discrete or through direct evaluation of the mathematical expression.\n",
    "We can use the `GenericSeries` in our scripts and jupyter notebooks by importing it from the WelDX python package:"
   ]
  },
  {
   "cell_type": "code",
   "execution_count": null,
   "id": "4451db83",
   "metadata": {},
   "outputs": [],
   "source": []
  },
  {
   "cell_type": "markdown",
   "id": "5f591d3f",
   "metadata": {},
   "source": [
    "For this tutorial, we will also need to import the following packages and classes:"
   ]
  },
  {
   "cell_type": "code",
   "execution_count": null,
   "id": "68904ace",
   "metadata": {},
   "outputs": [],
   "source": [
    "import matplotlib.pyplot as plt\n",
    "import numpy as np\n",
    "from pint import DimensionalityError\n",
    "from xarray import DataArray\n",
    "\n",
    "from weldx import Q_, GenericSeries"
   ]
  },
  {
   "cell_type": "markdown",
   "id": "9b604913",
   "metadata": {},
   "source": [
    "## Terminology\n",
    "\n",
    "Before we can start with the actual tutorial, we need to discuss some terminology.\n",
    "It is essential to understand the differences between the following terms to avoid confusion throughout the course of this tutorial.\n",
    "\n",
    "**Dimension**\n",
    "\n",
    "Each dimension describes a single degree of freedom. \n",
    "We can think of it as a 1d-coordinate axis. \n",
    "Using multiple dimensions will create a multi-dimensional space. \n",
    "A typical example would be the dimensions $x$, $y$, and $z$ that form 3d-space. \n",
    "Another popular dimension is time.\n",
    "\n",
    "**Coordinates**\n",
    "\n",
    "A coordinate is a specific value or label on the 1d-axis of a dimension. \n",
    "We can specify the location of a point in 3d-space by providing its coordinates. \n",
    "For example, we can use $x=1m$, $y=3m$, and $z=0m$.\n",
    "These are coordinates for the dimensions $x$, $y$, and $z$.\n",
    "Dimensions represent degrees of freedom, coordinates are discrete values of a dimension.\n",
    "\n",
    "**Variable**\n",
    "\n",
    "If a mathematical expression is used to describe the `GenericSeries`, the individual terms of this expression can be divided into two groups. \n",
    "The first group are variables. \n",
    "Variables are symbols that don't get values assigned to them during the creation of a `GenericSeries`.\n",
    "They let us evaluate the expression for different coordinates.\n",
    "Consider the following expression:\n",
    "\n",
    "$$\n",
    "2 \\cdot x + 3\n",
    "$$\n",
    "\n",
    "Here, $x$ is our variable. \n",
    "We can evaluate this expression over and over again by providing different values/coordinates for $x$.\n",
    "For example, if we would use $x=2$, the result is $7$. \n",
    "With $x=4$ we would get $11$. \n",
    "An important fact to note is that each variable of a `GenericSeries`' expression is a dimension. \n",
    "But not every dimension of an expression is necessarily represented by a variable.\n",
    "We will show some code examples later that make this more understandable.\n",
    "\n",
    "**Parameter**\n",
    "\n",
    "The second group of therms in an expression based `GenericSeries` are parameters.\n",
    "Parameters are also symbols of an expression, but in contrast to variables, they already get discrete values assigned to them.\n",
    "Consider the following expression:\n",
    "\n",
    "$$\n",
    "a \\cdot t + b\n",
    "$$\n",
    "\n",
    "with:\n",
    "\n",
    "$$\n",
    "\\begin{matrix}\n",
    "a=&3m/s\\\\\n",
    "b=&5m\n",
    "\\end{matrix}\n",
    "$$\n",
    "\n",
    "$a$ and $b$ are parameters, because they have values assigned to them. \n",
    "`t` is still a variable"
   ]
  },
  {
   "cell_type": "markdown",
   "id": "460bb33e",
   "metadata": {},
   "source": [
    "## Discrete data\n",
    "\n",
    "### Construction\n",
    "\n",
    "As mentioned in the introduction, the `GenericSeries` can either describe a dimension dependent quantity by a set of discrete values or a mathematical expression.\n",
    "We will start this tutorial with discrete values.\n",
    "\n",
    "Let's say we want to describe the temperature of a specimen along our welding groove during a single pass welding experiment.\n",
    "The spatial direction along the groove is the dimension `x`.\n",
    "Time is represented by the dimension `t`.\n",
    "We have measured the temperature at 4 different points in time and at 6 different positions.\n",
    "Our data measured in Kelvin is:"
   ]
  },
  {
   "cell_type": "code",
   "execution_count": null,
   "id": "13ea8fe0",
   "metadata": {},
   "outputs": [],
   "source": [
    "t_0 = [300, 300, 300, 300, 300, 300]\n",
    "t_1 = [800, 1200, 400, 300, 300, 300]\n",
    "t_2 = [450, 500, 600, 800, 1200, 400]\n",
    "t_3 = [412, 425, 450, 500, 600, 800]\n",
    "\n",
    "data = Q_([t_0, t_1, t_2, t_3], \"K\")"
   ]
  },
  {
   "cell_type": "markdown",
   "id": "9d8eaec7",
   "metadata": {},
   "source": [
    "We also know the coordinates of the data in `x` and `t`:"
   ]
  },
  {
   "cell_type": "code",
   "execution_count": null,
   "id": "1eebe01a",
   "metadata": {},
   "outputs": [],
   "source": [
    "coords_t = Q_([0, 10, 20, 30], \"s\")\n",
    "coords_x = Q_([0, 5, 10, 15, 20, 25], \"cm\")"
   ]
  },
  {
   "cell_type": "markdown",
   "id": "ff2d8ffd",
   "metadata": {},
   "source": [
    "Here is a quick plot of our temperature data:"
   ]
  },
  {
   "cell_type": "code",
   "execution_count": null,
   "id": "6dda76d8",
   "metadata": {},
   "outputs": [],
   "source": [
    "plt.plot(coords_x.m, np.transpose(data.m), label=[f\"t={v}\" for v in coords_t])\n",
    "plt.gca().legend()"
   ]
  },
  {
   "cell_type": "markdown",
   "id": "d033cdd0",
   "metadata": {},
   "source": [
    "Now we can create our `GenericSeries` as follows:"
   ]
  },
  {
   "cell_type": "code",
   "execution_count": null,
   "id": "51e24e42",
   "metadata": {},
   "outputs": [],
   "source": [
    "gs_discrete = GenericSeries(\n",
    "    data=data, dims=[\"t\", \"x\"], coords={\"t\": coords_t, \"x\": coords_x}\n",
    ")\n",
    "gs_discrete"
   ]
  },
  {
   "cell_type": "markdown",
   "id": "ab149d03",
   "metadata": {},
   "source": [
    "> TODO: Check and update discrete __repr__ -> do not print all values, don't print Coordinates twice\n",
    "\n",
    "The first argument is the raw data.\n",
    "`dims` expects a list of strings that we can use to give our dimensions names.\n",
    "With `coords` we provide the coordinates of our discrete values.\n",
    "`dims` and `coords` are optional.\n",
    "If you don't provide dimension names, the `GenericSeries` will use default names:"
   ]
  },
  {
   "cell_type": "code",
   "execution_count": null,
   "id": "bebf7fa2",
   "metadata": {},
   "outputs": [],
   "source": [
    "GenericSeries(data=data).dims"
   ]
  },
  {
   "cell_type": "markdown",
   "id": "abe28b6c",
   "metadata": {},
   "source": [
    "If you are already familiar with the `xarray` python package, you might have noticed the similarities between the construction of a `GenericSeries` and an `xarray.DataArray`.\n",
    "In fact, the discrete version of the `GenericSeries` is based on an `xarray.DataArray` and they share some interfaces with comparable behavior."
   ]
  },
  {
   "cell_type": "markdown",
   "id": "84e917c6",
   "metadata": {},
   "source": [
    "### Accessing data\n",
    "\n",
    "If you want to access a single item you can use the `[]` operator to select elements by index:"
   ]
  },
  {
   "cell_type": "code",
   "execution_count": null,
   "id": "1391d51e",
   "metadata": {},
   "outputs": [],
   "source": [
    "gs_discrete[3, 4]"
   ]
  },
  {
   "cell_type": "markdown",
   "id": "2ef97f8d",
   "metadata": {},
   "source": [
    "Slicing is also possible:"
   ]
  },
  {
   "cell_type": "code",
   "execution_count": null,
   "id": "ffaf89fe",
   "metadata": {},
   "outputs": [],
   "source": [
    "gs_discrete[2:4, :]"
   ]
  },
  {
   "cell_type": "markdown",
   "id": "4d1be0c3",
   "metadata": {},
   "source": [
    "> TODO: implement and demonstrate sel function like in xarray"
   ]
  },
  {
   "cell_type": "markdown",
   "id": "8c08b4b4",
   "metadata": {},
   "source": [
    "## Evaluation/Interpolation\n",
    "\n",
    "Even though the `GenericSeries` might be based on discrete values, you should think of it as some kind of mathematical function object that can be evaluated at any coordinate along its dimensions.\n",
    "To do so, we simply use the call operator `()` on our `GenericSeries` and specify the coordinates we are interested in.\n",
    "For example, we might be interested in the temperature at $x=12cm$ and $t=24s$.\n",
    "The coordinates are passed as keyword arguments where the key is the dimension and the value are the coordinates we are interested in:\n",
    "\n",
    "> **TODO: Really IMPORTANT** -> We need to assure that the units at the coordinates are used correctly. Currently, only the magnitude is taken. So using \"nm\" or \"m\" instead of \"cm\" has no effect on the result. I could even use a totally unrelated unit without any problems\n"
   ]
  },
  {
   "cell_type": "code",
   "execution_count": null,
   "id": "3b4d0aed",
   "metadata": {},
   "outputs": [],
   "source": [
    "gs_discrete(t=\"0.25mins\", x=\"120mm\")"
   ]
  },
  {
   "cell_type": "markdown",
   "id": "36c52da6",
   "metadata": {},
   "source": [
    "It is not necessary to provide coordinates for all dimensions.\n",
    "A single dimension is already enough:"
   ]
  },
  {
   "cell_type": "code",
   "execution_count": null,
   "id": "648ec4c2",
   "metadata": {},
   "outputs": [],
   "source": [
    "gs_discrete(t=\"24s\")"
   ]
  },
  {
   "cell_type": "markdown",
   "id": "10894227",
   "metadata": {},
   "source": [
    "> TODO: check dim removal\n",
    "\n",
    "Of course, we can also evaluate multiple coordinate values for each dimension:"
   ]
  },
  {
   "cell_type": "code",
   "execution_count": null,
   "id": "e72daaa7",
   "metadata": {},
   "outputs": [],
   "source": [
    "gs_discrete(t=Q_([11, 23], \"s\"), x=Q_([3, 14, 22], \"cm\"))"
   ]
  },
  {
   "cell_type": "markdown",
   "id": "7eef6dd4",
   "metadata": {},
   "source": [
    "You may have noticed that we exclusively used coordinate values that do not match the coordinates we initially provided to the `GenericSeries`.\n",
    "The actual data values are obtained by interpolation.\n",
    "By default, the `GenericSeries` uses linear interpolation.\n",
    "It can be changed during construction using the `interpolation` parameter or by assigning a new value using the `interpolation` setter:\n",
    "\n",
    "> TODO: mention interpolation outside of boundaries"
   ]
  },
  {
   "cell_type": "code",
   "execution_count": null,
   "id": "eae81506",
   "metadata": {},
   "outputs": [],
   "source": [
    "gs_discrete.interpolation = \"linear\""
   ]
  },
  {
   "cell_type": "markdown",
   "id": "bdce66f2",
   "metadata": {},
   "source": [
    "Let's interpolate the data for $t=15s$ and plot it together with the two closest timesteps:"
   ]
  },
  {
   "cell_type": "code",
   "execution_count": null,
   "id": "082657a7",
   "metadata": {},
   "outputs": [],
   "source": [
    "plt.plot(coords_x.m, np.transpose(gs_discrete(t=\"15s\").data[0].m), label=\"t=15s\")\n",
    "plt.plot(\n",
    "    coords_x.m,\n",
    "    np.transpose(gs_discrete[1:3].data.m),\n",
    "    label=[f\"t={v}s\" for v in gs_discrete.data_array.t[1:3].data],\n",
    ")\n",
    "plt.gca().legend();"
   ]
  },
  {
   "cell_type": "markdown",
   "id": "79a260f0",
   "metadata": {},
   "source": [
    "As one might expect the linearly interpolated data is the mean value of both curves since $t=15s$ lies directly in the middle between $t=10s$ and $t=20s$.\n",
    "However, that doesn't really look like the correct temperature distribution for a single torch moving along the groove.\n",
    "Instead the peak value should translate from left to right.\n",
    "Of cause, with dense data from real measurements, this would be just a minor issue with no practical relevance, but it serves as a nice transition two our next topic."
   ]
  },
  {
   "cell_type": "markdown",
   "id": "84c5f821",
   "metadata": {},
   "source": [
    "## Using Expressions\n",
    "\n",
    "### A simple example\n",
    "\n",
    "Another way to define a `GenericSeries` is using mathematical expressions.\n",
    "In contrast to the previously shown approach we do not need to generate and store a lot of discrete data.\n",
    "All we need is a simple formula.\n",
    "Additionally, we do not get interpolation errors as in the previous section since we can evaluate the expression exactly for any given set of coordinates.\n",
    "\n",
    "Let's start with a more or less simple example where we try to depict the data from the previous section as an expression.\n",
    "Note that we are not thriving for an exact match of the values, since this is only an example of the `GenericSeries`'s features.\n",
    "The following equation resembles a wave that travels towards increasing $x$ values with increasing v $t$:\n",
    "\n",
    "$$\n",
    "f\\left(x,t\\right)=\\mathrm{tanh}\\left(\\frac{x-t}{5}\\right) - \\mathrm{tanh}\\left(x-t-10\\right)\n",
    "$$\n",
    "\n",
    "Like in the previous section, the slope on the right-hand side of the peak is much steeper.\n",
    "We now translate this equation into an expression string that can be understood by the `GenericSeries`:"
   ]
  },
  {
   "cell_type": "code",
   "execution_count": null,
   "id": "c4b011e0",
   "metadata": {},
   "outputs": [],
   "source": [
    "expr = \"tanh((x-t)/5) - tanh(x-t-10)\""
   ]
  },
  {
   "cell_type": "markdown",
   "id": "0480d44a",
   "metadata": {},
   "source": [
    "The syntax is pretty close to python code, except that it is enclosed inside of a string.\n",
    "Now we could create a `MathematicalExpression` using this expression string and pass it to the `GenericSeries`, but it is much easier to simply pass the string directly to the `GenericSeries`:\n",
    "\n",
    "> TODO Link MathExpr tutorial"
   ]
  },
  {
   "cell_type": "code",
   "execution_count": null,
   "id": "1cd2c1eb",
   "metadata": {},
   "outputs": [],
   "source": [
    "gs_expr = GenericSeries(expr)"
   ]
  },
  {
   "cell_type": "markdown",
   "id": "35d8d0c9",
   "metadata": {},
   "source": [
    "We have now created a `GenericSeries` based on an expression.\n",
    "Wasn't that hard, right?\n",
    "Let's print it and have a look at its representation:"
   ]
  },
  {
   "cell_type": "code",
   "execution_count": null,
   "id": "974c4538",
   "metadata": {},
   "outputs": [],
   "source": [
    "gs_expr"
   ]
  },
  {
   "cell_type": "markdown",
   "id": "5fdf4bb0",
   "metadata": {},
   "source": [
    "> TODO: fix __repr__\n",
    "\n",
    "The first item of the output is the expression we entered, but there are also the fields `Parameters`, `Dimensions`, and `Units`.\n",
    "Our current `GenericSeries` has no parameters (see terminology at the beginning) since we did not define any so far.\n",
    "The dimensions `x` and `t` were automatically extracted from the provided expression.\n",
    "The field `Units` refers to the units our quantity after we evaluated the expression.\n",
    "As you can see, the field is currently empty and we will soon understand why this is the case.\n",
    "But first, we will evaluate our equation as we did before with the discrete version, except that we will not use units here.\n",
    "Again, we will talk about this later."
   ]
  },
  {
   "cell_type": "code",
   "execution_count": null,
   "id": "e70f4b00",
   "metadata": {},
   "outputs": [],
   "source": [
    "coords_t = [-5, 5, 15]\n",
    "coords_x = list(range(25))\n",
    "result = gs_expr(t=coords_t, x=coords_x)\n",
    "result"
   ]
  },
  {
   "cell_type": "markdown",
   "id": "a7a9fac1",
   "metadata": {},
   "source": [
    "The result is a new `GenericSeries` with discrete values at the coordinates we provided.\n",
    "Let's create a plot from the data:"
   ]
  },
  {
   "cell_type": "code",
   "execution_count": null,
   "id": "6804cdef",
   "metadata": {},
   "outputs": [],
   "source": [
    "plt.plot(\n",
    "    result.data_array.x,\n",
    "    np.transpose(result.data.m),\n",
    "    label=[f\"t={v}\" for v in result.data_array.t.data],\n",
    ")\n",
    "plt.gca().legend();"
   ]
  },
  {
   "cell_type": "markdown",
   "id": "efa7aac9",
   "metadata": {},
   "source": [
    "### Adding parameters\n",
    "\n",
    "While we can already recognize in the previous plot, that it has some similarities with the plot of the discrete data, a look at the y-axis tells us, that the magnitudes do not match.\n",
    "We will correct this by multiplying with a scaling factor `s` and adding an offset `o`.\n",
    "The new expression is:"
   ]
  },
  {
   "cell_type": "code",
   "execution_count": null,
   "id": "da154d66",
   "metadata": {},
   "outputs": [],
   "source": [
    "expr_param = \"s * (tanh((x-t)/5) - tanh(x-t-10)) + o\""
   ]
  },
  {
   "cell_type": "markdown",
   "id": "0e6fd7c2",
   "metadata": {},
   "source": [
    "So far, there is nothing that distinct `s` and `o` from `x` and `t`.\n",
    "They are just another set of symbols in our equation.\n",
    "We will declare `s` and `o` as expression parameters during the construction of our `GenericSeries` using the `parameters` argument.\n",
    "It expects a dictionary, that maps a discrete value to any of our expressions symbols.\n",
    "Let us now do this for `s` and `o`:"
   ]
  },
  {
   "cell_type": "code",
   "execution_count": null,
   "id": "6a77adbe",
   "metadata": {},
   "outputs": [],
   "source": [
    "gs_expr_param = GenericSeries(\n",
    "    expr_param,\n",
    "    parameters=dict(s=450, o=300),\n",
    ")\n",
    "gs_expr_param"
   ]
  },
  {
   "cell_type": "markdown",
   "id": "fe2f5da8",
   "metadata": {},
   "source": [
    "As you can see, `s` and `o` now appear in the `Parameters` section together with the values we assigned to them while `t` and `x` are still variables.\n",
    "If we plot the new `GenericSeries` at the same coordinates as before, we can see the effect of our modifications on the y-axis:"
   ]
  },
  {
   "cell_type": "code",
   "execution_count": null,
   "id": "9aef1d67",
   "metadata": {},
   "outputs": [],
   "source": [
    "result_expr_param = gs_expr_param(t=coords_t, x=coords_x)\n",
    "plt.plot(\n",
    "    coords_x,\n",
    "    np.transpose(result_expr_param.data.m),\n",
    "    label=[f\"t={v}\" for v in coords_t],\n",
    ")\n",
    "plt.gca().legend();"
   ]
  },
  {
   "cell_type": "markdown",
   "id": "66ef4694",
   "metadata": {},
   "source": [
    "### Adding units"
   ]
  },
  {
   "cell_type": "markdown",
   "id": "016c2e96",
   "metadata": {},
   "source": [
    "The final piece we are missing so far in resembling the discrete data as expression are units.\n",
    "We avoided them so far, because they make things a bit more complicated.\n",
    "The problem is, that the units are evaluated at the same time as the numeric part which means that they actually need to be compatible during all operations.\n",
    "Looking at our equation, $x-t$ already violates this constraint since we can't subtract a time from a length.\n",
    "Furthermore, the hyperbolic tangent requires an angular unit.\n",
    "Luckily, the underlying unit system lets us get away with unitless numbers here, otherwise the prievious examples wouldn't have worked (we should mention at this point that plain numbers are implicitly cast to unitless quantities).\n",
    "Last but not least, the resulting values should be in Kelvin.\n",
    "\n",
    "We can solve these issues by simply introducing additional unit conversion parameters and adding the correct units to the existing ones.\n",
    "In our example expression, we introduce the additional parameters `a` and `b` with the only purpose to turn the units of `x` and `t` into an angular unit (it would be enough to only strip the unit so that we get a unitless value, but let's do it the right way).\n",
    "The expression now looks like this:"
   ]
  },
  {
   "cell_type": "code",
   "execution_count": null,
   "id": "9f20783a",
   "metadata": {},
   "outputs": [],
   "source": [
    "expr_units = \"s * (tanh((a*x-b*t)/5) - tanh(a*x-b*t-10)) + o\""
   ]
  },
  {
   "cell_type": "markdown",
   "id": "4c7b133c",
   "metadata": {},
   "source": [
    "We define the values for the parameters as follows:"
   ]
  },
  {
   "cell_type": "code",
   "execution_count": null,
   "id": "90ac6e78",
   "metadata": {},
   "outputs": [],
   "source": [
    "params_units = dict(s=\"450K\", o=\"300K\", a=\"rad/cm\", b=\"rad/s\")"
   ]
  },
  {
   "cell_type": "markdown",
   "id": "c418a6f1",
   "metadata": {},
   "source": [
    "Note that we added Kelvins as units to `s` and `o`.\n",
    "If we now try to create a new, updated `GenericSeries`, we will still get an error:"
   ]
  },
  {
   "cell_type": "code",
   "execution_count": null,
   "id": "3d43f6ef",
   "metadata": {},
   "outputs": [],
   "source": [
    "try:\n",
    "    GenericSeries(expr_units, parameters=params_units)\n",
    "except ValueError:\n",
    "    print(\"Still got an issue with the dimensions!\")"
   ]
  },
  {
   "cell_type": "markdown",
   "id": "2091c51e",
   "metadata": {},
   "source": [
    "The remaining problem here is that the `GenericSeries` doesn't know the units of our dimensions `x` and `t`.\n",
    "Because we didn't specify that, it assumes they are dimensionless.\n",
    "We can tell the `GenericSeries` what units those dimensions have by using the `units` input during initialization.\n",
    "It requires a simple mapping between the dimension and its unit like in the following example."
   ]
  },
  {
   "cell_type": "code",
   "execution_count": null,
   "id": "27b4b6c5",
   "metadata": {},
   "outputs": [],
   "source": [
    "gs_units = GenericSeries(expr_units, parameters=params_units, units=dict(x=\"cm\", t=\"s\"))\n",
    "gs_units"
   ]
  },
  {
   "cell_type": "markdown",
   "id": "8cbf992f",
   "metadata": {},
   "source": [
    "> **Additional note:** Actually, the `GenericSeries` doesn't require a unit for a dimension, but a \"dimensionality\" like length, time, temperature etc. It has no real relevance if you would assign seconds, minutes or hours to a dimension since the unit will be scaled internally\n",
    "\n",
    "Finally, we are able to construct our `GenericSeries` that also considers units.\n",
    "As you can see, all the provided units are now listed in the output above.\n",
    "Additionally, the output unit of the expression is now also listed under `Units` even though it was never explicitly specified.\n",
    "The `GenericSeries` is able to determine it on its own from the information it already has.\n",
    "\n",
    "> **TODO** Print dimension units as well\n",
    "\n",
    "If we now want to evaluate the expression, we also have to provide the coordinates as quantities with a fitting unit, otherwise we get an error as the following example shows:"
   ]
  },
  {
   "cell_type": "code",
   "execution_count": null,
   "id": "960646c5",
   "metadata": {},
   "outputs": [],
   "source": [
    "coords_t = [-5, 5, 15]\n",
    "coords_x = [5, 10, 25]\n",
    "try:\n",
    "    gs_units(t=coords_t, x=coords_x)\n",
    "except DimensionalityError:\n",
    "    print(\"You forgot the units!\")"
   ]
  },
  {
   "cell_type": "markdown",
   "id": "2d9d1f2e",
   "metadata": {},
   "source": [
    "Adding the correct units fixes the problem:"
   ]
  },
  {
   "cell_type": "code",
   "execution_count": null,
   "id": "dfbe0a96",
   "metadata": {},
   "outputs": [],
   "source": [
    "coords_t = Q_([-5, 5, 15], \"h\")\n",
    "coords_x = Q_([5, 10, 25], \"km\")\n",
    "\n",
    "gs_units(t=coords_t, x=coords_x)"
   ]
  },
  {
   "cell_type": "markdown",
   "id": "2a493bfd",
   "metadata": {},
   "source": [
    "In case you wonder, why all the output values are identical, have a look at the input units we used.\n",
    "If you change them to `\"s\"` and `\"cm\"` you will see values that are more in line with the previous examples, but they demonstrate that it is not important which units you assign to the dimensions during initialization.\n",
    "All that matters is the units \"dimensionality\"."
   ]
  },
  {
   "cell_type": "markdown",
   "id": "a9f0e143",
   "metadata": {},
   "source": [
    "### Parameter dimensions\n",
    "\n",
    "When we discussed the terminology, we stated that all variables of an expression based `GenericSeries` are dimensions, but not all dimensions are variables.\n",
    "We will now show you a dimension that is not a variable using a short example.\n",
    "Consider the following linear equation:\n"
   ]
  },
  {
   "cell_type": "code",
   "execution_count": null,
   "id": "6145fe9b",
   "metadata": {},
   "outputs": [],
   "source": [
    "expr_linear = \"a*t + b\""
   ]
  },
  {
   "cell_type": "markdown",
   "id": "de476df1",
   "metadata": {},
   "source": [
    "`t` is our only variable and represents time.\n",
    "`a` and `b` are parameters.\n",
    "So far we only used scalar parameters, but nothing hinders us to use arrays as well:"
   ]
  },
  {
   "cell_type": "code",
   "execution_count": null,
   "id": "32b1aee8",
   "metadata": {},
   "outputs": [],
   "source": [
    "GenericSeries(\n",
    "    expr_linear,\n",
    "    parameters=dict(a=Q_([1, 3, 5], \"m/s\"), b=Q_([5, 6, 7], \"m\")),\n",
    "    units=dict(t=\"s\"),\n",
    ")"
   ]
  },
  {
   "cell_type": "markdown",
   "id": "e3426763",
   "metadata": {},
   "source": [
    "In the output above, we notice that we got an additional dimension we did not define: `dim_0`.\n",
    "This happened because we used arrays for our parameters.\n",
    "An array is another dimension with discrete values.\n",
    "Since we did not define a dimension name, the `GenericSeries` assigned one itself, `dim_0`.\n",
    "It also assumes that all provided parameters share the same dimensions.\n",
    "But that doesn't have to be what we intended.\n",
    "Maybe we wanted `a` and `b` to have different dimensions.\n",
    "Therefore, we can also assign dimensions to parameters.\n",
    "This can either be done by providing the parameter as a tuple consisting of value and dimension name or as an `xarray.DataArray`:"
   ]
  },
  {
   "cell_type": "code",
   "execution_count": null,
   "id": "d079b734",
   "metadata": {},
   "outputs": [],
   "source": [
    "a = (Q_([1, 3, 5], \"m/s\"), \"c\")\n",
    "b = DataArray(Q_([5, 6, 7], \"m\"), dims=[\"v\"])\n",
    "\n",
    "gs_array = GenericSeries(\n",
    "    expr_linear,\n",
    "    parameters=dict(a=a, b=b),\n",
    "    units=dict(t=\"s\"),\n",
    ")\n",
    "gs_array"
   ]
  },
  {
   "cell_type": "markdown",
   "id": "7bfe6c34",
   "metadata": {},
   "source": [
    "As you can see, we now have three dimensions, while only one is an actual variable of our expression.\n",
    "If we evaluate the `GenericSeries`, the dimensions will be broadcastet and our result will be a new 3 dimensional discrete `GenericSeries`.\n",
    "But see for yourself:"
   ]
  },
  {
   "cell_type": "code",
   "execution_count": null,
   "id": "2fb880e1",
   "metadata": {},
   "outputs": [],
   "source": [
    "gs_array(t=Q_([0, 1], \"s\"))"
   ]
  },
  {
   "cell_type": "markdown",
   "id": "af2e45d6",
   "metadata": {},
   "source": [
    "> **todo** \n",
    "> - xarray parameters should not be printed as DataArray (clutters output)\n",
    "> - Values of parameter dims should be assigned as coordinates\n",
    "> - somehow print dimensions of parameters as well\n",
    "\n",
    "Parameters can also have more than one dimension:"
   ]
  },
  {
   "cell_type": "code",
   "execution_count": null,
   "id": "6a657348",
   "metadata": {},
   "outputs": [],
   "source": [
    "GenericSeries(\n",
    "    expr_linear,\n",
    "    parameters=dict(\n",
    "        a=Q_([[0, 1], [2, 3]], \"m/s\"),\n",
    "        b=Q_([1, 2], \"m\"),\n",
    "    ),\n",
    "    units=dict(t=\"s\"),\n",
    ")"
   ]
  },
  {
   "cell_type": "markdown",
   "id": "c1749641",
   "metadata": {},
   "source": [
    "Note that if you do not provide custom names for the dimensions, the `GenericSeries` will just enumerate them as in the example above.\n",
    "The enumeration is always restarted for each parameter. \n",
    "So `b` would actually use the dimension `dim_0`.\n",
    "To avoid any problems, always name your dimensions.\n",
    "If you use a tuple to name the dimensions of a multi-dimensional parameter, the second value has to be a list of names, where the first name refers to the most outer dimension and the last one to the most inner:"
   ]
  },
  {
   "cell_type": "code",
   "execution_count": null,
   "id": "756fd8be",
   "metadata": {},
   "outputs": [],
   "source": [
    "GenericSeries(\n",
    "    expr_linear,\n",
    "    parameters=dict(\n",
    "        a=(Q_([[0, 1], [2, 3]], \"m/s\"), [\"c\", \"v\"]), b=(Q_([1, 2], \"m\"), \"v\")\n",
    "    ),\n",
    "    units=dict(t=\"s\"),\n",
    ")"
   ]
  },
  {
   "cell_type": "markdown",
   "id": "4b965866",
   "metadata": {},
   "source": [
    "### Partial evaluation\n",
    "\n",
    "Like a `GenericSeries` constructed from discrete values, an expression based `GenericSeries` can also be evaluated partially.\n",
    "Here is a short example:"
   ]
  },
  {
   "cell_type": "code",
   "execution_count": null,
   "id": "6a77486d",
   "metadata": {},
   "outputs": [],
   "source": [
    "gs_reduced = gs_units(t=Q_([5, 10, 15], \"s\"))\n",
    "gs_reduced"
   ]
  },
  {
   "cell_type": "markdown",
   "id": "cca5e58c",
   "metadata": {},
   "source": [
    "> TODO: Order of dimensions should be fix. Some operations shuffle them more or less arbitrarily\n",
    "\n",
    "> TODO: List coordinates for already discrete dims\n",
    "\n",
    "In this case, we get a new expression-based `GenericSeries`.\n",
    "`t` now becomes a new parameter consisting of the provided values.\n",
    "As long as we do not provide coordinates for all variables of an expression, evaluating the `GenericSeries` will transform the corresponding variables into parameters.\n",
    "Only if all variables get coordinates assigned to them, the resulting `GenericSeries` will consist of discrete data.\n",
    "Let's evaluate the result from the previous evaluation to confirm this:"
   ]
  },
  {
   "cell_type": "code",
   "execution_count": null,
   "id": "063efeee",
   "metadata": {},
   "outputs": [],
   "source": [
    "gs_reduced(x=\"5cm\")"
   ]
  }
 ],
 "metadata": {
  "kernelspec": {
   "display_name": "weldx",
   "language": "python",
   "name": "weldx"
  },
  "language_info": {
   "codemirror_mode": {
    "name": "ipython",
    "version": 3
   },
   "file_extension": ".py",
   "mimetype": "text/x-python",
   "name": "python",
   "nbconvert_exporter": "python",
   "pygments_lexer": "ipython3",
   "version": "3.8.11"
  }
 },
 "nbformat": 4,
 "nbformat_minor": 5
}
