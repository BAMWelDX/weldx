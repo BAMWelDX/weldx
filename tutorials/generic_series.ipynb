{
 "cells": [
  {
   "cell_type": "markdown",
   "metadata": {},
   "source": [
    "# `GenericSeries` Tutorial\n",
    "\n",
    "## Introduction\n",
    "\n",
    "The `GenericSeries` class describes a potentially multi-dimensional quantity that depends on one or more dimensions.\n",
    "Some examples are the position of the welding torch that depends on time or the workpiece temperature field that depends on time and space.\n",
    "The data of the `GenericSeries` can either be stored in form of explicit values or as a mathematical expression.\n",
    "It's main feature is that you can evaluate the data at any given coordinate of the dimensions it depends on.\n",
    "This happens either through interpolation if the data is discrete or through direct evaluation of the mathematical expression.\n",
    "We can use the `GenericSeries` in our scripts and jupyter notebooks by importing it from the WelDX python package:"
   ]
  },
  {
   "cell_type": "code",
   "execution_count": null,
   "metadata": {},
   "outputs": [],
   "source": [
    "from weldx import GenericSeries"
   ]
  },
  {
   "cell_type": "markdown",
   "metadata": {},
   "source": [
    "For this tutorial, we will also need to import the following packages and classes:"
   ]
  },
  {
   "cell_type": "code",
   "execution_count": null,
   "metadata": {},
   "outputs": [],
   "source": [
    "from weldx import Q_\n",
    "from xarray import DataArray\n",
    "\n",
    "import matplotlib.pyplot as plt"
   ]
  },
  {
   "cell_type": "markdown",
   "metadata": {},
   "source": [
    "## Terminology\n",
    "\n",
    "Before we can start with the actual tutorial, we need to discuss some terminology.\n",
    "It is essential to understand the differences between the following terms to avoid confusion throughout the course of this tutorial.\n",
    "\n",
    "**Dimension**\n",
    "\n",
    "Each dimension describes a single degree of freedom. \n",
    "We can think of it as a 1d-coordinate axis. \n",
    "Using multiple dimensions will create a multi-dimensional space. \n",
    "A typical example would be the dimensions $x$, $y$, and $z$ that form 3d-space. \n",
    "Another popular dimension is time.\n",
    "\n",
    "**Coordinates**\n",
    "\n",
    "A coordinate is a specific value or label on the 1d-axis of a dimension. \n",
    "We can specify the location of a point in 3d-space by providing its coordinates. \n",
    "For example, we can use $x=1m$, $y=3m$, and $z=0m$.\n",
    "These are coordinates for the dimensions $x$, $y$, and $z$.\n",
    "Dimensions represent degrees of freedom, coordinates are discrete values of a dimension.\n",
    "\n",
    "**Variable**\n",
    "\n",
    "If a mathematical expression is used to describe the `GenericSeries`, the individual terms of this expression can be divided into two groups. \n",
    "The first group are variables. \n",
    "Variables are symbols that don't get values assigned to them during the creation of a `GenericSeries`.\n",
    "They let us evaluate the expression for differen coordinates.\n",
    "Consider the following expression:\n",
    "\n",
    "$$\n",
    "2 \\cdot x + 3\n",
    "$$\n",
    "\n",
    "Here, $x$ is our variable. \n",
    "We can evaluate this expression over and over again by providing differen values/coordinates for $x$.\n",
    "For example, if we would use $x=2$, the result is $7$. \n",
    "With $x=4$ we would get $11$. \n",
    "An important fact to note is that each variable of a `GenericSeries`' expression is a dimension. \n",
    "But not every dimension of an expression is necessarily represented by a variable.\n",
    "We will show some code examples later that make this more understandable.\n",
    "\n",
    "**Parameter**\n",
    "\n",
    "The second group of therms in an expression based `GenericSeries` are parameters.\n",
    "Parameters are also symbols of an expression, but in contrast to variables, they already get discrete values assigned to them.\n",
    "Consider the following expression:\n",
    "\n",
    "$$\n",
    "a \\cdot t + b\n",
    "$$\n",
    "\n",
    "with:\n",
    "\n",
    "$$\n",
    "\\begin{matrix}\n",
    "a=&3m/s\\\\\n",
    "b=&5m\n",
    "\\end{matrix}\n",
    "$$\n",
    "\n",
    "$a$ and $b$ are parameters, because they have values assigned to them. \n",
    "`t` is still a variable"
   ]
  },
  {
   "cell_type": "markdown",
   "metadata": {},
   "source": [
    "## Discrete data\n",
    "\n",
    "As mentioned in the introduction, the `GenericSeries` can either describe a dimension dependent quantity by a set of discrete values or a mathematical expression.\n",
    "We will start this tutorial with discrete values.\n",
    "Let's say we we want to describe the temperature of a specimen along our welding groove over a period of time.\n",
    "The spatial direction along the groove is the dimension `x`.\n",
    "Time is represented by the dimension `t`.\n",
    "We have measured the temparature at 4 differrent points in time and at 6 different positions.\n",
    "Our data measured in Kelvin is:"
   ]
  },
  {
   "cell_type": "code",
   "execution_count": null,
   "metadata": {},
   "outputs": [],
   "source": [
    "t_0 = [300, 300, 300, 300, 300, 300]\n",
    "t_1 = [800, 1200, 400, 300, 300, 300]\n",
    "t_2 = [450, 500, 600, 800, 1200, 400]\n",
    "t_3 = [412, 425, 450, 500, 600, 800]\n",
    "\n",
    "data = Q_([t_0, t_1, t_3, t_3], \"K\")"
   ]
  },
  {
   "cell_type": "markdown",
   "metadata": {},
   "source": [
    "We also know the coordinates of the data in `x` and `t`:"
   ]
  },
  {
   "cell_type": "code",
   "execution_count": null,
   "metadata": {},
   "outputs": [],
   "source": [
    "coords_t = Q_([0, 10, 20, 30], \"s\")\n",
    "coords_x = Q_([0, 5, 10, 15, 20, 25], \"cm\")"
   ]
  },
  {
   "cell_type": "markdown",
   "metadata": {},
   "source": [
    "Now we can create our `GenericSeries` an follows:"
   ]
  },
  {
   "cell_type": "code",
   "execution_count": null,
   "metadata": {},
   "outputs": [],
   "source": [
    "gs_discrete = GenericSeries(\n",
    "    data=data, \n",
    "    dims=[\"t\", \"x\"], \n",
    "    coords={\"t\":coords_t, \"x\":coords_x}\n",
    ")\n",
    "gs_discrete"
   ]
  },
  {
   "cell_type": "markdown",
   "metadata": {},
   "source": [
    "The first argument is the raw data.\n",
    "`dims` expects a list of strings that we can use to give our dimensions names.\n",
    "With `coords` we provide the coordinates of our discrete values.\n",
    "`dims` and `coords` are optional.\n",
    "If you don't provide them, the `GenericSeries` will use default names:"
   ]
  },
  {
   "cell_type": "code",
   "execution_count": null,
   "metadata": {},
   "outputs": [],
   "source": [
    "print(GenericSeries(data=data))"
   ]
  },
  {
   "cell_type": "code",
   "execution_count": null,
   "metadata": {},
   "outputs": [],
   "source": [
    "from weldx.core import GenericSeries, MathematicalExpression, Q_"
   ]
  },
  {
   "cell_type": "code",
   "execution_count": null,
   "metadata": {},
   "outputs": [],
   "source": [
    "expr = \"a*t + b\""
   ]
  },
  {
   "cell_type": "code",
   "execution_count": null,
   "metadata": {},
   "outputs": [],
   "source": [
    "me=MathematicalExpression(expr, parameters={\"a\":(Q_([10, 1, 1],\"m/s\"),\"c\"), \"b\":(Q_([1,2,3],\"m\"), \"d\")})"
   ]
  },
  {
   "cell_type": "code",
   "execution_count": null,
   "metadata": {},
   "outputs": [],
   "source": [
    "gs=GenericSeries(me,units={\"t\":\"s\"})"
   ]
  },
  {
   "cell_type": "code",
   "execution_count": null,
   "metadata": {},
   "outputs": [],
   "source": [
    "gs(dict(t=Q_(\"3s\")))"
   ]
  }
 ],
 "metadata": {
  "kernelspec": {
   "display_name": "weldx",
   "language": "python",
   "name": "weldx"
  },
  "language_info": {
   "codemirror_mode": {
    "name": "ipython",
    "version": 3
   },
   "file_extension": ".py",
   "mimetype": "text/x-python",
   "name": "python",
   "nbconvert_exporter": "python",
   "pygments_lexer": "ipython3",
   "version": "3.8.11"
  }
 },
 "nbformat": 4,
 "nbformat_minor": 5
}
