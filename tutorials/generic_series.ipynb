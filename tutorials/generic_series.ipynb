{
 "cells": [
  {
   "cell_type": "markdown",
   "metadata": {},
   "source": [
    "# `GenericSeries` Tutorial\n",
    "\n",
    "## Introduction\n",
    "\n",
    "The `GenericSeries` class describes a potentially multi-dimensional quantity that depends on one or more dimensions.\n",
    "Some examples are the position of the welding torch that depends on time or the workpiece temperature field that depends on time and space.\n",
    "The data of the `GenericSeries` can either be stored in form of explicit values or as a mathematical expression.\n",
    "It's main feature is that you can evaluate the data at any given coordinate of the dimensions it depends on.\n",
    "This happens either through interpolation if the data is discrete or through direct evaluation of the mathematical expression.\n",
    "We can use the `GenericSeries` in our scripts and jupyter notebooks by importing it from the WelDX python package:"
   ]
  },
  {
   "cell_type": "code",
   "execution_count": null,
   "metadata": {},
   "outputs": [],
   "source": [
    "from weldx import GenericSeries"
   ]
  },
  {
   "cell_type": "markdown",
   "metadata": {},
   "source": [
    "For this tutorial, we will also need to import the following packages and classes:"
   ]
  },
  {
   "cell_type": "code",
   "execution_count": null,
   "metadata": {},
   "outputs": [],
   "source": [
    "from weldx import Q_\n",
    "from xarray import DataArray\n",
    "\n",
    "import matplotlib.pyplot as plt\n",
    "import numpy as np"
   ]
  },
  {
   "cell_type": "markdown",
   "metadata": {},
   "source": [
    "## Terminology\n",
    "\n",
    "Before we can start with the actual tutorial, we need to discuss some terminology.\n",
    "It is essential to understand the differences between the following terms to avoid confusion throughout the course of this tutorial.\n",
    "\n",
    "**Dimension**\n",
    "\n",
    "Each dimension describes a single degree of freedom. \n",
    "We can think of it as a 1d-coordinate axis. \n",
    "Using multiple dimensions will create a multi-dimensional space. \n",
    "A typical example would be the dimensions $x$, $y$, and $z$ that form 3d-space. \n",
    "Another popular dimension is time.\n",
    "\n",
    "**Coordinates**\n",
    "\n",
    "A coordinate is a specific value or label on the 1d-axis of a dimension. \n",
    "We can specify the location of a point in 3d-space by providing its coordinates. \n",
    "For example, we can use $x=1m$, $y=3m$, and $z=0m$.\n",
    "These are coordinates for the dimensions $x$, $y$, and $z$.\n",
    "Dimensions represent degrees of freedom, coordinates are discrete values of a dimension.\n",
    "\n",
    "**Variable**\n",
    "\n",
    "If a mathematical expression is used to describe the `GenericSeries`, the individual terms of this expression can be divided into two groups. \n",
    "The first group are variables. \n",
    "Variables are symbols that don't get values assigned to them during the creation of a `GenericSeries`.\n",
    "They let us evaluate the expression for differen coordinates.\n",
    "Consider the following expression:\n",
    "\n",
    "$$\n",
    "2 \\cdot x + 3\n",
    "$$\n",
    "\n",
    "Here, $x$ is our variable. \n",
    "We can evaluate this expression over and over again by providing differen values/coordinates for $x$.\n",
    "For example, if we would use $x=2$, the result is $7$. \n",
    "With $x=4$ we would get $11$. \n",
    "An important fact to note is that each variable of a `GenericSeries`' expression is a dimension. \n",
    "But not every dimension of an expression is necessarily represented by a variable.\n",
    "We will show some code examples later that make this more understandable.\n",
    "\n",
    "**Parameter**\n",
    "\n",
    "The second group of therms in an expression based `GenericSeries` are parameters.\n",
    "Parameters are also symbols of an expression, but in contrast to variables, they already get discrete values assigned to them.\n",
    "Consider the following expression:\n",
    "\n",
    "$$\n",
    "a \\cdot t + b\n",
    "$$\n",
    "\n",
    "with:\n",
    "\n",
    "$$\n",
    "\\begin{matrix}\n",
    "a=&3m/s\\\\\n",
    "b=&5m\n",
    "\\end{matrix}\n",
    "$$\n",
    "\n",
    "$a$ and $b$ are parameters, because they have values assigned to them. \n",
    "`t` is still a variable"
   ]
  },
  {
   "cell_type": "markdown",
   "metadata": {},
   "source": [
    "## Discrete data\n",
    "\n",
    "### Construction\n",
    "\n",
    "As mentioned in the introduction, the `GenericSeries` can either describe a dimension dependent quantity by a set of discrete values or a mathematical expression.\n",
    "We will start this tutorial with discrete values.\n",
    "\n",
    "Let's say we we want to describe the temperature of a specimen along our welding groove during a single pass welding experiment.\n",
    "The spatial direction along the groove is the dimension `x`.\n",
    "Time is represented by the dimension `t`.\n",
    "We have measured the temparature at 4 differrent points in time and at 6 different positions.\n",
    "Our data measured in Kelvin is:"
   ]
  },
  {
   "cell_type": "code",
   "execution_count": null,
   "metadata": {},
   "outputs": [],
   "source": [
    "t_0 = [300, 300, 300, 300, 300, 300]\n",
    "t_1 = [800, 1200, 400, 300, 300, 300]\n",
    "t_2 = [450, 500, 600, 800, 1200, 400]\n",
    "t_3 = [412, 425, 450, 500, 600, 800]\n",
    "\n",
    "data = Q_([t_0, t_1, t_2, t_3], \"K\")"
   ]
  },
  {
   "cell_type": "markdown",
   "metadata": {},
   "source": [
    "We also know the coordinates of the data in `x` and `t`:"
   ]
  },
  {
   "cell_type": "code",
   "execution_count": null,
   "metadata": {},
   "outputs": [],
   "source": [
    "coords_t = Q_([0, 10, 20, 30], \"s\")\n",
    "coords_x = Q_([0, 5, 10, 15, 20, 25], \"cm\")"
   ]
  },
  {
   "cell_type": "markdown",
   "metadata": {},
   "source": [
    "Here is a quick plot of our temperature data:"
   ]
  },
  {
   "cell_type": "code",
   "execution_count": null,
   "metadata": {},
   "outputs": [],
   "source": [
    "plt.plot(\n",
    "    coords_x.m, np.transpose(data.m),\n",
    "    label=[f\"t={v}\" for v in coords_t]\n",
    ")\n",
    "plt.gca().legend()"
   ]
  },
  {
   "cell_type": "markdown",
   "metadata": {},
   "source": [
    "Now we can create our `GenericSeries` an follows:"
   ]
  },
  {
   "cell_type": "code",
   "execution_count": null,
   "metadata": {},
   "outputs": [],
   "source": [
    "gs_discrete = GenericSeries(\n",
    "    data=data, \n",
    "    dims=[\"t\", \"x\"], \n",
    "    coords={\"t\":coords_t, \"x\":coords_x}\n",
    ")\n",
    "gs_discrete"
   ]
  },
  {
   "cell_type": "markdown",
   "metadata": {},
   "source": [
    "> TODO: Check and update discret __repr__ -> do not print all values, don't print Coordinates twice\n",
    "\n",
    "The first argument is the raw data.\n",
    "`dims` expects a list of strings that we can use to give our dimensions names.\n",
    "With `coords` we provide the coordinates of our discrete values.\n",
    "`dims` and `coords` are optional.\n",
    "If you don't provide dimension names, the `GenericSeries` will use default names:"
   ]
  },
  {
   "cell_type": "code",
   "execution_count": null,
   "metadata": {},
   "outputs": [],
   "source": [
    "GenericSeries(data=data).dims"
   ]
  },
  {
   "cell_type": "markdown",
   "metadata": {},
   "source": [
    "If you are already familiar with the `xarray` python package, you might have noticed the similarities between the construction of a `GenericSeries` and an `xarray.DataArray`.\n",
    "In fact, the discrete version of the `GenericSeries` is based on an `xarray.DataArray` and they share some interfaces with comparable behavior."
   ]
  },
  {
   "cell_type": "markdown",
   "metadata": {},
   "source": [
    "### Accessing data\n",
    "\n",
    "If you want to access a single item you can use the `[]` operator to select elemets by index:"
   ]
  },
  {
   "cell_type": "code",
   "execution_count": null,
   "metadata": {},
   "outputs": [],
   "source": [
    "gs_discrete[3,4]"
   ]
  },
  {
   "cell_type": "markdown",
   "metadata": {},
   "source": [
    "Slicing is also possible:"
   ]
  },
  {
   "cell_type": "code",
   "execution_count": null,
   "metadata": {},
   "outputs": [],
   "source": [
    "gs_discrete[2:4,:]"
   ]
  },
  {
   "cell_type": "markdown",
   "metadata": {},
   "source": [
    "> TODO: implement and demonstrate sel function like in xarray"
   ]
  },
  {
   "cell_type": "markdown",
   "metadata": {},
   "source": [
    "## Evaluation/Interpolation\n",
    "\n",
    "Even though the `GenericSeries` might be based on discrete values, you should think of it as some kind of mathematical function object that can be evaluated at any coordinate along its dimensions.\n",
    "To do so, we simply use the call operator `()` on our `GenericSeries` and specify the coordinates we are interested in.\n",
    "For example, we might be interested in the temperature at $x=12cm$ and $t=24s$.\n",
    "The coordinates are passed as keyword arguments where the key is the dimension and the value are the coordinates we are interested in:\n",
    "\n",
    "> **TODO: Really IMPORTANT** -> We need to assure that the units at the coordinates are used correctly. Currently only the magnitude is taken. So using \"nm\" or \"m\" instead of \"cm\" has no effect on the result. I could even use a totally unrelated unit without any problems\n"
   ]
  },
  {
   "cell_type": "code",
   "execution_count": null,
   "metadata": {},
   "outputs": [],
   "source": [
    "gs_discrete(t=\"24s\", x=\"12cm\")"
   ]
  },
  {
   "cell_type": "markdown",
   "metadata": {},
   "source": [
    "It is not necessary to provide coordinates for all dimensions.\n",
    "A single dimension is already enough:"
   ]
  },
  {
   "cell_type": "code",
   "execution_count": null,
   "metadata": {},
   "outputs": [],
   "source": [
    "gs_discrete(t=\"24s\")"
   ]
  },
  {
   "cell_type": "markdown",
   "metadata": {},
   "source": [
    "Of cause, we can also evaluate multiple coordinate values for each dimension:"
   ]
  },
  {
   "cell_type": "code",
   "execution_count": null,
   "metadata": {},
   "outputs": [],
   "source": [
    "gs_discrete(t=Q_([11, 23], \"s\"), x=Q_([3, 14, 22], \"cm\"))"
   ]
  },
  {
   "cell_type": "markdown",
   "metadata": {},
   "source": [
    "You may have noticed that we exclusively used coordinate values that do not match the coordinates we initially provided to the `GenericSeries`.\n",
    "The actual data values are obtained by interpolation.\n",
    "By default, the `GenericSeries` uses linear interpolation.\n",
    "It can be changed during construction using the `interpolation` parameter or by assigning a new value using the `interpolation` setter:\n",
    "\n",
    "> TODO: mention interpolation outside of boundaries"
   ]
  },
  {
   "cell_type": "code",
   "execution_count": null,
   "metadata": {},
   "outputs": [],
   "source": [
    "gs_discrete.interpolation = \"linear\""
   ]
  },
  {
   "cell_type": "markdown",
   "metadata": {},
   "source": [
    "Let's interpolate the data for $t=15s$ and plot it together with the two closest timesteps:"
   ]
  },
  {
   "cell_type": "code",
   "execution_count": null,
   "metadata": {},
   "outputs": [],
   "source": [
    "plt.plot(coords_x.m, np.transpose(gs_discrete(t=\"15s\").data[0].m), label=\"t=15s\")\n",
    "plt.plot(\n",
    "    coords_x.m, np.transpose(gs_discrete[1:3].data.m), \n",
    "    label=[f\"t={v}s\" for v in gs_discrete.data_array.t[1:3].data]\n",
    ")\n",
    "plt.gca().legend();"
   ]
  },
  {
   "cell_type": "markdown",
   "metadata": {},
   "source": [
    "As one might expect the linearly interpolated data is the mean value of both curves since $t=15s$ lies directly in the middle between $t=10s$ and $t=20s$.\n",
    "However, that doesn't really look like the correct temperature distrubution for a single torch moving along the groove.\n",
    "Instead the peak value should translate from left to right.\n",
    "Of cause, with dense data from real measurements, this would be just a minor issue with no practical relevance, but it serves as a nice transition two our next topic."
   ]
  },
  {
   "cell_type": "markdown",
   "metadata": {},
   "source": [
    "## Using Expressions\n",
    "\n",
    "### A simple example\n",
    "\n",
    "Another way to define a `GenericSeries` is using mathematical expressions.\n",
    "In contrast to the previously shown approach we do not need to generate and store a lot of discrete data.\n",
    "All we need is a simple formula.\n",
    "Additionally, we do not get interpolation errors as in the previous section since we can evaluate the expression exactly for any given set of coordinates.\n",
    "\n",
    "Let's start with a more or less simple example.\n",
    "The following equation resembles a wave that travels towards increasing $x$ values with increasing time $t$:\n",
    "\n",
    "$$\n",
    "f\\left(x,t\\right)=\\mathrm{tanh}\\left(\\frac{x-t}{5}\\right) - \\mathrm{tanh}\\left(x-t-10\\right)\n",
    "$$\n",
    "\n",
    "Like in the previous setion, the slope on the right-hand side of the peak is much steeper.\n",
    "We now translate this equation into a string that can be understood by the `GenericSeries`:"
   ]
  },
  {
   "cell_type": "code",
   "execution_count": null,
   "metadata": {},
   "outputs": [],
   "source": [
    "expr = \"tanh((x-t)/5) - tanh(x-t-10)\""
   ]
  },
  {
   "cell_type": "markdown",
   "metadata": {},
   "source": [
    "The syntax is pretty close to python code, except that it is enclosed inside of a string.\n",
    "Now we could create a `MathematicalExpression` using this expression string and pass it to the `GenericSeries`, but it is much easier to simply pass it directly to the `GenericSeries`:\n",
    "\n",
    "> TODO Link MathExpr tutorial"
   ]
  },
  {
   "cell_type": "code",
   "execution_count": null,
   "metadata": {},
   "outputs": [],
   "source": [
    "gs_expr=GenericSeries(expr)"
   ]
  },
  {
   "cell_type": "markdown",
   "metadata": {},
   "source": [
    "We have now created a `GenericSeries` based on an expression.\n",
    "Wasn't that hard, right?\n",
    "Let's print it and have a look at its representation:"
   ]
  },
  {
   "cell_type": "code",
   "execution_count": null,
   "metadata": {},
   "outputs": [],
   "source": [
    "gs_expr"
   ]
  },
  {
   "cell_type": "markdown",
   "metadata": {},
   "source": [
    "> TODO: fix __repr__\n",
    "\n",
    "The first item of the output is the expression we entered, but there are also the fields `Parameters`, `Dimensions`, and `Units`.\n",
    "Our current `GenericSeries` has no parameters (see terminology at the beginning) since we did not define any so far.\n",
    "The dimensions `x` and `t` were automatically extracted from the provided expression.\n",
    "The field `Units` refers to the units our quantity after we evaluated the expression.\n",
    "As you can see, the field is currently empty and we will soon understand why this is the case.\n",
    "But first, we will evaluate our equation as we did before with the discrete version, except that we will not use units here.\n",
    "Again, we will talk about this in a few moments:"
   ]
  },
  {
   "cell_type": "code",
   "execution_count": null,
   "metadata": {},
   "outputs": [],
   "source": [
    "coords_t = [-5, 5, 15]\n",
    "coords_x = list(range(25))\n",
    "result = gs_expr(t=coords_t, x=coords_x)\n",
    "result"
   ]
  },
  {
   "cell_type": "markdown",
   "metadata": {},
   "source": [
    "The result is a new `GenericSeries` with discrete values at the coordinates we provided.\n",
    "Let's create a plot from the data:"
   ]
  },
  {
   "cell_type": "code",
   "execution_count": null,
   "metadata": {},
   "outputs": [],
   "source": [
    "plt.plot(\n",
    "    result.data_array.x,\n",
    "    np.transpose(result.data.m),\n",
    "    label=[f\"t={v}\" for v in result.data_array.t.data]\n",
    ")\n",
    "plt.gca().legend();"
   ]
  },
  {
   "cell_type": "markdown",
   "metadata": {},
   "source": [
    "### Adding parameters"
   ]
  },
  {
   "cell_type": "code",
   "execution_count": null,
   "metadata": {},
   "outputs": [],
   "source": [
    "expr_param = \"s*(tanh((x-t)/5) - tanh(x-t-10)) + o\""
   ]
  },
  {
   "cell_type": "code",
   "execution_count": null,
   "metadata": {},
   "outputs": [],
   "source": [
    "gs_expr_param = GenericSeries(expr_param, parameters=dict(s=450, o=300))\n",
    "gs_expr_param"
   ]
  },
  {
   "cell_type": "code",
   "execution_count": null,
   "metadata": {},
   "outputs": [],
   "source": [
    "result_expr_param = gs_expr_param(t=coords_t, x=coords_x)\n",
    "plt.plot(\n",
    "    coords_x,\n",
    "    np.transpose(result_expr_param.data.m),\n",
    "    label=[f\"t={v}\" for v in coords_t]\n",
    ")\n",
    "plt.gca().legend();"
   ]
  },
  {
   "cell_type": "markdown",
   "metadata": {},
   "source": [
    "### Adding units"
   ]
  },
  {
   "cell_type": "code",
   "execution_count": null,
   "metadata": {},
   "outputs": [],
   "source": []
  },
  {
   "cell_type": "code",
   "execution_count": null,
   "metadata": {},
   "outputs": [],
   "source": [
    "plt.plot(coords_x.m, gs_expr(x=coords_x.m).data.m)"
   ]
  },
  {
   "cell_type": "code",
   "execution_count": null,
   "metadata": {},
   "outputs": [],
   "source": [
    "expr = \"tanh((x-t)/5) - tanh((x-t-10))\"\n",
    "gs_expr=GenericSeries(expr)\n",
    "c = list(range(25))\n",
    "plt.plot(c, np.transpose(gs_expr(x=c, t=0).data.m))"
   ]
  },
  {
   "cell_type": "code",
   "execution_count": null,
   "metadata": {},
   "outputs": [],
   "source": [
    "from weldx.core import GenericSeries, MathematicalExpression, Q_"
   ]
  },
  {
   "cell_type": "code",
   "execution_count": null,
   "metadata": {},
   "outputs": [],
   "source": [
    "expr = \"a*t + b\""
   ]
  },
  {
   "cell_type": "code",
   "execution_count": null,
   "metadata": {},
   "outputs": [],
   "source": [
    "me=MathematicalExpression(expr, parameters={\"a\":(Q_([10, 1, 1],\"m/s\"),\"c\"), \"b\":(Q_([1,2,3],\"m\"), \"d\")})"
   ]
  },
  {
   "cell_type": "code",
   "execution_count": null,
   "metadata": {},
   "outputs": [],
   "source": [
    "gs=GenericSeries(me,units={\"t\":\"s\"})"
   ]
  },
  {
   "cell_type": "code",
   "execution_count": null,
   "metadata": {},
   "outputs": [],
   "source": [
    "gs(dict(t=Q_(\"3s\")))"
   ]
  }
 ],
 "metadata": {
  "kernelspec": {
   "display_name": "weldx",
   "language": "python",
   "name": "weldx"
  },
  "language_info": {
   "codemirror_mode": {
    "name": "ipython",
    "version": 3
   },
   "file_extension": ".py",
   "mimetype": "text/x-python",
   "name": "python",
   "nbconvert_exporter": "python",
   "pygments_lexer": "ipython3",
   "version": "3.8.11"
  }
 },
 "nbformat": 4,
 "nbformat_minor": 5
}
