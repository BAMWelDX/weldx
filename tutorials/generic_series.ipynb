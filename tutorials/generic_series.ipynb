{
 "cells": [
  {
   "cell_type": "markdown",
   "id": "e06ff5be",
   "metadata": {},
   "source": [
    "# `GenericSeries` Tutorial\n",
    "\n",
    "## Introduction\n",
    "\n",
    "The `GenericSeries` class describes a potentially multi-dimensional quantity that depends on one or more dimensions.\n",
    "Some examples are the position of the welding torch that depends on time or the workpiece temperature field that depends on time and space.\n",
    "The data of the `GenericSeries` can either be stored in form of explicit values or as a mathematical expression.\n",
    "It's main feature is that you can evaluate the data at any given coordinate of the dimensions it depends on.\n",
    "This happens either through interpolation if the data is discrete or through direct evaluation of the mathematical expression.\n",
    "We can use the `GenericSeries` in our scripts and jupyter notebooks by importing it from the WelDX python package:"
   ]
  },
  {
   "cell_type": "code",
   "execution_count": 1,
   "id": "bc842db8",
   "metadata": {},
   "outputs": [],
   "source": [
    "from weldx import GenericSeries"
   ]
  },
  {
   "cell_type": "markdown",
   "id": "9e27661f",
   "metadata": {},
   "source": [
    "For this tutorial, we will also need to import the following packages and classes:"
   ]
  },
  {
   "cell_type": "code",
   "execution_count": 2,
   "id": "5f86f92f",
   "metadata": {},
   "outputs": [],
   "source": [
    "from weldx import Q_\n",
    "from xarray import DataArray\n",
    "from pint import DimensionalityError\n",
    "\n",
    "import matplotlib.pyplot as plt\n",
    "import numpy as np"
   ]
  },
  {
   "cell_type": "markdown",
   "id": "414c0134",
   "metadata": {},
   "source": [
    "## Terminology\n",
    "\n",
    "Before we can start with the actual tutorial, we need to discuss some terminology.\n",
    "It is essential to understand the differences between the following terms to avoid confusion throughout the course of this tutorial.\n",
    "\n",
    "**Dimension**\n",
    "\n",
    "Each dimension describes a single degree of freedom. \n",
    "We can think of it as a 1d-coordinate axis. \n",
    "Using multiple dimensions will create a multi-dimensional space. \n",
    "A typical example would be the dimensions $x$, $y$, and $z$ that form 3d-space. \n",
    "Another popular dimension is time.\n",
    "\n",
    "**Coordinates**\n",
    "\n",
    "A coordinate is a specific value or label on the 1d-axis of a dimension. \n",
    "We can specify the location of a point in 3d-space by providing its coordinates. \n",
    "For example, we can use $x=1m$, $y=3m$, and $z=0m$.\n",
    "These are coordinates for the dimensions $x$, $y$, and $z$.\n",
    "Dimensions represent degrees of freedom, coordinates are discrete values of a dimension.\n",
    "\n",
    "**Variable**\n",
    "\n",
    "If a mathematical expression is used to describe the `GenericSeries`, the individual terms of this expression can be divided into two groups. \n",
    "The first group are variables. \n",
    "Variables are symbols that don't get values assigned to them during the creation of a `GenericSeries`.\n",
    "They let us evaluate the expression for differen coordinates.\n",
    "Consider the following expression:\n",
    "\n",
    "$$\n",
    "2 \\cdot x + 3\n",
    "$$\n",
    "\n",
    "Here, $x$ is our variable. \n",
    "We can evaluate this expression over and over again by providing differen values/coordinates for $x$.\n",
    "For example, if we would use $x=2$, the result is $7$. \n",
    "With $x=4$ we would get $11$. \n",
    "An important fact to note is that each variable of a `GenericSeries`' expression is a dimension. \n",
    "But not every dimension of an expression is necessarily represented by a variable.\n",
    "We will show some code examples later that make this more understandable.\n",
    "\n",
    "**Parameter**\n",
    "\n",
    "The second group of therms in an expression based `GenericSeries` are parameters.\n",
    "Parameters are also symbols of an expression, but in contrast to variables, they already get discrete values assigned to them.\n",
    "Consider the following expression:\n",
    "\n",
    "$$\n",
    "a \\cdot t + b\n",
    "$$\n",
    "\n",
    "with:\n",
    "\n",
    "$$\n",
    "\\begin{matrix}\n",
    "a=&3m/s\\\\\n",
    "b=&5m\n",
    "\\end{matrix}\n",
    "$$\n",
    "\n",
    "$a$ and $b$ are parameters, because they have values assigned to them. \n",
    "`t` is still a variable"
   ]
  },
  {
   "cell_type": "markdown",
   "id": "44bb7fc2",
   "metadata": {},
   "source": [
    "## Discrete data\n",
    "\n",
    "### Construction\n",
    "\n",
    "As mentioned in the introduction, the `GenericSeries` can either describe a dimension dependent quantity by a set of discrete values or a mathematical expression.\n",
    "We will start this tutorial with discrete values.\n",
    "\n",
    "Let's say we we want to describe the temperature of a specimen along our welding groove during a single pass welding experiment.\n",
    "The spatial direction along the groove is the dimension `x`.\n",
    "Time is represented by the dimension `t`.\n",
    "We have measured the temparature at 4 differrent points in time and at 6 different positions.\n",
    "Our data measured in Kelvin is:"
   ]
  },
  {
   "cell_type": "code",
   "execution_count": 3,
   "id": "39d32009",
   "metadata": {},
   "outputs": [],
   "source": [
    "t_0 = [300, 300, 300, 300, 300, 300]\n",
    "t_1 = [800, 1200, 400, 300, 300, 300]\n",
    "t_2 = [450, 500, 600, 800, 1200, 400]\n",
    "t_3 = [412, 425, 450, 500, 600, 800]\n",
    "\n",
    "data = Q_([t_0, t_1, t_2, t_3], \"K\")"
   ]
  },
  {
   "cell_type": "markdown",
   "id": "6796a31c",
   "metadata": {},
   "source": [
    "We also know the coordinates of the data in `x` and `t`:"
   ]
  },
  {
   "cell_type": "code",
   "execution_count": 4,
   "id": "e64a49ad",
   "metadata": {},
   "outputs": [],
   "source": [
    "coords_t = Q_([0, 10, 20, 30], \"s\")\n",
    "coords_x = Q_([0, 5, 10, 15, 20, 25], \"cm\")"
   ]
  },
  {
   "cell_type": "markdown",
   "id": "5d2b511a",
   "metadata": {},
   "source": [
    "Here is a quick plot of our temperature data:"
   ]
  },
  {
   "cell_type": "code",
   "execution_count": 5,
   "id": "3d03fc03",
   "metadata": {},
   "outputs": [
    {
     "data": {
      "text/plain": [
       "<matplotlib.legend.Legend at 0x1a163934dc0>"
      ]
     },
     "execution_count": 5,
     "metadata": {},
     "output_type": "execute_result"
    },
    {
     "data": {
      "image/png": "[encoded data removed]",
      "text/plain": [
       "<Figure size 432x288 with 1 Axes>"
      ]
     },
     "metadata": {
      "needs_background": "light"
     },
     "output_type": "display_data"
    }
   ],
   "source": [
    "plt.plot(\n",
    "    coords_x.m, np.transpose(data.m),\n",
    "    label=[f\"t={v}\" for v in coords_t]\n",
    ")\n",
    "plt.gca().legend()"
   ]
  },
  {
   "cell_type": "markdown",
   "id": "8342a800",
   "metadata": {},
   "source": [
    "Now we can create our `GenericSeries` an follows:"
   ]
  },
  {
   "cell_type": "code",
   "execution_count": 6,
   "id": "999d172d",
   "metadata": {},
   "outputs": [
    {
     "data": {
      "text/plain": [
       "<GenericSeries>\n",
       "Values:\n",
       "[[ 300  300  300  300  300  300]\n",
       " [ 800 1200  400  300  300  300]\n",
       " [ 450  500  600  800 1200  400]\n",
       " [ 412  425  450  500  600  800]]\n",
       "Dimensions:\n",
       "\t('t', 'x')\n",
       "Coordinates:\n",
       "\tCoordinates:\n",
       "  * t        (t) int32 0 10 20 30\n",
       "  * x        (x) int32 0 5 10 15 20 25\n",
       "Units:\n",
       "\tK"
      ]
     },
     "execution_count": 6,
     "metadata": {},
     "output_type": "execute_result"
    }
   ],
   "source": [
    "gs_discrete = GenericSeries(\n",
    "    data=data, \n",
    "    dims=[\"t\", \"x\"], \n",
    "    coords={\"t\":coords_t, \"x\":coords_x}\n",
    ")\n",
    "gs_discrete"
   ]
  },
  {
   "cell_type": "markdown",
   "id": "b37fb45f",
   "metadata": {},
   "source": [
    "> TODO: Check and update discret __repr__ -> do not print all values, don't print Coordinates twice\n",
    "\n",
    "The first argument is the raw data.\n",
    "`dims` expects a list of strings that we can use to give our dimensions names.\n",
    "With `coords` we provide the coordinates of our discrete values.\n",
    "`dims` and `coords` are optional.\n",
    "If you don't provide dimension names, the `GenericSeries` will use default names:"
   ]
  },
  {
   "cell_type": "code",
   "execution_count": 7,
   "id": "a042b6d0",
   "metadata": {},
   "outputs": [
    {
     "data": {
      "text/plain": [
       "('dim_0', 'dim_1')"
      ]
     },
     "execution_count": 7,
     "metadata": {},
     "output_type": "execute_result"
    }
   ],
   "source": [
    "GenericSeries(data=data).dims"
   ]
  },
  {
   "cell_type": "markdown",
   "id": "68e6d91e",
   "metadata": {},
   "source": [
    "If you are already familiar with the `xarray` python package, you might have noticed the similarities between the construction of a `GenericSeries` and an `xarray.DataArray`.\n",
    "In fact, the discrete version of the `GenericSeries` is based on an `xarray.DataArray` and they share some interfaces with comparable behavior."
   ]
  },
  {
   "cell_type": "markdown",
   "id": "ed3c3e85",
   "metadata": {},
   "source": [
    "### Accessing data\n",
    "\n",
    "If you want to access a single item you can use the `[]` operator to select elemets by index:"
   ]
  },
  {
   "cell_type": "code",
   "execution_count": 8,
   "id": "07469ddf",
   "metadata": {},
   "outputs": [
    {
     "data": {
      "text/html": [
       "<div><svg style=\"position: absolute; width: 0; height: 0; overflow: hidden\">\n",
       "<defs>\n",
       "<symbol id=\"icon-database\" viewBox=\"0 0 32 32\">\n",
       "<path d=\"M16 0c-8.837 0-16 2.239-16 5v4c0 2.761 7.163 5 16 5s16-2.239 16-5v-4c0-2.761-7.163-5-16-5z\"></path>\n",
       "<path d=\"M16 17c-8.837 0-16-2.239-16-5v6c0 2.761 7.163 5 16 5s16-2.239 16-5v-6c0 2.761-7.163 5-16 5z\"></path>\n",
       "<path d=\"M16 26c-8.837 0-16-2.239-16-5v6c0 2.761 7.163 5 16 5s16-2.239 16-5v-6c0 2.761-7.163 5-16 5z\"></path>\n",
       "</symbol>\n",
       "<symbol id=\"icon-file-text2\" viewBox=\"0 0 32 32\">\n",
       "<path d=\"M28.681 7.159c-0.694-0.947-1.662-2.053-2.724-3.116s-2.169-2.030-3.116-2.724c-1.612-1.182-2.393-1.319-2.841-1.319h-15.5c-1.378 0-2.5 1.121-2.5 2.5v27c0 1.378 1.122 2.5 2.5 2.5h23c1.378 0 2.5-1.122 2.5-2.5v-19.5c0-0.448-0.137-1.23-1.319-2.841zM24.543 5.457c0.959 0.959 1.712 1.825 2.268 2.543h-4.811v-4.811c0.718 0.556 1.584 1.309 2.543 2.268zM28 29.5c0 0.271-0.229 0.5-0.5 0.5h-23c-0.271 0-0.5-0.229-0.5-0.5v-27c0-0.271 0.229-0.5 0.5-0.5 0 0 15.499-0 15.5 0v7c0 0.552 0.448 1 1 1h7v19.5z\"></path>\n",
       "<path d=\"M23 26h-14c-0.552 0-1-0.448-1-1s0.448-1 1-1h14c0.552 0 1 0.448 1 1s-0.448 1-1 1z\"></path>\n",
       "<path d=\"M23 22h-14c-0.552 0-1-0.448-1-1s0.448-1 1-1h14c0.552 0 1 0.448 1 1s-0.448 1-1 1z\"></path>\n",
       "<path d=\"M23 18h-14c-0.552 0-1-0.448-1-1s0.448-1 1-1h14c0.552 0 1 0.448 1 1s-0.448 1-1 1z\"></path>\n",
       "</symbol>\n",
       "</defs>\n",
       "</svg>\n",
       "<style>/* CSS stylesheet for displaying xarray objects in jupyterlab.\n",
       " *\n",
       " */\n",
       "\n",
       ":root {\n",
       "  --xr-font-color0: var(--jp-content-font-color0, rgba(0, 0, 0, 1));\n",
       "  --xr-font-color2: var(--jp-content-font-color2, rgba(0, 0, 0, 0.54));\n",
       "  --xr-font-color3: var(--jp-content-font-color3, rgba(0, 0, 0, 0.38));\n",
       "  --xr-border-color: var(--jp-border-color2, #e0e0e0);\n",
       "  --xr-disabled-color: var(--jp-layout-color3, #bdbdbd);\n",
       "  --xr-background-color: var(--jp-layout-color0, white);\n",
       "  --xr-background-color-row-even: var(--jp-layout-color1, white);\n",
       "  --xr-background-color-row-odd: var(--jp-layout-color2, #eeeeee);\n",
       "}\n",
       "\n",
       "html[theme=dark],\n",
       "body.vscode-dark {\n",
       "  --xr-font-color0: rgba(255, 255, 255, 1);\n",
       "  --xr-font-color2: rgba(255, 255, 255, 0.54);\n",
       "  --xr-font-color3: rgba(255, 255, 255, 0.38);\n",
       "  --xr-border-color: #1F1F1F;\n",
       "  --xr-disabled-color: #515151;\n",
       "  --xr-background-color: #111111;\n",
       "  --xr-background-color-row-even: #111111;\n",
       "  --xr-background-color-row-odd: #313131;\n",
       "}\n",
       "\n",
       ".xr-wrap {\n",
       "  display: block;\n",
       "  min-width: 300px;\n",
       "  max-width: 700px;\n",
       "}\n",
       "\n",
       ".xr-text-repr-fallback {\n",
       "  /* fallback to plain text repr when CSS is not injected (untrusted notebook) */\n",
       "  display: none;\n",
       "}\n",
       "\n",
       ".xr-header {\n",
       "  padding-top: 6px;\n",
       "  padding-bottom: 6px;\n",
       "  margin-bottom: 4px;\n",
       "  border-bottom: solid 1px var(--xr-border-color);\n",
       "}\n",
       "\n",
       ".xr-header > div,\n",
       ".xr-header > ul {\n",
       "  display: inline;\n",
       "  margin-top: 0;\n",
       "  margin-bottom: 0;\n",
       "}\n",
       "\n",
       ".xr-obj-type,\n",
       ".xr-array-name {\n",
       "  margin-left: 2px;\n",
       "  margin-right: 10px;\n",
       "}\n",
       "\n",
       ".xr-obj-type {\n",
       "  color: var(--xr-font-color2);\n",
       "}\n",
       "\n",
       ".xr-sections {\n",
       "  padding-left: 0 !important;\n",
       "  display: grid;\n",
       "  grid-template-columns: 150px auto auto 1fr 20px 20px;\n",
       "}\n",
       "\n",
       ".xr-section-item {\n",
       "  display: contents;\n",
       "}\n",
       "\n",
       ".xr-section-item input {\n",
       "  display: none;\n",
       "}\n",
       "\n",
       ".xr-section-item input + label {\n",
       "  color: var(--xr-disabled-color);\n",
       "}\n",
       "\n",
       ".xr-section-item input:enabled + label {\n",
       "  cursor: pointer;\n",
       "  color: var(--xr-font-color2);\n",
       "}\n",
       "\n",
       ".xr-section-item input:enabled + label:hover {\n",
       "  color: var(--xr-font-color0);\n",
       "}\n",
       "\n",
       ".xr-section-summary {\n",
       "  grid-column: 1;\n",
       "  color: var(--xr-font-color2);\n",
       "  font-weight: 500;\n",
       "}\n",
       "\n",
       ".xr-section-summary > span {\n",
       "  display: inline-block;\n",
       "  padding-left: 0.5em;\n",
       "}\n",
       "\n",
       ".xr-section-summary-in:disabled + label {\n",
       "  color: var(--xr-font-color2);\n",
       "}\n",
       "\n",
       ".xr-section-summary-in + label:before {\n",
       "  display: inline-block;\n",
       "  content: '►';\n",
       "  font-size: 11px;\n",
       "  width: 15px;\n",
       "  text-align: center;\n",
       "}\n",
       "\n",
       ".xr-section-summary-in:disabled + label:before {\n",
       "  color: var(--xr-disabled-color);\n",
       "}\n",
       "\n",
       ".xr-section-summary-in:checked + label:before {\n",
       "  content: '▼';\n",
       "}\n",
       "\n",
       ".xr-section-summary-in:checked + label > span {\n",
       "  display: none;\n",
       "}\n",
       "\n",
       ".xr-section-summary,\n",
       ".xr-section-inline-details {\n",
       "  padding-top: 4px;\n",
       "  padding-bottom: 4px;\n",
       "}\n",
       "\n",
       ".xr-section-inline-details {\n",
       "  grid-column: 2 / -1;\n",
       "}\n",
       "\n",
       ".xr-section-details {\n",
       "  display: none;\n",
       "  grid-column: 1 / -1;\n",
       "  margin-bottom: 5px;\n",
       "}\n",
       "\n",
       ".xr-section-summary-in:checked ~ .xr-section-details {\n",
       "  display: contents;\n",
       "}\n",
       "\n",
       ".xr-array-wrap {\n",
       "  grid-column: 1 / -1;\n",
       "  display: grid;\n",
       "  grid-template-columns: 20px auto;\n",
       "}\n",
       "\n",
       ".xr-array-wrap > label {\n",
       "  grid-column: 1;\n",
       "  vertical-align: top;\n",
       "}\n",
       "\n",
       ".xr-preview {\n",
       "  color: var(--xr-font-color3);\n",
       "}\n",
       "\n",
       ".xr-array-preview,\n",
       ".xr-array-data {\n",
       "  padding: 0 5px !important;\n",
       "  grid-column: 2;\n",
       "}\n",
       "\n",
       ".xr-array-data,\n",
       ".xr-array-in:checked ~ .xr-array-preview {\n",
       "  display: none;\n",
       "}\n",
       "\n",
       ".xr-array-in:checked ~ .xr-array-data,\n",
       ".xr-array-preview {\n",
       "  display: inline-block;\n",
       "}\n",
       "\n",
       ".xr-dim-list {\n",
       "  display: inline-block !important;\n",
       "  list-style: none;\n",
       "  padding: 0 !important;\n",
       "  margin: 0;\n",
       "}\n",
       "\n",
       ".xr-dim-list li {\n",
       "  display: inline-block;\n",
       "  padding: 0;\n",
       "  margin: 0;\n",
       "}\n",
       "\n",
       ".xr-dim-list:before {\n",
       "  content: '(';\n",
       "}\n",
       "\n",
       ".xr-dim-list:after {\n",
       "  content: ')';\n",
       "}\n",
       "\n",
       ".xr-dim-list li:not(:last-child):after {\n",
       "  content: ',';\n",
       "  padding-right: 5px;\n",
       "}\n",
       "\n",
       ".xr-has-index {\n",
       "  font-weight: bold;\n",
       "}\n",
       "\n",
       ".xr-var-list,\n",
       ".xr-var-item {\n",
       "  display: contents;\n",
       "}\n",
       "\n",
       ".xr-var-item > div,\n",
       ".xr-var-item label,\n",
       ".xr-var-item > .xr-var-name span {\n",
       "  background-color: var(--xr-background-color-row-even);\n",
       "  margin-bottom: 0;\n",
       "}\n",
       "\n",
       ".xr-var-item > .xr-var-name:hover span {\n",
       "  padding-right: 5px;\n",
       "}\n",
       "\n",
       ".xr-var-list > li:nth-child(odd) > div,\n",
       ".xr-var-list > li:nth-child(odd) > label,\n",
       ".xr-var-list > li:nth-child(odd) > .xr-var-name span {\n",
       "  background-color: var(--xr-background-color-row-odd);\n",
       "}\n",
       "\n",
       ".xr-var-name {\n",
       "  grid-column: 1;\n",
       "}\n",
       "\n",
       ".xr-var-dims {\n",
       "  grid-column: 2;\n",
       "}\n",
       "\n",
       ".xr-var-dtype {\n",
       "  grid-column: 3;\n",
       "  text-align: right;\n",
       "  color: var(--xr-font-color2);\n",
       "}\n",
       "\n",
       ".xr-var-preview {\n",
       "  grid-column: 4;\n",
       "}\n",
       "\n",
       ".xr-var-name,\n",
       ".xr-var-dims,\n",
       ".xr-var-dtype,\n",
       ".xr-preview,\n",
       ".xr-attrs dt {\n",
       "  white-space: nowrap;\n",
       "  overflow: hidden;\n",
       "  text-overflow: ellipsis;\n",
       "  padding-right: 10px;\n",
       "}\n",
       "\n",
       ".xr-var-name:hover,\n",
       ".xr-var-dims:hover,\n",
       ".xr-var-dtype:hover,\n",
       ".xr-attrs dt:hover {\n",
       "  overflow: visible;\n",
       "  width: auto;\n",
       "  z-index: 1;\n",
       "}\n",
       "\n",
       ".xr-var-attrs,\n",
       ".xr-var-data {\n",
       "  display: none;\n",
       "  background-color: var(--xr-background-color) !important;\n",
       "  padding-bottom: 5px !important;\n",
       "}\n",
       "\n",
       ".xr-var-attrs-in:checked ~ .xr-var-attrs,\n",
       ".xr-var-data-in:checked ~ .xr-var-data {\n",
       "  display: block;\n",
       "}\n",
       "\n",
       ".xr-var-data > table {\n",
       "  float: right;\n",
       "}\n",
       "\n",
       ".xr-var-name span,\n",
       ".xr-var-data,\n",
       ".xr-attrs {\n",
       "  padding-left: 25px !important;\n",
       "}\n",
       "\n",
       ".xr-attrs,\n",
       ".xr-var-attrs,\n",
       ".xr-var-data {\n",
       "  grid-column: 1 / -1;\n",
       "}\n",
       "\n",
       "dl.xr-attrs {\n",
       "  padding: 0;\n",
       "  margin: 0;\n",
       "  display: grid;\n",
       "  grid-template-columns: 125px auto;\n",
       "}\n",
       "\n",
       ".xr-attrs dt,\n",
       ".xr-attrs dd {\n",
       "  padding: 0;\n",
       "  margin: 0;\n",
       "  float: left;\n",
       "  padding-right: 10px;\n",
       "  width: auto;\n",
       "}\n",
       "\n",
       ".xr-attrs dt {\n",
       "  font-weight: normal;\n",
       "  grid-column: 1;\n",
       "}\n",
       "\n",
       ".xr-attrs dt:hover span {\n",
       "  display: inline-block;\n",
       "  background: var(--xr-background-color);\n",
       "  padding-right: 10px;\n",
       "}\n",
       "\n",
       ".xr-attrs dd {\n",
       "  grid-column: 2;\n",
       "  white-space: pre-wrap;\n",
       "  word-break: break-all;\n",
       "}\n",
       "\n",
       ".xr-icon-database,\n",
       ".xr-icon-file-text2 {\n",
       "  display: inline-block;\n",
       "  vertical-align: middle;\n",
       "  width: 1em;\n",
       "  height: 1.5em !important;\n",
       "  stroke-width: 0;\n",
       "  stroke: currentColor;\n",
       "  fill: currentColor;\n",
       "}\n",
       "</style><pre class='xr-text-repr-fallback'>&lt;xarray.DataArray ()&gt;\n",
       "&lt;Quantity(600, &#x27;kelvin&#x27;)&gt;\n",
       "Coordinates:\n",
       "    t        int32 30\n",
       "    x        int32 20</pre><div class='xr-wrap' hidden><div class='xr-header'><div class='xr-obj-type'>xarray.DataArray</div><div class='xr-array-name'></div></div><ul class='xr-sections'><li class='xr-section-item'><div class='xr-array-wrap'><input id='section-2e768d10-dcf0-4128-a662-55197101dcfe' class='xr-array-in' type='checkbox' checked><label for='section-2e768d10-dcf0-4128-a662-55197101dcfe' title='Show/hide data repr'><svg class='icon xr-icon-database'><use xlink:href='#icon-database'></use></svg></label><div class='xr-array-preview xr-preview'><span>&lt;Quantity(600, &#x27;kelvin&#x27;)&gt;</span></div><div class='xr-array-data'><pre>600</pre> K</div></div></li><li class='xr-section-item'><input id='section-1bb34099-48dd-4b85-a3f7-d4a2759667f7' class='xr-section-summary-in' type='checkbox'  checked><label for='section-1bb34099-48dd-4b85-a3f7-d4a2759667f7' class='xr-section-summary' >Coordinates: <span>(2)</span></label><div class='xr-section-inline-details'></div><div class='xr-section-details'><ul class='xr-var-list'><li class='xr-var-item'><div class='xr-var-name'><span>t</span></div><div class='xr-var-dims'>()</div><div class='xr-var-dtype'>int32</div><div class='xr-var-preview xr-preview'>30</div><input id='attrs-0ad14da8-38eb-4be5-9cb3-4d4ce01793ce' class='xr-var-attrs-in' type='checkbox' disabled><label for='attrs-0ad14da8-38eb-4be5-9cb3-4d4ce01793ce' title='Show/Hide attributes'><svg class='icon xr-icon-file-text2'><use xlink:href='#icon-file-text2'></use></svg></label><input id='data-917f2a90-8f5f-4491-8d74-77de81c2e1fb' class='xr-var-data-in' type='checkbox'><label for='data-917f2a90-8f5f-4491-8d74-77de81c2e1fb' title='Show/Hide data repr'><svg class='icon xr-icon-database'><use xlink:href='#icon-database'></use></svg></label><div class='xr-var-attrs'><dl class='xr-attrs'></dl></div><div class='xr-var-data'><pre>array(30)</pre></div></li><li class='xr-var-item'><div class='xr-var-name'><span>x</span></div><div class='xr-var-dims'>()</div><div class='xr-var-dtype'>int32</div><div class='xr-var-preview xr-preview'>20</div><input id='attrs-eb9b5025-c52e-44e7-8ae2-3febe1175c7d' class='xr-var-attrs-in' type='checkbox' disabled><label for='attrs-eb9b5025-c52e-44e7-8ae2-3febe1175c7d' title='Show/Hide attributes'><svg class='icon xr-icon-file-text2'><use xlink:href='#icon-file-text2'></use></svg></label><input id='data-a4d3addb-2ecd-47a6-8249-c53607493847' class='xr-var-data-in' type='checkbox'><label for='data-a4d3addb-2ecd-47a6-8249-c53607493847' title='Show/Hide data repr'><svg class='icon xr-icon-database'><use xlink:href='#icon-database'></use></svg></label><div class='xr-var-attrs'><dl class='xr-attrs'></dl></div><div class='xr-var-data'><pre>array(20)</pre></div></li></ul></div></li><li class='xr-section-item'><input id='section-9d093228-5faa-4370-be7b-1bbbcb24347d' class='xr-section-summary-in' type='checkbox' disabled ><label for='section-9d093228-5faa-4370-be7b-1bbbcb24347d' class='xr-section-summary'  title='Expand/collapse section'>Attributes: <span>(0)</span></label><div class='xr-section-inline-details'></div><div class='xr-section-details'><dl class='xr-attrs'></dl></div></li></ul></div></div>"
      ],
      "text/plain": [
       "<xarray.DataArray ()>\n",
       "<Quantity(600, 'kelvin')>\n",
       "Coordinates:\n",
       "    t        int32 30\n",
       "    x        int32 20"
      ]
     },
     "execution_count": 8,
     "metadata": {},
     "output_type": "execute_result"
    }
   ],
   "source": [
    "gs_discrete[3,4]"
   ]
  },
  {
   "cell_type": "markdown",
   "id": "c84f4ae5",
   "metadata": {},
   "source": [
    "Slicing is also possible:"
   ]
  },
  {
   "cell_type": "code",
   "execution_count": 9,
   "id": "774ff159",
   "metadata": {},
   "outputs": [
    {
     "data": {
      "text/html": [
       "<div><svg style=\"position: absolute; width: 0; height: 0; overflow: hidden\">\n",
       "<defs>\n",
       "<symbol id=\"icon-database\" viewBox=\"0 0 32 32\">\n",
       "<path d=\"M16 0c-8.837 0-16 2.239-16 5v4c0 2.761 7.163 5 16 5s16-2.239 16-5v-4c0-2.761-7.163-5-16-5z\"></path>\n",
       "<path d=\"M16 17c-8.837 0-16-2.239-16-5v6c0 2.761 7.163 5 16 5s16-2.239 16-5v-6c0 2.761-7.163 5-16 5z\"></path>\n",
       "<path d=\"M16 26c-8.837 0-16-2.239-16-5v6c0 2.761 7.163 5 16 5s16-2.239 16-5v-6c0 2.761-7.163 5-16 5z\"></path>\n",
       "</symbol>\n",
       "<symbol id=\"icon-file-text2\" viewBox=\"0 0 32 32\">\n",
       "<path d=\"M28.681 7.159c-0.694-0.947-1.662-2.053-2.724-3.116s-2.169-2.030-3.116-2.724c-1.612-1.182-2.393-1.319-2.841-1.319h-15.5c-1.378 0-2.5 1.121-2.5 2.5v27c0 1.378 1.122 2.5 2.5 2.5h23c1.378 0 2.5-1.122 2.5-2.5v-19.5c0-0.448-0.137-1.23-1.319-2.841zM24.543 5.457c0.959 0.959 1.712 1.825 2.268 2.543h-4.811v-4.811c0.718 0.556 1.584 1.309 2.543 2.268zM28 29.5c0 0.271-0.229 0.5-0.5 0.5h-23c-0.271 0-0.5-0.229-0.5-0.5v-27c0-0.271 0.229-0.5 0.5-0.5 0 0 15.499-0 15.5 0v7c0 0.552 0.448 1 1 1h7v19.5z\"></path>\n",
       "<path d=\"M23 26h-14c-0.552 0-1-0.448-1-1s0.448-1 1-1h14c0.552 0 1 0.448 1 1s-0.448 1-1 1z\"></path>\n",
       "<path d=\"M23 22h-14c-0.552 0-1-0.448-1-1s0.448-1 1-1h14c0.552 0 1 0.448 1 1s-0.448 1-1 1z\"></path>\n",
       "<path d=\"M23 18h-14c-0.552 0-1-0.448-1-1s0.448-1 1-1h14c0.552 0 1 0.448 1 1s-0.448 1-1 1z\"></path>\n",
       "</symbol>\n",
       "</defs>\n",
       "</svg>\n",
       "<style>/* CSS stylesheet for displaying xarray objects in jupyterlab.\n",
       " *\n",
       " */\n",
       "\n",
       ":root {\n",
       "  --xr-font-color0: var(--jp-content-font-color0, rgba(0, 0, 0, 1));\n",
       "  --xr-font-color2: var(--jp-content-font-color2, rgba(0, 0, 0, 0.54));\n",
       "  --xr-font-color3: var(--jp-content-font-color3, rgba(0, 0, 0, 0.38));\n",
       "  --xr-border-color: var(--jp-border-color2, #e0e0e0);\n",
       "  --xr-disabled-color: var(--jp-layout-color3, #bdbdbd);\n",
       "  --xr-background-color: var(--jp-layout-color0, white);\n",
       "  --xr-background-color-row-even: var(--jp-layout-color1, white);\n",
       "  --xr-background-color-row-odd: var(--jp-layout-color2, #eeeeee);\n",
       "}\n",
       "\n",
       "html[theme=dark],\n",
       "body.vscode-dark {\n",
       "  --xr-font-color0: rgba(255, 255, 255, 1);\n",
       "  --xr-font-color2: rgba(255, 255, 255, 0.54);\n",
       "  --xr-font-color3: rgba(255, 255, 255, 0.38);\n",
       "  --xr-border-color: #1F1F1F;\n",
       "  --xr-disabled-color: #515151;\n",
       "  --xr-background-color: #111111;\n",
       "  --xr-background-color-row-even: #111111;\n",
       "  --xr-background-color-row-odd: #313131;\n",
       "}\n",
       "\n",
       ".xr-wrap {\n",
       "  display: block;\n",
       "  min-width: 300px;\n",
       "  max-width: 700px;\n",
       "}\n",
       "\n",
       ".xr-text-repr-fallback {\n",
       "  /* fallback to plain text repr when CSS is not injected (untrusted notebook) */\n",
       "  display: none;\n",
       "}\n",
       "\n",
       ".xr-header {\n",
       "  padding-top: 6px;\n",
       "  padding-bottom: 6px;\n",
       "  margin-bottom: 4px;\n",
       "  border-bottom: solid 1px var(--xr-border-color);\n",
       "}\n",
       "\n",
       ".xr-header > div,\n",
       ".xr-header > ul {\n",
       "  display: inline;\n",
       "  margin-top: 0;\n",
       "  margin-bottom: 0;\n",
       "}\n",
       "\n",
       ".xr-obj-type,\n",
       ".xr-array-name {\n",
       "  margin-left: 2px;\n",
       "  margin-right: 10px;\n",
       "}\n",
       "\n",
       ".xr-obj-type {\n",
       "  color: var(--xr-font-color2);\n",
       "}\n",
       "\n",
       ".xr-sections {\n",
       "  padding-left: 0 !important;\n",
       "  display: grid;\n",
       "  grid-template-columns: 150px auto auto 1fr 20px 20px;\n",
       "}\n",
       "\n",
       ".xr-section-item {\n",
       "  display: contents;\n",
       "}\n",
       "\n",
       ".xr-section-item input {\n",
       "  display: none;\n",
       "}\n",
       "\n",
       ".xr-section-item input + label {\n",
       "  color: var(--xr-disabled-color);\n",
       "}\n",
       "\n",
       ".xr-section-item input:enabled + label {\n",
       "  cursor: pointer;\n",
       "  color: var(--xr-font-color2);\n",
       "}\n",
       "\n",
       ".xr-section-item input:enabled + label:hover {\n",
       "  color: var(--xr-font-color0);\n",
       "}\n",
       "\n",
       ".xr-section-summary {\n",
       "  grid-column: 1;\n",
       "  color: var(--xr-font-color2);\n",
       "  font-weight: 500;\n",
       "}\n",
       "\n",
       ".xr-section-summary > span {\n",
       "  display: inline-block;\n",
       "  padding-left: 0.5em;\n",
       "}\n",
       "\n",
       ".xr-section-summary-in:disabled + label {\n",
       "  color: var(--xr-font-color2);\n",
       "}\n",
       "\n",
       ".xr-section-summary-in + label:before {\n",
       "  display: inline-block;\n",
       "  content: '►';\n",
       "  font-size: 11px;\n",
       "  width: 15px;\n",
       "  text-align: center;\n",
       "}\n",
       "\n",
       ".xr-section-summary-in:disabled + label:before {\n",
       "  color: var(--xr-disabled-color);\n",
       "}\n",
       "\n",
       ".xr-section-summary-in:checked + label:before {\n",
       "  content: '▼';\n",
       "}\n",
       "\n",
       ".xr-section-summary-in:checked + label > span {\n",
       "  display: none;\n",
       "}\n",
       "\n",
       ".xr-section-summary,\n",
       ".xr-section-inline-details {\n",
       "  padding-top: 4px;\n",
       "  padding-bottom: 4px;\n",
       "}\n",
       "\n",
       ".xr-section-inline-details {\n",
       "  grid-column: 2 / -1;\n",
       "}\n",
       "\n",
       ".xr-section-details {\n",
       "  display: none;\n",
       "  grid-column: 1 / -1;\n",
       "  margin-bottom: 5px;\n",
       "}\n",
       "\n",
       ".xr-section-summary-in:checked ~ .xr-section-details {\n",
       "  display: contents;\n",
       "}\n",
       "\n",
       ".xr-array-wrap {\n",
       "  grid-column: 1 / -1;\n",
       "  display: grid;\n",
       "  grid-template-columns: 20px auto;\n",
       "}\n",
       "\n",
       ".xr-array-wrap > label {\n",
       "  grid-column: 1;\n",
       "  vertical-align: top;\n",
       "}\n",
       "\n",
       ".xr-preview {\n",
       "  color: var(--xr-font-color3);\n",
       "}\n",
       "\n",
       ".xr-array-preview,\n",
       ".xr-array-data {\n",
       "  padding: 0 5px !important;\n",
       "  grid-column: 2;\n",
       "}\n",
       "\n",
       ".xr-array-data,\n",
       ".xr-array-in:checked ~ .xr-array-preview {\n",
       "  display: none;\n",
       "}\n",
       "\n",
       ".xr-array-in:checked ~ .xr-array-data,\n",
       ".xr-array-preview {\n",
       "  display: inline-block;\n",
       "}\n",
       "\n",
       ".xr-dim-list {\n",
       "  display: inline-block !important;\n",
       "  list-style: none;\n",
       "  padding: 0 !important;\n",
       "  margin: 0;\n",
       "}\n",
       "\n",
       ".xr-dim-list li {\n",
       "  display: inline-block;\n",
       "  padding: 0;\n",
       "  margin: 0;\n",
       "}\n",
       "\n",
       ".xr-dim-list:before {\n",
       "  content: '(';\n",
       "}\n",
       "\n",
       ".xr-dim-list:after {\n",
       "  content: ')';\n",
       "}\n",
       "\n",
       ".xr-dim-list li:not(:last-child):after {\n",
       "  content: ',';\n",
       "  padding-right: 5px;\n",
       "}\n",
       "\n",
       ".xr-has-index {\n",
       "  font-weight: bold;\n",
       "}\n",
       "\n",
       ".xr-var-list,\n",
       ".xr-var-item {\n",
       "  display: contents;\n",
       "}\n",
       "\n",
       ".xr-var-item > div,\n",
       ".xr-var-item label,\n",
       ".xr-var-item > .xr-var-name span {\n",
       "  background-color: var(--xr-background-color-row-even);\n",
       "  margin-bottom: 0;\n",
       "}\n",
       "\n",
       ".xr-var-item > .xr-var-name:hover span {\n",
       "  padding-right: 5px;\n",
       "}\n",
       "\n",
       ".xr-var-list > li:nth-child(odd) > div,\n",
       ".xr-var-list > li:nth-child(odd) > label,\n",
       ".xr-var-list > li:nth-child(odd) > .xr-var-name span {\n",
       "  background-color: var(--xr-background-color-row-odd);\n",
       "}\n",
       "\n",
       ".xr-var-name {\n",
       "  grid-column: 1;\n",
       "}\n",
       "\n",
       ".xr-var-dims {\n",
       "  grid-column: 2;\n",
       "}\n",
       "\n",
       ".xr-var-dtype {\n",
       "  grid-column: 3;\n",
       "  text-align: right;\n",
       "  color: var(--xr-font-color2);\n",
       "}\n",
       "\n",
       ".xr-var-preview {\n",
       "  grid-column: 4;\n",
       "}\n",
       "\n",
       ".xr-var-name,\n",
       ".xr-var-dims,\n",
       ".xr-var-dtype,\n",
       ".xr-preview,\n",
       ".xr-attrs dt {\n",
       "  white-space: nowrap;\n",
       "  overflow: hidden;\n",
       "  text-overflow: ellipsis;\n",
       "  padding-right: 10px;\n",
       "}\n",
       "\n",
       ".xr-var-name:hover,\n",
       ".xr-var-dims:hover,\n",
       ".xr-var-dtype:hover,\n",
       ".xr-attrs dt:hover {\n",
       "  overflow: visible;\n",
       "  width: auto;\n",
       "  z-index: 1;\n",
       "}\n",
       "\n",
       ".xr-var-attrs,\n",
       ".xr-var-data {\n",
       "  display: none;\n",
       "  background-color: var(--xr-background-color) !important;\n",
       "  padding-bottom: 5px !important;\n",
       "}\n",
       "\n",
       ".xr-var-attrs-in:checked ~ .xr-var-attrs,\n",
       ".xr-var-data-in:checked ~ .xr-var-data {\n",
       "  display: block;\n",
       "}\n",
       "\n",
       ".xr-var-data > table {\n",
       "  float: right;\n",
       "}\n",
       "\n",
       ".xr-var-name span,\n",
       ".xr-var-data,\n",
       ".xr-attrs {\n",
       "  padding-left: 25px !important;\n",
       "}\n",
       "\n",
       ".xr-attrs,\n",
       ".xr-var-attrs,\n",
       ".xr-var-data {\n",
       "  grid-column: 1 / -1;\n",
       "}\n",
       "\n",
       "dl.xr-attrs {\n",
       "  padding: 0;\n",
       "  margin: 0;\n",
       "  display: grid;\n",
       "  grid-template-columns: 125px auto;\n",
       "}\n",
       "\n",
       ".xr-attrs dt,\n",
       ".xr-attrs dd {\n",
       "  padding: 0;\n",
       "  margin: 0;\n",
       "  float: left;\n",
       "  padding-right: 10px;\n",
       "  width: auto;\n",
       "}\n",
       "\n",
       ".xr-attrs dt {\n",
       "  font-weight: normal;\n",
       "  grid-column: 1;\n",
       "}\n",
       "\n",
       ".xr-attrs dt:hover span {\n",
       "  display: inline-block;\n",
       "  background: var(--xr-background-color);\n",
       "  padding-right: 10px;\n",
       "}\n",
       "\n",
       ".xr-attrs dd {\n",
       "  grid-column: 2;\n",
       "  white-space: pre-wrap;\n",
       "  word-break: break-all;\n",
       "}\n",
       "\n",
       ".xr-icon-database,\n",
       ".xr-icon-file-text2 {\n",
       "  display: inline-block;\n",
       "  vertical-align: middle;\n",
       "  width: 1em;\n",
       "  height: 1.5em !important;\n",
       "  stroke-width: 0;\n",
       "  stroke: currentColor;\n",
       "  fill: currentColor;\n",
       "}\n",
       "</style><pre class='xr-text-repr-fallback'>&lt;xarray.DataArray (t: 2, x: 6)&gt;\n",
       "&lt;Quantity([[ 450  500  600  800 1200  400]\n",
       " [ 412  425  450  500  600  800]], &#x27;kelvin&#x27;)&gt;\n",
       "Coordinates:\n",
       "  * t        (t) int32 20 30\n",
       "  * x        (x) int32 0 5 10 15 20 25</pre><div class='xr-wrap' hidden><div class='xr-header'><div class='xr-obj-type'>xarray.DataArray</div><div class='xr-array-name'></div><ul class='xr-dim-list'><li><span class='xr-has-index'>t</span>: 2</li><li><span class='xr-has-index'>x</span>: 6</li></ul></div><ul class='xr-sections'><li class='xr-section-item'><div class='xr-array-wrap'><input id='section-a94a282d-0c8b-452b-a29b-71176605204b' class='xr-array-in' type='checkbox' checked><label for='section-a94a282d-0c8b-452b-a29b-71176605204b' title='Show/hide data repr'><svg class='icon xr-icon-database'><use xlink:href='#icon-database'></use></svg></label><div class='xr-array-preview xr-preview'><span>&lt;Quantity([[ 450  500  600  800 1200  400]  [ 412  425  450  500  6...</span></div><div class='xr-array-data'><table><tbody><tr><th>Magnitude</th><td style='text-align:left;'><pre>[[ 450  500  600  800 1200  400]<br> [ 412  425  450  500  600  800]]</pre></td></tr><tr><th>Units</th><td style='text-align:left;'>K</td></tr></tbody></table></div></div></li><li class='xr-section-item'><input id='section-364265c8-05bf-4c8c-97cb-516ffb60b1b1' class='xr-section-summary-in' type='checkbox'  checked><label for='section-364265c8-05bf-4c8c-97cb-516ffb60b1b1' class='xr-section-summary' >Coordinates: <span>(2)</span></label><div class='xr-section-inline-details'></div><div class='xr-section-details'><ul class='xr-var-list'><li class='xr-var-item'><div class='xr-var-name'><span class='xr-has-index'>t</span></div><div class='xr-var-dims'>(t)</div><div class='xr-var-dtype'>int32</div><div class='xr-var-preview xr-preview'>20 30</div><input id='attrs-0361709b-9c44-42d5-a2c4-68780adc6b05' class='xr-var-attrs-in' type='checkbox' disabled><label for='attrs-0361709b-9c44-42d5-a2c4-68780adc6b05' title='Show/Hide attributes'><svg class='icon xr-icon-file-text2'><use xlink:href='#icon-file-text2'></use></svg></label><input id='data-bdde0066-3f68-46a0-8b26-a22e0aedf2a5' class='xr-var-data-in' type='checkbox'><label for='data-bdde0066-3f68-46a0-8b26-a22e0aedf2a5' title='Show/Hide data repr'><svg class='icon xr-icon-database'><use xlink:href='#icon-database'></use></svg></label><div class='xr-var-attrs'><dl class='xr-attrs'></dl></div><div class='xr-var-data'><pre>array([20, 30])</pre></div></li><li class='xr-var-item'><div class='xr-var-name'><span class='xr-has-index'>x</span></div><div class='xr-var-dims'>(x)</div><div class='xr-var-dtype'>int32</div><div class='xr-var-preview xr-preview'>0 5 10 15 20 25</div><input id='attrs-b60631d2-9309-4503-9f26-4e4eabf3fc91' class='xr-var-attrs-in' type='checkbox' disabled><label for='attrs-b60631d2-9309-4503-9f26-4e4eabf3fc91' title='Show/Hide attributes'><svg class='icon xr-icon-file-text2'><use xlink:href='#icon-file-text2'></use></svg></label><input id='data-43da2a87-dd9e-4872-b0d4-3aa8dc8b49a4' class='xr-var-data-in' type='checkbox'><label for='data-43da2a87-dd9e-4872-b0d4-3aa8dc8b49a4' title='Show/Hide data repr'><svg class='icon xr-icon-database'><use xlink:href='#icon-database'></use></svg></label><div class='xr-var-attrs'><dl class='xr-attrs'></dl></div><div class='xr-var-data'><pre>array([ 0,  5, 10, 15, 20, 25])</pre></div></li></ul></div></li><li class='xr-section-item'><input id='section-a2adb343-88c0-45aa-9968-d33a8fb2afcf' class='xr-section-summary-in' type='checkbox' disabled ><label for='section-a2adb343-88c0-45aa-9968-d33a8fb2afcf' class='xr-section-summary'  title='Expand/collapse section'>Attributes: <span>(0)</span></label><div class='xr-section-inline-details'></div><div class='xr-section-details'><dl class='xr-attrs'></dl></div></li></ul></div></div>"
      ],
      "text/plain": [
       "<xarray.DataArray (t: 2, x: 6)>\n",
       "<Quantity([[ 450  500  600  800 1200  400]\n",
       " [ 412  425  450  500  600  800]], 'kelvin')>\n",
       "Coordinates:\n",
       "  * t        (t) int32 20 30\n",
       "  * x        (x) int32 0 5 10 15 20 25"
      ]
     },
     "execution_count": 9,
     "metadata": {},
     "output_type": "execute_result"
    }
   ],
   "source": [
    "gs_discrete[2:4,:]"
   ]
  },
  {
   "cell_type": "markdown",
   "id": "cd6d19d5",
   "metadata": {},
   "source": [
    "> TODO: implement and demonstrate sel function like in xarray"
   ]
  },
  {
   "cell_type": "markdown",
   "id": "f7d0c303",
   "metadata": {},
   "source": [
    "## Evaluation/Interpolation\n",
    "\n",
    "Even though the `GenericSeries` might be based on discrete values, you should think of it as some kind of mathematical function object that can be evaluated at any coordinate along its dimensions.\n",
    "To do so, we simply use the call operator `()` on our `GenericSeries` and specify the coordinates we are interested in.\n",
    "For example, we might be interested in the temperature at $x=12cm$ and $t=24s$.\n",
    "The coordinates are passed as keyword arguments where the key is the dimension and the value are the coordinates we are interested in:\n",
    "\n",
    "> **TODO: Really IMPORTANT** -> We need to assure that the units at the coordinates are used correctly. Currently only the magnitude is taken. So using \"nm\" or \"m\" instead of \"cm\" has no effect on the result. I could even use a totally unrelated unit without any problems\n"
   ]
  },
  {
   "cell_type": "code",
   "execution_count": 46,
   "id": "59ce8a3a",
   "metadata": {},
   "outputs": [
    {
     "data": {
      "text/plain": [
       "<GenericSeries>\n",
       "Values:\n",
       "[[596.]]\n",
       "Dimensions:\n",
       "\t('t', 'x')\n",
       "Coordinates:\n",
       "\tCoordinates:\n",
       "  * t        (t) int64 24\n",
       "  * x        (x) int64 12\n",
       "Units:\n",
       "\tK"
      ]
     },
     "execution_count": 47,
     "metadata": {},
     "output_type": "execute_result"
    }
   ],
   "source": [
    "gs_discrete(t=\"24s\", x=\"12cm\")"
   ]
  },
  {
   "cell_type": "markdown",
   "id": "42307d49",
   "metadata": {},
   "source": [
    "It is not necessary to provide coordinates for all dimensions.\n",
    "A single dimension is already enough:"
   ]
  },
  {
   "cell_type": "code",
   "execution_count": 11,
   "id": "31961bd5",
   "metadata": {},
   "outputs": [
    {
     "data": {
      "text/plain": [
       "<GenericSeries>\n",
       "Values:\n",
       "[[434.8 470.  540.  680.  960.  560. ]]\n",
       "Dimensions:\n",
       "\t('t', 'x')\n",
       "Coordinates:\n",
       "\tCoordinates:\n",
       "  * t        (t) int64 24\n",
       "  * x        (x) int64 0 5 10 15 20 25\n",
       "Units:\n",
       "\tK"
      ]
     },
     "execution_count": 11,
     "metadata": {},
     "output_type": "execute_result"
    }
   ],
   "source": [
    "gs_discrete(t=\"24s\")"
   ]
  },
  {
   "cell_type": "markdown",
   "id": "b2477290",
   "metadata": {},
   "source": [
    "> TODO: check dim removal\n",
    "\n",
    "Of cause, we can also evaluate multiple coordinate values for each dimension:"
   ]
  },
  {
   "cell_type": "code",
   "execution_count": 12,
   "id": "026fb00e",
   "metadata": {},
   "outputs": [
    {
     "data": {
      "text/plain": [
       "<GenericSeries>\n",
       "Values:\n",
       "[[984.   364.   358.  ]\n",
       " [461.94 679.   820.  ]]\n",
       "Dimensions:\n",
       "\t('t', 'x')\n",
       "Coordinates:\n",
       "\tCoordinates:\n",
       "  * t        (t) int64 11 23\n",
       "  * x        (x) int64 3 14 22\n",
       "Units:\n",
       "\tK"
      ]
     },
     "execution_count": 12,
     "metadata": {},
     "output_type": "execute_result"
    }
   ],
   "source": [
    "gs_discrete(t=Q_([11, 23], \"s\"), x=Q_([3, 14, 22], \"cm\"))"
   ]
  },
  {
   "cell_type": "markdown",
   "id": "2a9e8ebe",
   "metadata": {},
   "source": [
    "You may have noticed that we exclusively used coordinate values that do not match the coordinates we initially provided to the `GenericSeries`.\n",
    "The actual data values are obtained by interpolation.\n",
    "By default, the `GenericSeries` uses linear interpolation.\n",
    "It can be changed during construction using the `interpolation` parameter or by assigning a new value using the `interpolation` setter:\n",
    "\n",
    "> TODO: mention interpolation outside of boundaries"
   ]
  },
  {
   "cell_type": "code",
   "execution_count": 13,
   "id": "e2275750",
   "metadata": {},
   "outputs": [],
   "source": [
    "gs_discrete.interpolation = \"linear\""
   ]
  },
  {
   "cell_type": "markdown",
   "id": "775e8ce7",
   "metadata": {},
   "source": [
    "Let's interpolate the data for $t=15s$ and plot it together with the two closest timesteps:"
   ]
  },
  {
   "cell_type": "code",
   "execution_count": 14,
   "id": "943feb2c",
   "metadata": {},
   "outputs": [
    {
     "data": {
      "image/png": "[encoded data removed]",
      "text/plain": [
       "<Figure size 432x288 with 1 Axes>"
      ]
     },
     "metadata": {
      "needs_background": "light"
     },
     "output_type": "display_data"
    }
   ],
   "source": [
    "plt.plot(coords_x.m, np.transpose(gs_discrete(t=\"15s\").data[0].m), label=\"t=15s\")\n",
    "plt.plot(\n",
    "    coords_x.m, np.transpose(gs_discrete[1:3].data.m), \n",
    "    label=[f\"t={v}s\" for v in gs_discrete.data_array.t[1:3].data]\n",
    ")\n",
    "plt.gca().legend();"
   ]
  },
  {
   "cell_type": "markdown",
   "id": "2ca5d2c9",
   "metadata": {},
   "source": [
    "As one might expect the linearly interpolated data is the mean value of both curves since $t=15s$ lies directly in the middle between $t=10s$ and $t=20s$.\n",
    "However, that doesn't really look like the correct temperature distrubution for a single torch moving along the groove.\n",
    "Instead the peak value should translate from left to right.\n",
    "Of cause, with dense data from real measurements, this would be just a minor issue with no practical relevance, but it serves as a nice transition two our next topic."
   ]
  },
  {
   "cell_type": "markdown",
   "id": "2e044297",
   "metadata": {},
   "source": [
    "## Using Expressions\n",
    "\n",
    "### A simple example\n",
    "\n",
    "Another way to define a `GenericSeries` is using mathematical expressions.\n",
    "In contrast to the previously shown approach we do not need to generate and store a lot of discrete data.\n",
    "All we need is a simple formula.\n",
    "Additionally, we do not get interpolation errors as in the previous section since we can evaluate the expression exactly for any given set of coordinates.\n",
    "\n",
    "Let's start with a more or less simple example where we try to depict the data from the previous section as an expression.\n",
    "Note that we are not thriving for an exact match of the values, since this is only an example of the `GenericSeries`'s features.\n",
    "The following equation resembles a wave that travels towards increasing $x$ values with increasing v $t$:\n",
    "\n",
    "$$\n",
    "f\\left(x,t\\right)=\\mathrm{tanh}\\left(\\frac{x-t}{5}\\right) - \\mathrm{tanh}\\left(x-t-10\\right)\n",
    "$$\n",
    "\n",
    "Like in the previous section, the slope on the right-hand side of the peak is much steeper.\n",
    "We now translate this equation into an expression string that can be understood by the `GenericSeries`:"
   ]
  },
  {
   "cell_type": "code",
   "execution_count": 15,
   "id": "c64344fb",
   "metadata": {},
   "outputs": [],
   "source": [
    "expr = \"tanh((x-t)/5) - tanh(x-t-10)\""
   ]
  },
  {
   "cell_type": "markdown",
   "id": "180511d7",
   "metadata": {},
   "source": [
    "The syntax is pretty close to python code, except that it is enclosed inside of a string.\n",
    "Now we could create a `MathematicalExpression` using this expression string and pass it to the `GenericSeries`, but it is much easier to simply pass the string directly to the `GenericSeries`:\n",
    "\n",
    "> TODO Link MathExpr tutorial"
   ]
  },
  {
   "cell_type": "code",
   "execution_count": 16,
   "id": "a5f68fed",
   "metadata": {},
   "outputs": [],
   "source": [
    "gs_expr=GenericSeries(expr)"
   ]
  },
  {
   "cell_type": "markdown",
   "id": "fb22f820",
   "metadata": {},
   "source": [
    "We have now created a `GenericSeries` based on an expression.\n",
    "Wasn't that hard, right?\n",
    "Let's print it and have a look at its representation:"
   ]
  },
  {
   "cell_type": "code",
   "execution_count": 17,
   "id": "fefa8e6d",
   "metadata": {},
   "outputs": [
    {
     "data": {
      "text/plain": [
       "<GenericSeries>\n",
       "\n",
       "Expression:\n",
       "\t tanh(-t/5 + x/5) - tanh(-t + x - 10)\n",
       "Parameters:\n",
       "\tNoneDimensions:\n",
       "\t['x', 't']\n",
       "Units:\n",
       "\t"
      ]
     },
     "execution_count": 17,
     "metadata": {},
     "output_type": "execute_result"
    }
   ],
   "source": [
    "gs_expr"
   ]
  },
  {
   "cell_type": "markdown",
   "id": "f483d754",
   "metadata": {},
   "source": [
    "> TODO: fix __repr__\n",
    "\n",
    "The first item of the output is the expression we entered, but there are also the fields `Parameters`, `Dimensions`, and `Units`.\n",
    "Our current `GenericSeries` has no parameters (see terminology at the beginning) since we did not define any so far.\n",
    "The dimensions `x` and `t` were automatically extracted from the provided expression.\n",
    "The field `Units` refers to the units our quantity after we evaluated the expression.\n",
    "As you can see, the field is currently empty and we will soon understand why this is the case.\n",
    "But first, we will evaluate our equation as we did before with the discrete version, except that we will not use units here.\n",
    "Again, we will talk about this later."
   ]
  },
  {
   "cell_type": "code",
   "execution_count": 18,
   "id": "d6d3b346",
   "metadata": {},
   "outputs": [
    {
     "data": {
      "text/plain": [
       "<GenericSeries>\n",
       "Values:\n",
       "[[ 1.76150336e+00  1.83298391e+00  1.88040640e+00  1.88569613e+00\n",
       "   1.70840017e+00  9.64027580e-01  2.14148974e-01  1.96472776e-02\n",
       "  -6.02735149e-03 -6.69777954e-03 -4.85445058e-03 -3.30531381e-03\n",
       "  -2.22340901e-03 -1.49183260e-03 -1.00037175e-03 -6.70696139e-04\n",
       "  -4.49632983e-04 -3.01420641e-04 -2.02058378e-04 -1.35448298e-04\n",
       "  -9.07957372e-05 -6.08631138e-05 -4.07981746e-05 -2.73480182e-05\n",
       "  -1.83320074e-05]\n",
       " [ 2.38405844e-01  3.35963230e-01  4.62950433e-01  6.20051038e-01\n",
       "   8.02624679e-01  9.99999996e-01  1.19737529e+00  1.37994874e+00\n",
       "   1.53704790e+00  1.66402448e+00  1.76150336e+00  1.83298391e+00\n",
       "   1.88040640e+00  1.88569613e+00  1.70840017e+00  9.64027580e-01\n",
       "   2.14148974e-01  1.96472776e-02 -6.02735149e-03 -6.69777954e-03\n",
       "  -4.85445058e-03 -3.30531381e-03 -2.22340901e-03 -1.49183260e-03\n",
       "  -1.00037175e-03]\n",
       " [ 4.94524631e-03  7.36847980e-03  1.09725978e-02  1.63251423e-02\n",
       "   2.42568700e-02  3.59724199e-02  5.31939872e-02  7.83314456e-02\n",
       "   1.14648352e-01  1.66345393e-01  2.38405844e-01  3.35963230e-01\n",
       "   4.62950433e-01  6.20051038e-01  8.02624679e-01  9.99999996e-01\n",
       "   1.19737529e+00  1.37994874e+00  1.53704790e+00  1.66402448e+00\n",
       "   1.76150336e+00  1.83298391e+00  1.88040640e+00  1.88569613e+00\n",
       "   1.70840017e+00]]\n",
       "Dimensions:\n",
       "\t('t', 'x')\n",
       "Coordinates:\n",
       "\tCoordinates:\n",
       "  * t        (t) int32 -5 5 15\n",
       "  * x        (x) int32 0 1 2 3 4 5 6 7 8 9 10 ... 15 16 17 18 19 20 21 22 23 24\n",
       "Units:\n",
       "\t"
      ]
     },
     "execution_count": 18,
     "metadata": {},
     "output_type": "execute_result"
    }
   ],
   "source": [
    "coords_t = [-5, 5, 15]\n",
    "coords_x = list(range(25))\n",
    "result = gs_expr(t=coords_t, x=coords_x)\n",
    "result"
   ]
  },
  {
   "cell_type": "markdown",
   "id": "a7e8a5c3",
   "metadata": {},
   "source": [
    "The result is a new `GenericSeries` with discrete values at the coordinates we provided.\n",
    "Let's create a plot from the data:"
   ]
  },
  {
   "cell_type": "code",
   "execution_count": 19,
   "id": "2b3a5dbe",
   "metadata": {},
   "outputs": [
    {
     "data": {
      "image/png": "[encoded data removed]",
      "text/plain": [
       "<Figure size 432x288 with 1 Axes>"
      ]
     },
     "metadata": {
      "needs_background": "light"
     },
     "output_type": "display_data"
    }
   ],
   "source": [
    "plt.plot(\n",
    "    result.data_array.x,\n",
    "    np.transpose(result.data.m),\n",
    "    label=[f\"t={v}\" for v in result.data_array.t.data]\n",
    ")\n",
    "plt.gca().legend();"
   ]
  },
  {
   "cell_type": "markdown",
   "id": "4b0c4243",
   "metadata": {},
   "source": [
    "### Adding parameters\n",
    "\n",
    "While we can already recognize in the previous plot, that it has some similarities with the plot of the discrete data, a look at the y-axis tells us, that the magnitudes do not match.\n",
    "We will correct this by multiplying with a scaling factor `s` and adding an offset `o`.\n",
    "The new expression is:"
   ]
  },
  {
   "cell_type": "code",
   "execution_count": 20,
   "id": "c90d068e",
   "metadata": {},
   "outputs": [],
   "source": [
    "expr_param = \"s * (tanh((x-t)/5) - tanh(x-t-10)) + o\""
   ]
  },
  {
   "cell_type": "markdown",
   "id": "08102904",
   "metadata": {},
   "source": [
    "So far, there is nothing that distincts `s` and `o` from `x` and `t`.\n",
    "They are just another set of symbols in our equation.\n",
    "We will declare `s` and `o` as expression parameters during the construction of our `GenericSeries` using the `parameters` argument.\n",
    "It expects a dictionary, that maps a discrete value to any of our expressions symbols.\n",
    "Let us now do this for `s` and `o`:"
   ]
  },
  {
   "cell_type": "code",
   "execution_count": 21,
   "id": "163bfa3f",
   "metadata": {},
   "outputs": [
    {
     "data": {
      "text/plain": [
       "<GenericSeries>\n",
       "\n",
       "Expression:\n",
       "\t o + s*(tanh(-t/5 + x/5) - tanh(-t + x - 10))\n",
       "Parameters:\n",
       "\ts = 450\n",
       "\to = 300\n",
       "Dimensions:\n",
       "\t['x', 't']\n",
       "Units:\n",
       "\t"
      ]
     },
     "execution_count": 21,
     "metadata": {},
     "output_type": "execute_result"
    }
   ],
   "source": [
    "gs_expr_param = GenericSeries(\n",
    "    expr_param, \n",
    "    parameters=dict(s=450, o=300),\n",
    ")\n",
    "gs_expr_param"
   ]
  },
  {
   "cell_type": "markdown",
   "id": "f04c1992",
   "metadata": {},
   "source": [
    "As you can see, `s` and `o` now appear in the `Parameters` section together with the values we assigned to them while `t` and `x` are still variables.\n",
    "If we plot the new `GenericSeries` at the same coordinates as before, we can see the effect of our modifications on the y-axis:"
   ]
  },
  {
   "cell_type": "code",
   "execution_count": 22,
   "id": "c9de0f63",
   "metadata": {},
   "outputs": [
    {
     "data": {
      "image/png": "[encoded data removed]",
      "text/plain": [
       "<Figure size 432x288 with 1 Axes>"
      ]
     },
     "metadata": {
      "needs_background": "light"
     },
     "output_type": "display_data"
    }
   ],
   "source": [
    "result_expr_param = gs_expr_param(t=coords_t, x=coords_x)\n",
    "plt.plot(\n",
    "    coords_x,\n",
    "    np.transpose(result_expr_param.data.m),\n",
    "    label=[f\"t={v}\" for v in coords_t],\n",
    ")\n",
    "plt.gca().legend();"
   ]
  },
  {
   "cell_type": "markdown",
   "id": "e3b704c2",
   "metadata": {},
   "source": [
    "### Adding units"
   ]
  },
  {
   "cell_type": "markdown",
   "id": "784ffc4d",
   "metadata": {},
   "source": [
    "The final piece we are missing so far in resembling the discrete data as expression are units.\n",
    "We avoided them so far, because they make things a bit more complicated.\n",
    "The problem is, that the units are evaluated at the same time as the numeric part which means that they actually need to be compatible during all operations.\n",
    "Looking at our equation, $x-t$ already violates this constraint since we cant substract a time from a length.\n",
    "Furthermore, the hyperbolic tangent requires an angular unit.\n",
    "Luckily, the underlying unit system lets us get away with unitless numbers here, otherwise the prievious examples wouldn't have worked (we should mention at this point that plain numbers are implicitly cast to unitless quantities).\n",
    "Last but not least, the resulting values should be in Kelvin.\n",
    "\n",
    "We can solve these issues by simply introducing additional unit conversion parameters and adding the correct units to the existing ones.\n",
    "In our example expression, we introduce the additional parameters `a` and `b` with the only purpose to turn the units of `x` and `t` into an angular unit (it would be enough to only strip the unit so that we get a unitless value, but let's do it the right way).\n",
    "The expression now looks like this:"
   ]
  },
  {
   "cell_type": "code",
   "execution_count": 23,
   "id": "315ce8ea",
   "metadata": {},
   "outputs": [],
   "source": [
    "expr_units = \"s * (tanh((a*x-b*t)/5) - tanh(a*x-b*t-10)) + o\""
   ]
  },
  {
   "cell_type": "markdown",
   "id": "12589960",
   "metadata": {},
   "source": [
    "We define the values for the parameters as follows:"
   ]
  },
  {
   "cell_type": "code",
   "execution_count": 24,
   "id": "f3d67f9d",
   "metadata": {},
   "outputs": [],
   "source": [
    "params_units = dict(\n",
    "    s=\"450K\",\n",
    "    o=\"300K\",\n",
    "    a=\"rad/cm\",\n",
    "    b=\"rad/s\"\n",
    ")"
   ]
  },
  {
   "cell_type": "markdown",
   "id": "2ffc9bec",
   "metadata": {},
   "source": [
    "Note that we added Kelvins as units to `s` and `o`.\n",
    "If we now try to create a new, updated `GenericSeries`, we will still get an error:"
   ]
  },
  {
   "cell_type": "code",
   "execution_count": 25,
   "id": "24a535cb",
   "metadata": {},
   "outputs": [
    {
     "name": "stdout",
     "output_type": "stream",
     "text": [
      "Still got an issue with the dimensions!\n"
     ]
    }
   ],
   "source": [
    "try:\n",
    "    GenericSeries(expr_units, parameters=params_units)\n",
    "except ValueError:\n",
    "    print(\"Still got an issue with the dimensions!\")"
   ]
  },
  {
   "cell_type": "markdown",
   "id": "5691812a",
   "metadata": {},
   "source": [
    "The remaining problem here is that the `GenericSeries` doesn't know the units of our dimensions `x` and `t`.\n",
    "Because we didn't specify that, it assumes they are dimensionless.\n",
    "We can tell the `GenericSeries` what units those dimensions have by using the `units` input during initialization.\n",
    "It requires a simple mapping between the dimension and its unit like in the following example."
   ]
  },
  {
   "cell_type": "code",
   "execution_count": 26,
   "id": "647b14db",
   "metadata": {},
   "outputs": [
    {
     "data": {
      "text/plain": [
       "<GenericSeries>\n",
       "\n",
       "Expression:\n",
       "\t o + s*(tanh(a*x/5 - b*t/5) - tanh(a*x - b*t - 10))\n",
       "Parameters:\n",
       "\ts = 450 K\n",
       "\to = 300 K\n",
       "\ta = 1.0 rad / cm\n",
       "\tb = 1.0 rad / s\n",
       "Dimensions:\n",
       "\t['x', 't']\n",
       "Units:\n",
       "\tK"
      ]
     },
     "execution_count": 26,
     "metadata": {},
     "output_type": "execute_result"
    }
   ],
   "source": [
    "gs_units = GenericSeries(\n",
    "    expr_units, \n",
    "    parameters=params_units,\n",
    "    units = dict(x=\"cm\", t=\"s\")\n",
    ")\n",
    "gs_units"
   ]
  },
  {
   "cell_type": "markdown",
   "id": "447aaec0",
   "metadata": {},
   "source": [
    "> **Additional note:** Actually, the `GenericSeries` doesn't require a unit for a dimension, but a \"dimensionality\" like length, time, temperature etc. It has no real relevance if you would assign seconds, minutes or hours to a dimension since the unit will be scaled internally\n",
    "\n",
    "Finally, we are able to construct our `GenericSeries` that also considers units.\n",
    "As you can see, all the provided units are now listed in the output above.\n",
    "Additionally, the output unit of the expression is now also listed under `Units` even though it was never explicitly specified.\n",
    "The `GenericSeries` is able to determine it on its own from the information it already has.\n",
    "\n",
    "> **TODO** Print dimension units as well\n",
    "\n",
    "If we now want to evaluate the expression, we also have to provide the coordinates as quantities with a fitting unit, otherwise we get an error as the following example shows:"
   ]
  },
  {
   "cell_type": "code",
   "execution_count": 27,
   "id": "9162151b",
   "metadata": {},
   "outputs": [
    {
     "name": "stdout",
     "output_type": "stream",
     "text": [
      "You forgot the units!\n"
     ]
    }
   ],
   "source": [
    "coords_t = [-5, 5, 15]\n",
    "coords_x = [5, 10, 25]\n",
    "try:\n",
    "    gs_units(t=coords_t, x=coords_x)\n",
    "except DimensionalityError:\n",
    "    print(\"You forgot the units!\")"
   ]
  },
  {
   "cell_type": "markdown",
   "id": "8bd08229",
   "metadata": {},
   "source": [
    "Adding the correct units fixes the problem:"
   ]
  },
  {
   "cell_type": "code",
   "execution_count": 49,
   "id": "5c568e3d",
   "metadata": {},
   "outputs": [
    {
     "data": {
      "text/plain": [
       "<GenericSeries>\n",
       "Values:\n",
       "[[300. 300. 300.]\n",
       " [300. 300. 300.]\n",
       " [300. 300. 300.]]\n",
       "Dimensions:\n",
       "\t('x', 't')\n",
       "Coordinates:\n",
       "\tCoordinates:\n",
       "  * x        (x) int32 5 10 25\n",
       "  * t        (t) int32 -5 5 15\n",
       "Units:\n",
       "\tK"
      ]
     },
     "execution_count": 49,
     "metadata": {},
     "output_type": "execute_result"
    }
   ],
   "source": [
    "coords_t = Q_([-5, 5, 15], \"h\")\n",
    "coords_x = Q_([5, 10, 25], \"km\")\n",
    "\n",
    "gs_units(t=coords_t, x=coords_x)"
   ]
  },
  {
   "cell_type": "markdown",
   "id": "0b0182cb",
   "metadata": {},
   "source": [
    "In case you wonder, why all the output values are identical, have a look at the input units we used.\n",
    "If you change them to `\"s\"` and `\"cm\"` you will see values that are more in line with the previous examples, but they demonstrate that it is not important which units you assign to the dimensions during initialization.\n",
    "All that matters is the units \"dimensinality\"."
   ]
  },
  {
   "cell_type": "markdown",
   "id": "693d0f13",
   "metadata": {},
   "source": [
    "### Parameter dimensions\n",
    "\n",
    "When we discussed the terminology, we stated that all variables of an expression based `GenericSeries` are dimensions, but not all dimensions are variables.\n",
    "We will now show you a dimension that is not a variable using a short example.\n",
    "Consider the following linear equation:\n"
   ]
  },
  {
   "cell_type": "code",
   "execution_count": 29,
   "id": "671e8ba5",
   "metadata": {},
   "outputs": [],
   "source": [
    "expr_linear = \"a*t + b\""
   ]
  },
  {
   "cell_type": "markdown",
   "id": "e04c17e3",
   "metadata": {},
   "source": [
    "`t` is our only variable and represents time.\n",
    "`a` and `b` are parameters.\n",
    "So far we only used scalar parameters, but nothing hinders us to use arrays as well:"
   ]
  },
  {
   "cell_type": "code",
   "execution_count": 30,
   "id": "44fb52ca",
   "metadata": {},
   "outputs": [
    {
     "data": {
      "text/plain": [
       "<GenericSeries>\n",
       "\n",
       "Expression:\n",
       "\t a*t + b\n",
       "Parameters:\n",
       "\ta = [1 3 5] m / s\n",
       "\tb = [5 6 7] m\n",
       "Dimensions:\n",
       "\t['t', 'dim_0']\n",
       "Units:\n",
       "\tm"
      ]
     },
     "execution_count": 30,
     "metadata": {},
     "output_type": "execute_result"
    }
   ],
   "source": [
    "GenericSeries(\n",
    "    expr_linear,\n",
    "    parameters=dict(a=Q_([1,3,5], \"m/s\"), b=Q_([5,6,7], \"m\")),\n",
    "    units=dict(t=\"s\"),\n",
    ")"
   ]
  },
  {
   "cell_type": "markdown",
   "id": "08cd7775",
   "metadata": {},
   "source": [
    "In the output above, we notice that we got an additional dimension we did not define: `dim_0`.\n",
    "This happened because we used arrays for our parameters.\n",
    "An array is another dimension with discrete values.\n",
    "Since we did not define a dimension name, the `GenericSeries` assigned one itself, `dim_0`.\n",
    "It also assumes that all provided parameters share the same dimensions.\n",
    "But that doesn't have to be what we intended.\n",
    "Maybe we wanted `a` and `b` to have different dimensions.\n",
    "Therefore, we can also assign dimensions to parameters.\n",
    "This can either be done by providing the parameter as a tuple consisting of value and dimension name or as an `xarray.DataArray`:"
   ]
  },
  {
   "cell_type": "code",
   "execution_count": 31,
   "id": "127eb32c",
   "metadata": {},
   "outputs": [
    {
     "data": {
      "text/plain": [
       "<GenericSeries>\n",
       "\n",
       "Expression:\n",
       "\t a*t + b\n",
       "Parameters:\n",
       "\ta = <xarray.DataArray (c: 3)>\n",
       "<Quantity([1 3 5], 'meter / second')>\n",
       "Dimensions without coordinates: c\n",
       "\tb = <xarray.DataArray (v: 3)>\n",
       "<Quantity([5 6 7], 'meter')>\n",
       "Dimensions without coordinates: v\n",
       "Dimensions:\n",
       "\t['t', 'v', 'c']\n",
       "Units:\n",
       "\tm"
      ]
     },
     "execution_count": 31,
     "metadata": {},
     "output_type": "execute_result"
    }
   ],
   "source": [
    "a = (Q_([1,3,5], \"m/s\"), \"c\")\n",
    "b = DataArray(Q_([5,6,7], \"m\"), dims=[\"v\"])\n",
    "\n",
    "gs_array = GenericSeries(\n",
    "    expr_linear,\n",
    "    parameters=dict(a=a, b=b),\n",
    "    units=dict(t=\"s\"),\n",
    ")\n",
    "gs_array"
   ]
  },
  {
   "cell_type": "markdown",
   "id": "9e903f64",
   "metadata": {},
   "source": [
    "As you can see, we now have three dimensions, while only one is an actual variable of our expression.\n",
    "If we evaluate the `GenericSeries`, the dimensions will be broadcastet and our result will be a new 3 dimensionel discrete `GenericSeries`.\n",
    "But see for yourself:"
   ]
  },
  {
   "cell_type": "code",
   "execution_count": 32,
   "id": "9ef1fe74",
   "metadata": {},
   "outputs": [
    {
     "data": {
      "text/plain": [
       "<GenericSeries>\n",
       "Values:\n",
       "[[[ 5  6  7]\n",
       "  [ 6  7  8]]\n",
       "\n",
       " [[ 5  6  7]\n",
       "  [ 8  9 10]]\n",
       "\n",
       " [[ 5  6  7]\n",
       "  [10 11 12]]]\n",
       "Dimensions:\n",
       "\t('c', 't', 'v')\n",
       "Coordinates:\n",
       "\tCoordinates:\n",
       "  * t        (t) int32 0 1\n",
       "Units:\n",
       "\tm"
      ]
     },
     "execution_count": 32,
     "metadata": {},
     "output_type": "execute_result"
    }
   ],
   "source": [
    "gs_array(t=Q_([0, 1], \"s\"))"
   ]
  },
  {
   "cell_type": "markdown",
   "id": "b7533a80",
   "metadata": {},
   "source": [
    "> **todo** \n",
    "> - xarray parameters should not be printed as DataArray (clutters output)\n",
    "> - Values of parameter dims should be assigned as coordinates\n",
    "> - somehow print dimensions of parameters as well\n",
    "\n",
    "Parameters can also have more than one dimension:"
   ]
  },
  {
   "cell_type": "code",
   "execution_count": 33,
   "id": "e98a0a00",
   "metadata": {},
   "outputs": [
    {
     "data": {
      "text/plain": [
       "<GenericSeries>\n",
       "\n",
       "Expression:\n",
       "\t a*t + b\n",
       "Parameters:\n",
       "\ta = [[0 1] [2 3]] m / s\n",
       "\tb = [1 2] m\n",
       "Dimensions:\n",
       "\t['t', 'dim_0', 'dim_1']\n",
       "Units:\n",
       "\tm"
      ]
     },
     "execution_count": 33,
     "metadata": {},
     "output_type": "execute_result"
    }
   ],
   "source": [
    "GenericSeries(\n",
    "    expr_linear,\n",
    "    parameters=dict(\n",
    "        a=Q_([[0, 1], [2, 3]], \"m/s\"), \n",
    "        b=Q_([1, 2], \"m\"),\n",
    "    ),\n",
    "    units=dict(t=\"s\")\n",
    ")\n"
   ]
  },
  {
   "cell_type": "markdown",
   "id": "4562503b",
   "metadata": {},
   "source": [
    "Note that if you do not provide custom names for the dimensions, the `GenericSeries` will just enumerate them as in the example above.\n",
    "The enumeration is always restarted for each parameter. \n",
    "So `b` would actually use the dimension `dim_0`.\n",
    "To avoid any problems, always name your dimensions.\n",
    "If you use a tuple to name the dimensions of a multi-dimensional parameter, the second value has to be a list of names, where the first name refers to the most outer dimension and the last one to the most inner:"
   ]
  },
  {
   "cell_type": "code",
   "execution_count": 34,
   "id": "b03e0e5c",
   "metadata": {},
   "outputs": [
    {
     "data": {
      "text/plain": [
       "<GenericSeries>\n",
       "\n",
       "Expression:\n",
       "\t a*t + b\n",
       "Parameters:\n",
       "\ta = <xarray.DataArray (c: 2, v: 2)>\n",
       "<Quantity([[0 1]\n",
       " [2 3]], 'meter / second')>\n",
       "Dimensions without coordinates: c, v\n",
       "\tb = <xarray.DataArray (v: 2)>\n",
       "<Quantity([1 2], 'meter')>\n",
       "Dimensions without coordinates: v\n",
       "Dimensions:\n",
       "\t['t', 'v', 'c']\n",
       "Units:\n",
       "\tm"
      ]
     },
     "execution_count": 34,
     "metadata": {},
     "output_type": "execute_result"
    }
   ],
   "source": [
    "GenericSeries(\n",
    "    expr_linear,\n",
    "    parameters=dict(\n",
    "        a=(Q_([[0, 1], [2, 3]], \"m/s\"), [\"c\", \"v\"]),\n",
    "        b=(Q_([1, 2], \"m\"), \"v\")\n",
    "    ),\n",
    "    units=dict(t=\"s\")\n",
    ")"
   ]
  },
  {
   "cell_type": "markdown",
   "id": "0c6bf9ab",
   "metadata": {},
   "source": [
    "### Partial evaluation\n",
    "\n",
    "Like a `GenericSeries` constructed from discrete values, an expression based `GenericSeries` can also be evaluated partially.\n",
    "Here is a short example:"
   ]
  },
  {
   "cell_type": "code",
   "execution_count": 50,
   "id": "acbfdf13",
   "metadata": {},
   "outputs": [
    {
     "data": {
      "text/plain": [
       "<GenericSeries>\n",
       "\n",
       "Expression:\n",
       "\t o + s*(tanh(a*x/5 - b*t/5) - tanh(a*x - b*t - 10))\n",
       "Parameters:\n",
       "\ts = 450 K\n",
       "\to = 300 K\n",
       "\ta = 1.0 rad / cm\n",
       "\tb = 1.0 rad / s\n",
       "\tt = <xarray.DataArray (t: 3)>\n",
       "<Quantity([ 5 10 15], 'second')>\n",
       "Dimensions without coordinates: t\n",
       "Dimensions:\n",
       "\t['x', 't']\n",
       "Units:\n",
       "\tK"
      ]
     },
     "execution_count": 50,
     "metadata": {},
     "output_type": "execute_result"
    }
   ],
   "source": [
    "gs_reduced = gs_units(t=Q_([5, 10, 15], \"s\"))\n",
    "gs_reduced"
   ]
  },
  {
   "cell_type": "markdown",
   "id": "118832a7-5003-45fe-8e43-46c849e7761b",
   "metadata": {},
   "source": [
    "> TODO: Order of dimensions should be fix. Some operations shuffle them more or less arbitrarily\n",
    "\n",
    "> TODO: List coordinates for already discrete dims\n",
    "\n",
    "In this case, we get a new expression-based `GenericSeries`.\n",
    "`t` now becomes a new parameter consisting of the provided values.\n",
    "As long as we do not provide coordinates for all variables of an expression, evaluating the `GenericSeries` will transform the corresponding variables into parameters.\n",
    "Only if all variables get coordinates assigned to them, the resulting `GenericSeries` will consist of disrete data.\n",
    "Let's evaluate the result from the previous evaluation to confirm this:"
   ]
  },
  {
   "cell_type": "code",
   "execution_count": 52,
   "id": "82f9e415-84a6-45d8-aa20-44ae65b70f16",
   "metadata": {},
   "outputs": [
    {
     "data": {
      "text/plain": [
       "<GenericSeries>\n",
       "Values:\n",
       "[[749.99999814 407.28262982 316.18758897]]\n",
       "Dimensions:\n",
       "\t('x', 't')\n",
       "Coordinates:\n",
       "\tCoordinates:\n",
       "  * x        (x) int32 5\n",
       "Units:\n",
       "\tK"
      ]
     },
     "execution_count": 52,
     "metadata": {},
     "output_type": "execute_result"
    }
   ],
   "source": [
    "gs_reduced(x=\"5cm\")"
   ]
  }
 ],
 "metadata": {
  "kernelspec": {
   "display_name": "weldx",
   "language": "python",
   "name": "weldx"
  },
  "language_info": {
   "codemirror_mode": {
    "name": "ipython",
    "version": 3
   },
   "file_extension": ".py",
   "mimetype": "text/x-python",
   "name": "python",
   "nbconvert_exporter": "python",
   "pygments_lexer": "ipython3",
   "version": "3.8.11"
  }
 },
 "nbformat": 4,
 "nbformat_minor": 5
}
