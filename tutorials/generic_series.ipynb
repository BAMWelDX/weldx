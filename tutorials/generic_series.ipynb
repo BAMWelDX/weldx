{
 "cells": [
  {
   "cell_type": "markdown",
   "metadata": {},
   "source": [
    "# `GenericSeries` Tutorial"
   ]
  },
  {
   "cell_type": "markdown",
   "metadata": {},
   "source": [
    "## Terminology\n",
    "\n",
    "**Dimension**\n",
    "\n",
    "Each dimension describes a single degree of freedom. We can think of it as a 1d-coordinate axis. Using multiple dimensions will create a multi-dimensional space. A typical example would be the dimensions $x$, $y$, and $z$ that form 3d-space. Another popular dimension is time.\n",
    "\n",
    "**Coordinates**\n",
    "\n",
    "A coordinate is a specific value or label on the 1d-axis of a dimension. We can specify the location of a point in 3d-space by providing its coordinates. For example, we can use $x=1m$, $y=3m$, and $z=0m$. It is important to understand the difference between coordinates and dimensions. Otherwise, this tutorial can be very confusing. Dimensions represent degrees of freedom, coordinates are discrete values inside of a dimension.\n",
    "\n",
    "**Variable**\n",
    "\n",
    "If a mathematical expression is used to describe the `GenericSeries`, the individual terms of this expression can be divided into two groups. The first group are variables. Variables are symbols that don't get values assigned to them during the creation of a `GenericSeries`. They let us evaluate the expression for differen coordinates. Consider the following expression:\n",
    "\n",
    "$$\n",
    "2 \\cdot x + 3\n",
    "$$\n",
    "\n",
    "Here $x$ is our variable. We can evaluate this expression over and over again by providing differen values for $x$. For example if we would use $x=2$, the result is $7$. With $x=4$ we would get $11$. An important fact to note is that each variable a `GenericSeries`' expression is a dimension. But not every dimension of an expression is necessarily represented by a variable. We will show some code examples later that make this more understandable.\n",
    "\n",
    "**Parameter**\n",
    "\n",
    "The second group of therms in an expression based `GenericSeries` are parameters. Parameters are also symbols of an expression, but in contrast to variables, they already get discrete values assigned to them."
   ]
  },
  {
   "cell_type": "code",
   "execution_count": null,
   "metadata": {},
   "outputs": [],
   "source": [
    "from weldx.core import GenericSeries, MathematicalExpression, Q_"
   ]
  },
  {
   "cell_type": "code",
   "execution_count": null,
   "metadata": {},
   "outputs": [],
   "source": [
    "expr = \"a*t + b\""
   ]
  },
  {
   "cell_type": "code",
   "execution_count": null,
   "metadata": {},
   "outputs": [],
   "source": [
    "me=MathematicalExpression(expr, parameters={\"a\":(Q_([10, 1, 1],\"m/s\"),\"c\"), \"b\":(Q_([1,2,3],\"m\"), \"d\")})"
   ]
  },
  {
   "cell_type": "code",
   "execution_count": null,
   "metadata": {},
   "outputs": [],
   "source": [
    "gs=GenericSeries(me,units={\"t\":\"s\"})"
   ]
  },
  {
   "cell_type": "code",
   "execution_count": null,
   "metadata": {},
   "outputs": [],
   "source": [
    "gs(dict(t=Q_(\"3s\")))"
   ]
  }
 ],
 "metadata": {
  "kernelspec": {
   "display_name": "weldx",
   "language": "python",
   "name": "weldx"
  },
  "language_info": {
   "codemirror_mode": {
    "name": "ipython",
    "version": 3
   },
   "file_extension": ".py",
   "mimetype": "text/x-python",
   "name": "python",
   "nbconvert_exporter": "python",
   "pygments_lexer": "ipython3",
   "version": "3.8.11"
  }
 },
 "nbformat": 4,
 "nbformat_minor": 5
}
