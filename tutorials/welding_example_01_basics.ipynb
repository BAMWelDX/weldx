{
 "cells": [
  {
   "cell_type": "markdown",
   "metadata": {},
   "source": [
    "# Welding Example #01: Basics\n",
    "The goal of this small example is to introduce the main functionalities and interfaces to create and describe a simple welding application using the WelDX package."
   ]
  },
  {
   "cell_type": "markdown",
   "metadata": {},
   "source": [
    "## Imports"
   ]
  },
  {
   "cell_type": "code",
   "execution_count": 1,
   "metadata": {
    "nbsphinx": "hidden"
   },
   "outputs": [],
   "source": [
    "# if the package is not installed in your python environment, run this to execute the notebook directly from inside the GitHub repository\n",
    "%cd -q .."
   ]
  },
  {
   "cell_type": "code",
   "execution_count": 2,
   "metadata": {
    "nbsphinx": "hidden"
   },
   "outputs": [],
   "source": [
    "# enable interactive plots on Jupyterlab with ipympl and jupyterlab-matplotlib installed\n",
    "# %matplotlib widget"
   ]
  },
  {
   "cell_type": "code",
   "execution_count": 3,
   "metadata": {},
   "outputs": [],
   "source": [
    "# some python imports that will be used throughout the tutorial\n",
    "import numpy as np\n",
    "\n",
    "import matplotlib.pyplot as plt\n",
    "import networkx as nx\n",
    "import pandas as pd\n",
    "import pint\n",
    "import xarray as xr\n",
    "from mpl_toolkits.mplot3d import Axes3D"
   ]
  },
  {
   "cell_type": "code",
   "execution_count": 4,
   "metadata": {},
   "outputs": [],
   "source": [
    "# importing the weldx package with prevalent default abbreviations\n",
    "import weldx\n",
    "import weldx.geometry as geo\n",
    "import weldx.transformations as tf\n",
    "import weldx.utility as ut\n",
    "import weldx.visualization as vis\n",
    "from weldx import Q_\n",
    "from weldx.transformations import LocalCoordinateSystem as lcs\n",
    "from weldx.transformations import WXRotation"
   ]
  },
  {
   "cell_type": "markdown",
   "metadata": {},
   "source": [
    "## create a simple welding groove shape\n",
    "We start of defining our welding application example by defining the base groove shape. For this examples we assume the groove shape to be constant along the entire workpiece.\n",
    "\n",
    "The groove shall have the following attributes:\n",
    "\n",
    "- a workpiece thickness of 5 mm\n",
    "- a single sided V-Groove butt weld with 50 degree groove angle\n",
    "- root gap and face of 1 mm\n",
    "\n",
    "To generate the groove shape, we can use the `get_groove` function of the of `iso_groove` that implements all groove types and shapes defined in *ISO 9692-1:2013*. For all available groove types and options take a look at the extensive docstring of `get_groove` and the groove_type tutorial notebook.\n",
    "\n",
    "Be aware that we must pass along all groove parameters as Quantities with a specified unit using the default `Q_` type imported above. All units are automatically converted to SI units for most mathematical operations in the background so we can specify parameters in any appropriate unit we desire."
   ]
  },
  {
   "cell_type": "code",
   "execution_count": 5,
   "metadata": {},
   "outputs": [],
   "source": [
    "from weldx.welding.groove.iso_9692_1 import get_groove\n",
    "\n",
    "groove = get_groove(\n",
    "    groove_type=\"VGroove\",\n",
    "    workpiece_thickness=Q_(5, \"mm\"),\n",
    "    groove_angle=Q_(50, \"deg\"),\n",
    "    root_face=Q_(1, \"mm\"),\n",
    "    root_gap=Q_(1, \"mm\"),\n",
    ")"
   ]
  },
  {
   "cell_type": "markdown",
   "metadata": {},
   "source": [
    "Using the `plot` function of the created groove instance gives a quick overview of the created geometry."
   ]
  },
  {
   "cell_type": "code",
   "execution_count": 6,
   "metadata": {},
   "outputs": [
    {
     "data": {
      "image/png": "[encoded data removed]",
      "text/plain": [
       "<Figure size 432x288 with 1 Axes>"
      ]
     },
     "metadata": {
      "needs_background": "light"
     },
     "output_type": "display_data"
    }
   ],
   "source": [
    "groove.plot(raster_width=0.2);"
   ]
  },
  {
   "cell_type": "markdown",
   "metadata": {},
   "source": [
    "## create 3d workpiece geometry\n",
    "Once we have created our desired 2d groove shape, we can simply extend the groove shape into 3d-space to create a volumetric workpiece.\n",
    "\n",
    "To do this, two steps are missing:\n",
    "\n",
    "1. we have to decide on a weld seam length first (we will use 300 mm in this example)\n",
    "2. create a trace object that defines the path of our element though space. (we use a simple linear trace in this example)"
   ]
  },
  {
   "cell_type": "code",
   "execution_count": null,
   "metadata": {},
   "outputs": [],
   "source": [
    "# define the weld seam length in mm\n",
    "seam_length = Q_(300, \"mm\")\n",
    "\n",
    "# create a linear trace segment a the complete weld seam trace\n",
    "trace_segment = geo.LinearHorizontalTraceSegment(seam_length)\n",
    "trace = geo.Trace(trace_segment)"
   ]
  },
  {
   "cell_type": "markdown",
   "metadata": {},
   "source": [
    "Once we have defined the trace object, we can create the workpiece geometry by combining the groove profile with the trace."
   ]
  },
  {
   "cell_type": "code",
   "execution_count": null,
   "metadata": {},
   "outputs": [],
   "source": [
    "# create 3d workpiece geometry from the groove profile and trace objects\n",
    "geometry = geo.Geometry(groove.to_profile(width_default=Q_(4, \"mm\")), trace)"
   ]
  },
  {
   "cell_type": "markdown",
   "metadata": {},
   "source": [
    "To visualize the geometry we rasterize each profile along specific steps of the trace."
   ]
  },
  {
   "cell_type": "code",
   "execution_count": null,
   "metadata": {},
   "outputs": [],
   "source": [
    "# rasterize geometry\n",
    "profile_raster_width = 0.5  # resolution of each profile in mm\n",
    "trace_raster_width = 15  # space between profiles in mm\n",
    "geometry_data_sp = geometry.rasterize(\n",
    "    profile_raster_width=profile_raster_width, trace_raster_width=trace_raster_width\n",
    ")"
   ]
  },
  {
   "cell_type": "markdown",
   "metadata": {},
   "source": [
    "Simple scatter plot of the geometry"
   ]
  },
  {
   "cell_type": "code",
   "execution_count": null,
   "metadata": {
    "nbsphinx": "hidden"
   },
   "outputs": [],
   "source": [
    "def ax_setup(ax):\n",
    "    ax.legend()\n",
    "    ax.set_xlabel(\"x / mm\")\n",
    "    ax.set_ylabel(\"y / mm\")\n",
    "    ax.set_zlabel(\"z / mm\")"
   ]
  },
  {
   "cell_type": "code",
   "execution_count": null,
   "metadata": {
    "nbsphinx": "hidden"
   },
   "outputs": [],
   "source": [
    "fig = plt.figure()\n",
    "ax = fig.add_subplot(111, projection=\"3d\", proj_type=\"ortho\")\n",
    "ax.scatter(\n",
    "    geometry_data_sp[0, :],\n",
    "    geometry_data_sp[1, :],\n",
    "    geometry_data_sp[2, :],\n",
    "    marker=\".\",\n",
    "    c=\"b\",\n",
    "    label=\"groove\",\n",
    ")\n",
    "ax_setup(ax)"
   ]
  },
  {
   "cell_type": "markdown",
   "metadata": {},
   "source": [
    "## Setup the Coordinate System Manager (CSM)\n",
    "Once we have created the 3d geometry it is now time to describe the movement of the wire during the welding process. To handle different moving coordinate systems and objects we use the CoordinateSystemManager.\n",
    "\n",
    "Start by creating a new instance of the CSM. When setting up a CSM instance we have to supply a name that indicates the reference coordinate system which is a static Cartesian coordinate system that defines an origin."
   ]
  },
  {
   "cell_type": "code",
   "execution_count": 10,
   "metadata": {},
   "outputs": [],
   "source": [
    "# crete a new coordinate system manager with default base coordinate system\n",
    "csm = weldx.transformations.CoordinateSystemManager(\"base\")"
   ]
  },
  {
   "cell_type": "markdown",
   "metadata": {},
   "source": [
    "The trace we created earlier to extend the groove shape into 3d has its own associated coordinate system that starts in the origin of the groove (see point (0,0) in our first plot of the groove profile) and has the x-axis running along the direction of the weld seam by convention.\n",
    "\n",
    "We simply add the trace coordinate system to our coordinate system manager defining at as the *workpiece* coordinate system."
   ]
  },
  {
   "cell_type": "code",
   "execution_count": 11,
   "metadata": {},
   "outputs": [
    {
     "ename": "NameError",
     "evalue": "name 'trace' is not defined",
     "output_type": "error",
     "traceback": [
      "\u001b[1;31m---------------------------------------------------------------------------\u001b[0m",
      "\u001b[1;31mNameError\u001b[0m                                 Traceback (most recent call last)",
      "\u001b[1;32m<ipython-input-11-25c4457c56b6>\u001b[0m in \u001b[0;36m<module>\u001b[1;34m\u001b[0m\n\u001b[0;32m      3\u001b[0m     \u001b[0mcoordinate_system_name\u001b[0m\u001b[1;33m=\u001b[0m\u001b[1;34m\"workpiece\"\u001b[0m\u001b[1;33m,\u001b[0m\u001b[1;33m\u001b[0m\u001b[1;33m\u001b[0m\u001b[0m\n\u001b[0;32m      4\u001b[0m     \u001b[0mreference_system_name\u001b[0m\u001b[1;33m=\u001b[0m\u001b[1;34m\"base\"\u001b[0m\u001b[1;33m,\u001b[0m\u001b[1;33m\u001b[0m\u001b[1;33m\u001b[0m\u001b[0m\n\u001b[1;32m----> 5\u001b[1;33m     \u001b[0mlcs\u001b[0m\u001b[1;33m=\u001b[0m\u001b[0mtrace\u001b[0m\u001b[1;33m.\u001b[0m\u001b[0mcoordinate_system\u001b[0m\u001b[1;33m,\u001b[0m\u001b[1;33m\u001b[0m\u001b[1;33m\u001b[0m\u001b[0m\n\u001b[0m\u001b[0;32m      6\u001b[0m )\n",
      "\u001b[1;31mNameError\u001b[0m: name 'trace' is not defined"
     ]
    }
   ],
   "source": [
    "# add the workpiece coordinate system\n",
    "csm.add_cs(\n",
    "    coordinate_system_name=\"workpiece\",\n",
    "    reference_system_name=\"base\",\n",
    "    lcs=trace.coordinate_system,\n",
    ")"
   ]
  },
  {
   "cell_type": "markdown",
   "metadata": {},
   "source": [
    "## generate the tcp movement of the wire tip"
   ]
  },
  {
   "cell_type": "markdown",
   "metadata": {},
   "source": [
    "For this example, we want the tip of the wire (i.e. the robot TCP during welding) to move along the center of the groove at 2 mm from the bottom of the workpiece with a speed of 10 mm/s.\n",
    "\n",
    "We begin by defining the start and end points relative to our workpiece coordinate system. Note that the z-axis of the workpiece coordinate system is pointing upwards (see Figure 1). Hence we use a positive offset of 2 mm in z direction from our workpiece. For the x-axis we start the weld 5 mm into the weldseam and 5 mm before reaching the end of the weldseam."
   ]
  },
  {
   "cell_type": "code",
   "execution_count": null,
   "metadata": {},
   "outputs": [],
   "source": [
    "tcp_start_point = Q_([5.0, 0.0, 2.0], \"mm\")\n",
    "tcp_end_point = Q_([-5.0, 0.0, 2.0], \"mm\") + np.append(seam_length, Q_([0, 0], \"mm\"))"
   ]
  },
  {
   "cell_type": "markdown",
   "metadata": {},
   "source": [
    "To completely describe the TCP movement in space __and__ time we need to supply time information for the start and end point. Lets say the weld starts on 2020-04-20 10:00:00. We calculate the time"
   ]
  },
  {
   "cell_type": "code",
   "execution_count": null,
   "metadata": {},
   "outputs": [],
   "source": [
    "v_weld = Q_(10, \"mm/s\")\n",
    "s_weld = (tcp_end_point - tcp_start_point)[0]  # length of the weld\n",
    "t_weld = s_weld / v_weld\n",
    "\n",
    "t_start = pd.Timedelta(\"0s\")\n",
    "t_end = pd.Timedelta(str(t_weld.to_base_units()))"
   ]
  },
  {
   "cell_type": "markdown",
   "metadata": {},
   "source": [
    "The two points and timestamps are enough to create the linear moving coordinate system. We can interpolate the movement with a higher resolution later."
   ]
  },
  {
   "cell_type": "markdown",
   "metadata": {},
   "source": [
    "The orientation of the wire has the z coordinate facing downwards towards the workpiece. The workpiece z-coordinate is facing upwards. We add a constant 180 degree rotation around the x-axis to orientate the wire coordinate system correctly. Orientations can be described using the scipy Rotation objects"
   ]
  },
  {
   "cell_type": "code",
   "execution_count": null,
   "metadata": {},
   "outputs": [],
   "source": [
    "rot = WXRotation.from_euler(seq=\"x\", angles=180, degrees=True)"
   ]
  },
  {
   "cell_type": "markdown",
   "metadata": {},
   "source": [
    "With the defined coordinates, the constant orientation and the associated times we can create the coordinate system for the wire tcp."
   ]
  },
  {
   "cell_type": "code",
   "execution_count": null,
   "metadata": {},
   "outputs": [],
   "source": [
    "coords = [tcp_start_point.magnitude, tcp_end_point.magnitude]\n",
    "\n",
    "tcp_wire = lcs(coordinates=coords, orientation=rot, time=[t_start, t_end])"
   ]
  },
  {
   "cell_type": "markdown",
   "metadata": {},
   "source": [
    "Add the new coordinate system to the coordinate system manager relative to the workpiece."
   ]
  },
  {
   "cell_type": "code",
   "execution_count": null,
   "metadata": {},
   "outputs": [],
   "source": [
    "# add the workpiece coordinate system\n",
    "csm.add_cs(\n",
    "    coordinate_system_name=\"tcp_wire\",\n",
    "    reference_system_name=\"workpiece\",\n",
    "    lcs=tcp_wire,\n",
    ")"
   ]
  },
  {
   "cell_type": "markdown",
   "metadata": {},
   "source": [
    "Lets say The wire extends 10 mm from the contact tip. We can add the contact tip as another point using the coordinate system manager. To simplify things we now use the _tcp_wire_ coordinate system as reference. All we need to add is the z-offset along the wire. Note that we have to provide a negative offset along the z-axis since the _wire-tcp_ z-axis is pointing downwards."
   ]
  },
  {
   "cell_type": "code",
   "execution_count": null,
   "metadata": {},
   "outputs": [],
   "source": [
    "tcp_contact = lcs(coordinates=[0, 0, -10])"
   ]
  },
  {
   "cell_type": "code",
   "execution_count": null,
   "metadata": {},
   "outputs": [],
   "source": [
    "# add the workpiece coordinate system\n",
    "csm.add_cs(\n",
    "    coordinate_system_name=\"tcp_contact\",\n",
    "    reference_system_name=\"tcp_wire\",\n",
    "    lcs=tcp_contact,\n",
    ")"
   ]
  },
  {
   "cell_type": "markdown",
   "metadata": {},
   "source": [
    "We can create a simple plot of the relations between our our coordinate systems"
   ]
  },
  {
   "cell_type": "code",
   "execution_count": null,
   "metadata": {},
   "outputs": [],
   "source": [
    "csm"
   ]
  },
  {
   "cell_type": "markdown",
   "metadata": {},
   "source": [
    "## plot the TCP trajectory\n",
    "To examine the movement of our wire TCP and contact tip, lets create a simple plot. We only have a linear movement we don't have to add additional timestamps to the moving coordinate systems."
   ]
  },
  {
   "cell_type": "code",
   "execution_count": null,
   "metadata": {},
   "outputs": [],
   "source": [
    "fig = plt.figure()\n",
    "ax = fig.add_subplot(111, projection=\"3d\", proj_type=\"ortho\")\n",
    "ax.scatter(\n",
    "    geometry_data_sp[0, :],\n",
    "    geometry_data_sp[1, :],\n",
    "    geometry_data_sp[2, :],\n",
    "    marker=\".\",\n",
    "    c=\"b\",\n",
    "    label=\"groove\",\n",
    ")\n",
    "\n",
    "cs = csm.get_cs(\"tcp_wire\", \"workpiece\")\n",
    "data = cs.coordinates.data\n",
    "ax.plot(data[:, 0], data[:, 1], data[:, 2], label=\"tcp_wire\", c=\"g\", marker=\"o\")\n",
    "\n",
    "cs = csm.get_cs(\"tcp_contact\", \"workpiece\")\n",
    "data = cs.coordinates.data\n",
    "ax.plot(data[:, 0], data[:, 1], data[:, 2], label=\"tcp_contact\", c=\"r\", marker=\"o\")\n",
    "\n",
    "ax_setup(ax)"
   ]
  },
  {
   "cell_type": "markdown",
   "metadata": {},
   "source": [
    "## Add static temperature measurement points\n",
    "With everything setup we can now start adding some measurements with associated points in space. We add a temperature measurements __T1, T2, T3__ to the surface of the weld seam."
   ]
  },
  {
   "cell_type": "code",
   "execution_count": null,
   "metadata": {},
   "outputs": [],
   "source": [
    "# add the workpiece coordinate system\n",
    "csm.add_cs(\"T1\", \"workpiece\", lcs(coordinates=[200, 3, 5]))\n",
    "csm.add_cs(\"T2\", \"T1\", lcs(coordinates=[0, 1, 0]))\n",
    "csm.add_cs(\"T3\", \"T2\", lcs(coordinates=[0, 1, 0]))"
   ]
  },
  {
   "cell_type": "code",
   "execution_count": null,
   "metadata": {},
   "outputs": [],
   "source": [
    "for T in [\"T1\", \"T2\", \"T3\"]:\n",
    "    cs = csm.get_cs(T, \"workpiece\")\n",
    "    data = cs.coordinates.data\n",
    "    ax.scatter(data[0], data[1], data[2], label=T, c=\"orange\", marker=\"o\")\n",
    "ax.legend()"
   ]
  },
  {
   "cell_type": "code",
   "execution_count": null,
   "metadata": {},
   "outputs": [],
   "source": [
    "csm"
   ]
  },
  {
   "cell_type": "markdown",
   "metadata": {},
   "source": [
    "## using ASDF"
   ]
  },
  {
   "cell_type": "code",
   "execution_count": null,
   "metadata": {},
   "outputs": [],
   "source": [
    "tree = {\"workpiece\": {\"groove\": groove, \"length\": seam_length}, \"CSM\": csm}"
   ]
  },
  {
   "cell_type": "code",
   "execution_count": null,
   "metadata": {},
   "outputs": [],
   "source": [
    "buffer = weldx.asdf.utils._write_buffer(tree)"
   ]
  },
  {
   "cell_type": "code",
   "execution_count": null,
   "metadata": {},
   "outputs": [],
   "source": [
    "weldx.asdf.utils.notebook_fileprinter(buffer)"
   ]
  }
 ],
 "metadata": {
  "kernelspec": {
   "display_name": "weldx",
   "language": "python",
   "name": "weldx"
  },
  "language_info": {
   "codemirror_mode": {
    "name": "ipython",
    "version": 3
   },
   "file_extension": ".py",
   "mimetype": "text/x-python",
   "name": "python",
   "nbconvert_exporter": "python",
   "pygments_lexer": "ipython3",
   "version": "3.7.9"
  }
 },
 "nbformat": 4,
 "nbformat_minor": 4
}
