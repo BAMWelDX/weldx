{
 "cells": [
  {
   "cell_type": "markdown",
   "metadata": {},
   "source": [
    "# Welding Example #01: Basics\n",
    "The goal of this small example is to introduce the main functionalities and interfaces to create and describe a simple welding application using the WelDX package."
   ]
  },
  {
   "cell_type": "markdown",
   "metadata": {},
   "source": [
    "## Imports"
   ]
  },
  {
   "cell_type": "code",
   "execution_count": null,
   "metadata": {
    "nbsphinx": "hidden"
   },
   "outputs": [],
   "source": [
    "# enable interactive plots on Jupyterlab with ipympl and jupyterlab-matplotlib installed\n",
    "# %matplotlib widget"
   ]
  },
  {
   "cell_type": "code",
   "execution_count": null,
   "metadata": {},
   "outputs": [],
   "source": [
    "import numpy as np\n",
    "import pandas as pd\n",
    "\n",
    "from weldx import (\n",
    "    Q_,\n",
    "    CoordinateSystemManager,\n",
    "    Geometry,\n",
    "    LinearHorizontalTraceSegment,\n",
    "    LocalCoordinateSystem,\n",
    "    Trace,\n",
    "    WeldxFile,\n",
    "    WXRotation,\n",
    "    get_groove,\n",
    ")"
   ]
  },
  {
   "cell_type": "markdown",
   "metadata": {},
   "source": [
    "## create a simple welding groove shape\n",
    "We start of defining our welding application example by defining the base groove shape. For this examples we assume the groove shape to be constant along the entire workpiece.\n",
    "\n",
    "The groove shall have the following attributes:\n",
    "\n",
    "- a workpiece thickness of 5 mm\n",
    "- a single sided V-Groove but weld with 50 degree groove angle\n",
    "- root gap and face of 1 mm\n",
    "\n",
    "To generate the groove shape, we can use the `get_groove` function of the of `iso_groove` that implements all groove types and shapes defined in *ISO 9692-1:2013*. For all available groove types and options take a look at the extensive docstring of `get_groove` and the groove_type tutorial notebook.\n",
    "\n",
    "Be aware that we must pass along all groove parameters as Quantities with a specified unit using the default `Q_` type imported above. All units are automatically converted to SI units for most mathematical operations in the background so we can specify parameters in any appropriate unit we desire."
   ]
  },
  {
   "cell_type": "code",
   "execution_count": null,
   "metadata": {},
   "outputs": [],
   "source": [
    "groove = get_groove(\n",
    "    groove_type=\"VGroove\",\n",
    "    workpiece_thickness=Q_(5, \"mm\"),\n",
    "    groove_angle=Q_(50, \"deg\"),\n",
    "    root_face=Q_(1, \"mm\"),\n",
    "    root_gap=Q_(1, \"mm\"),\n",
    ")"
   ]
  },
  {
   "cell_type": "markdown",
   "metadata": {},
   "source": [
    "Using the `plot` function of the created groove instance gives a quick overview of the created geometry."
   ]
  },
  {
   "cell_type": "code",
   "execution_count": null,
   "metadata": {},
   "outputs": [],
   "source": [
    "groove.plot(raster_width=\"0.2mm\")"
   ]
  },
  {
   "cell_type": "markdown",
   "metadata": {},
   "source": [
    "## create 3d workpiece geometry\n",
    "Once we have created our desired 2d groove shape, we can simply extend the groove shape into 3d-space to create a volumetric workpiece.\n",
    "\n",
    "To do this, two steps are missing:\n",
    "\n",
    "1. we have to decide on a weld seam length first (we will use 300 mm in this example)\n",
    "2. create a trace object that defines the path of our element through space. (we use a simple linear trace in this example)"
   ]
  },
  {
   "cell_type": "code",
   "execution_count": null,
   "metadata": {},
   "outputs": [],
   "source": [
    "# define the weld seam length in mm\n",
    "seam_length = Q_(300, \"mm\")\n",
    "\n",
    "# create a linear trace segment a the complete weld seam trace\n",
    "trace_segment = LinearHorizontalTraceSegment(seam_length)\n",
    "trace = Trace(trace_segment)"
   ]
  },
  {
   "cell_type": "markdown",
   "metadata": {},
   "source": [
    "Once we have defined the trace object, we can create the workpiece geometry by combining the groove profile with the trace."
   ]
  },
  {
   "cell_type": "code",
   "execution_count": null,
   "metadata": {},
   "outputs": [],
   "source": [
    "# create 3d workpiece geometry from the groove profile and trace objects\n",
    "geometry = Geometry(groove.to_profile(width_default=Q_(5, \"mm\")), trace)"
   ]
  },
  {
   "cell_type": "markdown",
   "metadata": {},
   "source": [
    "To visualize the geometry we simply call its `plot` function. Since it internally rasterizes the data, we need to provide the raster widths:"
   ]
  },
  {
   "cell_type": "code",
   "execution_count": null,
   "metadata": {},
   "outputs": [],
   "source": [
    "# rasterize geometry\n",
    "profile_raster_width = \"2mm\"  # resolution of each profile in mm\n",
    "trace_raster_width = \"30mm\"  # space between profiles in mm"
   ]
  },
  {
   "cell_type": "markdown",
   "metadata": {},
   "source": [
    "Here is the plot:"
   ]
  },
  {
   "cell_type": "code",
   "execution_count": null,
   "metadata": {
    "nbsphinx": "hidden"
   },
   "outputs": [],
   "source": [
    "def ax_setup(ax):\n",
    "    ax.legend()\n",
    "    ax.set_xlabel(\"x / mm\")\n",
    "    ax.set_ylabel(\"y / mm\")\n",
    "    ax.set_zlabel(\"z / mm\")\n",
    "    ax.view_init(30, -10)\n",
    "    ax.set_ylim([-5.5, 5.5])\n",
    "    ax.set_zlim([0, 13])\n",
    "\n",
    "\n",
    "color_dict = {\n",
    "    \"tcp_contact\": (255, 0, 0),\n",
    "    \"tcp_wire\": (0, 150, 0),\n",
    "    \"T1\": (255, 0, 150),\n",
    "    \"T2\": (255, 150, 150),\n",
    "    \"T3\": (255, 150, 0),\n",
    "    \"specimen\": (0, 0, 255),\n",
    "}"
   ]
  },
  {
   "cell_type": "code",
   "execution_count": null,
   "metadata": {},
   "outputs": [],
   "source": [
    "ax = geometry.plot(\n",
    "    profile_raster_width,\n",
    "    trace_raster_width,\n",
    "    color=color_dict[\"specimen\"],\n",
    "    show_wireframe=True,\n",
    "    label=\"groove\",\n",
    ")\n",
    "ax_setup(ax)"
   ]
  },
  {
   "cell_type": "markdown",
   "metadata": {},
   "source": [
    "## Setup the Coordinate System Manager (CSM)\n",
    "Once we have created the 3d geometry it is now time to describe the movement of the wire during the welding process. To handle different moving coordinate systems and objects we use the CoordinateSystemManager.\n",
    "\n",
    "Start by creating a new instance of the CSM. When setting up a CSM instance we have to supply a name that indicates the reference coordinate system which is a static Cartesian coordinate system that defines an origin."
   ]
  },
  {
   "cell_type": "code",
   "execution_count": null,
   "metadata": {},
   "outputs": [],
   "source": [
    "# crete a new coordinate system manager with default base coordinate system\n",
    "csm = CoordinateSystemManager(\"base\")"
   ]
  },
  {
   "cell_type": "markdown",
   "metadata": {},
   "source": [
    "The trace we created earlier to extend the groove shape into 3d has its own associated coordinate system that starts in the origin of the groove (see point (0,0) in our first plot of the groove profile) and has the x-axis running along the direction of the weld seam by convention.\n",
    "\n",
    "We simply add the trace coordinate system to our coordinate system manager defining it as the *workpiece* coordinate system."
   ]
  },
  {
   "cell_type": "code",
   "execution_count": null,
   "metadata": {},
   "outputs": [],
   "source": [
    "# add the workpiece coordinate system\n",
    "csm.add_cs(\n",
    "    coordinate_system_name=\"workpiece\",\n",
    "    reference_system_name=\"base\",\n",
    "    lcs=trace.coordinate_system,\n",
    ")"
   ]
  },
  {
   "cell_type": "markdown",
   "metadata": {},
   "source": [
    "Now that we have added the workpiece coordinate system to the CSM, we can attach a rasterized representation of our geometry to it:"
   ]
  },
  {
   "cell_type": "code",
   "execution_count": null,
   "metadata": {},
   "outputs": [],
   "source": [
    "csm.assign_data(\n",
    "    geometry.spatial_data(profile_raster_width, trace_raster_width),\n",
    "    \"specimen\",\n",
    "    \"workpiece\",\n",
    ")"
   ]
  },
  {
   "cell_type": "markdown",
   "metadata": {},
   "source": [
    "## generate the tcp movement of the wire tip"
   ]
  },
  {
   "cell_type": "markdown",
   "metadata": {},
   "source": [
    "For this example, we want the tip of the wire (i.e. the robot TCP during welding) to move along the center of the groove at 2 mm from the bottom of the workpiece with a speed of 10 mm/s.\n",
    "\n",
    "We begin by defining the start and end points relative to our workpiece coordinate system. Note that the z-axis of the workpiece coordinate system is pointing upwards (see Figure 1). Hence we use a positive offset of 2 mm in z direction from our workpiece. For the x-axis we start the weld 5 mm into the weldseam and 5 mm before reaching the end of the weldseam."
   ]
  },
  {
   "cell_type": "code",
   "execution_count": null,
   "metadata": {},
   "outputs": [],
   "source": [
    "tcp_start_point = Q_([5.0, 0.0, 2.0], \"mm\")\n",
    "tcp_end_point = Q_([-5.0, 0.0, 2.0], \"mm\") + np.append(seam_length, Q_([0, 0], \"mm\"))"
   ]
  },
  {
   "cell_type": "markdown",
   "metadata": {},
   "source": [
    "To completely describe the TCP movement in space __and__ time we need to supply time information for the start and end point. Lets say the weld starts on 2020-04-20 10:00:00. We calculate the time"
   ]
  },
  {
   "cell_type": "code",
   "execution_count": null,
   "metadata": {},
   "outputs": [],
   "source": [
    "v_weld = Q_(10, \"mm/s\")\n",
    "s_weld = (tcp_end_point - tcp_start_point)[0]  # length of the weld\n",
    "t_weld = s_weld / v_weld\n",
    "\n",
    "t_start = pd.Timedelta(\"0s\")\n",
    "t_end = pd.Timedelta(str(t_weld.to_base_units()))"
   ]
  },
  {
   "cell_type": "markdown",
   "metadata": {},
   "source": [
    "The two points and timestamps are enough to create the linear moving coordinate system. We can interpolate the movement with a higher resolution later."
   ]
  },
  {
   "cell_type": "markdown",
   "metadata": {},
   "source": [
    "The orientation of the wire has the z coordinate facing downwards towards the workpiece. The workpiece z-coordinate is facing upwards. We add a constant 180 degree rotation around the x-axis to orientate the wire coordinate system correctly. Orientations can be described using the scipy Rotation objects"
   ]
  },
  {
   "cell_type": "code",
   "execution_count": null,
   "metadata": {},
   "outputs": [],
   "source": [
    "rot = WXRotation.from_euler(seq=\"x\", angles=180, degrees=True)"
   ]
  },
  {
   "cell_type": "markdown",
   "metadata": {},
   "source": [
    "With the defined coordinates, the constant orientation and the associated times we can create the coordinate system for the wire tcp."
   ]
  },
  {
   "cell_type": "code",
   "execution_count": null,
   "metadata": {},
   "outputs": [],
   "source": [
    "coords = [tcp_start_point.magnitude, tcp_end_point.magnitude]\n",
    "\n",
    "tcp_wire = LocalCoordinateSystem(\n",
    "    coordinates=coords, orientation=rot, time=[t_start, t_end]\n",
    ")"
   ]
  },
  {
   "cell_type": "markdown",
   "metadata": {},
   "source": [
    "Add the new coordinate system to the coordinate system manager relative to the workpiece."
   ]
  },
  {
   "cell_type": "code",
   "execution_count": null,
   "metadata": {},
   "outputs": [],
   "source": [
    "# add the workpiece coordinate system\n",
    "csm.add_cs(\n",
    "    coordinate_system_name=\"tcp_wire\",\n",
    "    reference_system_name=\"workpiece\",\n",
    "    lcs=tcp_wire,\n",
    ")"
   ]
  },
  {
   "cell_type": "markdown",
   "metadata": {},
   "source": [
    "Lets say The wire extends 10 mm from the contact tip. We can add the contact tip as another point using the coordinate system manager. To simplify things we now use the _tcp_wire_ coordinate system as reference. All we need to add is the z-offset along the wire. Note that we have to provide a negative offset along the z-axis since the _wire-tcp_ z-axis is pointing downwards."
   ]
  },
  {
   "cell_type": "code",
   "execution_count": null,
   "metadata": {},
   "outputs": [],
   "source": [
    "tcp_contact = LocalCoordinateSystem(coordinates=[0, 0, -10])"
   ]
  },
  {
   "cell_type": "code",
   "execution_count": null,
   "metadata": {},
   "outputs": [],
   "source": [
    "# add the workpiece coordinate system\n",
    "csm.add_cs(\n",
    "    coordinate_system_name=\"tcp_contact\",\n",
    "    reference_system_name=\"tcp_wire\",\n",
    "    lcs=tcp_contact,\n",
    ")"
   ]
  },
  {
   "cell_type": "markdown",
   "metadata": {},
   "source": [
    "We can create a simple plot of the relations between our our coordinate systems"
   ]
  },
  {
   "cell_type": "code",
   "execution_count": null,
   "metadata": {},
   "outputs": [],
   "source": [
    "csm"
   ]
  },
  {
   "cell_type": "markdown",
   "metadata": {},
   "source": [
    "## plot the TCP trajectory\n",
    "To examine the movement of our wire TCP and contact tip, lets create a simple plot. We only have a linear movement so we don't have to add additional timestamps to the moving coordinate systems to increase the resolution of the traces."
   ]
  },
  {
   "cell_type": "code",
   "execution_count": null,
   "metadata": {},
   "outputs": [],
   "source": [
    "ax = csm.plot(\n",
    "    coordinate_systems=[\"tcp_contact\", \"tcp_wire\"],\n",
    "    colors=color_dict,\n",
    "    show_vectors=False,\n",
    "    show_wireframe=True,\n",
    ")\n",
    "ax_setup(ax)"
   ]
  },
  {
   "cell_type": "markdown",
   "metadata": {},
   "source": [
    "## Add static temperature measurement points\n",
    "With everything setup we can now start adding some measurements with associated points in space. We add a temperature measurements __T1, T2, T3__ to the surface of the weld seam."
   ]
  },
  {
   "cell_type": "code",
   "execution_count": null,
   "metadata": {},
   "outputs": [],
   "source": [
    "# add the workpiece coordinate system\n",
    "csm.add_cs(\"T1\", \"workpiece\", LocalCoordinateSystem(coordinates=[200, 3, 5]))\n",
    "csm.add_cs(\"T2\", \"T1\", LocalCoordinateSystem(coordinates=[0, 1, 0]))\n",
    "csm.add_cs(\"T3\", \"T2\", LocalCoordinateSystem(coordinates=[0, 1, 0]))"
   ]
  },
  {
   "cell_type": "code",
   "execution_count": null,
   "metadata": {},
   "outputs": [],
   "source": [
    "ax = csm.plot(\n",
    "    coordinate_systems=[\"tcp_contact\", \"tcp_wire\", \"T1\", \"T2\", \"T3\"],\n",
    "    reference_system=\"workpiece\",\n",
    "    colors=color_dict,\n",
    "    show_vectors=False,\n",
    "    show_wireframe=True,\n",
    ")\n",
    "ax_setup(ax)"
   ]
  },
  {
   "cell_type": "code",
   "execution_count": null,
   "metadata": {},
   "outputs": [],
   "source": [
    "csm"
   ]
  },
  {
   "cell_type": "markdown",
   "metadata": {
    "nbsphinx": "hidden"
   },
   "source": [
    "## K3D Visualization"
   ]
  },
  {
   "cell_type": "code",
   "execution_count": null,
   "metadata": {
    "nbsphinx": "hidden"
   },
   "outputs": [],
   "source": [
    "csm.plot(\n",
    "    backend=\"k3d\",\n",
    "    coordinate_systems=[\"tcp_contact\", \"tcp_wire\", \"T1\", \"T2\", \"T3\"],\n",
    "    colors=color_dict,\n",
    "    limits=[[-5, 150]],\n",
    "    show_vectors=False,\n",
    "    show_traces=True,\n",
    "    show_data_labels=False,\n",
    "    show_labels=False,\n",
    "    show_origins=True,\n",
    ")"
   ]
  },
  {
   "cell_type": "markdown",
   "metadata": {},
   "source": [
    "## using ASDF\n",
    "Now we write all of our structured data to an ASDF file and have a look at the ASDF header."
   ]
  },
  {
   "cell_type": "code",
   "execution_count": null,
   "metadata": {},
   "outputs": [],
   "source": [
    "tree = {\"workpiece\": {\"groove\": groove, \"length\": seam_length}, \"CSM\": csm}"
   ]
  },
  {
   "cell_type": "code",
   "execution_count": null,
   "metadata": {},
   "outputs": [],
   "source": [
    "file = WeldxFile(tree=tree, mode=\"rw\")"
   ]
  },
  {
   "cell_type": "code",
   "execution_count": null,
   "metadata": {},
   "outputs": [],
   "source": [
    "file.show_asdf_header()"
   ]
  }
 ],
 "metadata": {
  "kernelspec": {
   "display_name": "weldx",
   "language": "python",
   "name": "weldx"
  },
  "language_info": {
   "codemirror_mode": {
    "name": "ipython",
    "version": 3
   },
   "file_extension": ".py",
   "mimetype": "text/x-python",
   "name": "python",
   "nbconvert_exporter": "python",
   "pygments_lexer": "ipython3",
   "version": "3.8.11"
  }
 },
 "nbformat": 4,
 "nbformat_minor": 4
}
