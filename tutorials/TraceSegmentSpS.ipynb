{
 "cells": [
  {
   "cell_type": "code",
   "execution_count": 1,
   "id": "228ec7cb-5828-459e-a5a8-349a093ec1b1",
   "metadata": {},
   "outputs": [],
   "source": [
    "from xarray import DataArray\n",
    "\n",
    "from weldx import Q_, GenericSeries, LinearHorizontalTraceSegment, Trace\n",
    "from weldx.core import SpatialSeries\n",
    "from weldx.geometry import DynamicTraceSegment"
   ]
  },
  {
   "cell_type": "code",
   "execution_count": 2,
   "id": "dae8950a-ca96-47bc-8a33-a604fd1fe86d",
   "metadata": {},
   "outputs": [],
   "source": [
    "lhts = LinearHorizontalTraceSegment(\"2mm\")"
   ]
  },
  {
   "cell_type": "code",
   "execution_count": 3,
   "id": "9c33e35c-65e7-46ab-8e9d-27d6eb277d75",
   "metadata": {},
   "outputs": [],
   "source": [
    "tr_1 = Trace(lhts)"
   ]
  },
  {
   "cell_type": "code",
   "execution_count": 4,
   "id": "ae841131-305e-4b89-a8fe-2082c24129b0",
   "metadata": {},
   "outputs": [
    {
     "ename": "DimensionalityError",
     "evalue": "Cannot convert from 'dimensionless' (dimensionless) to 'millimeter' ([length])",
     "output_type": "error",
     "traceback": [
      "\u001b[1;31m---------------------------------------------------------------------------\u001b[0m",
      "\u001b[1;31mDimensionalityError\u001b[0m                       Traceback (most recent call last)",
      "Input \u001b[1;32mIn [4]\u001b[0m, in \u001b[0;36m<module>\u001b[1;34m\u001b[0m\n\u001b[1;32m----> 1\u001b[0m \u001b[43mtr_1\u001b[49m\u001b[38;5;241;43m.\u001b[39;49m\u001b[43mplot\u001b[49m\u001b[43m(\u001b[49m\u001b[43m)\u001b[49m\n",
      "File \u001b[1;32m~\\Anaconda3\\envs\\weldx\\lib\\site-packages\\pint\\registry_helpers.py:367\u001b[0m, in \u001b[0;36mcheck.<locals>.decorator.<locals>.wrapper\u001b[1;34m(*args, **kwargs)\u001b[0m\n\u001b[0;32m    365\u001b[0m         val_dim \u001b[38;5;241m=\u001b[39m ureg\u001b[38;5;241m.\u001b[39mget_dimensionality(value)\n\u001b[0;32m    366\u001b[0m         \u001b[38;5;28;01mraise\u001b[39;00m DimensionalityError(value, \u001b[38;5;124m\"\u001b[39m\u001b[38;5;124ma quantity of\u001b[39m\u001b[38;5;124m\"\u001b[39m, val_dim, dim)\n\u001b[1;32m--> 367\u001b[0m \u001b[38;5;28;01mreturn\u001b[39;00m func(\u001b[38;5;241m*\u001b[39margs, \u001b[38;5;241m*\u001b[39m\u001b[38;5;241m*\u001b[39mkwargs)\n",
      "File \u001b[1;32m~\\PycharmProjects\\weldx\\weldx\\weldx\\geometry.py:1861\u001b[0m, in \u001b[0;36mTrace.plot\u001b[1;34m(self, raster_width, axes, fmt, axes_equal)\u001b[0m\n\u001b[0;32m   1838\u001b[0m \u001b[38;5;129m@UREG\u001b[39m\u001b[38;5;241m.\u001b[39mcheck(\u001b[38;5;28;01mNone\u001b[39;00m, \u001b[38;5;124m\"\u001b[39m\u001b[38;5;124m[length]\u001b[39m\u001b[38;5;124m\"\u001b[39m, \u001b[38;5;28;01mNone\u001b[39;00m, \u001b[38;5;28;01mNone\u001b[39;00m, \u001b[38;5;28;01mNone\u001b[39;00m)\n\u001b[0;32m   1839\u001b[0m \u001b[38;5;28;01mdef\u001b[39;00m \u001b[38;5;21mplot\u001b[39m(\n\u001b[0;32m   1840\u001b[0m     \u001b[38;5;28mself\u001b[39m,\n\u001b[1;32m   (...)\u001b[0m\n\u001b[0;32m   1844\u001b[0m     axes_equal: \u001b[38;5;28mbool\u001b[39m \u001b[38;5;241m=\u001b[39m \u001b[38;5;28;01mFalse\u001b[39;00m,\n\u001b[0;32m   1845\u001b[0m ):\n\u001b[0;32m   1846\u001b[0m     \u001b[38;5;124;03m\"\"\"Plot the trace.\u001b[39;00m\n\u001b[0;32m   1847\u001b[0m \n\u001b[0;32m   1848\u001b[0m \u001b[38;5;124;03m    Parameters\u001b[39;00m\n\u001b[1;32m   (...)\u001b[0m\n\u001b[0;32m   1859\u001b[0m \n\u001b[0;32m   1860\u001b[0m \u001b[38;5;124;03m    \"\"\"\u001b[39;00m\n\u001b[1;32m-> 1861\u001b[0m     data \u001b[38;5;241m=\u001b[39m \u001b[38;5;28;43mself\u001b[39;49m\u001b[38;5;241;43m.\u001b[39;49m\u001b[43mrasterize\u001b[49m\u001b[43m(\u001b[49m\u001b[43mraster_width\u001b[49m\u001b[43m)\u001b[49m\u001b[38;5;241m.\u001b[39mto(_DEFAULT_LEN_UNIT)\n\u001b[0;32m   1862\u001b[0m     \u001b[38;5;28;01mif\u001b[39;00m fmt \u001b[38;5;129;01mis\u001b[39;00m \u001b[38;5;28;01mNone\u001b[39;00m:\n\u001b[0;32m   1863\u001b[0m         fmt \u001b[38;5;241m=\u001b[39m \u001b[38;5;124m\"\u001b[39m\u001b[38;5;124mx-\u001b[39m\u001b[38;5;124m\"\u001b[39m\n",
      "File \u001b[1;32m~\\Anaconda3\\envs\\weldx\\lib\\site-packages\\pint\\registry_helpers.py:296\u001b[0m, in \u001b[0;36mwraps.<locals>.decorator.<locals>.wrapper\u001b[1;34m(*values, **kw)\u001b[0m\n\u001b[0;32m    293\u001b[0m \u001b[38;5;28;01mif\u001b[39;00m ret[\u001b[38;5;241m0\u001b[39m] \u001b[38;5;129;01mis\u001b[39;00m \u001b[38;5;28;01mNone\u001b[39;00m:\n\u001b[0;32m    294\u001b[0m     \u001b[38;5;28;01mreturn\u001b[39;00m result\n\u001b[1;32m--> 296\u001b[0m \u001b[38;5;28;01mreturn\u001b[39;00m \u001b[43mureg\u001b[49m\u001b[38;5;241;43m.\u001b[39;49m\u001b[43mQuantity\u001b[49m\u001b[43m(\u001b[49m\n\u001b[0;32m    297\u001b[0m \u001b[43m    \u001b[49m\u001b[43mresult\u001b[49m\u001b[43m,\u001b[49m\u001b[43m \u001b[49m\u001b[43m_replace_units\u001b[49m\u001b[43m(\u001b[49m\u001b[43mret\u001b[49m\u001b[43m[\u001b[49m\u001b[38;5;241;43m0\u001b[39;49m\u001b[43m]\u001b[49m\u001b[43m,\u001b[49m\u001b[43m \u001b[49m\u001b[43mvalues_by_name\u001b[49m\u001b[43m)\u001b[49m\u001b[43m \u001b[49m\u001b[38;5;28;43;01mif\u001b[39;49;00m\u001b[43m \u001b[49m\u001b[43mret\u001b[49m\u001b[43m[\u001b[49m\u001b[38;5;241;43m1\u001b[39;49m\u001b[43m]\u001b[49m\u001b[43m \u001b[49m\u001b[38;5;28;43;01melse\u001b[39;49;00m\u001b[43m \u001b[49m\u001b[43mret\u001b[49m\u001b[43m[\u001b[49m\u001b[38;5;241;43m0\u001b[39;49m\u001b[43m]\u001b[49m\n\u001b[0;32m    298\u001b[0m \u001b[43m\u001b[49m\u001b[43m)\u001b[49m\n",
      "File \u001b[1;32m~\\Anaconda3\\envs\\weldx\\lib\\site-packages\\pint\\quantity.py:294\u001b[0m, in \u001b[0;36mQuantity.__new__\u001b[1;34m(cls, value, units)\u001b[0m\n\u001b[0;32m    289\u001b[0m         \u001b[38;5;28;01mraise\u001b[39;00m \u001b[38;5;167;01mTypeError\u001b[39;00m(\n\u001b[0;32m    290\u001b[0m             \u001b[38;5;124m\"\u001b[39m\u001b[38;5;124munits must be of type str, Quantity or \u001b[39m\u001b[38;5;124m\"\u001b[39m\n\u001b[0;32m    291\u001b[0m             \u001b[38;5;124m\"\u001b[39m\u001b[38;5;124mUnitsContainer; not \u001b[39m\u001b[38;5;132;01m{}\u001b[39;00m\u001b[38;5;124m.\u001b[39m\u001b[38;5;124m\"\u001b[39m\u001b[38;5;241m.\u001b[39mformat(\u001b[38;5;28mtype\u001b[39m(units))\n\u001b[0;32m    292\u001b[0m         )\n\u001b[0;32m    293\u001b[0m \u001b[38;5;28;01mif\u001b[39;00m \u001b[38;5;28misinstance\u001b[39m(value, \u001b[38;5;28mcls\u001b[39m):\n\u001b[1;32m--> 294\u001b[0m     magnitude \u001b[38;5;241m=\u001b[39m \u001b[43mvalue\u001b[49m\u001b[38;5;241;43m.\u001b[39;49m\u001b[43mto\u001b[49m\u001b[43m(\u001b[49m\u001b[43munits\u001b[49m\u001b[43m)\u001b[49m\u001b[38;5;241m.\u001b[39m_magnitude\n\u001b[0;32m    295\u001b[0m \u001b[38;5;28;01melse\u001b[39;00m:\n\u001b[0;32m    296\u001b[0m     magnitude \u001b[38;5;241m=\u001b[39m _to_magnitude(\n\u001b[0;32m    297\u001b[0m         value, inst\u001b[38;5;241m.\u001b[39mforce_ndarray, inst\u001b[38;5;241m.\u001b[39mforce_ndarray_like\n\u001b[0;32m    298\u001b[0m     )\n",
      "File \u001b[1;32m~\\Anaconda3\\envs\\weldx\\lib\\site-packages\\pint\\quantity.py:724\u001b[0m, in \u001b[0;36mQuantity.to\u001b[1;34m(self, other, *contexts, **ctx_kwargs)\u001b[0m\n\u001b[0;32m    707\u001b[0m \u001b[38;5;124;03m\"\"\"Return Quantity rescaled to different units.\u001b[39;00m\n\u001b[0;32m    708\u001b[0m \n\u001b[0;32m    709\u001b[0m \u001b[38;5;124;03mParameters\u001b[39;00m\n\u001b[1;32m   (...)\u001b[0m\n\u001b[0;32m    720\u001b[0m \u001b[38;5;124;03mpint.Quantity\u001b[39;00m\n\u001b[0;32m    721\u001b[0m \u001b[38;5;124;03m\"\"\"\u001b[39;00m\n\u001b[0;32m    722\u001b[0m other \u001b[38;5;241m=\u001b[39m to_units_container(other, \u001b[38;5;28mself\u001b[39m\u001b[38;5;241m.\u001b[39m_REGISTRY)\n\u001b[1;32m--> 724\u001b[0m magnitude \u001b[38;5;241m=\u001b[39m \u001b[38;5;28mself\u001b[39m\u001b[38;5;241m.\u001b[39m_convert_magnitude_not_inplace(other, \u001b[38;5;241m*\u001b[39mcontexts, \u001b[38;5;241m*\u001b[39m\u001b[38;5;241m*\u001b[39mctx_kwargs)\n\u001b[0;32m    726\u001b[0m \u001b[38;5;28;01mreturn\u001b[39;00m \u001b[38;5;28mself\u001b[39m\u001b[38;5;241m.\u001b[39m\u001b[38;5;18m__class__\u001b[39m(magnitude, other)\n",
      "File \u001b[1;32m~\\Anaconda3\\envs\\weldx\\lib\\site-packages\\pint\\quantity.py:673\u001b[0m, in \u001b[0;36mQuantity._convert_magnitude_not_inplace\u001b[1;34m(self, other, *contexts, **ctx_kwargs)\u001b[0m\n\u001b[0;32m    670\u001b[0m     \u001b[38;5;28;01mwith\u001b[39;00m \u001b[38;5;28mself\u001b[39m\u001b[38;5;241m.\u001b[39m_REGISTRY\u001b[38;5;241m.\u001b[39mcontext(\u001b[38;5;241m*\u001b[39mcontexts, \u001b[38;5;241m*\u001b[39m\u001b[38;5;241m*\u001b[39mctx_kwargs):\n\u001b[0;32m    671\u001b[0m         \u001b[38;5;28;01mreturn\u001b[39;00m \u001b[38;5;28mself\u001b[39m\u001b[38;5;241m.\u001b[39m_REGISTRY\u001b[38;5;241m.\u001b[39mconvert(\u001b[38;5;28mself\u001b[39m\u001b[38;5;241m.\u001b[39m_magnitude, \u001b[38;5;28mself\u001b[39m\u001b[38;5;241m.\u001b[39m_units, other)\n\u001b[1;32m--> 673\u001b[0m \u001b[38;5;28;01mreturn\u001b[39;00m \u001b[38;5;28;43mself\u001b[39;49m\u001b[38;5;241;43m.\u001b[39;49m\u001b[43m_REGISTRY\u001b[49m\u001b[38;5;241;43m.\u001b[39;49m\u001b[43mconvert\u001b[49m\u001b[43m(\u001b[49m\u001b[38;5;28;43mself\u001b[39;49m\u001b[38;5;241;43m.\u001b[39;49m\u001b[43m_magnitude\u001b[49m\u001b[43m,\u001b[49m\u001b[43m \u001b[49m\u001b[38;5;28;43mself\u001b[39;49m\u001b[38;5;241;43m.\u001b[39;49m\u001b[43m_units\u001b[49m\u001b[43m,\u001b[49m\u001b[43m \u001b[49m\u001b[43mother\u001b[49m\u001b[43m)\u001b[49m\n",
      "File \u001b[1;32m~\\Anaconda3\\envs\\weldx\\lib\\site-packages\\pint\\registry.py:1003\u001b[0m, in \u001b[0;36mBaseRegistry.convert\u001b[1;34m(self, value, src, dst, inplace)\u001b[0m\n\u001b[0;32m   1000\u001b[0m \u001b[38;5;28;01mif\u001b[39;00m src \u001b[38;5;241m==\u001b[39m dst:\n\u001b[0;32m   1001\u001b[0m     \u001b[38;5;28;01mreturn\u001b[39;00m value\n\u001b[1;32m-> 1003\u001b[0m \u001b[38;5;28;01mreturn\u001b[39;00m \u001b[38;5;28;43mself\u001b[39;49m\u001b[38;5;241;43m.\u001b[39;49m\u001b[43m_convert\u001b[49m\u001b[43m(\u001b[49m\u001b[43mvalue\u001b[49m\u001b[43m,\u001b[49m\u001b[43m \u001b[49m\u001b[43msrc\u001b[49m\u001b[43m,\u001b[49m\u001b[43m \u001b[49m\u001b[43mdst\u001b[49m\u001b[43m,\u001b[49m\u001b[43m \u001b[49m\u001b[43minplace\u001b[49m\u001b[43m)\u001b[49m\n",
      "File \u001b[1;32m~\\Anaconda3\\envs\\weldx\\lib\\site-packages\\pint\\registry.py:1917\u001b[0m, in \u001b[0;36mContextRegistry._convert\u001b[1;34m(self, value, src, dst, inplace)\u001b[0m\n\u001b[0;32m   1913\u001b[0m             src \u001b[38;5;241m=\u001b[39m \u001b[38;5;28mself\u001b[39m\u001b[38;5;241m.\u001b[39m_active_ctx\u001b[38;5;241m.\u001b[39mtransform(a, b, \u001b[38;5;28mself\u001b[39m, src)\n\u001b[0;32m   1915\u001b[0m         value, src \u001b[38;5;241m=\u001b[39m src\u001b[38;5;241m.\u001b[39m_magnitude, src\u001b[38;5;241m.\u001b[39m_units\n\u001b[1;32m-> 1917\u001b[0m \u001b[38;5;28;01mreturn\u001b[39;00m \u001b[38;5;28;43msuper\u001b[39;49m\u001b[43m(\u001b[49m\u001b[43m)\u001b[49m\u001b[38;5;241;43m.\u001b[39;49m\u001b[43m_convert\u001b[49m\u001b[43m(\u001b[49m\u001b[43mvalue\u001b[49m\u001b[43m,\u001b[49m\u001b[43m \u001b[49m\u001b[43msrc\u001b[49m\u001b[43m,\u001b[49m\u001b[43m \u001b[49m\u001b[43mdst\u001b[49m\u001b[43m,\u001b[49m\u001b[43m \u001b[49m\u001b[43minplace\u001b[49m\u001b[43m)\u001b[49m\n",
      "File \u001b[1;32m~\\Anaconda3\\envs\\weldx\\lib\\site-packages\\pint\\registry.py:1518\u001b[0m, in \u001b[0;36mNonMultiplicativeRegistry._convert\u001b[1;34m(self, value, src, dst, inplace)\u001b[0m\n\u001b[0;32m   1513\u001b[0m     \u001b[38;5;28;01mraise\u001b[39;00m DimensionalityError(\n\u001b[0;32m   1514\u001b[0m         src, dst, extra_msg\u001b[38;5;241m=\u001b[39m\u001b[38;5;124mf\u001b[39m\u001b[38;5;124m\"\u001b[39m\u001b[38;5;124m - In destination units, \u001b[39m\u001b[38;5;132;01m{\u001b[39;00mex\u001b[38;5;132;01m}\u001b[39;00m\u001b[38;5;124m\"\u001b[39m\n\u001b[0;32m   1515\u001b[0m     )\n\u001b[0;32m   1517\u001b[0m \u001b[38;5;28;01mif\u001b[39;00m \u001b[38;5;129;01mnot\u001b[39;00m (src_offset_unit \u001b[38;5;129;01mor\u001b[39;00m dst_offset_unit):\n\u001b[1;32m-> 1518\u001b[0m     \u001b[38;5;28;01mreturn\u001b[39;00m \u001b[38;5;28;43msuper\u001b[39;49m\u001b[43m(\u001b[49m\u001b[43m)\u001b[49m\u001b[38;5;241;43m.\u001b[39;49m\u001b[43m_convert\u001b[49m\u001b[43m(\u001b[49m\u001b[43mvalue\u001b[49m\u001b[43m,\u001b[49m\u001b[43m \u001b[49m\u001b[43msrc\u001b[49m\u001b[43m,\u001b[49m\u001b[43m \u001b[49m\u001b[43mdst\u001b[49m\u001b[43m,\u001b[49m\u001b[43m \u001b[49m\u001b[43minplace\u001b[49m\u001b[43m)\u001b[49m\n\u001b[0;32m   1520\u001b[0m src_dim \u001b[38;5;241m=\u001b[39m \u001b[38;5;28mself\u001b[39m\u001b[38;5;241m.\u001b[39m_get_dimensionality(src)\n\u001b[0;32m   1521\u001b[0m dst_dim \u001b[38;5;241m=\u001b[39m \u001b[38;5;28mself\u001b[39m\u001b[38;5;241m.\u001b[39m_get_dimensionality(dst)\n",
      "File \u001b[1;32m~\\Anaconda3\\envs\\weldx\\lib\\site-packages\\pint\\registry.py:1036\u001b[0m, in \u001b[0;36mBaseRegistry._convert\u001b[1;34m(self, value, src, dst, inplace, check_dimensionality)\u001b[0m\n\u001b[0;32m   1033\u001b[0m     \u001b[38;5;66;03m# If the source and destination dimensionality are different,\u001b[39;00m\n\u001b[0;32m   1034\u001b[0m     \u001b[38;5;66;03m# then the conversion cannot be performed.\u001b[39;00m\n\u001b[0;32m   1035\u001b[0m     \u001b[38;5;28;01mif\u001b[39;00m src_dim \u001b[38;5;241m!=\u001b[39m dst_dim:\n\u001b[1;32m-> 1036\u001b[0m         \u001b[38;5;28;01mraise\u001b[39;00m DimensionalityError(src, dst, src_dim, dst_dim)\n\u001b[0;32m   1038\u001b[0m \u001b[38;5;66;03m# Here src and dst have only multiplicative units left. Thus we can\u001b[39;00m\n\u001b[0;32m   1039\u001b[0m \u001b[38;5;66;03m# convert with a factor.\u001b[39;00m\n\u001b[0;32m   1040\u001b[0m factor, _ \u001b[38;5;241m=\u001b[39m \u001b[38;5;28mself\u001b[39m\u001b[38;5;241m.\u001b[39m_get_root_units(src \u001b[38;5;241m/\u001b[39m dst)\n",
      "\u001b[1;31mDimensionalityError\u001b[0m: Cannot convert from 'dimensionless' (dimensionless) to 'millimeter' ([length])"
     ]
    }
   ],
   "source": [
    "tr_1.plot()"
   ]
  },
  {
   "cell_type": "code",
   "execution_count": null,
   "id": "dbe0ede7-2696-425e-a58d-e4782877d327",
   "metadata": {},
   "outputs": [],
   "source": [
    "class SDTraceSegment:\n",
    "    def __init__(self, sd):\n",
    "        self._sd = sd"
   ]
  },
  {
   "cell_type": "code",
   "execution_count": null,
   "id": "ed0318d3-f74e-44e4-b09d-891d0f89a8bb",
   "metadata": {},
   "outputs": [],
   "source": [
    "expr = \"a*s+b\"\n",
    "# expr = \"x+y+z\"\n",
    "params = dict(\n",
    "    a=DataArray(Q_([1, 0, 0], \"mm\"), dims=[\"c\"], coords=dict(c=[\"x\", \"y\", \"z\"])),\n",
    "    b=DataArray(Q_([0, 1, 0], \"mm\"), dims=[\"c\"], coords=dict(c=[\"x\", \"y\", \"z\"])),\n",
    ")\n",
    "sps = SpatialSeries(expr, parameters=params)"
   ]
  },
  {
   "cell_type": "code",
   "execution_count": null,
   "id": "17debdfb-0a46-4a2b-bf77-980a0ac34437",
   "metadata": {},
   "outputs": [],
   "source": [
    "sdts = SDTraceSegment(sps)"
   ]
  },
  {
   "cell_type": "code",
   "execution_count": null,
   "id": "539d8648-94f6-4c3c-b8e4-97b6cb569a8b",
   "metadata": {},
   "outputs": [],
   "source": [
    "sps.evaluate(\n",
    "    s=DataArray(\n",
    "        Q_([1], \"\"), dims=[\"s\"], coords=dict(s=DataArray(Q_([1], \"\"), dims=[\"s\"]))\n",
    "    )\n",
    ")"
   ]
  },
  {
   "cell_type": "code",
   "execution_count": null,
   "id": "0fc5a100-5bb3-4b4a-ac0c-e888429eb1f5",
   "metadata": {},
   "outputs": [],
   "source": [
    "t = DataArray([1, 3, 5], dims=[\"a\"])"
   ]
  },
  {
   "cell_type": "code",
   "execution_count": null,
   "id": "8f4fd0fa-4725-48b7-b22a-722aa409bb71",
   "metadata": {},
   "outputs": [],
   "source": [
    "t.assign_coords(dict(a=[1, 3, 4]))"
   ]
  },
  {
   "cell_type": "code",
   "execution_count": null,
   "id": "fe85a016-29a4-4838-be67-8a8dbe64a8d7",
   "metadata": {},
   "outputs": [],
   "source": [
    "DataArray(\n",
    "    Q_([1], \"\"),\n",
    "    dims=[\"s\"],\n",
    "    coords=dict(s=DataArray(Q_([1], \"\"), dims=[\"s\"]).pint.dequantify()),\n",
    ")"
   ]
  },
  {
   "cell_type": "code",
   "execution_count": null,
   "id": "f23408a2-60fe-4397-b55f-865c06027829",
   "metadata": {},
   "outputs": [],
   "source": [
    "a = DataArray(Q_([1, 2, 3], \"mm\"), dims=[\"c\"]).pint.dequantify()"
   ]
  },
  {
   "cell_type": "code",
   "execution_count": null,
   "id": "3c1a153f-4111-4ee7-b3eb-1c000fb87f93",
   "metadata": {},
   "outputs": [],
   "source": [
    "b = DataArray(Q_([2, 3, 5], \"\"), dims=[\"c\"], coords=dict(c=a))"
   ]
  },
  {
   "cell_type": "code",
   "execution_count": null,
   "id": "4191d792-1c47-4062-bfa2-0f0105890150",
   "metadata": {},
   "outputs": [],
   "source": [
    "print(b.coords[\"c\"])"
   ]
  },
  {
   "cell_type": "code",
   "execution_count": null,
   "id": "469b0ca2-faf6-4205-aaa0-3adfd4e187f2",
   "metadata": {},
   "outputs": [],
   "source": []
  }
 ],
 "metadata": {
  "kernelspec": {
   "display_name": "Python (weldx)",
   "language": "python",
   "name": "weldx"
  },
  "language_info": {
   "codemirror_mode": {
    "name": "ipython",
    "version": 3
   },
   "file_extension": ".py",
   "mimetype": "text/x-python",
   "name": "python",
   "nbconvert_exporter": "python",
   "pygments_lexer": "ipython3",
   "version": "3.9.9"
  }
 },
 "nbformat": 4,
 "nbformat_minor": 5
}
