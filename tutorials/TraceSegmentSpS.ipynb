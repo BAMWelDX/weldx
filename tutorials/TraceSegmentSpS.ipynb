{
 "cells": [
  {
   "cell_type": "code",
   "execution_count": null,
   "id": "228ec7cb-5828-459e-a5a8-349a093ec1b1",
   "metadata": {},
   "outputs": [],
   "source": [
    "from xarray import DataArray\n",
    "\n",
    "from weldx import Q_, GenericSeries, LinearHorizontalTraceSegment, Trace\n",
    "from weldx.core import SpatialSeries"
   ]
  },
  {
   "cell_type": "code",
   "execution_count": null,
   "id": "dae8950a-ca96-47bc-8a33-a604fd1fe86d",
   "metadata": {},
   "outputs": [],
   "source": [
    "lhts = LinearHorizontalTraceSegment(\"2mm\")"
   ]
  },
  {
   "cell_type": "code",
   "execution_count": null,
   "id": "9c33e35c-65e7-46ab-8e9d-27d6eb277d75",
   "metadata": {},
   "outputs": [],
   "source": [
    "tr_1 = Trace(lhts)"
   ]
  },
  {
   "cell_type": "code",
   "execution_count": null,
   "id": "ae841131-305e-4b89-a8fe-2082c24129b0",
   "metadata": {},
   "outputs": [],
   "source": [
    "tr_1.plot()"
   ]
  },
  {
   "cell_type": "code",
   "execution_count": null,
   "id": "dbe0ede7-2696-425e-a58d-e4782877d327",
   "metadata": {},
   "outputs": [],
   "source": [
    "class SDTraceSegment:\n",
    "    def __init__(self, sd):\n",
    "        self._sd = sd"
   ]
  },
  {
   "cell_type": "code",
   "execution_count": null,
   "id": "ed0318d3-f74e-44e4-b09d-891d0f89a8bb",
   "metadata": {},
   "outputs": [],
   "source": [
    "expr = \"a*s+b\"\n",
    "# expr = \"x+y+z\"\n",
    "params = dict(\n",
    "    a=DataArray(Q_([1, 0, 0], \"mm\"), dims=[\"c\"], coords=dict(c=[\"x\", \"y\", \"z\"])),\n",
    "    b=DataArray(Q_([0, 1, 0], \"mm\"), dims=[\"c\"], coords=dict(c=[\"x\", \"y\", \"z\"])),\n",
    ")\n",
    "sps = SpatialSeries(expr, parameters=params)"
   ]
  },
  {
   "cell_type": "code",
   "execution_count": null,
   "id": "17debdfb-0a46-4a2b-bf77-980a0ac34437",
   "metadata": {},
   "outputs": [],
   "source": [
    "sdts = SDTraceSegment(sps)"
   ]
  },
  {
   "cell_type": "code",
   "execution_count": null,
   "id": "539d8648-94f6-4c3c-b8e4-97b6cb569a8b",
   "metadata": {},
   "outputs": [],
   "source": [
    "sps.evaluate(\n",
    "    s=DataArray(\n",
    "        Q_([1], \"\"), dims=[\"s\"], coords=dict(s=DataArray(Q_([1], \"\"), dims=[\"s\"]))\n",
    "    )\n",
    ")"
   ]
  },
  {
   "cell_type": "code",
   "execution_count": null,
   "id": "0fc5a100-5bb3-4b4a-ac0c-e888429eb1f5",
   "metadata": {},
   "outputs": [],
   "source": [
    "t = DataArray([1, 3, 5], dims=[\"a\"])"
   ]
  },
  {
   "cell_type": "code",
   "execution_count": null,
   "id": "8f4fd0fa-4725-48b7-b22a-722aa409bb71",
   "metadata": {},
   "outputs": [],
   "source": [
    "t.assign_coords(dict(a=[1, 3, 4]))"
   ]
  },
  {
   "cell_type": "code",
   "execution_count": null,
   "id": "fe85a016-29a4-4838-be67-8a8dbe64a8d7",
   "metadata": {},
   "outputs": [],
   "source": [
    "DataArray(\n",
    "    Q_([1], \"\"),\n",
    "    dims=[\"s\"],\n",
    "    coords=dict(s=DataArray(Q_([1], \"\"), dims=[\"s\"]).pint.dequantify()),\n",
    ")"
   ]
  },
  {
   "cell_type": "code",
   "execution_count": null,
   "id": "f23408a2-60fe-4397-b55f-865c06027829",
   "metadata": {},
   "outputs": [],
   "source": [
    "a = DataArray(Q_([1, 2, 3], \"mm\"), dims=[\"c\"]).pint.dequantify()"
   ]
  },
  {
   "cell_type": "code",
   "execution_count": null,
   "id": "3c1a153f-4111-4ee7-b3eb-1c000fb87f93",
   "metadata": {},
   "outputs": [],
   "source": [
    "b = DataArray(Q_([2, 3, 5], \"\"), dims=[\"c\"], coords=dict(c=a))"
   ]
  },
  {
   "cell_type": "code",
   "execution_count": null,
   "id": "4191d792-1c47-4062-bfa2-0f0105890150",
   "metadata": {},
   "outputs": [],
   "source": [
    "print(b.coords[\"c\"])"
   ]
  },
  {
   "cell_type": "code",
   "execution_count": null,
   "id": "469b0ca2-faf6-4205-aaa0-3adfd4e187f2",
   "metadata": {},
   "outputs": [],
   "source": []
  }
 ],
 "metadata": {
  "kernelspec": {
   "display_name": "",
   "language": "python",
   "name": ""
  },
  "language_info": {
   "codemirror_mode": {
    "name": "ipython",
    "version": 3
   },
   "file_extension": ".py",
   "mimetype": "text/x-python",
   "name": "python",
   "nbconvert_exporter": "python",
   "pygments_lexer": "ipython3",
   "version": "3.8.12"
  }
 },
 "nbformat": 4,
 "nbformat_minor": 5
}
