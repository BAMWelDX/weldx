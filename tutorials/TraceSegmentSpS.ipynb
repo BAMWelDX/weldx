{
 "cells": [
  {
   "cell_type": "code",
   "execution_count": null,
   "metadata": {},
   "outputs": [],
   "source": [
    "import matplotlib.pyplot as plt\n",
    "import numpy as np\n",
    "from xarray import DataArray\n",
    "\n",
    "from weldx import Q_, GenericSeries, LinearHorizontalTraceSegment, Trace\n",
    "from weldx.core import SpatialSeries\n",
    "from weldx.geometry import DynamicTraceSegment"
   ]
  },
  {
   "cell_type": "markdown",
   "metadata": {},
   "source": [
    "## Discrete"
   ]
  },
  {
   "cell_type": "code",
   "execution_count": null,
   "metadata": {},
   "outputs": [],
   "source": [
    "data = DataArray(\n",
    "    Q_([[0, 0, 0], [0, 5, 0], [1, 5, 0], [1, 9, 0]], \"mm\"),\n",
    "    dims=[\"s\", \"c\"],\n",
    "    coords=dict(\n",
    "        c=[\"x\", \"y\", \"z\"],\n",
    "        s=DataArray(Q_([0, 0.5, 0.6, 1], \"\"), dims=[\"s\"]).pint.dequantify(),\n",
    "    ),\n",
    ")\n",
    "series_disc = SpatialSeries(data)"
   ]
  },
  {
   "cell_type": "code",
   "execution_count": null,
   "metadata": {},
   "outputs": [],
   "source": [
    "segment_disc = DynamicTraceSegment(series_disc)"
   ]
  },
  {
   "cell_type": "code",
   "execution_count": null,
   "metadata": {},
   "outputs": [],
   "source": [
    "segment_disc.local_coordinate_system(0.55)"
   ]
  },
  {
   "cell_type": "code",
   "execution_count": null,
   "metadata": {},
   "outputs": [],
   "source": [
    "trace_disc = Trace([segment_disc, segment_disc])"
   ]
  },
  {
   "cell_type": "code",
   "execution_count": null,
   "metadata": {},
   "outputs": [],
   "source": [
    "trace_disc.plot(\"0.5mm\")\n",
    "ax = plt.gca()\n",
    "ax.plot([0, 10], [0, 10])"
   ]
  },
  {
   "cell_type": "markdown",
   "metadata": {},
   "source": [
    "## Expression"
   ]
  },
  {
   "cell_type": "code",
   "execution_count": null,
   "metadata": {},
   "outputs": [],
   "source": [
    "expr = \"a*sin(s)+b*cos(s)+c*s/10+d \"\n",
    "# expr = \"x+y+z\"\n",
    "params = dict(\n",
    "    a=DataArray(Q_([1, 0, 0], \"mm\"), dims=[\"c\"], coords=dict(c=[\"x\", \"y\", \"z\"])),\n",
    "    b=DataArray(Q_([0, 1, 0], \"mm\"), dims=[\"c\"], coords=dict(c=[\"x\", \"y\", \"z\"])),\n",
    "    c=DataArray(Q_([0, 0, 2], \"mm\"), dims=[\"c\"], coords=dict(c=[\"x\", \"y\", \"z\"])),\n",
    "    d=DataArray(Q_([0, -1, 0], \"mm\"), dims=[\"c\"], coords=dict(c=[\"x\", \"y\", \"z\"])),\n",
    ")\n",
    "sps = SpatialSeries(expr, parameters=params)"
   ]
  },
  {
   "cell_type": "code",
   "execution_count": null,
   "metadata": {},
   "outputs": [],
   "source": [
    "segment = DynamicTraceSegment(sps, 2 * np.pi, limit_orientation_to_xy=True)"
   ]
  },
  {
   "cell_type": "code",
   "execution_count": null,
   "metadata": {},
   "outputs": [],
   "source": [
    "trace = Trace([segment, segment, segment])"
   ]
  },
  {
   "cell_type": "code",
   "execution_count": null,
   "metadata": {},
   "outputs": [],
   "source": [
    "trace.plot(\"0.1mm\")"
   ]
  },
  {
   "cell_type": "code",
   "execution_count": null,
   "metadata": {},
   "outputs": [],
   "source": [
    "trace.length"
   ]
  },
  {
   "cell_type": "code",
   "execution_count": null,
   "metadata": {},
   "outputs": [],
   "source": [
    "from weldx import LocalCoordinateSystem\n",
    "from weldx.visualization.matplotlib_impl import (\n",
    "    axes_equal,\n",
    "    draw_coordinate_system_matplotlib,\n",
    ")\n",
    "\n",
    "num_lcs = 11\n",
    "fig = plt.figure()\n",
    "ax = fig.add_subplot(111, projection=\"3d\")\n",
    "for i in range(num_lcs):\n",
    "    lcs = segment.local_coordinate_system(i / (num_lcs - 1))\n",
    "    lcs = LocalCoordinateSystem(lcs.orientation, lcs.coordinates.data.m)\n",
    "    draw_coordinate_system_matplotlib(lcs, ax)\n",
    "axes_equal(ax)"
   ]
  },
  {
   "cell_type": "code",
   "execution_count": null,
   "metadata": {},
   "outputs": [],
   "source": []
  }
 ],
 "metadata": {
  "kernelspec": {
   "display_name": "",
   "language": "python",
   "name": ""
  },
  "language_info": {
   "codemirror_mode": {
    "name": "ipython",
    "version": 3
   },
   "file_extension": ".py",
   "mimetype": "text/x-python",
   "name": "python",
   "nbconvert_exporter": "python",
   "pygments_lexer": "ipython3",
   "version": "3.8.12"
  }
 },
 "nbformat": 4,
 "nbformat_minor": 5
}
