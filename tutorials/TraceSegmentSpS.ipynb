{
 "cells": [
  {
   "cell_type": "code",
   "execution_count": 1,
   "id": "e998eaed",
   "metadata": {},
   "outputs": [],
   "source": [
    "import matplotlib.pyplot as plt\n",
    "import numpy as np\n",
    "from xarray import DataArray\n",
    "\n",
    "from weldx import Q_, GenericSeries, LinearHorizontalTraceSegment, Trace\n",
    "from weldx.core import SpatialSeries\n",
    "from weldx.geometry import DynamicTraceSegment"
   ]
  },
  {
   "cell_type": "markdown",
   "id": "661602ad",
   "metadata": {},
   "source": [
    "## Discrete"
   ]
  },
  {
   "cell_type": "code",
   "execution_count": 2,
   "id": "100b135a",
   "metadata": {},
   "outputs": [],
   "source": [
    "data = DataArray(\n",
    "    Q_([[0, 0, 0], [0, 5, 0], [1, 5, 0], [1, 9, 0]], \"mm\"),\n",
    "    dims=[\"s\", \"c\"],\n",
    "    coords=dict(\n",
    "        c=[\"x\", \"y\", \"z\"],\n",
    "        s=DataArray(Q_([0, 0.5, 0.6, 1], \"\"), dims=[\"s\"]).pint.dequantify(),\n",
    "    ),\n",
    ")\n",
    "series_disc = SpatialSeries(data)"
   ]
  },
  {
   "cell_type": "code",
   "execution_count": 3,
   "id": "6a8fec99",
   "metadata": {},
   "outputs": [],
   "source": [
    "segment_disc = DynamicTraceSegment(series_disc)"
   ]
  },
  {
   "cell_type": "code",
   "execution_count": 4,
   "id": "59c8a6fd",
   "metadata": {},
   "outputs": [
    {
     "name": "stderr",
     "output_type": "stream",
     "text": [
      "C:\\Users\\vhirtham\\Miniconda3\\envs\\weldx\\lib\\site-packages\\xarray\\core\\missing.py:562: FutureWarning: Passing method to Float64Index.get_loc is deprecated and will raise in a future version. Use index.get_indexer([item], method=...) instead.\n",
      "  imin = index.get_loc(minval, method=\"nearest\")\n",
      "C:\\Users\\vhirtham\\Miniconda3\\envs\\weldx\\lib\\site-packages\\xarray\\core\\missing.py:563: FutureWarning: Passing method to Float64Index.get_loc is deprecated and will raise in a future version. Use index.get_indexer([item], method=...) instead.\n",
      "  imax = index.get_loc(maxval, method=\"nearest\")\n"
     ]
    },
    {
     "data": {
      "text/plain": [
       "<LocalCoordinateSystem>\n",
       "Dimensions:      (c: 3, v: 3)\n",
       "Coordinates:\n",
       "  * c            (c) <U1 'x' 'y' 'z'\n",
       "  * v            (v) int32 0 1 2\n",
       "Data variables:\n",
       "    orientation  (v, c) float64 1.0 0.0 0.0 0.0 1.0 0.0 0.0 0.0 1.0\n",
       "    coordinates  (c) float64 [mm] 0.5 5.0 0.0"
      ]
     },
     "execution_count": 4,
     "metadata": {},
     "output_type": "execute_result"
    }
   ],
   "source": [
    "segment_disc.local_coordinate_system(0.55)"
   ]
  },
  {
   "cell_type": "code",
   "execution_count": 5,
   "id": "03582365",
   "metadata": {},
   "outputs": [
    {
     "name": "stderr",
     "output_type": "stream",
     "text": [
      "C:\\Users\\vhirtham\\Miniconda3\\envs\\weldx\\lib\\site-packages\\xarray\\core\\missing.py:562: FutureWarning: Passing method to Float64Index.get_loc is deprecated and will raise in a future version. Use index.get_indexer([item], method=...) instead.\n",
      "  imin = index.get_loc(minval, method=\"nearest\")\n",
      "C:\\Users\\vhirtham\\Miniconda3\\envs\\weldx\\lib\\site-packages\\xarray\\core\\missing.py:563: FutureWarning: Passing method to Float64Index.get_loc is deprecated and will raise in a future version. Use index.get_indexer([item], method=...) instead.\n",
      "  imax = index.get_loc(maxval, method=\"nearest\")\n",
      "C:\\Users\\vhirtham\\Miniconda3\\envs\\weldx\\lib\\site-packages\\xarray\\core\\missing.py:562: FutureWarning: Passing method to Float64Index.get_loc is deprecated and will raise in a future version. Use index.get_indexer([item], method=...) instead.\n",
      "  imin = index.get_loc(minval, method=\"nearest\")\n",
      "C:\\Users\\vhirtham\\Miniconda3\\envs\\weldx\\lib\\site-packages\\xarray\\core\\missing.py:563: FutureWarning: Passing method to Float64Index.get_loc is deprecated and will raise in a future version. Use index.get_indexer([item], method=...) instead.\n",
      "  imax = index.get_loc(maxval, method=\"nearest\")\n"
     ]
    }
   ],
   "source": [
    "trace_disc = Trace([segment_disc, segment_disc])"
   ]
  },
  {
   "cell_type": "code",
   "execution_count": 6,
   "id": "7d8f98c7",
   "metadata": {},
   "outputs": [
    {
     "name": "stderr",
     "output_type": "stream",
     "text": [
      "C:\\Users\\vhirtham\\Miniconda3\\envs\\weldx\\lib\\site-packages\\xarray\\core\\missing.py:562: FutureWarning: Passing method to Float64Index.get_loc is deprecated and will raise in a future version. Use index.get_indexer([item], method=...) instead.\n",
      "  imin = index.get_loc(minval, method=\"nearest\")\n",
      "C:\\Users\\vhirtham\\Miniconda3\\envs\\weldx\\lib\\site-packages\\xarray\\core\\missing.py:563: FutureWarning: Passing method to Float64Index.get_loc is deprecated and will raise in a future version. Use index.get_indexer([item], method=...) instead.\n",
      "  imax = index.get_loc(maxval, method=\"nearest\")\n",
      "C:\\Users\\vhirtham\\Miniconda3\\envs\\weldx\\lib\\site-packages\\xarray\\core\\missing.py:562: FutureWarning: Passing method to Float64Index.get_loc is deprecated and will raise in a future version. Use index.get_indexer([item], method=...) instead.\n",
      "  imin = index.get_loc(minval, method=\"nearest\")\n",
      "C:\\Users\\vhirtham\\Miniconda3\\envs\\weldx\\lib\\site-packages\\xarray\\core\\missing.py:563: FutureWarning: Passing method to Float64Index.get_loc is deprecated and will raise in a future version. Use index.get_indexer([item], method=...) instead.\n",
      "  imax = index.get_loc(maxval, method=\"nearest\")\n",
      "C:\\Users\\vhirtham\\Miniconda3\\envs\\weldx\\lib\\site-packages\\xarray\\core\\missing.py:562: FutureWarning: Passing method to Float64Index.get_loc is deprecated and will raise in a future version. Use index.get_indexer([item], method=...) instead.\n",
      "  imin = index.get_loc(minval, method=\"nearest\")\n",
      "C:\\Users\\vhirtham\\Miniconda3\\envs\\weldx\\lib\\site-packages\\xarray\\core\\missing.py:563: FutureWarning: Passing method to Float64Index.get_loc is deprecated and will raise in a future version. Use index.get_indexer([item], method=...) instead.\n",
      "  imax = index.get_loc(maxval, method=\"nearest\")\n",
      "C:\\Users\\vhirtham\\Miniconda3\\envs\\weldx\\lib\\site-packages\\xarray\\core\\missing.py:562: FutureWarning: Passing method to Float64Index.get_loc is deprecated and will raise in a future version. Use index.get_indexer([item], method=...) instead.\n",
      "  imin = index.get_loc(minval, method=\"nearest\")\n",
      "C:\\Users\\vhirtham\\Miniconda3\\envs\\weldx\\lib\\site-packages\\xarray\\core\\missing.py:563: FutureWarning: Passing method to Float64Index.get_loc is deprecated and will raise in a future version. Use index.get_indexer([item], method=...) instead.\n",
      "  imax = index.get_loc(maxval, method=\"nearest\")\n",
      "C:\\Users\\vhirtham\\Miniconda3\\envs\\weldx\\lib\\site-packages\\xarray\\core\\missing.py:562: FutureWarning: Passing method to Float64Index.get_loc is deprecated and will raise in a future version. Use index.get_indexer([item], method=...) instead.\n",
      "  imin = index.get_loc(minval, method=\"nearest\")\n",
      "C:\\Users\\vhirtham\\Miniconda3\\envs\\weldx\\lib\\site-packages\\xarray\\core\\missing.py:563: FutureWarning: Passing method to Float64Index.get_loc is deprecated and will raise in a future version. Use index.get_indexer([item], method=...) instead.\n",
      "  imax = index.get_loc(maxval, method=\"nearest\")\n",
      "C:\\Users\\vhirtham\\Miniconda3\\envs\\weldx\\lib\\site-packages\\xarray\\core\\missing.py:562: FutureWarning: Passing method to Float64Index.get_loc is deprecated and will raise in a future version. Use index.get_indexer([item], method=...) instead.\n",
      "  imin = index.get_loc(minval, method=\"nearest\")\n",
      "C:\\Users\\vhirtham\\Miniconda3\\envs\\weldx\\lib\\site-packages\\xarray\\core\\missing.py:563: FutureWarning: Passing method to Float64Index.get_loc is deprecated and will raise in a future version. Use index.get_indexer([item], method=...) instead.\n",
      "  imax = index.get_loc(maxval, method=\"nearest\")\n",
      "C:\\Users\\vhirtham\\Miniconda3\\envs\\weldx\\lib\\site-packages\\xarray\\core\\missing.py:562: FutureWarning: Passing method to Float64Index.get_loc is deprecated and will raise in a future version. Use index.get_indexer([item], method=...) instead.\n",
      "  imin = index.get_loc(minval, method=\"nearest\")\n",
      "C:\\Users\\vhirtham\\Miniconda3\\envs\\weldx\\lib\\site-packages\\xarray\\core\\missing.py:563: FutureWarning: Passing method to Float64Index.get_loc is deprecated and will raise in a future version. Use index.get_indexer([item], method=...) instead.\n",
      "  imax = index.get_loc(maxval, method=\"nearest\")\n",
      "C:\\Users\\vhirtham\\Miniconda3\\envs\\weldx\\lib\\site-packages\\xarray\\core\\missing.py:562: FutureWarning: Passing method to Float64Index.get_loc is deprecated and will raise in a future version. Use index.get_indexer([item], method=...) instead.\n",
      "  imin = index.get_loc(minval, method=\"nearest\")\n",
      "C:\\Users\\vhirtham\\Miniconda3\\envs\\weldx\\lib\\site-packages\\xarray\\core\\missing.py:563: FutureWarning: Passing method to Float64Index.get_loc is deprecated and will raise in a future version. Use index.get_indexer([item], method=...) instead.\n",
      "  imax = index.get_loc(maxval, method=\"nearest\")\n",
      "C:\\Users\\vhirtham\\Miniconda3\\envs\\weldx\\lib\\site-packages\\xarray\\core\\missing.py:562: FutureWarning: Passing method to Float64Index.get_loc is deprecated and will raise in a future version. Use index.get_indexer([item], method=...) instead.\n",
      "  imin = index.get_loc(minval, method=\"nearest\")\n",
      "C:\\Users\\vhirtham\\Miniconda3\\envs\\weldx\\lib\\site-packages\\xarray\\core\\missing.py:563: FutureWarning: Passing method to Float64Index.get_loc is deprecated and will raise in a future version. Use index.get_indexer([item], method=...) instead.\n",
      "  imax = index.get_loc(maxval, method=\"nearest\")\n",
      "C:\\Users\\vhirtham\\Miniconda3\\envs\\weldx\\lib\\site-packages\\xarray\\core\\missing.py:562: FutureWarning: Passing method to Float64Index.get_loc is deprecated and will raise in a future version. Use index.get_indexer([item], method=...) instead.\n",
      "  imin = index.get_loc(minval, method=\"nearest\")\n",
      "C:\\Users\\vhirtham\\Miniconda3\\envs\\weldx\\lib\\site-packages\\xarray\\core\\missing.py:563: FutureWarning: Passing method to Float64Index.get_loc is deprecated and will raise in a future version. Use index.get_indexer([item], method=...) instead.\n",
      "  imax = index.get_loc(maxval, method=\"nearest\")\n",
      "C:\\Users\\vhirtham\\Miniconda3\\envs\\weldx\\lib\\site-packages\\xarray\\core\\missing.py:562: FutureWarning: Passing method to Float64Index.get_loc is deprecated and will raise in a future version. Use index.get_indexer([item], method=...) instead.\n",
      "  imin = index.get_loc(minval, method=\"nearest\")\n",
      "C:\\Users\\vhirtham\\Miniconda3\\envs\\weldx\\lib\\site-packages\\xarray\\core\\missing.py:563: FutureWarning: Passing method to Float64Index.get_loc is deprecated and will raise in a future version. Use index.get_indexer([item], method=...) instead.\n",
      "  imax = index.get_loc(maxval, method=\"nearest\")\n",
      "C:\\Users\\vhirtham\\Miniconda3\\envs\\weldx\\lib\\site-packages\\xarray\\core\\missing.py:562: FutureWarning: Passing method to Float64Index.get_loc is deprecated and will raise in a future version. Use index.get_indexer([item], method=...) instead.\n",
      "  imin = index.get_loc(minval, method=\"nearest\")\n",
      "C:\\Users\\vhirtham\\Miniconda3\\envs\\weldx\\lib\\site-packages\\xarray\\core\\missing.py:563: FutureWarning: Passing method to Float64Index.get_loc is deprecated and will raise in a future version. Use index.get_indexer([item], method=...) instead.\n",
      "  imax = index.get_loc(maxval, method=\"nearest\")\n",
      "C:\\Users\\vhirtham\\Miniconda3\\envs\\weldx\\lib\\site-packages\\xarray\\core\\missing.py:562: FutureWarning: Passing method to Float64Index.get_loc is deprecated and will raise in a future version. Use index.get_indexer([item], method=...) instead.\n",
      "  imin = index.get_loc(minval, method=\"nearest\")\n",
      "C:\\Users\\vhirtham\\Miniconda3\\envs\\weldx\\lib\\site-packages\\xarray\\core\\missing.py:563: FutureWarning: Passing method to Float64Index.get_loc is deprecated and will raise in a future version. Use index.get_indexer([item], method=...) instead.\n",
      "  imax = index.get_loc(maxval, method=\"nearest\")\n",
      "C:\\Users\\vhirtham\\Miniconda3\\envs\\weldx\\lib\\site-packages\\xarray\\core\\missing.py:562: FutureWarning: Passing method to Float64Index.get_loc is deprecated and will raise in a future version. Use index.get_indexer([item], method=...) instead.\n",
      "  imin = index.get_loc(minval, method=\"nearest\")\n",
      "C:\\Users\\vhirtham\\Miniconda3\\envs\\weldx\\lib\\site-packages\\xarray\\core\\missing.py:563: FutureWarning: Passing method to Float64Index.get_loc is deprecated and will raise in a future version. Use index.get_indexer([item], method=...) instead.\n",
      "  imax = index.get_loc(maxval, method=\"nearest\")\n",
      "C:\\Users\\vhirtham\\Miniconda3\\envs\\weldx\\lib\\site-packages\\xarray\\core\\missing.py:562: FutureWarning: Passing method to Float64Index.get_loc is deprecated and will raise in a future version. Use index.get_indexer([item], method=...) instead.\n",
      "  imin = index.get_loc(minval, method=\"nearest\")\n",
      "C:\\Users\\vhirtham\\Miniconda3\\envs\\weldx\\lib\\site-packages\\xarray\\core\\missing.py:563: FutureWarning: Passing method to Float64Index.get_loc is deprecated and will raise in a future version. Use index.get_indexer([item], method=...) instead.\n",
      "  imax = index.get_loc(maxval, method=\"nearest\")\n",
      "C:\\Users\\vhirtham\\Miniconda3\\envs\\weldx\\lib\\site-packages\\xarray\\core\\missing.py:562: FutureWarning: Passing method to Float64Index.get_loc is deprecated and will raise in a future version. Use index.get_indexer([item], method=...) instead.\n",
      "  imin = index.get_loc(minval, method=\"nearest\")\n",
      "C:\\Users\\vhirtham\\Miniconda3\\envs\\weldx\\lib\\site-packages\\xarray\\core\\missing.py:563: FutureWarning: Passing method to Float64Index.get_loc is deprecated and will raise in a future version. Use index.get_indexer([item], method=...) instead.\n",
      "  imax = index.get_loc(maxval, method=\"nearest\")\n",
      "C:\\Users\\vhirtham\\Miniconda3\\envs\\weldx\\lib\\site-packages\\xarray\\core\\missing.py:562: FutureWarning: Passing method to Float64Index.get_loc is deprecated and will raise in a future version. Use index.get_indexer([item], method=...) instead.\n",
      "  imin = index.get_loc(minval, method=\"nearest\")\n",
      "C:\\Users\\vhirtham\\Miniconda3\\envs\\weldx\\lib\\site-packages\\xarray\\core\\missing.py:563: FutureWarning: Passing method to Float64Index.get_loc is deprecated and will raise in a future version. Use index.get_indexer([item], method=...) instead.\n",
      "  imax = index.get_loc(maxval, method=\"nearest\")\n",
      "C:\\Users\\vhirtham\\Miniconda3\\envs\\weldx\\lib\\site-packages\\xarray\\core\\missing.py:562: FutureWarning: Passing method to Float64Index.get_loc is deprecated and will raise in a future version. Use index.get_indexer([item], method=...) instead.\n",
      "  imin = index.get_loc(minval, method=\"nearest\")\n",
      "C:\\Users\\vhirtham\\Miniconda3\\envs\\weldx\\lib\\site-packages\\xarray\\core\\missing.py:563: FutureWarning: Passing method to Float64Index.get_loc is deprecated and will raise in a future version. Use index.get_indexer([item], method=...) instead.\n",
      "  imax = index.get_loc(maxval, method=\"nearest\")\n",
      "C:\\Users\\vhirtham\\Miniconda3\\envs\\weldx\\lib\\site-packages\\xarray\\core\\missing.py:562: FutureWarning: Passing method to Float64Index.get_loc is deprecated and will raise in a future version. Use index.get_indexer([item], method=...) instead.\n",
      "  imin = index.get_loc(minval, method=\"nearest\")\n",
      "C:\\Users\\vhirtham\\Miniconda3\\envs\\weldx\\lib\\site-packages\\xarray\\core\\missing.py:563: FutureWarning: Passing method to Float64Index.get_loc is deprecated and will raise in a future version. Use index.get_indexer([item], method=...) instead.\n",
      "  imax = index.get_loc(maxval, method=\"nearest\")\n",
      "C:\\Users\\vhirtham\\Miniconda3\\envs\\weldx\\lib\\site-packages\\xarray\\core\\missing.py:562: FutureWarning: Passing method to Float64Index.get_loc is deprecated and will raise in a future version. Use index.get_indexer([item], method=...) instead.\n",
      "  imin = index.get_loc(minval, method=\"nearest\")\n",
      "C:\\Users\\vhirtham\\Miniconda3\\envs\\weldx\\lib\\site-packages\\xarray\\core\\missing.py:563: FutureWarning: Passing method to Float64Index.get_loc is deprecated and will raise in a future version. Use index.get_indexer([item], method=...) instead.\n",
      "  imax = index.get_loc(maxval, method=\"nearest\")\n",
      "C:\\Users\\vhirtham\\Miniconda3\\envs\\weldx\\lib\\site-packages\\xarray\\core\\missing.py:562: FutureWarning: Passing method to Float64Index.get_loc is deprecated and will raise in a future version. Use index.get_indexer([item], method=...) instead.\n",
      "  imin = index.get_loc(minval, method=\"nearest\")\n",
      "C:\\Users\\vhirtham\\Miniconda3\\envs\\weldx\\lib\\site-packages\\xarray\\core\\missing.py:563: FutureWarning: Passing method to Float64Index.get_loc is deprecated and will raise in a future version. Use index.get_indexer([item], method=...) instead.\n",
      "  imax = index.get_loc(maxval, method=\"nearest\")\n",
      "C:\\Users\\vhirtham\\Miniconda3\\envs\\weldx\\lib\\site-packages\\xarray\\core\\missing.py:562: FutureWarning: Passing method to Float64Index.get_loc is deprecated and will raise in a future version. Use index.get_indexer([item], method=...) instead.\n",
      "  imin = index.get_loc(minval, method=\"nearest\")\n",
      "C:\\Users\\vhirtham\\Miniconda3\\envs\\weldx\\lib\\site-packages\\xarray\\core\\missing.py:563: FutureWarning: Passing method to Float64Index.get_loc is deprecated and will raise in a future version. Use index.get_indexer([item], method=...) instead.\n",
      "  imax = index.get_loc(maxval, method=\"nearest\")\n",
      "C:\\Users\\vhirtham\\Miniconda3\\envs\\weldx\\lib\\site-packages\\xarray\\core\\missing.py:562: FutureWarning: Passing method to Float64Index.get_loc is deprecated and will raise in a future version. Use index.get_indexer([item], method=...) instead.\n",
      "  imin = index.get_loc(minval, method=\"nearest\")\n",
      "C:\\Users\\vhirtham\\Miniconda3\\envs\\weldx\\lib\\site-packages\\xarray\\core\\missing.py:563: FutureWarning: Passing method to Float64Index.get_loc is deprecated and will raise in a future version. Use index.get_indexer([item], method=...) instead.\n",
      "  imax = index.get_loc(maxval, method=\"nearest\")\n",
      "C:\\Users\\vhirtham\\Miniconda3\\envs\\weldx\\lib\\site-packages\\xarray\\core\\missing.py:562: FutureWarning: Passing method to Float64Index.get_loc is deprecated and will raise in a future version. Use index.get_indexer([item], method=...) instead.\n",
      "  imin = index.get_loc(minval, method=\"nearest\")\n",
      "C:\\Users\\vhirtham\\Miniconda3\\envs\\weldx\\lib\\site-packages\\xarray\\core\\missing.py:563: FutureWarning: Passing method to Float64Index.get_loc is deprecated and will raise in a future version. Use index.get_indexer([item], method=...) instead.\n",
      "  imax = index.get_loc(maxval, method=\"nearest\")\n",
      "C:\\Users\\vhirtham\\Miniconda3\\envs\\weldx\\lib\\site-packages\\xarray\\core\\missing.py:562: FutureWarning: Passing method to Float64Index.get_loc is deprecated and will raise in a future version. Use index.get_indexer([item], method=...) instead.\n",
      "  imin = index.get_loc(minval, method=\"nearest\")\n",
      "C:\\Users\\vhirtham\\Miniconda3\\envs\\weldx\\lib\\site-packages\\xarray\\core\\missing.py:563: FutureWarning: Passing method to Float64Index.get_loc is deprecated and will raise in a future version. Use index.get_indexer([item], method=...) instead.\n",
      "  imax = index.get_loc(maxval, method=\"nearest\")\n",
      "C:\\Users\\vhirtham\\Miniconda3\\envs\\weldx\\lib\\site-packages\\xarray\\core\\missing.py:562: FutureWarning: Passing method to Float64Index.get_loc is deprecated and will raise in a future version. Use index.get_indexer([item], method=...) instead.\n",
      "  imin = index.get_loc(minval, method=\"nearest\")\n",
      "C:\\Users\\vhirtham\\Miniconda3\\envs\\weldx\\lib\\site-packages\\xarray\\core\\missing.py:563: FutureWarning: Passing method to Float64Index.get_loc is deprecated and will raise in a future version. Use index.get_indexer([item], method=...) instead.\n",
      "  imax = index.get_loc(maxval, method=\"nearest\")\n",
      "C:\\Users\\vhirtham\\Miniconda3\\envs\\weldx\\lib\\site-packages\\xarray\\core\\missing.py:562: FutureWarning: Passing method to Float64Index.get_loc is deprecated and will raise in a future version. Use index.get_indexer([item], method=...) instead.\n",
      "  imin = index.get_loc(minval, method=\"nearest\")\n",
      "C:\\Users\\vhirtham\\Miniconda3\\envs\\weldx\\lib\\site-packages\\xarray\\core\\missing.py:563: FutureWarning: Passing method to Float64Index.get_loc is deprecated and will raise in a future version. Use index.get_indexer([item], method=...) instead.\n",
      "  imax = index.get_loc(maxval, method=\"nearest\")\n",
      "C:\\Users\\vhirtham\\Miniconda3\\envs\\weldx\\lib\\site-packages\\xarray\\core\\missing.py:562: FutureWarning: Passing method to Float64Index.get_loc is deprecated and will raise in a future version. Use index.get_indexer([item], method=...) instead.\n",
      "  imin = index.get_loc(minval, method=\"nearest\")\n",
      "C:\\Users\\vhirtham\\Miniconda3\\envs\\weldx\\lib\\site-packages\\xarray\\core\\missing.py:563: FutureWarning: Passing method to Float64Index.get_loc is deprecated and will raise in a future version. Use index.get_indexer([item], method=...) instead.\n",
      "  imax = index.get_loc(maxval, method=\"nearest\")\n",
      "C:\\Users\\vhirtham\\Miniconda3\\envs\\weldx\\lib\\site-packages\\xarray\\core\\missing.py:562: FutureWarning: Passing method to Float64Index.get_loc is deprecated and will raise in a future version. Use index.get_indexer([item], method=...) instead.\n",
      "  imin = index.get_loc(minval, method=\"nearest\")\n",
      "C:\\Users\\vhirtham\\Miniconda3\\envs\\weldx\\lib\\site-packages\\xarray\\core\\missing.py:563: FutureWarning: Passing method to Float64Index.get_loc is deprecated and will raise in a future version. Use index.get_indexer([item], method=...) instead.\n",
      "  imax = index.get_loc(maxval, method=\"nearest\")\n",
      "C:\\Users\\vhirtham\\Miniconda3\\envs\\weldx\\lib\\site-packages\\xarray\\core\\missing.py:562: FutureWarning: Passing method to Float64Index.get_loc is deprecated and will raise in a future version. Use index.get_indexer([item], method=...) instead.\n",
      "  imin = index.get_loc(minval, method=\"nearest\")\n",
      "C:\\Users\\vhirtham\\Miniconda3\\envs\\weldx\\lib\\site-packages\\xarray\\core\\missing.py:563: FutureWarning: Passing method to Float64Index.get_loc is deprecated and will raise in a future version. Use index.get_indexer([item], method=...) instead.\n",
      "  imax = index.get_loc(maxval, method=\"nearest\")\n",
      "C:\\Users\\vhirtham\\Miniconda3\\envs\\weldx\\lib\\site-packages\\xarray\\core\\missing.py:562: FutureWarning: Passing method to Float64Index.get_loc is deprecated and will raise in a future version. Use index.get_indexer([item], method=...) instead.\n",
      "  imin = index.get_loc(minval, method=\"nearest\")\n",
      "C:\\Users\\vhirtham\\Miniconda3\\envs\\weldx\\lib\\site-packages\\xarray\\core\\missing.py:563: FutureWarning: Passing method to Float64Index.get_loc is deprecated and will raise in a future version. Use index.get_indexer([item], method=...) instead.\n",
      "  imax = index.get_loc(maxval, method=\"nearest\")\n",
      "C:\\Users\\vhirtham\\Miniconda3\\envs\\weldx\\lib\\site-packages\\xarray\\core\\missing.py:562: FutureWarning: Passing method to Float64Index.get_loc is deprecated and will raise in a future version. Use index.get_indexer([item], method=...) instead.\n",
      "  imin = index.get_loc(minval, method=\"nearest\")\n",
      "C:\\Users\\vhirtham\\Miniconda3\\envs\\weldx\\lib\\site-packages\\xarray\\core\\missing.py:563: FutureWarning: Passing method to Float64Index.get_loc is deprecated and will raise in a future version. Use index.get_indexer([item], method=...) instead.\n",
      "  imax = index.get_loc(maxval, method=\"nearest\")\n",
      "C:\\Users\\vhirtham\\Miniconda3\\envs\\weldx\\lib\\site-packages\\xarray\\core\\missing.py:562: FutureWarning: Passing method to Float64Index.get_loc is deprecated and will raise in a future version. Use index.get_indexer([item], method=...) instead.\n",
      "  imin = index.get_loc(minval, method=\"nearest\")\n",
      "C:\\Users\\vhirtham\\Miniconda3\\envs\\weldx\\lib\\site-packages\\xarray\\core\\missing.py:563: FutureWarning: Passing method to Float64Index.get_loc is deprecated and will raise in a future version. Use index.get_indexer([item], method=...) instead.\n",
      "  imax = index.get_loc(maxval, method=\"nearest\")\n",
      "C:\\Users\\vhirtham\\Miniconda3\\envs\\weldx\\lib\\site-packages\\xarray\\core\\missing.py:562: FutureWarning: Passing method to Float64Index.get_loc is deprecated and will raise in a future version. Use index.get_indexer([item], method=...) instead.\n",
      "  imin = index.get_loc(minval, method=\"nearest\")\n",
      "C:\\Users\\vhirtham\\Miniconda3\\envs\\weldx\\lib\\site-packages\\xarray\\core\\missing.py:563: FutureWarning: Passing method to Float64Index.get_loc is deprecated and will raise in a future version. Use index.get_indexer([item], method=...) instead.\n",
      "  imax = index.get_loc(maxval, method=\"nearest\")\n",
      "C:\\Users\\vhirtham\\Miniconda3\\envs\\weldx\\lib\\site-packages\\xarray\\core\\missing.py:562: FutureWarning: Passing method to Float64Index.get_loc is deprecated and will raise in a future version. Use index.get_indexer([item], method=...) instead.\n",
      "  imin = index.get_loc(minval, method=\"nearest\")\n",
      "C:\\Users\\vhirtham\\Miniconda3\\envs\\weldx\\lib\\site-packages\\xarray\\core\\missing.py:563: FutureWarning: Passing method to Float64Index.get_loc is deprecated and will raise in a future version. Use index.get_indexer([item], method=...) instead.\n",
      "  imax = index.get_loc(maxval, method=\"nearest\")\n",
      "C:\\Users\\vhirtham\\Miniconda3\\envs\\weldx\\lib\\site-packages\\xarray\\core\\missing.py:562: FutureWarning: Passing method to Float64Index.get_loc is deprecated and will raise in a future version. Use index.get_indexer([item], method=...) instead.\n",
      "  imin = index.get_loc(minval, method=\"nearest\")\n",
      "C:\\Users\\vhirtham\\Miniconda3\\envs\\weldx\\lib\\site-packages\\xarray\\core\\missing.py:563: FutureWarning: Passing method to Float64Index.get_loc is deprecated and will raise in a future version. Use index.get_indexer([item], method=...) instead.\n",
      "  imax = index.get_loc(maxval, method=\"nearest\")\n",
      "C:\\Users\\vhirtham\\Miniconda3\\envs\\weldx\\lib\\site-packages\\xarray\\core\\missing.py:562: FutureWarning: Passing method to Float64Index.get_loc is deprecated and will raise in a future version. Use index.get_indexer([item], method=...) instead.\n",
      "  imin = index.get_loc(minval, method=\"nearest\")\n",
      "C:\\Users\\vhirtham\\Miniconda3\\envs\\weldx\\lib\\site-packages\\xarray\\core\\missing.py:563: FutureWarning: Passing method to Float64Index.get_loc is deprecated and will raise in a future version. Use index.get_indexer([item], method=...) instead.\n",
      "  imax = index.get_loc(maxval, method=\"nearest\")\n",
      "C:\\Users\\vhirtham\\Miniconda3\\envs\\weldx\\lib\\site-packages\\xarray\\core\\missing.py:562: FutureWarning: Passing method to Float64Index.get_loc is deprecated and will raise in a future version. Use index.get_indexer([item], method=...) instead.\n",
      "  imin = index.get_loc(minval, method=\"nearest\")\n",
      "C:\\Users\\vhirtham\\Miniconda3\\envs\\weldx\\lib\\site-packages\\xarray\\core\\missing.py:563: FutureWarning: Passing method to Float64Index.get_loc is deprecated and will raise in a future version. Use index.get_indexer([item], method=...) instead.\n",
      "  imax = index.get_loc(maxval, method=\"nearest\")\n",
      "C:\\Users\\vhirtham\\Miniconda3\\envs\\weldx\\lib\\site-packages\\xarray\\core\\missing.py:562: FutureWarning: Passing method to Float64Index.get_loc is deprecated and will raise in a future version. Use index.get_indexer([item], method=...) instead.\n",
      "  imin = index.get_loc(minval, method=\"nearest\")\n",
      "C:\\Users\\vhirtham\\Miniconda3\\envs\\weldx\\lib\\site-packages\\xarray\\core\\missing.py:563: FutureWarning: Passing method to Float64Index.get_loc is deprecated and will raise in a future version. Use index.get_indexer([item], method=...) instead.\n",
      "  imax = index.get_loc(maxval, method=\"nearest\")\n",
      "C:\\Users\\vhirtham\\Miniconda3\\envs\\weldx\\lib\\site-packages\\xarray\\core\\missing.py:562: FutureWarning: Passing method to Float64Index.get_loc is deprecated and will raise in a future version. Use index.get_indexer([item], method=...) instead.\n",
      "  imin = index.get_loc(minval, method=\"nearest\")\n",
      "C:\\Users\\vhirtham\\Miniconda3\\envs\\weldx\\lib\\site-packages\\xarray\\core\\missing.py:563: FutureWarning: Passing method to Float64Index.get_loc is deprecated and will raise in a future version. Use index.get_indexer([item], method=...) instead.\n",
      "  imax = index.get_loc(maxval, method=\"nearest\")\n"
     ]
    },
    {
     "data": {
      "text/plain": [
       "[<mpl_toolkits.mplot3d.art3d.Line3D at 0x23eefa7cc40>]"
      ]
     },
     "execution_count": 6,
     "metadata": {},
     "output_type": "execute_result"
    },
    {
     "data": {
      "image/png": "[encoded data removed]",
      "text/plain": [
       "<Figure size 432x288 with 1 Axes>"
      ]
     },
     "metadata": {
      "needs_background": "light"
     },
     "output_type": "display_data"
    }
   ],
   "source": [
    "trace_disc.plot(\"0.5mm\")\n",
    "ax = plt.gca()\n",
    "ax.plot([0, 10], [0, 10])"
   ]
  },
  {
   "cell_type": "markdown",
   "id": "e8a84704",
   "metadata": {},
   "source": [
    "## Expression"
   ]
  },
  {
   "cell_type": "code",
   "execution_count": 7,
   "id": "b9d78954",
   "metadata": {},
   "outputs": [],
   "source": [
    "expr = \"a*sin(s)+b*cos(s)+c*s/10+d \"\n",
    "# expr = \"x+y+z\"\n",
    "params = dict(\n",
    "    a=DataArray(Q_([1, 0, 0], \"mm\"), dims=[\"c\"], coords=dict(c=[\"x\", \"y\", \"z\"])),\n",
    "    b=DataArray(Q_([0, 1, 0], \"mm\"), dims=[\"c\"], coords=dict(c=[\"x\", \"y\", \"z\"])),\n",
    "    c=DataArray(Q_([0, 0, 2], \"mm\"), dims=[\"c\"], coords=dict(c=[\"x\", \"y\", \"z\"])),\n",
    "    d=DataArray(Q_([0, -1, 0], \"mm\"), dims=[\"c\"], coords=dict(c=[\"x\", \"y\", \"z\"])),\n",
    ")\n",
    "sps = SpatialSeries(expr, parameters=params)"
   ]
  },
  {
   "cell_type": "code",
   "execution_count": 8,
   "id": "edcd21b3",
   "metadata": {},
   "outputs": [
    {
     "ename": "AttributeError",
     "evalue": "'DynamicTraceSegment' object has no attribute '_derivative'",
     "output_type": "error",
     "traceback": [
      "\u001b[1;31m---------------------------------------------------------------------------\u001b[0m",
      "\u001b[1;31mAttributeError\u001b[0m                            Traceback (most recent call last)",
      "Input \u001b[1;32mIn [8]\u001b[0m, in \u001b[0;36m<module>\u001b[1;34m\u001b[0m\n\u001b[1;32m----> 1\u001b[0m segment \u001b[38;5;241m=\u001b[39m \u001b[43mDynamicTraceSegment\u001b[49m\u001b[43m(\u001b[49m\u001b[43msps\u001b[49m\u001b[43m,\u001b[49m\u001b[43m \u001b[49m\u001b[38;5;241;43m2\u001b[39;49m\u001b[43m \u001b[49m\u001b[38;5;241;43m*\u001b[39;49m\u001b[43m \u001b[49m\u001b[43mnp\u001b[49m\u001b[38;5;241;43m.\u001b[39;49m\u001b[43mpi\u001b[49m\u001b[43m)\u001b[49m\n",
      "File \u001b[1;32mc:\\users\\vhirtham\\pycharmprojects\\bam\\weldx\\weldx\\geometry.py:1596\u001b[0m, in \u001b[0;36mDynamicTraceSegment.__init__\u001b[1;34m(self, series, max_s)\u001b[0m\n\u001b[0;32m   1594\u001b[0m \u001b[38;5;28mself\u001b[39m\u001b[38;5;241m.\u001b[39m_series: SpatialSeries \u001b[38;5;241m=\u001b[39m series\n\u001b[0;32m   1595\u001b[0m \u001b[38;5;28mself\u001b[39m\u001b[38;5;241m.\u001b[39m_max_s \u001b[38;5;241m=\u001b[39m max_s\n\u001b[1;32m-> 1596\u001b[0m \u001b[38;5;28mself\u001b[39m\u001b[38;5;241m.\u001b[39m_length \u001b[38;5;241m=\u001b[39m \u001b[38;5;28;43mself\u001b[39;49m\u001b[38;5;241;43m.\u001b[39;49m\u001b[43m_len_expr\u001b[49m\u001b[43m(\u001b[49m\u001b[43m)\u001b[49m \u001b[38;5;28;01mif\u001b[39;00m series\u001b[38;5;241m.\u001b[39mis_expression \u001b[38;5;28;01melse\u001b[39;00m \u001b[38;5;28mself\u001b[39m\u001b[38;5;241m.\u001b[39m_len_disc()\n\u001b[0;32m   1597\u001b[0m \u001b[38;5;28;01mif\u001b[39;00m series\u001b[38;5;241m.\u001b[39mis_expression:\n\u001b[0;32m   1598\u001b[0m     \u001b[38;5;28mself\u001b[39m\u001b[38;5;241m.\u001b[39m_derivative \u001b[38;5;241m=\u001b[39m \u001b[38;5;28mself\u001b[39m\u001b[38;5;241m.\u001b[39m_get_derivative_expression()\n",
      "File \u001b[1;32mc:\\users\\vhirtham\\pycharmprojects\\bam\\weldx\\weldx\\geometry.py:1624\u001b[0m, in \u001b[0;36mDynamicTraceSegment._len_expr\u001b[1;34m(self)\u001b[0m\n\u001b[0;32m   1621\u001b[0m expr \u001b[38;5;241m=\u001b[39m sympy\u001b[38;5;241m.\u001b[39msqrt(der_sq[\u001b[38;5;241m0\u001b[39m] \u001b[38;5;241m+\u001b[39m der_sq[\u001b[38;5;241m1\u001b[39m] \u001b[38;5;241m+\u001b[39m der_sq[\u001b[38;5;241m2\u001b[39m])\n\u001b[0;32m   1622\u001b[0m mag \u001b[38;5;241m=\u001b[39m \u001b[38;5;28mfloat\u001b[39m(sympy\u001b[38;5;241m.\u001b[39mintegrate(expr, (\u001b[38;5;124m\"\u001b[39m\u001b[38;5;124ms\u001b[39m\u001b[38;5;124m\"\u001b[39m, \u001b[38;5;241m0\u001b[39m, \u001b[38;5;28mself\u001b[39m\u001b[38;5;241m.\u001b[39m_max_s))\u001b[38;5;241m.\u001b[39mevalf())\n\u001b[1;32m-> 1624\u001b[0m params \u001b[38;5;241m=\u001b[39m \u001b[38;5;28;43mself\u001b[39;49m\u001b[38;5;241;43m.\u001b[39;49m\u001b[43m_derivative\u001b[49m\u001b[38;5;241m.\u001b[39mparameters\n\u001b[0;32m   1625\u001b[0m \u001b[38;5;28mprint\u001b[39m(params)\n\u001b[0;32m   1627\u001b[0m \u001b[38;5;28;01mreturn\u001b[39;00m Q_(mag, Q_(\u001b[38;5;241m1\u001b[39m, \u001b[38;5;124m\"\u001b[39m\u001b[38;5;124mmm\u001b[39m\u001b[38;5;124m\"\u001b[39m)\u001b[38;5;241m.\u001b[39mto_base_units()\u001b[38;5;241m.\u001b[39mu)\u001b[38;5;241m.\u001b[39mto(\u001b[38;5;124m\"\u001b[39m\u001b[38;5;124mmm\u001b[39m\u001b[38;5;124m\"\u001b[39m)\n",
      "\u001b[1;31mAttributeError\u001b[0m: 'DynamicTraceSegment' object has no attribute '_derivative'"
     ]
    }
   ],
   "source": [
    "segment = DynamicTraceSegment(sps, 2 * np.pi)"
   ]
  },
  {
   "cell_type": "code",
   "execution_count": null,
   "id": "b11e1ff9",
   "metadata": {},
   "outputs": [],
   "source": [
    "trace = Trace([segment, segment, segment])"
   ]
  },
  {
   "cell_type": "code",
   "execution_count": null,
   "id": "be17250e",
   "metadata": {},
   "outputs": [],
   "source": [
    "trace.plot(\"0.1mm\")"
   ]
  },
  {
   "cell_type": "code",
   "execution_count": null,
   "id": "a614371a",
   "metadata": {},
   "outputs": [],
   "source": [
    "trace.length"
   ]
  },
  {
   "cell_type": "code",
   "execution_count": null,
   "id": "1ecdea10",
   "metadata": {},
   "outputs": [],
   "source": [
    "from weldx import LocalCoordinateSystem\n",
    "from weldx.visualization.matplotlib_impl import (\n",
    "    axes_equal,\n",
    "    draw_coordinate_system_matplotlib,\n",
    ")\n",
    "\n",
    "num_lcs = 11\n",
    "fig = plt.figure()\n",
    "ax = fig.add_subplot(111, projection=\"3d\")\n",
    "for i in range(num_lcs):\n",
    "    lcs = segment.local_coordinate_system(i / (num_lcs - 1))\n",
    "    lcs = LocalCoordinateSystem(lcs.orientation, lcs.coordinates.data.m)\n",
    "    draw_coordinate_system_matplotlib(lcs, ax)\n",
    "axes_equal(ax)"
   ]
  },
  {
   "cell_type": "code",
   "execution_count": null,
   "id": "2098d754",
   "metadata": {},
   "outputs": [],
   "source": []
  }
 ],
 "metadata": {
  "kernelspec": {
   "display_name": "weldx",
   "language": "python",
   "name": "weldx"
  },
  "language_info": {
   "codemirror_mode": {
    "name": "ipython",
    "version": 3
   },
   "file_extension": ".py",
   "mimetype": "text/x-python",
   "name": "python",
   "nbconvert_exporter": "python",
   "pygments_lexer": "ipython3",
   "version": "3.8.12"
  }
 },
 "nbformat": 4,
 "nbformat_minor": 5
}
