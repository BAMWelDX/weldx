{
 "cells": [
  {
   "cell_type": "code",
   "execution_count": null,
   "id": "228ec7cb-5828-459e-a5a8-349a093ec1b1",
   "metadata": {},
   "outputs": [],
   "source": [
    "import matplotlib.pyplot as plt\n",
    "import numpy as np\n",
    "from xarray import DataArray\n",
    "\n",
    "from weldx import Q_, GenericSeries, LinearHorizontalTraceSegment, Trace\n",
    "from weldx.core import SpatialSeries\n",
    "from weldx.geometry import DynamicTraceSegment"
   ]
  },
  {
   "cell_type": "markdown",
   "id": "9ece03aa-6c2a-480d-b9a1-1a036041fece",
   "metadata": {},
   "source": [
    "## Discrete"
   ]
  },
  {
   "cell_type": "code",
   "execution_count": null,
   "id": "01dabe70-4c3f-408a-99cc-3beae8bd978d",
   "metadata": {},
   "outputs": [],
   "source": [
    "data = DataArray(\n",
    "    Q_([[0, 0, 0], [0, 5, 0], [1, 5, 0], [1, 9, 0]], \"mm\"),\n",
    "    dims=[\"s\", \"c\"],\n",
    "    coords=dict(\n",
    "        c=[\"x\", \"y\", \"z\"],\n",
    "        s=DataArray(Q_([0, 0.5, 0.6, 1], \"\"), dims=[\"s\"]).pint.dequantify(),\n",
    "    ),\n",
    ")\n",
    "series_disc = SpatialSeries(data)"
   ]
  },
  {
   "cell_type": "code",
   "execution_count": null,
   "id": "0975aed9-23c5-4ae0-aed9-93baba07661e",
   "metadata": {},
   "outputs": [],
   "source": [
    "segment_disc = DynamicTraceSegment(series_disc)"
   ]
  },
  {
   "cell_type": "code",
   "execution_count": null,
   "id": "00c46ac2-4a1f-433d-b0cf-5e3a4b9e8986",
   "metadata": {},
   "outputs": [],
   "source": [
    "segment_disc.local_coordinate_system(0.55)"
   ]
  },
  {
   "cell_type": "code",
   "execution_count": null,
   "id": "9ae901f9-101e-43a9-87d0-91df0c0ed9c0",
   "metadata": {},
   "outputs": [],
   "source": [
    "trace_disc = Trace([segment_disc, segment_disc])"
   ]
  },
  {
   "cell_type": "code",
   "execution_count": null,
   "id": "3ee3f94f-6d2a-480e-8d1e-97b0217bf074",
   "metadata": {},
   "outputs": [],
   "source": [
    "trace_disc.plot(\"0.5mm\")\n",
    "ax = plt.gca()\n",
    "ax.plot([0, 10], [0, 10])"
   ]
  },
  {
   "cell_type": "markdown",
   "id": "ab8045aa-4a06-4894-8bb3-85c48b741cd9",
   "metadata": {},
   "source": [
    "## Expression"
   ]
  },
  {
   "cell_type": "code",
   "execution_count": null,
   "id": "ed0318d3-f74e-44e4-b09d-891d0f89a8bb",
   "metadata": {},
   "outputs": [],
   "source": [
    "expr = \"a*sin(s)+b*cos(s)+c*s/10+d \"\n",
    "# expr = \"x+y+z\"\n",
    "params = dict(\n",
    "    a=DataArray(Q_([1, 0, 0], \"mm\"), dims=[\"c\"], coords=dict(c=[\"x\", \"y\", \"z\"])),\n",
    "    b=DataArray(Q_([0, 1, 0], \"mm\"), dims=[\"c\"], coords=dict(c=[\"x\", \"y\", \"z\"])),\n",
    "    c=DataArray(Q_([0, 0, 2], \"mm\"), dims=[\"c\"], coords=dict(c=[\"x\", \"y\", \"z\"])),\n",
    "    d=DataArray(Q_([0, -1, 0], \"mm\"), dims=[\"c\"], coords=dict(c=[\"x\", \"y\", \"z\"])),\n",
    ")\n",
    "sps = SpatialSeries(expr, parameters=params)"
   ]
  },
  {
   "cell_type": "code",
   "execution_count": null,
   "id": "17debdfb-0a46-4a2b-bf77-980a0ac34437",
   "metadata": {},
   "outputs": [],
   "source": [
    "segment = DynamicTraceSegment(sps, 2 * np.pi)"
   ]
  },
  {
   "cell_type": "code",
   "execution_count": null,
   "id": "469b0ca2-faf6-4205-aaa0-3adfd4e187f2",
   "metadata": {},
   "outputs": [],
   "source": [
    "trace = Trace([segment, segment, segment])"
   ]
  },
  {
   "cell_type": "code",
   "execution_count": null,
   "id": "d935f063-862c-4ac7-951c-9d83d090d4c6",
   "metadata": {},
   "outputs": [],
   "source": [
    "trace.plot(\"0.1mm\")"
   ]
  },
  {
   "cell_type": "code",
   "execution_count": null,
   "id": "287c4511-0d68-4a88-922d-ffcb08a841d0",
   "metadata": {},
   "outputs": [],
   "source": [
    "trace.length"
   ]
  },
  {
   "cell_type": "code",
   "execution_count": null,
   "id": "86808edb-7187-4169-afcd-953b475ed0ed",
   "metadata": {},
   "outputs": [],
   "source": [
    "from weldx import LocalCoordinateSystem\n",
    "from weldx.visualization.matplotlib_impl import (\n",
    "    axes_equal,\n",
    "    draw_coordinate_system_matplotlib,\n",
    ")\n",
    "\n",
    "num_lcs = 11\n",
    "fig = plt.figure()\n",
    "ax = fig.add_subplot(111, projection=\"3d\")\n",
    "for i in range(num_lcs):\n",
    "    lcs = segment.local_coordinate_system(i / (num_lcs - 1))\n",
    "    lcs = LocalCoordinateSystem(lcs.orientation, lcs.coordinates.data.m)\n",
    "    draw_coordinate_system_matplotlib(lcs, ax)\n",
    "axes_equal(ax)"
   ]
  },
  {
   "cell_type": "code",
   "execution_count": null,
   "id": "2a7cffc9-f7f8-4242-9274-b92637ba47fd",
   "metadata": {},
   "outputs": [],
   "source": []
  }
 ],
 "metadata": {
  "kernelspec": {
   "display_name": "",
   "language": "python",
   "name": ""
  },
  "language_info": {
   "codemirror_mode": {
    "name": "ipython",
    "version": 3
   },
   "file_extension": ".py",
   "mimetype": "text/x-python",
   "name": "python",
   "nbconvert_exporter": "python",
   "pygments_lexer": "ipython3",
   "version": "3.9.9"
  }
 },
 "nbformat": 4,
 "nbformat_minor": 5
}
