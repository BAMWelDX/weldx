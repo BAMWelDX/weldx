{
 "cells": [
  {
   "cell_type": "markdown",
   "metadata": {},
   "source": [
    "# Groove based workpiece data and geometry\n",
    "\n",
    "## Overview\n",
    "\n",
    "**This tutorial covers:**\n",
    "\n",
    "Working with workpiece related data that can be described by a 2 dimensional groove and a seam length \n",
    "\n",
    "**Requirements:**\n",
    "\n",
    "Opening and navigating through WelDX files\n",
    ">TODO: link tutorial, once it is merged"
   ]
  },
  {
   "cell_type": "markdown",
   "metadata": {},
   "source": [
    "## Plotting the specimen's groove\n",
    "\n",
    "An important piece that will be part of most WelDX files is the specimen data.\n",
    "The complexity of a specimen can range from a single metal plate to complex 3 dimensional multi-part structures.\n",
    "In this tutorial, we will discuss specimen geometries based on a 2-dimensional cross-section that is extruded into 3d space.\n",
    "\n",
    "First we open the example file and extract the workpiece informatation."
   ]
  },
  {
   "cell_type": "code",
   "execution_count": null,
   "metadata": {},
   "outputs": [],
   "source": [
    "from weldx import WeldxFile\n",
    "\n",
    "wxfile = WeldxFile(\"single_pass_weld.wx\")"
   ]
  },
  {
   "cell_type": "code",
   "execution_count": null,
   "metadata": {},
   "outputs": [],
   "source": [
    "wxfile.info()"
   ]
  },
  {
   "cell_type": "code",
   "execution_count": null,
   "metadata": {},
   "outputs": [],
   "source": [
    "workpiece = wxfile[\"workpiece\"]"
   ]
  },
  {
   "cell_type": "markdown",
   "metadata": {},
   "source": [
    "The workpiece data of this particular file consists of two parts:"
   ]
  },
  {
   "cell_type": "code",
   "execution_count": null,
   "metadata": {},
   "outputs": [],
   "source": [
    "for key in workpiece.keys():\n",
    "    print(key)"
   ]
  },
  {
   "cell_type": "markdown",
   "metadata": {},
   "source": [
    "The `base_metal` field contains information about the composition of the specimens material, which is not relevant for this tutorial.\n",
    "We are only interested in the `geometry` section that is further divided into `groove_shape` and `seam_length`:"
   ]
  },
  {
   "cell_type": "code",
   "execution_count": null,
   "metadata": {},
   "outputs": [],
   "source": [
    "for key in workpiece[\"geometry\"].keys():\n",
    "    print(key)"
   ]
  },
  {
   "cell_type": "markdown",
   "metadata": {},
   "source": [
    "`groove_shape` describes the 2 dimensional cross-section of the specimen.\n",
    "If we extract it, we will see that the returned object is of a special type defined by weldx:"
   ]
  },
  {
   "cell_type": "code",
   "execution_count": null,
   "metadata": {},
   "outputs": [],
   "source": [
    "groove = workpiece[\"geometry\"][\"groove_shape\"]\n",
    "type(groove)"
   ]
  },
  {
   "cell_type": "markdown",
   "metadata": {},
   "source": [
    "One can already deduce from the types name that the specimens cross section is a V-groove defined by ISO 9692-1.\n",
    "The norm describes the shape of the groove by different shape parameters.\n",
    "We could now inspect the different parameter values and look up what meaning they have.\n",
    "However, this would be rather tedious.\n",
    "A much simpler way is to use the `plot` method of the groove object:"
   ]
  },
  {
   "cell_type": "code",
   "execution_count": null,
   "metadata": {},
   "outputs": [],
   "source": [
    "groove.plot()"
   ]
  },
  {
   "cell_type": "markdown",
   "metadata": {},
   "source": [
    "Apart from the visual representation, the plot also contains all relevant information like the groove's area and the ISO 9692-1 parameters.\n",
    "\n",
    "## Other cross-sections\n",
    "\n",
    "Not all specimens might have a cross section that is described by a norm or the norm it uses might simply be not considered in the WelDX API.\n",
    "For such cases, WelDX provides a more generalized class called `Profile`.\n",
    "It allows us to define arbitrary cross-sections based on simple geometric elements such as lines and arcs.\n",
    "So be aware, that you might get a `Profile` instead of any of the available groove types out of a WelDX file.\n",
    "In fact, all groove types are based on the `Profile` class and we can convert them with the `to_profile` method:"
   ]
  },
  {
   "cell_type": "code",
   "execution_count": null,
   "metadata": {},
   "outputs": [],
   "source": [
    "profile = groove.to_profile()\n",
    "type(profile)"
   ]
  },
  {
   "cell_type": "markdown",
   "metadata": {},
   "source": [
    "We can plot the content of a `Profile` the same way as we did before with the groove:"
   ]
  },
  {
   "cell_type": "code",
   "execution_count": null,
   "metadata": {},
   "outputs": [],
   "source": [
    "profile.plot()"
   ]
  },
  {
   "cell_type": "markdown",
   "metadata": {},
   "source": [
    "The only difference here is that we don't get the additional, norm-related information."
   ]
  },
  {
   "cell_type": "markdown",
   "metadata": {},
   "source": [
    "## 3-dimensional plot\n",
    "\n",
    "We can also create a nice 3d plot from the groove and the seam length stored in the WelDX file.\n",
    "All we need fore this is the `Geometry` class of WelDX.\n",
    "It can be created from a groove or profile and a length:"
   ]
  },
  {
   "cell_type": "code",
   "execution_count": null,
   "metadata": {},
   "outputs": [],
   "source": [
    "from weldx import Geometry, Trace, LinearHorizontalTraceSegment, Q_\n",
    "\n",
    "t = Trace(LinearHorizontalTraceSegment(workpiece[\"geometry\"][\"seam_length\"]))\n",
    "geometry = Geometry(groove.to_profile(), t)"
   ]
  },
  {
   "cell_type": "markdown",
   "metadata": {},
   "source": [
    "Now all that remains, you might have guessed it, is to call the plot method:"
   ]
  },
  {
   "cell_type": "code",
   "execution_count": null,
   "metadata": {},
   "outputs": [],
   "source": [
    "geometry.plot(Q_(\"2mm\"), Q_(\"50mm\"))"
   ]
  },
  {
   "cell_type": "markdown",
   "metadata": {},
   "source": [
    "By default, the plot function will use Matplotlib for rendering.\n",
    "However, Matplotlib wasn't originally designed for 3d plots.\n",
    "Therefore, the quality of the rendered image might not be sufficient.\n",
    "As an alternative, you can enable k3d as rendering backend when working in a jupyter notebook.\n",
    "\n",
    "> TODO: continue after geometry enhancements"
   ]
  },
  {
   "cell_type": "markdown",
   "metadata": {},
   "source": [
    "## Export 3d geometry into a CAD file\n",
    "\n",
    "The `Geometry` class features a `to_file` method, that allows you to export the 3d data to different file formats like `.ply` or `.stl`.\n",
    "Using this function, you can inspect the geometry in a CAD program or model viewer of your choice:"
   ]
  },
  {
   "cell_type": "code",
   "execution_count": null,
   "metadata": {},
   "outputs": [],
   "source": [
    "geometry.to_file(\"weldx_geometry.stl\", profile_raster_width=Q_(\"2mm\"), trace_raster_width=Q_(\"50mm\"))"
   ]
  },
  {
   "cell_type": "markdown",
   "metadata": {},
   "source": [
    "The parameters `profile_raster_width` and `trace_raster_width` determine the density of the data points of the exported mesh.\n",
    "All the previously discussed `.plot` methods have similar optional parameters."
   ]
  },
  {
   "cell_type": "markdown",
   "metadata": {},
   "source": [
    "## Conclusion\n",
    "\n",
    "In this tutorial we have leared that WelDX can store geometrical data in form of a 2d-cross section and an extrusion length.\n",
    "The 2d cross section can either be of a specialized groove type or a more general `Profile`.\n",
    "Both can be visualized using the `plot` function and turned into an actual 3d geometry using the `Geometry` class.\n",
    "The `Geometry` class itself can also be rendered in a 3d plot and exported to a CAD compatible file format."
   ]
  },
  {
   "cell_type": "code",
   "execution_count": null,
   "metadata": {},
   "outputs": [],
   "source": []
  }
 ],
 "metadata": {
  "kernelspec": {
   "display_name": "weldx",
   "language": "python",
   "name": "weldx"
  },
  "language_info": {
   "codemirror_mode": {
    "name": "ipython",
    "version": 3
   },
   "file_extension": ".py",
   "mimetype": "text/x-python",
   "name": "python",
   "nbconvert_exporter": "python",
   "pygments_lexer": "ipython3",
   "version": "3.8.11"
  }
 },
 "nbformat": 4,
 "nbformat_minor": 5
}
