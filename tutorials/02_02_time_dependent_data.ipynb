{
 "cells": [
  {
   "cell_type": "markdown",
   "metadata": {},
   "source": [
    "# Time dependent data / Welding current and voltage\n",
    "\n",
    "## Overview\n",
    "\n",
    "**This tutorial covers:**\n",
    "\n",
    "- Accessing and visualizing time dependent data stored inside of a `TimeSeries` class\n",
    "\n",
    "**Requirements:**\n",
    "\n",
    "- Opening and navigating through WelDX files \n",
    "\n",
    "> TODO: link tutorial, once it is merged\n",
    "\n",
    "## Accessing the data \n",
    "\n",
    "Two important quantities in welding applications are the welding current and welding voltage.\n",
    "Both are constantly monitored during an experiment and the obtained data is a one dimensional array with time being its only dimension.\n",
    "We will extract both from the file and see what we can do with it.\n",
    "First we read the file and get an overview over its content as we learned in the previous tutorial:"
   ]
  },
  {
   "cell_type": "code",
   "execution_count": null,
   "metadata": {},
   "outputs": [],
   "source": [
    "from weldx import WeldxFile\n",
    "\n",
    "wxfile = WeldxFile(\"single_pass_weld.weldx\")"
   ]
  },
  {
   "cell_type": "code",
   "execution_count": null,
   "metadata": {},
   "outputs": [],
   "source": [
    "for key in wxfile.keys():\n",
    "    print(key)"
   ]
  },
  {
   "cell_type": "markdown",
   "metadata": {},
   "source": [
    "As we can see in the list, there are the top level items `welding_current` and `welding_voltage`.\n",
    "Let's have a look at the welding current first:"
   ]
  },
  {
   "cell_type": "code",
   "execution_count": null,
   "metadata": {},
   "outputs": [],
   "source": [
    "current = wxfile[\"welding_current\"]\n",
    "type(current)"
   ]
  },
  {
   "cell_type": "code",
   "execution_count": null,
   "metadata": {},
   "outputs": [],
   "source": [
    "current = wxfile[\"welding_current\"].data\n",
    "type(current)"
   ]
  },
  {
   "cell_type": "markdown",
   "metadata": {},
   "source": [
    "> ToDo: Adjust text if schema is not adjusted\n",
    "\n",
    "The object we extracted is of type `TimeSeries`.\n",
    "This is a special type provided by WelDX to deal with time dependent data.\n",
    "While any number of dimensions in addition to time are supported, we expect the welding current to have no further dimensions.\n",
    "We can easily check this using the `shape` property of the `TimeSeries`:"
   ]
  },
  {
   "cell_type": "code",
   "execution_count": null,
   "metadata": {},
   "outputs": [],
   "source": [
    "current.shape"
   ]
  },
  {
   "cell_type": "markdown",
   "metadata": {},
   "source": [
    "From the returned value we see that the data indeed only consists of a single dimension.\n",
    "Furthermore, we get the exact number of data points that are stored in the time series.\n",
    "\n",
    "Since the main goal of WelDX is to conserye all data necessary to fully understand a conducted experiment, we can also get the unit of the data by printing the `units` property:"
   ]
  },
  {
   "cell_type": "code",
   "execution_count": null,
   "metadata": {},
   "outputs": [],
   "source": [
    "current.units"
   ]
  },
  {
   "cell_type": "markdown",
   "metadata": {},
   "source": [
    "As one might expect, the unit of the current is amperes, but it might also have been stored in milliamperes.\n",
    "\n",
    "Now, if we want to actually access the stored data, we can extract it from the `TimeSeries` by using its `data` property.\n",
    "The returned object is a `pint.Quantity`.\n"
   ]
  },
  {
   "cell_type": "code",
   "execution_count": null,
   "metadata": {},
   "outputs": [],
   "source": [
    "type(current.data)"
   ]
  },
  {
   "cell_type": "markdown",
   "metadata": {},
   "source": [
    "A `pint.Quantity` is a thin wrapper around a multi-dimensional array that attaches units to the contained data.\n",
    "They can be used like NumPy arrays and support most of NumPy's functions.\n",
    "For further information on how to work with quantities, consult [Pint's documentation](https://pint.readthedocs.io/en/stable/).\n",
    "\n",
    "An alternative to the `data` property is the `data_array` property.\n",
    "This returns the data as `xarray.DataArray`:"
   ]
  },
  {
   "cell_type": "code",
   "execution_count": null,
   "metadata": {},
   "outputs": [],
   "source": [
    "type(current.data_array)"
   ]
  },
  {
   "cell_type": "markdown",
   "metadata": {},
   "source": [
    "Xarray is a powerful tool that makes working with multi-dimensional arrays easier.\n",
    "When performing operations on an `xarray.DataArray`, it automatically figures out which dimensions of the oprands are compatible with each other and how they need to be combined.\n",
    "Visit [the xarray documentation](http://xarray.pydata.org/en/stable/) to learn how to work with xarray classes.\n",
    "\n",
    "We recommend using either xarray or pint when working with the data, but if you feel more compfortable using NumPy, you can convert both types easily to a `numpy.ndarray`.\n",
    "For pint use `.magnitude` or the short version `.m`:"
   ]
  },
  {
   "cell_type": "code",
   "execution_count": null,
   "metadata": {},
   "outputs": [],
   "source": [
    "type(current.data.magnitude)"
   ]
  },
  {
   "cell_type": "markdown",
   "metadata": {},
   "source": [
    "For xarray use `.data` to get the data as `pint.Quantity` and then `.magnitude` to receive a `numpy.ndarray`:"
   ]
  },
  {
   "cell_type": "code",
   "execution_count": null,
   "metadata": {},
   "outputs": [],
   "source": [
    "type(current.data_array.data.magnitude)"
   ]
  },
  {
   "cell_type": "markdown",
   "metadata": {},
   "source": [
    "## Plotting data\n",
    "\n",
    "If you are familiar with the `matplotlib` package, it shouldn't be to difficult for you to plot the data, now that you know how to get access it.\n",
    "However, the `TimeSeries` class provides its own `plot` method to visualize the data it contains:"
   ]
  },
  {
   "cell_type": "code",
   "execution_count": null,
   "metadata": {},
   "outputs": [],
   "source": [
    "current.plot()"
   ]
  },
  {
   "cell_type": "markdown",
   "metadata": {},
   "source": [
    "If you use the `plot` method of the `TimeSeries`, the axes get correctly labeled with the corresponding units attached to it.\n",
    "But there are some things to consider depending on the Python environment you are using.\n",
    "Since the `plot` method uses `matplotlib` internally, you have to call the `matplotlib.pyplot.show` function manually after using `plot` when running a regular Python script file.\n",
    "Otherwise the plot won't show up.\n",
    "\n",
    "This is not the case if you work with a jupyter notebook, where the plots are generated after each cell execution.\n",
    "However, while a regular script will open an interactive window for each plot, the plots inside of a notebook can't be modified without additional commands.\n",
    "To enable interactive `matplotlib` plots inside of a jupyter notebook, run the following magic command:"
   ]
  },
  {
   "cell_type": "code",
   "execution_count": null,
   "metadata": {},
   "outputs": [],
   "source": [
    "%matplotlib widget"
   ]
  },
  {
   "cell_type": "markdown",
   "metadata": {},
   "source": [
    "Now let's plot the welding voltage. \n",
    "Try to interact with the plot if you are running this tutorial as a jupyter notebook.\n",
    "\n",
    "> HINT: Remember that you can run the code of this tutorial by clicking on the binder link at the beginning"
   ]
  },
  {
   "cell_type": "code",
   "execution_count": null,
   "metadata": {},
   "outputs": [],
   "source": [
    " wxfile[\"welding_voltage\"].plot()"
   ]
  },
  {
   "cell_type": "markdown",
   "metadata": {},
   "source": [
    "## Conclusion\n",
    "\n",
    "This concludes the tutorial about accessing and plotting time dependent data.\n",
    "We have learned about some basic functionalities of the `TimeSeries` class and know now, how to get the data for further processing and how to quickly visualize it, using the `plot` method."
   ]
  },
  {
   "cell_type": "markdown",
   "metadata": {},
   "source": [
    "> **ToDo:** TimeSeries tutorial verlinken"
   ]
  },
  {
   "cell_type": "code",
   "execution_count": null,
   "metadata": {},
   "outputs": [],
   "source": []
  }
 ],
 "metadata": {
  "kernelspec": {
   "display_name": "weldx",
   "language": "python",
   "name": "weldx"
  },
  "language_info": {
   "codemirror_mode": {
    "name": "ipython",
    "version": 3
   },
   "file_extension": ".py",
   "mimetype": "text/x-python",
   "name": "python",
   "nbconvert_exporter": "python",
   "pygments_lexer": "ipython3",
   "version": "3.8.11"
  }
 },
 "nbformat": 4,
 "nbformat_minor": 5
}
