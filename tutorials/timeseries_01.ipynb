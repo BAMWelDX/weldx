{
 "cells": [
  {
   "cell_type": "markdown",
   "metadata": {},
   "source": [
    "# `TimeSeries` Tutorial\n",
    "## imports"
   ]
  },
  {
   "cell_type": "code",
   "execution_count": null,
   "metadata": {},
   "outputs": [],
   "source": [
    "# if the package is not installed in your python environment, run this to execute the notebook directly from inside the GitHub repository\n",
    "%cd -q .."
   ]
  },
  {
   "cell_type": "code",
   "execution_count": 2,
   "metadata": {},
   "outputs": [],
   "source": [
    "import numpy as np\n",
    "import pandas as pd\n",
    "import pint\n",
    "import xarray as xr\n",
    "import sympy\n",
    "from matplotlib import pyplot as plt\n",
    "\n",
    "import weldx\n",
    "import weldx.transformations as tf\n",
    "import weldx.utility as ut\n",
    "\n",
    "from weldx.asdf.extension import WeldxAsdfExtension, WeldxExtension\n",
    "from weldx.asdf.tags.weldx.core.mathematical_expression import MathematicalExpression\n",
    "from weldx.core import TimeSeries\n",
    "from weldx import Q_\n",
    "from weldx.constants import WELDX_UNIT_REGISTRY as UREG"
   ]
  },
  {
   "cell_type": "code",
   "execution_count": 3,
   "metadata": {},
   "outputs": [],
   "source": [
    "def plot_ts(ts):\n",
    "    fig, ax = plt.subplots(1,1)\n",
    "    x = ts.time.data.astype('timedelta64[ms]').astype(int)/1000.0\n",
    "    plt.plot(x,ts.data.magnitude,'-o')\n",
    "    plt.xlabel(\"time / s\")\n",
    "    plt.ylabel(f\"value / {ts.data.units}\");"
   ]
  },
  {
   "cell_type": "markdown",
   "metadata": {},
   "source": [
    "## about the `TimeSeries` class\n",
    "The `TimeSeries` class is a general way to describe the behavior of a scalar or multidimensional quantity over time.\n",
    "\n",
    "In principle, two different approaches can be taken to define this behavior:\n",
    "  1. use a symbolic mathematical expression to exactly define the time dependent relationship\n",
    "  2. provide discrete values with associated times and define how to interpolate the time dependent behavior between timesteps\n",
    "\n",
    "After creating a `TimeSeries` we can query the values at any point in time using the `TimeSeries.interp_time()` method.\n",
    "\n",
    "## about unit support when using `TimeSeries`\n",
    "`TimeSeries` only works with `Quantity` objects to enforce consistency in handling unit conversions, that means that all values have to be associated with a unit. When working with dimensionless data, this has to be explicitly stated by providing a dimensionless unit `\"\"`.\n",
    "The preferred way to create quantity data is to use the weldx-`Q_` constructor.\n",
    "\n",
    "## About time formats\n",
    "  - Currently the time representation only supports relative `Timedelta`-like time values and no absolute `Timestamp` information.\n",
    "  - To describe time values, either `pandas.TimedeltaIndex` or `pint.Quantity` describing time values are supported as we will show below."
   ]
  },
  {
   "cell_type": "markdown",
   "metadata": {},
   "source": [
    "## Discrete Values Examples\n",
    "### simple constant examples\n",
    "#### scalar constants\n",
    "We start by creating the simplest `TimeSeries` object possible: a simple constant (scalar) value.\n",
    "Since constant values are inherently independent of time we only have to provide the value to the `TimeSeries`. Keep in mind to use Quantities here as well.\n",
    "\n",
    "Lets create a simple TimeSeries representing a constant frequency of 5 Hz."
   ]
  },
  {
   "cell_type": "code",
   "execution_count": 4,
   "metadata": {},
   "outputs": [
    {
     "name": "stdout",
     "output_type": "stream",
     "text": [
      "<TimeSeries>\n",
      "Constant value:\n",
      "\t5\n",
      "Units:\n",
      "\thertz\n",
      "\n"
     ]
    }
   ],
   "source": [
    "ts_constant = TimeSeries(Q_(5,\"Hz\"))\n",
    "print(ts_constant)"
   ]
  },
  {
   "cell_type": "markdown",
   "metadata": {},
   "source": [
    "Let's evaluate our constant timeseries at each second over a span of 10 seconds. To do this, we first create a `pandas.TimedeltaIndex` that represents our desired timespan."
   ]
  },
  {
   "cell_type": "code",
   "execution_count": 5,
   "metadata": {},
   "outputs": [
    {
     "data": {
      "text/plain": [
       "TimedeltaIndex(['0 days 00:00:00', '0 days 00:00:01', '0 days 00:00:02',\n",
       "                '0 days 00:00:03', '0 days 00:00:04', '0 days 00:00:05',\n",
       "                '0 days 00:00:06', '0 days 00:00:07', '0 days 00:00:08',\n",
       "                '0 days 00:00:09', '0 days 00:00:10'],\n",
       "               dtype='timedelta64[ns]', freq='S')"
      ]
     },
     "execution_count": 5,
     "metadata": {},
     "output_type": "execute_result"
    }
   ],
   "source": [
    "t = pd.timedelta_range(start=\"0s\",end=\"10s\",freq=\"s\")\n",
    "t"
   ]
  },
  {
   "cell_type": "markdown",
   "metadata": {},
   "source": [
    "We can now use these timestamps to evaluate our constant timeseries."
   ]
  },
  {
   "cell_type": "code",
   "execution_count": 6,
   "metadata": {},
   "outputs": [
    {
     "data": {
      "text/html": [
       "<div><svg style=\"position: absolute; width: 0; height: 0; overflow: hidden\">\n",
       "<defs>\n",
       "<symbol id=\"icon-database\" viewBox=\"0 0 32 32\">\n",
       "<path d=\"M16 0c-8.837 0-16 2.239-16 5v4c0 2.761 7.163 5 16 5s16-2.239 16-5v-4c0-2.761-7.163-5-16-5z\"></path>\n",
       "<path d=\"M16 17c-8.837 0-16-2.239-16-5v6c0 2.761 7.163 5 16 5s16-2.239 16-5v-6c0 2.761-7.163 5-16 5z\"></path>\n",
       "<path d=\"M16 26c-8.837 0-16-2.239-16-5v6c0 2.761 7.163 5 16 5s16-2.239 16-5v-6c0 2.761-7.163 5-16 5z\"></path>\n",
       "</symbol>\n",
       "<symbol id=\"icon-file-text2\" viewBox=\"0 0 32 32\">\n",
       "<path d=\"M28.681 7.159c-0.694-0.947-1.662-2.053-2.724-3.116s-2.169-2.030-3.116-2.724c-1.612-1.182-2.393-1.319-2.841-1.319h-15.5c-1.378 0-2.5 1.121-2.5 2.5v27c0 1.378 1.122 2.5 2.5 2.5h23c1.378 0 2.5-1.122 2.5-2.5v-19.5c0-0.448-0.137-1.23-1.319-2.841zM24.543 5.457c0.959 0.959 1.712 1.825 2.268 2.543h-4.811v-4.811c0.718 0.556 1.584 1.309 2.543 2.268zM28 29.5c0 0.271-0.229 0.5-0.5 0.5h-23c-0.271 0-0.5-0.229-0.5-0.5v-27c0-0.271 0.229-0.5 0.5-0.5 0 0 15.499-0 15.5 0v7c0 0.552 0.448 1 1 1h7v19.5z\"></path>\n",
       "<path d=\"M23 26h-14c-0.552 0-1-0.448-1-1s0.448-1 1-1h14c0.552 0 1 0.448 1 1s-0.448 1-1 1z\"></path>\n",
       "<path d=\"M23 22h-14c-0.552 0-1-0.448-1-1s0.448-1 1-1h14c0.552 0 1 0.448 1 1s-0.448 1-1 1z\"></path>\n",
       "<path d=\"M23 18h-14c-0.552 0-1-0.448-1-1s0.448-1 1-1h14c0.552 0 1 0.448 1 1s-0.448 1-1 1z\"></path>\n",
       "</symbol>\n",
       "</defs>\n",
       "</svg>\n",
       "<style>/* CSS stylesheet for displaying xarray objects in jupyterlab.\n",
       " *\n",
       " */\n",
       "\n",
       ":root {\n",
       "  --xr-font-color0: var(--jp-content-font-color0, rgba(0, 0, 0, 1));\n",
       "  --xr-font-color2: var(--jp-content-font-color2, rgba(0, 0, 0, 0.54));\n",
       "  --xr-font-color3: var(--jp-content-font-color3, rgba(0, 0, 0, 0.38));\n",
       "  --xr-border-color: var(--jp-border-color2, #e0e0e0);\n",
       "  --xr-disabled-color: var(--jp-layout-color3, #bdbdbd);\n",
       "  --xr-background-color: var(--jp-layout-color0, white);\n",
       "  --xr-background-color-row-even: var(--jp-layout-color1, white);\n",
       "  --xr-background-color-row-odd: var(--jp-layout-color2, #eeeeee);\n",
       "}\n",
       "\n",
       "html[theme=dark],\n",
       "body.vscode-dark {\n",
       "  --xr-font-color0: rgba(255, 255, 255, 1);\n",
       "  --xr-font-color2: rgba(255, 255, 255, 0.54);\n",
       "  --xr-font-color3: rgba(255, 255, 255, 0.38);\n",
       "  --xr-border-color: #1F1F1F;\n",
       "  --xr-disabled-color: #515151;\n",
       "  --xr-background-color: #111111;\n",
       "  --xr-background-color-row-even: #111111;\n",
       "  --xr-background-color-row-odd: #313131;\n",
       "}\n",
       "\n",
       ".xr-wrap {\n",
       "  display: block;\n",
       "  min-width: 300px;\n",
       "  max-width: 700px;\n",
       "}\n",
       "\n",
       ".xr-text-repr-fallback {\n",
       "  /* fallback to plain text repr when CSS is not injected (untrusted notebook) */\n",
       "  display: none;\n",
       "}\n",
       "\n",
       ".xr-header {\n",
       "  padding-top: 6px;\n",
       "  padding-bottom: 6px;\n",
       "  margin-bottom: 4px;\n",
       "  border-bottom: solid 1px var(--xr-border-color);\n",
       "}\n",
       "\n",
       ".xr-header > div,\n",
       ".xr-header > ul {\n",
       "  display: inline;\n",
       "  margin-top: 0;\n",
       "  margin-bottom: 0;\n",
       "}\n",
       "\n",
       ".xr-obj-type,\n",
       ".xr-array-name {\n",
       "  margin-left: 2px;\n",
       "  margin-right: 10px;\n",
       "}\n",
       "\n",
       ".xr-obj-type {\n",
       "  color: var(--xr-font-color2);\n",
       "}\n",
       "\n",
       ".xr-sections {\n",
       "  padding-left: 0 !important;\n",
       "  display: grid;\n",
       "  grid-template-columns: 150px auto auto 1fr 20px 20px;\n",
       "}\n",
       "\n",
       ".xr-section-item {\n",
       "  display: contents;\n",
       "}\n",
       "\n",
       ".xr-section-item input {\n",
       "  display: none;\n",
       "}\n",
       "\n",
       ".xr-section-item input + label {\n",
       "  color: var(--xr-disabled-color);\n",
       "}\n",
       "\n",
       ".xr-section-item input:enabled + label {\n",
       "  cursor: pointer;\n",
       "  color: var(--xr-font-color2);\n",
       "}\n",
       "\n",
       ".xr-section-item input:enabled + label:hover {\n",
       "  color: var(--xr-font-color0);\n",
       "}\n",
       "\n",
       ".xr-section-summary {\n",
       "  grid-column: 1;\n",
       "  color: var(--xr-font-color2);\n",
       "  font-weight: 500;\n",
       "}\n",
       "\n",
       ".xr-section-summary > span {\n",
       "  display: inline-block;\n",
       "  padding-left: 0.5em;\n",
       "}\n",
       "\n",
       ".xr-section-summary-in:disabled + label {\n",
       "  color: var(--xr-font-color2);\n",
       "}\n",
       "\n",
       ".xr-section-summary-in + label:before {\n",
       "  display: inline-block;\n",
       "  content: '►';\n",
       "  font-size: 11px;\n",
       "  width: 15px;\n",
       "  text-align: center;\n",
       "}\n",
       "\n",
       ".xr-section-summary-in:disabled + label:before {\n",
       "  color: var(--xr-disabled-color);\n",
       "}\n",
       "\n",
       ".xr-section-summary-in:checked + label:before {\n",
       "  content: '▼';\n",
       "}\n",
       "\n",
       ".xr-section-summary-in:checked + label > span {\n",
       "  display: none;\n",
       "}\n",
       "\n",
       ".xr-section-summary,\n",
       ".xr-section-inline-details {\n",
       "  padding-top: 4px;\n",
       "  padding-bottom: 4px;\n",
       "}\n",
       "\n",
       ".xr-section-inline-details {\n",
       "  grid-column: 2 / -1;\n",
       "}\n",
       "\n",
       ".xr-section-details {\n",
       "  display: none;\n",
       "  grid-column: 1 / -1;\n",
       "  margin-bottom: 5px;\n",
       "}\n",
       "\n",
       ".xr-section-summary-in:checked ~ .xr-section-details {\n",
       "  display: contents;\n",
       "}\n",
       "\n",
       ".xr-array-wrap {\n",
       "  grid-column: 1 / -1;\n",
       "  display: grid;\n",
       "  grid-template-columns: 20px auto;\n",
       "}\n",
       "\n",
       ".xr-array-wrap > label {\n",
       "  grid-column: 1;\n",
       "  vertical-align: top;\n",
       "}\n",
       "\n",
       ".xr-preview {\n",
       "  color: var(--xr-font-color3);\n",
       "}\n",
       "\n",
       ".xr-array-preview,\n",
       ".xr-array-data {\n",
       "  padding: 0 5px !important;\n",
       "  grid-column: 2;\n",
       "}\n",
       "\n",
       ".xr-array-data,\n",
       ".xr-array-in:checked ~ .xr-array-preview {\n",
       "  display: none;\n",
       "}\n",
       "\n",
       ".xr-array-in:checked ~ .xr-array-data,\n",
       ".xr-array-preview {\n",
       "  display: inline-block;\n",
       "}\n",
       "\n",
       ".xr-dim-list {\n",
       "  display: inline-block !important;\n",
       "  list-style: none;\n",
       "  padding: 0 !important;\n",
       "  margin: 0;\n",
       "}\n",
       "\n",
       ".xr-dim-list li {\n",
       "  display: inline-block;\n",
       "  padding: 0;\n",
       "  margin: 0;\n",
       "}\n",
       "\n",
       ".xr-dim-list:before {\n",
       "  content: '(';\n",
       "}\n",
       "\n",
       ".xr-dim-list:after {\n",
       "  content: ')';\n",
       "}\n",
       "\n",
       ".xr-dim-list li:not(:last-child):after {\n",
       "  content: ',';\n",
       "  padding-right: 5px;\n",
       "}\n",
       "\n",
       ".xr-has-index {\n",
       "  font-weight: bold;\n",
       "}\n",
       "\n",
       ".xr-var-list,\n",
       ".xr-var-item {\n",
       "  display: contents;\n",
       "}\n",
       "\n",
       ".xr-var-item > div,\n",
       ".xr-var-item label,\n",
       ".xr-var-item > .xr-var-name span {\n",
       "  background-color: var(--xr-background-color-row-even);\n",
       "  margin-bottom: 0;\n",
       "}\n",
       "\n",
       ".xr-var-item > .xr-var-name:hover span {\n",
       "  padding-right: 5px;\n",
       "}\n",
       "\n",
       ".xr-var-list > li:nth-child(odd) > div,\n",
       ".xr-var-list > li:nth-child(odd) > label,\n",
       ".xr-var-list > li:nth-child(odd) > .xr-var-name span {\n",
       "  background-color: var(--xr-background-color-row-odd);\n",
       "}\n",
       "\n",
       ".xr-var-name {\n",
       "  grid-column: 1;\n",
       "}\n",
       "\n",
       ".xr-var-dims {\n",
       "  grid-column: 2;\n",
       "}\n",
       "\n",
       ".xr-var-dtype {\n",
       "  grid-column: 3;\n",
       "  text-align: right;\n",
       "  color: var(--xr-font-color2);\n",
       "}\n",
       "\n",
       ".xr-var-preview {\n",
       "  grid-column: 4;\n",
       "}\n",
       "\n",
       ".xr-var-name,\n",
       ".xr-var-dims,\n",
       ".xr-var-dtype,\n",
       ".xr-preview,\n",
       ".xr-attrs dt {\n",
       "  white-space: nowrap;\n",
       "  overflow: hidden;\n",
       "  text-overflow: ellipsis;\n",
       "  padding-right: 10px;\n",
       "}\n",
       "\n",
       ".xr-var-name:hover,\n",
       ".xr-var-dims:hover,\n",
       ".xr-var-dtype:hover,\n",
       ".xr-attrs dt:hover {\n",
       "  overflow: visible;\n",
       "  width: auto;\n",
       "  z-index: 1;\n",
       "}\n",
       "\n",
       ".xr-var-attrs,\n",
       ".xr-var-data {\n",
       "  display: none;\n",
       "  background-color: var(--xr-background-color) !important;\n",
       "  padding-bottom: 5px !important;\n",
       "}\n",
       "\n",
       ".xr-var-attrs-in:checked ~ .xr-var-attrs,\n",
       ".xr-var-data-in:checked ~ .xr-var-data {\n",
       "  display: block;\n",
       "}\n",
       "\n",
       ".xr-var-data > table {\n",
       "  float: right;\n",
       "}\n",
       "\n",
       ".xr-var-name span,\n",
       ".xr-var-data,\n",
       ".xr-attrs {\n",
       "  padding-left: 25px !important;\n",
       "}\n",
       "\n",
       ".xr-attrs,\n",
       ".xr-var-attrs,\n",
       ".xr-var-data {\n",
       "  grid-column: 1 / -1;\n",
       "}\n",
       "\n",
       "dl.xr-attrs {\n",
       "  padding: 0;\n",
       "  margin: 0;\n",
       "  display: grid;\n",
       "  grid-template-columns: 125px auto;\n",
       "}\n",
       "\n",
       ".xr-attrs dt, dd {\n",
       "  padding: 0;\n",
       "  margin: 0;\n",
       "  float: left;\n",
       "  padding-right: 10px;\n",
       "  width: auto;\n",
       "}\n",
       "\n",
       ".xr-attrs dt {\n",
       "  font-weight: normal;\n",
       "  grid-column: 1;\n",
       "}\n",
       "\n",
       ".xr-attrs dt:hover span {\n",
       "  display: inline-block;\n",
       "  background: var(--xr-background-color);\n",
       "  padding-right: 10px;\n",
       "}\n",
       "\n",
       ".xr-attrs dd {\n",
       "  grid-column: 2;\n",
       "  white-space: pre-wrap;\n",
       "  word-break: break-all;\n",
       "}\n",
       "\n",
       ".xr-icon-database,\n",
       ".xr-icon-file-text2 {\n",
       "  display: inline-block;\n",
       "  vertical-align: middle;\n",
       "  width: 1em;\n",
       "  height: 1.5em !important;\n",
       "  stroke-width: 0;\n",
       "  stroke: currentColor;\n",
       "  fill: currentColor;\n",
       "}\n",
       "</style><pre class='xr-text-repr-fallback'>&lt;xarray.DataArray (time: 11)&gt;\n",
       "&lt;Quantity([5. 5. 5. 5. 5. 5. 5. 5. 5. 5. 5.], &#x27;hertz&#x27;)&gt;\n",
       "Coordinates:\n",
       "  * time     (time) timedelta64[ns] 00:00:00 00:00:01 ... 00:00:09 00:00:10</pre><div class='xr-wrap' hidden><div class='xr-header'><div class='xr-obj-type'>xarray.DataArray</div><div class='xr-array-name'></div><ul class='xr-dim-list'><li><span class='xr-has-index'>time</span>: 11</li></ul></div><ul class='xr-sections'><li class='xr-section-item'><div class='xr-array-wrap'><input id='section-7310a555-e441-468f-8e72-719b656aefbf' class='xr-array-in' type='checkbox' checked><label for='section-7310a555-e441-468f-8e72-719b656aefbf' title='Show/hide data repr'><svg class='icon xr-icon-database'><use xlink:href='#icon-database'></use></svg></label><div class='xr-array-preview xr-preview'><span>&lt;Quantity([5. 5. 5. 5. 5. 5. 5. 5. 5. 5. 5.], &#x27;hertz&#x27;)&gt;</span></div><div class='xr-array-data'><table><tbody><tr><th>Magnitude</th><td style='text-align:left;'><pre>[5.0 5.0 5.0 5.0 5.0 5.0 5.0 5.0 5.0 5.0 5.0]</pre></td></tr><tr><th>Units</th><td style='text-align:left;'>hertz</td></tr></tbody></table></div></div></li><li class='xr-section-item'><input id='section-4a1dfb04-f430-405d-89e5-4e894cf3e10e' class='xr-section-summary-in' type='checkbox'  checked><label for='section-4a1dfb04-f430-405d-89e5-4e894cf3e10e' class='xr-section-summary' >Coordinates: <span>(1)</span></label><div class='xr-section-inline-details'></div><div class='xr-section-details'><ul class='xr-var-list'><li class='xr-var-item'><div class='xr-var-name'><span class='xr-has-index'>time</span></div><div class='xr-var-dims'>(time)</div><div class='xr-var-dtype'>timedelta64[ns]</div><div class='xr-var-preview xr-preview'>00:00:00 00:00:01 ... 00:00:10</div><input id='attrs-7c2899a7-8ab1-4b86-9bf7-5b663d33b036' class='xr-var-attrs-in' type='checkbox' disabled><label for='attrs-7c2899a7-8ab1-4b86-9bf7-5b663d33b036' title='Show/Hide attributes'><svg class='icon xr-icon-file-text2'><use xlink:href='#icon-file-text2'></use></svg></label><input id='data-5d2225e9-495c-42d0-85f6-059b92c8730d' class='xr-var-data-in' type='checkbox'><label for='data-5d2225e9-495c-42d0-85f6-059b92c8730d' title='Show/Hide data repr'><svg class='icon xr-icon-database'><use xlink:href='#icon-database'></use></svg></label><div class='xr-var-attrs'><dl class='xr-attrs'></dl></div><div class='xr-var-data'><pre>array([          0,  1000000000,  2000000000,  3000000000,  4000000000,\n",
       "        5000000000,  6000000000,  7000000000,  8000000000,  9000000000,\n",
       "       10000000000], dtype=&#x27;timedelta64[ns]&#x27;)</pre></div></li></ul></div></li><li class='xr-section-item'><input id='section-04d82937-6cea-480e-8aac-6bb36cdf37a4' class='xr-section-summary-in' type='checkbox' disabled ><label for='section-04d82937-6cea-480e-8aac-6bb36cdf37a4' class='xr-section-summary'  title='Expand/collapse section'>Attributes: <span>(0)</span></label><div class='xr-section-inline-details'></div><div class='xr-section-details'><dl class='xr-attrs'></dl></div></li></ul></div></div>"
      ],
      "text/plain": [
       "<xarray.DataArray (time: 11)>\n",
       "<Quantity([5. 5. 5. 5. 5. 5. 5. 5. 5. 5. 5.], 'hertz')>\n",
       "Coordinates:\n",
       "  * time     (time) timedelta64[ns] 00:00:00 00:00:01 ... 00:00:09 00:00:10"
      ]
     },
     "execution_count": 6,
     "metadata": {},
     "output_type": "execute_result"
    }
   ],
   "source": [
    "ts_constant.interp_time(time=t)"
   ]
  },
  {
   "cell_type": "markdown",
   "metadata": {},
   "source": [
    "It is important to note, that `TimeSeries.interp_time()` will always return its results as an xarray object with the following structure:\n",
    "  - a single named `time` dimension with the evaluated timestamps as coordinate values\n",
    "  - the data consisting of our constant value as a `Quantity`\n",
    "\n",
    "We can also create a simple plot:"
   ]
  },
  {
   "cell_type": "code",
   "execution_count": 7,
   "metadata": {},
   "outputs": [
    {
     "data": {
      "image/png": "[encoded data removed]",
      "text/plain": [
       "<Figure size 432x288 with 1 Axes>"
      ]
     },
     "metadata": {
      "needs_background": "light"
     },
     "output_type": "display_data"
    }
   ],
   "source": [
    "plot_ts(ts_constant.interp_time(time=t))"
   ]
  },
  {
   "cell_type": "markdown",
   "metadata": {},
   "source": [
    "#### multi-dimensional constant example\n",
    "We can also create multi-dimensional constant values. For this to work, we have to wrap our value into another dimension of length 1 to indicate a constant time axis.\n",
    "For example, lets represent a single constant cartesian vector with our `TimeSeries`:"
   ]
  },
  {
   "cell_type": "code",
   "execution_count": 8,
   "metadata": {},
   "outputs": [
    {
     "name": "stdout",
     "output_type": "stream",
     "text": [
      "<TimeSeries>\n",
      "Constant value:\n",
      "\t[ 0  2 10]\n",
      "Units:\n",
      "\tcentimeter\n",
      "\n"
     ]
    }
   ],
   "source": [
    "ts_constant_vector = TimeSeries(Q_([[0,2,10]],\"cm\"))\n",
    "print(ts_constant_vector)"
   ]
  },
  {
   "cell_type": "markdown",
   "metadata": {},
   "source": [
    "Interpolation still works as expected:"
   ]
  },
  {
   "cell_type": "code",
   "execution_count": 9,
   "metadata": {},
   "outputs": [
    {
     "name": "stdout",
     "output_type": "stream",
     "text": [
      "<xarray.DataArray (time: 11, dim_1: 3)>\n",
      "<Quantity([[ 0.  2. 10.]\n",
      " [ 0.  2. 10.]\n",
      " [ 0.  2. 10.]\n",
      " [ 0.  2. 10.]\n",
      " [ 0.  2. 10.]\n",
      " [ 0.  2. 10.]\n",
      " [ 0.  2. 10.]\n",
      " [ 0.  2. 10.]\n",
      " [ 0.  2. 10.]\n",
      " [ 0.  2. 10.]\n",
      " [ 0.  2. 10.]], 'centimeter')>\n",
      "Coordinates:\n",
      "  * time     (time) timedelta64[ns] 00:00:00 00:00:01 ... 00:00:09 00:00:10\n",
      "Dimensions without coordinates: dim_1\n"
     ]
    }
   ],
   "source": [
    "ts = ts_constant_vector.interp_time(time=t)\n",
    "print(ts)"
   ]
  },
  {
   "cell_type": "markdown",
   "metadata": {},
   "source": [
    "### Interpolation examples\n",
    "The main idea of `TimeSeries` is to reflect time dependent data. For values that change over time, we can define discrete values at specific points in time and pass the interpolation method on to the `TimeSeries`.\n",
    "Let's say we want a value representing a velocity that starts at 10 cm/min, jumps to 15 cm/min between 2 and 6 seconds of our experiment and stays at 8 cm/min afterwards.\n",
    "To represent this behavior we can use the `step` interpolation method."
   ]
  },
  {
   "cell_type": "code",
   "execution_count": 10,
   "metadata": {},
   "outputs": [
    {
     "data": {
      "text/plain": [
       "<TimeSeries>\n",
       "Time:\n",
       "\tTimedeltaIndex(['0 days 00:00:00', '0 days 00:00:02', '0 days 00:00:06'], dtype='timedelta64[ns]', freq=None)\n",
       "Values:\n",
       "\t[10 15  8]\n",
       "Interpolation:\n",
       "\tstep\n",
       "Units:\n",
       "\tcentimeter / minute"
      ]
     },
     "execution_count": 10,
     "metadata": {},
     "output_type": "execute_result"
    }
   ],
   "source": [
    "ts_step = TimeSeries(data=Q_([10,15,8],\"cm/min\"),time=pd.TimedeltaIndex(data=[0,2,6],unit=\"s\"),interpolation=\"step\")\n",
    "ts_step"
   ]
  },
  {
   "cell_type": "markdown",
   "metadata": {},
   "source": [
    "lets interpolate this to our previous timeline and see the results"
   ]
  },
  {
   "cell_type": "code",
   "execution_count": 11,
   "metadata": {},
   "outputs": [
    {
     "name": "stdout",
     "output_type": "stream",
     "text": [
      "<xarray.DataArray (time: 11)>\n",
      "<Quantity([10 10 15 15 15 15  8  8  8  8  8], 'centimeter / minute')>\n",
      "Coordinates:\n",
      "  * time     (time) timedelta64[ns] 00:00:00 00:00:01 ... 00:00:09 00:00:10\n",
      "Attributes:\n",
      "    interpolation:  step\n"
     ]
    },
    {
     "data": {
      "image/png": "[encoded data removed]",
      "text/plain": [
       "<Figure size 432x288 with 1 Axes>"
      ]
     },
     "metadata": {
      "needs_background": "light"
     },
     "output_type": "display_data"
    }
   ],
   "source": [
    "ts = ts_step.interp_time(t)\n",
    "print(ts)\n",
    "plot_ts(ts)"
   ]
  },
  {
   "cell_type": "markdown",
   "metadata": {},
   "source": [
    "The second supported interpolation style is `linear`. Let's use this to create a timeseries that increases from 100 A to 200 A between 3 seconds and 7 seconds of the experiment."
   ]
  },
  {
   "cell_type": "code",
   "execution_count": 12,
   "metadata": {},
   "outputs": [
    {
     "data": {
      "text/plain": [
       "<TimeSeries>\n",
       "Time:\n",
       "\tTimedeltaIndex(['0 days 00:00:03', '0 days 00:00:07'], dtype='timedelta64[ns]', freq=None)\n",
       "Values:\n",
       "\t[100 200]\n",
       "Interpolation:\n",
       "\tlinear\n",
       "Units:\n",
       "\tampere"
      ]
     },
     "execution_count": 12,
     "metadata": {},
     "output_type": "execute_result"
    }
   ],
   "source": [
    "ts_linear = TimeSeries(data=Q_([100,200],\"A\"),time=pd.TimedeltaIndex(data=[3,7],unit=\"s\"),interpolation=\"linear\")\n",
    "ts_linear"
   ]
  },
  {
   "cell_type": "code",
   "execution_count": 13,
   "metadata": {},
   "outputs": [
    {
     "name": "stdout",
     "output_type": "stream",
     "text": [
      "<xarray.DataArray (time: 11)>\n",
      "<Quantity([100. 100. 100. 100. 125. 150. 175. 200. 200. 200. 200.], 'ampere')>\n",
      "Coordinates:\n",
      "  * time     (time) timedelta64[ns] 00:00:00 00:00:01 ... 00:00:09 00:00:10\n"
     ]
    },
    {
     "data": {
      "image/png": "[encoded data removed]",
      "text/plain": [
       "<Figure size 432x288 with 1 Axes>"
      ]
     },
     "metadata": {
      "needs_background": "light"
     },
     "output_type": "display_data"
    }
   ],
   "source": [
    "ts = ts_linear.interp_time(t)\n",
    "print(ts)\n",
    "plot_ts(ts)"
   ]
  },
  {
   "cell_type": "markdown",
   "metadata": {},
   "source": [
    "One important note about `TimeSeries.interp_time()` that can be seen from the plot above:\n",
    "Even though we only defined the `TimeSeries` discrete values at timesteps 3s and 7s, the interpolation gives back results outside of that timerange as well. This is the current intended behavior of all timeseries interpolations. The last defined values will be propagated as constant values outside of the initial time range. The initial and final values are preserved even when not included in the interpolation time."
   ]
  },
  {
   "cell_type": "code",
   "execution_count": 14,
   "metadata": {},
   "outputs": [
    {
     "name": "stdout",
     "output_type": "stream",
     "text": [
      "<xarray.DataArray (time: 11)>\n",
      "<Quantity([100.  100.  100.  112.5 137.5 162.5 187.5 200.  200.  200.  200. ], 'ampere')>\n",
      "Coordinates:\n",
      "  * time     (time) timedelta64[ns] 00:00:00.500000 ... 00:00:10.500000\n"
     ]
    },
    {
     "data": {
      "image/png": "[encoded data removed]",
      "text/plain": [
       "<Figure size 432x288 with 1 Axes>"
      ]
     },
     "metadata": {
      "needs_background": "light"
     },
     "output_type": "display_data"
    }
   ],
   "source": [
    "ts = ts_linear.interp_time(t+pd.Timedelta(0.5,\"s\"))\n",
    "print(ts)\n",
    "plot_ts(ts)"
   ]
  },
  {
   "cell_type": "markdown",
   "metadata": {},
   "source": [
    "## Mathematical expression examples\n",
    "The second method to describe our `TimeSeries` object is by providing a `MathematicalExpression` that can be evaluated against time parameters.\n",
    "\n",
    "### linear equation example\n",
    "Let's create a linear ramp function as an example: $f(t) = a*t + b$.\n",
    "\n",
    "Note that all parameters must be defined as `Quantities` in a way that the expression correctly evaluates all dimensions when provided with a time-dimension input (in our case for parameter `t`)"
   ]
  },
  {
   "cell_type": "code",
   "execution_count": 15,
   "metadata": {},
   "outputs": [
    {
     "name": "stdout",
     "output_type": "stream",
     "text": [
      "<xarray.DataArray (time: 11)>\n",
      "<Quantity([-10.  -8.  -6.  -4.  -2.   0.   2.   4.   6.   8.  10.], 'meter')>\n",
      "Coordinates:\n",
      "  * time     (time) timedelta64[ns] 00:00:00 00:00:01 ... 00:00:09 00:00:10\n"
     ]
    },
    {
     "data": {
      "image/png": "[encoded data removed]",
      "text/plain": [
       "<Figure size 432x288 with 1 Axes>"
      ]
     },
     "metadata": {
      "needs_background": "light"
     },
     "output_type": "display_data"
    }
   ],
   "source": [
    "expr_string = \"a*t+b\"\n",
    "parameters = {\"a\": Q_(120, \"m/min\"), \"b\": Q_(-10, \"m\")}\n",
    "expr = MathematicalExpression(expression=expr_string, parameters=parameters)\n",
    "\n",
    "ts_expr = TimeSeries(data=expr)\n",
    "\n",
    "ts = ts_expr.interp_time(t)\n",
    "print(ts)\n",
    "plot_ts(ts)"
   ]
  },
  {
   "cell_type": "markdown",
   "metadata": {},
   "source": [
    "We can also use `Quantites` with the appropriate dimension as Inputs for our interpolation:"
   ]
  },
  {
   "cell_type": "code",
   "execution_count": 16,
   "metadata": {},
   "outputs": [
    {
     "data": {
      "image/png": "[encoded data removed]",
      "text/plain": [
       "<Figure size 432x288 with 1 Axes>"
      ]
     },
     "metadata": {
      "needs_background": "light"
     },
     "output_type": "display_data"
    }
   ],
   "source": [
    "t2 = Q_(np.arange(101)*100,\"ms\")\n",
    "ts = ts_expr.interp_time(t2)\n",
    "plot_ts(ts)"
   ]
  },
  {
   "cell_type": "markdown",
   "metadata": {},
   "source": [
    "### sine example\n",
    "Of course we can also have more complex examples. Lets create a sine wave function that oscillates around 1 m at a frequency of 36 deg/s."
   ]
  },
  {
   "cell_type": "code",
   "execution_count": 17,
   "metadata": {},
   "outputs": [
    {
     "data": {
      "image/png": "[encoded data removed]",
      "text/plain": [
       "<Figure size 432x288 with 1 Axes>"
      ]
     },
     "metadata": {
      "needs_background": "light"
     },
     "output_type": "display_data"
    }
   ],
   "source": [
    "expr_string = \"a*sin(o*t)+b\"\n",
    "parameters = {\"a\": Q_(1, \"m\"), \"b\": Q_(1, \"m\"),\"o\":Q_(36,\"deg/s\")}\n",
    "expr = MathematicalExpression(expression=expr_string, parameters=parameters)\n",
    "\n",
    "ts_sine = TimeSeries(data=expr)\n",
    "\n",
    "ts = ts_sine.interp_time(pd.timedelta_range(start=\"0s\",end=\"10s\",freq=\"100ms\"))\n",
    "plot_ts(ts)"
   ]
  },
  {
   "cell_type": "markdown",
   "metadata": {},
   "source": [
    "### vector example\n",
    "With careful syntax it is also possible to create multidimensional `TimeSeries` objects from math expressions."
   ]
  },
  {
   "cell_type": "code",
   "execution_count": 18,
   "metadata": {},
   "outputs": [
    {
     "name": "stdout",
     "output_type": "stream",
     "text": [
      "<xarray.DataArray (time: 21, dim_1: 3)>\n",
      "<Quantity([[ 0.00000000e+00  0.00000000e+00  0.00000000e+00]\n",
      " [ 3.09016994e-01  5.00000000e-01  0.00000000e+00]\n",
      " [ 5.87785252e-01  1.00000000e+00  0.00000000e+00]\n",
      " [ 8.09016994e-01  1.50000000e+00  0.00000000e+00]\n",
      " [ 9.51056516e-01  2.00000000e+00  0.00000000e+00]\n",
      " [ 1.00000000e+00  2.50000000e+00  0.00000000e+00]\n",
      " [ 9.51056516e-01  3.00000000e+00  0.00000000e+00]\n",
      " [ 8.09016994e-01  3.50000000e+00  0.00000000e+00]\n",
      " [ 5.87785252e-01  4.00000000e+00  0.00000000e+00]\n",
      " [ 3.09016994e-01  4.50000000e+00  0.00000000e+00]\n",
      " [ 1.22464680e-16  5.00000000e+00  0.00000000e+00]\n",
      " [-3.09016994e-01  5.50000000e+00  0.00000000e+00]\n",
      " [-5.87785252e-01  6.00000000e+00  0.00000000e+00]\n",
      " [-8.09016994e-01  6.50000000e+00  0.00000000e+00]\n",
      " [-9.51056516e-01  7.00000000e+00  0.00000000e+00]\n",
      " [-1.00000000e+00  7.50000000e+00  0.00000000e+00]\n",
      " [-9.51056516e-01  8.00000000e+00  0.00000000e+00]\n",
      " [-8.09016994e-01  8.50000000e+00  0.00000000e+00]\n",
      " [-5.87785252e-01  9.00000000e+00  0.00000000e+00]\n",
      " [-3.09016994e-01  9.50000000e+00  0.00000000e+00]\n",
      " [-2.44929360e-16  1.00000000e+01  0.00000000e+00]], 'meter')>\n",
      "Coordinates:\n",
      "  * time     (time) timedelta64[ns] 00:00:00 00:00:00.500000 ... 00:00:10\n",
      "Dimensions without coordinates: dim_1\n"
     ]
    }
   ],
   "source": [
    "expr_string = \"a*sin(o*t)+b*t\"\n",
    "parameters = {\n",
    "    \"a\": Q_(np.asarray([[1, 0, 0]]), \"m\"), \"b\": Q_([[0, 1, 0]], \"m/s\"),\"o\":Q_(36,\"deg/s\")}\n",
    "expr = MathematicalExpression(expression=expr_string, parameters=parameters)\n",
    "\n",
    "ts_vector = TimeSeries(data=expr)\n",
    "\n",
    "ts = ts_vector.interp_time(pd.timedelta_range(start=\"0s\",end=\"10s\",freq=\"500ms\"))\n",
    "print(ts)"
   ]
  },
  {
   "cell_type": "markdown",
   "metadata": {},
   "source": [
    "Here is a plot showing the x,y,z coordinates:"
   ]
  },
  {
   "cell_type": "code",
   "execution_count": 19,
   "metadata": {},
   "outputs": [
    {
     "data": {
      "image/png": "[encoded data removed]",
      "text/plain": [
       "<Figure size 432x288 with 1 Axes>"
      ]
     },
     "metadata": {
      "needs_background": "light"
     },
     "output_type": "display_data"
    }
   ],
   "source": [
    "plot_ts(ts)"
   ]
  },
  {
   "cell_type": "markdown",
   "metadata": {
    "pycharm": {
     "name": "#%% md\n"
    }
   },
   "source": [
    "tests"
   ]
  }
 ],
 "metadata": {
  "kernelspec": {
   "display_name": "weldx",
   "language": "python",
   "name": "weldx"
  },
  "language_info": {
   "codemirror_mode": {
    "name": "ipython",
    "version": 3
   },
   "file_extension": ".py",
   "mimetype": "text/x-python",
   "name": "python",
   "nbconvert_exporter": "python",
   "pygments_lexer": "ipython3",
   "version": "3.7.9"
  }
 },
 "nbformat": 4,
 "nbformat_minor": 4
}
