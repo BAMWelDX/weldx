{
 "cells": [
  {
   "cell_type": "markdown",
   "metadata": {},
   "source": [
    "# Transformations Tutorial #2: The Coordinate System Manager\n",
    "\n",
    "## Imports"
   ]
  },
  {
   "cell_type": "code",
   "execution_count": null,
   "metadata": {
    "nbsphinx": "hidden"
   },
   "outputs": [],
   "source": [
    "# if the package is not installed in your python environment, run this to execute the notebook directly from inside the GitHub repository\n",
    "%cd -q .."
   ]
  },
  {
   "cell_type": "code",
   "execution_count": null,
   "metadata": {
    "nbsphinx": "hidden"
   },
   "outputs": [],
   "source": [
    "# enable interactive plots on Jupyterlab with ipympl and jupyterlab-matplotlib installed\n",
    "# %matplotlib widget"
   ]
  },
  {
   "cell_type": "code",
   "execution_count": null,
   "metadata": {},
   "outputs": [],
   "source": [
    "# necessary packages\n",
    "import numpy as np\n",
    "\n",
    "import matplotlib.pyplot as plt\n",
    "import pandas as pd\n",
    "import weldx.transformations as tf\n",
    "import weldx.visualization as vs\n",
    "import xarray as xr\n",
    "from mpl_toolkits.mplot3d import Axes3D  # noqa: F401 unused import\n",
    "from copy import deepcopy"
   ]
  },
  {
   "cell_type": "markdown",
   "metadata": {},
   "source": [
    "## Introduction\n",
    "\n",
    "This tutorial is about the `CoordinateSystemManager` class of the `weldx.transformations` package. It builds upon the tutorial about coordinate systems (tutorials/transformations_01_coordinate_systems.ipynb).\n",
    "\n",
    "The purpose of the `CoordinateSystemManager` is to define and manage the relationships of different coordinate systems and their associated data in a tree-like data structure. It provides methods to transform a `LocalCoordinateSystem` or its data to an arbitrary other coordinate system.\n",
    "\n",
    "## Construct and add coordinate systems\n",
    "\n",
    "The constructor of `CoordinateSystemManager` requires the name of the root coordinate system as parameter. As optional second parameter, we can give the `CoordinateSystemManager` instance a name. If no name is provided, it will get a default name."
   ]
  },
  {
   "cell_type": "code",
   "execution_count": null,
   "metadata": {},
   "outputs": [],
   "source": [
    "csm = tf.CoordinateSystemManager(\"root\", \"My CSM\")"
   ]
  },
  {
   "cell_type": "markdown",
   "metadata": {},
   "source": [
    "> **Hint:** The name of a coordinate systems can be any hashable type even though it is advised to use strings.\n",
    "\n",
    "Further coordinate systems can be added with the `add_cs` member function of the `CoordinateSystemManager`. It expects 3 parameters. The first parameter is the name of the new coordinate system. The second parameter is the name of an already existing coordinate system in which is the reference system of the new one. The third parameter is a `weldx.transformations.LocalCoordinateSystem` that describes the position and orientation of the new coordinate system in its reference system. Additionally, the `CoordinateSystemManager` provides some functions that create the `LocalCoordinateSystem` internally. The method `create_cs` takes the name of the new coordinate system and its reference system as first two parameters. The remaining parameters and their default values are identical to the ones from the `LocalCoordinateSystem.__init__` method. Similarly, there are functions for each of the ´LocalCoordinateSystem´s construction/factory methods (`from_euler`, `from_xyz`, etc.). The naming is simply `create_cs_` plus the name of the corresponding function of the `LoocalCoordinateSystem`. For example `construct_cs_from_euler`. Let's add some coordinate systems using different methods:"
   ]
  },
  {
   "cell_type": "code",
   "execution_count": null,
   "metadata": {},
   "outputs": [],
   "source": [
    "lcs_specimen_in_root = tf.LocalCoordinateSystem(coordinates=[0, 1, -2])\n",
    "\n",
    "csm.create_cs_from_euler(\n",
    "    \"flange\", \"root\", sequence=\"x\", angles=20, degrees=True, coordinates=[-1, -1, 2]\n",
    ")\n",
    "csm.create_cs(\"torch\", \"flange\", coordinates=[0, 0, -1])\n",
    "csm.add_cs(\"specimen\", \"root\", lcs_specimen_in_root)"
   ]
  },
  {
   "cell_type": "markdown",
   "metadata": {},
   "source": [
    "In case you only know how the reference system is oriented towards the new system, there is no need to perform any additional calculations. All of the previously shown methods provide an extra parameter to specify that the given `LocalCoordinateSystem` instance represents how the reference system is positioned in its child system. Have a look into the API documentation for further information."
   ]
  },
  {
   "cell_type": "markdown",
   "metadata": {},
   "source": [
    "## Visualizing the coordinate system managers structure\n",
    "\n",
    "The internal structure of the `CoordinateSystemManager` is a tree. We can visualize it using the `plot` function:"
   ]
  },
  {
   "cell_type": "code",
   "execution_count": null,
   "metadata": {},
   "outputs": [],
   "source": [
    "csm.plot()"
   ]
  },
  {
   "cell_type": "markdown",
   "metadata": {},
   "source": [
    "Inside of ipython notebooks like this one, the `CoordinateSystemManager.__repr__` function is replaced by another one that calls the `plot` function. So it is sufficient to place the name of a `CoordinateSystemManager` instance at the end of a code cell to plot its graph:"
   ]
  },
  {
   "cell_type": "code",
   "execution_count": null,
   "metadata": {},
   "outputs": [],
   "source": [
    "csm"
   ]
  },
  {
   "cell_type": "markdown",
   "metadata": {},
   "source": [
    "## Transform coordinate systems to another reference system\n",
    "\n",
    "After all coordinate systems are added to the `CoordinateSystemManager`, getting a coordinate system in relation to any other reference system in form of a `LocalCoordinateSystem` class is quite easy. Simply call `get_cs`. The name of the system that should be transformed is passed to the function as first parameter. The second parameter is the name of the target reference system. If it is omitted, the parent system is used as reference."
   ]
  },
  {
   "cell_type": "code",
   "execution_count": null,
   "metadata": {},
   "outputs": [],
   "source": [
    "lcs_torch_in_root = csm.get_cs(\"torch\", \"root\")\n",
    "lcs_flange_in_root = csm.get_cs(\"flange\")\n",
    "lcs_specimen_in_root = csm.get_cs(\"specimen\")\n",
    "\n",
    "lcs_root_in_torch = csm.get_cs(\"root\", \"torch\")\n",
    "lcs_flange_in_torch = csm.get_cs(\"flange\", \"torch\")\n",
    "lcs_specimen_in_torch = csm.get_cs(\"specimen\", \"torch\")"
   ]
  },
  {
   "cell_type": "markdown",
   "metadata": {},
   "source": [
    "The following plots show the different systems in the root coordinate system and in the torch coordinate system:"
   ]
  },
  {
   "cell_type": "code",
   "execution_count": null,
   "metadata": {},
   "outputs": [],
   "source": [
    "lcs_root_in_root = tf.LocalCoordinateSystem()\n",
    "lcs_torch_in_torch = tf.LocalCoordinateSystem()\n",
    "\n",
    "# plot coordinate systems\n",
    "fig_01 = plt.figure()\n",
    "fig_01.set_size_inches(16, 8)\n",
    "gs_01 = fig_01.add_gridspec(1, 2)\n",
    "ax_0_01 = fig_01.add_subplot(gs_01[0, 0], projection=\"3d\",proj_type = 'ortho')\n",
    "ax_1_01 = fig_01.add_subplot(gs_01[0, 1], projection=\"3d\",proj_type = 'ortho')\n",
    "\n",
    "# first plot\n",
    "vs.plot_coordinate_system(lcs_root_in_root, ax_0_01, color=\"r\", label=\"root\")\n",
    "vs.plot_coordinate_system(lcs_flange_in_root, ax_0_01, color=\"g\", label=\"flange\")\n",
    "vs.plot_coordinate_system(lcs_specimen_in_root, ax_0_01, color=\"y\", label=\"specimen\")\n",
    "vs.plot_coordinate_system(lcs_torch_in_root, ax_0_01, color=\"b\", label=\"torch\")\n",
    "ax_0_01.set_xlim([-3, 3])\n",
    "ax_0_01.set_ylim([-3, 3])\n",
    "ax_0_01.set_zlim([-3, 3])\n",
    "ax_0_01.set_title(\"root system\")\n",
    "ax_0_01.legend(loc=\"lower left\")  #\n",
    "\n",
    "\n",
    "# second plot\n",
    "vs.plot_coordinate_system(lcs_root_in_torch, ax_1_01, color=\"r\", label=\"root\")\n",
    "vs.plot_coordinate_system(lcs_flange_in_torch, ax_1_01, color=\"g\", label=\"flange\")\n",
    "vs.plot_coordinate_system(lcs_specimen_in_torch, ax_1_01, color=\"y\", label=\"specimen\")\n",
    "vs.plot_coordinate_system(lcs_torch_in_torch, ax_1_01, color=\"b\", label=\"torch\")\n",
    "ax_1_01.set_xlim([-3, 3])\n",
    "ax_1_01.set_ylim([-3, 3])\n",
    "ax_1_01.set_zlim([-3, 3])\n",
    "ax_1_01.set_title(\"torch system\")\n",
    "ax_1_01.legend(loc=\"lower left\")"
   ]
  },
  {
   "cell_type": "markdown",
   "metadata": {},
   "source": [
    "## Updating and deleting coordinate systems\n",
    "\n",
    "A coordinate system can be updated by simply calling `add_cs` again with the correct reference system and an updated `LocalCoordinateSystem` instance. For example, to update the torch system, one could do the following:"
   ]
  },
  {
   "cell_type": "code",
   "execution_count": null,
   "metadata": {},
   "outputs": [],
   "source": [
    "csm.add_cs(\"torch\", \"flange\", tf.LocalCoordinateSystem(coordinates=[0,0,-2]))"
   ]
  },
  {
   "cell_type": "markdown",
   "metadata": {},
   "source": [
    "Lets check if the values have changed"
   ]
  },
  {
   "cell_type": "code",
   "execution_count": null,
   "metadata": {},
   "outputs": [],
   "source": [
    "csm.get_cs(\"torch\", \"flange\")"
   ]
  },
  {
   "cell_type": "markdown",
   "metadata": {},
   "source": [
    "As you can see, the system has been updated. \n",
    "\n",
    "If you want to remove a coordinate system, you have to call `delete_cs`. The function takes two parameters. The first one is the name of the coordinate system you want to delete. The second is a `bool` that controls if child coordinate systems should be deleted too or not. In case you set this parameter to `False` (default) and try to remove a coordinate system with children, an exception is raised. This is an extra layer of security to prevent unintentional deletion of multiple coordinate systems. Here is an example:"
   ]
  },
  {
   "cell_type": "code",
   "execution_count": null,
   "metadata": {},
   "outputs": [],
   "source": [
    "csm_copy = deepcopy(csm)\n",
    "csm_copy"
   ]
  },
  {
   "cell_type": "markdown",
   "metadata": {},
   "source": [
    "We made a copy of the `CoordinateSystemManager`. Now we are going to delete the specimen system, which has no other systems attached to it."
   ]
  },
  {
   "cell_type": "code",
   "execution_count": null,
   "metadata": {},
   "outputs": [],
   "source": [
    "csm_copy.delete_cs(\"specimen\")\n",
    "csm_copy"
   ]
  },
  {
   "cell_type": "markdown",
   "metadata": {},
   "source": [
    "That worked. Now lets try to remove the flange system:"
   ]
  },
  {
   "cell_type": "code",
   "execution_count": null,
   "metadata": {},
   "outputs": [],
   "source": [
    "try:\n",
    "    csm_copy.delete_cs(\"flange\")\n",
    "except:\n",
    "    print(\"Something went wrong! An exception was raised\")"
   ]
  },
  {
   "cell_type": "markdown",
   "metadata": {},
   "source": [
    "Since the torch system is a child of the flange system and we didn't tell the function to delete child systems as well, an exception was raised. Lets retry this, but this time we will tell the function that we want child systems to be removed too:"
   ]
  },
  {
   "cell_type": "code",
   "execution_count": null,
   "metadata": {},
   "outputs": [],
   "source": [
    "csm_copy.delete_cs(\"flange\", True)\n",
    "csm_copy"
   ]
  },
  {
   "cell_type": "markdown",
   "metadata": {},
   "source": [
    "As you can see, we were successful and only the root system is left in the `CoordinateSystemManager` instance."
   ]
  },
  {
   "cell_type": "markdown",
   "metadata": {},
   "source": [
    "## Assignment and transformation of spatial data\n",
    "\n",
    "A coordinate system stored in the `CoordinateSystemManager` can also get spatial data assigned to it. For example, this might be a sensor positions or geometry data in form of a point clouds. In this case it becomes the data's reference system and all values refer to its coordinate origin. \n",
    "\n",
    "Data can be assigned to a coordinate system with the `assign_data` function. It expects 3 parameters. The first one is the actual data. Currently, `xarray.DataArray` is the only supported type. The second parameter is a name of the data and the third one the name of the coordinate system that the data belongs to. In the following lines we define and assign some data to the `CoordinateSystemManager`."
   ]
  },
  {
   "cell_type": "code",
   "execution_count": null,
   "metadata": {},
   "outputs": [],
   "source": [
    "sensor_positions_in_root = xr.DataArray(\n",
    "    [[0, -1, 0], [0, -2, 0]], dims=[\"n\", \"c\"], coords={\"c\": [\"x\", \"y\", \"z\"]}\n",
    ")\n",
    "\n",
    "specimen_geometry_in_specimen = xr.DataArray(\n",
    "    [\n",
    "        [0, 1, 0],\n",
    "        [1, 1, 0],\n",
    "        [2, 1, 0],\n",
    "        [0, 2, 0],\n",
    "        [1, 2, 0],\n",
    "        [2, 2, 0],\n",
    "        [0, 3, 0],\n",
    "        [1, 3, 0],\n",
    "        [2, 3, 0],\n",
    "        [0, 4, 0],\n",
    "        [1, 4, 0],\n",
    "        [2, 4, 0],\n",
    "    ],\n",
    "    dims=[\"n\", \"c\"],\n",
    "    coords={\"c\": [\"x\", \"y\", \"z\"]},\n",
    ")\n",
    "\n",
    "csm.assign_data(sensor_positions_in_root, \"sensors\", \"root\")\n",
    "csm.assign_data(specimen_geometry_in_specimen, \"specimen geometry\", \"specimen\")"
   ]
  },
  {
   "cell_type": "markdown",
   "metadata": {},
   "source": [
    "With the `get_data` function, the unmodified data can be retrieved from the `CoordinateSystemManager` using its name as first parameter. "
   ]
  },
  {
   "cell_type": "code",
   "execution_count": null,
   "metadata": {},
   "outputs": [],
   "source": [
    "assert specimen_geometry_in_specimen.identical(csm.get_data(\"specimen geometry\"))"
   ]
  },
  {
   "cell_type": "markdown",
   "metadata": {},
   "source": [
    "The optional second parameter can be used to get the data transformed into any of the `CoordinateSystemManager`s coordinate systems. You just need to specify the desired target coordinate systems name:"
   ]
  },
  {
   "cell_type": "code",
   "execution_count": null,
   "metadata": {},
   "outputs": [],
   "source": [
    "specimen_geometry_in_root = csm.get_data(\"specimen geometry\", \"root\")\n",
    "\n",
    "sensor_positions_in_torch = csm.get_data(\"sensors\", \"torch\")\n",
    "specimen_geometry_in_torch = csm.get_data(\"specimen geometry\", \"torch\")"
   ]
  },
  {
   "cell_type": "markdown",
   "metadata": {},
   "source": [
    "Here is a plot of the specified data in the root and torch coordinate system."
   ]
  },
  {
   "cell_type": "code",
   "execution_count": null,
   "metadata": {},
   "outputs": [],
   "source": [
    "lcs_root_in_root = tf.LocalCoordinateSystem()\n",
    "lcs_torch_in_torch = tf.LocalCoordinateSystem()\n",
    "\n",
    "# plot coordinate systems\n",
    "fig_02 = plt.figure()\n",
    "fig_02.set_size_inches(16, 8)\n",
    "gs_02 = fig_02.add_gridspec(1, 2)\n",
    "ax_0_02 = fig_02.add_subplot(gs_02[0, 0], projection=\"3d\",proj_type = 'ortho')\n",
    "ax_1_02 = fig_02.add_subplot(gs_02[0, 1], projection=\"3d\",proj_type = 'ortho')\n",
    "\n",
    "# first plot\n",
    "vs.plot_coordinate_system(lcs_root_in_root, ax_0_02, color=\"r\", label=\"root\")\n",
    "vs.plot_coordinate_system(lcs_flange_in_root, ax_0_02, color=\"g\", label=\"flange\")\n",
    "vs.plot_coordinate_system(lcs_specimen_in_root, ax_0_02, color=\"y\", label=\"specimen\")\n",
    "vs.plot_coordinate_system(lcs_torch_in_root, ax_0_02, color=\"b\", label=\"torch\")\n",
    "ax_0_02.plot(\n",
    "    specimen_geometry_in_root[:, 0],\n",
    "    specimen_geometry_in_root[:, 1],\n",
    "    specimen_geometry_in_root[:, 2],\n",
    "    \"xc\",\n",
    "    label=\"specimen geometry\",\n",
    ")\n",
    "ax_0_02.plot(\n",
    "    sensor_positions_in_root[:, 0],\n",
    "    sensor_positions_in_root[:, 1],\n",
    "    sensor_positions_in_root[:, 2],\n",
    "    \"xk\",\n",
    "    label=\"sensor positions\",\n",
    ")\n",
    "\n",
    "\n",
    "ax_0_02.set_xlim([-3, 3])\n",
    "ax_0_02.set_ylim([-3, 3])\n",
    "ax_0_02.set_zlim([-3, 3])\n",
    "ax_0_02.set_title(\"root system\")\n",
    "ax_0_02.legend(loc=\"lower left\")  #\n",
    "\n",
    "\n",
    "# second plot\n",
    "vs.plot_coordinate_system(lcs_root_in_torch, ax_1_02, color=\"r\", label=\"root\")\n",
    "vs.plot_coordinate_system(lcs_flange_in_torch, ax_1_02, color=\"g\", label=\"flange\")\n",
    "vs.plot_coordinate_system(lcs_specimen_in_torch, ax_1_02, color=\"y\", label=\"specimen\")\n",
    "vs.plot_coordinate_system(lcs_torch_in_torch, ax_1_02, color=\"b\", label=\"torch\")\n",
    "ax_1_02.plot(\n",
    "    specimen_geometry_in_torch[:, 0],\n",
    "    specimen_geometry_in_torch[:, 1],\n",
    "    specimen_geometry_in_torch[:, 2],\n",
    "    \"xc\",\n",
    "    label=\"specimen geometry\",\n",
    ")\n",
    "ax_1_02.plot(\n",
    "    sensor_positions_in_torch[:, 0],\n",
    "    sensor_positions_in_torch[:, 1],\n",
    "    sensor_positions_in_torch[:, 2],\n",
    "    \"xk\",\n",
    "    label=\"sensor positions\",\n",
    ")\n",
    "ax_1_02.set_xlim([-3, 3])\n",
    "ax_1_02.set_ylim([-3, 3])\n",
    "ax_1_02.set_zlim([-3, 3])\n",
    "ax_1_02.set_title(\"torch system\")\n",
    "ax_1_02.legend(loc=\"lower left\")"
   ]
  },
  {
   "cell_type": "markdown",
   "metadata": {},
   "source": [
    "It is not necessary to attach data to a coordinate system to transform it to another one. The `CoordinateSystemManager` also provides the `transform_data` function for this purpose. It expects 3 parameters. The first parameter is the actual data and must be a `numpy.ndarray` or an `xarray.DataArray`. The second one is the source system name and the third one the target systems' name:"
   ]
  },
  {
   "cell_type": "code",
   "execution_count": null,
   "metadata": {},
   "outputs": [],
   "source": [
    "assert csm.transform_data(specimen_geometry_in_specimen, \"specimen\", \"root\").identical(\n",
    "    specimen_geometry_in_root\n",
    ")"
   ]
  },
  {
   "cell_type": "markdown",
   "metadata": {},
   "source": [
    "## Time dependencies\n",
    "\n",
    "As described in the previous tutorial about the `LocalCoordinateSystem` class, the orientation of a coordinate system towards its reference system might vary in time.\n",
    "From the API side, time dependent coordinate systems are not treated any different than constant coordinate systems.\n",
    "However, the `get_cs` function needs to perform some time interpolations internally if the timestamps of all involved coordinate systems aren't identical.\n",
    "You might wonder which times the resulting interpolated `LocalCoordinateSystem` possesses.\n",
    "The default behavior is that its timestamps are the time union of all coordinate systems participating in the transformation.\n",
    "However, you can also provide the desired timestamps as a `pandas.TimedeltaIndex` or `pandas.DatetimeIndex` object using the `time` parameter of the `get_cs` function. Another method is to pass the name of a coordinate system that should provide the timestamps to the `time` parameter.\n",
    "\n",
    "Let's define a new `CoordinateSystemManager` to demonstrate the different approaches:"
   ]
  },
  {
   "cell_type": "code",
   "execution_count": null,
   "metadata": {},
   "outputs": [],
   "source": [
    "parent_time = pd.TimedeltaIndex([1, 6], \"D\")\n",
    "parent_coords = [[1, -1, 0], [0, -1, 0]]\n",
    "parent_orientation = tf.rotation_matrix_z([0, np.pi / 2])\n",
    "\n",
    "child_time = pd.TimedeltaIndex([2, 5], \"D\")\n",
    "child_coords = [0, 2, 0]\n",
    "child_orientation = tf.rotation_matrix_z([0, np.pi / 2])\n",
    "\n",
    "\n",
    "childchild_time = pd.TimedeltaIndex([3, 4], \"D\")\n",
    "childchild_coords = [2, 0, 0]\n",
    "childchild_orientation = tf.rotation_matrix_z([0, np.pi / 2])\n",
    "\n",
    "\n",
    "csm_tdp = tf.CoordinateSystemManager(\"root\")\n",
    "csm_tdp.create_cs(\n",
    "    \"parent\",\n",
    "    \"root\",\n",
    "    coordinates=parent_coords,\n",
    "    orientation=parent_orientation,\n",
    "    time=parent_time,\n",
    ")\n",
    "csm_tdp.create_cs(\n",
    "    \"child\",\n",
    "    \"parent\",\n",
    "    coordinates=child_coords,\n",
    "    orientation=child_orientation,\n",
    "    time=child_time,\n",
    ")\n",
    "csm_tdp.create_cs(\n",
    "    \"child child\",\n",
    "    \"child\",\n",
    "    coordinates=childchild_coords,\n",
    "    orientation=childchild_orientation,\n",
    "    time=childchild_time,\n",
    ")"
   ]
  },
  {
   "cell_type": "markdown",
   "metadata": {},
   "source": [
    "Now we request from the `CoordinateSystemManager` to transform all coordinate systems to the `\"root\"` system: "
   ]
  },
  {
   "cell_type": "code",
   "execution_count": null,
   "metadata": {},
   "outputs": [],
   "source": [
    "# default\n",
    "lcs_parent_in_root_default = csm_tdp.get_cs(\"parent\")\n",
    "lcs_child_in_root_default = csm_tdp.get_cs(\"child\", \"root\")\n",
    "lcs_childchild_in_root_default = csm_tdp.get_cs(\n",
    "    \"child child\", \"root\"\n",
    ")\n",
    "\n",
    "# specific times\n",
    "time = pd.TimedeltaIndex([12 * (i + 1) for i in range(12)], \"H\")\n",
    "lcs_parent_in_root_time = csm_tdp.get_cs(\"parent\", time=time)\n",
    "lcs_child_in_root_time = csm_tdp.get_cs(\"child\", \"root\", time=time)\n",
    "lcs_childchild_in_root_time = csm_tdp.get_cs(\n",
    "    \"child child\", \"root\", time=time\n",
    ")\n",
    "\n",
    "# reference system\n",
    "lcs_parent_in_root_ref = csm_tdp.get_cs(\"parent\", time=\"parent\")\n",
    "lcs_child_in_root_ref = csm_tdp.get_cs(\n",
    "    \"child\", \"root\", time=\"parent\"\n",
    ")\n",
    "lcs_childchild_in_root_ref = csm_tdp.get_cs(\n",
    "    \"child child\", \"root\", time=\"parent\"\n",
    ")"
   ]
  },
  {
   "cell_type": "markdown",
   "metadata": {},
   "source": [
    "Here is a plot showing the different results:"
   ]
  },
  {
   "cell_type": "code",
   "execution_count": null,
   "metadata": {},
   "outputs": [],
   "source": [
    "def plot_time_dependent_coordinate_system(lcs, name, color, ax):\n",
    "    coords = []\n",
    "    for i in range(len(lcs.time)):\n",
    "        label = None\n",
    "        if i == 0:\n",
    "            label = name\n",
    "        vs.plot_coordinate_system(lcs, ax, color=color, label=label, time_idx=i)\n",
    "        coords.append(lcs.coordinates[i].data)\n",
    "\n",
    "    line_params = \"--\" + color\n",
    "    coords = np.array(coords)\n",
    "    ax.plot(coords[:, 0], coords[:, 1], coords[:, 2], line_params)\n",
    "\n",
    "\n",
    "def plot_all_interpolated_coordinate_systems(\n",
    "    lcs_parent, lcs_child, lcs_childchild, title, ax\n",
    "):\n",
    "    plot_time_dependent_coordinate_system(lcs_parent, \"parent\", \"g\", ax)\n",
    "    plot_time_dependent_coordinate_system(lcs_child, \"child\", \"y\", ax)\n",
    "    plot_time_dependent_coordinate_system(lcs_childchild, \"child child\", \"b\", ax)\n",
    "\n",
    "    ax.set_xlim([-3, 3])\n",
    "    ax.set_ylim([-3, 3])\n",
    "    ax.set_zlim([-3, 3])\n",
    "    ax.set_title(title)\n",
    "    ax.legend(loc=\"lower left\")\n",
    "\n",
    "\n",
    "fig_tdp = plt.figure()\n",
    "fig_tdp.set_size_inches(18, 6)\n",
    "gs_tdp = fig_tdp.add_gridspec(1, 3)\n",
    "ax_0_tdp = fig_tdp.add_subplot(gs_tdp[0, 0], projection=\"3d\",proj_type = 'ortho')\n",
    "ax_1_tdp = fig_tdp.add_subplot(gs_tdp[0, 1], projection=\"3d\",proj_type = 'ortho')\n",
    "ax_2_tdp = fig_tdp.add_subplot(gs_tdp[0, 2], projection=\"3d\",proj_type = 'ortho')\n",
    "\n",
    "\n",
    "plot_all_interpolated_coordinate_systems(\n",
    "    lcs_parent_in_root_default,\n",
    "    lcs_child_in_root_default,\n",
    "    lcs_childchild_in_root_default,\n",
    "    \"default\",\n",
    "    ax_0_tdp,\n",
    ")\n",
    "\n",
    "plot_all_interpolated_coordinate_systems(\n",
    "    lcs_parent_in_root_time,\n",
    "    lcs_child_in_root_time,\n",
    "    lcs_childchild_in_root_time,\n",
    "    \"specific times\",\n",
    "    ax_1_tdp,\n",
    ")\n",
    "\n",
    "plot_all_interpolated_coordinate_systems(\n",
    "    lcs_parent_in_root_ref,\n",
    "    lcs_child_in_root_ref,\n",
    "    lcs_childchild_in_root_ref,\n",
    "    '\"parent\" as time reference',\n",
    "    ax_2_tdp,\n",
    ")"
   ]
  },
  {
   "cell_type": "markdown",
   "metadata": {},
   "source": [
    "The `CoordinateSystemManager` also has a `interp_time` method. By default, this will return a new instance where every coordinate system is interpolate to match the timestamps provided as first function parameter. Optionally, one can pass a list of coordinate system names that should be interpolated as second parameter. Coordinate systems that are not in the list remain unchanged. One can also choose to perform the operations \"in place\" modifying the current instance of the `CoordinateSystemManager`. Therefore, the third parameter `in_place` has to be set to `True`."
   ]
  },
  {
   "cell_type": "code",
   "execution_count": null,
   "metadata": {},
   "outputs": [],
   "source": [
    "time_new = pd.TimedeltaIndex([1, 3, 5], \"D\") \n",
    "\n",
    "# default interpolation -------------------------\n",
    "csm_tdp_interp = csm_tdp.interp_time(time_new)\n",
    "\n",
    "assert np.all(csm_tdp_interp.get_cs(\"parent\").time == time_new)\n",
    "assert np.all(csm_tdp_interp.get_cs(\"child\").time == time_new)\n",
    "assert np.all(\n",
    "    csm_tdp_interp.get_cs(\"child child\").time == time_new\n",
    ")\n",
    "\n",
    "# selective interpolation -----------------------\n",
    "csm_tdp_interp = csm_tdp.interp_time(time_new, affected_coordinate_systems=[\"child\", \"child child\"])\n",
    "\n",
    "assert np.all(\n",
    "    csm_tdp_interp.get_cs(\"parent\").time\n",
    "    == csm_tdp.get_cs(\"parent\").time\n",
    ")\n",
    "assert np.all(csm_tdp_interp.get_cs(\"child\").time == time_new)\n",
    "assert np.all(\n",
    "    csm_tdp_interp.get_cs(\"child child\").time == time_new\n",
    ")\n",
    "\n",
    "# in place interpolation ------------------------\n",
    "csm_tdp_interp = deepcopy(csm_tdp)\n",
    "csm_tdp_interp.interp_time(time_new, in_place=True)\n",
    "\n",
    "assert np.all(csm_tdp_interp.get_cs(\"parent\").time == time_new)\n",
    "assert np.all(csm_tdp_interp.get_cs(\"child\").time == time_new)\n",
    "assert np.all(\n",
    "    csm_tdp_interp.get_cs(\"child child\").time == time_new\n",
    ")\n",
    "\n"
   ]
  },
  {
   "cell_type": "markdown",
   "metadata": {},
   "source": [
    "## Merging and unmerging\n",
    "\n",
    "Sometimes a larger hierarchy of coordinate systems can be subdivided into multiple smaller subsystems.\n",
    "Defining them individually might be more intuitive and easier.\n",
    "For this reason, the `CoordinateSystemManager` provides the possibility to merge an instance into another one.\n",
    "We will introduce this functionality with a short example.\n",
    "\n",
    "Consider an automated welding process, where the torch is moved by a robot arm.\n",
    "The robot provides two mount points for additional equipment.\n",
    "We know where the torch and the mount points are located in the moving robot head coordinate system.\n",
    "So we can define the following `CoordinateSystemManager` instance to describe the setup:"
   ]
  },
  {
   "cell_type": "code",
   "execution_count": null,
   "metadata": {},
   "outputs": [],
   "source": [
    "csm_robot = tf.CoordinateSystemManager(\"robot head\", \"robot coordinate systems\")\n",
    "csm_robot.create_cs(\"torch\", \"robot head\", coordinates=[0, 0, -2])\n",
    "csm_robot.create_cs(\"mount point 1\", \"robot head\", coordinates=[0, 1, -1])\n",
    "csm_robot.create_cs(\"mount point 2\", \"robot head\", coordinates=[0, -1, -1])\n",
    "csm_robot"
   ]
  },
  {
   "cell_type": "markdown",
   "metadata": {},
   "source": [
    "As extra measurement equipment we have a laser scanner that we want to attach to the first mounting point. It uses its own coordinate system and all the gathered data refers to it. We know the coordinates of the scanners own mount point inside this system so that we can define:"
   ]
  },
  {
   "cell_type": "code",
   "execution_count": null,
   "metadata": {},
   "outputs": [],
   "source": [
    "csm_scanner = tf.CoordinateSystemManager(\"scanner\", \"scanner coordinate systems\")\n",
    "csm_scanner.create_cs(\"mount point 1\", \"scanner\", coordinates=[0, 0, 2])\n",
    "csm_scanner"
   ]
  },
  {
   "cell_type": "markdown",
   "metadata": {},
   "source": [
    "Note that the coordinate system \"mount point 1\" was added to both `CoordinateSystemManager` instances. Merging requires that both instances share exactly one common coordinate system that serves as connecting node.\n",
    "\n",
    "Now we merge the scanner coordinate systems with the robot coordinate systems using the `merge` function:"
   ]
  },
  {
   "cell_type": "code",
   "execution_count": null,
   "metadata": {},
   "outputs": [],
   "source": [
    "csm_robot.merge(csm_scanner)\n",
    "csm_robot"
   ]
  },
  {
   "cell_type": "markdown",
   "metadata": {},
   "source": [
    "You can see in the output above that the scanner coordinate systems were successfully merged into the `CoordinateSystemManager` instance containing the robot data. Let's define some additional `CoordinateSystemManager` instances:"
   ]
  },
  {
   "cell_type": "code",
   "execution_count": null,
   "metadata": {},
   "outputs": [],
   "source": [
    "csm_specimen = tf.CoordinateSystemManager(\"specimen\", \"specimen coordinate systems\")\n",
    "csm_specimen.create_cs(\"thermocouple 1\", \"specimen\", coordinates=[1, 1, 0])\n",
    "csm_specimen.create_cs(\"thermocouple 2\", \"specimen\", coordinates=[1, 4, 0])\n",
    "csm_specimen"
   ]
  },
  {
   "cell_type": "code",
   "execution_count": null,
   "metadata": {},
   "outputs": [],
   "source": [
    "csm_global = tf.CoordinateSystemManager(\"root\", \"global coordinate systems\")\n",
    "csm_global.create_cs(\"specimen\", \"root\", coordinates=[1, 2, 3])\n",
    "csm_global.create_cs(\"robot head\", \"root\", coordinates=[4, 5, 6])\n",
    "csm_global"
   ]
  },
  {
   "cell_type": "markdown",
   "metadata": {},
   "source": [
    "Now we merge them all:"
   ]
  },
  {
   "cell_type": "code",
   "execution_count": null,
   "metadata": {},
   "outputs": [],
   "source": [
    "csm_global.merge(csm_robot)\n",
    "csm_global.merge(csm_specimen)\n",
    "csm_global"
   ]
  },
  {
   "cell_type": "markdown",
   "metadata": {},
   "source": [
    "All coordinate systems are now collected in a single `CoordinateSystemManager`.\n",
    "We can extract the previously merged subsystems with the function `subsystems` property.\n",
    "It returns a list with the `CoordinateSystemManager` instances:"
   ]
  },
  {
   "cell_type": "code",
   "execution_count": null,
   "metadata": {},
   "outputs": [],
   "source": [
    "csm_list = csm_global.subsystems\n",
    "for sub_csm in csm_list:\n",
    "    print(sub_csm.name)"
   ]
  },
  {
   "cell_type": "markdown",
   "metadata": {},
   "source": [
    "Comparing the returned `CoordinateSystemManager` instances with the original ones shows that they are indeed identical:"
   ]
  },
  {
   "cell_type": "code",
   "execution_count": null,
   "metadata": {},
   "outputs": [],
   "source": [
    "for sub_csm in csm_list:\n",
    "    if sub_csm.name == \"robot coordinate systems\":\n",
    "        print(sub_csm == csm_robot)\n",
    "    else:\n",
    "        print(sub_csm == csm_specimen)"
   ]
  },
  {
   "cell_type": "markdown",
   "metadata": {},
   "source": [
    "You might have noticed, that there is no `CoordinateSystemManager` for the scanner systems.\n",
    "The reason for this is that it is a subsystem of the robot coordinate systems and the `subsystems` property does not recursively extract nested subsystems.\n",
    "However, we can simply use `subsystems` a second time to get it:"
   ]
  },
  {
   "cell_type": "code",
   "execution_count": null,
   "metadata": {},
   "outputs": [],
   "source": [
    "for sub_csm in csm_list:\n",
    "    if sub_csm.name == \"robot coordinate systems\":\n",
    "        print(sub_csm.subsystems[0].name)"
   ]
  },
  {
   "cell_type": "markdown",
   "metadata": {},
   "source": [
    "Using the `subsystems` property does not affect the state of the current `CoordinateSystemManager`:"
   ]
  },
  {
   "cell_type": "code",
   "execution_count": null,
   "metadata": {},
   "outputs": [],
   "source": [
    "csm_global"
   ]
  },
  {
   "cell_type": "markdown",
   "metadata": {},
   "source": [
    "To remove all subsystems, you can call `remove_subsystems`:"
   ]
  },
  {
   "cell_type": "code",
   "execution_count": null,
   "metadata": {},
   "outputs": [],
   "source": [
    "csm_global.remove_subsystems()\n",
    "csm_global"
   ]
  },
  {
   "cell_type": "markdown",
   "metadata": {},
   "source": [
    "Alternatively, if you want to decompose a `CoordinateSystemManager` instance into all its subsystems, you can use the `unmerge` function.\n",
    "It works exactly the same as the `subsystems` property with the difference that it also removes all subsystem data from the affected `CoordinateSystemManager` instance."
   ]
  },
  {
   "cell_type": "raw",
   "metadata": {},
   "source": [
    "> **TODO** \n",
    "- Time dependent data"
   ]
  },
  {
   "cell_type": "code",
   "execution_count": null,
   "metadata": {},
   "outputs": [],
   "source": []
  }
 ],
 "metadata": {
  "kernelspec": {
   "display_name": "weldx",
   "language": "python",
   "name": "weldx"
  },
  "language_info": {
   "codemirror_mode": {
    "name": "ipython",
    "version": 3
   },
   "file_extension": ".py",
   "mimetype": "text/x-python",
   "name": "python",
   "nbconvert_exporter": "python",
   "pygments_lexer": "ipython3",
   "version": "3.7.9"
  }
 },
 "nbformat": 4,
 "nbformat_minor": 4
}
