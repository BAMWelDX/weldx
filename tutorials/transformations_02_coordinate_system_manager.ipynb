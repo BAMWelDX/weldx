{
 "cells": [
  {
   "cell_type": "code",
   "execution_count": 2,
   "metadata": {},
   "outputs": [],
   "source": [
    "%matplotlib widget"
   ]
  },
  {
   "cell_type": "code",
   "execution_count": 3,
   "metadata": {},
   "outputs": [],
   "source": [
    "# necesessary packages\n",
    "import weldx.visualization as vs\n",
    "import weldx.transformations as tf"
   ]
  },
  {
   "cell_type": "markdown",
   "metadata": {},
   "source": [
    "# Introduction\n",
    "\n",
    "This tutorial is about the `CoordinateSystemManager` class of the `weldx.transformations` package. It builds upon the tutorial about coordinate systems (tutorials/transformations_01_coordinate_systems.ipynb).\n",
    "\n",
    "The purpose of the `CoordinateSystemManager` is to define and manage the relationships of different coordinate systems and their associated data in a tree-like data structure. It provides methods to transform a `LocalCoordinateSystem` or its data to an arbitrary other coordinate system.\n",
    "\n",
    "# Construct and add coordinate systems\n",
    "\n",
    "The constructor of `CoordinateSystemManager` requires the name of the root coordinate system as parameter. "
   ]
  },
  {
   "cell_type": "code",
   "execution_count": 5,
   "metadata": {},
   "outputs": [],
   "source": [
    "csm = tf.CoordinateSystemManager(\"root\")"
   ]
  },
  {
   "cell_type": "markdown",
   "metadata": {},
   "source": [
    "> **Hint:** The name of a coordinate systems can be any hashable type even though it is advised to use strings.\n",
    "\n",
    "Further coordinate systems can be added with the `add_coordinate_system` member function of the `CoordinateSystemManager`. It expects 3 parameters. The first parameter is the name of the new coordinate system. The second parameter is the name of an already existing coordinate system in which is the reference system of the new one. The third parameter is a `weldx.transformations.LocalCoordinateSystem` that describes the postion and orientation of the new coordinate system in its reference system. "
   ]
  },
  {
   "cell_type": "code",
   "execution_count": 9,
   "metadata": {},
   "outputs": [],
   "source": [
    "# create some coordinate systems\n",
    "lcs_flange_in_root = tf.LocalCoordinateSystem.construct_from_euler(\n",
    "    sequence=\"x\", angles=20, degrees=True, coordinates=[-1, -1, 2]\n",
    ")\n",
    "lcs_torch_in_flange = tf.LocalCoordinateSystem(coordinates=[0, 0, -1])\n",
    "lcs_specimen_in_root = tf.LocalCoordinateSystem(coordinates=[0, 1, -2])\n",
    "\n",
    "# add coordinate systems to CSM\n",
    "csm.add_coordinate_system(\"flange\", \"root\", lcs_flange_in_root)\n",
    "csm.add_coordinate_system(\"torch\",\"flange\",lcs_torch_in_flange)\n",
    "csm.add_coordinate_system(\"specimen\", \"root\", lcs_specimen_in_root)"
   ]
  },
  {
   "cell_type": "markdown",
   "metadata": {},
   "source": [
    "# Transform coordinate systems to another reference system\n",
    "\n",
    "After all coordinate systems are added to the `CoordinateSystemManager`, getting a coordinate system in relation to any other reference system in form of a `LocalCoordinateSystem` class is quite easy. Simply call `get_local_coordinate_system`. The name of the system that should be transformed is passed to the function as first parameter. The second parameter is the name of the target reference system."
   ]
  },
  {
   "cell_type": "code",
   "execution_count": 15,
   "metadata": {},
   "outputs": [],
   "source": [
    "lcs_root_in_torch = csm.get_local_coordinate_system(\"root\", \"torch\")\n",
    "lcs_flange_in_torch = csm.get_local_coordinate_system(\"flange\", \"torch\")\n",
    "lcs_specimen_in_torch = csm.get_local_coordinate_system(\"specimen\", \"torch\")"
   ]
  },
  {
   "cell_type": "markdown",
   "metadata": {},
   "source": [
    "The following plots show the different systems in the root coordinate system and in the torch coordinate system:"
   ]
  },
  {
   "cell_type": "code",
   "execution_count": null,
   "metadata": {},
   "outputs": [],
   "source": []
  }
 ],
 "metadata": {
  "kernelspec": {
   "display_name": "Python (test-environment)",
   "language": "python",
   "name": "test-environment"
  },
  "language_info": {
   "codemirror_mode": {
    "name": "ipython",
    "version": 3
   },
   "file_extension": ".py",
   "mimetype": "text/x-python",
   "name": "python",
   "nbconvert_exporter": "python",
   "pygments_lexer": "ipython3",
   "version": "3.7.6"
  }
 },
 "nbformat": 4,
 "nbformat_minor": 4
}
