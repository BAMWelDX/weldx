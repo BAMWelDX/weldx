{
 "cells": [
  {
   "cell_type": "code",
   "execution_count": 1,
   "metadata": {},
   "outputs": [
    {
     "name": "stdout",
     "output_type": "stream",
     "text": [
      "/home/jupyter-vhirtham/weldx/weldx\n"
     ]
    }
   ],
   "source": [
    "%cd .."
   ]
  },
  {
   "cell_type": "code",
   "execution_count": 2,
   "metadata": {},
   "outputs": [],
   "source": [
    "%matplotlib widget"
   ]
  },
  {
   "cell_type": "code",
   "execution_count": 3,
   "metadata": {},
   "outputs": [],
   "source": [
    "# necesessary packages\n",
    "import matplotlib.pyplot as plt\n",
    "import weldx.transformations as tf\n",
    "import weldx.visualization as vs\n",
    "import xarray as xr\n",
    "from mpl_toolkits.mplot3d import Axes3D  # noqa: F401 unused import"
   ]
  },
  {
   "cell_type": "markdown",
   "metadata": {},
   "source": [
    "# Introduction\n",
    "\n",
    "This tutorial is about the `CoordinateSystemManager` class of the `weldx.transformations` package. It builds upon the tutorial about coordinate systems (tutorials/transformations_01_coordinate_systems.ipynb).\n",
    "\n",
    "The purpose of the `CoordinateSystemManager` is to define and manage the relationships of different coordinate systems and their associated data in a tree-like data structure. It provides methods to transform a `LocalCoordinateSystem` or its data to an arbitrary other coordinate system.\n",
    "\n",
    "# Construct and add coordinate systems\n",
    "\n",
    "The constructor of `CoordinateSystemManager` requires the name of the root coordinate system as parameter. "
   ]
  },
  {
   "cell_type": "code",
   "execution_count": 4,
   "metadata": {},
   "outputs": [],
   "source": [
    "csm = tf.CoordinateSystemManager(\"root\")"
   ]
  },
  {
   "cell_type": "markdown",
   "metadata": {},
   "source": [
    "> **Hint:** The name of a coordinate systems can be any hashable type even though it is advised to use strings.\n",
    "\n",
    "Further coordinate systems can be added with the `add_coordinate_system` member function of the `CoordinateSystemManager`. It expects 3 parameters. The first parameter is the name of the new coordinate system. The second parameter is the name of an already existing coordinate system in which is the reference system of the new one. The third parameter is a `weldx.transformations.LocalCoordinateSystem` that describes the postion and orientation of the new coordinate system in its reference system. "
   ]
  },
  {
   "cell_type": "code",
   "execution_count": 5,
   "metadata": {},
   "outputs": [],
   "source": [
    "# create some coordinate systems\n",
    "lcs_flange_in_root = tf.LocalCoordinateSystem.construct_from_euler(\n",
    "    sequence=\"x\", angles=20, degrees=True, coordinates=[-1, -1, 2]\n",
    ")\n",
    "lcs_torch_in_flange = tf.LocalCoordinateSystem(coordinates=[0, 0, -1])\n",
    "lcs_specimen_in_root = tf.LocalCoordinateSystem(coordinates=[0, 1, -2])\n",
    "\n",
    "# add coordinate systems to CSM\n",
    "csm.add_coordinate_system(\"flange\", \"root\", lcs_flange_in_root)\n",
    "csm.add_coordinate_system(\"torch\", \"flange\", lcs_torch_in_flange)\n",
    "csm.add_coordinate_system(\"specimen\", \"root\", lcs_specimen_in_root)"
   ]
  },
  {
   "cell_type": "markdown",
   "metadata": {},
   "source": [
    "# Transform coordinate systems to another reference system\n",
    "\n",
    "After all coordinate systems are added to the `CoordinateSystemManager`, getting a coordinate system in relation to any other reference system in form of a `LocalCoordinateSystem` class is quite easy. Simply call `get_local_coordinate_system`. The name of the system that should be transformed is passed to the function as first parameter. The second parameter is the name of the target reference system."
   ]
  },
  {
   "cell_type": "code",
   "execution_count": 6,
   "metadata": {},
   "outputs": [],
   "source": [
    "lcs_torch_in_root = csm.get_local_coordinate_system(\"torch\", \"root\")\n",
    "\n",
    "lcs_root_in_torch = csm.get_local_coordinate_system(\"root\", \"torch\")\n",
    "lcs_flange_in_torch = csm.get_local_coordinate_system(\"flange\", \"torch\")\n",
    "lcs_specimen_in_torch = csm.get_local_coordinate_system(\"specimen\", \"torch\")"
   ]
  },
  {
   "cell_type": "markdown",
   "metadata": {},
   "source": [
    "The following plots show the different systems in the root coordinate system and in the torch coordinate system:"
   ]
  },
  {
   "cell_type": "code",
   "execution_count": 7,
   "metadata": {},
   "outputs": [
    {
     "data": {
      "application/vnd.jupyter.widget-view+json": {
       "model_id": "6e771a7229244d969b927d68d3b938cc",
       "version_major": 2,
       "version_minor": 0
      },
      "text/plain": [
       "Canvas(toolbar=Toolbar(toolitems=[('Home', 'Reset original view', 'home', 'home'), ('Back', 'Back to previous …"
      ]
     },
     "metadata": {},
     "output_type": "display_data"
    },
    {
     "data": {
      "text/plain": [
       "<matplotlib.legend.Legend at 0x7f3258c29070>"
      ]
     },
     "execution_count": 7,
     "metadata": {},
     "output_type": "execute_result"
    }
   ],
   "source": [
    "lcs_root_in_root = tf.LocalCoordinateSystem()\n",
    "lcs_torch_in_torch = tf.LocalCoordinateSystem()\n",
    "\n",
    "# plot coordinate systems\n",
    "fig_01 = plt.figure()\n",
    "fig_01.set_size_inches(16, 8)\n",
    "gs_01 = fig_01.add_gridspec(1, 2)\n",
    "ax_0_01 = fig_01.add_subplot(gs_01[0, 0], projection=\"3d\")\n",
    "ax_1_01 = fig_01.add_subplot(gs_01[0, 1], projection=\"3d\")\n",
    "\n",
    "# first plot\n",
    "vs.plot_coordinate_system(lcs_root_in_root, ax_0_01, color=\"r\", label=\"root\")\n",
    "vs.plot_coordinate_system(lcs_flange_in_root, ax_0_01, color=\"g\", label=\"flange\")\n",
    "vs.plot_coordinate_system(lcs_specimen_in_root, ax_0_01, color=\"y\", label=\"specimen\")\n",
    "vs.plot_coordinate_system(lcs_torch_in_root, ax_0_01, color=\"b\", label=\"torch\")\n",
    "ax_0_01.set_xlim([-3, 3])\n",
    "ax_0_01.set_ylim([-3, 3])\n",
    "ax_0_01.set_zlim([-3, 3])\n",
    "ax_0_01.set_title(\"root system\")\n",
    "ax_0_01.legend(loc=\"lower left\")  #\n",
    "\n",
    "\n",
    "# second plot\n",
    "vs.plot_coordinate_system(lcs_root_in_torch, ax_1_01, color=\"r\", label=\"root\")\n",
    "vs.plot_coordinate_system(lcs_flange_in_torch, ax_1_01, color=\"g\", label=\"flange\")\n",
    "vs.plot_coordinate_system(lcs_specimen_in_torch, ax_1_01, color=\"y\", label=\"specimen\")\n",
    "vs.plot_coordinate_system(lcs_torch_in_torch, ax_1_01, color=\"b\", label=\"torch\")\n",
    "ax_1_01.set_xlim([-3, 3])\n",
    "ax_1_01.set_ylim([-3, 3])\n",
    "ax_1_01.set_zlim([-3, 3])\n",
    "ax_1_01.set_title(\"torch system\")\n",
    "ax_1_01.legend(loc=\"lower left\")"
   ]
  },
  {
   "cell_type": "markdown",
   "metadata": {},
   "source": [
    "# Assignment and transformation of spatial data\n",
    "\n",
    "A coordinate system stored in the `CoordinateSystemManager` can also get spatial data assigned to it. For example, this might be a sensor positions or geometry data in form of a point clouds. In this case it becomes the data's reference system and all values refer to its coordinate origin. \n",
    "\n",
    "Data can be assigned to a coordinate system with the `assign_data` function. It expects 3 parameters. The first one is the actual data. Currently, `xarray.DataArray` is the only supported type. The second parameter is a name of the data and the third one the name of the coordinate system that the data belongs to. In the following lines we define and assign some data to the `CoordinateSystemManager`."
   ]
  },
  {
   "cell_type": "code",
   "execution_count": 8,
   "metadata": {},
   "outputs": [],
   "source": [
    "sensor_positions_in_root = xr.DataArray(\n",
    "    [[1, 0, 0], [2, 0, 0]], dims=[\"n\", \"c\"], coords={\"c\": [\"x\", \"y\", \"z\"]}\n",
    ")\n",
    "\n",
    "specimen_geometry_in_specimen = xr.DataArray(\n",
    "    [\n",
    "        [0, 1, 0],\n",
    "        [1, 1, 0],\n",
    "        [2, 1, 0],\n",
    "        [0, 2, 0],\n",
    "        [1, 2, 0],\n",
    "        [2, 2, 0],\n",
    "        [0, 3, 0],\n",
    "        [1, 3, 0],\n",
    "        [2, 3, 0],\n",
    "        [0, 4, 0],\n",
    "        [1, 4, 0],\n",
    "        [2, 4, 0],\n",
    "    ],\n",
    "    dims=[\"n\", \"c\"],\n",
    "    coords={\"c\": [\"x\", \"y\", \"z\"]},\n",
    ")\n",
    "\n",
    "csm.assign_data(sensor_positions_in_root,\"sensors\", \"root\")\n",
    "csm.assign_data(specimen_geometry_in_specimen,\"specimen geometry\", \"specimen\")"
   ]
  },
  {
   "cell_type": "markdown",
   "metadata": {},
   "source": [
    "With the `get_data` function, the unmodified data can be retrieved from the `CoordinateSystemManager` using its name as first parameter. "
   ]
  },
  {
   "cell_type": "code",
   "execution_count": 10,
   "metadata": {},
   "outputs": [],
   "source": [
    "assert specimen_geometry_in_specimen.identical(csm.get_data(\"specimen geometry\"))"
   ]
  },
  {
   "cell_type": "markdown",
   "metadata": {},
   "source": [
    "The optional second parameter can be used to get the data transformed into any of the `CoordinateSystemManager`s coordinate systems. You just need to specify the desired coordinate systems name:"
   ]
  },
  {
   "cell_type": "code",
   "execution_count": 12,
   "metadata": {},
   "outputs": [],
   "source": [
    "specimen_geometry_in_root = csm.get_data(\"specimen geometry\", \"root\")\n",
    "\n",
    "sensor_positions_in_torch = csm.get_data(\"sensors\", \"torch\")\n",
    "specimen_geometry_in_torch = csm.get_data(\"specimen geometry\", \"torch\")"
   ]
  },
  {
   "cell_type": "markdown",
   "metadata": {},
   "source": [
    "Here is a plot of the specified data in the root and torch coordinate system."
   ]
  },
  {
   "cell_type": "code",
   "execution_count": 13,
   "metadata": {},
   "outputs": [
    {
     "data": {
      "application/vnd.jupyter.widget-view+json": {
       "model_id": "1d3a5f81ecf0407da43916888409271b",
       "version_major": 2,
       "version_minor": 0
      },
      "text/plain": [
       "Canvas(toolbar=Toolbar(toolitems=[('Home', 'Reset original view', 'home', 'home'), ('Back', 'Back to previous …"
      ]
     },
     "metadata": {},
     "output_type": "display_data"
    },
    {
     "data": {
      "text/plain": [
       "<matplotlib.legend.Legend at 0x7f3257fb8be0>"
      ]
     },
     "execution_count": 13,
     "metadata": {},
     "output_type": "execute_result"
    }
   ],
   "source": [
    "lcs_root_in_root = tf.LocalCoordinateSystem()\n",
    "lcs_torch_in_torch = tf.LocalCoordinateSystem()\n",
    "\n",
    "# plot coordinate systems\n",
    "fig_02 = plt.figure()\n",
    "fig_02.set_size_inches(16, 8)\n",
    "gs_02 = fig_02.add_gridspec(1, 2)\n",
    "ax_0_02 = fig_02.add_subplot(gs_02[0, 0], projection=\"3d\")\n",
    "ax_1_02 = fig_02.add_subplot(gs_02[0, 1], projection=\"3d\")\n",
    "\n",
    "# first plot\n",
    "vs.plot_coordinate_system(lcs_root_in_root, ax_0_02, color=\"r\", label=\"root\")\n",
    "vs.plot_coordinate_system(lcs_flange_in_root, ax_0_02, color=\"g\", label=\"flange\")\n",
    "vs.plot_coordinate_system(lcs_specimen_in_root, ax_0_02, color=\"y\", label=\"specimen\")\n",
    "vs.plot_coordinate_system(lcs_torch_in_root, ax_0_02, color=\"b\", label=\"torch\")\n",
    "ax_0_02.plot(specimen_geometry_in_root[:,0],specimen_geometry_in_root[:,1],specimen_geometry_in_root[:,2], \"xc\", label=\"specimen geometry\")\n",
    "ax_0_02.plot(sensor_positions_in_root[:,0],sensor_positions_in_root[:,1],sensor_positions_in_root[:,2], \"xk\", label=\"sensor positions\")\n",
    "    \n",
    "\n",
    "ax_0_02.set_xlim([-3, 3])\n",
    "ax_0_02.set_ylim([-3, 3])\n",
    "ax_0_02.set_zlim([-3, 3])\n",
    "ax_0_02.set_title(\"root system\")\n",
    "ax_0_02.legend(loc=\"lower left\")  #\n",
    "\n",
    "\n",
    "# second plot\n",
    "vs.plot_coordinate_system(lcs_root_in_torch, ax_1_02, color=\"r\", label=\"root\")\n",
    "vs.plot_coordinate_system(lcs_flange_in_torch, ax_1_02, color=\"g\", label=\"flange\")\n",
    "vs.plot_coordinate_system(lcs_specimen_in_torch, ax_1_02, color=\"y\", label=\"specimen\")\n",
    "vs.plot_coordinate_system(lcs_torch_in_torch, ax_1_02, color=\"b\", label=\"torch\")\n",
    "ax_1_02.plot(specimen_geometry_in_torch[:,0],specimen_geometry_in_torch[:,1],specimen_geometry_in_torch[:,2], \"xc\", label=\"specimen geometry\")\n",
    "ax_1_02.plot(sensor_positions_in_torch[:,0],sensor_positions_in_torch[:,1],sensor_positions_in_torch[:,2], \"xk\", label=\"sensor positions\")\n",
    "ax_1_02.set_xlim([-3, 3])\n",
    "ax_1_02.set_ylim([-3, 3])\n",
    "ax_1_02.set_zlim([-3, 3])\n",
    "ax_1_02.set_title(\"torch system\")\n",
    "ax_1_02.legend(loc=\"lower left\")"
   ]
  },
  {
   "cell_type": "markdown",
   "metadata": {},
   "source": [
    "It is not necessary to attach data to a coordinate system to transform it to another one. The `CoordinateSystemManager` also provides the `transform_data` function for this purpose. It expects 3 parameters. The first parameter is the actual data and must be a `numpy.ndarray` or an `xarray.DataArray`. The second one is the source system name and the third one the target systems' name:"
   ]
  },
  {
   "cell_type": "code",
   "execution_count": 18,
   "metadata": {},
   "outputs": [],
   "source": [
    "assert csm.transform_data(specimen_geometry_in_specimen,\"specimen\",\"root\").identical(specimen_geometry_in_root)"
   ]
  },
  {
   "cell_type": "code",
   "execution_count": null,
   "metadata": {},
   "outputs": [],
   "source": []
  }
 ],
 "metadata": {
  "kernelspec": {
   "display_name": "libo (3.8)",
   "language": "python",
   "name": "libo_38"
  },
  "language_info": {
   "codemirror_mode": {
    "name": "ipython",
    "version": 3
   },
   "file_extension": ".py",
   "mimetype": "text/x-python",
   "name": "python",
   "nbconvert_exporter": "python",
   "pygments_lexer": "ipython3",
   "version": "3.8.2"
  }
 },
 "nbformat": 4,
 "nbformat_minor": 4
}
