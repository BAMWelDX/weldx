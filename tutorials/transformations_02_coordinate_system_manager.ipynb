{
 "cells": [
  {
   "cell_type": "markdown",
   "metadata": {},
   "source": [
    "# Transformations Tutorial #2: The Coordinate System Manager\n",
    "\n",
    "## Introduction\n",
    "\n",
    "This tutorial is about the `CoordinateSystemManager` (CSM) class of the `weldx.transformations` package. It builds upon the [tutorial about coordinate systems](transformations_01_coordinate_systems.ipynb), but the content of this tutorial can still be understood without reading the other one first.\n",
    "\n",
    "The purpose of the `CoordinateSystemManager` is to define and manage the relationships of different coordinate systems and their associated data in a tree-like data structure. It provides methods to transform a `LocalCoordinateSystem` (LCS) or its data to an arbitrary other coordinate system.\n",
    "\n",
    "> HINT: \n",
    "> This tutorial contains interactive plots. \n",
    "> In the readthedocs/html version of this tutorial, the function set is very limited.\n",
    "> By clicking on the binder-link at the top of the document, you can start a fully interactive jupyter-lab online session of this tutorial.\n",
    "\n",
    "## Imports"
   ]
  },
  {
   "cell_type": "code",
   "execution_count": null,
   "metadata": {},
   "outputs": [],
   "source": [
    "from copy import deepcopy\n",
    "\n",
    "import numpy as np\n",
    "import xarray as xr\n",
    "\n",
    "from weldx import Q_, CoordinateSystemManager, LocalCoordinateSystem, WXRotation"
   ]
  },
  {
   "cell_type": "markdown",
   "metadata": {},
   "source": [
    "## Create a CSM and add coordinate systems\n",
    "\n",
    "The creation of `CoordinateSystemManager` requires the name of the root coordinate system as parameter. As optional second parameter, we can give the `CoordinateSystemManager` instance a name. If no name is provided, it will get a default name."
   ]
  },
  {
   "cell_type": "code",
   "execution_count": null,
   "metadata": {},
   "outputs": [],
   "source": [
    "csm = CoordinateSystemManager(\"root\", \"My CSM\")"
   ]
  },
  {
   "cell_type": "markdown",
   "metadata": {},
   "source": [
    "Further coordinate systems can be added with the `add_cs` member function of the `CoordinateSystemManager`. \n",
    "It expects four parameters with the fourth being optional. \n",
    "1. The name of the new coordinate system. \n",
    "2. The name of an already existing coordinate system in which is the reference system of the new one. \n",
    "3. A `LocalCoordinateSystem` that describes the position and orientation of the new coordinate system in its reference system.\n",
    "\n",
    "In case you only have the inverse data, meaning the position and orientation of the reference system inside the new coordinate system, you can set the fourth parameter (`lsc_child_in_parent`) to `False` and use the corresponding data instead."
   ]
  },
  {
   "cell_type": "code",
   "execution_count": null,
   "metadata": {},
   "outputs": [],
   "source": [
    "lcs_specimen_in_root = LocalCoordinateSystem(coordinates=Q_([0, 1, -2], \"mm\"))\n",
    "lcs_specimen_in_thermocouple = LocalCoordinateSystem(coordinates=Q_([-1, -1, 0], \"mm\"))\n",
    "\n",
    "csm.add_cs(\"specimen\", \"root\", lcs_specimen_in_root)\n",
    "csm.add_cs(\n",
    "    \"thermocouple\", \"specimen\", lcs_specimen_in_thermocouple, lsc_child_in_parent=False\n",
    ")"
   ]
  },
  {
   "cell_type": "markdown",
   "metadata": {},
   "source": [
    "Additionally, the `CoordinateSystemManager` provides some functions that create the `LocalCoordinateSystem` internally. \n",
    "The method `create_cs` takes the name of the new coordinate system and its reference system as first two parameters. \n",
    "The remaining parameters and their default values are identical to the ones from the `LocalCoordinateSystem.__init__` method. \n",
    "Similarly, there are functions for each of the ´LocalCoordinateSystem´s construction/factory methods (`from_euler`, `from_xyz`, etc.). \n",
    "The naming is simply `create_cs_` plus the name of the corresponding function of the `LoocalCoordinateSystem`. \n",
    "For example `construct_cs_from_euler`. \n",
    "As with `add_cs`, the last parameter of all those methods is `lsc_child_in_parent` which can be set to `False` if the provided values represent the orientation and coordinates of the reference system in the new child system."
   ]
  },
  {
   "cell_type": "code",
   "execution_count": null,
   "metadata": {},
   "outputs": [],
   "source": [
    "csm.create_cs_from_euler(\n",
    "    \"flange\",\n",
    "    \"root\",\n",
    "    sequence=\"x\",\n",
    "    angles=20,\n",
    "    degrees=True,\n",
    "    coordinates=Q_([-1, -1, 2], \"mm\"),\n",
    ")\n",
    "csm.create_cs(\"torch\", \"flange\", coordinates=Q_([0, 0, -1], \"mm\"))"
   ]
  },
  {
   "cell_type": "markdown",
   "metadata": {},
   "source": [
    "Please consult the [API documentation of the CSM](https://weldx.readthedocs.io/en/latest/_autosummary/weldx.CoordinateSystemManager.html#weldx.CoordinateSystemManager) to get an overview over the different LCS creation methods and their parameters"
   ]
  },
  {
   "cell_type": "markdown",
   "metadata": {},
   "source": [
    "## Visualizing the coordinate system managers structure\n",
    "\n",
    "The internal structure of the `CoordinateSystemManager` is a tree. We can visualize it using the `plot_graph` function:"
   ]
  },
  {
   "cell_type": "code",
   "execution_count": null,
   "metadata": {},
   "outputs": [],
   "source": [
    "csm.plot_graph();"
   ]
  },
  {
   "cell_type": "markdown",
   "metadata": {},
   "source": [
    "Inside of an ipython notebook it is sufficient to place the name of a `CoordinateSystemManager` instance at the end of a code cell to plot its graph:"
   ]
  },
  {
   "cell_type": "code",
   "execution_count": null,
   "metadata": {},
   "outputs": [],
   "source": [
    "csm"
   ]
  },
  {
   "cell_type": "markdown",
   "metadata": {},
   "source": [
    "## Getting coordinate systems and transformations to another reference system\n",
    "\n",
    "Getting a coordinate system in relation to any other reference system in form of a `LocalCoordinateSystem` class is quite easy. \n",
    "Simply call `get_cs` with two parameters:\n",
    "\n",
    "1. The name of the system that should be transformed.\n",
    "2. The name of the target reference system.\n",
    "\n",
    "Let's try this for some coordinate systems:"
   ]
  },
  {
   "cell_type": "code",
   "execution_count": null,
   "metadata": {},
   "outputs": [],
   "source": [
    "csm.get_cs(\"specimen\", \"root\") == lcs_specimen_in_root"
   ]
  },
  {
   "cell_type": "markdown",
   "metadata": {},
   "source": [
    "Here we get a coordinate system we added directly to the CSM.\n",
    "Therefore, no transformation is needed and the equality check is passed.\n",
    "If we want to get a coordinate system inside of its parent system, we can omit the second parameter as proven below:"
   ]
  },
  {
   "cell_type": "code",
   "execution_count": null,
   "metadata": {},
   "outputs": [],
   "source": [
    "csm.get_cs(\"specimen\", \"root\") == csm.get_cs(\"specimen\")"
   ]
  },
  {
   "cell_type": "markdown",
   "metadata": {},
   "source": [
    "However, note that the returned coordinate system is not necessarily identical to the one that we used during the definition.\n",
    "If we were setting the `lsc_child_in_parent` during the addition of the coordinate system to `False`, we provided the inverse transformation:"
   ]
  },
  {
   "cell_type": "code",
   "execution_count": null,
   "metadata": {},
   "outputs": [],
   "source": [
    "csm.get_cs(\"thermocouple\") == lcs_specimen_in_thermocouple"
   ]
  },
  {
   "cell_type": "code",
   "execution_count": null,
   "metadata": {},
   "outputs": [],
   "source": [
    "csm.get_cs(\"specimen\", \"thermocouple\") == lcs_specimen_in_thermocouple"
   ]
  },
  {
   "cell_type": "markdown",
   "metadata": {},
   "source": [
    "Let's get the coordinate \"thermocouple\" coordinate system in reference to the \"root\" system:"
   ]
  },
  {
   "cell_type": "code",
   "execution_count": null,
   "metadata": {},
   "outputs": [],
   "source": [
    "csm.get_cs(\"thermocouple\", \"root\")"
   ]
  },
  {
   "cell_type": "markdown",
   "metadata": {},
   "source": [
    "Since the coordinate systems along the transformation path (\"thermocouple\", \"specimen\", \"root\") are not rotated, the coordinates of the resulting coordinate system is simply the sum of the individual coordinates:"
   ]
  },
  {
   "cell_type": "code",
   "execution_count": null,
   "metadata": {},
   "outputs": [],
   "source": [
    "coords_transformed = csm.get_cs(\"thermocouple\", \"root\").coordinates.data\n",
    "coords_sum = (\n",
    "    csm.get_cs(\"thermocouple\").coordinates + csm.get_cs(\"specimen\").coordinates\n",
    ").data\n",
    "\n",
    "np.all(coords_transformed == coords_sum)"
   ]
  },
  {
   "cell_type": "markdown",
   "metadata": {},
   "source": [
    "As you can see, getting coordinate systems in reference to any of the other coordinate systems of the CSM is quite easy."
   ]
  },
  {
   "cell_type": "markdown",
   "metadata": {},
   "source": [
    "# Visualizing the coordinate systems of the CSM\n",
    "\n",
    "You can visualize all coordinate systems of the CSM in relation to each other by using its `plot` function.\n",
    "The `backend` parameter defines which rendering engine should be used.\n",
    "We will use `\"mpl\"` to use matplotlib first:\n",
    "\n",
    "> HINT: Note that you need the weldx-widgets package installed to use this functionality. Either use `pip install weldx-widgets` or `conda install weldx_widgets -c conda-forge` to install it"
   ]
  },
  {
   "cell_type": "code",
   "execution_count": null,
   "metadata": {},
   "outputs": [],
   "source": [
    "csm.plot(backend=\"mpl\");"
   ]
  },
  {
   "cell_type": "markdown",
   "metadata": {},
   "source": [
    "By default the root coordinate system is the reference system of the plot, but we can change it using the `reference_system` parameter as follows:"
   ]
  },
  {
   "cell_type": "code",
   "execution_count": null,
   "metadata": {},
   "outputs": [],
   "source": [
    "csm.plot(reference_system=\"torch\", backend=\"mpl\");"
   ]
  },
  {
   "cell_type": "markdown",
   "metadata": {},
   "source": [
    "The plot function has many other options that can be used to adjust the apearance of the plot.\n",
    "Consult the [function documentation](https://weldx.readthedocs.io/en/latest/_autosummary/weldx.CoordinateSystemManager.plot.html#weldx.CoordinateSystemManager.plot) for further details.\n",
    "\n",
    "If you are running a jupyter notebook, you can use k3d as rendering backend.\n",
    "It has a much more powerful rendering engine suited for 3d plots that can handle a vast amount of data and provides an interactive rendering window.\n",
    "Furthermore, the `plot` function of the CSM creates some additional control surfaces if k3d is used.\n",
    "This gives you the opportunity to modify the plot directly using buttons, checkboxes, sliders, etc. instead of recreating it with a different set of function parameters: \n",
    "\n",
    "> HINT: Note that some of the interactive functionality can't be used in the readthedocs documentation. Click on the binder link at the top of the document to start a jupyter-lab session that runs this tutorial online."
   ]
  },
  {
   "cell_type": "code",
   "execution_count": null,
   "metadata": {},
   "outputs": [],
   "source": [
    "csm.plot(backend=\"k3d\")"
   ]
  },
  {
   "cell_type": "markdown",
   "metadata": {},
   "source": [
    "## Renaming existing coordinate systems\n",
    "Existing coordinate system nodes can be renamed using the `relabel` method.\n",
    "It expects a dictionary that maps old names to new ones as input.\n",
    "\n",
    "*Note: it is not possible to rename nodes on `CSM` instances that contain subsystems of any form.*"
   ]
  },
  {
   "cell_type": "code",
   "execution_count": null,
   "metadata": {},
   "outputs": [],
   "source": [
    "csm.relabel({\"thermocouple\": \"TC\"})\n",
    "csm"
   ]
  },
  {
   "cell_type": "markdown",
   "metadata": {},
   "source": [
    "## Updating and deleting coordinate system transformations\n",
    "\n",
    "A coordinate system can be updated by simply calling `add_cs` again with the correct reference system and an updated `LocalCoordinateSystem` instance. \n",
    "For example, to update the torch system, one could do the following:"
   ]
  },
  {
   "cell_type": "code",
   "execution_count": null,
   "metadata": {},
   "outputs": [],
   "source": [
    "csm.add_cs(\"torch\", \"flange\", LocalCoordinateSystem(coordinates=Q_([0, 0, -2], \"mm\")))"
   ]
  },
  {
   "cell_type": "markdown",
   "metadata": {},
   "source": [
    "Lets check if the values have changed"
   ]
  },
  {
   "cell_type": "code",
   "execution_count": null,
   "metadata": {},
   "outputs": [],
   "source": [
    "csm.get_cs(\"torch\", \"flange\")"
   ]
  },
  {
   "cell_type": "markdown",
   "metadata": {},
   "source": [
    "As you can see, the system has been updated. \n",
    "\n",
    "If you want to remove a coordinate system, you have to call `delete_cs`. \n",
    "The function takes two parameters.\n",
    "\n",
    "1. name of the coordinate system you want to delete.\n",
    "2. a `bool` that controls if child coordinate systems should be deleted too or not.\n",
    "\n",
    "In case you set this parameter to `False` (default) and try to remove a coordinate system with children, an exception is raised. \n",
    "This is an extra layer of security to prevent unintentional deletion of multiple coordinate systems. \n",
    "Here is an example:"
   ]
  },
  {
   "cell_type": "code",
   "execution_count": null,
   "metadata": {},
   "outputs": [],
   "source": [
    "csm_copy = deepcopy(csm)\n",
    "csm_copy"
   ]
  },
  {
   "cell_type": "markdown",
   "metadata": {},
   "source": [
    "We made a copy of the `CoordinateSystemManager`.\n",
    "Now we are going to delete the specimen system, which has no other systems attached to it."
   ]
  },
  {
   "cell_type": "code",
   "execution_count": null,
   "metadata": {},
   "outputs": [],
   "source": [
    "csm_copy.delete_cs(\"TC\")\n",
    "csm_copy"
   ]
  },
  {
   "cell_type": "markdown",
   "metadata": {},
   "source": [
    "That worked. Now lets try to remove the flange system:"
   ]
  },
  {
   "cell_type": "code",
   "execution_count": null,
   "metadata": {},
   "outputs": [],
   "source": [
    "try:\n",
    "    csm_copy.delete_cs(\"flange\")\n",
    "except Exception as e:\n",
    "    print(f\"Something went wrong! The following exception was raised:\\n{e}\")"
   ]
  },
  {
   "cell_type": "markdown",
   "metadata": {},
   "source": [
    "Since the torch system is a child of the flange system and we didn't tell the function to delete child systems as well, an exception was raised. Lets retry this, but this time we will tell the function that we want child systems to be removed too:"
   ]
  },
  {
   "cell_type": "code",
   "execution_count": null,
   "metadata": {},
   "outputs": [],
   "source": [
    "csm_copy.delete_cs(\"flange\", True)\n",
    "csm_copy"
   ]
  },
  {
   "cell_type": "markdown",
   "metadata": {},
   "source": [
    "As you can see, we were successful and only the \"root\" and \"specimen\" coordinate systems are left in the `CoordinateSystemManager` instance."
   ]
  },
  {
   "cell_type": "markdown",
   "metadata": {},
   "source": [
    "## Assignment and transformation of spatial data\n",
    "\n",
    "A coordinate system stored in the `CoordinateSystemManager` can also get spatial data assigned to it. \n",
    "For example, this might be a sensor positions or geometry data in form of a point clouds. \n",
    "In this case it becomes the data's reference system and all values refer to its coordinate origin. \n",
    "\n",
    "Data can be assigned to a coordinate system with the `assign_data` function. \n",
    "It expects two parameters.\n",
    "1. The actual data. This can either be an `SpatialData` instance or an `xarray.DataArray`. \n",
    "2. A name of the data and the third one the name of the coordinate system that the data belongs to. \n",
    "\n",
    "In the following lines we define and assign some data to the `CoordinateSystemManager`.\n",
    "Let's create some data first:"
   ]
  },
  {
   "cell_type": "code",
   "execution_count": null,
   "metadata": {},
   "outputs": [],
   "source": [
    "from weldx import SpatialData\n",
    "\n",
    "sensor_positions_in_root = xr.DataArray(\n",
    "    Q_([[0, -1, 0], [0, -2, 0]], \"mm\"), dims=[\"n\", \"c\"], coords={\"c\": [\"x\", \"y\", \"z\"]}\n",
    ")\n",
    "\n",
    "points = Q_([[0, 1, -1], [2, 1, -1], [0, 4, -1], [2, 4, -1]], \"mm\")\n",
    "triangles = [[0, 1, 2], [2, 3, 1]]\n",
    "specimen_geometry_in_specimen = SpatialData(points, triangles)"
   ]
  },
  {
   "cell_type": "markdown",
   "metadata": {},
   "source": [
    "The `SpatialData` class we used above is mostly a container class for 3d data.\n",
    "Additionally to pure point data, it can also store connectivety data in form of triangles.\n",
    "Consult the [class documentation](https://weldx.readthedocs.io/en/latest/_autosummary/weldx.SpatialData.html#weldx.SpatialData) for further information.\n",
    "Now we add the data to the CSM:"
   ]
  },
  {
   "cell_type": "code",
   "execution_count": null,
   "metadata": {},
   "outputs": [],
   "source": [
    "csm.assign_data(sensor_positions_in_root, \"sensors\", \"root\")\n",
    "csm.assign_data(specimen_geometry_in_specimen, \"specimen geometry\", \"specimen\")"
   ]
  },
  {
   "cell_type": "markdown",
   "metadata": {},
   "source": [
    "With the `get_data` function, the unmodified data can be retrieved from the `CoordinateSystemManager` using its name as first parameter. "
   ]
  },
  {
   "cell_type": "code",
   "execution_count": null,
   "metadata": {},
   "outputs": [],
   "source": [
    "assert sensor_positions_in_root.identical(csm.get_data(\"sensors\"))"
   ]
  },
  {
   "cell_type": "markdown",
   "metadata": {},
   "source": [
    "The optional second parameter can be used to get the data transformed into any of the `CoordinateSystemManager`s coordinate systems. You just need to specify the desired target coordinate systems name:"
   ]
  },
  {
   "cell_type": "code",
   "execution_count": null,
   "metadata": {},
   "outputs": [],
   "source": [
    "csm.get_data(\"specimen geometry\", \"root\")"
   ]
  },
  {
   "cell_type": "markdown",
   "metadata": {},
   "source": [
    "By default, the `plot` method will also visualize attached data.\n",
    "Here is an interactive plot of the CSM with the newly added data.\n",
    "You can change the reference system using the control surfaces."
   ]
  },
  {
   "cell_type": "code",
   "execution_count": null,
   "metadata": {},
   "outputs": [],
   "source": [
    "csm.plot(backend=\"k3d\")"
   ]
  },
  {
   "cell_type": "markdown",
   "metadata": {},
   "source": [
    "A nice feature of attached `SpatialData` instances is that they are visualized with closed surfaces if they contain triangle data.\n",
    "In contrast, `xarray.DataArray` instances are always rendered as point clouds."
   ]
  },
  {
   "cell_type": "markdown",
   "metadata": {},
   "source": [
    "It is not necessary to attach data to a coordinate system to transform it to another one. The `CoordinateSystemManager` also provides the `transform_data` function for this purpose. It expects three parameters.\n",
    "\n",
    "1. Actual data and must be a `numpy.ndarray` or an `xarray.DataArray`.\n",
    "2. The source system name.\n",
    "3. The target systems' name."
   ]
  },
  {
   "cell_type": "code",
   "execution_count": null,
   "metadata": {},
   "outputs": [],
   "source": [
    "csm.transform_data(sensor_positions_in_root, \"root\", \"specimen\")"
   ]
  },
  {
   "cell_type": "markdown",
   "metadata": {},
   "source": [
    "## Time dependencies\n",
    "\n",
    "As described in the [previous tutorial about the `LocalCoordinateSystem` class](transformations_01_coordinate_systems.ipynb), the orientation of a coordinate system towards its reference system might vary in time.\n",
    "From the API side, time dependent coordinate systems are not treated any different than constant coordinate systems.\n",
    "However, the `get_cs` function needs to perform some time interpolations internally if the timestamps of all involved coordinate systems aren't identical.\n",
    "You might wonder which times the resulting interpolated `LocalCoordinateSystem` possesses.\n",
    "The default behavior is that its timestamps are the time union of all coordinate systems participating in the transformation.\n",
    "However, you can also provide the desired timestamps using the `time` parameter of the `get_cs` function. \n",
    "\n",
    "Let's define a new `CoordinateSystemManager` to demonstrate the different approaches:"
   ]
  },
  {
   "cell_type": "code",
   "execution_count": null,
   "metadata": {},
   "outputs": [],
   "source": [
    "csm_tdp = CoordinateSystemManager(\"root\")\n",
    "\n",
    "csm_tdp.create_cs(\n",
    "    \"parent\",\n",
    "    \"root\",\n",
    "    coordinates=Q_([[3, -3, 0], [0, -3, 0]], \"mm\"),\n",
    "    orientation=WXRotation.from_euler(\"z\", [0, -np.pi / 2]).as_matrix(),\n",
    "    time=Q_([1, 6], \"days\"),\n",
    ")\n",
    "\n",
    "csm_tdp.create_cs(\n",
    "    \"child\",\n",
    "    \"parent\",\n",
    "    coordinates=Q_([0, 6, 0], \"mm\"),\n",
    "    orientation=WXRotation.from_euler(\"z\", [0, np.pi / 2]).as_matrix(),\n",
    "    time=Q_([2, 5], \"days\"),\n",
    ")\n",
    "\n",
    "csm_tdp.create_cs(\n",
    "    \"child child\",\n",
    "    \"child\",\n",
    "    coordinates=Q_([6, 0, 0], \"mm\"),\n",
    "    orientation=WXRotation.from_euler(\"z\", [0, np.pi / 2]).as_matrix(),\n",
    "    time=Q_([3, 4], \"days\"),\n",
    ")"
   ]
  },
  {
   "cell_type": "markdown",
   "metadata": {},
   "source": [
    "Now we plot the CSM:"
   ]
  },
  {
   "cell_type": "code",
   "execution_count": null,
   "metadata": {},
   "outputs": [],
   "source": [
    "csm_tdp.plot(backend=\"k3d\")"
   ]
  },
  {
   "cell_type": "markdown",
   "metadata": {},
   "source": [
    "As you can see, the traces of the time dependent coordinate systems are drawn into the plot.\n",
    "You can hide them by unchecking the corresponding checkbox.\n",
    "Use the slider or the \"play\" button to cycle through the different time steps.\n",
    "Also try switching the reference systems and see what happens. \n",
    "\n",
    "Now we use `get_cs` with a specific `time` to transform all coordinate systems to the `\"root\"` system, create a new CSM with this data and plot it: "
   ]
  },
  {
   "cell_type": "code",
   "execution_count": null,
   "metadata": {},
   "outputs": [],
   "source": [
    "time = Q_([(i + 1) for i in range(144)], \"hours\")\n",
    "\n",
    "csm_tdp_2 = CoordinateSystemManager(\"root\")\n",
    "\n",
    "system_names = [\"parent\", \"child\", \"child child\"]\n",
    "\n",
    "for name in system_names:\n",
    "    lcs = csm_tdp.get_cs(name, \"root\", time=time)\n",
    "    csm_tdp_2.add_cs(name, \"root\", lcs)\n",
    "\n",
    "csm_tdp_2.plot(backend=\"k3d\")"
   ]
  },
  {
   "cell_type": "markdown",
   "metadata": {},
   "source": [
    "If you take a look at the traces, you will notice that they looks much smoother now.\n",
    "Use the time controls and you will see that the data grid is now much denser.\n",
    "\n",
    "We can also tell the `get_cs` method to interpolate all coordinate systems to match the timestamps of one of the CSMs time dependent coordinate systems.\n",
    "Therefore, we simply provide the target systems name as `time` parameter:"
   ]
  },
  {
   "cell_type": "code",
   "execution_count": null,
   "metadata": {},
   "outputs": [],
   "source": [
    "csm_tdp_3 = CoordinateSystemManager(\"root\")\n",
    "\n",
    "system_names = [\"parent\", \"child\", \"child child\"]\n",
    "\n",
    "for name in system_names:\n",
    "    lcs = csm_tdp.get_cs(name, \"root\", time=\"parent\")\n",
    "    csm_tdp_2.add_cs(name, \"root\", lcs)\n",
    "\n",
    "csm_tdp_2.plot(backend=\"k3d\")"
   ]
  },
  {
   "cell_type": "markdown",
   "metadata": {},
   "source": [
    "In the previous two examples we used the `get_cs` method to interpolate the coordinate system data and create a new CSM from it.\n",
    "The purpose was to showcase how `get_cs` works with time dependent coordinate systems.\n",
    "However, if you just want to get an interpolated copy of a CSM, it is much simpler to use its `interp_time` method:"
   ]
  },
  {
   "cell_type": "code",
   "execution_count": null,
   "metadata": {},
   "outputs": [],
   "source": [
    "time = time = Q_([(i + 1) for i in range(120)], \"hours\")\n",
    "\n",
    "csm_tdp_3 = csm_tdp.interp_time(time=time)\n",
    "\n",
    "csm_tdp_3.plot(backend=\"k3d\")"
   ]
  },
  {
   "cell_type": "markdown",
   "metadata": {},
   "source": [
    "You can also limit the time interpolation to certain coordinate systems by using the `affected_coordinate_systems` parameter.\n",
    "It expects a list of coordinate system names."
   ]
  },
  {
   "cell_type": "code",
   "execution_count": null,
   "metadata": {},
   "outputs": [],
   "source": [
    "time = Q_([3600, 7200], \"minutes\")\n",
    "\n",
    "csm_tdp_4 = csm_tdp.interp_time(\n",
    "    time=time, affected_coordinate_systems=[\"child\", \"child child\"]\n",
    ")"
   ]
  },
  {
   "cell_type": "markdown",
   "metadata": {},
   "source": [
    "The following comparisons show that it worked:"
   ]
  },
  {
   "cell_type": "code",
   "execution_count": null,
   "metadata": {},
   "outputs": [],
   "source": [
    "np.all(csm_tdp_4.get_cs(\"parent\").time == time)"
   ]
  },
  {
   "cell_type": "code",
   "execution_count": null,
   "metadata": {},
   "outputs": [],
   "source": [
    "np.all(csm_tdp_4.get_cs(\"child\").time == time)"
   ]
  },
  {
   "cell_type": "code",
   "execution_count": null,
   "metadata": {},
   "outputs": [],
   "source": [
    "np.all(csm_tdp_4.get_cs(\"child child\").time == time)"
   ]
  },
  {
   "cell_type": "markdown",
   "metadata": {},
   "source": [
    "## Merging and unmerging\n",
    "\n",
    "Sometimes a larger hierarchy of coordinate systems can be subdivided into multiple smaller subsystems.\n",
    "Defining them individually might be more intuitive and easier.\n",
    "For this reason, the `CoordinateSystemManager` provides the possibility to merge an instance into another one.\n",
    "We will introduce this functionality with a short example.\n",
    "\n",
    "Consider an automated welding process, where the torch is moved by a robot arm.\n",
    "The robot provides two mount points for additional equipment.\n",
    "We know where the torch and the mount points are located in the moving robot head coordinate system.\n",
    "So we can define the following `CoordinateSystemManager` instance to describe the setup:"
   ]
  },
  {
   "cell_type": "code",
   "execution_count": null,
   "metadata": {},
   "outputs": [],
   "source": [
    "csm_robot = CoordinateSystemManager(\"robot head\", \"robot coordinate systems\")\n",
    "csm_robot.create_cs(\"torch\", \"robot head\", coordinates=Q_([0, 0, -2], \"mm\"))\n",
    "csm_robot.create_cs(\"mount point 1\", \"robot head\", coordinates=Q_([0, 1, -1], \"mm\"))\n",
    "csm_robot.create_cs(\"mount point 2\", \"robot head\", coordinates=Q_([0, -1, -1], \"mm\"))\n",
    "csm_robot"
   ]
  },
  {
   "cell_type": "markdown",
   "metadata": {},
   "source": [
    "As extra measurement equipment we have a laser scanner that we want to attach to the first mounting point. \n",
    "It uses its own coordinate system and all the gathered data refers to it. \n",
    "We know the coordinates of the scanners own mount point inside this system so that we can define:"
   ]
  },
  {
   "cell_type": "code",
   "execution_count": null,
   "metadata": {},
   "outputs": [],
   "source": [
    "csm_scanner = CoordinateSystemManager(\"scanner\", \"scanner coordinate systems\")\n",
    "csm_scanner.create_cs(\"mount point 1\", \"scanner\", coordinates=Q_([0, 0, 2], \"mm\"))\n",
    "csm_scanner"
   ]
  },
  {
   "cell_type": "markdown",
   "metadata": {},
   "source": [
    "Note that the coordinate system \"mount point 1\" was added to both `CoordinateSystemManager` instances. \n",
    "Merging requires that both instances share exactly one common coordinate system that serves as connecting node.\n",
    "\n",
    "Now we merge the scanner coordinate systems with the robot coordinate systems using the `merge` function:"
   ]
  },
  {
   "cell_type": "code",
   "execution_count": null,
   "metadata": {},
   "outputs": [],
   "source": [
    "csm_robot.merge(csm_scanner)\n",
    "csm_robot"
   ]
  },
  {
   "cell_type": "markdown",
   "metadata": {},
   "source": [
    "You can see in the output above that the scanner coordinate systems were successfully merged into the `CoordinateSystemManager` instance containing the robot data. Let's define some additional `CoordinateSystemManager` instances:"
   ]
  },
  {
   "cell_type": "code",
   "execution_count": null,
   "metadata": {},
   "outputs": [],
   "source": [
    "csm_specimen = CoordinateSystemManager(\"specimen\", \"specimen coordinate systems\")\n",
    "csm_specimen.create_cs(\"thermocouple 1\", \"specimen\", coordinates=Q_([1, 1, 0], \"mm\"))\n",
    "csm_specimen.create_cs(\"thermocouple 2\", \"specimen\", coordinates=Q_([1, 4, 0], \"mm\"))\n",
    "csm_specimen"
   ]
  },
  {
   "cell_type": "code",
   "execution_count": null,
   "metadata": {},
   "outputs": [],
   "source": [
    "csm_global = CoordinateSystemManager(\"root\", \"global coordinate systems\")\n",
    "csm_global.create_cs(\"specimen\", \"root\", coordinates=Q_([1, 2, 3], \"mm\"))\n",
    "csm_global.create_cs(\"robot head\", \"root\", coordinates=Q_([4, 5, 6], \"mm\"))\n",
    "csm_global"
   ]
  },
  {
   "cell_type": "markdown",
   "metadata": {},
   "source": [
    "Now we merge them all:"
   ]
  },
  {
   "cell_type": "code",
   "execution_count": null,
   "metadata": {},
   "outputs": [],
   "source": [
    "csm_global.merge(csm_robot)\n",
    "csm_global.merge(csm_specimen)\n",
    "csm_global"
   ]
  },
  {
   "cell_type": "markdown",
   "metadata": {},
   "source": [
    "All coordinate systems are now collected in a single `CoordinateSystemManager`.\n",
    "We can extract the previously merged subsystems with the function `subsystems` property.\n",
    "It returns a list with the `CoordinateSystemManager` instances:"
   ]
  },
  {
   "cell_type": "code",
   "execution_count": null,
   "metadata": {},
   "outputs": [],
   "source": [
    "csm_list = csm_global.subsystems\n",
    "for sub_csm in csm_list:\n",
    "    print(sub_csm.name)"
   ]
  },
  {
   "cell_type": "markdown",
   "metadata": {},
   "source": [
    "Comparing the returned `CoordinateSystemManager` instances with the original ones shows that they are indeed identical:"
   ]
  },
  {
   "cell_type": "code",
   "execution_count": null,
   "metadata": {},
   "outputs": [],
   "source": [
    "for sub_csm in csm_list:\n",
    "    if sub_csm.name == \"robot coordinate systems\":\n",
    "        print(sub_csm == csm_robot)\n",
    "    else:\n",
    "        print(sub_csm == csm_specimen)"
   ]
  },
  {
   "cell_type": "markdown",
   "metadata": {},
   "source": [
    "You might have noticed, that there is no `CoordinateSystemManager` for the scanner systems.\n",
    "The reason for this is that it is a subsystem of the robot coordinate systems and the `subsystems` property does not recursively extract nested subsystems.\n",
    "However, we can simply use `subsystems` a second time to get it:"
   ]
  },
  {
   "cell_type": "code",
   "execution_count": null,
   "metadata": {},
   "outputs": [],
   "source": [
    "for sub_csm in csm_list:\n",
    "    if sub_csm.name == \"robot coordinate systems\":\n",
    "        print(sub_csm.subsystems[0].name)"
   ]
  },
  {
   "cell_type": "markdown",
   "metadata": {},
   "source": [
    "Using the `subsystems` property does not affect the state of the current `CoordinateSystemManager`:"
   ]
  },
  {
   "cell_type": "code",
   "execution_count": null,
   "metadata": {},
   "outputs": [],
   "source": [
    "csm_global"
   ]
  },
  {
   "cell_type": "markdown",
   "metadata": {},
   "source": [
    "To remove all subsystems, you can call `remove_subsystems`:"
   ]
  },
  {
   "cell_type": "code",
   "execution_count": null,
   "metadata": {},
   "outputs": [],
   "source": [
    "csm_global.remove_subsystems()\n",
    "csm_global"
   ]
  },
  {
   "cell_type": "markdown",
   "metadata": {},
   "source": [
    "Alternatively, if you want to decompose a `CoordinateSystemManager` instance into all its subsystems, you can use the `unmerge` function.\n",
    "It works exactly the same as the `subsystems` property with the difference that it also removes all subsystem data from the affected `CoordinateSystemManager` instance."
   ]
  }
 ],
 "metadata": {
  "kernelspec": {
   "display_name": "",
   "language": "python",
   "name": ""
  },
  "language_info": {
   "codemirror_mode": {
    "name": "ipython",
    "version": 3
   },
   "file_extension": ".py",
   "mimetype": "text/x-python",
   "name": "python",
   "nbconvert_exporter": "python",
   "pygments_lexer": "ipython3",
   "version": "3.10.4"
  }
 },
 "nbformat": 4,
 "nbformat_minor": 4
}
