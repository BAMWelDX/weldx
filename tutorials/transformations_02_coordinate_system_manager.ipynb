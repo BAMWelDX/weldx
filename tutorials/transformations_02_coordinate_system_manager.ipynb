{
 "cells": [
  {
   "cell_type": "code",
   "execution_count": 1,
   "metadata": {
    "execution": {
     "iopub.execute_input": "2020-07-10T11:59:51.446881Z",
     "iopub.status.busy": "2020-07-10T11:59:51.446314Z",
     "iopub.status.idle": "2020-07-10T11:59:51.945748Z",
     "shell.execute_reply": "2020-07-10T11:59:51.944681Z",
     "shell.execute_reply.started": "2020-07-10T11:59:51.446801Z"
    }
   },
   "outputs": [],
   "source": [
    "%matplotlib widget"
   ]
  },
  {
   "cell_type": "code",
   "execution_count": 2,
   "metadata": {},
   "outputs": [
    {
     "name": "stdout",
     "output_type": "stream",
     "text": [
      "/home/jupyter-vhirtham/weldx\n"
     ]
    }
   ],
   "source": [
    "%cd .."
   ]
  },
  {
   "cell_type": "code",
   "execution_count": 3,
   "metadata": {
    "execution": {
     "iopub.execute_input": "2020-07-10T12:10:35.180973Z",
     "iopub.status.busy": "2020-07-10T12:10:35.180686Z",
     "iopub.status.idle": "2020-07-10T12:10:37.785592Z",
     "shell.execute_reply": "2020-07-10T12:10:37.784428Z",
     "shell.execute_reply.started": "2020-07-10T12:10:35.180934Z"
    }
   },
   "outputs": [],
   "source": [
    "# necesessary packages\n",
    "import numpy as np\n",
    "\n",
    "import matplotlib.pyplot as plt\n",
    "import pandas as pd\n",
    "import weldx.transformations as tf\n",
    "import weldx.visualization as vs\n",
    "import xarray as xr\n",
    "from mpl_toolkits.mplot3d import Axes3D  # noqa: F401 unused import\n",
    "from copy import deepcopy"
   ]
  },
  {
   "cell_type": "markdown",
   "metadata": {},
   "source": [
    "# Introduction\n",
    "\n",
    "This tutorial is about the `CoordinateSystemManager` class of the `weldx.transformations` package. It builds upon the tutorial about coordinate systems (tutorials/transformations_01_coordinate_systems.ipynb).\n",
    "\n",
    "The purpose of the `CoordinateSystemManager` is to define and manage the relationships of different coordinate systems and their associated data in a tree-like data structure. It provides methods to transform a `LocalCoordinateSystem` or its data to an arbitrary other coordinate system.\n",
    "\n",
    "# Construct and add coordinate systems\n",
    "\n",
    "The constructor of `CoordinateSystemManager` requires the name of the root coordinate system as parameter. "
   ]
  },
  {
   "cell_type": "code",
   "execution_count": 4,
   "metadata": {
    "execution": {
     "iopub.execute_input": "2020-07-10T12:10:37.787983Z",
     "iopub.status.busy": "2020-07-10T12:10:37.787737Z",
     "iopub.status.idle": "2020-07-10T12:10:37.793897Z",
     "shell.execute_reply": "2020-07-10T12:10:37.792809Z",
     "shell.execute_reply.started": "2020-07-10T12:10:37.787951Z"
    }
   },
   "outputs": [],
   "source": [
    "csm = tf.CoordinateSystemManager(\"root\")"
   ]
  },
  {
   "cell_type": "markdown",
   "metadata": {},
   "source": [
    "> **Hint:** The name of a coordinate systems can be any hashable type even though it is advised to use strings.\n",
    "\n",
    "Further coordinate systems can be added with the `add_cs` member function of the `CoordinateSystemManager`. It expects 3 parameters. The first parameter is the name of the new coordinate system. The second parameter is the name of an already existing coordinate system in which is the reference system of the new one. The third parameter is a `weldx.transformations.LocalCoordinateSystem` that describes the position and orientation of the new coordinate system in its reference system. Additionally, the `CoordinateSystemManager` provides some functions that create the `LocalCoordinateSystem` internally. The method `create_cs` takes the name of the new coordinate system and its reference system as first two parameters. The remaining parameters and their default values are identical to the ones from the `LocalCoordinateSystem.__init__` method. Similarly, there are functions for each of the ´LocalCoordinateSystem´s construction/factory methods (`from_euler`, `from_xyz`, etc.). The naming is simply `create_cs_` plus the name of the corresponding function of the `LoocalCoordinateSystem`. For example `construct_cs_from_euler`. Let's add some coordinate systems using different methods:"
   ]
  },
  {
   "cell_type": "code",
   "execution_count": 5,
   "metadata": {
    "execution": {
     "iopub.execute_input": "2020-07-10T12:10:37.795735Z",
     "iopub.status.busy": "2020-07-10T12:10:37.795444Z",
     "iopub.status.idle": "2020-07-10T12:10:37.846883Z",
     "shell.execute_reply": "2020-07-10T12:10:37.845948Z",
     "shell.execute_reply.started": "2020-07-10T12:10:37.795695Z"
    }
   },
   "outputs": [],
   "source": [
    "lcs_specimen_in_root = tf.LocalCoordinateSystem(coordinates=[0, 1, -2])\n",
    "\n",
    "csm.create_cs_from_euler(\n",
    "    \"flange\", \"root\", sequence=\"x\", angles=20, degrees=True, coordinates=[-1, -1, 2]\n",
    ")\n",
    "csm.create_cs(\"torch\", \"flange\", coordinates=[0, 0, -1])\n",
    "csm.add_cs(\"specimen\", \"root\", lcs_specimen_in_root)"
   ]
  },
  {
   "cell_type": "markdown",
   "metadata": {},
   "source": [
    "# Transform coordinate systems to another reference system\n",
    "\n",
    "After all coordinate systems are added to the `CoordinateSystemManager`, getting a coordinate system in relation to any other reference system in form of a `LocalCoordinateSystem` class is quite easy. Simply call `get_local_coordinate_system`. The name of the system that should be transformed is passed to the function as first parameter. The second parameter is the name of the target reference system. If it is omitted, the parent system is used as reference."
   ]
  },
  {
   "cell_type": "code",
   "execution_count": 6,
   "metadata": {
    "execution": {
     "iopub.execute_input": "2020-07-10T12:10:37.848114Z",
     "iopub.status.busy": "2020-07-10T12:10:37.847898Z",
     "iopub.status.idle": "2020-07-10T12:10:37.915078Z",
     "shell.execute_reply": "2020-07-10T12:10:37.914017Z",
     "shell.execute_reply.started": "2020-07-10T12:10:37.848085Z"
    }
   },
   "outputs": [],
   "source": [
    "lcs_torch_in_root = csm.get_local_coordinate_system(\"torch\", \"root\")\n",
    "lcs_flange_in_root = csm.get_local_coordinate_system(\"flange\")\n",
    "lcs_specimen_in_root = csm.get_local_coordinate_system(\"specimen\")\n",
    "\n",
    "lcs_root_in_torch = csm.get_local_coordinate_system(\"root\", \"torch\")\n",
    "lcs_flange_in_torch = csm.get_local_coordinate_system(\"flange\", \"torch\")\n",
    "lcs_specimen_in_torch = csm.get_local_coordinate_system(\"specimen\", \"torch\")"
   ]
  },
  {
   "cell_type": "markdown",
   "metadata": {},
   "source": [
    "The following plots show the different systems in the root coordinate system and in the torch coordinate system:"
   ]
  },
  {
   "cell_type": "code",
   "execution_count": 7,
   "metadata": {
    "execution": {
     "iopub.execute_input": "2020-07-10T12:10:37.916577Z",
     "iopub.status.busy": "2020-07-10T12:10:37.916351Z",
     "iopub.status.idle": "2020-07-10T12:10:38.688828Z",
     "shell.execute_reply": "2020-07-10T12:10:38.687893Z",
     "shell.execute_reply.started": "2020-07-10T12:10:37.916547Z"
    },
    "jupyter": {
     "source_hidden": true
    }
   },
   "outputs": [
    {
     "data": {
      "application/vnd.jupyter.widget-view+json": {
       "model_id": "74966c425f734702887f7f831e0020d2",
       "version_major": 2,
       "version_minor": 0
      },
      "text/plain": [
       "Canvas(toolbar=Toolbar(toolitems=[('Home', 'Reset original view', 'home', 'home'), ('Back', 'Back to previous …"
      ]
     },
     "metadata": {},
     "output_type": "display_data"
    },
    {
     "data": {
      "text/plain": [
       "<matplotlib.legend.Legend at 0x7f13a6314110>"
      ]
     },
     "execution_count": 7,
     "metadata": {},
     "output_type": "execute_result"
    }
   ],
   "source": [
    "lcs_root_in_root = tf.LocalCoordinateSystem()\n",
    "lcs_torch_in_torch = tf.LocalCoordinateSystem()\n",
    "\n",
    "# plot coordinate systems\n",
    "fig_01 = plt.figure()\n",
    "fig_01.set_size_inches(16, 8)\n",
    "gs_01 = fig_01.add_gridspec(1, 2)\n",
    "ax_0_01 = fig_01.add_subplot(gs_01[0, 0], projection=\"3d\",proj_type = 'ortho')\n",
    "ax_1_01 = fig_01.add_subplot(gs_01[0, 1], projection=\"3d\",proj_type = 'ortho')\n",
    "\n",
    "# first plot\n",
    "vs.plot_coordinate_system(lcs_root_in_root, ax_0_01, color=\"r\", label=\"root\")\n",
    "vs.plot_coordinate_system(lcs_flange_in_root, ax_0_01, color=\"g\", label=\"flange\")\n",
    "vs.plot_coordinate_system(lcs_specimen_in_root, ax_0_01, color=\"y\", label=\"specimen\")\n",
    "vs.plot_coordinate_system(lcs_torch_in_root, ax_0_01, color=\"b\", label=\"torch\")\n",
    "ax_0_01.set_xlim([-3, 3])\n",
    "ax_0_01.set_ylim([-3, 3])\n",
    "ax_0_01.set_zlim([-3, 3])\n",
    "ax_0_01.set_title(\"root system\")\n",
    "ax_0_01.legend(loc=\"lower left\")  #\n",
    "\n",
    "\n",
    "# second plot\n",
    "vs.plot_coordinate_system(lcs_root_in_torch, ax_1_01, color=\"r\", label=\"root\")\n",
    "vs.plot_coordinate_system(lcs_flange_in_torch, ax_1_01, color=\"g\", label=\"flange\")\n",
    "vs.plot_coordinate_system(lcs_specimen_in_torch, ax_1_01, color=\"y\", label=\"specimen\")\n",
    "vs.plot_coordinate_system(lcs_torch_in_torch, ax_1_01, color=\"b\", label=\"torch\")\n",
    "ax_1_01.set_xlim([-3, 3])\n",
    "ax_1_01.set_ylim([-3, 3])\n",
    "ax_1_01.set_zlim([-3, 3])\n",
    "ax_1_01.set_title(\"torch system\")\n",
    "ax_1_01.legend(loc=\"lower left\")"
   ]
  },
  {
   "cell_type": "markdown",
   "metadata": {},
   "source": [
    "# Updating and deleting coordinate systems\n",
    "\n",
    "A coordinate system can be updated by simply calling `add_cs` again with the correct reference system and an updated `LocalCoordinateSystem` instance. For example, to update the torch system, one could do the following:"
   ]
  },
  {
   "cell_type": "code",
   "execution_count": 24,
   "metadata": {},
   "outputs": [],
   "source": [
    "csm.add_cs(\"torch\", \"flange\", tf.LocalCoordinateSystem(coordinates=[0,0,-2]))"
   ]
  },
  {
   "cell_type": "markdown",
   "metadata": {},
   "source": [
    "Lets check if the values have changed"
   ]
  },
  {
   "cell_type": "code",
   "execution_count": 25,
   "metadata": {},
   "outputs": [
    {
     "data": {
      "text/plain": [
       "<LocalCoordinateSystem>\n",
       "Dimensions:      (c: 3, v: 3)\n",
       "Coordinates:\n",
       "  * c            (c) <U1 'x' 'y' 'z'\n",
       "  * v            (v) int64 0 1 2\n",
       "Data variables:\n",
       "    coordinates  (c) float64 0.0 0.0 -2.0\n",
       "    orientation  (v, c) float64 1.0 0.0 0.0 0.0 1.0 0.0 0.0 0.0 1.0"
      ]
     },
     "execution_count": 25,
     "metadata": {},
     "output_type": "execute_result"
    }
   ],
   "source": [
    "csm.get_local_coordinate_system(\"torch\", \"flange\")"
   ]
  },
  {
   "cell_type": "markdown",
   "metadata": {},
   "source": [
    "As you can see, the system has been updated. \n",
    "\n",
    "If you want to remove a coordinate system, you have to call `delete_cs`. The function takes two parameters. The first one is the name of the coordinate system you want to delete. The second is a `bool` that controls if child coordinate systems should be deleted too or not. In case you set this parameter to `False` (default) and try to remove a coordinate system with children, an exeption is raised. This is an extra layer of security to prevent unintentional deletion of multiple coordinate systems. Here is an example: "
   ]
  },
  {
   "cell_type": "code",
   "execution_count": 26,
   "metadata": {},
   "outputs": [
    {
     "data": {
      "text/plain": [
       "['root', 'flange', 'torch', 'specimen']"
      ]
     },
     "execution_count": 26,
     "metadata": {},
     "output_type": "execute_result"
    }
   ],
   "source": [
    "csm_copy = deepcopy(csm)\n",
    "csm_copy.get_coordinate_system_names()"
   ]
  },
  {
   "cell_type": "markdown",
   "metadata": {},
   "source": [
    "We made a copy of the `CoordinateSystemManager`. Now we are going to delete the specimen system, which has no other systems attached to it."
   ]
  },
  {
   "cell_type": "code",
   "execution_count": 27,
   "metadata": {},
   "outputs": [
    {
     "data": {
      "text/plain": [
       "['root', 'flange', 'torch']"
      ]
     },
     "execution_count": 27,
     "metadata": {},
     "output_type": "execute_result"
    }
   ],
   "source": [
    "csm_copy.delete_cs(\"specimen\")\n",
    "csm_copy.get_coordinate_system_names()"
   ]
  },
  {
   "cell_type": "markdown",
   "metadata": {},
   "source": [
    "That worked. Now lets try to remove the flange system:"
   ]
  },
  {
   "cell_type": "code",
   "execution_count": 28,
   "metadata": {},
   "outputs": [
    {
     "ename": "Exception",
     "evalue": "Can not delete coordinate system \"flange\". It has one or more children that would be disconnected to the root after deletion. Set the delete_children option to \"True\" to delete the coordinate system and all its children. The attached child systems are: ['torch']",
     "output_type": "error",
     "traceback": [
      "\u001b[0;31m---------------------------------------------------------------------------\u001b[0m",
      "\u001b[0;31mException\u001b[0m                                 Traceback (most recent call last)",
      "\u001b[0;32m<ipython-input-28-000b4e50c493>\u001b[0m in \u001b[0;36m<module>\u001b[0;34m\u001b[0m\n\u001b[0;32m----> 1\u001b[0;31m \u001b[0mcsm_copy\u001b[0m\u001b[0;34m.\u001b[0m\u001b[0mdelete_cs\u001b[0m\u001b[0;34m(\u001b[0m\u001b[0;34m\"flange\"\u001b[0m\u001b[0;34m)\u001b[0m\u001b[0;34m\u001b[0m\u001b[0;34m\u001b[0m\u001b[0m\n\u001b[0m",
      "\u001b[0;32m~/weldx/weldx/transformations.py\u001b[0m in \u001b[0;36mdelete_cs\u001b[0;34m(self, coordinate_system_name, delete_children)\u001b[0m\n\u001b[1;32m   1702\u001b[0m         \u001b[0;32mif\u001b[0m \u001b[0;32mnot\u001b[0m \u001b[0mdelete_children\u001b[0m \u001b[0;32mand\u001b[0m \u001b[0mlen\u001b[0m\u001b[0;34m(\u001b[0m\u001b[0mchildren\u001b[0m\u001b[0;34m)\u001b[0m \u001b[0;34m>\u001b[0m \u001b[0;36m0\u001b[0m\u001b[0;34m:\u001b[0m\u001b[0;34m\u001b[0m\u001b[0;34m\u001b[0m\u001b[0m\n\u001b[1;32m   1703\u001b[0m             raise Exception(\n\u001b[0;32m-> 1704\u001b[0;31m                 \u001b[0;34mf'Can not delete coordinate system \"{coordinate_system_name}\". It '\u001b[0m\u001b[0;34m\u001b[0m\u001b[0;34m\u001b[0m\u001b[0m\n\u001b[0m\u001b[1;32m   1705\u001b[0m                 \u001b[0;34m\"has one or more children that would be disconnected to the root \"\u001b[0m\u001b[0;34m\u001b[0m\u001b[0;34m\u001b[0m\u001b[0m\n\u001b[1;32m   1706\u001b[0m                 \u001b[0;34mf'after deletion. Set the delete_children option to \"True\" to '\u001b[0m\u001b[0;34m\u001b[0m\u001b[0;34m\u001b[0m\u001b[0m\n",
      "\u001b[0;31mException\u001b[0m: Can not delete coordinate system \"flange\". It has one or more children that would be disconnected to the root after deletion. Set the delete_children option to \"True\" to delete the coordinate system and all its children. The attached child systems are: ['torch']"
     ]
    }
   ],
   "source": [
    "csm_copy.delete_cs(\"flange\")"
   ]
  },
  {
   "cell_type": "markdown",
   "metadata": {},
   "source": [
    "Since the torch system is a child of the flange system and we didn't tell the function to delete child systems as well, an exeption was raised. Lets retry this, but this time we will tell the function that we want child systems to be removed too:"
   ]
  },
  {
   "cell_type": "code",
   "execution_count": 29,
   "metadata": {},
   "outputs": [
    {
     "data": {
      "text/plain": [
       "['root']"
      ]
     },
     "execution_count": 29,
     "metadata": {},
     "output_type": "execute_result"
    }
   ],
   "source": [
    "csm_copy.delete_cs(\"flange\", True)\n",
    "csm_copy.get_coordinate_system_names()"
   ]
  },
  {
   "cell_type": "markdown",
   "metadata": {},
   "source": [
    "As you can see, we were successful and only the root system is left in the `CoordinateSystemManager` instance."
   ]
  },
  {
   "cell_type": "markdown",
   "metadata": {},
   "source": [
    "# Assignment and transformation of spatial data\n",
    "\n",
    "A coordinate system stored in the `CoordinateSystemManager` can also get spatial data assigned to it. For example, this might be a sensor positions or geometry data in form of a point clouds. In this case it becomes the data's reference system and all values refer to its coordinate origin. \n",
    "\n",
    "Data can be assigned to a coordinate system with the `assign_data` function. It expects 3 parameters. The first one is the actual data. Currently, `xarray.DataArray` is the only supported type. The second parameter is a name of the data and the third one the name of the coordinate system that the data belongs to. In the following lines we define and assign some data to the `CoordinateSystemManager`."
   ]
  },
  {
   "cell_type": "code",
   "execution_count": 8,
   "metadata": {
    "execution": {
     "iopub.execute_input": "2020-07-10T12:10:38.690577Z",
     "iopub.status.busy": "2020-07-10T12:10:38.690261Z",
     "iopub.status.idle": "2020-07-10T12:10:38.705724Z",
     "shell.execute_reply": "2020-07-10T12:10:38.704741Z",
     "shell.execute_reply.started": "2020-07-10T12:10:38.690534Z"
    }
   },
   "outputs": [],
   "source": [
    "sensor_positions_in_root = xr.DataArray(\n",
    "    [[0, -1, 0], [0, -2, 0]], dims=[\"n\", \"c\"], coords={\"c\": [\"x\", \"y\", \"z\"]}\n",
    ")\n",
    "\n",
    "specimen_geometry_in_specimen = xr.DataArray(\n",
    "    [\n",
    "        [0, 1, 0],\n",
    "        [1, 1, 0],\n",
    "        [2, 1, 0],\n",
    "        [0, 2, 0],\n",
    "        [1, 2, 0],\n",
    "        [2, 2, 0],\n",
    "        [0, 3, 0],\n",
    "        [1, 3, 0],\n",
    "        [2, 3, 0],\n",
    "        [0, 4, 0],\n",
    "        [1, 4, 0],\n",
    "        [2, 4, 0],\n",
    "    ],\n",
    "    dims=[\"n\", \"c\"],\n",
    "    coords={\"c\": [\"x\", \"y\", \"z\"]},\n",
    ")\n",
    "\n",
    "csm.assign_data(sensor_positions_in_root, \"sensors\", \"root\")\n",
    "csm.assign_data(specimen_geometry_in_specimen, \"specimen geometry\", \"specimen\")"
   ]
  },
  {
   "cell_type": "markdown",
   "metadata": {},
   "source": [
    "With the `get_data` function, the unmodified data can be retrieved from the `CoordinateSystemManager` using its name as first parameter. "
   ]
  },
  {
   "cell_type": "code",
   "execution_count": 9,
   "metadata": {
    "execution": {
     "iopub.execute_input": "2020-07-10T12:10:38.707115Z",
     "iopub.status.busy": "2020-07-10T12:10:38.706822Z",
     "iopub.status.idle": "2020-07-10T12:10:38.719745Z",
     "shell.execute_reply": "2020-07-10T12:10:38.718412Z",
     "shell.execute_reply.started": "2020-07-10T12:10:38.707076Z"
    }
   },
   "outputs": [],
   "source": [
    "assert specimen_geometry_in_specimen.identical(csm.get_data(\"specimen geometry\"))"
   ]
  },
  {
   "cell_type": "markdown",
   "metadata": {},
   "source": [
    "The optional second parameter can be used to get the data transformed into any of the `CoordinateSystemManager`s coordinate systems. You just need to specify the desired target coordinate systems name:"
   ]
  },
  {
   "cell_type": "code",
   "execution_count": 10,
   "metadata": {
    "execution": {
     "iopub.execute_input": "2020-07-10T12:10:38.725103Z",
     "iopub.status.busy": "2020-07-10T12:10:38.724333Z",
     "iopub.status.idle": "2020-07-10T12:10:38.767200Z",
     "shell.execute_reply": "2020-07-10T12:10:38.766320Z",
     "shell.execute_reply.started": "2020-07-10T12:10:38.725035Z"
    }
   },
   "outputs": [],
   "source": [
    "specimen_geometry_in_root = csm.get_data(\"specimen geometry\", \"root\")\n",
    "\n",
    "sensor_positions_in_torch = csm.get_data(\"sensors\", \"torch\")\n",
    "specimen_geometry_in_torch = csm.get_data(\"specimen geometry\", \"torch\")"
   ]
  },
  {
   "cell_type": "markdown",
   "metadata": {},
   "source": [
    "Here is a plot of the specified data in the root and torch coordinate system."
   ]
  },
  {
   "cell_type": "code",
   "execution_count": 11,
   "metadata": {
    "execution": {
     "iopub.execute_input": "2020-07-10T12:10:38.768667Z",
     "iopub.status.busy": "2020-07-10T12:10:38.768451Z",
     "iopub.status.idle": "2020-07-10T12:10:39.499817Z",
     "shell.execute_reply": "2020-07-10T12:10:39.498809Z",
     "shell.execute_reply.started": "2020-07-10T12:10:38.768638Z"
    },
    "jupyter": {
     "source_hidden": true
    }
   },
   "outputs": [
    {
     "data": {
      "application/vnd.jupyter.widget-view+json": {
       "model_id": "05266d4d9be04175ab359e0a76aa0cfb",
       "version_major": 2,
       "version_minor": 0
      },
      "text/plain": [
       "Canvas(toolbar=Toolbar(toolitems=[('Home', 'Reset original view', 'home', 'home'), ('Back', 'Back to previous …"
      ]
     },
     "metadata": {},
     "output_type": "display_data"
    },
    {
     "data": {
      "text/plain": [
       "<matplotlib.legend.Legend at 0x7f13a622dad0>"
      ]
     },
     "execution_count": 11,
     "metadata": {},
     "output_type": "execute_result"
    }
   ],
   "source": [
    "lcs_root_in_root = tf.LocalCoordinateSystem()\n",
    "lcs_torch_in_torch = tf.LocalCoordinateSystem()\n",
    "\n",
    "# plot coordinate systems\n",
    "fig_02 = plt.figure()\n",
    "fig_02.set_size_inches(16, 8)\n",
    "gs_02 = fig_02.add_gridspec(1, 2)\n",
    "ax_0_02 = fig_02.add_subplot(gs_02[0, 0], projection=\"3d\",proj_type = 'ortho')\n",
    "ax_1_02 = fig_02.add_subplot(gs_02[0, 1], projection=\"3d\",proj_type = 'ortho')\n",
    "\n",
    "# first plot\n",
    "vs.plot_coordinate_system(lcs_root_in_root, ax_0_02, color=\"r\", label=\"root\")\n",
    "vs.plot_coordinate_system(lcs_flange_in_root, ax_0_02, color=\"g\", label=\"flange\")\n",
    "vs.plot_coordinate_system(lcs_specimen_in_root, ax_0_02, color=\"y\", label=\"specimen\")\n",
    "vs.plot_coordinate_system(lcs_torch_in_root, ax_0_02, color=\"b\", label=\"torch\")\n",
    "ax_0_02.plot(\n",
    "    specimen_geometry_in_root[:, 0],\n",
    "    specimen_geometry_in_root[:, 1],\n",
    "    specimen_geometry_in_root[:, 2],\n",
    "    \"xc\",\n",
    "    label=\"specimen geometry\",\n",
    ")\n",
    "ax_0_02.plot(\n",
    "    sensor_positions_in_root[:, 0],\n",
    "    sensor_positions_in_root[:, 1],\n",
    "    sensor_positions_in_root[:, 2],\n",
    "    \"xk\",\n",
    "    label=\"sensor positions\",\n",
    ")\n",
    "\n",
    "\n",
    "ax_0_02.set_xlim([-3, 3])\n",
    "ax_0_02.set_ylim([-3, 3])\n",
    "ax_0_02.set_zlim([-3, 3])\n",
    "ax_0_02.set_title(\"root system\")\n",
    "ax_0_02.legend(loc=\"lower left\")  #\n",
    "\n",
    "\n",
    "# second plot\n",
    "vs.plot_coordinate_system(lcs_root_in_torch, ax_1_02, color=\"r\", label=\"root\")\n",
    "vs.plot_coordinate_system(lcs_flange_in_torch, ax_1_02, color=\"g\", label=\"flange\")\n",
    "vs.plot_coordinate_system(lcs_specimen_in_torch, ax_1_02, color=\"y\", label=\"specimen\")\n",
    "vs.plot_coordinate_system(lcs_torch_in_torch, ax_1_02, color=\"b\", label=\"torch\")\n",
    "ax_1_02.plot(\n",
    "    specimen_geometry_in_torch[:, 0],\n",
    "    specimen_geometry_in_torch[:, 1],\n",
    "    specimen_geometry_in_torch[:, 2],\n",
    "    \"xc\",\n",
    "    label=\"specimen geometry\",\n",
    ")\n",
    "ax_1_02.plot(\n",
    "    sensor_positions_in_torch[:, 0],\n",
    "    sensor_positions_in_torch[:, 1],\n",
    "    sensor_positions_in_torch[:, 2],\n",
    "    \"xk\",\n",
    "    label=\"sensor positions\",\n",
    ")\n",
    "ax_1_02.set_xlim([-3, 3])\n",
    "ax_1_02.set_ylim([-3, 3])\n",
    "ax_1_02.set_zlim([-3, 3])\n",
    "ax_1_02.set_title(\"torch system\")\n",
    "ax_1_02.legend(loc=\"lower left\")"
   ]
  },
  {
   "cell_type": "markdown",
   "metadata": {},
   "source": [
    "It is not necessary to attach data to a coordinate system to transform it to another one. The `CoordinateSystemManager` also provides the `transform_data` function for this purpose. It expects 3 parameters. The first parameter is the actual data and must be a `numpy.ndarray` or an `xarray.DataArray`. The second one is the source system name and the third one the target systems' name:"
   ]
  },
  {
   "cell_type": "code",
   "execution_count": 12,
   "metadata": {
    "execution": {
     "iopub.execute_input": "2020-07-10T12:10:39.501440Z",
     "iopub.status.busy": "2020-07-10T12:10:39.501201Z",
     "iopub.status.idle": "2020-07-10T12:10:39.509988Z",
     "shell.execute_reply": "2020-07-10T12:10:39.508892Z",
     "shell.execute_reply.started": "2020-07-10T12:10:39.501409Z"
    }
   },
   "outputs": [],
   "source": [
    "assert csm.transform_data(specimen_geometry_in_specimen, \"specimen\", \"root\").identical(\n",
    "    specimen_geometry_in_root\n",
    ")"
   ]
  },
  {
   "cell_type": "markdown",
   "metadata": {},
   "source": [
    "## Time dependencies\n",
    "\n",
    "As described in the previous tutorial about the `LocalCoordinateSystem` class, the orientation of a coordinate system towards its reference system might vary in time. Form the API side, time dependent coordinate systems are not treated any different than constant coordinate systems. However, the `get_local_coordinate_system` function needs to perform some time interpolations internally if the timestamps of all involved coordinate systems aren't identical. You might wonder which timestamps the resulting interpolated `LocalCoordinateSystem` possesses. The default behavior is that its timestamps are the time union of all coordinate systems participating in the transformation. However, you can also provide the desired timestamps as a `pandas.DatetimeIndex` object using the `time` parameter of the `get_local_coordinate_system` function. Another method is to pass the name of a coordinate system that should provide the timestamps to the `time` parameter.\n",
    "\n",
    "Let's define a new `CoordinateSystemManager` to demonstrate the different approaches:"
   ]
  },
  {
   "cell_type": "code",
   "execution_count": 13,
   "metadata": {
    "execution": {
     "iopub.execute_input": "2020-07-10T12:10:39.511699Z",
     "iopub.status.busy": "2020-07-10T12:10:39.511398Z",
     "iopub.status.idle": "2020-07-10T12:10:39.574138Z",
     "shell.execute_reply": "2020-07-10T12:10:39.573161Z",
     "shell.execute_reply.started": "2020-07-10T12:10:39.511659Z"
    }
   },
   "outputs": [],
   "source": [
    "parent_time = [\"2020-01-01\", \"2020-01-06\"]\n",
    "parent_coords = [[1, -1, 0], [0, -1, 0]]\n",
    "parent_orientation = tf.rotation_matrix_z([0, np.pi / 2])\n",
    "\n",
    "child_time = [\"2020-01-02\", \"2020-01-05\"]\n",
    "child_coords = [0, 2, 0]\n",
    "child_orientation = tf.rotation_matrix_z([0, np.pi / 2])\n",
    "\n",
    "\n",
    "childchild_time = [\"2020-01-03\", \"2020-01-04\"]\n",
    "childchild_coords = [2, 0, 0]\n",
    "childchild_orientation = tf.rotation_matrix_z([0, np.pi / 2])\n",
    "\n",
    "\n",
    "csm_tdp = tf.CoordinateSystemManager(\"root\")\n",
    "csm_tdp.create_cs(\n",
    "    \"parent\",\n",
    "    \"root\",\n",
    "    coordinates=parent_coords,\n",
    "    orientation=parent_orientation,\n",
    "    time=parent_time,\n",
    ")\n",
    "csm_tdp.create_cs(\n",
    "    \"child\",\n",
    "    \"parent\",\n",
    "    coordinates=child_coords,\n",
    "    orientation=child_orientation,\n",
    "    time=child_time,\n",
    ")\n",
    "csm_tdp.create_cs(\n",
    "    \"child child\",\n",
    "    \"child\",\n",
    "    coordinates=childchild_coords,\n",
    "    orientation=childchild_orientation,\n",
    "    time=childchild_time,\n",
    ")"
   ]
  },
  {
   "cell_type": "markdown",
   "metadata": {},
   "source": [
    "Now we request from the `CoordinateSystemManager` to transform all coordinate systems to the `\"root\"` system: "
   ]
  },
  {
   "cell_type": "code",
   "execution_count": 14,
   "metadata": {
    "execution": {
     "iopub.execute_input": "2020-07-10T12:10:39.575202Z",
     "iopub.status.busy": "2020-07-10T12:10:39.574991Z",
     "iopub.status.idle": "2020-07-10T12:10:40.738375Z",
     "shell.execute_reply": "2020-07-10T12:10:40.737341Z",
     "shell.execute_reply.started": "2020-07-10T12:10:39.575174Z"
    }
   },
   "outputs": [],
   "source": [
    "# default\n",
    "lcs_parent_in_root_default = csm_tdp.get_local_coordinate_system(\"parent\")\n",
    "lcs_child_in_root_default = csm_tdp.get_local_coordinate_system(\"child\", \"root\")\n",
    "lcs_childchild_in_root_default = csm_tdp.get_local_coordinate_system(\n",
    "    \"child child\", \"root\"\n",
    ")\n",
    "\n",
    "# specific times\n",
    "time = pd.date_range(\"01-01-2020\", periods=10, freq=\"12H\")\n",
    "lcs_parent_in_root_time = csm_tdp.get_local_coordinate_system(\"parent\", time=time)\n",
    "lcs_child_in_root_time = csm_tdp.get_local_coordinate_system(\"child\", \"root\", time=time)\n",
    "lcs_childchild_in_root_time = csm_tdp.get_local_coordinate_system(\n",
    "    \"child child\", \"root\", time=time\n",
    ")\n",
    "\n",
    "# reference system\n",
    "lcs_parent_in_root_ref = csm_tdp.get_local_coordinate_system(\"parent\", time=\"parent\")\n",
    "lcs_child_in_root_ref = csm_tdp.get_local_coordinate_system(\n",
    "    \"child\", \"root\", time=\"parent\"\n",
    ")\n",
    "lcs_childchild_in_root_ref = csm_tdp.get_local_coordinate_system(\n",
    "    \"child child\", \"root\", time=\"parent\"\n",
    ")"
   ]
  },
  {
   "cell_type": "markdown",
   "metadata": {},
   "source": [
    "Here is a plot showing the different results:"
   ]
  },
  {
   "cell_type": "code",
   "execution_count": 15,
   "metadata": {
    "execution": {
     "iopub.execute_input": "2020-07-10T12:10:40.739556Z",
     "iopub.status.busy": "2020-07-10T12:10:40.739338Z",
     "iopub.status.idle": "2020-07-10T12:10:42.380955Z",
     "shell.execute_reply": "2020-07-10T12:10:42.379952Z",
     "shell.execute_reply.started": "2020-07-10T12:10:40.739525Z"
    },
    "jupyter": {
     "source_hidden": true
    }
   },
   "outputs": [
    {
     "data": {
      "application/vnd.jupyter.widget-view+json": {
       "model_id": "e5251d05c292457e9dd739a3f8b67a82",
       "version_major": 2,
       "version_minor": 0
      },
      "text/plain": [
       "Canvas(toolbar=Toolbar(toolitems=[('Home', 'Reset original view', 'home', 'home'), ('Back', 'Back to previous …"
      ]
     },
     "metadata": {},
     "output_type": "display_data"
    }
   ],
   "source": [
    "def plot_time_dependent_coordinate_system(lcs, name, color, ax):\n",
    "    coords = []\n",
    "    for i in range(len(lcs.time)):\n",
    "        label = None\n",
    "        if i == 0:\n",
    "            label = name\n",
    "        vs.plot_coordinate_system(lcs, ax, color=color, label=label, time_idx=i)\n",
    "        coords.append(lcs.coordinates[i].data)\n",
    "\n",
    "    line_params = \"--\" + color\n",
    "    coords = np.array(coords)\n",
    "    ax.plot(coords[:, 0], coords[:, 1], coords[:, 2], line_params)\n",
    "\n",
    "\n",
    "def plot_all_interpolated_coordinate_systems(\n",
    "    lcs_parent, lcs_child, lcs_childchild, title, ax\n",
    "):\n",
    "    plot_time_dependent_coordinate_system(lcs_parent, \"parent\", \"g\", ax)\n",
    "    plot_time_dependent_coordinate_system(lcs_child, \"child\", \"y\", ax)\n",
    "    plot_time_dependent_coordinate_system(lcs_childchild, \"child child\", \"b\", ax)\n",
    "\n",
    "    ax.set_xlim([-3, 3])\n",
    "    ax.set_ylim([-3, 3])\n",
    "    ax.set_zlim([-3, 3])\n",
    "    ax.set_title(title)\n",
    "    ax.legend(loc=\"lower left\")\n",
    "\n",
    "\n",
    "fig_tdp = plt.figure()\n",
    "fig_tdp.set_size_inches(18, 6)\n",
    "gs_tdp = fig_tdp.add_gridspec(1, 3)\n",
    "ax_0_tdp = fig_tdp.add_subplot(gs_tdp[0, 0], projection=\"3d\",proj_type = 'ortho')\n",
    "ax_1_tdp = fig_tdp.add_subplot(gs_tdp[0, 1], projection=\"3d\",proj_type = 'ortho')\n",
    "ax_2_tdp = fig_tdp.add_subplot(gs_tdp[0, 2], projection=\"3d\",proj_type = 'ortho')\n",
    "\n",
    "\n",
    "plot_all_interpolated_coordinate_systems(\n",
    "    lcs_parent_in_root_default,\n",
    "    lcs_child_in_root_default,\n",
    "    lcs_childchild_in_root_default,\n",
    "    \"default\",\n",
    "    ax_0_tdp,\n",
    ")\n",
    "\n",
    "plot_all_interpolated_coordinate_systems(\n",
    "    lcs_parent_in_root_time,\n",
    "    lcs_child_in_root_time,\n",
    "    lcs_childchild_in_root_time,\n",
    "    \"specific times\",\n",
    "    ax_1_tdp,\n",
    ")\n",
    "\n",
    "plot_all_interpolated_coordinate_systems(\n",
    "    lcs_parent_in_root_ref,\n",
    "    lcs_child_in_root_ref,\n",
    "    lcs_childchild_in_root_ref,\n",
    "    '\"parent\" as time reference',\n",
    "    ax_2_tdp,\n",
    ")"
   ]
  },
  {
   "cell_type": "markdown",
   "metadata": {},
   "source": [
    "The `CoordinateSystemManager` also has a `interp_time` method. By default, this will return a new instance where every coordinate system is interpolate to match the timestamps provided as first function parameter. Optionally, one can pass a list of coordinate system names that should be interpolated as second parameter. Coordinate systems that are not in the list remain unchanged. One can also choose to perform the operations \"in place\" modifying the current instance of the `CoordinateSystemManager`. Therefore, the third parameter `in_place` has to be set to `True`."
   ]
  },
  {
   "cell_type": "code",
   "execution_count": 19,
   "metadata": {
    "execution": {
     "iopub.execute_input": "2020-07-10T12:10:42.382485Z",
     "iopub.status.busy": "2020-07-10T12:10:42.382257Z",
     "iopub.status.idle": "2020-07-10T12:10:43.075147Z",
     "shell.execute_reply": "2020-07-10T12:10:43.074170Z",
     "shell.execute_reply.started": "2020-07-10T12:10:42.382454Z"
    }
   },
   "outputs": [],
   "source": [
    "time_new = pd.date_range(\"01-01-2020\", periods=3, freq=\"2D\")\n",
    "\n",
    "# default interpolation -------------------------\n",
    "csm_tdp_interp = csm_tdp.interp_time(time_new)\n",
    "\n",
    "assert np.all(csm_tdp_interp.get_local_coordinate_system(\"parent\").time == time_new)\n",
    "assert np.all(csm_tdp_interp.get_local_coordinate_system(\"child\").time == time_new)\n",
    "assert np.all(\n",
    "    csm_tdp_interp.get_local_coordinate_system(\"child child\").time == time_new\n",
    ")\n",
    "\n",
    "# selective interpolation -----------------------\n",
    "csm_tdp_interp = csm_tdp.interp_time(time_new, [\"child\", \"child child\"])\n",
    "\n",
    "assert np.all(\n",
    "    csm_tdp_interp.get_local_coordinate_system(\"parent\").time\n",
    "    == csm_tdp.get_local_coordinate_system(\"parent\").time\n",
    ")\n",
    "assert np.all(csm_tdp_interp.get_local_coordinate_system(\"child\").time == time_new)\n",
    "assert np.all(\n",
    "    csm_tdp_interp.get_local_coordinate_system(\"child child\").time == time_new\n",
    ")\n",
    "\n",
    "# in place interpolation ------------------------\n",
    "csm_tdp_interp = deepcopy(csm_tdp)\n",
    "csm_tdp_interp.interp_time(time_new, in_place=True)\n",
    "\n",
    "assert np.all(csm_tdp_interp.get_local_coordinate_system(\"parent\").time == time_new)\n",
    "assert np.all(csm_tdp_interp.get_local_coordinate_system(\"child\").time == time_new)\n",
    "assert np.all(\n",
    "    csm_tdp_interp.get_local_coordinate_system(\"child child\").time == time_new\n",
    ")\n",
    "\n"
   ]
  },
  {
   "cell_type": "markdown",
   "metadata": {},
   "source": [
    "# Subsystems\n",
    "    "
   ]
  },
  {
   "cell_type": "markdown",
   "metadata": {},
   "source": [
    "> **TODO** \n",
    "- Time dependent data"
   ]
  }
 ],
 "metadata": {
  "kernelspec": {
   "display_name": "libo",
   "language": "python",
   "name": "libo"
  },
  "language_info": {
   "codemirror_mode": {
    "name": "ipython",
    "version": 3
   },
   "file_extension": ".py",
   "mimetype": "text/x-python",
   "name": "python",
   "nbconvert_exporter": "python",
   "pygments_lexer": "ipython3",
   "version": "3.7.6"
  }
 },
 "nbformat": 4,
 "nbformat_minor": 4
}
