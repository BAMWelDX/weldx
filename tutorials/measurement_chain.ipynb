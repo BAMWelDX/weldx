{
 "cells": [
  {
   "cell_type": "code",
   "execution_count": 1,
   "id": "worldwide-focus",
   "metadata": {},
   "outputs": [],
   "source": [
    "from weldx import Q_\n",
    "from weldx import MathematicalExpression, TimeSeries\n",
    "from weldx.measurement import MeasurementChain, Error, Signal, SignalSource, SignalTransformation, MeasurementEquipment\n",
    "\n",
    "from pandas import TimedeltaIndex"
   ]
  },
  {
   "cell_type": "markdown",
   "id": "polar-visitor",
   "metadata": {},
   "source": [
    "# `MeasurementChain` Tutorial\n",
    "\n",
    "## Overview\n",
    "\n",
    "Acquiring experimental data is a process that usually involves multiple substeps. For example, during a temperature measurement we might have a sensor that produces a voltage correlating with the current temperature.\n",
    "If the produced voltage signal is analog, we need to convert it into a digital one to process it on our computer.\n",
    "Since we wanted to know the temperature and not some arbitrary voltage, we also need to transform the voltage data into temperature data by utilizing the calibration of our sensor.\n",
    "\n",
    "A quality assessment for a set of experimental data is only possible if we know about the involved substeps and the possible errors they might introduce.\n",
    "As long as we do not have detailed documentation about the measurement procedure, only the persons involved in the experiment have this knowledge.\n",
    "\n",
    "The `MeasurementChain` class introduced in this tutorial is meant to provide this kind of documentation.\n",
    "We will discuss the different methods to construct a `MeasurementChain` and the features it offers.\n",
    "\n",
    "## Construction without additional classes\n",
    "\n",
    "The easiest way to construct a measurement chain is to use the `from_parameters` and the `create_transformation` methods. With these functions, we do not need to bother with as many extra classes as with the other approaches.\n",
    "\n",
    "We start with the `from_parameters` function to create a new measurement chain. We need to provide 5 parameters to it:\n",
    "\n",
    "- The name of the measurement chain\n",
    "- The name of the source that creates the first, unprocessed measurement signal\n",
    "- The error of the source\n",
    "- The type of the source signal (analog or digital)\n",
    "- The unit of the source signal\n",
    "\n",
    "Optionally, one can also provide the associated measurement data, if it was recorded, but we will discuss this in a later section. Let's start by creation our first measurement chain:"
   ]
  },
  {
   "cell_type": "code",
   "execution_count": 2,
   "id": "smooth-decimal",
   "metadata": {},
   "outputs": [],
   "source": [
    "mc_1 = MeasurementChain.from_parameters(name=\"Temperature measurement chain 1\",\n",
    "                                        source_name=\"Thermocouple 1\",\n",
    "                                        source_error=Error(deviation=Q_(0.1, \"percent\")),\n",
    "                                        output_signal_type=\"analog\",\n",
    "                                        output_signal_unit=\"V\",\n",
    "                                       )"
   ]
  },
  {
   "cell_type": "markdown",
   "id": "representative-bouquet",
   "metadata": {},
   "source": [
    "As you can see, we have created a `MeasurementChain` with the name \"Temperature measurement chain 1\". It's source is named \"Thermocouple 1\" and it produces an analog output signal in Volts. The specified measurement error is a fixed value of 0.1%. \n",
    "\n",
    "Next we want to add the first transformation step, the analog-digital conversion of the signal. Therefore, we use the `create_transformation` method of our newly created measurement chain. As the `from_parameters` function, it accepts the name of the transformation, its error, the output signal and the output unit as parameters. Additionally, we can provide a function that describes how the numerical values and units are transformed.\n",
    "\n",
    "The output signal type, unit and function are all optional parameters. However, providing none of them wouldn't apply any changes to the signal and emit a warning.\n",
    "\n",
    "Now we add the AD conversion to our measurement chain:"
   ]
  },
  {
   "cell_type": "code",
   "execution_count": 3,
   "id": "respective-orientation",
   "metadata": {},
   "outputs": [],
   "source": [
    "mc_1.create_transformation(name=\"AD conversion\", \n",
    "                           error=None, \n",
    "                           output_signal_type=\"digital\", \n",
    "                           output_signal_unit=\"\"\n",
    "                          )"
   ]
  },
  {
   "cell_type": "markdown",
   "id": "motivated-heaven",
   "metadata": {},
   "source": [
    "All we needed to specify apart from the name and error was the output signal type as \"digital\". We also removed the unit by providing an empty string as output unit since the AD conversion just yields a digital number that doesn't necessarily represent a physical quantity. \n",
    "\n",
    "Let's add the final transformation, the calibration, which produces the data we are interested in. "
   ]
  },
  {
   "cell_type": "code",
   "execution_count": 4,
   "id": "controlled-vector",
   "metadata": {},
   "outputs": [],
   "source": [
    "mc_1.create_transformation(name=\"Calibration\",\n",
    "                           error=Error(Q_(0.4, \"percent\")),\n",
    "                           func=MathematicalExpression(expression=\"a*x+b\", \n",
    "                                                       parameters={\"a\": Q_(3, \"K\"),\n",
    "                                                                   \"b\": Q_(273.15, \"K\")})\n",
    "                          )"
   ]
  },
  {
   "cell_type": "markdown",
   "id": "english-therapy",
   "metadata": {},
   "source": [
    "Here we specify a function that describes the transformation of our digital number into an actual temperature value:\n",
    "\n",
    "$$\n",
    "3K \\cdot x + 273.15K\n",
    "$$\n",
    "\n",
    "The name of the variable and the parameters can be arbitrarily chosen. The only restriction is, that the function only has a single variable which represents the input signal. Since the parameters of our function already contain the unit conversion we do not need to provide the `output_signal_unit` parameter. However, we could do this to assure that our output signal has the correct dimensionality. In case the function yields a unit of different dimensionality than passed `output_signal_unit`, an exception would be raised. Be aware, that degrees in Celsius have the same dimensionality (temperature) as Kelvin. So in this case, `create_transformation` wouldn't complain. Additionally, you can't use the `output_signal_unit` parameter to add a unit conversion if the passed function does not contain one. In fact, if only `output_signal_unit` is provided without a function, like in the AD conversion we added before, `create_transformation` generates a corresponding conversion function internally.\n",
    "\n",
    "## Plotting measurement chains\n",
    "\n",
    "Now that we have created our first measurement chain without any exceptions, we might want to verify that everything is specified correctly. To do so, we can use pythons `print` command to check all variables, but this would be a bit tedious. A more convenient way is to use the plot function of the `MeasurementChain`.\n"
   ]
  },
  {
   "cell_type": "code",
   "execution_count": 5,
   "id": "afraid-administrator",
   "metadata": {},
   "outputs": [
    {
     "data": {
      "text/plain": [
       "<AxesSubplot:title={'center':'Temperature measurement chain 1'}>"
      ]
     },
     "execution_count": 5,
     "metadata": {},
     "output_type": "execute_result"
    },
    {
     "data": {
      "image/png": "[encoded data removed]",
      "text/plain": [
       "<Figure size 864x432 with 1 Axes>"
      ]
     },
     "metadata": {},
     "output_type": "display_data"
    }
   ],
   "source": [
    "mc_1.plot()"
   ]
  },
  {
   "cell_type": "markdown",
   "id": "super-scope",
   "metadata": {},
   "source": [
    "The plot shows us the initial signal produced by the source on the left. To the right of the source signal all transformations and their resulting output signals are shown.\n",
    "\n",
    "## Construction from dedicated classes\n",
    "\n",
    "The first method we demonstrated required you to provide a lot of parameters. While this is method is very explicit and doesn't involve many other classes, it is not be the best approach if you want to share sources and transformations with other measurement chains or objects. To share information about a source or transformation, two dedicated container classes are available, `SignalSource` and `SignalTransformation`.\n",
    "\n",
    "A `SignalSource` can be generated as follows:"
   ]
  },
  {
   "cell_type": "code",
   "execution_count": 6,
   "id": "balanced-camel",
   "metadata": {},
   "outputs": [],
   "source": [
    "source_2 = SignalSource(name=\"Source\",\n",
    "                        error=Error(Q_(0.1,\"percent\")),\n",
    "                        output_signal=Signal(signal_type=\"analog\", unit=\"V\")\n",
    "                       )"
   ]
  },
  {
   "cell_type": "markdown",
   "id": "defined-compensation",
   "metadata": {},
   "source": [
    "The information we provide is similar as before. The only noteworthy thing here is, that the signal type and unit are wrapped into a separate `Signal` class. Now we can use this class to create a measurement chain:    "
   ]
  },
  {
   "cell_type": "code",
   "execution_count": 7,
   "id": "portuguese-tractor",
   "metadata": {},
   "outputs": [],
   "source": [
    "mc_2 = MeasurementChain(name=\"Measurement chain 2\", \n",
    "                        source=source_2)"
   ]
  },
  {
   "cell_type": "markdown",
   "id": "mature-trash",
   "metadata": {},
   "source": [
    "Next we create a `SignalTransformation` "
   ]
  },
  {
   "cell_type": "code",
   "execution_count": 8,
   "id": "romantic-instrument",
   "metadata": {},
   "outputs": [],
   "source": [
    "transformation_3 = SignalTransformation(name=\"Transformation\",\n",
    "                                        error=Error(Q_(1,\"percent\")),\n",
    "                                        func=MathematicalExpression(expression=\"a*x+b\", \n",
    "                                                                    parameters={\"a\": Q_(3, \"K/V\"),\n",
    "                                                                                \"b\": Q_(273.15, \"K\")}),\n",
    "                                        type_transformation=\"AD\"\n",
    "                                       )"
   ]
  },
  {
   "cell_type": "markdown",
   "id": "verbal-miracle",
   "metadata": {},
   "source": [
    "The first three arguments are equivalent as when using the `create_transformation` method. The `type_transformation` parameter expects a string consisting of two letters that can either be \"A\" for analog and \"D\" for digital. The first letter is the expected input signal type and the second letter the output signal type.\n",
    "We can add it to the `MeasurementChain` with the `add_transformation` function."
   ]
  },
  {
   "cell_type": "code",
   "execution_count": 9,
   "id": "homeless-advocacy",
   "metadata": {},
   "outputs": [],
   "source": [
    "mc_2.add_transformation(transformation_3)"
   ]
  },
  {
   "cell_type": "markdown",
   "id": "fiscal-project",
   "metadata": {},
   "source": [
    "Here is the corresponding plot:"
   ]
  },
  {
   "cell_type": "code",
   "execution_count": 10,
   "id": "eight-invalid",
   "metadata": {},
   "outputs": [
    {
     "data": {
      "text/plain": [
       "<AxesSubplot:title={'center':'Measurement chain 2'}>"
      ]
     },
     "execution_count": 10,
     "metadata": {},
     "output_type": "execute_result"
    },
    {
     "data": {
      "image/png": "[encoded data removed]",
      "text/plain": [
       "<Figure size 864x432 with 1 Axes>"
      ]
     },
     "metadata": {},
     "output_type": "display_data"
    }
   ],
   "source": [
    "mc_2.plot()"
   ]
  },
  {
   "cell_type": "markdown",
   "id": "confidential-currency",
   "metadata": {},
   "source": [
    "You can get the source and transformation objects of an existing measurement chain with the `source` property and the `get_transformation` function:"
   ]
  },
  {
   "cell_type": "code",
   "execution_count": 11,
   "id": "occupational-belfast",
   "metadata": {},
   "outputs": [
    {
     "data": {
      "text/plain": [
       "SignalSource(name='Source', output_signal=Signal(signal_type='analog', unit='V', data=None), error=Error(deviation=<Quantity(0.1, 'percent')>))"
      ]
     },
     "execution_count": 11,
     "metadata": {},
     "output_type": "execute_result"
    }
   ],
   "source": [
    "mc_2.source"
   ]
  },
  {
   "cell_type": "code",
   "execution_count": 12,
   "id": "significant-calgary",
   "metadata": {},
   "outputs": [
    {
     "data": {
      "text/plain": [
       "SignalTransformation(name='Transformation', error=Error(deviation=<Quantity(1, 'percent')>), func=<MathematicalExpression>\n",
       "Expression:\n",
       "\t a*x + b\n",
       "Parameters:\n",
       "\ta = 3 kelvin / volt\n",
       "\tb = 273.15 kelvin\n",
       ", type_transformation='AD', input_shape=None, output_shape=None)"
      ]
     },
     "execution_count": 12,
     "metadata": {},
     "output_type": "execute_result"
    }
   ],
   "source": [
    "mc_2.get_transformation(\"Transformation\")"
   ]
  },
  {
   "cell_type": "markdown",
   "id": "opposite-benefit",
   "metadata": {},
   "source": [
    "## Construction from equipment classes\n",
    "\n",
    "The sources and transformations of a measurement chain are often tied to a certain piece of laboratory equipment. \n",
    "The weldx package offers the `GenericEquipment` structure to describe your equipment and collect all the operations it performs inside of a measurement chain.\n",
    "Since lab equipment usually doesn't change frequently, a good approach would be to define all your instruments and once and reuse their definitions when creating a new WelDX file.\n",
    "The `MeasurementChain` supports this by letting you a create new instances using `from_equipment` and adding transformations with `add_transformation_from_equipment`.\n",
    "\n",
    "Let us create two pieces of equipment and create a new `MeasurementChain` from it:"
   ]
  },
  {
   "cell_type": "code",
   "execution_count": 13,
   "id": "recent-criterion",
   "metadata": {},
   "outputs": [],
   "source": [
    "source_eq = MeasurementEquipment(\"Source 2000\", sources=[source_2])\n",
    "transformation_eq = MeasurementEquipment(\"Transformer X3\", transformations=[transformation_3])"
   ]
  },
  {
   "cell_type": "markdown",
   "id": "disturbed-moldova",
   "metadata": {},
   "source": [
    "Now we simply create a measurement chain from them:"
   ]
  },
  {
   "cell_type": "code",
   "execution_count": 14,
   "id": "refined-saver",
   "metadata": {},
   "outputs": [
    {
     "data": {
      "text/plain": [
       "<AxesSubplot:title={'center':'Measurement Chain 3'}>"
      ]
     },
     "execution_count": 14,
     "metadata": {},
     "output_type": "execute_result"
    },
    {
     "data": {
      "image/png": "[encoded data removed]",
      "text/plain": [
       "<Figure size 864x432 with 1 Axes>"
      ]
     },
     "metadata": {},
     "output_type": "display_data"
    }
   ],
   "source": [
    "mc_3 = MeasurementChain.from_equipment(\"Measurement Chain 3\", source_eq)\n",
    "mc_3.add_transformation_from_equipment(transformation_eq)\n",
    "mc_3.plot()"
   ]
  },
  {
   "cell_type": "markdown",
   "id": "criminal-destruction",
   "metadata": {},
   "source": [
    "If we add a an equipment to the `MeasurementChain`, it won't just only store the corresponding transformation but also remember the equipment that provides it. \n",
    "We can get the linked equipment using `get_equipment`.\n",
    "Therefore we must provide the name of the transformation or source"
   ]
  },
  {
   "cell_type": "code",
   "execution_count": 15,
   "id": "adverse-century",
   "metadata": {},
   "outputs": [
    {
     "data": {
      "text/plain": [
       "MeasurementEquipment(name='Source 2000', sources=[SignalSource(name='Source', output_signal=Signal(signal_type='analog', unit='V', data=None), error=Error(deviation=<Quantity(0.1, 'percent')>))], transformations=[])"
      ]
     },
     "execution_count": 15,
     "metadata": {},
     "output_type": "execute_result"
    }
   ],
   "source": [
    "mc_3.get_equipment(\"Source\")"
   ]
  },
  {
   "cell_type": "markdown",
   "id": "tropical-sydney",
   "metadata": {},
   "source": [
    "It might also be the case that an equipment provides multiple sources or transformations.\n",
    "In this case, you need to specify which one should be added to the `MeasurementChain`.\n",
    "The `from_equipment` and `add_transformation_from_equipment` provide an extra parameter for this case.\n",
    "\n",
    "## Accessing information\n",
    "\n",
    "\n",
    "In case you want to know names of the source or the transformations that are part of a `MeasurementChain`, you can use the following two properties:"
   ]
  },
  {
   "cell_type": "code",
   "execution_count": 16,
   "id": "referenced-language",
   "metadata": {},
   "outputs": [
    {
     "data": {
      "text/plain": [
       "'Source'"
      ]
     },
     "execution_count": 16,
     "metadata": {},
     "output_type": "execute_result"
    }
   ],
   "source": [
    "mc_3.source_name"
   ]
  },
  {
   "cell_type": "code",
   "execution_count": 17,
   "id": "forward-stewart",
   "metadata": {},
   "outputs": [
    {
     "data": {
      "text/plain": [
       "['Transformation']"
      ]
     },
     "execution_count": 17,
     "metadata": {},
     "output_type": "execute_result"
    }
   ],
   "source": [
    "mc_3.transformation_names"
   ]
  },
  {
   "cell_type": "markdown",
   "id": "freelance-office",
   "metadata": {},
   "source": [
    "You can also get the the `SignalSource` and `SignalTransformation` objects using:"
   ]
  },
  {
   "cell_type": "code",
   "execution_count": 18,
   "id": "leading-yellow",
   "metadata": {},
   "outputs": [
    {
     "data": {
      "text/plain": [
       "SignalSource(name='Source', output_signal=Signal(signal_type='analog', unit='V', data=None), error=Error(deviation=<Quantity(0.1, 'percent')>))"
      ]
     },
     "execution_count": 18,
     "metadata": {},
     "output_type": "execute_result"
    }
   ],
   "source": [
    "mc_3.source"
   ]
  },
  {
   "cell_type": "code",
   "execution_count": 19,
   "id": "circular-heather",
   "metadata": {},
   "outputs": [
    {
     "data": {
      "text/plain": [
       "SignalTransformation(name='Transformation', error=Error(deviation=<Quantity(1, 'percent')>), func=<MathematicalExpression>\n",
       "Expression:\n",
       "\t a*x + b\n",
       "Parameters:\n",
       "\ta = 3 kelvin / volt\n",
       "\tb = 273.15 kelvin\n",
       ", type_transformation='AD', input_shape=None, output_shape=None)"
      ]
     },
     "execution_count": 19,
     "metadata": {},
     "output_type": "execute_result"
    }
   ],
   "source": [
    "mc_3.get_transformation(\"Transformation\")"
   ]
  },
  {
   "cell_type": "markdown",
   "id": "governing-terrain",
   "metadata": {},
   "source": [
    "If you want to know the type and unit of a signal that is generated by the source or results from a transformation, you can call the `get_signal` method.\n",
    "It returns a special class that contains all relevant information about a signal, including attached measurement data, that will be covered in the next section."
   ]
  },
  {
   "cell_type": "code",
   "execution_count": 20,
   "id": "nutritional-incidence",
   "metadata": {},
   "outputs": [
    {
     "data": {
      "text/plain": [
       "Signal(signal_type='digital', unit='kelvin', data=None)"
      ]
     },
     "execution_count": 20,
     "metadata": {},
     "output_type": "execute_result"
    }
   ],
   "source": [
    "mc_3.get_signal(\"Transformation\")"
   ]
  },
  {
   "cell_type": "markdown",
   "id": "coupled-region",
   "metadata": {},
   "source": [
    "One can also get a list of all signals and transformations with:"
   ]
  },
  {
   "cell_type": "code",
   "execution_count": 21,
   "id": "correct-savings",
   "metadata": {},
   "outputs": [
    {
     "data": {
      "text/plain": [
       "[Signal(signal_type='analog', unit='V', data=None),\n",
       " Signal(signal_type='digital', unit='kelvin', data=None)]"
      ]
     },
     "execution_count": 21,
     "metadata": {},
     "output_type": "execute_result"
    }
   ],
   "source": [
    "mc_3.signals"
   ]
  },
  {
   "cell_type": "code",
   "execution_count": 22,
   "id": "quiet-lancaster",
   "metadata": {},
   "outputs": [
    {
     "data": {
      "text/plain": [
       "[SignalTransformation(name='Transformation', error=Error(deviation=<Quantity(1, 'percent')>), func=<MathematicalExpression>\n",
       " Expression:\n",
       " \t a*x + b\n",
       " Parameters:\n",
       " \ta = 3 kelvin / volt\n",
       " \tb = 273.15 kelvin\n",
       " , type_transformation='AD', input_shape=None, output_shape=None)]"
      ]
     },
     "execution_count": 22,
     "metadata": {},
     "output_type": "execute_result"
    }
   ],
   "source": [
    "mc_3.transformations"
   ]
  },
  {
   "cell_type": "markdown",
   "id": "announced-harvey",
   "metadata": {},
   "source": [
    "## Attaching data\n",
    "\n",
    "The goal of the `MeasurementChain` class is to describe as detailed as possible how experimental data is acquired.\n",
    "Until now we have seen how to create such a `MeasurementChain` and how we can access the information it provides.\n",
    "However, the most important information is currently still missing: the actual data we produced.\n",
    "Attaching data is simply done with `add_signal_data`:"
   ]
  },
  {
   "cell_type": "code",
   "execution_count": 23,
   "id": "olive-disclaimer",
   "metadata": {},
   "outputs": [],
   "source": [
    "mc_1.add_signal_data(TimeSeries(data=Q_([10, 15, 5],\"K\"),\n",
    "                     time=TimedeltaIndex(data=[0, 2, 6],unit=\"s\"))\n",
    "                    )"
   ]
  },
  {
   "cell_type": "markdown",
   "id": "fitting-nurse",
   "metadata": {},
   "source": [
    "As you can see in the following plot, the data is associated with the output signal of the last transformation:    "
   ]
  },
  {
   "cell_type": "code",
   "execution_count": 24,
   "id": "gothic-citizenship",
   "metadata": {},
   "outputs": [
    {
     "data": {
      "text/plain": [
       "<AxesSubplot:title={'center':'Temperature measurement chain 1'}>"
      ]
     },
     "execution_count": 24,
     "metadata": {},
     "output_type": "execute_result"
    },
    {
     "data": {
      "image/png": "[encoded data removed]",
      "text/plain": [
       "<Figure size 864x432 with 1 Axes>"
      ]
     },
     "metadata": {},
     "output_type": "display_data"
    }
   ],
   "source": [
    "mc_1.plot()"
   ]
  },
  {
   "cell_type": "markdown",
   "id": "continental-victim",
   "metadata": {},
   "source": [
    "But what if we want to attach the raw data of our source too? \n",
    "For this case, `add_signal_data` provides a second parameter to specify the origin of the data.\n",
    "To add some data to the source, we do the following:"
   ]
  },
  {
   "cell_type": "code",
   "execution_count": 25,
   "id": "improving-contrast",
   "metadata": {},
   "outputs": [],
   "source": [
    "mc_1.add_signal_data(data=TimeSeries(data=Q_([2, 3, 1],\"K\"),\n",
    "                                     time=TimedeltaIndex(data=[0, 2, 6],unit=\"s\")\n",
    "                                    ),\n",
    "                     signal_source=\"Thermocouple 1\"\n",
    "                    )"
   ]
  },
  {
   "cell_type": "markdown",
   "id": "quarterly-organization",
   "metadata": {},
   "source": [
    "As can be seen in the next plot, we successfully added the data to the source:"
   ]
  },
  {
   "cell_type": "code",
   "execution_count": 26,
   "id": "communist-palace",
   "metadata": {},
   "outputs": [
    {
     "data": {
      "text/plain": [
       "<AxesSubplot:title={'center':'Temperature measurement chain 1'}>"
      ]
     },
     "execution_count": 26,
     "metadata": {},
     "output_type": "execute_result"
    },
    {
     "data": {
      "image/png": "[encoded data removed]",
      "text/plain": [
       "<Figure size 864x432 with 1 Axes>"
      ]
     },
     "metadata": {},
     "output_type": "display_data"
    }
   ],
   "source": [
    "mc_1.plot()"
   ]
  },
  {
   "cell_type": "markdown",
   "id": "metallic-certificate",
   "metadata": {},
   "source": [
    "Also note, that all functions that let you create a measurement chain or add a transformation provide an extra parameter to add the corresponding data.\n",
    "\n",
    "Finally, if you want to access the stored data, we can use `get_signal_data`.\n",
    "As for the `add_signal_data` function, you get the data from the last transformation if you don't specify any source or transformation name:"
   ]
  },
  {
   "cell_type": "code",
   "execution_count": 27,
   "id": "turkish-ranking",
   "metadata": {},
   "outputs": [
    {
     "data": {
      "text/plain": [
       "<TimeSeries>\n",
       "Time:\n",
       "\tTimedeltaIndex(['0 days 00:00:00', '0 days 00:00:02', '0 days 00:00:06'], dtype='timedelta64[ns]', freq=None)\n",
       "Values:\n",
       "\t[10 15  5]\n",
       "Interpolation:\n",
       "\tlinear\n",
       "Units:\n",
       "\tkelvin"
      ]
     },
     "execution_count": 27,
     "metadata": {},
     "output_type": "execute_result"
    }
   ],
   "source": [
    "mc_1.get_signal_data()"
   ]
  },
  {
   "cell_type": "markdown",
   "id": "naughty-theater",
   "metadata": {},
   "source": [
    "We access the sources' data by adding its name to the function call:"
   ]
  },
  {
   "cell_type": "code",
   "execution_count": 28,
   "id": "offshore-judgment",
   "metadata": {},
   "outputs": [
    {
     "data": {
      "text/plain": [
       "<TimeSeries>\n",
       "Time:\n",
       "\tTimedeltaIndex(['0 days 00:00:00', '0 days 00:00:02', '0 days 00:00:06'], dtype='timedelta64[ns]', freq=None)\n",
       "Values:\n",
       "\t[2 3 1]\n",
       "Interpolation:\n",
       "\tlinear\n",
       "Units:\n",
       "\tkelvin"
      ]
     },
     "execution_count": 28,
     "metadata": {},
     "output_type": "execute_result"
    }
   ],
   "source": [
    "mc_1.get_signal_data(\"Thermocouple 1\")"
   ]
  }
 ],
 "metadata": {
  "kernelspec": {
   "display_name": "weldx",
   "language": "python",
   "name": "weldx"
  },
  "language_info": {
   "codemirror_mode": {
    "name": "ipython",
    "version": 3
   },
   "file_extension": ".py",
   "mimetype": "text/x-python",
   "name": "python",
   "nbconvert_exporter": "python",
   "pygments_lexer": "ipython3",
   "version": "3.8.8"
  }
 },
 "nbformat": 4,
 "nbformat_minor": 5
}
