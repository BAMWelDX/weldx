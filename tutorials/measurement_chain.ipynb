{
 "cells": [
  {
   "cell_type": "code",
   "execution_count": 3,
   "id": "amino-palace",
   "metadata": {},
   "outputs": [],
   "source": [
    "from weldx.measurement import MeasurementChain"
   ]
  },
  {
   "cell_type": "markdown",
   "id": "competent-opening",
   "metadata": {},
   "source": [
    "## Overview\n",
    "\n",
    "Aquiring experimental data is a process that usually involves multiple substeps. For example, during a temperature measurement we might have a sensor that produces a voltage correlating with the current temperature. If the produced voltage signal is analog, we need to convert it into a digital one to process it on our computer. Since we wanted to know the temperature and not some arbitrary voltage, we also need to transform the voltage data into temperature data by utilizing the calibration of our sensor. \n",
    "\n",
    "A quality assesment for a set of experimental data is only possible if we know about the involved substeps and the possible errors they might introduce. As long as we do not have detailed documentation about the measurement procedure, only the persons involved in the experiment have this knowledge.\n",
    "\n",
    "The `MeasurementChain` class introduced in this tutorial is meant to provide "
   ]
  },
  {
   "cell_type": "code",
   "execution_count": null,
   "id": "electoral-geography",
   "metadata": {},
   "outputs": [],
   "source": []
  }
 ],
 "metadata": {
  "kernelspec": {
   "display_name": "weldx",
   "language": "python",
   "name": "weldx"
  },
  "language_info": {
   "codemirror_mode": {
    "name": "ipython",
    "version": 3
   },
   "file_extension": ".py",
   "mimetype": "text/x-python",
   "name": "python",
   "nbconvert_exporter": "python",
   "pygments_lexer": "ipython3",
   "version": "3.8.8"
  }
 },
 "nbformat": 4,
 "nbformat_minor": 5
}
