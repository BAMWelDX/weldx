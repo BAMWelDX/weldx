{
 "cells": [
  {
   "cell_type": "markdown",
   "metadata": {},
   "source": [
    "# Adding custom metadata\n",
    "It is possible to attach and store arbitrary metadata to WelDX objects as python attributes.\n",
    "The WelDX API reserves the attribute names `wx_metadata` and `wx_user` for these use cases.\n",
    "\n",
    "The `wx_metadata` field is intended for additional information that might be required as part of a custom Quality Standard. The `wx_user` attribute is intended to add any user data and should only be used for additional information that will not get accessed by the API. \n",
    "\n",
    "## A small example\n",
    "Let's say we want to use metadata to add a custom information to a current-sensor used during a welding experiment. As an example we want to add a timestamp to indicate when the sensor was last calibrated."
   ]
  },
  {
   "cell_type": "markdown",
   "metadata": {},
   "source": [
    "We start by creating the sensor object as a `MeasurementEquipment`:"
   ]
  },
  {
   "cell_type": "code",
   "execution_count": 1,
   "metadata": {},
   "outputs": [],
   "source": [
    "from weldx.measurement import MeasurementEquipment\n",
    "\n",
    "HKS_sensor = MeasurementEquipment(name=\"HKS P1000-S3\")"
   ]
  },
  {
   "cell_type": "markdown",
   "metadata": {},
   "source": [
    "Now we want to add the timestamp of the last time the sensor was calibrated as additional metadata. To do this we simple assign a new `.wx_metadata` attribute to the sensor. We will also add a small personal note to `wx_user`.\n",
    "\n",
    "*Note: By convention the metadata fields should be python dictionaries.*"
   ]
  },
  {
   "cell_type": "code",
   "execution_count": 2,
   "metadata": {},
   "outputs": [],
   "source": [
    "import pandas as pd\n",
    "\n",
    "HKS_sensor.wx_metadata = {\"calibration\": pd.Timestamp(\"2020-06-01\")}\n",
    "HKS_sensor.wx_user = {\"notes\": [\"wallmounted\", \"The cable seems to be a bit loose.\"]}"
   ]
  },
  {
   "cell_type": "markdown",
   "metadata": {},
   "source": [
    "Now let's look at the ASDF file contents with our metadata:"
   ]
  },
  {
   "cell_type": "code",
   "execution_count": 3,
   "metadata": {},
   "outputs": [
    {
     "data": {
      "text/html": [
       "<style type=\"text/css\">pre { line-height: 125%; }\n",
       "td.linenos .normal { color: inherit; background-color: transparent; padding-left: 5px; padding-right: 5px; }\n",
       "span.linenos { color: inherit; background-color: transparent; padding-left: 5px; padding-right: 5px; }\n",
       "td.linenos .special { color: #000000; background-color: #ffffc0; padding-left: 5px; padding-right: 5px; }\n",
       "span.linenos.special { color: #000000; background-color: #ffffc0; padding-left: 5px; padding-right: 5px; }\n",
       ".highlight .hll { background-color: #ffffcc }\n",
       ".highlight { background: #f8f8f8; }\n",
       ".highlight .c { color: #408080; font-style: italic } /* Comment */\n",
       ".highlight .err { border: 1px solid #FF0000 } /* Error */\n",
       ".highlight .k { color: #008000; font-weight: bold } /* Keyword */\n",
       ".highlight .o { color: #666666 } /* Operator */\n",
       ".highlight .ch { color: #408080; font-style: italic } /* Comment.Hashbang */\n",
       ".highlight .cm { color: #408080; font-style: italic } /* Comment.Multiline */\n",
       ".highlight .cp { color: #BC7A00 } /* Comment.Preproc */\n",
       ".highlight .cpf { color: #408080; font-style: italic } /* Comment.PreprocFile */\n",
       ".highlight .c1 { color: #408080; font-style: italic } /* Comment.Single */\n",
       ".highlight .cs { color: #408080; font-style: italic } /* Comment.Special */\n",
       ".highlight .gd { color: #A00000 } /* Generic.Deleted */\n",
       ".highlight .ge { font-style: italic } /* Generic.Emph */\n",
       ".highlight .gr { color: #FF0000 } /* Generic.Error */\n",
       ".highlight .gh { color: #000080; font-weight: bold } /* Generic.Heading */\n",
       ".highlight .gi { color: #00A000 } /* Generic.Inserted */\n",
       ".highlight .go { color: #888888 } /* Generic.Output */\n",
       ".highlight .gp { color: #000080; font-weight: bold } /* Generic.Prompt */\n",
       ".highlight .gs { font-weight: bold } /* Generic.Strong */\n",
       ".highlight .gu { color: #800080; font-weight: bold } /* Generic.Subheading */\n",
       ".highlight .gt { color: #0044DD } /* Generic.Traceback */\n",
       ".highlight .kc { color: #008000; font-weight: bold } /* Keyword.Constant */\n",
       ".highlight .kd { color: #008000; font-weight: bold } /* Keyword.Declaration */\n",
       ".highlight .kn { color: #008000; font-weight: bold } /* Keyword.Namespace */\n",
       ".highlight .kp { color: #008000 } /* Keyword.Pseudo */\n",
       ".highlight .kr { color: #008000; font-weight: bold } /* Keyword.Reserved */\n",
       ".highlight .kt { color: #B00040 } /* Keyword.Type */\n",
       ".highlight .m { color: #666666 } /* Literal.Number */\n",
       ".highlight .s { color: #BA2121 } /* Literal.String */\n",
       ".highlight .na { color: #7D9029 } /* Name.Attribute */\n",
       ".highlight .nb { color: #008000 } /* Name.Builtin */\n",
       ".highlight .nc { color: #0000FF; font-weight: bold } /* Name.Class */\n",
       ".highlight .no { color: #880000 } /* Name.Constant */\n",
       ".highlight .nd { color: #AA22FF } /* Name.Decorator */\n",
       ".highlight .ni { color: #999999; font-weight: bold } /* Name.Entity */\n",
       ".highlight .ne { color: #D2413A; font-weight: bold } /* Name.Exception */\n",
       ".highlight .nf { color: #0000FF } /* Name.Function */\n",
       ".highlight .nl { color: #A0A000 } /* Name.Label */\n",
       ".highlight .nn { color: #0000FF; font-weight: bold } /* Name.Namespace */\n",
       ".highlight .nt { color: #008000; font-weight: bold } /* Name.Tag */\n",
       ".highlight .nv { color: #19177C } /* Name.Variable */\n",
       ".highlight .ow { color: #AA22FF; font-weight: bold } /* Operator.Word */\n",
       ".highlight .w { color: #bbbbbb } /* Text.Whitespace */\n",
       ".highlight .mb { color: #666666 } /* Literal.Number.Bin */\n",
       ".highlight .mf { color: #666666 } /* Literal.Number.Float */\n",
       ".highlight .mh { color: #666666 } /* Literal.Number.Hex */\n",
       ".highlight .mi { color: #666666 } /* Literal.Number.Integer */\n",
       ".highlight .mo { color: #666666 } /* Literal.Number.Oct */\n",
       ".highlight .sa { color: #BA2121 } /* Literal.String.Affix */\n",
       ".highlight .sb { color: #BA2121 } /* Literal.String.Backtick */\n",
       ".highlight .sc { color: #BA2121 } /* Literal.String.Char */\n",
       ".highlight .dl { color: #BA2121 } /* Literal.String.Delimiter */\n",
       ".highlight .sd { color: #BA2121; font-style: italic } /* Literal.String.Doc */\n",
       ".highlight .s2 { color: #BA2121 } /* Literal.String.Double */\n",
       ".highlight .se { color: #BB6622; font-weight: bold } /* Literal.String.Escape */\n",
       ".highlight .sh { color: #BA2121 } /* Literal.String.Heredoc */\n",
       ".highlight .si { color: #BB6688; font-weight: bold } /* Literal.String.Interpol */\n",
       ".highlight .sx { color: #008000 } /* Literal.String.Other */\n",
       ".highlight .sr { color: #BB6688 } /* Literal.String.Regex */\n",
       ".highlight .s1 { color: #BA2121 } /* Literal.String.Single */\n",
       ".highlight .ss { color: #19177C } /* Literal.String.Symbol */\n",
       ".highlight .bp { color: #008000 } /* Name.Builtin.Pseudo */\n",
       ".highlight .fm { color: #0000FF } /* Name.Function.Magic */\n",
       ".highlight .vc { color: #19177C } /* Name.Variable.Class */\n",
       ".highlight .vg { color: #19177C } /* Name.Variable.Global */\n",
       ".highlight .vi { color: #19177C } /* Name.Variable.Instance */\n",
       ".highlight .vm { color: #19177C } /* Name.Variable.Magic */\n",
       ".highlight .il { color: #666666 } /* Literal.Number.Integer.Long */</style><div class=\"highlight\"><pre><span></span><span class=\"c1\">#ASDF 1.0.0</span>\n",
       "<span class=\"c1\">#ASDF_STANDARD 1.5.0</span>\n",
       "<span class=\"nt\">%YAML</span> <span class=\"m\">1.1</span>\n",
       "<span class=\"nt\">%TAG</span> <span class=\"kt\">!</span> <span class=\"kt\">tag:stsci.edu:asdf/</span>\n",
       "<span class=\"nn\">---</span> <span class=\"kt\">!core/asdf-1.1.0</span>\n",
       "<span class=\"nt\">asdf_library</span><span class=\"p\">:</span> <span class=\"kt\">!core/software-1.0.0</span> <span class=\"p p-Indicator\">{</span><span class=\"nt\">author</span><span class=\"p\">:</span> <span class=\"nv\">Space Telescope Science Institute</span><span class=\"p p-Indicator\">,</span><span class=\"nt\"> homepage</span><span class=\"p\">:</span> <span class=\"s\">&#39;http://github.com/spacetelescope/asdf&#39;</span><span class=\"p p-Indicator\">,</span>\n",
       "<span class=\"nt\">  name</span><span class=\"p\">:</span> <span class=\"nv\">asdf</span><span class=\"p p-Indicator\">,</span><span class=\"nt\"> version</span><span class=\"p\">:</span> <span class=\"nv\">2.7.3</span><span class=\"p p-Indicator\">}</span>\n",
       "<span class=\"nt\">history</span><span class=\"p\">:</span>\n",
       "  <span class=\"nt\">extensions</span><span class=\"p\">:</span>\n",
       "  <span class=\"p p-Indicator\">-</span> <span class=\"kt\">!core/extension_metadata-1.0.0</span>\n",
       "    <span class=\"nt\">extension_class</span><span class=\"p\">:</span> <span class=\"l l-Scalar l-Scalar-Plain\">weldx.asdf.extension.WeldxExtension</span>\n",
       "    <span class=\"nt\">software</span><span class=\"p\">:</span> <span class=\"kt\">!core/software-1.0.0</span> <span class=\"p p-Indicator\">{</span><span class=\"nt\">name</span><span class=\"p\">:</span> <span class=\"nv\">weldx</span><span class=\"p p-Indicator\">,</span><span class=\"nt\"> version</span><span class=\"p\">:</span> <span class=\"nv\">0.3.2.dev4+gb4cf8fd.d20210323</span><span class=\"p p-Indicator\">}</span>\n",
       "  <span class=\"p p-Indicator\">-</span> <span class=\"kt\">!core/extension_metadata-1.0.0</span>\n",
       "    <span class=\"nt\">extension_class</span><span class=\"p\">:</span> <span class=\"l l-Scalar l-Scalar-Plain\">asdf.extension.BuiltinExtension</span>\n",
       "    <span class=\"nt\">software</span><span class=\"p\">:</span> <span class=\"kt\">!core/software-1.0.0</span> <span class=\"p p-Indicator\">{</span><span class=\"nt\">name</span><span class=\"p\">:</span> <span class=\"nv\">asdf</span><span class=\"p p-Indicator\">,</span><span class=\"nt\"> version</span><span class=\"p\">:</span> <span class=\"nv\">2.7.3</span><span class=\"p p-Indicator\">}</span>\n",
       "<span class=\"nt\">sensor</span><span class=\"p\">:</span> <span class=\"kt\">!&lt;tag:weldx.bam.de:weldx/equipment/measurement_equipment-1.0.0&gt;</span>\n",
       "  <span class=\"nt\">name</span><span class=\"p\">:</span> <span class=\"l l-Scalar l-Scalar-Plain\">HKS P1000-S3</span>\n",
       "  <span class=\"nt\">sources</span><span class=\"p\">:</span> <span class=\"p p-Indicator\">[]</span>\n",
       "  <span class=\"nt\">transformations</span><span class=\"p\">:</span> <span class=\"p p-Indicator\">[]</span>\n",
       "  <span class=\"nt\">wx_metadata</span><span class=\"p\">:</span>\n",
       "    <span class=\"nt\">calibration</span><span class=\"p\">:</span> <span class=\"kt\">!&lt;tag:weldx.bam.de:weldx/time/timestamp-1.0.0&gt;</span> <span class=\"p p-Indicator\">{</span><span class=\"nt\">value</span><span class=\"p\">:</span> <span class=\"s\">&#39;2020-06-01T00:00:00&#39;</span><span class=\"p p-Indicator\">}</span>\n",
       "  <span class=\"nt\">wx_user</span><span class=\"p\">:</span>\n",
       "    <span class=\"nt\">notes</span><span class=\"p\">:</span> <span class=\"p p-Indicator\">[</span><span class=\"nv\">wallmounted</span><span class=\"p p-Indicator\">,</span> <span class=\"nv\">The cable seems to be a bit loose.</span><span class=\"p p-Indicator\">]</span>\n",
       "</pre></div>\n"
      ],
      "text/plain": [
       "<IPython.core.display.HTML object>"
      ]
     },
     "execution_count": 3,
     "metadata": {},
     "output_type": "execute_result"
    }
   ],
   "source": [
    "from weldx.asdf.util import _write_buffer, notebook_fileprinter\n",
    "\n",
    "buffer = _write_buffer({\"sensor\": HKS_sensor})\n",
    "notebook_fileprinter(buffer)"
   ]
  },
  {
   "cell_type": "markdown",
   "metadata": {},
   "source": [
    "As we can see, our custom metadata gets serialized into the ASDF tree:\n",
    "```yaml\n",
    "wx_metadata:\n",
    "    calibration: !<tag:weldx.bam.de:weldx/time/timestamp-1.0.0> {value: '2020-06-01T00:00:00'}\n",
    "  wx_user:\n",
    "    notes: [wallmounted, The cable seems to be a bit loose.]\n",
    "```\n",
    "Let's check if we keep the information upon reading the file:"
   ]
  },
  {
   "cell_type": "code",
   "execution_count": 4,
   "metadata": {},
   "outputs": [
    {
     "data": {
      "text/plain": [
       "{'calibration': Timestamp('2020-06-01 00:00:00')}"
      ]
     },
     "metadata": {},
     "output_type": "display_data"
    },
    {
     "data": {
      "text/plain": [
       "{'notes': ['wallmounted', 'The cable seems to be a bit loose.']}"
      ]
     },
     "metadata": {},
     "output_type": "display_data"
    }
   ],
   "source": [
    "from weldx.asdf.util import _read_buffer\n",
    "\n",
    "data = _read_buffer(buffer)\n",
    "display(data[\"sensor\"].wx_metadata)\n",
    "display(data[\"sensor\"].wx_user)"
   ]
  }
 ],
 "metadata": {
  "kernelspec": {
   "display_name": "weldx",
   "language": "python",
   "name": "weldx"
  },
  "language_info": {
   "codemirror_mode": {
    "name": "ipython",
    "version": 3
   },
   "file_extension": ".py",
   "mimetype": "text/x-python",
   "name": "python",
   "nbconvert_exporter": "python",
   "pygments_lexer": "ipython3",
   "version": "3.8.8"
  }
 },
 "nbformat": 4,
 "nbformat_minor": 4
}
