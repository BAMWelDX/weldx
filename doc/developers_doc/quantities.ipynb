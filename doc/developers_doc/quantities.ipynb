{
 "cells": [
  {
   "cell_type": "markdown",
   "metadata": {},
   "source": [
    "# Quantities\n",
    "## Introduction\n",
    "One aim of `weldx` is to be as specific about describing the physics of welding data as possible.\n",
    "An important aspect of this task is the use of (physical) quantities, i.e. the combination of numeric values with a unit."
   ]
  },
  {
   "cell_type": "markdown",
   "metadata": {},
   "source": [
    "## The `pint` package\n",
    "The `weldx` packages relies heavily on `pint` to work with quantities.\n",
    "One advantage of `pint` besides it's ease of use is the ongoing effort to further integrate it with other popular packages like `numpy`, `sympy`, `pandas` and `xarray` that are also used in `weldx`.\n",
    "\n",
    "Read more about `pint` [here](https://pint.readthedocs.io/)."
   ]
  },
  {
   "cell_type": "markdown",
   "metadata": {},
   "source": [
    "## Quickstart\n",
    "If you only want to start working with units inside `weldx`, here is what you need to know:\n",
    "\n",
    "First, import the `weldx` base quantity constructor `Q_`"
   ]
  },
  {
   "cell_type": "code",
   "execution_count": 1,
   "metadata": {},
   "outputs": [],
   "source": [
    "from weldx import Q_"
   ]
  },
  {
   "cell_type": "markdown",
   "metadata": {},
   "source": [
    "Now use `Q_` to create quantities or add a unit to existing `numpy`-like arrays.\n",
    "\n",
    "Here are some examples:"
   ]
  },
  {
   "cell_type": "code",
   "execution_count": 2,
   "metadata": {},
   "outputs": [
    {
     "name": "stdout",
     "output_type": "stream",
     "text": [
      "5 meter\n",
      "2 minute\n",
      "[ 0  1  2  3  4  5  6  7  8  9 10 11 12 13 14 15 16 17 18 19] ampere\n"
     ]
    }
   ],
   "source": [
    "import numpy as np\n",
    "\n",
    "a = Q_(5, \"meter\")\n",
    "print(a)\n",
    "t = Q_(2, \"minute\")\n",
    "print(t)\n",
    "I = Q_(np.arange(20),\"A\")\n",
    "print(I)"
   ]
  },
  {
   "cell_type": "markdown",
   "metadata": {},
   "source": [
    "That's it, simply use the quantity objects like you would with other `numpy`-like numerical objects.\n",
    "\n",
    "If you are worried about unit syntax, don't be: `pint` has very powerful string parsing for units (including prefixes), so in most cases it should be sufficient to provide units in a \"natural\" engineering notation even for complex cases:"
   ]
  },
  {
   "cell_type": "code",
   "execution_count": 3,
   "metadata": {},
   "outputs": [
    {
     "data": {
      "text/html": [
       "200 kilovolt_ampere/(deciliter nanosecond)"
      ],
      "text/latex": [
       "$200\\ \\frac{\\mathrm{kilovolt\\_ampere}}{\\left(\\mathrm{deciliter} \\cdot \\mathrm{nanosecond}\\right)}$"
      ],
      "text/plain": [
       "200 <Unit('kilovolt_ampere / deciliter / nanosecond')>"
      ]
     },
     "execution_count": 3,
     "metadata": {},
     "output_type": "execute_result"
    }
   ],
   "source": [
    "Q_(200,\"kVA / (nsecond * dl)\")"
   ]
  },
  {
   "cell_type": "markdown",
   "metadata": {},
   "source": [
    "## How `weldx` uses pint\n",
    "When importing the `weldx` package two things happen:\n",
    "1. A default `pint.UnitRegistry` is created and imported as `weldx.constants.WELDX_UNIT_REGISTRY`.\n",
    "  Since all `pint` quantities must have the same base `UnitRegistry` it is important to work with the `UnitRegistry` everywhere in `weldx`.\n",
    "  All changes and modifications to the unit system are based and stored in this Registry (example: enabling use of `\"%\"` for units).\n",
    "2. Based on the above `UnitRegistry` the `Q_` object gets created.\n",
    "  This should be the default method when creating new quantities throughout `weldx`."
   ]
  }
 ],
 "metadata": {
  "kernelspec": {
   "display_name": "weldx",
   "language": "python",
   "name": "weldx"
  },
  "language_info": {
   "codemirror_mode": {
    "name": "ipython",
    "version": 3
   },
   "file_extension": ".py",
   "mimetype": "text/x-python",
   "name": "python",
   "nbconvert_exporter": "python",
   "pygments_lexer": "ipython3",
   "version": "3.7.9"
  }
 },
 "nbformat": 4,
 "nbformat_minor": 4
}
