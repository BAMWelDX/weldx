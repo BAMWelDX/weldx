{
 "cells": [
  {
   "cell_type": "code",
   "execution_count": 1,
   "metadata": {},
   "outputs": [
    {
     "name": "stdout",
     "output_type": "stream",
     "text": [
      "C:\\Python\\weldx\n"
     ]
    }
   ],
   "source": [
    "cd .."
   ]
  },
  {
   "cell_type": "code",
   "execution_count": 2,
   "metadata": {},
   "outputs": [],
   "source": [
    "import asdf\n",
    "\n",
    "import weldx\n",
    "from weldx import Q_\n",
    "from weldx.welding import GmawProcess\n",
    "from weldx.core import TimeSeries as TS\n",
    "from weldx.asdf.extension import WeldxExtension, WeldxAsdfExtension"
   ]
  },
  {
   "cell_type": "code",
   "execution_count": 3,
   "metadata": {},
   "outputs": [],
   "source": [
    "# Note: For some reasons, using integers in Q_ fails upon ASDF reading !\n",
    "params_spray = dict(wire_feedrate=Q_(10.0,\"m/min\"),voltage=Q_(40.0,\"V\"),impedance=Q_(10.0,\"percent\"))\n",
    "process_spray = GmawProcess(\"spray\",\"CLOOS\",\"Quinto\",params_spray,tag=\"CLOOS/spray_arc\")"
   ]
  },
  {
   "cell_type": "code",
   "execution_count": 4,
   "metadata": {},
   "outputs": [],
   "source": [
    "params_pulse = dict(wire_feedrate=Q_(10,\"m/min\"),pulse_voltage=Q_(40,\"V\"),pulse_duration=Q_(5,\"ms\"),pulse_frequency=Q_(100,\"Hz\"),base_current=Q_(60,\"A\"))\n",
    "process_pulse = GmawProcess(\"pulse\",\"CLOOS\",\"Quinto\",params_pulse,tag=\"CLOOS/pulse\")"
   ]
  },
  {
   "cell_type": "code",
   "execution_count": 5,
   "metadata": {},
   "outputs": [],
   "source": [
    "filename = \"gmaw_process.yaml\"\n",
    "tree = {\"spray\": process_spray,\"pulse\": process_pulse}\n",
    "\n",
    "# Write the data to a new file\n",
    "with asdf.AsdfFile(\n",
    "    tree,\n",
    "    extensions=[WeldxExtension(), WeldxAsdfExtension()],\n",
    "    ignore_version_mismatch=False,\n",
    ") as ff:\n",
    "    ff.write_to(filename, all_array_storage=\"inline\")"
   ]
  },
  {
   "cell_type": "code",
   "execution_count": 6,
   "metadata": {},
   "outputs": [],
   "source": [
    "# read back data from ASDF file\n",
    "with asdf.open(\n",
    "    filename, copy_arrays=True, extensions=[WeldxExtension(), WeldxAsdfExtension()]\n",
    ") as af:\n",
    "    data = af.tree\n",
    "    # print(data[\"obj\"])"
   ]
  },
  {
   "cell_type": "code",
   "execution_count": null,
   "metadata": {},
   "outputs": [],
   "source": []
  }
 ],
 "metadata": {
  "kernelspec": {
   "display_name": "weldx",
   "language": "python",
   "name": "weldx"
  },
  "language_info": {
   "codemirror_mode": {
    "name": "ipython",
    "version": 3
   },
   "file_extension": ".py",
   "mimetype": "text/x-python",
   "name": "python",
   "nbconvert_exporter": "python",
   "pygments_lexer": "ipython3",
   "version": "3.7.7"
  }
 },
 "nbformat": 4,
 "nbformat_minor": 4
}
