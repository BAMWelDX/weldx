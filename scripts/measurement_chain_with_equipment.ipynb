{
 "cells": [
  {
   "cell_type": "code",
   "execution_count": 1,
   "id": "ordered-future",
   "metadata": {
    "collapsed": true,
    "jupyter": {
     "outputs_hidden": true
    }
   },
   "outputs": [],
   "source": [
    "from weldx import Q_\n",
    "from weldx.measurement import MeasurementChain, GenericEquipment, SignalTransformation, SignalSource, Signal, Error"
   ]
  },
  {
   "cell_type": "code",
   "execution_count": 2,
   "id": "serial-murray",
   "metadata": {
    "collapsed": true,
    "jupyter": {
     "outputs_hidden": true
    }
   },
   "outputs": [],
   "source": [
    "source_current = SignalSource(\"Current measurement\", \n",
    "                      output_signal=Signal(signal_type=\"analog\",\n",
    "                                           unit=\"V\",\n",
    "                                           data=[1,3,5]),\n",
    "                      error=Error(Q_(1, \"percent\"))\n",
    "                     )\n",
    "source_voltage = SignalSource(\"Voltage measurement\", \n",
    "                      output_signal=Signal(signal_type=\"analog\",\n",
    "                                           unit=\"V\",\n",
    "                                           data=[0,-1,-2]),\n",
    "                      error=Error(Q_(1, \"percent\"))\n",
    "                     )"
   ]
  },
  {
   "cell_type": "code",
   "execution_count": 3,
   "id": "commercial-savannah",
   "metadata": {
    "collapsed": true,
    "jupyter": {
     "outputs_hidden": true
    }
   },
   "outputs": [],
   "source": [
    "AD_current = SignalTransformation(\"AD conversion current measurement\",\n",
    "                                 error=Error(Q_(0, \"percent\")),\n",
    "                                 input_signal=Signal(signal_type=\"analog\",\n",
    "                                                     unit=\"V\"),\n",
    "                                 output_signal=Signal(signal_type=\"digital\",\n",
    "                                                      unit=\"\",\n",
    "                                                      data = [10,12,13])\n",
    "                                 )\n",
    "AD_voltage = SignalTransformation(\"AD conversion voltage measurement\",\n",
    "                                 error=Error(Q_(0.2, \"percent\")),\n",
    "                                 input_signal=Signal(signal_type=\"analog\",\n",
    "                                                     unit=\"V\"),\n",
    "                                 output_signal=Signal(signal_type=\"digital\",\n",
    "                                                      unit=\"\",\n",
    "                                                      data = [-10,-12,-13])\n",
    "                                 )\n",
    "\n",
    "calibration_current = SignalTransformation(\"Current measurement calibration\",\n",
    "                                 error=Error(Q_(1.2, \"percent\")),\n",
    "                                 input_signal=Signal(signal_type=\"digital\",\n",
    "                                                     unit=\"\"),\n",
    "                                 output_signal=Signal(signal_type=\"digital\",\n",
    "                                                      unit=\"A\",\n",
    "                                                      data = [100,102,103])\n",
    "                                 )\n",
    "calibration_voltage = SignalTransformation(\"Voltage measurement calibration\",\n",
    "                                 error=Error(Q_(0.7, \"percent\")),\n",
    "                                 input_signal=Signal(signal_type=\"digital\",\n",
    "                                                     unit=\"\"),\n",
    "                                 output_signal=Signal(signal_type=\"digital\",\n",
    "                                                      unit=\"V\", \n",
    "                                                      data = [-100,-102,-103])\n",
    "                                 )"
   ]
  },
  {
   "cell_type": "code",
   "execution_count": 4,
   "id": "parallel-friendly",
   "metadata": {
    "collapsed": true,
    "jupyter": {
     "outputs_hidden": true
    }
   },
   "outputs": [],
   "source": [
    "equipment = GenericEquipment(name=\"Jack of all trades\",\n",
    "                             sources=[source_current, source_voltage],\n",
    "                             data_transformations=[AD_current, AD_voltage, calibration_current, calibration_voltage]\n",
    "                            )"
   ]
  },
  {
   "cell_type": "code",
   "execution_count": 5,
   "id": "occasional-klein",
   "metadata": {
    "collapsed": true,
    "jupyter": {
     "outputs_hidden": true
    }
   },
   "outputs": [
    {
     "data": {
      "text/plain": [
       "['Current measurement', 'Voltage measurement']"
      ]
     },
     "execution_count": 5,
     "metadata": {},
     "output_type": "execute_result"
    }
   ],
   "source": [
    "equipment.source_names"
   ]
  },
  {
   "cell_type": "code",
   "execution_count": 6,
   "id": "dense-aquarium",
   "metadata": {
    "collapsed": true,
    "jupyter": {
     "outputs_hidden": true
    }
   },
   "outputs": [
    {
     "name": "stdout",
     "output_type": "stream",
     "text": [
      "Signal(signal_type='digital', unit='', data=[10, 12, 13])\n",
      "Signal(signal_type='digital', unit='A', data=[100, 102, 103])\n"
     ]
    }
   ],
   "source": [
    "mc_current = MeasurementChain.construct_from_equipment(\"Current Measurement Chain\", equipment, \"Current measurement\")\n",
    "mc_current.add_transformation_from_equipment(equipment, transformation_name=\"AD conversion current measurement\")\n",
    "mc_current.add_transformation_from_equipment(equipment, transformation_name=\"Current measurement calibration\")"
   ]
  },
  {
   "cell_type": "code",
   "execution_count": 7,
   "id": "modern-italian",
   "metadata": {
    "collapsed": true,
    "jupyter": {
     "outputs_hidden": true
    }
   },
   "outputs": [
    {
     "data": {
      "text/plain": [
       "<AxesSubplot:title={'center':'Current Measurement Chain'}>"
      ]
     },
     "execution_count": 7,
     "metadata": {},
     "output_type": "execute_result"
    },
    {
     "data": {
      "image/png": "[encoded data removed]",
      "text/plain": [
       "<Figure size 864x432 with 1 Axes>"
      ]
     },
     "metadata": {},
     "output_type": "display_data"
    }
   ],
   "source": [
    "mc_current.plot()"
   ]
  },
  {
   "cell_type": "code",
   "execution_count": 8,
   "id": "pleased-saver",
   "metadata": {
    "collapsed": true,
    "jupyter": {
     "outputs_hidden": true
    }
   },
   "outputs": [
    {
     "data": {
      "text/plain": [
       "[1, 3, 5]"
      ]
     },
     "execution_count": 8,
     "metadata": {},
     "output_type": "execute_result"
    }
   ],
   "source": [
    "mc_current.get_signal_data(\"Current measurement\")"
   ]
  },
  {
   "cell_type": "code",
   "execution_count": 9,
   "id": "atlantic-fireplace",
   "metadata": {
    "collapsed": true,
    "jupyter": {
     "outputs_hidden": true
    }
   },
   "outputs": [
    {
     "data": {
      "text/plain": [
       "[10, 12, 13]"
      ]
     },
     "execution_count": 9,
     "metadata": {},
     "output_type": "execute_result"
    }
   ],
   "source": [
    "mc_current.get_signal_data(\"AD conversion current measurement\")"
   ]
  },
  {
   "cell_type": "code",
   "execution_count": 10,
   "id": "temporal-community",
   "metadata": {
    "collapsed": true,
    "jupyter": {
     "outputs_hidden": true
    }
   },
   "outputs": [
    {
     "data": {
      "text/plain": [
       "[100, 102, 103]"
      ]
     },
     "execution_count": 10,
     "metadata": {},
     "output_type": "execute_result"
    }
   ],
   "source": [
    "mc_current.get_signal_data(\"Current measurement calibration\")"
   ]
  },
  {
   "cell_type": "code",
   "execution_count": 11,
   "id": "physical-contemporary",
   "metadata": {
    "collapsed": true,
    "jupyter": {
     "outputs_hidden": true
    }
   },
   "outputs": [
    {
     "name": "stdout",
     "output_type": "stream",
     "text": [
      "The provided transformations input signal is incompatible to the output signal of Current measurement calibration:\n",
      "transformation: digital in []\n",
      "output signal : digital in [A]\n"
     ]
    }
   ],
   "source": [
    "try:\n",
    "    mc_current.add_transformation_from_equipment(equipment, transformation_name=\"Current measurement calibration\")\n",
    "except Exception as e:\n",
    "    print(e)"
   ]
  },
  {
   "cell_type": "code",
   "execution_count": 12,
   "id": "classical-stuff",
   "metadata": {
    "collapsed": true,
    "jupyter": {
     "outputs_hidden": true
    }
   },
   "outputs": [
    {
     "name": "stdout",
     "output_type": "stream",
     "text": [
      "Signal(signal_type='digital', unit='', data=[-10, -12, -13])\n",
      "Signal(signal_type='digital', unit='V', data=[-100, -102, -103])\n"
     ]
    }
   ],
   "source": [
    "mc_voltage = MeasurementChain.construct_from_equipment(\"Voltage Measurement Chain\", equipment, \"Voltage measurement\")\n",
    "mc_voltage.add_transformation_from_equipment(equipment, transformation_name=\"AD conversion voltage measurement\")\n",
    "mc_voltage.add_transformation_from_equipment(equipment, transformation_name=\"Voltage measurement calibration\")"
   ]
  },
  {
   "cell_type": "code",
   "execution_count": 13,
   "id": "empirical-present",
   "metadata": {
    "collapsed": true,
    "jupyter": {
     "outputs_hidden": true
    }
   },
   "outputs": [
    {
     "data": {
      "text/plain": [
       "<AxesSubplot:title={'center':'Voltage Measurement Chain'}>"
      ]
     },
     "execution_count": 13,
     "metadata": {},
     "output_type": "execute_result"
    },
    {
     "data": {
      "image/png": "[encoded data removed]",
      "text/plain": [
       "<Figure size 864x432 with 1 Axes>"
      ]
     },
     "metadata": {},
     "output_type": "display_data"
    }
   ],
   "source": [
    "mc_voltage.plot()"
   ]
  },
  {
   "cell_type": "code",
   "execution_count": null,
   "id": "varied-inquiry",
   "metadata": {
    "collapsed": true,
    "jupyter": {
     "outputs_hidden": true
    },
    "tags": []
   },
   "outputs": [],
   "source": []
  }
 ],
 "metadata": {
  "kernelspec": {
   "display_name": "weldx",
   "language": "python",
   "name": "weldx"
  },
  "language_info": {
   "codemirror_mode": {
    "name": "ipython",
    "version": 3
   },
   "file_extension": ".py",
   "mimetype": "text/x-python",
   "name": "python",
   "nbconvert_exporter": "python",
   "pygments_lexer": "ipython3",
   "version": "3.8.8"
  }
 },
 "nbformat": 4,
 "nbformat_minor": 5
}
