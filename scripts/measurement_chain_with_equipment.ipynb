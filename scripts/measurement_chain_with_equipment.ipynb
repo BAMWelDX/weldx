{
 "cells": [
  {
   "cell_type": "code",
   "execution_count": null,
   "id": "thrown-world",
   "metadata": {
    "tags": []
   },
   "outputs": [],
   "source": [
    "from weldx import Q_\n",
    "from weldx.measurement import MeasurementChain, GenericEquipment, SignalTransformation, SignalSource, Signal, Error\n",
    "from weldx import MathematicalExpression"
   ]
  },
  {
   "cell_type": "code",
   "execution_count": null,
   "id": "sound-exploration",
   "metadata": {},
   "outputs": [],
   "source": [
    "source_current = SignalSource(\"Current measurement\", \n",
    "                      output_signal=Signal(signal_type=\"analog\",\n",
    "                                           unit=\"V\",\n",
    "                                           data=[1,3,5]),\n",
    "                      error=Error(Q_(1, \"percent\")),\n",
    "                     )\n",
    "source_voltage = SignalSource(\"Voltage measurement\", \n",
    "                      output_signal=Signal(signal_type=\"analog\",\n",
    "                                           unit=\"V\",\n",
    "                                           data=[0,-1,-2]),\n",
    "                      error=Error(Q_(1, \"percent\"))\n",
    "                     )"
   ]
  },
  {
   "cell_type": "code",
   "execution_count": null,
   "id": "arabic-lincoln",
   "metadata": {},
   "outputs": [],
   "source": [
    "AD_current = SignalTransformation(\"AD conversion current measurement\",\n",
    "                                 error=Error(Q_(0, \"percent\")),\n",
    "                                 input_signal=Signal(signal_type=\"analog\",\n",
    "                                                     unit=\"V\"),\n",
    "                                 output_signal=Signal(signal_type=\"digital\",\n",
    "                                                      unit=\"\",\n",
    "                                                      data = [10,12,13]),\n",
    "                                 func=MathematicalExpression(expression=\"a*x+b\",\n",
    "                                                             parameters=dict(a=Q_(1,\"1/V\"),\n",
    "                                                                             b=Q_(1,\"\"))\n",
    "                                                            )\n",
    "                                 )\n",
    "AD_voltage = SignalTransformation(\"AD conversion voltage measurement\",\n",
    "                                 error=Error(Q_(0.2, \"percent\")),\n",
    "                                 input_signal=Signal(signal_type=\"analog\",\n",
    "                                                     unit=\"V\"),\n",
    "                                 output_signal=Signal(signal_type=\"digital\",\n",
    "                                                      unit=\"\",\n",
    "                                                      data = [-10,-12,-13]),\n",
    "                                  func=MathematicalExpression(expression=\"a*x+b\",\n",
    "                                                  parameters=dict(a=Q_(1,\"1/V\"),\n",
    "                                                                  b=Q_(1,\"\"))\n",
    "                                                 )\n",
    "                                 )\n",
    "\n",
    "calibration_current = SignalTransformation(\"Current measurement calibration\",\n",
    "                                 error=Error(Q_(1.2, \"percent\")),\n",
    "                                 input_signal=Signal(signal_type=\"digital\",\n",
    "                                                     unit=\"\"),\n",
    "                                 output_signal=Signal(signal_type=\"digital\",\n",
    "                                                      unit=\"A\",\n",
    "                                                      data = [100,102,103]),\n",
    "                                  func=MathematicalExpression(expression=\"a*x+b\",\n",
    "                                                  parameters=dict(a=Q_(1,\"A\"),\n",
    "                                                                  b=Q_(1,\"A\"))\n",
    "                                                 )\n",
    "                                 )\n",
    "calibration_voltage = SignalTransformation(\"Voltage measurement calibration\",\n",
    "                                 error=Error(Q_(0.7, \"percent\")),\n",
    "                                 input_signal=Signal(signal_type=\"digital\",\n",
    "                                                     unit=\"\"),\n",
    "                                 output_signal=Signal(signal_type=\"digital\",\n",
    "                                                      unit=\"V\", \n",
    "                                                      data = [-100,-102,-103]),\n",
    "                                  func=MathematicalExpression(expression=\"a*x+b\",\n",
    "                                                  parameters=dict(a=Q_(1,\"V\"),\n",
    "                                                                  b=Q_(1,\"V\"))\n",
    "                                                 )\n",
    "                                 )"
   ]
  },
  {
   "cell_type": "code",
   "execution_count": null,
   "id": "tribal-reproduction",
   "metadata": {},
   "outputs": [],
   "source": [
    "equipment = GenericEquipment(name=\"Jack of all trades\",\n",
    "                             sources=[source_current, source_voltage],\n",
    "                             data_transformations=[AD_current, AD_voltage, calibration_current, calibration_voltage]\n",
    "                            )"
   ]
  },
  {
   "cell_type": "code",
   "execution_count": null,
   "id": "unavailable-bermuda",
   "metadata": {},
   "outputs": [],
   "source": [
    "equipment.source_names"
   ]
  },
  {
   "cell_type": "code",
   "execution_count": null,
   "id": "rough-conflict",
   "metadata": {},
   "outputs": [],
   "source": [
    "mc_current = MeasurementChain.construct_from_equipment(\"Current Measurement Chain\", equipment, \"Current measurement\")\n",
    "mc_current.add_transformation_from_equipment(equipment, transformation_name=\"AD conversion current measurement\")\n",
    "mc_current.add_transformation_from_equipment(equipment, transformation_name=\"Current measurement calibration\")"
   ]
  },
  {
   "cell_type": "code",
   "execution_count": null,
   "id": "lesbian-modern",
   "metadata": {},
   "outputs": [],
   "source": [
    "mc_current.plot()"
   ]
  },
  {
   "cell_type": "code",
   "execution_count": null,
   "id": "varying-charger",
   "metadata": {},
   "outputs": [],
   "source": [
    "mc_voltage = MeasurementChain.construct_from_equipment(\"Voltage Measurement Chain\", equipment, \"Voltage measurement\")\n",
    "mc_voltage.add_transformation_from_equipment(equipment, transformation_name=\"AD conversion voltage measurement\")\n",
    "mc_voltage.add_transformation_from_equipment(equipment, transformation_name=\"Voltage measurement calibration\")"
   ]
  },
  {
   "cell_type": "code",
   "execution_count": null,
   "id": "fatal-grass",
   "metadata": {},
   "outputs": [],
   "source": [
    "mc_voltage.plot()"
   ]
  },
  {
   "cell_type": "code",
   "execution_count": null,
   "id": "characteristic-response",
   "metadata": {},
   "outputs": [],
   "source": [
    "mc_current.get_signal_data(\"Current measurement\")"
   ]
  },
  {
   "cell_type": "code",
   "execution_count": null,
   "id": "requested-cookie",
   "metadata": {},
   "outputs": [],
   "source": [
    "mc_current.get_signal_data(\"AD conversion current measurement\")"
   ]
  },
  {
   "cell_type": "code",
   "execution_count": null,
   "id": "irish-provision",
   "metadata": {},
   "outputs": [],
   "source": [
    "mc_current.get_signal_data(\"Current measurement calibration\")"
   ]
  },
  {
   "cell_type": "markdown",
   "id": "miniature-miniature",
   "metadata": {},
   "source": [
    "# Stuff that keeps users from making errors"
   ]
  },
  {
   "cell_type": "code",
   "execution_count": null,
   "id": "experimental-toolbox",
   "metadata": {},
   "outputs": [],
   "source": [
    "try:\n",
    "    mc_current.add_transformation_from_equipment(equipment, transformation_name=\"Current measurement calibration\")\n",
    "except Exception as e:\n",
    "    print(e)"
   ]
  },
  {
   "cell_type": "code",
   "execution_count": null,
   "id": "closed-australian",
   "metadata": {
    "tags": []
   },
   "outputs": [],
   "source": [
    "try:\n",
    "    SignalTransformation(\"Voltage measurement calibration\",\n",
    "                         error=Error(Q_(0.7, \"percent\")),\n",
    "                         input_signal=Signal(signal_type=\"digital\",\n",
    "                                             unit=\"A\"),\n",
    "                         output_signal=Signal(signal_type=\"digital\",\n",
    "                                              unit=\"V\", \n",
    "                                              data = [-100,-102,-103]),\n",
    "                         func=MathematicalExpression(expression=\"a*x+b\",\n",
    "                                                     parameters=dict(a=Q_(1,\"V\"),\n",
    "                                                                     b=Q_(1,\"V\")))\n",
    "                         )\n",
    "except Exception as e:\n",
    "    print(e)    "
   ]
  },
  {
   "cell_type": "code",
   "execution_count": null,
   "id": "uniform-malta",
   "metadata": {},
   "outputs": [],
   "source": [
    "try:\n",
    "    SignalTransformation(\"Voltage measurement calibration\",\n",
    "                         error=Error(Q_(0.7, \"percent\")),\n",
    "                         input_signal=Signal(signal_type=\"digital\",\n",
    "                                             unit=\"A\"),\n",
    "                         output_signal=Signal(signal_type=\"digital\",\n",
    "                                              unit=\"V/s\", \n",
    "                                              data = [-100,-102,-103]),\n",
    "                         func=MathematicalExpression(expression=\"a*x+b\",\n",
    "                                                     parameters=dict(a=Q_(1,\"V/A\"),\n",
    "                                                                     b=Q_(1,\"V\")))\n",
    "                         )\n",
    "except Exception as e:\n",
    "    print(e)    "
   ]
  },
  {
   "cell_type": "code",
   "execution_count": null,
   "id": "cardiac-tunnel",
   "metadata": {},
   "outputs": [],
   "source": []
  }
 ],
 "metadata": {
  "kernelspec": {
   "display_name": "weldx",
   "language": "python",
   "name": "weldx"
  },
  "language_info": {
   "codemirror_mode": {
    "name": "ipython",
    "version": 3
   },
   "file_extension": ".py",
   "mimetype": "text/x-python",
   "name": "python",
   "nbconvert_exporter": "python",
   "pygments_lexer": "ipython3",
   "version": "3.8.8"
  }
 },
 "nbformat": 4,
 "nbformat_minor": 5
}
