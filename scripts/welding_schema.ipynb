{
 "cells": [
  {
   "cell_type": "markdown",
   "metadata": {},
   "source": [
    "# Welding schema"
   ]
  },
  {
   "cell_type": "code",
   "execution_count": 1,
   "metadata": {},
   "outputs": [],
   "source": [
    "%cd -q .."
   ]
  },
  {
   "cell_type": "code",
   "execution_count": 2,
   "metadata": {},
   "outputs": [],
   "source": [
    "# some python imports that will be used throughout the tutorial\n",
    "import matplotlib.pyplot as plt\n",
    "import networkx as nx\n",
    "import numpy as np\n",
    "import pandas as pd\n",
    "import pint\n",
    "import sympy\n",
    "import xarray as xr\n",
    "from mpl_toolkits.mplot3d import Axes3D\n",
    "\n",
    "import asdf"
   ]
  },
  {
   "cell_type": "code",
   "execution_count": 3,
   "metadata": {},
   "outputs": [],
   "source": [
    "# importing the weldx package with prevalent default abbreviations\n",
    "import weldx\n",
    "import weldx.geometry as geo\n",
    "import weldx.measurement as msm\n",
    "import weldx.transformations as tf\n",
    "import weldx.utility as ut\n",
    "import weldx.visualization as vis\n",
    "from weldx import Q_\n",
    "from weldx.transformations import LocalCoordinateSystem as lcs\n",
    "from weldx.transformations import WXRotation\n",
    "from weldx.welding.groove.iso_9692_1 import get_groove"
   ]
  },
  {
   "cell_type": "markdown",
   "metadata": {},
   "source": [
    "## Timestamp"
   ]
  },
  {
   "cell_type": "code",
   "execution_count": 4,
   "metadata": {},
   "outputs": [],
   "source": [
    "# file timestamp\n",
    "reference_timestamp = pd.Timestamp(\"2020-11-09 12:00:00\")"
   ]
  },
  {
   "cell_type": "markdown",
   "metadata": {},
   "source": [
    "## Geometry"
   ]
  },
  {
   "cell_type": "code",
   "execution_count": 5,
   "metadata": {},
   "outputs": [],
   "source": [
    "# groove + trace = geometry\n",
    "groove = get_groove(\n",
    "    groove_type=\"VGroove\",\n",
    "    workpiece_thickness=Q_(5, \"mm\"),\n",
    "    groove_angle=Q_(50, \"deg\"),\n",
    "    root_face=Q_(1, \"mm\"),\n",
    "    root_gap=Q_(1, \"mm\"),\n",
    ")\n",
    "\n",
    "# define the weld seam length in mm\n",
    "seam_length = Q_(300, \"mm\")\n",
    "\n",
    "# create a linear trace segment a the complete weld seam trace\n",
    "trace_segment = geo.LinearHorizontalTraceSegment(seam_length)\n",
    "trace = geo.Trace(trace_segment)\n",
    "\n",
    "geometry = dict(groove_shape=groove, seam_length=seam_length)"
   ]
  },
  {
   "cell_type": "markdown",
   "metadata": {},
   "source": [
    "## Setup the Coordinate System Manager (CSM)"
   ]
  },
  {
   "cell_type": "code",
   "execution_count": 6,
   "metadata": {},
   "outputs": [],
   "source": [
    "# crete a new coordinate system manager with default base coordinate system\n",
    "csm = weldx.transformations.CoordinateSystemManager(\"base\")\n",
    "\n",
    "# add the workpiece coordinate system\n",
    "csm.add_cs(\n",
    "    coordinate_system_name=\"workpiece\",\n",
    "    reference_system_name=\"base\",\n",
    "    lcs=trace.coordinate_system,\n",
    ")\n",
    "\n",
    "tcp_start_point = Q_([5.0, 0.0, 2.0], \"mm\")\n",
    "tcp_end_point = Q_([-5.0, 0.0, 2.0], \"mm\") + np.append(seam_length, Q_([0, 0], \"mm\"))\n",
    "\n",
    "v_weld = Q_(10, \"mm/s\")\n",
    "s_weld = (tcp_end_point - tcp_start_point)[0]  # length of the weld\n",
    "t_weld = s_weld / v_weld\n",
    "\n",
    "t_start = pd.Timedelta(\"0s\")\n",
    "t_end = pd.Timedelta(str(t_weld.to_base_units()))\n",
    "\n",
    "rot = WXRotation.from_euler(seq=\"x\", angles=180, degrees=True)\n",
    "\n",
    "coords = [tcp_start_point.magnitude, tcp_end_point.magnitude]\n",
    "\n",
    "tcp_wire = lcs(coordinates=coords, orientation=rot, time=[t_start, t_end])\n",
    "\n",
    "# add the workpiece coordinate system\n",
    "csm.add_cs(\n",
    "    coordinate_system_name=\"tcp_wire\",\n",
    "    reference_system_name=\"workpiece\",\n",
    "    lcs=tcp_wire,\n",
    ")\n",
    "\n",
    "tcp_contact = lcs(coordinates=[0, 0, -10])\n",
    "\n",
    "# add the workpiece coordinate system\n",
    "csm.add_cs(\n",
    "    coordinate_system_name=\"tcp_contact\",\n",
    "    reference_system_name=\"tcp_wire\",\n",
    "    lcs=tcp_contact,\n",
    ")\n",
    "\n",
    "TCP_reference = csm.get_cs(\"tcp_contact\",\"workpiece\")"
   ]
  },
  {
   "cell_type": "markdown",
   "metadata": {},
   "source": [
    "## Measurements"
   ]
  },
  {
   "cell_type": "code",
   "execution_count": 7,
   "metadata": {},
   "outputs": [],
   "source": [
    "# time\n",
    "time = pd.timedelta_range(start=\"0s\", end=\"10s\", freq=\"1ms\")\n",
    "\n",
    "# current data\n",
    "I_ts = ut.sine(f=Q_(10, \"1/s\"), amp=Q_(20, \"A\"), bias=Q_(300, \"A\"))\n",
    "I = I_ts.interp_time(time)\n",
    "I[\"time\"] = I[\"time\"]\n",
    "\n",
    "current_data = msm.Data(name=\"Welding current\", data=I)\n",
    "\n",
    "# voltage data\n",
    "U_ts = ut.sine(f=Q_(10, \"1/s\"), amp=Q_(3, \"V\"), bias=Q_(40, \"V\"), phase=Q_(0.1, \"rad\"))\n",
    "U = U_ts.interp_time(time)\n",
    "U[\"time\"] = U[\"time\"]\n",
    "\n",
    "voltage_data = msm.Data(name=\"Welding voltage\", data=U)"
   ]
  },
  {
   "cell_type": "code",
   "execution_count": 8,
   "metadata": {},
   "outputs": [],
   "source": [
    "from asdf.tags.core import Software\n",
    "\n",
    "HKS_sensor = msm.GenericEquipment(name=\"HKS P1000-S3\")\n",
    "BH_ELM = msm.GenericEquipment(name=\"Beckhoff ELM3002-0000\")\n",
    "twincat_scope = Software(name=\"Beckhoff TwinCAT ScopeView\", version=\"3.4.3143\")"
   ]
  },
  {
   "cell_type": "code",
   "execution_count": 9,
   "metadata": {},
   "outputs": [],
   "source": [
    "src_current = msm.Source(\n",
    "    name=\"Current Sensor\",\n",
    "    output_signal=msm.Signal(signal_type=\"analog\", unit=\"V\", data=None),\n",
    "    error=msm.Error(Q_(0.1, \"percent\")),\n",
    ")\n",
    "\n",
    "HKS_sensor.sources = []\n",
    "HKS_sensor.sources.append(src_current)\n",
    "\n",
    "from weldx.core import MathematicalExpression\n",
    "\n",
    "[a, x, b] = sympy.symbols(\"a x b\")\n",
    "current_AD_func = MathematicalExpression(a * x + b)\n",
    "current_AD_func.set_parameter(\"a\", Q_(32768.0 / 10.0, \"1/V\"))\n",
    "current_AD_func.set_parameter(\"b\", Q_(0.0, \"\"))\n",
    "\n",
    "current_AD_transform = msm.DataTransformation(\n",
    "    name=\"AD conversion current measurement\",\n",
    "    input_signal=src_current.output_signal,\n",
    "    output_signal=msm.Signal(\"digital\", \"\", data=None),\n",
    "    error=msm.Error(Q_(0.01, \"percent\")),\n",
    "    func=current_AD_func,\n",
    ")\n",
    "\n",
    "BH_ELM.data_transformations = []\n",
    "BH_ELM.data_transformations.append(current_AD_transform)\n",
    "\n",
    "# define current output calibration expression and transformation\n",
    "current_calib_func = MathematicalExpression(a * x + b)\n",
    "current_calib_func.set_parameter(\"a\", Q_(1000.0 / 32768.0, \"A\"))\n",
    "current_calib_func.set_parameter(\"b\", Q_(0.0, \"A\"))\n",
    "\n",
    "current_calib_transform = msm.DataTransformation(\n",
    "    name=\"Calibration current measurement\",\n",
    "    input_signal=current_AD_transform.output_signal,\n",
    "    output_signal=msm.Signal(\"digital\", \"A\", data=current_data),\n",
    "    error=msm.Error(0.0),\n",
    "    func=current_calib_func,\n",
    "    meta=twincat_scope,\n",
    ")\n",
    "\n",
    "\n",
    "welding_current_chain = msm.MeasurementChain(\n",
    "    name=\"welding current measurement chain\",\n",
    "    data_source=src_current,\n",
    "    data_processors=[current_AD_transform, current_calib_transform],\n",
    ")\n",
    "\n",
    "welding_current = msm.Measurement(\n",
    "    name=\"welding current measurement\",\n",
    "    data=[current_data],\n",
    "    measurement_chain=welding_current_chain,\n",
    ")"
   ]
  },
  {
   "cell_type": "code",
   "execution_count": 10,
   "metadata": {},
   "outputs": [],
   "source": [
    "src_voltage = msm.Source(\n",
    "    name=\"Voltage Sensor\",\n",
    "    output_signal=msm.Signal(\"analog\", \"V\", data=None),\n",
    "    error=msm.Error(Q_(0.1, \"percent\")),\n",
    ")\n",
    "\n",
    "HKS_sensor.sources.append(src_voltage)\n",
    "\n",
    "# define AD conversion expression and transformation step\n",
    "[a, x, b] = sympy.symbols(\"a x b\")\n",
    "voltage_ad_func = MathematicalExpression(a * x + b)\n",
    "voltage_ad_func.set_parameter(\"a\", Q_(32768.0 / 10.0, \"1/V\"))\n",
    "voltage_ad_func.set_parameter(\"b\", Q_(0.0, \"\"))\n",
    "\n",
    "voltage_AD_transform = msm.DataTransformation(\n",
    "    name=\"AD conversion voltage measurement\",\n",
    "    input_signal=src_voltage.output_signal,\n",
    "    output_signal=msm.Signal(\"digital\", \"\", data=None),\n",
    "    error=msm.Error(Q_(0.01, \"percent\")),\n",
    "    func=voltage_ad_func,\n",
    ")\n",
    "\n",
    "HKS_sensor.data_transformations.append(voltage_AD_transform)\n",
    "\n",
    "# define voltage output calibration expression and transformation\n",
    "voltage_calib_func = MathematicalExpression(a * x + b)\n",
    "voltage_calib_func.set_parameter(\"a\", Q_(100.0 / 32768.0, \"V\"))\n",
    "voltage_calib_func.set_parameter(\"b\", Q_(0.0, \"V\"))\n",
    "\n",
    "voltage_calib_transform = msm.DataTransformation(\n",
    "    name=\"Calibration voltage measurement\",\n",
    "    input_signal=voltage_AD_transform.output_signal,\n",
    "    output_signal=msm.Signal(\"digital\", \"V\", data=voltage_data),\n",
    "    error=msm.Error(0.0),\n",
    "    func=voltage_calib_func,\n",
    "    meta=twincat_scope,\n",
    ")\n",
    "\n",
    "\n",
    "welding_voltage_chain = msm.MeasurementChain(\n",
    "    name=\"welding voltage measurement chain\",\n",
    "    data_source=src_voltage,\n",
    "    data_processors=[voltage_AD_transform, voltage_calib_transform],\n",
    ")\n",
    "\n",
    "welding_voltage = msm.Measurement(\n",
    "    name=\"welding voltage measurement\",\n",
    "    data=[voltage_data],\n",
    "    measurement_chain=welding_voltage_chain,\n",
    ")"
   ]
  },
  {
   "cell_type": "markdown",
   "metadata": {},
   "source": [
    "## GMAW Process"
   ]
  },
  {
   "cell_type": "code",
   "execution_count": 11,
   "metadata": {},
   "outputs": [],
   "source": [
    "from weldx.welding.processes import GmawProcess"
   ]
  },
  {
   "cell_type": "code",
   "execution_count": 12,
   "metadata": {},
   "outputs": [],
   "source": [
    "params_pulse = dict(\n",
    "    wire_feedrate=Q_(10.0, \"m/min\"),\n",
    "    pulse_voltage=Q_(40.0, \"V\"),\n",
    "    pulse_duration=Q_(5.0, \"ms\"),\n",
    "    pulse_frequency=Q_(100.0, \"Hz\"),\n",
    "    base_current=Q_(60.0, \"A\"),\n",
    ")\n",
    "process_pulse = GmawProcess(\n",
    "    \"pulse\",\n",
    "    \"CLOOS\",\n",
    "    \"Quinto\",\n",
    "    params_pulse,\n",
    "    tag=\"CLOOS/pulse\",\n",
    "    meta={\"modulation\": \"UI\"},\n",
    ")"
   ]
  },
  {
   "cell_type": "code",
   "execution_count": 13,
   "metadata": {},
   "outputs": [],
   "source": [
    "from weldx.asdf.tags.weldx.aws.process.gas_component import GasComponent\n",
    "from weldx.asdf.tags.weldx.aws.process.shielding_gas_for_procedure import (\n",
    "    ShieldingGasForProcedure,\n",
    ")\n",
    "from weldx.asdf.tags.weldx.aws.process.shielding_gas_type import ShieldingGasType"
   ]
  },
  {
   "cell_type": "code",
   "execution_count": 14,
   "metadata": {},
   "outputs": [],
   "source": [
    "gas_comp = [\n",
    "    GasComponent(\"argon\", Q_(82, \"percent\")),\n",
    "    GasComponent(\"carbon dioxide\", Q_(18, \"percent\")),\n",
    "]\n",
    "gas_type = ShieldingGasType(gas_component=gas_comp, common_name=\"SG\")\n",
    "\n",
    "gas_for_procedure = ShieldingGasForProcedure(\n",
    "    use_torch_shielding_gas=True,\n",
    "    torch_shielding_gas=gas_type,\n",
    "    torch_shielding_gas_flowrate=Q_(20, \"l / min\"),\n",
    ")"
   ]
  },
  {
   "cell_type": "code",
   "execution_count": 15,
   "metadata": {},
   "outputs": [],
   "source": [
    "process = dict(welding_process=process_pulse, shielding_gas=gas_for_procedure)"
   ]
  },
  {
   "cell_type": "markdown",
   "metadata": {},
   "source": [
    "## ASDF file"
   ]
  },
  {
   "cell_type": "code",
   "execution_count": 16,
   "metadata": {},
   "outputs": [
    {
     "data": {
      "application/json": {
       "TCP": {
        "coordinates": {
         "data": {
          "byteorder": "little",
          "datatype": "float64",
          "shape": [
           "2",
           "3"
          ],
          "source": "6"
         },
         "dimensions": [
          "time",
          "c"
         ],
         "dtype": "<f8",
         "name": "coordinates"
        },
        "orientations": {
         "data": {
          "data": [
           [
            "1.0",
            "0.0",
            "0.0"
           ],
           [
            "0.0",
            "-1.0",
            "-1.2246467991473532e-16"
           ],
           [
            "0.0",
            "1.2246467991473532e-16",
            "-1.0"
           ]
          ],
          "datatype": "float64",
          "shape": [
           "3",
           "3"
          ]
         },
         "dimensions": [
          "c",
          "v"
         ],
         "dtype": "<f8",
         "name": "orientations"
        },
        "time": {
         "end": {
          "value": "P0DT0H0M29S"
         },
         "max": {
          "value": "P0DT0H0M29S"
         },
         "min": {
          "value": "P0DT0H0M0S"
         },
         "start": {
          "value": "P0DT0H0M0S"
         },
         "values": {
          "byteorder": "little",
          "datatype": "int64",
          "shape": [
           "2"
          ],
          "source": "7"
         }
        }
       },
       "asdf_library": {
        "author": "Space Telescope Science Institute",
        "homepage": "http://github.com/spacetelescope/asdf",
        "name": "asdf",
        "version": "2.7.2"
       },
       "coordinate_systems": {
        "coordinate_systems": [
         {
          "name": "workpiece",
          "reference_system": "base",
          "transformation": {}
         },
         {
          "name": "tcp_wire",
          "reference_system": "workpiece",
          "transformation": {
           "coordinates": {
            "data": {
             "byteorder": "little",
             "datatype": "float64",
             "shape": [
              "2",
              "3"
             ],
             "source": "4"
            },
            "dimensions": [
             "time",
             "c"
            ],
            "dtype": "<f8",
            "name": "coordinates"
           },
           "orientations": {
            "data": {
             "data": [
              [
               "1.0",
               "0.0",
               "0.0"
              ],
              [
               "0.0",
               "-1.0",
               "-1.2246467991473532e-16"
              ],
              [
               "0.0",
               "1.2246467991473532e-16",
               "-1.0"
              ]
             ],
             "datatype": "float64",
             "shape": [
              "3",
              "3"
             ]
            },
            "dimensions": [
             "c",
             "v"
            ],
            "dtype": "<f8",
            "name": "orientations"
           },
           "time": {
            "end": {
             "value": "P0DT0H0M29S"
            },
            "max": {
             "value": "P0DT0H0M29S"
            },
            "min": {
             "value": "P0DT0H0M0S"
            },
            "start": {
             "value": "P0DT0H0M0S"
            },
            "values": {
             "byteorder": "little",
             "datatype": "int64",
             "shape": [
              "2"
             ],
             "source": "5"
            }
           }
          }
         },
         {
          "name": "tcp_contact",
          "reference_system": "tcp_wire",
          "transformation": {
           "coordinates": {
            "data": {
             "data": [
              "0.0",
              "0.0",
              "-10.0"
             ],
             "datatype": "float64",
             "shape": [
              "3"
             ]
            },
            "dimensions": [
             "c"
            ],
            "dtype": "<f8",
            "name": "coordinates"
           }
          }
         }
        ],
        "name": "Coordinate system manager 0",
        "root_system_name": "base",
        "subsystem_names": [],
        "subsystems": []
       },
       "equipment": [
        {
         "data_transformations": [
          {
           "error": {
            "deviation": {
             "unit": "percent",
             "value": "0.01"
            }
           },
           "func": {
            "expression": "a*x + b",
            "parameters": {
             "a": {
              "unit": "1 / volt",
              "value": "3276.8"
             },
             "b": {
              "unit": "dimensionless",
              "value": "0.0"
             }
            }
           },
           "input_signal": {
            "signal_type": "analog",
            "unit": "V"
           },
           "name": "AD conversion voltage measurement",
           "output_signal": {
            "signal_type": "digital",
            "unit": ""
           }
          }
         ],
         "name": "HKS P1000-S3",
         "sources": [
          {
           "error": {
            "deviation": {
             "unit": "percent",
             "value": "0.1"
            }
           },
           "name": "Current Sensor",
           "output_signal": {
            "signal_type": "analog",
            "unit": "V"
           }
          },
          {
           "error": {
            "deviation": {
             "unit": "percent",
             "value": "0.1"
            }
           },
           "name": "Voltage Sensor",
           "output_signal": {
            "signal_type": "analog",
            "unit": "V"
           }
          }
         ]
        },
        {
         "data_transformations": [
          {
           "error": {
            "deviation": {
             "unit": "percent",
             "value": "0.01"
            }
           },
           "func": {
            "expression": "a*x + b",
            "parameters": {
             "a": {
              "unit": "1 / volt",
              "value": "3276.8"
             },
             "b": {
              "unit": "dimensionless",
              "value": "0.0"
             }
            }
           },
           "input_signal": {
            "signal_type": "analog",
            "unit": "V"
           },
           "name": "AD conversion current measurement",
           "output_signal": {
            "signal_type": "digital",
            "unit": ""
           }
          }
         ],
         "name": "Beckhoff ELM3002-0000",
         "sources": []
        }
       ],
       "geometry": {
        "groove_shape": {
         "alpha": {
          "unit": "degree",
          "value": "50"
         },
         "b": {
          "unit": "millimeter",
          "value": "1"
         },
         "c": {
          "unit": "millimeter",
          "value": "1"
         },
         "code_number": [
          "1.3",
          "1.5"
         ],
         "t": {
          "unit": "millimeter",
          "value": "5"
         }
        },
        "seam_length": {
         "unit": "millimeter",
         "value": "300"
        }
       },
       "history": {
        "extensions": [
         {
          "extension_class": "weldx.asdf.extension.WeldxAsdfExtension",
          "software": {
           "name": "weldx",
           "version": "0.2.3.dev27+g38931fb.d20210225"
          }
         },
         {
          "extension_class": "asdf.extension.BuiltinExtension",
          "software": {
           "name": "asdf",
           "version": "2.7.2"
          }
         },
         {
          "extension_class": "weldx.asdf.extension.WeldxExtension",
          "software": {
           "name": "weldx",
           "version": "0.2.3.dev27+g38931fb.d20210225"
          }
         }
        ]
       },
       "measurements": [
        {
         "data": [
          {
           "data": {
            "attributes": {},
            "coordinates": [
             {
              "data": {
               "byteorder": "little",
               "datatype": "int64",
               "shape": [
                "10001"
               ],
               "source": "0"
              },
              "dimensions": [
               "time"
              ],
              "dtype": "<m8[ns]",
              "name": "time"
             }
            ],
            "data": {
             "data": {
              "byteorder": "little",
              "datatype": "float64",
              "shape": [
               "10001"
              ],
              "source": "1"
             },
             "dimensions": [
              "time"
             ],
             "dtype": "<f8",
             "name": "data",
             "unit": "ampere"
            }
           },
           "name": "Welding current"
          }
         ],
         "measurement_chain": {
          "data_processors": [
           {
            "error": {
             "deviation": {
              "unit": "percent",
              "value": "0.01"
             }
            },
            "func": {
             "expression": "a*x + b",
             "parameters": {
              "a": {
               "unit": "1 / volt",
               "value": "3276.8"
              },
              "b": {
               "unit": "dimensionless",
               "value": "0.0"
              }
             }
            },
            "input_signal": {
             "signal_type": "analog",
             "unit": "V"
            },
            "name": "AD conversion current measurement",
            "output_signal": {
             "signal_type": "digital",
             "unit": ""
            }
           },
           {
            "error": {
             "deviation": "0.0"
            },
            "func": {
             "expression": "a*x + b",
             "parameters": {
              "a": {
               "unit": "ampere",
               "value": "0.030517578125"
              },
              "b": {
               "unit": "ampere",
               "value": "0.0"
              }
             }
            },
            "input_signal": {
             "signal_type": "digital",
             "unit": ""
            },
            "meta": {
             "name": "Beckhoff TwinCAT ScopeView",
             "version": "3.4.3143"
            },
            "name": "Calibration current measurement",
            "output_signal": {
             "data": {
              "data": {
               "attributes": {},
               "coordinates": [
                {
                 "data": {
                  "byteorder": "little",
                  "datatype": "int64",
                  "shape": [
                   "10001"
                  ],
                  "source": "0"
                 },
                 "dimensions": [
                  "time"
                 ],
                 "dtype": "<m8[ns]",
                 "name": "time"
                }
               ],
               "data": {
                "data": {
                 "byteorder": "little",
                 "datatype": "float64",
                 "shape": [
                  "10001"
                 ],
                 "source": "1"
                },
                "dimensions": [
                 "time"
                ],
                "dtype": "<f8",
                "name": "data",
                "unit": "ampere"
               }
              },
              "name": "Welding current"
             },
             "signal_type": "digital",
             "unit": "A"
            }
           }
          ],
          "data_source": {
           "error": {
            "deviation": {
             "unit": "percent",
             "value": "0.1"
            }
           },
           "name": "Current Sensor",
           "output_signal": {
            "signal_type": "analog",
            "unit": "V"
           }
          },
          "name": "welding current measurement chain"
         },
         "name": "welding current measurement"
        },
        {
         "data": [
          {
           "data": {
            "attributes": {},
            "coordinates": [
             {
              "data": {
               "byteorder": "little",
               "datatype": "int64",
               "shape": [
                "10001"
               ],
               "source": "2"
              },
              "dimensions": [
               "time"
              ],
              "dtype": "<m8[ns]",
              "name": "time"
             }
            ],
            "data": {
             "data": {
              "byteorder": "little",
              "datatype": "float64",
              "shape": [
               "10001"
              ],
              "source": "3"
             },
             "dimensions": [
              "time"
             ],
             "dtype": "<f8",
             "name": "data",
             "unit": "volt"
            }
           },
           "name": "Welding voltage"
          }
         ],
         "measurement_chain": {
          "data_processors": [
           {
            "error": {
             "deviation": {
              "unit": "percent",
              "value": "0.01"
             }
            },
            "func": {
             "expression": "a*x + b",
             "parameters": {
              "a": {
               "unit": "1 / volt",
               "value": "3276.8"
              },
              "b": {
               "unit": "dimensionless",
               "value": "0.0"
              }
             }
            },
            "input_signal": {
             "signal_type": "analog",
             "unit": "V"
            },
            "name": "AD conversion voltage measurement",
            "output_signal": {
             "signal_type": "digital",
             "unit": ""
            }
           },
           {
            "error": {
             "deviation": "0.0"
            },
            "func": {
             "expression": "a*x + b",
             "parameters": {
              "a": {
               "unit": "volt",
               "value": "0.0030517578125"
              },
              "b": {
               "unit": "volt",
               "value": "0.0"
              }
             }
            },
            "input_signal": {
             "signal_type": "digital",
             "unit": ""
            },
            "meta": {
             "name": "Beckhoff TwinCAT ScopeView",
             "version": "3.4.3143"
            },
            "name": "Calibration voltage measurement",
            "output_signal": {
             "data": {
              "data": {
               "attributes": {},
               "coordinates": [
                {
                 "data": {
                  "byteorder": "little",
                  "datatype": "int64",
                  "shape": [
                   "10001"
                  ],
                  "source": "2"
                 },
                 "dimensions": [
                  "time"
                 ],
                 "dtype": "<m8[ns]",
                 "name": "time"
                }
               ],
               "data": {
                "data": {
                 "byteorder": "little",
                 "datatype": "float64",
                 "shape": [
                  "10001"
                 ],
                 "source": "3"
                },
                "dimensions": [
                 "time"
                ],
                "dtype": "<f8",
                "name": "data",
                "unit": "volt"
               }
              },
              "name": "Welding voltage"
             },
             "signal_type": "digital",
             "unit": "V"
            }
           }
          ],
          "data_source": {
           "error": {
            "deviation": {
             "unit": "percent",
             "value": "0.1"
            }
           },
           "name": "Voltage Sensor",
           "output_signal": {
            "signal_type": "analog",
            "unit": "V"
           }
          },
          "name": "welding voltage measurement chain"
         },
         "name": "welding voltage measurement"
        }
       ],
       "meta": {
        "welder": "A.W. Elder"
       },
       "process": {
        "shielding_gas": {
         "torch_shielding_gas": {
          "common_name": "SG",
          "gas_component": [
           {
            "gas_chemical_name": "argon",
            "gas_percentage": {
             "unit": "percent",
             "value": "82"
            }
           },
           {
            "gas_chemical_name": "carbon dioxide",
            "gas_percentage": {
             "unit": "percent",
             "value": "18"
            }
           }
          ]
         },
         "torch_shielding_gas_flowrate": {
          "unit": "liter / minute",
          "value": "20"
         },
         "use_torch_shielding_gas": "true"
        },
        "welding_process": {
         "base_process": "pulse",
         "manufacturer": "CLOOS",
         "meta": {
          "modulation": "UI"
         },
         "parameters": {
          "base_current": {
           "unit": "ampere",
           "value": "60.0"
          },
          "pulse_duration": {
           "unit": "millisecond",
           "value": "5.0"
          },
          "pulse_frequency": {
           "unit": "hertz",
           "value": "100.0"
          },
          "pulse_voltage": {
           "unit": "volt",
           "value": "40.0"
          },
          "wire_feedrate": {
           "unit": "meter / minute",
           "value": "10.0"
          }
         },
         "power_source": "Quinto",
         "tag": "CLOOS/pulse"
        }
       },
       "reference_timestamp": {
        "value": "2020-11-09T12:00:00"
       },
       "welding_current": {
        "data": {
         "data": {
          "attributes": {},
          "coordinates": [
           {
            "data": {
             "byteorder": "little",
             "datatype": "int64",
             "shape": [
              "10001"
             ],
             "source": "0"
            },
            "dimensions": [
             "time"
            ],
            "dtype": "<m8[ns]",
            "name": "time"
           }
          ],
          "data": {
           "data": {
            "byteorder": "little",
            "datatype": "float64",
            "shape": [
             "10001"
            ],
            "source": "1"
           },
           "dimensions": [
            "time"
           ],
           "dtype": "<f8",
           "name": "data",
           "unit": "ampere"
          }
         },
         "name": "Welding current"
        },
        "signal_type": "digital",
        "unit": "A"
       },
       "welding_voltage": {
        "data": {
         "data": {
          "attributes": {},
          "coordinates": [
           {
            "data": {
             "byteorder": "little",
             "datatype": "int64",
             "shape": [
              "10001"
             ],
             "source": "2"
            },
            "dimensions": [
             "time"
            ],
            "dtype": "<m8[ns]",
            "name": "time"
           }
          ],
          "data": {
           "data": {
            "byteorder": "little",
            "datatype": "float64",
            "shape": [
             "10001"
            ],
            "source": "3"
           },
           "dimensions": [
            "time"
           ],
           "dtype": "<f8",
           "name": "data",
           "unit": "volt"
          }
         },
         "name": "Welding voltage"
        },
        "signal_type": "digital",
        "unit": "V"
       }
      },
      "text/plain": [
       "<IPython.core.display.JSON object>"
      ]
     },
     "execution_count": 16,
     "metadata": {
      "application/json": {
       "expanded": false,
       "root": "root"
      }
     },
     "output_type": "execute_result"
    }
   ],
   "source": [
    "tree = dict(\n",
    "    reference_timestamp=reference_timestamp,\n",
    "    equipment=[HKS_sensor, BH_ELM],\n",
    "    measurements=[welding_current, welding_voltage],\n",
    "    welding_current=current_calib_transform.output_signal,\n",
    "    welding_voltage=voltage_calib_transform.output_signal,\n",
    "    coordinate_systems=csm,\n",
    "    TCP=TCP_reference,\n",
    "    geometry=geometry,\n",
    "    process=process,\n",
    "    meta={\"welder\": \"A.W. Elder\"},\n",
    ")\n",
    "\n",
    "\n",
    "buffer = weldx.asdf.utils._write_buffer(\n",
    "    tree,\n",
    "    asdffile_kwargs=dict(\n",
    "        custom_schema=\"./weldx/asdf/schemas/weldx.bam.de/weldx/datamodels/single_pass_weld-1.0.0.schema.yaml\"\n",
    "    ),\n",
    ")\n",
    "weldx.asdf.utils.asdf_json_repr(buffer)"
   ]
  },
  {
   "cell_type": "code",
   "execution_count": 17,
   "metadata": {},
   "outputs": [],
   "source": [
    "filename = \"schema_example_01.asdf\"\n",
    "\n",
    "with asdf.AsdfFile(\n",
    "    tree,\n",
    "    ignore_version_mismatch=False,\n",
    "    custom_schema=\"./weldx/asdf/schemas/weldx.bam.de/weldx/datamodels/single_pass_weld-1.0.0.schema.yaml\",\n",
    ") as ff:\n",
    "    ff.write_to(filename)"
   ]
  }
 ],
 "metadata": {
  "kernelspec": {
   "display_name": "weldx",
   "language": "python",
   "name": "weldx"
  },
  "language_info": {
   "codemirror_mode": {
    "name": "ipython",
    "version": 3
   },
   "file_extension": ".py",
   "mimetype": "text/x-python",
   "name": "python",
   "nbconvert_exporter": "python",
   "pygments_lexer": "ipython3",
   "version": "3.9.2"
  }
 },
 "nbformat": 4,
 "nbformat_minor": 4
}
