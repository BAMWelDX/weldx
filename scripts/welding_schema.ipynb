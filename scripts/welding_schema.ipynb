{
 "cells": [
  {
   "cell_type": "markdown",
   "metadata": {},
   "source": [
    "# Welding schema"
   ]
  },
  {
   "cell_type": "code",
   "execution_count": null,
   "metadata": {},
   "outputs": [],
   "source": [
    "%cd -q"
   ]
  },
  {
   "cell_type": "code",
   "execution_count": null,
   "metadata": {},
   "outputs": [],
   "source": [
    "# some python imports that will be used throughout the tutorial\n",
    "import numpy as np\n",
    "\n",
    "import matplotlib.pyplot as plt\n",
    "import networkx as nx\n",
    "import pandas as pd\n",
    "import pint\n",
    "import sympy\n",
    "import xarray as xr\n",
    "from mpl_toolkits.mplot3d import Axes3D"
   ]
  },
  {
   "cell_type": "code",
   "execution_count": null,
   "metadata": {},
   "outputs": [],
   "source": [
    "# importing the weldx package with prevalent default abbreviations\n",
    "import weldx\n",
    "import weldx.geometry as geo\n",
    "import weldx.transformations as tf\n",
    "import weldx.utility as ut\n",
    "import weldx.measurement as msm\n",
    "import weldx.visualization as vis\n",
    "from weldx import Q_\n",
    "from weldx.transformations import LocalCoordinateSystem as lcs\n",
    "from weldx.transformations import WXRotation\n",
    "from weldx.welding.groove.iso_9692_1 import get_groove"
   ]
  },
  {
   "cell_type": "markdown",
   "metadata": {},
   "source": [
    "## Timestamp"
   ]
  },
  {
   "cell_type": "code",
   "execution_count": null,
   "metadata": {},
   "outputs": [],
   "source": [
    "# file timestamp\n",
    "reference_timestamp = pd.Timestamp(\"2020-11-09 12:00:00\")"
   ]
  },
  {
   "cell_type": "markdown",
   "metadata": {},
   "source": [
    "## Geometry"
   ]
  },
  {
   "cell_type": "code",
   "execution_count": null,
   "metadata": {},
   "outputs": [],
   "source": [
    "# groove + trace = geometry\n",
    "groove = get_groove(\n",
    "    groove_type=\"VGroove\",\n",
    "    workpiece_thickness=Q_(5, \"mm\"),\n",
    "    groove_angle=Q_(50, \"deg\"),\n",
    "    root_face=Q_(1, \"mm\"),\n",
    "    root_gap=Q_(1, \"mm\"),\n",
    ")\n",
    "\n",
    "# define the weld seam length in mm\n",
    "seam_length = Q_(300, \"mm\")\n",
    "\n",
    "# create a linear trace segment a the complete weld seam trace\n",
    "trace_segment = geo.LinearHorizontalTraceSegment(seam_length)\n",
    "trace = geo.Trace(trace_segment)\n",
    "\n",
    "geometry = dict(groove_shape=groove,seam_length=seam_length)"
   ]
  },
  {
   "cell_type": "markdown",
   "metadata": {},
   "source": [
    "## Setup the Coordinate System Manager (CSM)"
   ]
  },
  {
   "cell_type": "code",
   "execution_count": null,
   "metadata": {},
   "outputs": [],
   "source": [
    "# crete a new coordinate system manager with default base coordinate system\n",
    "csm = weldx.transformations.CoordinateSystemManager(\"base\")\n",
    "\n",
    "# add the workpiece coordinate system\n",
    "csm.add_cs(\n",
    "    coordinate_system_name=\"workpiece\",\n",
    "    reference_system_name=\"base\",\n",
    "    lcs=trace.coordinate_system,\n",
    ")\n",
    "\n",
    "tcp_start_point = Q_([5.0, 0.0, 2.0], \"mm\")\n",
    "tcp_end_point = Q_([-5.0, 0.0, 2.0], \"mm\") + np.append(seam_length, Q_([0, 0], \"mm\"))\n",
    "\n",
    "v_weld = Q_(10, \"mm/s\")\n",
    "s_weld = (tcp_end_point - tcp_start_point)[0]  # length of the weld\n",
    "t_weld = s_weld / v_weld\n",
    "\n",
    "t_start = pd.Timedelta(\"0s\")\n",
    "t_end = pd.Timedelta(str(t_weld.to_base_units()))\n",
    "\n",
    "rot = WXRotation.from_euler(seq=\"x\", angles=180, degrees=True)\n",
    "\n",
    "coords = [tcp_start_point.magnitude, tcp_end_point.magnitude]\n",
    "\n",
    "tcp_wire = lcs(coordinates=coords, orientation=rot, time=[t_start, t_end])\n",
    "\n",
    "# add the workpiece coordinate system\n",
    "csm.add_cs(\n",
    "    coordinate_system_name=\"tcp_wire\",\n",
    "    reference_system_name=\"workpiece\",\n",
    "    lcs=tcp_wire,\n",
    ")\n",
    "\n",
    "tcp_contact = lcs(coordinates=[0, 0, -10])\n",
    "\n",
    "# add the workpiece coordinate system\n",
    "csm.add_cs(\n",
    "    coordinate_system_name=\"tcp_contact\",\n",
    "    reference_system_name=\"tcp_wire\",\n",
    "    lcs=tcp_contact,\n",
    ")"
   ]
  },
  {
   "cell_type": "markdown",
   "metadata": {},
   "source": [
    "## Measurements"
   ]
  },
  {
   "cell_type": "code",
   "execution_count": null,
   "metadata": {},
   "outputs": [],
   "source": [
    "# time\n",
    "time = pd.timedelta_range(start=\"0s\", end=\"10s\", freq=\"1ms\")\n",
    "\n",
    "# current data\n",
    "I_ts = ut._sine(f=Q_(10, \"1/s\"), amp=Q_(20, \"A\"), bias=Q_(300, \"A\"))\n",
    "I = I_ts.interp_time(time)\n",
    "I[\"time\"] = I[\"time\"]+reference_timestamp\n",
    "\n",
    "current_data = msm.Data(name=\"Welding current\", data=I)\n",
    "\n",
    "# voltage data\n",
    "U_ts = ut._sine(f=Q_(10, \"1/s\"), amp=Q_(3, \"V\"), bias=Q_(40, \"V\"), phase=Q_(0.1, \"rad\"))\n",
    "U = U_ts.interp_time(time)\n",
    "U[\"time\"] = U[\"time\"]+reference_timestamp\n",
    "\n",
    "voltage_data = msm.Data(name=\"Welding voltage\", data=U)"
   ]
  },
  {
   "cell_type": "code",
   "execution_count": null,
   "metadata": {},
   "outputs": [],
   "source": [
    "from asdf.tags.core import Software\n",
    "\n",
    "HKS_sensor = msm.GenericEquipment(name=\"HKS P1000-S3\")\n",
    "BH_ELM = msm.GenericEquipment(name=\"Beckhoff ELM3002-0000\")\n",
    "twincat_scope = Software(name=\"Beckhoff TwinCAT ScopeView\", version=\"3.4.3143\")"
   ]
  },
  {
   "cell_type": "code",
   "execution_count": null,
   "metadata": {},
   "outputs": [],
   "source": [
    "src_current = msm.Source(\n",
    "    name=\"Current Sensor\",\n",
    "    output_signal=msm.Signal(signal_type=\"analog\", unit=\"V\", data=None),\n",
    "    error=msm.Error(Q_(0.1, \"percent\")),\n",
    ")\n",
    "\n",
    "HKS_sensor.sources = []\n",
    "HKS_sensor.sources.append(src_current)\n",
    "\n",
    "from weldx.asdf.tags.weldx.core.mathematical_expression import MathematicalExpression\n",
    "\n",
    "[a, x, b] = sympy.symbols(\"a x b\")\n",
    "current_AD_func = MathematicalExpression(a * x + b)\n",
    "current_AD_func.set_parameter(\"a\", Q_(32768.0 / 10.0, \"1/V\"))\n",
    "current_AD_func.set_parameter(\"b\", Q_(0.0, \"\"))\n",
    "\n",
    "current_AD_transform = msm.DataTransformation(\n",
    "    name=\"AD conversion current measurement\",\n",
    "    input_signal=src_current.output_signal,\n",
    "    output_signal=msm.Signal(\"digital\", \"\", data=None),\n",
    "    error=msm.Error(Q_(0.01, \"percent\")),\n",
    "    func=current_AD_func,\n",
    ")\n",
    "\n",
    "BH_ELM.data_transformations = []\n",
    "BH_ELM.data_transformations.append(current_AD_transform)\n",
    "\n",
    "# define current output calibration expression and transformation\n",
    "current_calib_func = MathematicalExpression(a * x + b)\n",
    "current_calib_func.set_parameter(\"a\", Q_(1000.0 / 32768.0, \"A\"))\n",
    "current_calib_func.set_parameter(\"b\", Q_(0.0, \"A\"))\n",
    "\n",
    "current_calib_transform = msm.DataTransformation(\n",
    "    name=\"Calibration current measurement\",\n",
    "    input_signal=current_AD_transform.output_signal,\n",
    "    output_signal=msm.Signal(\"digital\", \"A\", data=current_data),\n",
    "    error=msm.Error(0.0),\n",
    "    func=current_calib_func,\n",
    "    meta=twincat_scope,\n",
    ")\n",
    "\n",
    "\n",
    "welding_current_chain = msm.MeasurementChain(\n",
    "    name=\"welding current measurement chain\",\n",
    "    data_source=src_current,\n",
    "    data_processors=[current_AD_transform, current_calib_transform],\n",
    ")\n",
    "\n",
    "welding_current = msm.Measurement(\n",
    "    name=\"welding current measurement\",\n",
    "    data=[current_data],\n",
    "    measurement_chain=welding_current_chain,\n",
    ")"
   ]
  },
  {
   "cell_type": "code",
   "execution_count": null,
   "metadata": {},
   "outputs": [],
   "source": [
    "src_voltage = msm.Source(\n",
    "    name=\"Voltage Sensor\",\n",
    "    output_signal=msm.Signal(\"analog\", \"V\", data=None),\n",
    "    error=msm.Error(Q_(0.1, \"percent\")),\n",
    ")\n",
    "\n",
    "HKS_sensor.sources.append(src_voltage)\n",
    "\n",
    "# define AD conversion expression and transformation step\n",
    "[a, x, b] = sympy.symbols(\"a x b\")\n",
    "voltage_ad_func = MathematicalExpression(a * x + b)\n",
    "voltage_ad_func.set_parameter(\"a\", Q_(32768.0 / 10.0, \"1/V\"))\n",
    "voltage_ad_func.set_parameter(\"b\", Q_(0.0, \"\"))\n",
    "\n",
    "voltage_AD_transform = msm.DataTransformation(\n",
    "    name=\"AD conversion voltage measurement\",\n",
    "    input_signal=src_voltage.output_signal,\n",
    "    output_signal=msm.Signal(\"digital\", \"\", data=None),\n",
    "    error=msm.Error(Q_(0.01, \"percent\")),\n",
    "    func=voltage_ad_func,\n",
    ")\n",
    "\n",
    "HKS_sensor.data_transformations.append(voltage_AD_transform)\n",
    "\n",
    "# define voltage output calibration expression and transformation\n",
    "voltage_calib_func = MathematicalExpression(a * x + b)\n",
    "voltage_calib_func.set_parameter(\"a\", Q_(100.0 / 32768.0, \"V\"))\n",
    "voltage_calib_func.set_parameter(\"b\", Q_(0.0, \"V\"))\n",
    "\n",
    "voltage_calib_transform = msm.DataTransformation(\n",
    "    name=\"Calibration voltage measurement\",\n",
    "    input_signal=voltage_AD_transform.output_signal,\n",
    "    output_signal=msm.Signal(\"digital\", \"V\", data=voltage_data),\n",
    "    error=msm.Error(0.0),\n",
    "    func=voltage_calib_func,\n",
    "    meta=twincat_scope,\n",
    ")\n",
    "\n",
    "\n",
    "welding_voltage_chain = msm.MeasurementChain(\n",
    "    name=\"welding voltage measurement chain\",\n",
    "    data_source=src_voltage,\n",
    "    data_processors=[voltage_AD_transform, voltage_calib_transform],\n",
    ")\n",
    "\n",
    "welding_voltage = msm.Measurement(\n",
    "    name=\"welding voltage measurement\",\n",
    "    data=[voltage_data],\n",
    "    measurement_chain=welding_voltage_chain,\n",
    ")"
   ]
  },
  {
   "cell_type": "markdown",
   "metadata": {},
   "source": [
    "## ASF file"
   ]
  },
  {
   "cell_type": "code",
   "execution_count": null,
   "metadata": {},
   "outputs": [],
   "source": [
    "tree = dict(\n",
    "    reference_timestamp = reference_timestamp,\n",
    "    equipment=[HKS_sensor, BH_ELM],\n",
    "    measurements=[welding_current, welding_voltage],\n",
    "    welding_current = current_calib_transform.output_signal,\n",
    "    welding_voltage = voltage_calib_transform.output_signal,\n",
    "    coordinate_systems = csm,\n",
    "    geometry = geometry,\n",
    "    meta = {\"welder\": \"A.W. Elder\"},\n",
    "           )\n",
    "\n",
    "\n",
    "buffer = weldx.asdf.utils._write_buffer(tree,asdffile_kwargs=dict(custom_schema=\"C:/Python/weldx/weldx/asdf/schemas/weldx.bam.de/weldx/datamodels/single_pass_weld-1.0.0.schema.yaml\"))\n",
    "weldx.asdf.utils.notebook_fileprinter(buffer)"
   ]
  },
  {
   "cell_type": "code",
   "execution_count": null,
   "metadata": {},
   "outputs": [],
   "source": []
  }
 ],
 "metadata": {
  "kernelspec": {
   "display_name": "weldx",
   "language": "python",
   "name": "weldx"
  },
  "language_info": {
   "codemirror_mode": {
    "name": "ipython",
    "version": 3
   },
   "file_extension": ".py",
   "mimetype": "text/x-python",
   "name": "python",
   "nbconvert_exporter": "python",
   "pygments_lexer": "ipython3",
   "version": "3.7.9"
  }
 },
 "nbformat": 4,
 "nbformat_minor": 4
}
