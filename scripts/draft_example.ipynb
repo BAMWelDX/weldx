{
 "cells": [
  {
   "cell_type": "code",
   "execution_count": null,
   "id": "pleased-clone",
   "metadata": {},
   "outputs": [],
   "source": [
    "from weldx.measurement import MeasurementChainGraph, Error"
   ]
  },
  {
   "cell_type": "code",
   "execution_count": null,
   "id": "better-defeat",
   "metadata": {},
   "outputs": [],
   "source": [
    "mc = MeasurementChainGraph(name=\"Current measurement chain\", \n",
    "                           source_name=\"Current Sensor\", \n",
    "                           source_error=Error(13.37), \n",
    "                           output_signal_type=\"analog\", \n",
    "                           output_signal_unit=\"V\")"
   ]
  },
  {
   "cell_type": "code",
   "execution_count": null,
   "id": "political-congo",
   "metadata": {},
   "outputs": [],
   "source": [
    "mc.add_transformation(\"AD conversion current measurement\", \n",
    "                      error=Error(0.97), \n",
    "                      output_signal_type=\"digital\", \n",
    "                      output_signal_unit = \"\")"
   ]
  },
  {
   "cell_type": "code",
   "execution_count": null,
   "id": "restricted-ethernet",
   "metadata": {},
   "outputs": [],
   "source": [
    "mc.add_transformation(\"Calibration\", \n",
    "                      error=Error(0.1), \n",
    "                      output_signal_type=\"digital\", \n",
    "                      output_signal_unit = \"A\")"
   ]
  },
  {
   "cell_type": "code",
   "execution_count": null,
   "id": "under-cylinder",
   "metadata": {},
   "outputs": [],
   "source": [
    "mc.add_signal_data(\"my_data\", [1,2,3])"
   ]
  },
  {
   "cell_type": "code",
   "execution_count": null,
   "id": "pretty-sunglasses",
   "metadata": {},
   "outputs": [],
   "source": [
    "mc._graph.edges"
   ]
  },
  {
   "cell_type": "code",
   "execution_count": null,
   "id": "fantastic-apache",
   "metadata": {},
   "outputs": [],
   "source": [
    "mc._graph.nodes"
   ]
  },
  {
   "cell_type": "code",
   "execution_count": null,
   "id": "monthly-bouquet",
   "metadata": {},
   "outputs": [],
   "source": [
    "mc._graph.edges"
   ]
  },
  {
   "cell_type": "code",
   "execution_count": null,
   "id": "fancy-halifax",
   "metadata": {},
   "outputs": [],
   "source": [
    "mc.get_data(\"my_data\")"
   ]
  },
  {
   "cell_type": "code",
   "execution_count": null,
   "id": "demanding-legend",
   "metadata": {},
   "outputs": [],
   "source": [
    "trf_cal = mc.get_transformation(\"Calibration\")\n",
    "trf_cal"
   ]
  },
  {
   "cell_type": "code",
   "execution_count": null,
   "id": "configured-camping",
   "metadata": {},
   "outputs": [],
   "source": [
    "mc_2 = MeasurementChainGraph(name=\"Other measurement chain\", \n",
    "                           source_name=\"Current Sensor\", \n",
    "                           source_error=Error(13.3), \n",
    "                           output_signal_type=\"analog\", \n",
    "                           output_signal_unit=\"V\")"
   ]
  },
  {
   "cell_type": "code",
   "execution_count": null,
   "id": "going-excuse",
   "metadata": {},
   "outputs": [],
   "source": [
    "try:\n",
    "    mc_2.attach_transformation(trf_cal)\n",
    "except ValueError as e:\n",
    "    print(e)"
   ]
  },
  {
   "cell_type": "code",
   "execution_count": null,
   "id": "advance-provider",
   "metadata": {},
   "outputs": [],
   "source": [
    "mc_2.attach_transformation(mc.get_transformation(\"AD conversion current measurement\"))\n",
    "mc_2.attach_transformation(trf_cal)"
   ]
  },
  {
   "cell_type": "code",
   "execution_count": null,
   "id": "parallel-review",
   "metadata": {},
   "outputs": [],
   "source": [
    "mc_2._graph.nodes()"
   ]
  },
  {
   "cell_type": "code",
   "execution_count": null,
   "id": "alternative-winner",
   "metadata": {},
   "outputs": [],
   "source": []
  }
 ],
 "metadata": {
  "kernelspec": {
   "display_name": "weldx",
   "language": "python",
   "name": "weldx"
  },
  "language_info": {
   "codemirror_mode": {
    "name": "ipython",
    "version": 3
   },
   "file_extension": ".py",
   "mimetype": "text/x-python",
   "name": "python",
   "nbconvert_exporter": "python",
   "pygments_lexer": "ipython3",
   "version": "3.8.8"
  }
 },
 "nbformat": 4,
 "nbformat_minor": 5
}
