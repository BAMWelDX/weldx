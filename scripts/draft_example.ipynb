{
 "cells": [
  {
   "cell_type": "code",
   "execution_count": null,
   "id": "pacific-holder",
   "metadata": {},
   "outputs": [],
   "source": [
    "from weldx.measurement import MeasurementChain, Error\n",
    "from weldx import MathematicalExpression"
   ]
  },
  {
   "cell_type": "code",
   "execution_count": null,
   "id": "first-corps",
   "metadata": {},
   "outputs": [],
   "source": [
    "mc = MeasurementChain(name=\"Current measurement chain\", \n",
    "                           source_name=\"Current Sensor\", \n",
    "                           source_error=Error(13.37), \n",
    "                           output_signal_type=\"analog\", \n",
    "                           output_signal_unit=\"V\")"
   ]
  },
  {
   "cell_type": "code",
   "execution_count": null,
   "id": "undefined-subscription",
   "metadata": {},
   "outputs": [],
   "source": [
    "mc.add_transformation(\"AD conversion current measurement\", \n",
    "                      error=Error(0.97), \n",
    "                      func=MathematicalExpression(\"a*x+b\"),\n",
    "                      output_signal_type=\"digital\", \n",
    "                      output_signal_unit = \"\")"
   ]
  },
  {
   "cell_type": "code",
   "execution_count": null,
   "id": "blessed-liberty",
   "metadata": {},
   "outputs": [],
   "source": [
    "mc.add_transformation(\"Calibration\", \n",
    "                      error=Error(0.1), \n",
    "                      output_signal_type=\"digital\", \n",
    "                      output_signal_unit = \"A\")"
   ]
  },
  {
   "cell_type": "code",
   "execution_count": null,
   "id": "destroyed-sound",
   "metadata": {},
   "outputs": [],
   "source": [
    "mc.add_signal_data([1,2,3])"
   ]
  },
  {
   "cell_type": "code",
   "execution_count": null,
   "id": "imposed-cream",
   "metadata": {},
   "outputs": [],
   "source": [
    "mc._graph.edges"
   ]
  },
  {
   "cell_type": "code",
   "execution_count": null,
   "id": "sustainable-holiday",
   "metadata": {},
   "outputs": [],
   "source": [
    "mc._graph.nodes"
   ]
  },
  {
   "cell_type": "code",
   "execution_count": null,
   "id": "fancy-phrase",
   "metadata": {},
   "outputs": [],
   "source": [
    "mc._graph.edges"
   ]
  },
  {
   "cell_type": "code",
   "execution_count": null,
   "id": "unlikely-orchestra",
   "metadata": {},
   "outputs": [],
   "source": [
    "mc.get_signal_data()"
   ]
  },
  {
   "cell_type": "code",
   "execution_count": null,
   "id": "referenced-sunday",
   "metadata": {},
   "outputs": [],
   "source": [
    "trf_cal = mc.get_transformation(\"Calibration\")\n",
    "trf_cal"
   ]
  },
  {
   "cell_type": "code",
   "execution_count": null,
   "id": "interesting-treat",
   "metadata": {},
   "outputs": [],
   "source": [
    "mc_2 = MeasurementChain(name=\"Other measurement chain\", \n",
    "                           source_name=\"Current Sensor\", \n",
    "                           source_error=Error(13.3), \n",
    "                           output_signal_type=\"analog\", \n",
    "                           output_signal_unit=\"V\")"
   ]
  },
  {
   "cell_type": "code",
   "execution_count": null,
   "id": "bottom-crossing",
   "metadata": {},
   "outputs": [],
   "source": [
    "try:\n",
    "    mc_2.attach_transformation(trf_cal)\n",
    "except ValueError as e:\n",
    "    print(e)"
   ]
  },
  {
   "cell_type": "code",
   "execution_count": null,
   "id": "naval-destruction",
   "metadata": {},
   "outputs": [],
   "source": [
    "mc_2.attach_transformation(mc.get_transformation(\"AD conversion current measurement\"))\n",
    "mc_2.attach_transformation(trf_cal)"
   ]
  },
  {
   "cell_type": "code",
   "execution_count": null,
   "id": "solar-segment",
   "metadata": {},
   "outputs": [],
   "source": [
    "mc_2.add_signal_data([1,2])"
   ]
  },
  {
   "cell_type": "code",
   "execution_count": null,
   "id": "south-vaccine",
   "metadata": {},
   "outputs": [],
   "source": [
    "mc_2.plot()"
   ]
  },
  {
   "cell_type": "code",
   "execution_count": null,
   "id": "blocked-headset",
   "metadata": {},
   "outputs": [],
   "source": []
  }
 ],
 "metadata": {
  "kernelspec": {
   "display_name": "weldx",
   "language": "python",
   "name": "weldx"
  },
  "language_info": {
   "codemirror_mode": {
    "name": "ipython",
    "version": 3
   },
   "file_extension": ".py",
   "mimetype": "text/x-python",
   "name": "python",
   "nbconvert_exporter": "python",
   "pygments_lexer": "ipython3",
   "version": "3.8.8"
  }
 },
 "nbformat": 4,
 "nbformat_minor": 5
}
