{
 "cells": [
  {
   "cell_type": "code",
   "execution_count": null,
   "id": "desirable-homeless",
   "metadata": {},
   "outputs": [],
   "source": [
    "from weldx.measurement import MeasurementChainGraph, Source, Signal, Error, DataTransformation"
   ]
  },
  {
   "cell_type": "code",
   "execution_count": null,
   "id": "clinical-knock",
   "metadata": {},
   "outputs": [],
   "source": [
    "src_01 = Source(\n",
    "        name=\"Current Sensor\",\n",
    "        output_signal=Signal(\"analog\", \"V\", data=None),\n",
    "        error=Error(1337.42),\n",
    "    )"
   ]
  },
  {
   "cell_type": "code",
   "execution_count": null,
   "id": "liquid-scenario",
   "metadata": {},
   "outputs": [],
   "source": [
    "mc = MeasurementChainGraph(\"test\", src_01)"
   ]
  },
  {
   "cell_type": "code",
   "execution_count": null,
   "id": "according-aluminum",
   "metadata": {},
   "outputs": [],
   "source": [
    "dt_01 = DataTransformation(\n",
    "        name=\"AD conversion current measurement\",\n",
    "        input_signal=Signal(\"analog\", \"V\", data=None),\n",
    "        output_signal=Signal(\"digital\", \"V\", data=None),\n",
    "        error=Error(999.0),\n",
    "    )"
   ]
  },
  {
   "cell_type": "code",
   "execution_count": null,
   "id": "parliamentary-insurance",
   "metadata": {},
   "outputs": [],
   "source": [
    "mc.add_transformation(name=dt_01.name,transformation=dt_01)"
   ]
  },
  {
   "cell_type": "code",
   "execution_count": null,
   "id": "homeless-pantyhose",
   "metadata": {},
   "outputs": [],
   "source": [
    "mc.add_signal_data(\"my_data\",[1,2,3])"
   ]
  },
  {
   "cell_type": "code",
   "execution_count": null,
   "id": "buried-master",
   "metadata": {},
   "outputs": [],
   "source": [
    "mc._graph.edges"
   ]
  },
  {
   "cell_type": "markdown",
   "id": "ceramic-summary",
   "metadata": {},
   "source": []
  }
 ],
 "metadata": {
  "kernelspec": {
   "display_name": "weldx",
   "language": "python",
   "name": "weldx"
  },
  "language_info": {
   "codemirror_mode": {
    "name": "ipython",
    "version": 3
   },
   "file_extension": ".py",
   "mimetype": "text/x-python",
   "name": "python",
   "nbconvert_exporter": "python",
   "pygments_lexer": "ipython3",
   "version": "3.8.8"
  }
 },
 "nbformat": 4,
 "nbformat_minor": 5
}
