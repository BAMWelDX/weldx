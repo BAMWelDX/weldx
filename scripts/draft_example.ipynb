{
 "cells": [
  {
   "cell_type": "code",
   "execution_count": null,
   "id": "challenging-turkish",
   "metadata": {},
   "outputs": [],
   "source": [
    "from weldx.measurement import MeasurementChainGraph, Error\n",
    "from weldx import MathematicalExpression"
   ]
  },
  {
   "cell_type": "code",
   "execution_count": null,
   "id": "equal-coverage",
   "metadata": {},
   "outputs": [],
   "source": [
    "mc = MeasurementChainGraph(name=\"Current measurement chain\", \n",
    "                           source_name=\"Current Sensor\", \n",
    "                           source_error=Error(13.37), \n",
    "                           output_signal_type=\"analog\", \n",
    "                           output_signal_unit=\"V\")"
   ]
  },
  {
   "cell_type": "code",
   "execution_count": null,
   "id": "combined-indianapolis",
   "metadata": {},
   "outputs": [],
   "source": [
    "mc.add_transformation(\"AD conversion current measurement\", \n",
    "                      error=Error(0.97), \n",
    "                      func=MathematicalExpression(\"a*x+b\"),\n",
    "                      output_signal_type=\"digital\", \n",
    "                      output_signal_unit = \"\")"
   ]
  },
  {
   "cell_type": "code",
   "execution_count": null,
   "id": "bronze-genre",
   "metadata": {},
   "outputs": [],
   "source": [
    "mc.add_transformation(\"Calibration\", \n",
    "                      error=Error(0.1), \n",
    "                      output_signal_type=\"digital\", \n",
    "                      output_signal_unit = \"A\")"
   ]
  },
  {
   "cell_type": "code",
   "execution_count": null,
   "id": "incoming-moment",
   "metadata": {},
   "outputs": [],
   "source": [
    "mc.add_signal_data(\"my_data\", [1,2,3])"
   ]
  },
  {
   "cell_type": "code",
   "execution_count": null,
   "id": "downtown-parent",
   "metadata": {},
   "outputs": [],
   "source": [
    "mc._graph.edges"
   ]
  },
  {
   "cell_type": "code",
   "execution_count": null,
   "id": "everyday-arena",
   "metadata": {},
   "outputs": [],
   "source": [
    "mc._graph.nodes"
   ]
  },
  {
   "cell_type": "code",
   "execution_count": null,
   "id": "sensitive-nursing",
   "metadata": {},
   "outputs": [],
   "source": [
    "mc._graph.edges"
   ]
  },
  {
   "cell_type": "code",
   "execution_count": null,
   "id": "amazing-citizen",
   "metadata": {},
   "outputs": [],
   "source": [
    "mc.get_data(\"my_data\")"
   ]
  },
  {
   "cell_type": "code",
   "execution_count": null,
   "id": "cosmetic-sunset",
   "metadata": {},
   "outputs": [],
   "source": [
    "trf_cal = mc.get_transformation(\"Calibration\")\n",
    "trf_cal"
   ]
  },
  {
   "cell_type": "code",
   "execution_count": null,
   "id": "funky-uzbekistan",
   "metadata": {},
   "outputs": [],
   "source": [
    "mc_2 = MeasurementChainGraph(name=\"Other measurement chain\", \n",
    "                           source_name=\"Current Sensor\", \n",
    "                           source_error=Error(13.3), \n",
    "                           output_signal_type=\"analog\", \n",
    "                           output_signal_unit=\"V\")"
   ]
  },
  {
   "cell_type": "code",
   "execution_count": null,
   "id": "excessive-backing",
   "metadata": {},
   "outputs": [],
   "source": [
    "try:\n",
    "    mc_2.attach_transformation(trf_cal)\n",
    "except ValueError as e:\n",
    "    print(e)"
   ]
  },
  {
   "cell_type": "code",
   "execution_count": null,
   "id": "vietnamese-joyce",
   "metadata": {},
   "outputs": [],
   "source": [
    "mc_2.attach_transformation(mc.get_transformation(\"AD conversion current measurement\"))\n",
    "mc_2.attach_transformation(trf_cal)"
   ]
  },
  {
   "cell_type": "code",
   "execution_count": null,
   "id": "robust-chase",
   "metadata": {},
   "outputs": [],
   "source": [
    "mc_2.add_signal_data(\"test\",[1,2])"
   ]
  },
  {
   "cell_type": "code",
   "execution_count": null,
   "id": "medical-filling",
   "metadata": {},
   "outputs": [],
   "source": [
    "mc_2.plot()"
   ]
  },
  {
   "cell_type": "code",
   "execution_count": null,
   "id": "arranged-perth",
   "metadata": {},
   "outputs": [],
   "source": []
  }
 ],
 "metadata": {
  "kernelspec": {
   "display_name": "weldx",
   "language": "python",
   "name": "weldx"
  },
  "language_info": {
   "codemirror_mode": {
    "name": "ipython",
    "version": 3
   },
   "file_extension": ".py",
   "mimetype": "text/x-python",
   "name": "python",
   "nbconvert_exporter": "python",
   "pygments_lexer": "ipython3",
   "version": "3.8.8"
  }
 },
 "nbformat": 4,
 "nbformat_minor": 5
}
