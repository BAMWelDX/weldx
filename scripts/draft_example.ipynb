{
 "cells": [
  {
   "cell_type": "code",
   "execution_count": null,
   "id": "royal-clock",
   "metadata": {},
   "outputs": [],
   "source": [
    "from weldx.measurement import MeasurementChain, Error\n",
    "from weldx import MathematicalExpression\n",
    "from weldx import Q_"
   ]
  },
  {
   "cell_type": "code",
   "execution_count": null,
   "id": "hidden-familiar",
   "metadata": {},
   "outputs": [],
   "source": [
    "mc = MeasurementChain.from_parameters(name=\"Current measurement chain\", \n",
    "                           source_name=\"Current Sensor\", \n",
    "                           source_error=Error(13.37), \n",
    "                           output_signal_type=\"analog\", \n",
    "                           output_signal_unit=\"V\")"
   ]
  },
  {
   "cell_type": "code",
   "execution_count": null,
   "id": "varying-mobility",
   "metadata": {},
   "outputs": [],
   "source": [
    "mc.create_transformation(\"AD conversion current measurement\", \n",
    "                      error=Error(0.97), \n",
    "                      func=MathematicalExpression(\"a*x+b\",parameters={\"a\":Q_(1,\"1/V\"), \"b\":Q_(1,\"\")}),\n",
    "                      output_signal_type=\"digital\")"
   ]
  },
  {
   "cell_type": "code",
   "execution_count": null,
   "id": "complete-responsibility",
   "metadata": {},
   "outputs": [],
   "source": [
    "mc.create_transformation(\"Calibration\", \n",
    "                      error=Error(0.1),\n",
    "                      func=MathematicalExpression(\"a*x\",parameters={\"a\":Q_(1,\"A\")}),\n",
    "                      output_signal_type=\"digital\")"
   ]
  },
  {
   "cell_type": "code",
   "execution_count": null,
   "id": "extreme-mexico",
   "metadata": {},
   "outputs": [],
   "source": [
    "mc.add_signal_data([1,2,3])"
   ]
  },
  {
   "cell_type": "code",
   "execution_count": null,
   "id": "complicated-alaska",
   "metadata": {},
   "outputs": [],
   "source": [
    "mc._graph.edges"
   ]
  },
  {
   "cell_type": "code",
   "execution_count": null,
   "id": "mature-hearing",
   "metadata": {},
   "outputs": [],
   "source": [
    "mc._graph.nodes"
   ]
  },
  {
   "cell_type": "code",
   "execution_count": null,
   "id": "arctic-paintball",
   "metadata": {},
   "outputs": [],
   "source": [
    "mc._graph.edges"
   ]
  },
  {
   "cell_type": "code",
   "execution_count": null,
   "id": "changing-hudson",
   "metadata": {},
   "outputs": [],
   "source": [
    "mc.get_signal_data()"
   ]
  },
  {
   "cell_type": "code",
   "execution_count": null,
   "id": "durable-library",
   "metadata": {},
   "outputs": [],
   "source": [
    "trf_cal = mc.get_transformation(\"Calibration\")\n",
    "trf_cal"
   ]
  },
  {
   "cell_type": "code",
   "execution_count": null,
   "id": "faced-kentucky",
   "metadata": {},
   "outputs": [],
   "source": [
    "mc_2 = MeasurementChain.from_parameters(name=\"Other measurement chain\", \n",
    "                           source_name=\"Current Sensor\", \n",
    "                           source_error=Error(13.3), \n",
    "                           output_signal_type=\"analog\", \n",
    "                           output_signal_unit=\"V\")"
   ]
  },
  {
   "cell_type": "code",
   "execution_count": null,
   "id": "wound-gossip",
   "metadata": {},
   "outputs": [],
   "source": [
    "#try:\n",
    "#    mc_2.add_transformation(trf_cal)\n",
    "#except ValueError as e:\n",
    "#    print(e)"
   ]
  },
  {
   "cell_type": "code",
   "execution_count": null,
   "id": "sophisticated-sense",
   "metadata": {},
   "outputs": [],
   "source": [
    "mc_2.add_transformation(mc.get_transformation(\"AD conversion current measurement\"))\n",
    "mc_2.add_transformation(trf_cal)"
   ]
  },
  {
   "cell_type": "code",
   "execution_count": null,
   "id": "outer-chaos",
   "metadata": {},
   "outputs": [],
   "source": [
    "mc_2.add_signal_data([1,2])"
   ]
  },
  {
   "cell_type": "code",
   "execution_count": null,
   "id": "intellectual-assumption",
   "metadata": {},
   "outputs": [],
   "source": [
    "mc_2.plot()"
   ]
  },
  {
   "cell_type": "code",
   "execution_count": null,
   "id": "amber-adapter",
   "metadata": {},
   "outputs": [],
   "source": []
  }
 ],
 "metadata": {
  "kernelspec": {
   "display_name": "weldx",
   "language": "python",
   "name": "weldx"
  },
  "language_info": {
   "codemirror_mode": {
    "name": "ipython",
    "version": 3
   },
   "file_extension": ".py",
   "mimetype": "text/x-python",
   "name": "python",
   "nbconvert_exporter": "python",
   "pygments_lexer": "ipython3",
   "version": "3.8.8"
  }
 },
 "nbformat": 4,
 "nbformat_minor": 5
}
