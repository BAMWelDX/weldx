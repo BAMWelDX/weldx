{
 "cells": [
  {
   "cell_type": "code",
   "execution_count": null,
   "id": "artificial-fountain",
   "metadata": {},
   "outputs": [],
   "source": [
    "from weldx.measurement import MeasurementChain, Error\n",
    "from weldx import MathematicalExpression\n",
    "from weldx import Q_"
   ]
  },
  {
   "cell_type": "code",
   "execution_count": null,
   "id": "democratic-document",
   "metadata": {},
   "outputs": [],
   "source": [
    "mc = MeasurementChain.from_parameters(name=\"Current measurement chain\", \n",
    "                           source_name=\"Current Sensor\", \n",
    "                           source_error=Error(13.37), \n",
    "                           output_signal_type=\"analog\", \n",
    "                           output_signal_unit=\"V\")"
   ]
  },
  {
   "cell_type": "code",
   "execution_count": null,
   "id": "unknown-orchestra",
   "metadata": {},
   "outputs": [],
   "source": [
    "mc.create_transformation(\"AD conversion current measurement\", \n",
    "                      error=Error(0.97), \n",
    "                      func=MathematicalExpression(\"a*x+b\",parameters={\"a\":Q_(1,\"1/V\"), \"b\":Q_(1,\"\")}),\n",
    "                      output_signal_type=\"digital\")"
   ]
  },
  {
   "cell_type": "code",
   "execution_count": null,
   "id": "adequate-river",
   "metadata": {},
   "outputs": [],
   "source": [
    "mc.create_transformation(\"Calibration\", \n",
    "                      error=Error(0.1),\n",
    "                      func=MathematicalExpression(\"a*x\",parameters={\"a\":Q_(1,\"A\")}),\n",
    "                      output_signal_type=\"digital\")"
   ]
  },
  {
   "cell_type": "code",
   "execution_count": null,
   "id": "trying-stations",
   "metadata": {},
   "outputs": [],
   "source": [
    "mc.add_signal_data([1,2,3])"
   ]
  },
  {
   "cell_type": "code",
   "execution_count": null,
   "id": "medical-mistake",
   "metadata": {},
   "outputs": [],
   "source": [
    "mc._graph.edges"
   ]
  },
  {
   "cell_type": "code",
   "execution_count": null,
   "id": "unsigned-estimate",
   "metadata": {},
   "outputs": [],
   "source": [
    "mc._graph.nodes"
   ]
  },
  {
   "cell_type": "code",
   "execution_count": null,
   "id": "tight-initial",
   "metadata": {},
   "outputs": [],
   "source": [
    "mc._graph.edges"
   ]
  },
  {
   "cell_type": "code",
   "execution_count": null,
   "id": "every-luxury",
   "metadata": {},
   "outputs": [],
   "source": [
    "mc.get_signal_data()"
   ]
  },
  {
   "cell_type": "code",
   "execution_count": null,
   "id": "velvet-newton",
   "metadata": {},
   "outputs": [],
   "source": [
    "trf_cal = mc.get_transformation(\"Calibration\")\n",
    "trf_cal"
   ]
  },
  {
   "cell_type": "code",
   "execution_count": null,
   "id": "alternative-rescue",
   "metadata": {},
   "outputs": [],
   "source": [
    "mc_2 = MeasurementChain.from_parameters(name=\"Other measurement chain\", \n",
    "                           source_name=\"Current Sensor\", \n",
    "                           source_error=Error(13.3), \n",
    "                           output_signal_type=\"analog\", \n",
    "                           output_signal_unit=\"V\")"
   ]
  },
  {
   "cell_type": "code",
   "execution_count": null,
   "id": "exact-prospect",
   "metadata": {},
   "outputs": [],
   "source": [
    "#try:\n",
    "#    mc_2.add_transformation(trf_cal)\n",
    "#except ValueError as e:\n",
    "#    print(e)"
   ]
  },
  {
   "cell_type": "code",
   "execution_count": null,
   "id": "robust-oasis",
   "metadata": {},
   "outputs": [],
   "source": [
    "mc_2.add_transformation(mc.get_transformation(\"AD conversion current measurement\"))\n",
    "mc_2.add_transformation(trf_cal)"
   ]
  },
  {
   "cell_type": "code",
   "execution_count": null,
   "id": "early-cruise",
   "metadata": {},
   "outputs": [],
   "source": [
    "mc_2.add_signal_data([1,2])"
   ]
  },
  {
   "cell_type": "code",
   "execution_count": null,
   "id": "cognitive-camera",
   "metadata": {},
   "outputs": [],
   "source": [
    "mc_2.plot()"
   ]
  },
  {
   "cell_type": "code",
   "execution_count": null,
   "id": "geological-implementation",
   "metadata": {},
   "outputs": [],
   "source": []
  }
 ],
 "metadata": {
  "kernelspec": {
   "display_name": "weldx",
   "language": "python",
   "name": "weldx"
  },
  "language_info": {
   "codemirror_mode": {
    "name": "ipython",
    "version": 3
   },
   "file_extension": ".py",
   "mimetype": "text/x-python",
   "name": "python",
   "nbconvert_exporter": "python",
   "pygments_lexer": "ipython3",
   "version": "3.8.8"
  }
 },
 "nbformat": 4,
 "nbformat_minor": 5
}
