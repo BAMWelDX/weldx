{
 "cells": [
  {
   "cell_type": "code",
   "execution_count": 1,
   "metadata": {},
   "outputs": [
    {
     "name": "stdout",
     "output_type": "stream",
     "text": [
      "C:\\Python\\weldx\n"
     ]
    }
   ],
   "source": [
    "cd .."
   ]
  },
  {
   "cell_type": "code",
   "execution_count": 2,
   "metadata": {},
   "outputs": [],
   "source": [
    "%load_ext autoreload\n",
    "%autoreload 2"
   ]
  },
  {
   "cell_type": "code",
   "execution_count": 3,
   "metadata": {},
   "outputs": [],
   "source": [
    "import asdf\n",
    "import xarray as xr\n",
    "import sympy\n",
    "import pint\n",
    "import numpy as np\n",
    "import pandas as pd\n",
    "\n",
    "import weldx\n",
    "\n",
    "from weldx import Q_\n",
    "\n",
    "import weldx.measurement as msm\n",
    "from weldx.asdf.tags.weldx.core.mathematical_expression import MathematicalExpression\n",
    "\n",
    "from weldx.asdf.extension import WeldxAsdfExtension, WeldxExtension"
   ]
  },
  {
   "cell_type": "markdown",
   "metadata": {},
   "source": [
    "## Data"
   ]
  },
  {
   "cell_type": "code",
   "execution_count": 4,
   "metadata": {},
   "outputs": [],
   "source": [
    "def sine(f, amp, t_end, samples=None):\n",
    "    \"\"\"Generate a sine with frequency f, amplitude amp and timespan t_end\"\"\"\n",
    "    if samples is None: # default to 50 samples per period\n",
    "        samples = int((t_end*2*Q_(\"Hz\")*50).to_reduced_units())+1\n",
    "    om = 2*np.pi*f\n",
    "    t = np.linspace(0*Q_(\"s\"),t_end,num=samples)\n",
    "    y = amp * np.sin(t*om)\n",
    "    return y,t"
   ]
  },
  {
   "cell_type": "code",
   "execution_count": 5,
   "metadata": {},
   "outputs": [],
   "source": [
    "I,time = sine(f=1.5*Q_(\"Hz\"), amp=50*Q_(\"A\"), t_end=10*Q_(\"s\"))\n",
    "time = pd.TimedeltaIndex(data=time.magnitude,unit=\"s\")+pd.Timestamp(\"2020-06-01\")\n",
    "\n",
    "current_data = msm.Data(\n",
    "    name=\"Welding current\", data=xr.DataArray(I, dims=[\"time\"],coords={\"time\":time})\n",
    ")"
   ]
  },
  {
   "cell_type": "code",
   "execution_count": 6,
   "metadata": {},
   "outputs": [],
   "source": [
    "V,time = sine(f=1.5*Q_(\"Hz\"), amp=20*Q_(\"V\"), t_end=10*Q_(\"s\"))\n",
    "time = pd.TimedeltaIndex(data=time.magnitude,unit=\"s\")+pd.Timestamp(\"2020-06-01\")\n",
    "\n",
    "voltage_data = msm.Data(\n",
    "    name=\"Welding voltage\", data=xr.DataArray(I, dims=[\"time\"],coords={\"time\":time})\n",
    ")"
   ]
  },
  {
   "cell_type": "markdown",
   "metadata": {},
   "source": [
    "## Software"
   ]
  },
  {
   "cell_type": "code",
   "execution_count": 7,
   "metadata": {},
   "outputs": [],
   "source": [
    "from asdf.tags.core import Software"
   ]
  },
  {
   "cell_type": "code",
   "execution_count": 8,
   "metadata": {},
   "outputs": [],
   "source": [
    "twincat_scope = Software(name = \"Beckhoff TwinCAT ScopeView\", version = \"3.4.3143\")"
   ]
  },
  {
   "cell_type": "markdown",
   "metadata": {},
   "source": [
    "## Equipment"
   ]
  },
  {
   "cell_type": "code",
   "execution_count": 9,
   "metadata": {},
   "outputs": [],
   "source": [
    "HKS_sensor = msm.GenericEquipment(\n",
    "    \"HKS P1000-S3\"\n",
    ")\n",
    "\n",
    "BH_ELM = msm.GenericEquipment(\n",
    "    \"Beckhoff ELM3002-0000\"\n",
    ")"
   ]
  },
  {
   "cell_type": "markdown",
   "metadata": {},
   "source": [
    "## Current measurement"
   ]
  },
  {
   "cell_type": "code",
   "execution_count": 10,
   "metadata": {},
   "outputs": [],
   "source": [
    "src_01 = msm.Source(\n",
    "    name=\"Current Sensor\",\n",
    "    output_signal=msm.Signal(\"analog\", \"V\", data=None),\n",
    "    error=msm.Error(1337.42),\n",
    ")\n",
    "\n",
    "HKS_sensor.sources.append(src_01)\n",
    "\n",
    "# define AD conversion expression and transformation step\n",
    "[a, x, b] = sympy.symbols(\"a x b\")\n",
    "current_ad_func = MathematicalExpression(a * x + b)\n",
    "current_ad_func.set_parameter(\"a\", Q_(32768.0/10.0,\"1/V\"))\n",
    "current_ad_func.set_parameter(\"b\", Q_(0.0,\"\"))\n",
    "\n",
    "current_AD_transform = msm.DataTransformation(\n",
    "    name=\"AD conversion current measurement\",\n",
    "    input_signal=msm.Signal(\"analog\", \"V\", data=None),\n",
    "    output_signal=msm.Signal(\"digital\", \"\", data=None),\n",
    "    error=msm.Error(0.01),\n",
    "    func=current_ad_func,\n",
    ")\n",
    "\n",
    "HKS_sensor.data_transformations.append(current_AD_transform)\n",
    "\n",
    "# define current output calibration expression and transformation\n",
    "current_calib_func = MathematicalExpression(a * x + b)\n",
    "current_calib_func.set_parameter(\"a\", Q_(1000.0/32768.0,\"A\"))\n",
    "current_calib_func.set_parameter(\"b\", Q_(0.0,\"A\"))\n",
    "\n",
    "current_calib = msm.DataTransformation(\n",
    "    name=\"Calibration current measurement\",\n",
    "    input_signal=msm.Signal(\"digital\", \"\", data=None),\n",
    "    output_signal=msm.Signal(\"digital\", \"A\", data=current_data),\n",
    "    error=msm.Error(0.0),\n",
    "    func=current_calib_func,\n",
    "    meta=twincat_scope\n",
    ")\n",
    "\n",
    "HKS_sensor.data_transformations.append(current_calib)\n",
    "\n",
    "welding_current_chain = msm.MeasurementChain(\n",
    "    name=\"welding current measurement\", data_source=src_01, data_processors=[current_AD_transform, current_calib]\n",
    ")\n",
    "\n",
    "welding_current = msm.Measurement(\n",
    "    name=\"welding current measurement\", data=[current_data], measurement_chain=welding_current_chain\n",
    ")"
   ]
  },
  {
   "cell_type": "code",
   "execution_count": 11,
   "metadata": {},
   "outputs": [],
   "source": [
    "src_02 = msm.Source(\n",
    "    name=\"Voltage Sensor\",\n",
    "    output_signal=msm.Signal(\"analog\", \"V\", data=None),\n",
    "    error=msm.Error(1),\n",
    ")\n",
    "\n",
    "HKS_sensor.sources.append(src_02)\n",
    "\n",
    "# define AD conversion expression and transformation step\n",
    "[a, x, b] = sympy.symbols(\"a x b\")\n",
    "voltage_ad_func = MathematicalExpression(a * x + b)\n",
    "voltage_ad_func.set_parameter(\"a\", Q_(32768.0/10.0,\"1/V\"))\n",
    "voltage_ad_func.set_parameter(\"b\", Q_(0.0,\"\"))\n",
    "\n",
    "voltage_AD_transform = msm.DataTransformation(\n",
    "    name=\"AD conversion voltage measurement\",\n",
    "    input_signal=msm.Signal(\"analog\", \"V\", data=None),\n",
    "    output_signal=msm.Signal(\"digital\", \"\", data=None),\n",
    "    error=msm.Error(0.01),\n",
    "    func=voltage_ad_func,\n",
    ")\n",
    "\n",
    "HKS_sensor.data_transformations.append(voltage_AD_transform)\n",
    "\n",
    "# define current output calibration expression and transformation\n",
    "voltage_calib_func = MathematicalExpression(a * x + b)\n",
    "voltage_calib_func.set_parameter(\"a\", Q_(100.0/32768.0,\"V\"))\n",
    "voltage_calib_func.set_parameter(\"b\", Q_(0.0,\"V\"))\n",
    "\n",
    "voltage_calib = msm.DataTransformation(\n",
    "    name=\"Calibration voltage measurement\",\n",
    "    input_signal=msm.Signal(\"digital\", \"\", data=None),\n",
    "    output_signal=msm.Signal(\"digital\", \"V\", data=voltage_data),\n",
    "    error=msm.Error(0.0),\n",
    "    func=voltage_calib_func,\n",
    "    meta=twincat_scope\n",
    ")\n",
    "\n",
    "HKS_sensor.data_transformations.append(current_calib)\n",
    "\n",
    "\n",
    "welding_voltage_chain = msm.MeasurementChain(\n",
    "    name=\"welding voltage measurement\", data_source=src_02, data_processors=[voltage_AD_transform, voltage_calib]\n",
    ")\n",
    "\n",
    "welding_voltage = msm.Measurement(\n",
    "    name=\"welding voltage measurement\", data=[voltage_data], measurement_chain=welding_current_chain\n",
    ")"
   ]
  },
  {
   "cell_type": "code",
   "execution_count": 12,
   "metadata": {},
   "outputs": [],
   "source": [
    "equipment = [HKS_sensor, BH_ELM]\n",
    "measurements = [welding_current, welding_voltage]\n",
    "\n",
    "tree = {\n",
    "    \"equipment\": equipment,\n",
    "    #\"data\": measurement_data,\n",
    "    \"measurements\": measurements,\n",
    "    #\"expression\": expr_01,\n",
    "    # \"measurement_chains\": measurement_chains,\n",
    "    # \"data_sources\": sources,\n",
    "    # \"data_processors\": processors,\n",
    "}\n",
    "with asdf.AsdfFile(tree, extensions=[WeldxExtension(), WeldxAsdfExtension()]) as f:\n",
    "    f.write_to(\"notebooks/measurement_example.asdf\")"
   ]
  },
  {
   "cell_type": "code",
   "execution_count": 13,
   "metadata": {},
   "outputs": [
    {
     "data": {
      "text/html": [
       "\\[9830.400000000001\\ dimensionless\\]"
      ],
      "text/latex": [
       "$9830.400000000001\\ dimensionless$"
      ],
      "text/plain": [
       "9830.400000000001 <Unit('dimensionless')>"
      ]
     },
     "execution_count": 13,
     "metadata": {},
     "output_type": "execute_result"
    }
   ],
   "source": [
    "f =  asdf.open(\"notebooks/measurement_example.yaml\", extensions=[WeldxExtension(), WeldxAsdfExtension()])\n",
    "f.tree[\"measurements\"][1].measurement_chain.data_processors[0].func.evaluate(x=Q_(3,\"V\"))"
   ]
  },
  {
   "cell_type": "code",
   "execution_count": 16,
   "metadata": {},
   "outputs": [
    {
     "data": {
      "text/html": [
       "\\[9830.400000000001\\ dimensionless\\]"
      ],
      "text/latex": [
       "$9830.400000000001\\ dimensionless$"
      ],
      "text/plain": [
       "9830.400000000001 <Unit('dimensionless')>"
      ]
     },
     "execution_count": 16,
     "metadata": {},
     "output_type": "execute_result"
    }
   ],
   "source": [
    "f.tree[\"measurements\"][0].measurement_chain.data_processors[0].func.evaluate(x=Q_(3,\"V\"))"
   ]
  },
  {
   "cell_type": "code",
   "execution_count": null,
   "metadata": {},
   "outputs": [],
   "source": []
  }
 ],
 "metadata": {
  "kernelspec": {
   "display_name": "weldx",
   "language": "python",
   "name": "weldx"
  },
  "language_info": {
   "codemirror_mode": {
    "name": "ipython",
    "version": 3
   },
   "file_extension": ".py",
   "mimetype": "text/x-python",
   "name": "python",
   "nbconvert_exporter": "python",
   "pygments_lexer": "ipython3",
   "version": "3.7.7"
  }
 },
 "nbformat": 4,
 "nbformat_minor": 4
}
