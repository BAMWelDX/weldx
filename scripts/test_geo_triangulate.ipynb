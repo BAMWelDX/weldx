{
 "cells": [
  {
   "cell_type": "code",
   "execution_count": null,
   "id": "polished-speaking",
   "metadata": {
    "nbsphinx": "hidden"
   },
   "outputs": [],
   "source": [
    "# if the package is not installed in your python environment, run this to execute the notebook directly from inside the GitHub repository\n",
    "%cd -q .."
   ]
  },
  {
   "cell_type": "code",
   "execution_count": null,
   "id": "colonial-kazakhstan",
   "metadata": {},
   "outputs": [],
   "source": [
    "# some python imports that will be used throughout the tutorial\n",
    "import numpy as np\n",
    "import pandas as pd\n",
    "import pint\n",
    "import xarray as xr"
   ]
  },
  {
   "cell_type": "code",
   "execution_count": null,
   "id": "binding-belief",
   "metadata": {},
   "outputs": [],
   "source": [
    "# importing the weldx package with prevalent default abbreviations\n",
    "import weldx\n",
    "import weldx.geometry as geo\n",
    "import weldx.transformations as tf\n",
    "import weldx.utility as ut\n",
    "import weldx.visualization as vis\n",
    "from weldx import Q_"
   ]
  },
  {
   "cell_type": "markdown",
   "id": "skilled-preview",
   "metadata": {},
   "source": [
    "### groove shape"
   ]
  },
  {
   "cell_type": "code",
   "execution_count": null,
   "id": "dutch-source",
   "metadata": {},
   "outputs": [],
   "source": [
    "from weldx.welding.groove.iso_9692_1 import get_groove\n",
    "\n",
    "groove = get_groove(\n",
    "    groove_type=\"VGroove\",\n",
    "    workpiece_thickness=Q_(0.5, \"cm\"),\n",
    "    groove_angle=Q_(50, \"deg\"),\n",
    "    root_face=Q_(1, \"mm\"),\n",
    "    root_gap=Q_(1, \"mm\"),\n",
    ")"
   ]
  },
  {
   "cell_type": "markdown",
   "id": "advance-suspension",
   "metadata": {},
   "source": [
    "### workpiece geometry"
   ]
  },
  {
   "cell_type": "code",
   "execution_count": null,
   "id": "mineral-coral",
   "metadata": {},
   "outputs": [],
   "source": [
    "# define the weld seam length in mm\n",
    "seam_length = 100\n",
    "\n",
    "# create a linear trace segment a the complete weld seam trace\n",
    "trace_segment = geo.LinearHorizontalTraceSegment(seam_length)\n",
    "trace = geo.Trace(trace_segment)\n",
    "\n",
    "# create 3d workpiece geometry from the groove profile and trace objects\n",
    "geometry = geo.Geometry(groove.to_profile(width_default=Q_(50, \"mm\")), trace)\n",
    "\n",
    "# rasterize geometry\n",
    "profile_raster_width = 0.5  # resolution of each profile in mm\n",
    "trace_raster_width = 15  # space between profiles in mm\n",
    "geometry_data_sp = geometry.rasterize(\n",
    "    profile_raster_width=profile_raster_width, trace_raster_width=trace_raster_width\n",
    ")"
   ]
  },
  {
   "cell_type": "markdown",
   "id": "unusual-scratch",
   "metadata": {},
   "source": [
    "## Test rasterization"
   ]
  },
  {
   "cell_type": "code",
   "execution_count": null,
   "id": "chubby-experiment",
   "metadata": {},
   "outputs": [],
   "source": [
    "geos = geometry.rasterize(\n",
    "    profile_raster_width=profile_raster_width,\n",
    "    trace_raster_width=trace_raster_width,\n",
    "    stack=False,\n",
    ")"
   ]
  },
  {
   "cell_type": "code",
   "execution_count": null,
   "id": "aware-rehabilitation",
   "metadata": {},
   "outputs": [],
   "source": [
    "def triangulate_geometry(geo_data):\n",
    "    nx = geo_data.shape[2]  # Points per profile\n",
    "    ny = geo_data.shape[0]  # number of profiles\n",
    "\n",
    "    data = np.swapaxes(geo_data, 1, 2).reshape((-1, 3))\n",
    "    triangle_indices = np.empty((ny - 1, nx - 1, 2, 3), dtype=int)\n",
    "    r = np.arange(nx * ny).reshape(ny, nx)\n",
    "    triangle_indices[:, :, 0, 0] = r[:-1, :-1]\n",
    "    triangle_indices[:, :, 1, 0] = r[:-1, 1:]\n",
    "    triangle_indices[:, :, 0, 1] = r[:-1, 1:]\n",
    "\n",
    "    triangle_indices[:, :, 1, 1] = r[1:, 1:]\n",
    "    triangle_indices[:, :, :, 2] = r[1:, :-1, None]\n",
    "    triangle_indices.shape = (-1, 3)\n",
    "\n",
    "    return data, triangle_indices"
   ]
  },
  {
   "cell_type": "code",
   "execution_count": null,
   "id": "domestic-permission",
   "metadata": {},
   "outputs": [],
   "source": [
    "data, triangle_indices = triangulate_geometry(geos[0])\n",
    "print(data.shape)\n",
    "print(triangle_indices)"
   ]
  },
  {
   "cell_type": "code",
   "execution_count": null,
   "id": "agreed-extraction",
   "metadata": {},
   "outputs": [],
   "source": [
    "from ipygany import Component, IsoColor, PolyMesh, Scene, Threshold, Warp\n",
    "\n",
    "\n",
    "def ipygany_meshes(geo_list):\n",
    "    meshes = []\n",
    "    for geo_data in geo_list:\n",
    "        data, triangle_indices = triangulate_geometry(geo_data)\n",
    "        meshes.append(\n",
    "            PolyMesh(\n",
    "                vertices=data,\n",
    "                triangle_indices=triangle_indices,\n",
    "            )\n",
    "        )\n",
    "    return meshes"
   ]
  },
  {
   "cell_type": "code",
   "execution_count": null,
   "id": "varying-romance",
   "metadata": {},
   "outputs": [],
   "source": [
    "meshes = ipygany_meshes(geos)\n",
    "Scene(meshes)"
   ]
  }
 ],
 "metadata": {
  "kernelspec": {
   "display_name": "weldx",
   "language": "python",
   "name": "weldx"
  },
  "language_info": {
   "codemirror_mode": {
    "name": "ipython",
    "version": 3
   },
   "file_extension": ".py",
   "mimetype": "text/x-python",
   "name": "python",
   "nbconvert_exporter": "python",
   "pygments_lexer": "ipython3",
   "version": "3.7.9"
  }
 },
 "nbformat": 4,
 "nbformat_minor": 5
}
