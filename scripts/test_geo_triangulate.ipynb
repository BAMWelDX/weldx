{
 "cells": [
  {
   "cell_type": "code",
   "execution_count": null,
   "id": "personalized-blank",
   "metadata": {
    "nbsphinx": "hidden"
   },
   "outputs": [],
   "source": [
    "# if the package is not installed in your python environment, run this to execute the notebook directly from inside the GitHub repository\n",
    "%cd -q .."
   ]
  },
  {
   "cell_type": "code",
   "execution_count": null,
   "id": "affecting-deposit",
   "metadata": {},
   "outputs": [],
   "source": [
    "%load_ext autoreload\n",
    "%autoreload 2"
   ]
  },
  {
   "cell_type": "code",
   "execution_count": null,
   "id": "statutory-engineering",
   "metadata": {},
   "outputs": [],
   "source": [
    "# some python imports that will be used throughout the tutorial\n",
    "import numpy as np\n",
    "import pandas as pd\n",
    "import pint\n",
    "import xarray as xr"
   ]
  },
  {
   "cell_type": "code",
   "execution_count": null,
   "id": "champion-poland",
   "metadata": {},
   "outputs": [],
   "source": [
    "# importing the weldx package with prevalent default abbreviations\n",
    "import weldx\n",
    "import weldx.geometry as geo\n",
    "import weldx.transformations as tf\n",
    "import weldx.utility as ut\n",
    "import weldx.visualization as vis\n",
    "from weldx import Q_"
   ]
  },
  {
   "cell_type": "markdown",
   "id": "designed-assistant",
   "metadata": {},
   "source": [
    "### groove shape"
   ]
  },
  {
   "cell_type": "code",
   "execution_count": null,
   "id": "interpreted-plenty",
   "metadata": {},
   "outputs": [],
   "source": [
    "from weldx.welding.groove.iso_9692_1 import get_groove\n",
    "\n",
    "groove = get_groove(\n",
    "    groove_type=\"VGroove\",\n",
    "    workpiece_thickness=Q_(0.5, \"cm\"),\n",
    "    groove_angle=Q_(50, \"deg\"),\n",
    "    root_face=Q_(1, \"mm\"),\n",
    "    root_gap=Q_(1, \"mm\"),\n",
    ")"
   ]
  },
  {
   "cell_type": "markdown",
   "id": "spanish-aquatic",
   "metadata": {},
   "source": [
    "### workpiece geometry"
   ]
  },
  {
   "cell_type": "code",
   "execution_count": null,
   "id": "protected-reconstruction",
   "metadata": {},
   "outputs": [],
   "source": [
    "# define the weld seam length in mm\n",
    "seam_length = 100\n",
    "\n",
    "# create a linear trace segment a the complete weld seam trace\n",
    "trace_segment = geo.LinearHorizontalTraceSegment(seam_length)\n",
    "trace = geo.Trace(trace_segment)\n",
    "\n",
    "# create 3d workpiece geometry from the groove profile and trace objects\n",
    "geometry = geo.Geometry(groove.to_profile(width_default=Q_(50, \"mm\")), trace)\n",
    "\n",
    "# rasterize geometry\n",
    "profile_raster_width = 0.5  # resolution of each profile in mm\n",
    "trace_raster_width = 15  # space between profiles in mm\n",
    "geometry_data_sp = geometry.rasterize(\n",
    "    profile_raster_width=profile_raster_width, trace_raster_width=trace_raster_width\n",
    ")"
   ]
  },
  {
   "cell_type": "markdown",
   "id": "cooperative-archives",
   "metadata": {},
   "source": [
    "## Test rasterization"
   ]
  },
  {
   "cell_type": "code",
   "execution_count": null,
   "id": "biological-sample",
   "metadata": {},
   "outputs": [],
   "source": [
    "geos = geometry.rasterize(\n",
    "    profile_raster_width=profile_raster_width,\n",
    "    trace_raster_width=trace_raster_width,\n",
    "    stack=False,\n",
    ")"
   ]
  },
  {
   "cell_type": "code",
   "execution_count": null,
   "id": "better-redhead",
   "metadata": {},
   "outputs": [],
   "source": [
    "data, triangle_indices = ut._triangulate_geometry(geos[0])"
   ]
  },
  {
   "cell_type": "code",
   "execution_count": null,
   "id": "educated-penalty",
   "metadata": {},
   "outputs": [],
   "source": [
    "geo.PointCloud(*ut._triangulate_geometry(geos[0]))"
   ]
  },
  {
   "cell_type": "code",
   "execution_count": null,
   "id": "suburban-burlington",
   "metadata": {},
   "outputs": [],
   "source": [
    "ptc_list = [geo.PointCloud.from_geometry_raster(g) for g in geos]"
   ]
  },
  {
   "cell_type": "code",
   "execution_count": null,
   "id": "norwegian-reservoir",
   "metadata": {},
   "outputs": [],
   "source": [
    "data, triangle_indices = ut._triangulate_geometry(geos[0])\n",
    "print(ptc_list[0].coordinates.shape)\n",
    "print(ptc_list[0].triangles.shape)"
   ]
  },
  {
   "cell_type": "markdown",
   "id": "sustained-peace",
   "metadata": {},
   "source": [
    "## k3d plot"
   ]
  },
  {
   "cell_type": "code",
   "execution_count": null,
   "id": "elder-waters",
   "metadata": {},
   "outputs": [],
   "source": [
    "import k3d\n",
    "\n",
    "plot = k3d.plot()\n",
    "for ptc in ptc_list:\n",
    "    plot += k3d.mesh(\n",
    "        ptc.coordinates.flatten().astype(\"float32\"),\n",
    "        ptc.triangles.flatten().astype(\"uint32\"),\n",
    "    )\n",
    "plot.display()"
   ]
  },
  {
   "cell_type": "markdown",
   "id": "atmospheric-editor",
   "metadata": {},
   "source": [
    "## ipygany plot"
   ]
  },
  {
   "cell_type": "code",
   "execution_count": null,
   "id": "appropriate-ukraine",
   "metadata": {},
   "outputs": [],
   "source": [
    "from ipygany import Component, IsoColor, PolyMesh, Scene, Threshold, Warp\n",
    "\n",
    "\n",
    "def ipygany_meshes(ptc_list):\n",
    "    meshes = [\n",
    "        PolyMesh(vertices=ptc.coordinates, triangle_indices=ptc.triangles)\n",
    "        for ptc in ptc_list\n",
    "    ]\n",
    "    return meshes"
   ]
  },
  {
   "cell_type": "code",
   "execution_count": null,
   "id": "minor-writing",
   "metadata": {},
   "outputs": [],
   "source": [
    "meshes = ipygany_meshes(ptc_list)\n",
    "Scene(meshes)"
   ]
  }
 ],
 "metadata": {
  "kernelspec": {
   "display_name": "weldx",
   "language": "python",
   "name": "weldx"
  },
  "language_info": {
   "codemirror_mode": {
    "name": "ipython",
    "version": 3
   },
   "file_extension": ".py",
   "mimetype": "text/x-python",
   "name": "python",
   "nbconvert_exporter": "python",
   "pygments_lexer": "ipython3",
   "version": "3.7.9"
  }
 },
 "nbformat": 4,
 "nbformat_minor": 5
}
