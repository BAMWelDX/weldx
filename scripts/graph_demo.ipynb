{
 "cells": [
  {
   "cell_type": "markdown",
   "id": "intense-candidate",
   "metadata": {},
   "source": [
    "# Graph"
   ]
  },
  {
   "cell_type": "code",
   "execution_count": null,
   "id": "handed-madison",
   "metadata": {},
   "outputs": [],
   "source": [
    "%cd -q .."
   ]
  },
  {
   "cell_type": "code",
   "execution_count": null,
   "id": "loving-bubble",
   "metadata": {},
   "outputs": [],
   "source": [
    "%load_ext autoreload\n",
    "%autoreload 2"
   ]
  },
  {
   "cell_type": "code",
   "execution_count": null,
   "id": "liberal-flower",
   "metadata": {},
   "outputs": [],
   "source": [
    "import uuid\n",
    "\n",
    "import networkx as nx\n",
    "import weldx\n",
    "from weldx.asdf.tags.weldx.core.graph import (\n",
    "    MeasurementChain,\n",
    "    SignalClass,\n",
    "    SignalTransform,\n",
    ")"
   ]
  },
  {
   "cell_type": "markdown",
   "id": "invalid-tucson",
   "metadata": {},
   "source": [
    "## Minimal example"
   ]
  },
  {
   "cell_type": "code",
   "execution_count": null,
   "id": "royal-challenge",
   "metadata": {},
   "outputs": [],
   "source": [
    "# minimal example\n",
    "G = nx.DiGraph()\n",
    "G.add_nodes_from((\"A\", \"B\", \"C\"))\n",
    "G.add_edges_from([(\"A\", \"B\"), (\"C\", \"B\")])\n",
    "buff = weldx.asdf.util.write_buffer(dict(graph=G))\n",
    "weldx.asdf.util.notebook_fileprinter(buff)"
   ]
  },
  {
   "cell_type": "code",
   "execution_count": null,
   "id": "enabling-commercial",
   "metadata": {},
   "outputs": [],
   "source": [
    "weldx.asdf.util.asdf_json_repr(buff)"
   ]
  },
  {
   "cell_type": "markdown",
   "id": "delayed-minnesota",
   "metadata": {},
   "source": [
    "## cycle example"
   ]
  },
  {
   "cell_type": "code",
   "execution_count": null,
   "id": "infrared-recording",
   "metadata": {},
   "outputs": [],
   "source": [
    "# minimal example\n",
    "G = nx.DiGraph()\n",
    "G.add_nodes_from((\"A\", \"B\", \"C\", \"D\"))\n",
    "G.add_edges_from([(\"B\", \"C\"), (\"A\", \"B\"), (\"C\", \"D\"), (\"D\", \"B\")])\n",
    "buff = weldx.asdf.util.write_buffer(dict(graph=G))\n",
    "nx.draw(G, with_labels=True)\n",
    "weldx.asdf.util.notebook_fileprinter(buff)"
   ]
  },
  {
   "cell_type": "code",
   "execution_count": null,
   "id": "numerical-scholarship",
   "metadata": {},
   "outputs": [],
   "source": [
    "tree = weldx.asdf.util.read_buffer(buff)\n",
    "G2 = tree[\"graph\"]\n",
    "nx.draw(G2, with_labels=True)"
   ]
  },
  {
   "cell_type": "markdown",
   "id": "loaded-trunk",
   "metadata": {},
   "source": [
    "### complex example"
   ]
  },
  {
   "cell_type": "code",
   "execution_count": null,
   "id": "instant-grove",
   "metadata": {},
   "outputs": [],
   "source": [
    "rid = uuid.uuid4()\n",
    "\n",
    "G = nx.DiGraph()\n",
    "G.add_edges_from(\n",
    "    [(\"A\", \"B\"), (\"A\", \"C\"), (\"A\", \"F\"), (\"D\", \"C\"), (\"B\", \"H\"), (\"X\", \"A\"), (rid, \"D\")]\n",
    ")\n",
    "nx.draw(G, with_labels=True)\n",
    "buff = weldx.asdf.util.write_buffer(dict(graph=G))\n",
    "weldx.asdf.util.asdf_json_repr(buff, (\"graph\",))"
   ]
  },
  {
   "cell_type": "markdown",
   "id": "robust-allen",
   "metadata": {},
   "source": [
    "## Measurement Example"
   ]
  },
  {
   "cell_type": "code",
   "execution_count": null,
   "id": "friendly-latino",
   "metadata": {},
   "outputs": [],
   "source": [
    "rid = uuid.uuid4()\n",
    "\n",
    "G = nx.DiGraph()\n",
    "G.add_edges_from([(\"A\", \"B\"), (\"B\", \"C\"), (\"C\", \"D\")])\n",
    "nx.draw(G, with_labels=True)"
   ]
  },
  {
   "cell_type": "code",
   "execution_count": null,
   "id": "standard-medline",
   "metadata": {},
   "outputs": [],
   "source": [
    "signal = SignalClass(\"The Signal\", 12.3)\n",
    "nx.set_node_attributes(G, signal, \"signal\")"
   ]
  },
  {
   "cell_type": "code",
   "execution_count": null,
   "id": "seasonal-initial",
   "metadata": {},
   "outputs": [],
   "source": [
    "signal_transform = SignalTransform(func=\"a*b + c\")\n",
    "nx.set_edge_attributes(G, signal_transform, \"signal_transform\")"
   ]
  },
  {
   "cell_type": "code",
   "execution_count": null,
   "id": "hydraulic-worker",
   "metadata": {},
   "outputs": [],
   "source": [
    "m = MeasurementChain(graph=G)"
   ]
  },
  {
   "cell_type": "code",
   "execution_count": null,
   "id": "declared-medication",
   "metadata": {},
   "outputs": [],
   "source": [
    "buff = weldx.asdf.util.write_buffer(dict(measurement_chain=m))\n",
    "weldx.asdf.util.asdf_json_repr(buff, (\"measurement_chain\",))"
   ]
  },
  {
   "cell_type": "code",
   "execution_count": null,
   "id": "directed-conversation",
   "metadata": {},
   "outputs": [],
   "source": [
    "weldx.asdf.util.notebook_fileprinter(buff)"
   ]
  },
  {
   "cell_type": "code",
   "execution_count": null,
   "id": "unsigned-phoenix",
   "metadata": {},
   "outputs": [],
   "source": [
    "tree = weldx.asdf.util.read_buffer(buff)\n",
    "G2 = tree[\"measurement_chain\"].graph"
   ]
  },
  {
   "cell_type": "code",
   "execution_count": null,
   "id": "instrumental-particular",
   "metadata": {},
   "outputs": [],
   "source": [
    "assert all([e in G.edges for e in G2.edges])\n",
    "assert all([n in G.nodes for n in G2.nodes])"
   ]
  },
  {
   "cell_type": "code",
   "execution_count": null,
   "id": "authorized-heading",
   "metadata": {},
   "outputs": [],
   "source": [
    "for node in G:\n",
    "    assert G.nodes[node] == G2.nodes[node]"
   ]
  },
  {
   "cell_type": "code",
   "execution_count": null,
   "id": "confirmed-definition",
   "metadata": {},
   "outputs": [],
   "source": [
    "for edge in G.edges:\n",
    "    assert G.edges[edge] == G2.edges[edge]"
   ]
  },
  {
   "cell_type": "code",
   "execution_count": null,
   "id": "welcome-strand",
   "metadata": {},
   "outputs": [],
   "source": []
  }
 ],
 "metadata": {
  "kernelspec": {
   "display_name": "weldx",
   "language": "python",
   "name": "weldx"
  },
  "language_info": {
   "codemirror_mode": {
    "name": "ipython",
    "version": 3
   },
   "file_extension": ".py",
   "mimetype": "text/x-python",
   "name": "python",
   "nbconvert_exporter": "python",
   "pygments_lexer": "ipython3",
   "version": "3.8.8"
  }
 },
 "nbformat": 4,
 "nbformat_minor": 5
}
