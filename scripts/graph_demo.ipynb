{
 "cells": [
  {
   "cell_type": "markdown",
   "id": "utility-electricity",
   "metadata": {},
   "source": [
    "# Graph"
   ]
  },
  {
   "cell_type": "code",
   "execution_count": null,
   "id": "loose-spare",
   "metadata": {},
   "outputs": [],
   "source": [
    "%cd -q .."
   ]
  },
  {
   "cell_type": "code",
   "execution_count": null,
   "id": "first-cream",
   "metadata": {},
   "outputs": [],
   "source": [
    "%load_ext autoreload\n",
    "%autoreload 2"
   ]
  },
  {
   "cell_type": "code",
   "execution_count": null,
   "id": "august-banner",
   "metadata": {},
   "outputs": [],
   "source": [
    "import uuid\n",
    "\n",
    "import networkx as nx\n",
    "\n",
    "import weldx\n",
    "from weldx.asdf.tags.weldx.core.graph import (\n",
    "    MeasurementChain,\n",
    "    SignalClass,\n",
    "    SignalTransform,\n",
    ")"
   ]
  },
  {
   "cell_type": "markdown",
   "id": "binary-compiler",
   "metadata": {},
   "source": [
    "## Minimal example"
   ]
  },
  {
   "cell_type": "code",
   "execution_count": null,
   "id": "critical-funeral",
   "metadata": {},
   "outputs": [],
   "source": [
    "# minimal example\n",
    "G = nx.DiGraph()\n",
    "G.add_nodes_from((\"A\",\"B\",\"C\"))\n",
    "G.add_edges_from(\n",
    "    [(\"C\", \"B\"), (\"B\", \"A\")]\n",
    ")\n",
    "buff = weldx.asdf.util.write_buffer(dict(graph=G))\n",
    "weldx.asdf.util.notebook_fileprinter(buff)"
   ]
  },
  {
   "cell_type": "markdown",
   "id": "based-allah",
   "metadata": {},
   "source": [
    "## cycle example"
   ]
  },
  {
   "cell_type": "code",
   "execution_count": null,
   "id": "royal-addition",
   "metadata": {},
   "outputs": [],
   "source": [
    "# minimal example\n",
    "G = nx.DiGraph()\n",
    "G.add_nodes_from((\"A\",\"B\",\"C\"))\n",
    "G.add_edges_from(\n",
    "    [(\"C\", \"B\"), (\"B\", \"A\"),(\"C\",\"A\")]\n",
    ")\n",
    "buff = weldx.asdf.util.write_buffer(dict(graph=G))\n",
    "weldx.asdf.util.notebook_fileprinter(buff)"
   ]
  },
  {
   "cell_type": "markdown",
   "id": "variable-saver",
   "metadata": {},
   "source": [
    "### complex example"
   ]
  },
  {
   "cell_type": "code",
   "execution_count": null,
   "id": "mounted-savings",
   "metadata": {},
   "outputs": [],
   "source": [
    "rid = uuid.uuid4()\n",
    "\n",
    "G = nx.DiGraph()\n",
    "G.add_edges_from(\n",
    "    [(\"A\", \"B\"), (\"A\", \"C\"), (\"A\", \"F\"), (\"D\", \"C\"), (\"B\", \"H\"), (\"X\", \"A\"), (rid, \"D\")]\n",
    ")\n",
    "nx.draw(G, with_labels=True)\n",
    "buff = weldx.asdf.util.write_buffer(dict(graph=G))\n",
    "weldx.asdf.util.asdf_json_repr(buff, (\"graph\",))"
   ]
  },
  {
   "cell_type": "markdown",
   "id": "plastic-indication",
   "metadata": {},
   "source": [
    "## Measurement Example"
   ]
  },
  {
   "cell_type": "code",
   "execution_count": null,
   "id": "tight-packaging",
   "metadata": {},
   "outputs": [],
   "source": [
    "rid = uuid.uuid4()\n",
    "\n",
    "G = nx.DiGraph()\n",
    "G.add_edges_from(\n",
    "    [(\"A\", \"B\"), (\"B\", \"C\"), (\"C\", \"D\")]\n",
    ")\n",
    "nx.draw(G, with_labels=True)"
   ]
  },
  {
   "cell_type": "code",
   "execution_count": null,
   "id": "viral-campaign",
   "metadata": {},
   "outputs": [],
   "source": [
    "signal = SignalClass(\"The Signal\", 12.3)\n",
    "nx.set_node_attributes(G, signal, \"signal\")"
   ]
  },
  {
   "cell_type": "code",
   "execution_count": null,
   "id": "genetic-arlington",
   "metadata": {},
   "outputs": [],
   "source": [
    "signal_transform = SignalTransform(func=\"a*b + c\")\n",
    "nx.set_edge_attributes(G, signal_transform, \"signal_transform\")"
   ]
  },
  {
   "cell_type": "code",
   "execution_count": null,
   "id": "modern-waters",
   "metadata": {},
   "outputs": [],
   "source": [
    "m = MeasurementChain(graph=G)"
   ]
  },
  {
   "cell_type": "code",
   "execution_count": null,
   "id": "billion-conversation",
   "metadata": {},
   "outputs": [],
   "source": [
    "buff = weldx.asdf.util.write_buffer(dict(measurement_chain=m))\n",
    "weldx.asdf.util.asdf_json_repr(buff, (\"measurement_chain\",))"
   ]
  },
  {
   "cell_type": "code",
   "execution_count": null,
   "id": "diverse-journey",
   "metadata": {},
   "outputs": [],
   "source": [
    "weldx.asdf.util.notebook_fileprinter(buff)"
   ]
  },
  {
   "cell_type": "code",
   "execution_count": null,
   "id": "under-revelation",
   "metadata": {},
   "outputs": [],
   "source": [
    "tree = weldx.asdf.util.read_buffer(buff)"
   ]
  },
  {
   "cell_type": "code",
   "execution_count": null,
   "id": "permanent-velvet",
   "metadata": {},
   "outputs": [],
   "source": [
    "assert all([e in G.edges for e in G2.edges])\n",
    "assert all([n in G.nodes for n in G2.nodes])"
   ]
  },
  {
   "cell_type": "code",
   "execution_count": null,
   "id": "uniform-limitation",
   "metadata": {},
   "outputs": [],
   "source": [
    "for node in G:\n",
    "    assert G.nodes[node] == G2.nodes[node]"
   ]
  },
  {
   "cell_type": "code",
   "execution_count": null,
   "id": "divine-arrangement",
   "metadata": {},
   "outputs": [],
   "source": [
    "for edge in G.edges:\n",
    "    assert G.edges[edge] == G2.edges[edge]"
   ]
  }
 ],
 "metadata": {
  "kernelspec": {
   "display_name": "weldx (3.8)",
   "language": "python",
   "name": "weldx"
  },
  "language_info": {
   "codemirror_mode": {
    "name": "ipython",
    "version": 3
   },
   "file_extension": ".py",
   "mimetype": "text/x-python",
   "name": "python",
   "nbconvert_exporter": "python",
   "pygments_lexer": "ipython3",
   "version": "3.8.8"
  }
 },
 "nbformat": 4,
 "nbformat_minor": 5
}
