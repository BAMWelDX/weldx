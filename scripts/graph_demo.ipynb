{
 "cells": [
  {
   "cell_type": "markdown",
   "id": "indonesian-tobacco",
   "metadata": {},
   "source": [
    "# Graph"
   ]
  },
  {
   "cell_type": "code",
   "execution_count": 1,
   "id": "binding-fruit",
   "metadata": {},
   "outputs": [],
   "source": [
    "%cd -q .."
   ]
  },
  {
   "cell_type": "code",
   "execution_count": 2,
   "id": "thrown-actress",
   "metadata": {},
   "outputs": [],
   "source": [
    "import networkx as nx\n",
    "\n",
    "import weldx\n",
    "from weldx.asdf.tags.weldx.core.graph import (\n",
    "    MeasurementChain,\n",
    "    SignalClass,\n",
    "    SignalTransform,\n",
    ")"
   ]
  },
  {
   "cell_type": "code",
   "execution_count": 3,
   "id": "modern-planner",
   "metadata": {},
   "outputs": [
    {
     "data": {
      "image/png": "[encoded data removed]",
      "text/plain": [
       "<Figure size 432x288 with 1 Axes>"
      ]
     },
     "metadata": {},
     "output_type": "display_data"
    }
   ],
   "source": [
    "G = nx.DiGraph()\n",
    "G.add_edges_from(\n",
    "    [(\"A\", \"B\"), (\"A\", \"C\"), (\"A\", \"F\"), (\"D\", \"C\"), (\"B\", \"H\"), (\"X\", \"A\")]\n",
    ")\n",
    "nx.draw(G, with_labels=True)"
   ]
  },
  {
   "cell_type": "code",
   "execution_count": 4,
   "id": "renewable-competition",
   "metadata": {},
   "outputs": [],
   "source": [
    "signal = SignalClass(\"The Signal\", 12.3)\n",
    "nx.set_node_attributes(G, signal, \"signal\")"
   ]
  },
  {
   "cell_type": "code",
   "execution_count": 5,
   "id": "korean-updating",
   "metadata": {},
   "outputs": [],
   "source": [
    "signal_transform = SignalTransform(func=\"a*b + c\")\n",
    "nx.set_edge_attributes(G, signal_transform, \"signal_transform\")"
   ]
  },
  {
   "cell_type": "code",
   "execution_count": 6,
   "id": "improved-armor",
   "metadata": {},
   "outputs": [],
   "source": [
    "m = MeasurementChain(graph=G)"
   ]
  },
  {
   "cell_type": "code",
   "execution_count": 7,
   "id": "promotional-contact",
   "metadata": {},
   "outputs": [
    {
     "data": {
      "application/json": {
       "root_node": {
        "attributes": {
         "signal": {
          "name": "The Signal",
          "value": "12.3"
         }
        },
        "edges": [
         {
          "attributes": {
           "signal_transform": {
            "func": "a*b + c"
           }
          },
          "target_node": {
           "attributes": {
            "signal": {
             "name": "The Signal",
             "value": "12.3"
            }
           },
           "edges": [
            {
             "attributes": {
              "signal_transform": {
               "func": "a*b + c"
              }
             },
             "target_node": {
              "attributes": {
               "signal": {
                "name": "The Signal",
                "value": "12.3"
               }
              },
              "edges": [],
              "name": "H"
             }
            }
           ],
           "name": "B"
          }
         },
         {
          "attributes": {
           "signal_transform": {
            "func": "a*b + c"
           }
          },
          "target_node": {
           "attributes": {
            "signal": {
             "name": "The Signal",
             "value": "12.3"
            }
           },
           "edges": [
            {
             "attributes": {
              "signal_transform": {
               "func": "a*b + c"
              }
             },
             "inverted": "true",
             "target_node": {
              "attributes": {
               "signal": {
                "name": "The Signal",
                "value": "12.3"
               }
              },
              "edges": [],
              "name": "D"
             }
            }
           ],
           "name": "C"
          }
         },
         {
          "attributes": {
           "signal_transform": {
            "func": "a*b + c"
           }
          },
          "target_node": {
           "attributes": {
            "signal": {
             "name": "The Signal",
             "value": "12.3"
            }
           },
           "edges": [],
           "name": "F"
          }
         },
         {
          "attributes": {
           "signal_transform": {
            "func": "a*b + c"
           }
          },
          "inverted": "true",
          "target_node": {
           "attributes": {
            "signal": {
             "name": "The Signal",
             "value": "12.3"
            }
           },
           "edges": [],
           "name": "X"
          }
         }
        ],
        "name": "A"
       }
      },
      "text/plain": [
       "<IPython.core.display.JSON object>"
      ]
     },
     "execution_count": 7,
     "metadata": {
      "application/json": {
       "expanded": false,
       "root": "/measurement_chain"
      }
     },
     "output_type": "execute_result"
    }
   ],
   "source": [
    "buff = weldx.asdf.util.write_buffer(dict(measurement_chain=m))\n",
    "weldx.asdf.util.asdf_json_repr(buff, (\"measurement_chain\",))"
   ]
  },
  {
   "cell_type": "code",
   "execution_count": 8,
   "id": "continent-shower",
   "metadata": {},
   "outputs": [
    {
     "data": {
      "text/html": [
       "<style type=\"text/css\">pre { line-height: 125%; }\n",
       "td.linenos .normal { color: inherit; background-color: transparent; padding-left: 5px; padding-right: 5px; }\n",
       "span.linenos { color: inherit; background-color: transparent; padding-left: 5px; padding-right: 5px; }\n",
       "td.linenos .special { color: #000000; background-color: #ffffc0; padding-left: 5px; padding-right: 5px; }\n",
       "span.linenos.special { color: #000000; background-color: #ffffc0; padding-left: 5px; padding-right: 5px; }\n",
       ".highlight .hll { background-color: #ffffcc }\n",
       ".highlight { background: #f8f8f8; }\n",
       ".highlight .c { color: #408080; font-style: italic } /* Comment */\n",
       ".highlight .err { border: 1px solid #FF0000 } /* Error */\n",
       ".highlight .k { color: #008000; font-weight: bold } /* Keyword */\n",
       ".highlight .o { color: #666666 } /* Operator */\n",
       ".highlight .ch { color: #408080; font-style: italic } /* Comment.Hashbang */\n",
       ".highlight .cm { color: #408080; font-style: italic } /* Comment.Multiline */\n",
       ".highlight .cp { color: #BC7A00 } /* Comment.Preproc */\n",
       ".highlight .cpf { color: #408080; font-style: italic } /* Comment.PreprocFile */\n",
       ".highlight .c1 { color: #408080; font-style: italic } /* Comment.Single */\n",
       ".highlight .cs { color: #408080; font-style: italic } /* Comment.Special */\n",
       ".highlight .gd { color: #A00000 } /* Generic.Deleted */\n",
       ".highlight .ge { font-style: italic } /* Generic.Emph */\n",
       ".highlight .gr { color: #FF0000 } /* Generic.Error */\n",
       ".highlight .gh { color: #000080; font-weight: bold } /* Generic.Heading */\n",
       ".highlight .gi { color: #00A000 } /* Generic.Inserted */\n",
       ".highlight .go { color: #888888 } /* Generic.Output */\n",
       ".highlight .gp { color: #000080; font-weight: bold } /* Generic.Prompt */\n",
       ".highlight .gs { font-weight: bold } /* Generic.Strong */\n",
       ".highlight .gu { color: #800080; font-weight: bold } /* Generic.Subheading */\n",
       ".highlight .gt { color: #0044DD } /* Generic.Traceback */\n",
       ".highlight .kc { color: #008000; font-weight: bold } /* Keyword.Constant */\n",
       ".highlight .kd { color: #008000; font-weight: bold } /* Keyword.Declaration */\n",
       ".highlight .kn { color: #008000; font-weight: bold } /* Keyword.Namespace */\n",
       ".highlight .kp { color: #008000 } /* Keyword.Pseudo */\n",
       ".highlight .kr { color: #008000; font-weight: bold } /* Keyword.Reserved */\n",
       ".highlight .kt { color: #B00040 } /* Keyword.Type */\n",
       ".highlight .m { color: #666666 } /* Literal.Number */\n",
       ".highlight .s { color: #BA2121 } /* Literal.String */\n",
       ".highlight .na { color: #7D9029 } /* Name.Attribute */\n",
       ".highlight .nb { color: #008000 } /* Name.Builtin */\n",
       ".highlight .nc { color: #0000FF; font-weight: bold } /* Name.Class */\n",
       ".highlight .no { color: #880000 } /* Name.Constant */\n",
       ".highlight .nd { color: #AA22FF } /* Name.Decorator */\n",
       ".highlight .ni { color: #999999; font-weight: bold } /* Name.Entity */\n",
       ".highlight .ne { color: #D2413A; font-weight: bold } /* Name.Exception */\n",
       ".highlight .nf { color: #0000FF } /* Name.Function */\n",
       ".highlight .nl { color: #A0A000 } /* Name.Label */\n",
       ".highlight .nn { color: #0000FF; font-weight: bold } /* Name.Namespace */\n",
       ".highlight .nt { color: #008000; font-weight: bold } /* Name.Tag */\n",
       ".highlight .nv { color: #19177C } /* Name.Variable */\n",
       ".highlight .ow { color: #AA22FF; font-weight: bold } /* Operator.Word */\n",
       ".highlight .w { color: #bbbbbb } /* Text.Whitespace */\n",
       ".highlight .mb { color: #666666 } /* Literal.Number.Bin */\n",
       ".highlight .mf { color: #666666 } /* Literal.Number.Float */\n",
       ".highlight .mh { color: #666666 } /* Literal.Number.Hex */\n",
       ".highlight .mi { color: #666666 } /* Literal.Number.Integer */\n",
       ".highlight .mo { color: #666666 } /* Literal.Number.Oct */\n",
       ".highlight .sa { color: #BA2121 } /* Literal.String.Affix */\n",
       ".highlight .sb { color: #BA2121 } /* Literal.String.Backtick */\n",
       ".highlight .sc { color: #BA2121 } /* Literal.String.Char */\n",
       ".highlight .dl { color: #BA2121 } /* Literal.String.Delimiter */\n",
       ".highlight .sd { color: #BA2121; font-style: italic } /* Literal.String.Doc */\n",
       ".highlight .s2 { color: #BA2121 } /* Literal.String.Double */\n",
       ".highlight .se { color: #BB6622; font-weight: bold } /* Literal.String.Escape */\n",
       ".highlight .sh { color: #BA2121 } /* Literal.String.Heredoc */\n",
       ".highlight .si { color: #BB6688; font-weight: bold } /* Literal.String.Interpol */\n",
       ".highlight .sx { color: #008000 } /* Literal.String.Other */\n",
       ".highlight .sr { color: #BB6688 } /* Literal.String.Regex */\n",
       ".highlight .s1 { color: #BA2121 } /* Literal.String.Single */\n",
       ".highlight .ss { color: #19177C } /* Literal.String.Symbol */\n",
       ".highlight .bp { color: #008000 } /* Name.Builtin.Pseudo */\n",
       ".highlight .fm { color: #0000FF } /* Name.Function.Magic */\n",
       ".highlight .vc { color: #19177C } /* Name.Variable.Class */\n",
       ".highlight .vg { color: #19177C } /* Name.Variable.Global */\n",
       ".highlight .vi { color: #19177C } /* Name.Variable.Instance */\n",
       ".highlight .vm { color: #19177C } /* Name.Variable.Magic */\n",
       ".highlight .il { color: #666666 } /* Literal.Number.Integer.Long */</style><div class=\"highlight\"><pre><span></span><span class=\"c1\">#ASDF 1.0.0</span>\n",
       "<span class=\"c1\">#ASDF_STANDARD 1.5.0</span>\n",
       "<span class=\"nt\">%YAML</span> <span class=\"m\">1.1</span>\n",
       "<span class=\"nt\">%TAG</span> <span class=\"kt\">!</span> <span class=\"kt\">tag:stsci.edu:asdf/</span>\n",
       "<span class=\"nn\">---</span> <span class=\"kt\">!core/asdf-1.1.0</span>\n",
       "<span class=\"nt\">asdf_library</span><span class=\"p\">:</span> <span class=\"kt\">!core/software-1.0.0</span> <span class=\"p p-Indicator\">{</span><span class=\"nt\">author</span><span class=\"p\">:</span> <span class=\"nv\">Space Telescope Science Institute</span><span class=\"p p-Indicator\">,</span><span class=\"nt\"> homepage</span><span class=\"p\">:</span> <span class=\"s\">&#39;http://github.com/spacetelescope/asdf&#39;</span><span class=\"p p-Indicator\">,</span>\n",
       "<span class=\"nt\">  name</span><span class=\"p\">:</span> <span class=\"nv\">asdf</span><span class=\"p p-Indicator\">,</span><span class=\"nt\"> version</span><span class=\"p\">:</span> <span class=\"nv\">2.7.3</span><span class=\"p p-Indicator\">}</span>\n",
       "<span class=\"nt\">history</span><span class=\"p\">:</span>\n",
       "  <span class=\"nt\">extensions</span><span class=\"p\">:</span>\n",
       "  <span class=\"p p-Indicator\">-</span> <span class=\"kt\">!core/extension_metadata-1.0.0</span>\n",
       "    <span class=\"nt\">extension_class</span><span class=\"p\">:</span> <span class=\"l l-Scalar l-Scalar-Plain\">asdf.extension.BuiltinExtension</span>\n",
       "    <span class=\"nt\">software</span><span class=\"p\">:</span> <span class=\"kt\">!core/software-1.0.0</span> <span class=\"p p-Indicator\">{</span><span class=\"nt\">name</span><span class=\"p\">:</span> <span class=\"nv\">asdf</span><span class=\"p p-Indicator\">,</span><span class=\"nt\"> version</span><span class=\"p\">:</span> <span class=\"nv\">2.7.3</span><span class=\"p p-Indicator\">}</span>\n",
       "  <span class=\"p p-Indicator\">-</span> <span class=\"kt\">!core/extension_metadata-1.0.0</span>\n",
       "    <span class=\"nt\">extension_class</span><span class=\"p\">:</span> <span class=\"l l-Scalar l-Scalar-Plain\">weldx.asdf.extension.WeldxExtension</span>\n",
       "    <span class=\"nt\">software</span><span class=\"p\">:</span> <span class=\"kt\">!core/software-1.0.0</span> <span class=\"p p-Indicator\">{</span><span class=\"nt\">name</span><span class=\"p\">:</span> <span class=\"nv\">weldx</span><span class=\"p p-Indicator\">,</span><span class=\"nt\"> version</span><span class=\"p\">:</span> <span class=\"nv\">0.3.1</span><span class=\"p p-Indicator\">}</span>\n",
       "<span class=\"nt\">measurement_chain</span><span class=\"p\">:</span> <span class=\"kt\">!&lt;tag:weldx.bam.de:weldx/core/graph/measurement_chain-1.0.0&gt;</span>\n",
       "  <span class=\"nt\">root_node</span><span class=\"p\">:</span> <span class=\"kt\">!&lt;tag:weldx.bam.de:weldx/core/graph/node-1.0.0&gt;</span>\n",
       "    <span class=\"nt\">name</span><span class=\"p\">:</span> <span class=\"l l-Scalar l-Scalar-Plain\">A</span>\n",
       "    <span class=\"nt\">attributes</span><span class=\"p\">:</span>\n",
       "      <span class=\"nt\">signal</span><span class=\"p\">:</span> <span class=\"nl\">&amp;id001</span> <span class=\"kt\">!&lt;tag:weldx.bam.de:weldx/core/graph/signal-1.0.0&gt;</span> <span class=\"p p-Indicator\">{</span><span class=\"nt\">name</span><span class=\"p\">:</span> <span class=\"nv\">The</span>\n",
       "          <span class=\"nv\">Signal</span><span class=\"p p-Indicator\">,</span><span class=\"nt\"> value</span><span class=\"p\">:</span> <span class=\"nv\">12.3</span><span class=\"p p-Indicator\">}</span>\n",
       "    <span class=\"nt\">edges</span><span class=\"p\">:</span>\n",
       "    <span class=\"p p-Indicator\">-</span> <span class=\"kt\">!&lt;tag:weldx.bam.de:weldx/core/graph/edge-1.0.0&gt;</span>\n",
       "      <span class=\"nt\">attributes</span><span class=\"p\">:</span>\n",
       "        <span class=\"nt\">signal_transform</span><span class=\"p\">:</span> <span class=\"nl\">&amp;id002</span> <span class=\"kt\">!&lt;tag:weldx.bam.de:weldx/core/graph/signal_transform-1.0.0&gt;</span> <span class=\"p p-Indicator\">{</span>\n",
       "<span class=\"nt\">          func</span><span class=\"p\">:</span> <span class=\"nv\">a*b + c</span><span class=\"p p-Indicator\">}</span>\n",
       "      <span class=\"nt\">target_node</span><span class=\"p\">:</span> <span class=\"kt\">!&lt;tag:weldx.bam.de:weldx/core/graph/node-1.0.0&gt;</span>\n",
       "        <span class=\"nt\">name</span><span class=\"p\">:</span> <span class=\"l l-Scalar l-Scalar-Plain\">B</span>\n",
       "        <span class=\"nt\">attributes</span><span class=\"p\">:</span>\n",
       "          <span class=\"nt\">signal</span><span class=\"p\">:</span> <span class=\"nv\">*id001</span>\n",
       "        <span class=\"nt\">edges</span><span class=\"p\">:</span>\n",
       "        <span class=\"p p-Indicator\">-</span> <span class=\"kt\">!&lt;tag:weldx.bam.de:weldx/core/graph/edge-1.0.0&gt;</span>\n",
       "          <span class=\"nt\">attributes</span><span class=\"p\">:</span>\n",
       "            <span class=\"nt\">signal_transform</span><span class=\"p\">:</span> <span class=\"nv\">*id002</span>\n",
       "          <span class=\"nt\">target_node</span><span class=\"p\">:</span> <span class=\"kt\">!&lt;tag:weldx.bam.de:weldx/core/graph/node-1.0.0&gt;</span>\n",
       "            <span class=\"nt\">name</span><span class=\"p\">:</span> <span class=\"l l-Scalar l-Scalar-Plain\">H</span>\n",
       "            <span class=\"nt\">attributes</span><span class=\"p\">:</span>\n",
       "              <span class=\"nt\">signal</span><span class=\"p\">:</span> <span class=\"nv\">*id001</span>\n",
       "            <span class=\"nt\">edges</span><span class=\"p\">:</span> <span class=\"p p-Indicator\">[]</span>\n",
       "    <span class=\"p p-Indicator\">-</span> <span class=\"kt\">!&lt;tag:weldx.bam.de:weldx/core/graph/edge-1.0.0&gt;</span>\n",
       "      <span class=\"nt\">attributes</span><span class=\"p\">:</span>\n",
       "        <span class=\"nt\">signal_transform</span><span class=\"p\">:</span> <span class=\"nv\">*id002</span>\n",
       "      <span class=\"nt\">target_node</span><span class=\"p\">:</span> <span class=\"kt\">!&lt;tag:weldx.bam.de:weldx/core/graph/node-1.0.0&gt;</span>\n",
       "        <span class=\"nt\">name</span><span class=\"p\">:</span> <span class=\"l l-Scalar l-Scalar-Plain\">C</span>\n",
       "        <span class=\"nt\">attributes</span><span class=\"p\">:</span>\n",
       "          <span class=\"nt\">signal</span><span class=\"p\">:</span> <span class=\"nv\">*id001</span>\n",
       "        <span class=\"nt\">edges</span><span class=\"p\">:</span>\n",
       "        <span class=\"p p-Indicator\">-</span> <span class=\"kt\">!&lt;tag:weldx.bam.de:weldx/core/graph/edge-1.0.0&gt;</span>\n",
       "          <span class=\"nt\">inverted</span><span class=\"p\">:</span> <span class=\"l l-Scalar l-Scalar-Plain\">true</span>\n",
       "          <span class=\"nt\">attributes</span><span class=\"p\">:</span>\n",
       "            <span class=\"nt\">signal_transform</span><span class=\"p\">:</span> <span class=\"nv\">*id002</span>\n",
       "          <span class=\"nt\">target_node</span><span class=\"p\">:</span> <span class=\"kt\">!&lt;tag:weldx.bam.de:weldx/core/graph/node-1.0.0&gt;</span>\n",
       "            <span class=\"nt\">name</span><span class=\"p\">:</span> <span class=\"l l-Scalar l-Scalar-Plain\">D</span>\n",
       "            <span class=\"nt\">attributes</span><span class=\"p\">:</span>\n",
       "              <span class=\"nt\">signal</span><span class=\"p\">:</span> <span class=\"nv\">*id001</span>\n",
       "            <span class=\"nt\">edges</span><span class=\"p\">:</span> <span class=\"p p-Indicator\">[]</span>\n",
       "    <span class=\"p p-Indicator\">-</span> <span class=\"kt\">!&lt;tag:weldx.bam.de:weldx/core/graph/edge-1.0.0&gt;</span>\n",
       "      <span class=\"nt\">attributes</span><span class=\"p\">:</span>\n",
       "        <span class=\"nt\">signal_transform</span><span class=\"p\">:</span> <span class=\"nv\">*id002</span>\n",
       "      <span class=\"nt\">target_node</span><span class=\"p\">:</span> <span class=\"kt\">!&lt;tag:weldx.bam.de:weldx/core/graph/node-1.0.0&gt;</span>\n",
       "        <span class=\"nt\">name</span><span class=\"p\">:</span> <span class=\"l l-Scalar l-Scalar-Plain\">F</span>\n",
       "        <span class=\"nt\">attributes</span><span class=\"p\">:</span>\n",
       "          <span class=\"nt\">signal</span><span class=\"p\">:</span> <span class=\"nv\">*id001</span>\n",
       "        <span class=\"nt\">edges</span><span class=\"p\">:</span> <span class=\"p p-Indicator\">[]</span>\n",
       "    <span class=\"p p-Indicator\">-</span> <span class=\"kt\">!&lt;tag:weldx.bam.de:weldx/core/graph/edge-1.0.0&gt;</span>\n",
       "      <span class=\"nt\">inverted</span><span class=\"p\">:</span> <span class=\"l l-Scalar l-Scalar-Plain\">true</span>\n",
       "      <span class=\"nt\">attributes</span><span class=\"p\">:</span>\n",
       "        <span class=\"nt\">signal_transform</span><span class=\"p\">:</span> <span class=\"nv\">*id002</span>\n",
       "      <span class=\"nt\">target_node</span><span class=\"p\">:</span> <span class=\"kt\">!&lt;tag:weldx.bam.de:weldx/core/graph/node-1.0.0&gt;</span>\n",
       "        <span class=\"nt\">name</span><span class=\"p\">:</span> <span class=\"l l-Scalar l-Scalar-Plain\">X</span>\n",
       "        <span class=\"nt\">attributes</span><span class=\"p\">:</span>\n",
       "          <span class=\"nt\">signal</span><span class=\"p\">:</span> <span class=\"nv\">*id001</span>\n",
       "        <span class=\"nt\">edges</span><span class=\"p\">:</span> <span class=\"p p-Indicator\">[]</span>\n",
       "<span class=\"nn\">...</span>\n",
       "</pre></div>\n"
      ],
      "text/plain": [
       "<IPython.core.display.HTML object>"
      ]
     },
     "execution_count": 8,
     "metadata": {},
     "output_type": "execute_result"
    }
   ],
   "source": [
    "weldx.asdf.util.notebook_fileprinter(buff)"
   ]
  },
  {
   "cell_type": "code",
   "execution_count": 9,
   "id": "quarterly-logging",
   "metadata": {},
   "outputs": [],
   "source": [
    "tree = weldx.asdf.util.read_buffer(buff)"
   ]
  },
  {
   "cell_type": "code",
   "execution_count": 10,
   "id": "jewish-grill",
   "metadata": {},
   "outputs": [
    {
     "data": {
      "image/png": "[encoded data removed]",
      "text/plain": [
       "<Figure size 432x288 with 1 Axes>"
      ]
     },
     "metadata": {},
     "output_type": "display_data"
    }
   ],
   "source": [
    "G2 = tree[\"measurement_chain\"].graph\n",
    "nx.draw(G2, with_labels=True)"
   ]
  },
  {
   "cell_type": "code",
   "execution_count": 11,
   "id": "developmental-symposium",
   "metadata": {},
   "outputs": [],
   "source": [
    "assert sorted(G2.edges) == sorted(G.edges)\n",
    "assert sorted(G2.nodes) == sorted(G.nodes)"
   ]
  },
  {
   "cell_type": "code",
   "execution_count": 12,
   "id": "closing-sensitivity",
   "metadata": {},
   "outputs": [],
   "source": [
    "for node in G:\n",
    "    assert G.nodes[node] == G2.nodes[node]"
   ]
  },
  {
   "cell_type": "code",
   "execution_count": 13,
   "id": "broken-lightweight",
   "metadata": {},
   "outputs": [],
   "source": [
    "for edge in G.edges:\n",
    "    assert G.edges[edge] == G2.edges[edge]"
   ]
  }
 ],
 "metadata": {
  "kernelspec": {
   "display_name": "weldx",
   "language": "python",
   "name": "weldx"
  },
  "language_info": {
   "codemirror_mode": {
    "name": "ipython",
    "version": 3
   },
   "file_extension": ".py",
   "mimetype": "text/x-python",
   "name": "python",
   "nbconvert_exporter": "python",
   "pygments_lexer": "ipython3",
   "version": "3.9.2"
  }
 },
 "nbformat": 4,
 "nbformat_minor": 5
}
