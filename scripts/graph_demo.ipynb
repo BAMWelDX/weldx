{
 "cells": [
  {
   "cell_type": "markdown",
   "id": "attempted-region",
   "metadata": {},
   "source": [
    "# Graph"
   ]
  },
  {
   "cell_type": "code",
   "execution_count": null,
   "id": "unavailable-tribe",
   "metadata": {},
   "outputs": [],
   "source": [
    "%cd -q .."
   ]
  },
  {
   "cell_type": "code",
   "execution_count": null,
   "id": "beneficial-manual",
   "metadata": {},
   "outputs": [],
   "source": [
    "%load_ext autoreload\n",
    "%autoreload 2"
   ]
  },
  {
   "cell_type": "code",
   "execution_count": null,
   "id": "thick-republican",
   "metadata": {},
   "outputs": [],
   "source": [
    "import uuid\n",
    "\n",
    "import networkx as nx\n",
    "import weldx\n",
    "from weldx.asdf.tags.weldx.core.graph import (\n",
    "    MeasurementChain,\n",
    "    SignalClass,\n",
    "    SignalTransform,\n",
    ")"
   ]
  },
  {
   "cell_type": "markdown",
   "id": "identical-southeast",
   "metadata": {},
   "source": [
    "## Minimal example"
   ]
  },
  {
   "cell_type": "code",
   "execution_count": null,
   "id": "boring-techno",
   "metadata": {},
   "outputs": [],
   "source": [
    "# minimal example\n",
    "G = nx.DiGraph()\n",
    "G.add_nodes_from((\"A\", \"B\", \"C\"))\n",
    "G.add_edges_from([(\"A\", \"B\"), (\"C\", \"B\")])\n",
    "buff = weldx.asdf.util.write_buffer(dict(graph=G))\n",
    "weldx.asdf.util.notebook_fileprinter(buff)"
   ]
  },
  {
   "cell_type": "markdown",
   "id": "dietary-calculator",
   "metadata": {},
   "source": [
    "## cycle example"
   ]
  },
  {
   "cell_type": "code",
   "execution_count": null,
   "id": "rocky-discharge",
   "metadata": {},
   "outputs": [],
   "source": [
    "# minimal example\n",
    "G = nx.DiGraph()\n",
    "G.add_nodes_from((\"A\", \"B\", \"C\", \"D\"))\n",
    "G.add_edges_from([(\"B\", \"C\"), (\"B\", \"A\"), (\"C\", \"D\"), (\"D\", \"B\")])\n",
    "buff = weldx.asdf.util.write_buffer(dict(graph=G))\n",
    "nx.draw(G, with_labels=True)\n",
    "weldx.asdf.util.notebook_fileprinter(buff)"
   ]
  },
  {
   "cell_type": "markdown",
   "id": "hollywood-terminal",
   "metadata": {},
   "source": [
    "### complex example"
   ]
  },
  {
   "cell_type": "code",
   "execution_count": null,
   "id": "nasty-genetics",
   "metadata": {},
   "outputs": [],
   "source": [
    "rid = uuid.uuid4()\n",
    "\n",
    "G = nx.DiGraph()\n",
    "G.add_edges_from(\n",
    "    [(\"A\", \"B\"), (\"A\", \"C\"), (\"A\", \"F\"), (\"D\", \"C\"), (\"B\", \"H\"), (\"X\", \"A\"), (rid, \"D\")]\n",
    ")\n",
    "nx.draw(G, with_labels=True)\n",
    "buff = weldx.asdf.util.write_buffer(dict(graph=G))\n",
    "weldx.asdf.util.asdf_json_repr(buff, (\"graph\",))"
   ]
  },
  {
   "cell_type": "markdown",
   "id": "accomplished-breast",
   "metadata": {},
   "source": [
    "## Measurement Example"
   ]
  },
  {
   "cell_type": "code",
   "execution_count": null,
   "id": "soviet-source",
   "metadata": {},
   "outputs": [],
   "source": [
    "rid = uuid.uuid4()\n",
    "\n",
    "G = nx.DiGraph()\n",
    "G.add_edges_from([(\"A\", \"B\"), (\"B\", \"C\"), (\"C\", \"D\")])\n",
    "nx.draw(G, with_labels=True)"
   ]
  },
  {
   "cell_type": "code",
   "execution_count": null,
   "id": "separate-passenger",
   "metadata": {},
   "outputs": [],
   "source": [
    "signal = SignalClass(\"The Signal\", 12.3)\n",
    "nx.set_node_attributes(G, signal, \"signal\")"
   ]
  },
  {
   "cell_type": "code",
   "execution_count": null,
   "id": "banner-nicaragua",
   "metadata": {},
   "outputs": [],
   "source": [
    "signal_transform = SignalTransform(func=\"a*b + c\")\n",
    "nx.set_edge_attributes(G, signal_transform, \"signal_transform\")"
   ]
  },
  {
   "cell_type": "code",
   "execution_count": null,
   "id": "alleged-armenia",
   "metadata": {},
   "outputs": [],
   "source": [
    "m = MeasurementChain(graph=G)"
   ]
  },
  {
   "cell_type": "code",
   "execution_count": null,
   "id": "suitable-double",
   "metadata": {},
   "outputs": [],
   "source": [
    "buff = weldx.asdf.util.write_buffer(dict(measurement_chain=m))\n",
    "weldx.asdf.util.asdf_json_repr(buff, (\"measurement_chain\",))"
   ]
  },
  {
   "cell_type": "code",
   "execution_count": null,
   "id": "concerned-mouth",
   "metadata": {},
   "outputs": [],
   "source": [
    "weldx.asdf.util.notebook_fileprinter(buff)"
   ]
  },
  {
   "cell_type": "code",
   "execution_count": null,
   "id": "median-spring",
   "metadata": {},
   "outputs": [],
   "source": [
    "tree = weldx.asdf.util.read_buffer(buff)"
   ]
  },
  {
   "cell_type": "code",
   "execution_count": null,
   "id": "considered-corrections",
   "metadata": {},
   "outputs": [],
   "source": [
    "assert all([e in G.edges for e in G2.edges])\n",
    "assert all([n in G.nodes for n in G2.nodes])"
   ]
  },
  {
   "cell_type": "code",
   "execution_count": null,
   "id": "minute-phase",
   "metadata": {},
   "outputs": [],
   "source": [
    "for node in G:\n",
    "    assert G.nodes[node] == G2.nodes[node]"
   ]
  },
  {
   "cell_type": "code",
   "execution_count": null,
   "id": "official-cricket",
   "metadata": {},
   "outputs": [],
   "source": [
    "for edge in G.edges:\n",
    "    assert G.edges[edge] == G2.edges[edge]"
   ]
  }
 ],
 "metadata": {
  "kernelspec": {
   "display_name": "weldx (3.8)",
   "language": "python",
   "name": "weldx"
  },
  "language_info": {
   "codemirror_mode": {
    "name": "ipython",
    "version": 3
   },
   "file_extension": ".py",
   "mimetype": "text/x-python",
   "name": "python",
   "nbconvert_exporter": "python",
   "pygments_lexer": "ipython3",
   "version": "3.8.8"
  }
 },
 "nbformat": 4,
 "nbformat_minor": 5
}
