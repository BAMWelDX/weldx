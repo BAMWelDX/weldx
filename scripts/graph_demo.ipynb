{
 "cells": [
  {
   "cell_type": "markdown",
   "id": "developmental-thailand",
   "metadata": {},
   "source": [
    "# Graph"
   ]
  },
  {
   "cell_type": "code",
   "execution_count": null,
   "id": "framed-manhattan",
   "metadata": {},
   "outputs": [],
   "source": [
    "%cd -q .."
   ]
  },
  {
   "cell_type": "code",
   "execution_count": null,
   "id": "similar-bridges",
   "metadata": {},
   "outputs": [],
   "source": [
    "import weldx\n",
    "import networkx as nx"
   ]
  },
  {
   "cell_type": "code",
   "execution_count": null,
   "id": "handled-entity",
   "metadata": {},
   "outputs": [],
   "source": [
    "G = nx.DiGraph()\n",
    "G.add_edges_from([('A', 'B'), ('A', 'C'), ('A', 'F'), ('D', 'C'), ('B', 'H'), ('X', 'A')])\n",
    "nx.draw(G, with_labels=True)"
   ]
  },
  {
   "cell_type": "code",
   "execution_count": null,
   "id": "retained-chambers",
   "metadata": {},
   "outputs": [],
   "source": [
    "buff = weldx.asdf.util.write_buffer(dict(graph=G))\n",
    "weldx.asdf.util.asdf_json_repr(buff,(\"graph\",))"
   ]
  },
  {
   "cell_type": "code",
   "execution_count": null,
   "id": "underlying-brunei",
   "metadata": {},
   "outputs": [],
   "source": [
    "weldx.asdf.util.notebook_fileprinter(buff)"
   ]
  },
  {
   "cell_type": "code",
   "execution_count": null,
   "id": "selective-bankruptcy",
   "metadata": {},
   "outputs": [],
   "source": [
    "tree = weldx.asdf.util.read_buffer(buff)"
   ]
  },
  {
   "cell_type": "code",
   "execution_count": null,
   "id": "moderate-influence",
   "metadata": {},
   "outputs": [],
   "source": [
    "G2 = tree[\"graph\"]\n",
    "nx.draw(G2, with_labels=True)"
   ]
  },
  {
   "cell_type": "code",
   "execution_count": null,
   "id": "serial-therapist",
   "metadata": {},
   "outputs": [],
   "source": [
    "assert(G2.edges == G.edges)\n",
    "assert(G2.nodes == G.nodes)"
   ]
  },
  {
   "cell_type": "code",
   "execution_count": null,
   "id": "sharp-object",
   "metadata": {},
   "outputs": [],
   "source": []
  }
 ],
 "metadata": {
  "kernelspec": {
   "display_name": "weldx",
   "language": "python",
   "name": "weldx"
  },
  "language_info": {
   "codemirror_mode": {
    "name": "ipython",
    "version": 3
   },
   "file_extension": ".py",
   "mimetype": "text/x-python",
   "name": "python",
   "nbconvert_exporter": "python",
   "pygments_lexer": "ipython3",
   "version": "3.9.2"
  }
 },
 "nbformat": 4,
 "nbformat_minor": 5
}
