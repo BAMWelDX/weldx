{
 "cells": [
  {
   "cell_type": "markdown",
   "id": "paperback-briefs",
   "metadata": {},
   "source": [
    "# Graph"
   ]
  },
  {
   "cell_type": "code",
   "execution_count": null,
   "id": "amazing-munich",
   "metadata": {},
   "outputs": [],
   "source": [
    "%cd -q .."
   ]
  },
  {
   "cell_type": "code",
   "execution_count": null,
   "id": "daily-birth",
   "metadata": {},
   "outputs": [],
   "source": [
    "%load_ext autoreload\n",
    "%autoreload 2"
   ]
  },
  {
   "cell_type": "code",
   "execution_count": null,
   "id": "starting-third",
   "metadata": {},
   "outputs": [],
   "source": [
    "import uuid\n",
    "\n",
    "import networkx as nx\n",
    "import weldx\n",
    "from weldx.asdf.tags.weldx.core.graph import (\n",
    "    MeasurementChain,\n",
    "    SignalClass,\n",
    "    SignalTransform,\n",
    ")"
   ]
  },
  {
   "cell_type": "markdown",
   "id": "affecting-meter",
   "metadata": {},
   "source": [
    "## Minimal example"
   ]
  },
  {
   "cell_type": "code",
   "execution_count": null,
   "id": "impossible-mailing",
   "metadata": {},
   "outputs": [],
   "source": [
    "# minimal example\n",
    "G = nx.DiGraph()\n",
    "G.add_nodes_from((\"A\", \"B\", \"C\"))\n",
    "G.add_edges_from([(\"C\", \"B\"), (\"B\", \"A\")])\n",
    "buff = weldx.asdf.util.write_buffer(dict(graph=G))\n",
    "weldx.asdf.util.notebook_fileprinter(buff)"
   ]
  },
  {
   "cell_type": "markdown",
   "id": "derived-charlotte",
   "metadata": {},
   "source": [
    "## cycle example"
   ]
  },
  {
   "cell_type": "code",
   "execution_count": null,
   "id": "altered-demographic",
   "metadata": {},
   "outputs": [],
   "source": [
    "# minimal example\n",
    "G = nx.DiGraph()\n",
    "G.add_nodes_from((\"A\", \"B\", \"C\"))\n",
    "G.add_edges_from([(\"C\", \"B\"), (\"B\", \"A\"), (\"C\", \"A\")])\n",
    "buff = weldx.asdf.util.write_buffer(dict(graph=G))\n",
    "weldx.asdf.util.notebook_fileprinter(buff)"
   ]
  },
  {
   "cell_type": "markdown",
   "id": "durable-street",
   "metadata": {},
   "source": [
    "### complex example"
   ]
  },
  {
   "cell_type": "code",
   "execution_count": null,
   "id": "genetic-semiconductor",
   "metadata": {},
   "outputs": [],
   "source": [
    "rid = uuid.uuid4()\n",
    "\n",
    "G = nx.DiGraph()\n",
    "G.add_edges_from(\n",
    "    [(\"A\", \"B\"), (\"A\", \"C\"), (\"A\", \"F\"), (\"D\", \"C\"), (\"B\", \"H\"), (\"X\", \"A\"), (rid, \"D\")]\n",
    ")\n",
    "nx.draw(G, with_labels=True)\n",
    "buff = weldx.asdf.util.write_buffer(dict(graph=G))\n",
    "weldx.asdf.util.asdf_json_repr(buff, (\"graph\",))"
   ]
  },
  {
   "cell_type": "markdown",
   "id": "toxic-accent",
   "metadata": {},
   "source": [
    "## Measurement Example"
   ]
  },
  {
   "cell_type": "code",
   "execution_count": null,
   "id": "sustained-printing",
   "metadata": {},
   "outputs": [],
   "source": [
    "rid = uuid.uuid4()\n",
    "\n",
    "G = nx.DiGraph()\n",
    "G.add_edges_from([(\"A\", \"B\"), (\"B\", \"C\"), (\"C\", \"D\")])\n",
    "nx.draw(G, with_labels=True)"
   ]
  },
  {
   "cell_type": "code",
   "execution_count": null,
   "id": "communist-tunnel",
   "metadata": {},
   "outputs": [],
   "source": [
    "signal = SignalClass(\"The Signal\", 12.3)\n",
    "nx.set_node_attributes(G, signal, \"signal\")"
   ]
  },
  {
   "cell_type": "code",
   "execution_count": null,
   "id": "correct-nickel",
   "metadata": {},
   "outputs": [],
   "source": [
    "signal_transform = SignalTransform(func=\"a*b + c\")\n",
    "nx.set_edge_attributes(G, signal_transform, \"signal_transform\")"
   ]
  },
  {
   "cell_type": "code",
   "execution_count": null,
   "id": "angry-replacement",
   "metadata": {},
   "outputs": [],
   "source": [
    "m = MeasurementChain(graph=G)"
   ]
  },
  {
   "cell_type": "code",
   "execution_count": null,
   "id": "stylish-going",
   "metadata": {},
   "outputs": [],
   "source": [
    "buff = weldx.asdf.util.write_buffer(dict(measurement_chain=m))\n",
    "weldx.asdf.util.asdf_json_repr(buff, (\"measurement_chain\",))"
   ]
  },
  {
   "cell_type": "code",
   "execution_count": null,
   "id": "spatial-mentor",
   "metadata": {},
   "outputs": [],
   "source": [
    "weldx.asdf.util.notebook_fileprinter(buff)"
   ]
  },
  {
   "cell_type": "code",
   "execution_count": null,
   "id": "wooden-quantum",
   "metadata": {},
   "outputs": [],
   "source": [
    "tree = weldx.asdf.util.read_buffer(buff)"
   ]
  },
  {
   "cell_type": "code",
   "execution_count": null,
   "id": "requested-flight",
   "metadata": {},
   "outputs": [],
   "source": [
    "assert all([e in G.edges for e in G2.edges])\n",
    "assert all([n in G.nodes for n in G2.nodes])"
   ]
  },
  {
   "cell_type": "code",
   "execution_count": null,
   "id": "suffering-weekend",
   "metadata": {},
   "outputs": [],
   "source": [
    "for node in G:\n",
    "    assert G.nodes[node] == G2.nodes[node]"
   ]
  },
  {
   "cell_type": "code",
   "execution_count": null,
   "id": "quick-emission",
   "metadata": {},
   "outputs": [],
   "source": [
    "for edge in G.edges:\n",
    "    assert G.edges[edge] == G2.edges[edge]"
   ]
  }
 ],
 "metadata": {
  "kernelspec": {
   "display_name": "weldx (3.8)",
   "language": "python",
   "name": "weldx"
  },
  "language_info": {
   "codemirror_mode": {
    "name": "ipython",
    "version": 3
   },
   "file_extension": ".py",
   "mimetype": "text/x-python",
   "name": "python",
   "nbconvert_exporter": "python",
   "pygments_lexer": "ipython3",
   "version": "3.8.8"
  }
 },
 "nbformat": 4,
 "nbformat_minor": 5
}
