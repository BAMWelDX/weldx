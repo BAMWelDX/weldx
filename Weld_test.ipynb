{
 "cells": [
  {
   "cell_type": "code",
   "execution_count": 6,
   "metadata": {},
   "outputs": [],
   "source": [
    "import matplotlib.pyplot as plt\n",
    "from weldx import Q_\n",
    "from weldx.asdf.tags.weldx.core.groove import VGroove, UGroove\n",
    "from weldx.all_groove import groove_to_profile"
   ]
  },
  {
   "cell_type": "markdown",
   "metadata": {},
   "source": [
    "# Loading from Groove Classes\n",
    "\n",
    "Construct a Groove class with Pint Units. The Quantity must have the corresponding units, and the function converts the corresponding units into millimeters or rad."
   ]
  },
  {
   "cell_type": "code",
   "execution_count": 3,
   "metadata": {},
   "outputs": [],
   "source": [
    "# Values for the Single V Groove Butt Weld\n",
    "# in a dictionary\n",
    "t = Q_(0.009, \"meter\")\n",
    "alpha = Q_(40, \"deg\")\n",
    "b = Q_(0.2, \"centimeter\")\n",
    "c = Q_(1, \"millimeter\")\n",
    "v_naht = VGroove(t=t, alpha=alpha, b=b, c=c)"
   ]
  },
  {
   "cell_type": "markdown",
   "metadata": {},
   "source": [
    "Now insert the groove into the function to get a profile."
   ]
  },
  {
   "cell_type": "code",
   "execution_count": 4,
   "metadata": {},
   "outputs": [],
   "source": [
    "profile01 = groove_to_profile(v_naht)"
   ]
  },
  {
   "cell_type": "markdown",
   "metadata": {},
   "source": [
    "Rasterizing and plotting:"
   ]
  },
  {
   "cell_type": "code",
   "execution_count": 7,
   "metadata": {},
   "outputs": [
    {
     "data": {
      "text/plain": [
       "[<matplotlib.lines.Line2D at 0x7f9df12fc2d0>]"
      ]
     },
     "execution_count": 7,
     "metadata": {},
     "output_type": "execute_result"
    },
    {
     "data": {
      "image/png": "[encoded data removed]",
      "text/plain": [
       "<Figure size 432x288 with 1 Axes>"
      ]
     },
     "metadata": {
      "needs_background": "light"
     },
     "output_type": "display_data"
    }
   ],
   "source": [
    "profile01_data = profile01.rasterize(0.2)\n",
    "\n",
    "ax = plt.gca()\n",
    "ax.cla()\n",
    "ax.axis(\"equal\")\n",
    "# ax.axis([-7, +7, -1, 20])\n",
    "ax.grid(True)\n",
    "al = alpha.to(\"deg\").magnitude\n",
    "ax.set(\n",
    "    title=f\"single V Groove Butt Weld {al}° groove angle\",\n",
    "    xlabel=\"millimeter\",\n",
    "    ylabel=\"millimeter\",\n",
    ")\n",
    "\n",
    "plt.plot(profile01_data[0], profile01_data[1], \".\")"
   ]
  },
  {
   "cell_type": "markdown",
   "metadata": {},
   "source": [
    "Another example of a Single-V Groove Butt Weld with a 60° Groove Angle:"
   ]
  },
  {
   "cell_type": "code",
   "execution_count": null,
   "metadata": {},
   "outputs": [],
   "source": [
    "# Values for the Single V Groove Butt Weld\n",
    "# in a dictionary\n",
    "t = Quantity(0.009, \"meter\")\n",
    "alpha = Quantity(60, \"deg\")\n",
    "b = Quantity(0.2, \"centimeter\")\n",
    "c = Quantity(1, \"millimeter\")\n",
    "v_naht = VGroove(t=t, alpha=alpha, b=b, c=c)\n",
    "\n",
    "profile02 = groove_to_profile(v_naht)\n",
    "\n",
    "profile02_data = profile02.rasterize(0.2)\n",
    "\n",
    "ax = plt.gca()\n",
    "ax.cla()\n",
    "ax.axis(\"equal\")\n",
    "ax.grid(True)\n",
    "al = alpha.to(\"deg\").magnitude\n",
    "ax.set(\n",
    "    title=f\"single V Groove Butt Weld {al}° groove angle\",\n",
    "    xlabel=\"millimeter\",\n",
    "    ylabel=\"millimeter\",\n",
    ")\n",
    "\n",
    "plt.plot(profile02_data[0], profile02_data[1], \".\")"
   ]
  },
  {
   "cell_type": "markdown",
   "metadata": {},
   "source": [
    "An example of a Single-U Groove Butt Weld:"
   ]
  },
  {
   "cell_type": "code",
   "execution_count": null,
   "metadata": {},
   "outputs": [],
   "source": [
    "t = Quantity(15, \"millimeter\")\n",
    "beta = Quantity(9, \"deg\")\n",
    "R = Quantity(6, \"millimeter\")\n",
    "b = Quantity(3, \"millimeter\")\n",
    "c = Quantity(1, \"millimeter\")\n",
    "u_naht = UGroove(t=t, beta=beta, R=R, b=b, c=c)\n",
    "\n",
    "profile03 = grooveType(u_naht)\n",
    "\n",
    "profile03_data = profile03.rasterize(0.5)\n",
    "\n",
    "ax = plt.gca()\n",
    "ax.cla()\n",
    "ax.axis(\"equal\")\n",
    "ax.grid(True)\n",
    "be = beta.to(\"deg\").magnitude\n",
    "ax.set(\n",
    "    title=f\"single U Groove Butt Weld {be}° groove angle\",\n",
    "    xlabel=\"millimeter\",\n",
    "    ylabel=\"millimeter\",\n",
    ")\n",
    "\n",
    "plt.plot(profile03_data[0], profile03_data[1], \".\")"
   ]
  },
  {
   "cell_type": "code",
   "execution_count": null,
   "metadata": {},
   "outputs": [],
   "source": []
  }
 ],
 "metadata": {
  "kernelspec": {
   "display_name": "libo (stable)",
   "language": "python",
   "name": "libo_stable"
  },
  "language_info": {
   "codemirror_mode": {
    "name": "ipython",
    "version": 3
   },
   "file_extension": ".py",
   "mimetype": "text/x-python",
   "name": "python",
   "nbconvert_exporter": "python",
   "pygments_lexer": "ipython3",
   "version": "3.7.6"
  }
 },
 "nbformat": 4,
 "nbformat_minor": 4
}
